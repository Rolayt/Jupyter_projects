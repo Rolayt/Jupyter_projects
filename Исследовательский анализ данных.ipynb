{
 "cells": [
  {
   "cell_type": "markdown",
   "metadata": {
    "toc": true
   },
   "source": [
    "<h1>Содержание<span class=\"tocSkip\"></span></h1>\n",
    "<div class=\"toc\"><ul class=\"toc-item\"><li><span><a href=\"#Изучение-данных-из-файла\" data-toc-modified-id=\"Изучение-данных-из-файла-1\"><span class=\"toc-item-num\">1&nbsp;&nbsp;</span>Изучение данных из файла</a></span><ul class=\"toc-item\"><li><span><a href=\"#Вывод\" data-toc-modified-id=\"Вывод-1.1\"><span class=\"toc-item-num\">1.1&nbsp;&nbsp;</span>Вывод</a></span></li></ul></li><li><span><a href=\"#Предобработка-данных\" data-toc-modified-id=\"Предобработка-данных-2\"><span class=\"toc-item-num\">2&nbsp;&nbsp;</span>Предобработка данных</a></span></li><li><span><a href=\"#Расчёты-и-добавление-результатов-в-таблицу\" data-toc-modified-id=\"Расчёты-и-добавление-результатов-в-таблицу-3\"><span class=\"toc-item-num\">3&nbsp;&nbsp;</span>Расчёты и добавление результатов в таблицу</a></span></li><li><span><a href=\"#Исследовательский-анализ-данных\" data-toc-modified-id=\"Исследовательский-анализ-данных-4\"><span class=\"toc-item-num\">4&nbsp;&nbsp;</span>Исследовательский анализ данных</a></span></li><li><span><a href=\"#Общий-вывод\" data-toc-modified-id=\"Общий-вывод-5\"><span class=\"toc-item-num\">5&nbsp;&nbsp;</span>Общий вывод</a></span></li></ul></div>"
   ]
  },
  {
   "cell_type": "markdown",
   "metadata": {},
   "source": [
    "# Исследование объявлений по продаже квартир\n",
    "\n",
    "В вашем распоряжении данные сервиса Яндекс.Недвижимость — архив объявлений о продаже квартир в Санкт-Петербурге и соседних населённых пунктах за несколько лет. Нужно научиться определять рыночную стоимость объектов недвижимости. Ваша задача — установить параметры. Это позволит построить автоматизированную систему: она отследит аномалии и мошенническую деятельность. \n",
    "\n",
    "По каждой квартире на продажу доступны два вида данных. Первые вписаны пользователем, вторые получены автоматически на основе картографических данных. Например, расстояние до центра, аэропорта, ближайшего парка и водоёма. "
   ]
  },
  {
   "cell_type": "markdown",
   "metadata": {},
   "source": [
    "## Изучение данных из файла"
   ]
  },
  {
   "cell_type": "code",
   "execution_count": 1,
   "metadata": {},
   "outputs": [],
   "source": [
    "# первым делом, не думая, подключаем библиотеку для работы с графиками и сам pandas\n",
    "import pandas as pd\n",
    "import matplotlib.pyplot as plt"
   ]
  },
  {
   "cell_type": "code",
   "execution_count": 2,
   "metadata": {
    "scrolled": true
   },
   "outputs": [
    {
     "name": "stdout",
     "output_type": "stream",
     "text": [
      "<class 'pandas.core.frame.DataFrame'>\n",
      "RangeIndex: 23699 entries, 0 to 23698\n",
      "Data columns (total 22 columns):\n",
      "total_images            23699 non-null int64\n",
      "last_price              23699 non-null float64\n",
      "total_area              23699 non-null float64\n",
      "first_day_exposition    23699 non-null object\n",
      "rooms                   23699 non-null int64\n",
      "ceiling_height          14504 non-null float64\n",
      "floors_total            23613 non-null float64\n",
      "living_area             21796 non-null float64\n",
      "floor                   23699 non-null int64\n",
      "is_apartment            2775 non-null object\n",
      "studio                  23699 non-null bool\n",
      "open_plan               23699 non-null bool\n",
      "kitchen_area            21421 non-null float64\n",
      "balcony                 12180 non-null float64\n",
      "locality_name           23650 non-null object\n",
      "airports_nearest        18157 non-null float64\n",
      "cityCenters_nearest     18180 non-null float64\n",
      "parks_around3000        18181 non-null float64\n",
      "parks_nearest           8079 non-null float64\n",
      "ponds_around3000        18181 non-null float64\n",
      "ponds_nearest           9110 non-null float64\n",
      "days_exposition         20518 non-null float64\n",
      "dtypes: bool(2), float64(14), int64(3), object(3)\n",
      "memory usage: 3.7+ MB\n"
     ]
    }
   ],
   "source": [
    "data = pd.read_csv('/datasets/real_estate_data.csv', sep='\\t')\n",
    "pd.set_option('display.max_columns', 50) # все столбца показываем\n",
    "data.info()"
   ]
  },
  {
   "cell_type": "code",
   "execution_count": 3,
   "metadata": {},
   "outputs": [
    {
     "data": {
      "text/html": [
       "<div>\n",
       "<style scoped>\n",
       "    .dataframe tbody tr th:only-of-type {\n",
       "        vertical-align: middle;\n",
       "    }\n",
       "\n",
       "    .dataframe tbody tr th {\n",
       "        vertical-align: top;\n",
       "    }\n",
       "\n",
       "    .dataframe thead th {\n",
       "        text-align: right;\n",
       "    }\n",
       "</style>\n",
       "<table border=\"1\" class=\"dataframe\">\n",
       "  <thead>\n",
       "    <tr style=\"text-align: right;\">\n",
       "      <th></th>\n",
       "      <th>total_images</th>\n",
       "      <th>last_price</th>\n",
       "      <th>total_area</th>\n",
       "      <th>first_day_exposition</th>\n",
       "      <th>rooms</th>\n",
       "      <th>ceiling_height</th>\n",
       "      <th>floors_total</th>\n",
       "      <th>living_area</th>\n",
       "      <th>floor</th>\n",
       "      <th>is_apartment</th>\n",
       "      <th>studio</th>\n",
       "      <th>open_plan</th>\n",
       "      <th>kitchen_area</th>\n",
       "      <th>balcony</th>\n",
       "      <th>locality_name</th>\n",
       "      <th>airports_nearest</th>\n",
       "      <th>cityCenters_nearest</th>\n",
       "      <th>parks_around3000</th>\n",
       "      <th>parks_nearest</th>\n",
       "      <th>ponds_around3000</th>\n",
       "      <th>ponds_nearest</th>\n",
       "      <th>days_exposition</th>\n",
       "    </tr>\n",
       "  </thead>\n",
       "  <tbody>\n",
       "    <tr>\n",
       "      <td>0</td>\n",
       "      <td>20</td>\n",
       "      <td>13000000.0</td>\n",
       "      <td>108.00</td>\n",
       "      <td>2019-03-07T00:00:00</td>\n",
       "      <td>3</td>\n",
       "      <td>2.70</td>\n",
       "      <td>16.0</td>\n",
       "      <td>51.00</td>\n",
       "      <td>8</td>\n",
       "      <td>NaN</td>\n",
       "      <td>False</td>\n",
       "      <td>False</td>\n",
       "      <td>25.00</td>\n",
       "      <td>NaN</td>\n",
       "      <td>Санкт-Петербург</td>\n",
       "      <td>18863.0</td>\n",
       "      <td>16028.0</td>\n",
       "      <td>1.0</td>\n",
       "      <td>482.0</td>\n",
       "      <td>2.0</td>\n",
       "      <td>755.0</td>\n",
       "      <td>NaN</td>\n",
       "    </tr>\n",
       "    <tr>\n",
       "      <td>1</td>\n",
       "      <td>7</td>\n",
       "      <td>3350000.0</td>\n",
       "      <td>40.40</td>\n",
       "      <td>2018-12-04T00:00:00</td>\n",
       "      <td>1</td>\n",
       "      <td>NaN</td>\n",
       "      <td>11.0</td>\n",
       "      <td>18.60</td>\n",
       "      <td>1</td>\n",
       "      <td>NaN</td>\n",
       "      <td>False</td>\n",
       "      <td>False</td>\n",
       "      <td>11.00</td>\n",
       "      <td>2.0</td>\n",
       "      <td>посёлок Шушары</td>\n",
       "      <td>12817.0</td>\n",
       "      <td>18603.0</td>\n",
       "      <td>0.0</td>\n",
       "      <td>NaN</td>\n",
       "      <td>0.0</td>\n",
       "      <td>NaN</td>\n",
       "      <td>81.0</td>\n",
       "    </tr>\n",
       "    <tr>\n",
       "      <td>2</td>\n",
       "      <td>10</td>\n",
       "      <td>5196000.0</td>\n",
       "      <td>56.00</td>\n",
       "      <td>2015-08-20T00:00:00</td>\n",
       "      <td>2</td>\n",
       "      <td>NaN</td>\n",
       "      <td>5.0</td>\n",
       "      <td>34.30</td>\n",
       "      <td>4</td>\n",
       "      <td>NaN</td>\n",
       "      <td>False</td>\n",
       "      <td>False</td>\n",
       "      <td>8.30</td>\n",
       "      <td>0.0</td>\n",
       "      <td>Санкт-Петербург</td>\n",
       "      <td>21741.0</td>\n",
       "      <td>13933.0</td>\n",
       "      <td>1.0</td>\n",
       "      <td>90.0</td>\n",
       "      <td>2.0</td>\n",
       "      <td>574.0</td>\n",
       "      <td>558.0</td>\n",
       "    </tr>\n",
       "    <tr>\n",
       "      <td>3</td>\n",
       "      <td>0</td>\n",
       "      <td>64900000.0</td>\n",
       "      <td>159.00</td>\n",
       "      <td>2015-07-24T00:00:00</td>\n",
       "      <td>3</td>\n",
       "      <td>NaN</td>\n",
       "      <td>14.0</td>\n",
       "      <td>NaN</td>\n",
       "      <td>9</td>\n",
       "      <td>NaN</td>\n",
       "      <td>False</td>\n",
       "      <td>False</td>\n",
       "      <td>NaN</td>\n",
       "      <td>0.0</td>\n",
       "      <td>Санкт-Петербург</td>\n",
       "      <td>28098.0</td>\n",
       "      <td>6800.0</td>\n",
       "      <td>2.0</td>\n",
       "      <td>84.0</td>\n",
       "      <td>3.0</td>\n",
       "      <td>234.0</td>\n",
       "      <td>424.0</td>\n",
       "    </tr>\n",
       "    <tr>\n",
       "      <td>4</td>\n",
       "      <td>2</td>\n",
       "      <td>10000000.0</td>\n",
       "      <td>100.00</td>\n",
       "      <td>2018-06-19T00:00:00</td>\n",
       "      <td>2</td>\n",
       "      <td>3.03</td>\n",
       "      <td>14.0</td>\n",
       "      <td>32.00</td>\n",
       "      <td>13</td>\n",
       "      <td>NaN</td>\n",
       "      <td>False</td>\n",
       "      <td>False</td>\n",
       "      <td>41.00</td>\n",
       "      <td>NaN</td>\n",
       "      <td>Санкт-Петербург</td>\n",
       "      <td>31856.0</td>\n",
       "      <td>8098.0</td>\n",
       "      <td>2.0</td>\n",
       "      <td>112.0</td>\n",
       "      <td>1.0</td>\n",
       "      <td>48.0</td>\n",
       "      <td>121.0</td>\n",
       "    </tr>\n",
       "    <tr>\n",
       "      <td>5</td>\n",
       "      <td>10</td>\n",
       "      <td>2890000.0</td>\n",
       "      <td>30.40</td>\n",
       "      <td>2018-09-10T00:00:00</td>\n",
       "      <td>1</td>\n",
       "      <td>NaN</td>\n",
       "      <td>12.0</td>\n",
       "      <td>14.40</td>\n",
       "      <td>5</td>\n",
       "      <td>NaN</td>\n",
       "      <td>False</td>\n",
       "      <td>False</td>\n",
       "      <td>9.10</td>\n",
       "      <td>NaN</td>\n",
       "      <td>городской посёлок Янино-1</td>\n",
       "      <td>NaN</td>\n",
       "      <td>NaN</td>\n",
       "      <td>NaN</td>\n",
       "      <td>NaN</td>\n",
       "      <td>NaN</td>\n",
       "      <td>NaN</td>\n",
       "      <td>55.0</td>\n",
       "    </tr>\n",
       "    <tr>\n",
       "      <td>6</td>\n",
       "      <td>6</td>\n",
       "      <td>3700000.0</td>\n",
       "      <td>37.30</td>\n",
       "      <td>2017-11-02T00:00:00</td>\n",
       "      <td>1</td>\n",
       "      <td>NaN</td>\n",
       "      <td>26.0</td>\n",
       "      <td>10.60</td>\n",
       "      <td>6</td>\n",
       "      <td>NaN</td>\n",
       "      <td>False</td>\n",
       "      <td>False</td>\n",
       "      <td>14.40</td>\n",
       "      <td>1.0</td>\n",
       "      <td>посёлок Парголово</td>\n",
       "      <td>52996.0</td>\n",
       "      <td>19143.0</td>\n",
       "      <td>0.0</td>\n",
       "      <td>NaN</td>\n",
       "      <td>0.0</td>\n",
       "      <td>NaN</td>\n",
       "      <td>155.0</td>\n",
       "    </tr>\n",
       "    <tr>\n",
       "      <td>7</td>\n",
       "      <td>5</td>\n",
       "      <td>7915000.0</td>\n",
       "      <td>71.60</td>\n",
       "      <td>2019-04-18T00:00:00</td>\n",
       "      <td>2</td>\n",
       "      <td>NaN</td>\n",
       "      <td>24.0</td>\n",
       "      <td>NaN</td>\n",
       "      <td>22</td>\n",
       "      <td>NaN</td>\n",
       "      <td>False</td>\n",
       "      <td>False</td>\n",
       "      <td>18.90</td>\n",
       "      <td>2.0</td>\n",
       "      <td>Санкт-Петербург</td>\n",
       "      <td>23982.0</td>\n",
       "      <td>11634.0</td>\n",
       "      <td>0.0</td>\n",
       "      <td>NaN</td>\n",
       "      <td>0.0</td>\n",
       "      <td>NaN</td>\n",
       "      <td>NaN</td>\n",
       "    </tr>\n",
       "    <tr>\n",
       "      <td>8</td>\n",
       "      <td>20</td>\n",
       "      <td>2900000.0</td>\n",
       "      <td>33.16</td>\n",
       "      <td>2018-05-23T00:00:00</td>\n",
       "      <td>1</td>\n",
       "      <td>NaN</td>\n",
       "      <td>27.0</td>\n",
       "      <td>15.43</td>\n",
       "      <td>26</td>\n",
       "      <td>NaN</td>\n",
       "      <td>False</td>\n",
       "      <td>False</td>\n",
       "      <td>8.81</td>\n",
       "      <td>NaN</td>\n",
       "      <td>посёлок Мурино</td>\n",
       "      <td>NaN</td>\n",
       "      <td>NaN</td>\n",
       "      <td>NaN</td>\n",
       "      <td>NaN</td>\n",
       "      <td>NaN</td>\n",
       "      <td>NaN</td>\n",
       "      <td>189.0</td>\n",
       "    </tr>\n",
       "    <tr>\n",
       "      <td>9</td>\n",
       "      <td>18</td>\n",
       "      <td>5400000.0</td>\n",
       "      <td>61.00</td>\n",
       "      <td>2017-02-26T00:00:00</td>\n",
       "      <td>3</td>\n",
       "      <td>2.50</td>\n",
       "      <td>9.0</td>\n",
       "      <td>43.60</td>\n",
       "      <td>7</td>\n",
       "      <td>NaN</td>\n",
       "      <td>False</td>\n",
       "      <td>False</td>\n",
       "      <td>6.50</td>\n",
       "      <td>2.0</td>\n",
       "      <td>Санкт-Петербург</td>\n",
       "      <td>50898.0</td>\n",
       "      <td>15008.0</td>\n",
       "      <td>0.0</td>\n",
       "      <td>NaN</td>\n",
       "      <td>0.0</td>\n",
       "      <td>NaN</td>\n",
       "      <td>289.0</td>\n",
       "    </tr>\n",
       "  </tbody>\n",
       "</table>\n",
       "</div>"
      ],
      "text/plain": [
       "   total_images  last_price  total_area first_day_exposition  rooms  \\\n",
       "0            20  13000000.0      108.00  2019-03-07T00:00:00      3   \n",
       "1             7   3350000.0       40.40  2018-12-04T00:00:00      1   \n",
       "2            10   5196000.0       56.00  2015-08-20T00:00:00      2   \n",
       "3             0  64900000.0      159.00  2015-07-24T00:00:00      3   \n",
       "4             2  10000000.0      100.00  2018-06-19T00:00:00      2   \n",
       "5            10   2890000.0       30.40  2018-09-10T00:00:00      1   \n",
       "6             6   3700000.0       37.30  2017-11-02T00:00:00      1   \n",
       "7             5   7915000.0       71.60  2019-04-18T00:00:00      2   \n",
       "8            20   2900000.0       33.16  2018-05-23T00:00:00      1   \n",
       "9            18   5400000.0       61.00  2017-02-26T00:00:00      3   \n",
       "\n",
       "   ceiling_height  floors_total  living_area  floor is_apartment  studio  \\\n",
       "0            2.70          16.0        51.00      8          NaN   False   \n",
       "1             NaN          11.0        18.60      1          NaN   False   \n",
       "2             NaN           5.0        34.30      4          NaN   False   \n",
       "3             NaN          14.0          NaN      9          NaN   False   \n",
       "4            3.03          14.0        32.00     13          NaN   False   \n",
       "5             NaN          12.0        14.40      5          NaN   False   \n",
       "6             NaN          26.0        10.60      6          NaN   False   \n",
       "7             NaN          24.0          NaN     22          NaN   False   \n",
       "8             NaN          27.0        15.43     26          NaN   False   \n",
       "9            2.50           9.0        43.60      7          NaN   False   \n",
       "\n",
       "   open_plan  kitchen_area  balcony              locality_name  \\\n",
       "0      False         25.00      NaN            Санкт-Петербург   \n",
       "1      False         11.00      2.0             посёлок Шушары   \n",
       "2      False          8.30      0.0            Санкт-Петербург   \n",
       "3      False           NaN      0.0            Санкт-Петербург   \n",
       "4      False         41.00      NaN            Санкт-Петербург   \n",
       "5      False          9.10      NaN  городской посёлок Янино-1   \n",
       "6      False         14.40      1.0          посёлок Парголово   \n",
       "7      False         18.90      2.0            Санкт-Петербург   \n",
       "8      False          8.81      NaN             посёлок Мурино   \n",
       "9      False          6.50      2.0            Санкт-Петербург   \n",
       "\n",
       "   airports_nearest  cityCenters_nearest  parks_around3000  parks_nearest  \\\n",
       "0           18863.0              16028.0               1.0          482.0   \n",
       "1           12817.0              18603.0               0.0            NaN   \n",
       "2           21741.0              13933.0               1.0           90.0   \n",
       "3           28098.0               6800.0               2.0           84.0   \n",
       "4           31856.0               8098.0               2.0          112.0   \n",
       "5               NaN                  NaN               NaN            NaN   \n",
       "6           52996.0              19143.0               0.0            NaN   \n",
       "7           23982.0              11634.0               0.0            NaN   \n",
       "8               NaN                  NaN               NaN            NaN   \n",
       "9           50898.0              15008.0               0.0            NaN   \n",
       "\n",
       "   ponds_around3000  ponds_nearest  days_exposition  \n",
       "0               2.0          755.0              NaN  \n",
       "1               0.0            NaN             81.0  \n",
       "2               2.0          574.0            558.0  \n",
       "3               3.0          234.0            424.0  \n",
       "4               1.0           48.0            121.0  \n",
       "5               NaN            NaN             55.0  \n",
       "6               0.0            NaN            155.0  \n",
       "7               0.0            NaN              NaN  \n",
       "8               NaN            NaN            189.0  \n",
       "9               0.0            NaN            289.0  "
      ]
     },
     "execution_count": 3,
     "metadata": {},
     "output_type": "execute_result"
    }
   ],
   "source": [
    "data.head(10)"
   ]
  },
  {
   "cell_type": "code",
   "execution_count": 4,
   "metadata": {},
   "outputs": [
    {
     "data": {
      "text/html": [
       "<div>\n",
       "<style scoped>\n",
       "    .dataframe tbody tr th:only-of-type {\n",
       "        vertical-align: middle;\n",
       "    }\n",
       "\n",
       "    .dataframe tbody tr th {\n",
       "        vertical-align: top;\n",
       "    }\n",
       "\n",
       "    .dataframe thead th {\n",
       "        text-align: right;\n",
       "    }\n",
       "</style>\n",
       "<table border=\"1\" class=\"dataframe\">\n",
       "  <thead>\n",
       "    <tr style=\"text-align: right;\">\n",
       "      <th></th>\n",
       "      <th>total_images</th>\n",
       "      <th>last_price</th>\n",
       "      <th>total_area</th>\n",
       "      <th>first_day_exposition</th>\n",
       "      <th>rooms</th>\n",
       "      <th>ceiling_height</th>\n",
       "      <th>floors_total</th>\n",
       "      <th>living_area</th>\n",
       "      <th>floor</th>\n",
       "      <th>is_apartment</th>\n",
       "      <th>studio</th>\n",
       "      <th>open_plan</th>\n",
       "      <th>kitchen_area</th>\n",
       "      <th>balcony</th>\n",
       "      <th>locality_name</th>\n",
       "      <th>airports_nearest</th>\n",
       "      <th>cityCenters_nearest</th>\n",
       "      <th>parks_around3000</th>\n",
       "      <th>parks_nearest</th>\n",
       "      <th>ponds_around3000</th>\n",
       "      <th>ponds_nearest</th>\n",
       "      <th>days_exposition</th>\n",
       "    </tr>\n",
       "  </thead>\n",
       "  <tbody>\n",
       "    <tr>\n",
       "      <td>23694</td>\n",
       "      <td>9</td>\n",
       "      <td>9700000.0</td>\n",
       "      <td>133.81</td>\n",
       "      <td>2017-03-21T00:00:00</td>\n",
       "      <td>3</td>\n",
       "      <td>3.7</td>\n",
       "      <td>5.0</td>\n",
       "      <td>73.3</td>\n",
       "      <td>3</td>\n",
       "      <td>NaN</td>\n",
       "      <td>False</td>\n",
       "      <td>False</td>\n",
       "      <td>13.83</td>\n",
       "      <td>NaN</td>\n",
       "      <td>Санкт-Петербург</td>\n",
       "      <td>24665.0</td>\n",
       "      <td>4232.0</td>\n",
       "      <td>1.0</td>\n",
       "      <td>796.0</td>\n",
       "      <td>3.0</td>\n",
       "      <td>381.0</td>\n",
       "      <td>NaN</td>\n",
       "    </tr>\n",
       "    <tr>\n",
       "      <td>23695</td>\n",
       "      <td>14</td>\n",
       "      <td>3100000.0</td>\n",
       "      <td>59.00</td>\n",
       "      <td>2018-01-15T00:00:00</td>\n",
       "      <td>3</td>\n",
       "      <td>NaN</td>\n",
       "      <td>5.0</td>\n",
       "      <td>38.0</td>\n",
       "      <td>4</td>\n",
       "      <td>NaN</td>\n",
       "      <td>False</td>\n",
       "      <td>False</td>\n",
       "      <td>8.50</td>\n",
       "      <td>NaN</td>\n",
       "      <td>Тосно</td>\n",
       "      <td>NaN</td>\n",
       "      <td>NaN</td>\n",
       "      <td>NaN</td>\n",
       "      <td>NaN</td>\n",
       "      <td>NaN</td>\n",
       "      <td>NaN</td>\n",
       "      <td>45.0</td>\n",
       "    </tr>\n",
       "    <tr>\n",
       "      <td>23696</td>\n",
       "      <td>18</td>\n",
       "      <td>2500000.0</td>\n",
       "      <td>56.70</td>\n",
       "      <td>2018-02-11T00:00:00</td>\n",
       "      <td>2</td>\n",
       "      <td>NaN</td>\n",
       "      <td>3.0</td>\n",
       "      <td>29.7</td>\n",
       "      <td>1</td>\n",
       "      <td>NaN</td>\n",
       "      <td>False</td>\n",
       "      <td>False</td>\n",
       "      <td>NaN</td>\n",
       "      <td>NaN</td>\n",
       "      <td>село Рождествено</td>\n",
       "      <td>NaN</td>\n",
       "      <td>NaN</td>\n",
       "      <td>NaN</td>\n",
       "      <td>NaN</td>\n",
       "      <td>NaN</td>\n",
       "      <td>NaN</td>\n",
       "      <td>NaN</td>\n",
       "    </tr>\n",
       "    <tr>\n",
       "      <td>23697</td>\n",
       "      <td>13</td>\n",
       "      <td>11475000.0</td>\n",
       "      <td>76.75</td>\n",
       "      <td>2017-03-28T00:00:00</td>\n",
       "      <td>2</td>\n",
       "      <td>3.0</td>\n",
       "      <td>17.0</td>\n",
       "      <td>NaN</td>\n",
       "      <td>12</td>\n",
       "      <td>NaN</td>\n",
       "      <td>False</td>\n",
       "      <td>False</td>\n",
       "      <td>23.30</td>\n",
       "      <td>2.0</td>\n",
       "      <td>Санкт-Петербург</td>\n",
       "      <td>39140.0</td>\n",
       "      <td>10364.0</td>\n",
       "      <td>2.0</td>\n",
       "      <td>173.0</td>\n",
       "      <td>3.0</td>\n",
       "      <td>196.0</td>\n",
       "      <td>602.0</td>\n",
       "    </tr>\n",
       "    <tr>\n",
       "      <td>23698</td>\n",
       "      <td>4</td>\n",
       "      <td>1350000.0</td>\n",
       "      <td>32.30</td>\n",
       "      <td>2017-07-21T00:00:00</td>\n",
       "      <td>1</td>\n",
       "      <td>2.5</td>\n",
       "      <td>5.0</td>\n",
       "      <td>12.3</td>\n",
       "      <td>1</td>\n",
       "      <td>NaN</td>\n",
       "      <td>False</td>\n",
       "      <td>False</td>\n",
       "      <td>9.00</td>\n",
       "      <td>NaN</td>\n",
       "      <td>поселок Новый Учхоз</td>\n",
       "      <td>NaN</td>\n",
       "      <td>NaN</td>\n",
       "      <td>NaN</td>\n",
       "      <td>NaN</td>\n",
       "      <td>NaN</td>\n",
       "      <td>NaN</td>\n",
       "      <td>NaN</td>\n",
       "    </tr>\n",
       "  </tbody>\n",
       "</table>\n",
       "</div>"
      ],
      "text/plain": [
       "       total_images  last_price  total_area first_day_exposition  rooms  \\\n",
       "23694             9   9700000.0      133.81  2017-03-21T00:00:00      3   \n",
       "23695            14   3100000.0       59.00  2018-01-15T00:00:00      3   \n",
       "23696            18   2500000.0       56.70  2018-02-11T00:00:00      2   \n",
       "23697            13  11475000.0       76.75  2017-03-28T00:00:00      2   \n",
       "23698             4   1350000.0       32.30  2017-07-21T00:00:00      1   \n",
       "\n",
       "       ceiling_height  floors_total  living_area  floor is_apartment  studio  \\\n",
       "23694             3.7           5.0         73.3      3          NaN   False   \n",
       "23695             NaN           5.0         38.0      4          NaN   False   \n",
       "23696             NaN           3.0         29.7      1          NaN   False   \n",
       "23697             3.0          17.0          NaN     12          NaN   False   \n",
       "23698             2.5           5.0         12.3      1          NaN   False   \n",
       "\n",
       "       open_plan  kitchen_area  balcony        locality_name  \\\n",
       "23694      False         13.83      NaN      Санкт-Петербург   \n",
       "23695      False          8.50      NaN                Тосно   \n",
       "23696      False           NaN      NaN     село Рождествено   \n",
       "23697      False         23.30      2.0      Санкт-Петербург   \n",
       "23698      False          9.00      NaN  поселок Новый Учхоз   \n",
       "\n",
       "       airports_nearest  cityCenters_nearest  parks_around3000  parks_nearest  \\\n",
       "23694           24665.0               4232.0               1.0          796.0   \n",
       "23695               NaN                  NaN               NaN            NaN   \n",
       "23696               NaN                  NaN               NaN            NaN   \n",
       "23697           39140.0              10364.0               2.0          173.0   \n",
       "23698               NaN                  NaN               NaN            NaN   \n",
       "\n",
       "       ponds_around3000  ponds_nearest  days_exposition  \n",
       "23694               3.0          381.0              NaN  \n",
       "23695               NaN            NaN             45.0  \n",
       "23696               NaN            NaN              NaN  \n",
       "23697               3.0          196.0            602.0  \n",
       "23698               NaN            NaN              NaN  "
      ]
     },
     "execution_count": 4,
     "metadata": {},
     "output_type": "execute_result"
    }
   ],
   "source": [
    "data.tail()"
   ]
  },
  {
   "cell_type": "code",
   "execution_count": 5,
   "metadata": {},
   "outputs": [
    {
     "data": {
      "text/html": [
       "<div>\n",
       "<style scoped>\n",
       "    .dataframe tbody tr th:only-of-type {\n",
       "        vertical-align: middle;\n",
       "    }\n",
       "\n",
       "    .dataframe tbody tr th {\n",
       "        vertical-align: top;\n",
       "    }\n",
       "\n",
       "    .dataframe thead th {\n",
       "        text-align: right;\n",
       "    }\n",
       "</style>\n",
       "<table border=\"1\" class=\"dataframe\">\n",
       "  <thead>\n",
       "    <tr style=\"text-align: right;\">\n",
       "      <th></th>\n",
       "      <th>count</th>\n",
       "      <th>mean</th>\n",
       "      <th>std</th>\n",
       "      <th>min</th>\n",
       "      <th>25%</th>\n",
       "      <th>50%</th>\n",
       "      <th>75%</th>\n",
       "      <th>max</th>\n",
       "    </tr>\n",
       "  </thead>\n",
       "  <tbody>\n",
       "    <tr>\n",
       "      <td>total_images</td>\n",
       "      <td>23699.0</td>\n",
       "      <td>9.858475e+00</td>\n",
       "      <td>5.682529e+00</td>\n",
       "      <td>0.0</td>\n",
       "      <td>6.00</td>\n",
       "      <td>9.00</td>\n",
       "      <td>14.0</td>\n",
       "      <td>50.0</td>\n",
       "    </tr>\n",
       "    <tr>\n",
       "      <td>last_price</td>\n",
       "      <td>23699.0</td>\n",
       "      <td>6.541549e+06</td>\n",
       "      <td>1.088701e+07</td>\n",
       "      <td>12190.0</td>\n",
       "      <td>3400000.00</td>\n",
       "      <td>4650000.00</td>\n",
       "      <td>6800000.0</td>\n",
       "      <td>763000000.0</td>\n",
       "    </tr>\n",
       "    <tr>\n",
       "      <td>total_area</td>\n",
       "      <td>23699.0</td>\n",
       "      <td>6.034865e+01</td>\n",
       "      <td>3.565408e+01</td>\n",
       "      <td>12.0</td>\n",
       "      <td>40.00</td>\n",
       "      <td>52.00</td>\n",
       "      <td>69.9</td>\n",
       "      <td>900.0</td>\n",
       "    </tr>\n",
       "    <tr>\n",
       "      <td>rooms</td>\n",
       "      <td>23699.0</td>\n",
       "      <td>2.070636e+00</td>\n",
       "      <td>1.078405e+00</td>\n",
       "      <td>0.0</td>\n",
       "      <td>1.00</td>\n",
       "      <td>2.00</td>\n",
       "      <td>3.0</td>\n",
       "      <td>19.0</td>\n",
       "    </tr>\n",
       "    <tr>\n",
       "      <td>ceiling_height</td>\n",
       "      <td>14504.0</td>\n",
       "      <td>2.771499e+00</td>\n",
       "      <td>1.261056e+00</td>\n",
       "      <td>1.0</td>\n",
       "      <td>2.52</td>\n",
       "      <td>2.65</td>\n",
       "      <td>2.8</td>\n",
       "      <td>100.0</td>\n",
       "    </tr>\n",
       "    <tr>\n",
       "      <td>floors_total</td>\n",
       "      <td>23613.0</td>\n",
       "      <td>1.067382e+01</td>\n",
       "      <td>6.597173e+00</td>\n",
       "      <td>1.0</td>\n",
       "      <td>5.00</td>\n",
       "      <td>9.00</td>\n",
       "      <td>16.0</td>\n",
       "      <td>60.0</td>\n",
       "    </tr>\n",
       "    <tr>\n",
       "      <td>living_area</td>\n",
       "      <td>21796.0</td>\n",
       "      <td>3.445785e+01</td>\n",
       "      <td>2.203045e+01</td>\n",
       "      <td>2.0</td>\n",
       "      <td>18.60</td>\n",
       "      <td>30.00</td>\n",
       "      <td>42.3</td>\n",
       "      <td>409.7</td>\n",
       "    </tr>\n",
       "    <tr>\n",
       "      <td>floor</td>\n",
       "      <td>23699.0</td>\n",
       "      <td>5.892358e+00</td>\n",
       "      <td>4.885249e+00</td>\n",
       "      <td>1.0</td>\n",
       "      <td>2.00</td>\n",
       "      <td>4.00</td>\n",
       "      <td>8.0</td>\n",
       "      <td>33.0</td>\n",
       "    </tr>\n",
       "    <tr>\n",
       "      <td>kitchen_area</td>\n",
       "      <td>21421.0</td>\n",
       "      <td>1.056981e+01</td>\n",
       "      <td>5.905438e+00</td>\n",
       "      <td>1.3</td>\n",
       "      <td>7.00</td>\n",
       "      <td>9.10</td>\n",
       "      <td>12.0</td>\n",
       "      <td>112.0</td>\n",
       "    </tr>\n",
       "    <tr>\n",
       "      <td>balcony</td>\n",
       "      <td>12180.0</td>\n",
       "      <td>1.150082e+00</td>\n",
       "      <td>1.071300e+00</td>\n",
       "      <td>0.0</td>\n",
       "      <td>0.00</td>\n",
       "      <td>1.00</td>\n",
       "      <td>2.0</td>\n",
       "      <td>5.0</td>\n",
       "    </tr>\n",
       "    <tr>\n",
       "      <td>airports_nearest</td>\n",
       "      <td>18157.0</td>\n",
       "      <td>2.879367e+04</td>\n",
       "      <td>1.263088e+04</td>\n",
       "      <td>0.0</td>\n",
       "      <td>18585.00</td>\n",
       "      <td>26726.00</td>\n",
       "      <td>37273.0</td>\n",
       "      <td>84869.0</td>\n",
       "    </tr>\n",
       "    <tr>\n",
       "      <td>cityCenters_nearest</td>\n",
       "      <td>18180.0</td>\n",
       "      <td>1.419128e+04</td>\n",
       "      <td>8.608386e+03</td>\n",
       "      <td>181.0</td>\n",
       "      <td>9238.00</td>\n",
       "      <td>13098.50</td>\n",
       "      <td>16293.0</td>\n",
       "      <td>65968.0</td>\n",
       "    </tr>\n",
       "    <tr>\n",
       "      <td>parks_around3000</td>\n",
       "      <td>18181.0</td>\n",
       "      <td>6.114075e-01</td>\n",
       "      <td>8.020736e-01</td>\n",
       "      <td>0.0</td>\n",
       "      <td>0.00</td>\n",
       "      <td>0.00</td>\n",
       "      <td>1.0</td>\n",
       "      <td>3.0</td>\n",
       "    </tr>\n",
       "    <tr>\n",
       "      <td>parks_nearest</td>\n",
       "      <td>8079.0</td>\n",
       "      <td>4.908046e+02</td>\n",
       "      <td>3.423180e+02</td>\n",
       "      <td>1.0</td>\n",
       "      <td>288.00</td>\n",
       "      <td>455.00</td>\n",
       "      <td>612.0</td>\n",
       "      <td>3190.0</td>\n",
       "    </tr>\n",
       "    <tr>\n",
       "      <td>ponds_around3000</td>\n",
       "      <td>18181.0</td>\n",
       "      <td>7.702547e-01</td>\n",
       "      <td>9.383456e-01</td>\n",
       "      <td>0.0</td>\n",
       "      <td>0.00</td>\n",
       "      <td>1.00</td>\n",
       "      <td>1.0</td>\n",
       "      <td>3.0</td>\n",
       "    </tr>\n",
       "    <tr>\n",
       "      <td>ponds_nearest</td>\n",
       "      <td>9110.0</td>\n",
       "      <td>5.179809e+02</td>\n",
       "      <td>2.777206e+02</td>\n",
       "      <td>13.0</td>\n",
       "      <td>294.00</td>\n",
       "      <td>502.00</td>\n",
       "      <td>729.0</td>\n",
       "      <td>1344.0</td>\n",
       "    </tr>\n",
       "    <tr>\n",
       "      <td>days_exposition</td>\n",
       "      <td>20518.0</td>\n",
       "      <td>1.808886e+02</td>\n",
       "      <td>2.197280e+02</td>\n",
       "      <td>1.0</td>\n",
       "      <td>45.00</td>\n",
       "      <td>95.00</td>\n",
       "      <td>232.0</td>\n",
       "      <td>1580.0</td>\n",
       "    </tr>\n",
       "  </tbody>\n",
       "</table>\n",
       "</div>"
      ],
      "text/plain": [
       "                       count          mean           std      min         25%  \\\n",
       "total_images         23699.0  9.858475e+00  5.682529e+00      0.0        6.00   \n",
       "last_price           23699.0  6.541549e+06  1.088701e+07  12190.0  3400000.00   \n",
       "total_area           23699.0  6.034865e+01  3.565408e+01     12.0       40.00   \n",
       "rooms                23699.0  2.070636e+00  1.078405e+00      0.0        1.00   \n",
       "ceiling_height       14504.0  2.771499e+00  1.261056e+00      1.0        2.52   \n",
       "floors_total         23613.0  1.067382e+01  6.597173e+00      1.0        5.00   \n",
       "living_area          21796.0  3.445785e+01  2.203045e+01      2.0       18.60   \n",
       "floor                23699.0  5.892358e+00  4.885249e+00      1.0        2.00   \n",
       "kitchen_area         21421.0  1.056981e+01  5.905438e+00      1.3        7.00   \n",
       "balcony              12180.0  1.150082e+00  1.071300e+00      0.0        0.00   \n",
       "airports_nearest     18157.0  2.879367e+04  1.263088e+04      0.0    18585.00   \n",
       "cityCenters_nearest  18180.0  1.419128e+04  8.608386e+03    181.0     9238.00   \n",
       "parks_around3000     18181.0  6.114075e-01  8.020736e-01      0.0        0.00   \n",
       "parks_nearest         8079.0  4.908046e+02  3.423180e+02      1.0      288.00   \n",
       "ponds_around3000     18181.0  7.702547e-01  9.383456e-01      0.0        0.00   \n",
       "ponds_nearest         9110.0  5.179809e+02  2.777206e+02     13.0      294.00   \n",
       "days_exposition      20518.0  1.808886e+02  2.197280e+02      1.0       45.00   \n",
       "\n",
       "                            50%        75%          max  \n",
       "total_images               9.00       14.0         50.0  \n",
       "last_price           4650000.00  6800000.0  763000000.0  \n",
       "total_area                52.00       69.9        900.0  \n",
       "rooms                      2.00        3.0         19.0  \n",
       "ceiling_height             2.65        2.8        100.0  \n",
       "floors_total               9.00       16.0         60.0  \n",
       "living_area               30.00       42.3        409.7  \n",
       "floor                      4.00        8.0         33.0  \n",
       "kitchen_area               9.10       12.0        112.0  \n",
       "balcony                    1.00        2.0          5.0  \n",
       "airports_nearest       26726.00    37273.0      84869.0  \n",
       "cityCenters_nearest    13098.50    16293.0      65968.0  \n",
       "parks_around3000           0.00        1.0          3.0  \n",
       "parks_nearest            455.00      612.0       3190.0  \n",
       "ponds_around3000           1.00        1.0          3.0  \n",
       "ponds_nearest            502.00      729.0       1344.0  \n",
       "days_exposition           95.00      232.0       1580.0  "
      ]
     },
     "execution_count": 5,
     "metadata": {},
     "output_type": "execute_result"
    }
   ],
   "source": [
    "data.describe().T"
   ]
  },
  {
   "cell_type": "markdown",
   "metadata": {},
   "source": [
    "### Вывод"
   ]
  },
  {
   "cell_type": "markdown",
   "metadata": {},
   "source": [
    "Итак, начинаем:)\n",
    "Тут у нас знакомство с данными. Я их открыл и поместил в переменную 'data'. При просмотре заметил, что данные какие то не красивые и указав в качестве разделителя знак табуляции \\t, я сделал их более читаемыми. При просмотре первых 10 строк сразу видно, что требуется предобработка(имеется много пропусков, поменял бы пару типов данных на другой).\n",
    "Начнем предобработку"
   ]
  },
  {
   "cell_type": "markdown",
   "metadata": {},
   "source": [
    "## Предобработка данных"
   ]
  },
  {
   "cell_type": "markdown",
   "metadata": {},
   "source": [
    "Начну предобработку со столбца 'last_price', изменю тип на int, а то как то в глаза бьет"
   ]
  },
  {
   "cell_type": "code",
   "execution_count": 6,
   "metadata": {},
   "outputs": [
    {
     "data": {
      "text/html": [
       "<div>\n",
       "<style scoped>\n",
       "    .dataframe tbody tr th:only-of-type {\n",
       "        vertical-align: middle;\n",
       "    }\n",
       "\n",
       "    .dataframe tbody tr th {\n",
       "        vertical-align: top;\n",
       "    }\n",
       "\n",
       "    .dataframe thead th {\n",
       "        text-align: right;\n",
       "    }\n",
       "</style>\n",
       "<table border=\"1\" class=\"dataframe\">\n",
       "  <thead>\n",
       "    <tr style=\"text-align: right;\">\n",
       "      <th></th>\n",
       "      <th>total_images</th>\n",
       "      <th>last_price</th>\n",
       "      <th>total_area</th>\n",
       "      <th>first_day_exposition</th>\n",
       "      <th>rooms</th>\n",
       "      <th>ceiling_height</th>\n",
       "      <th>floors_total</th>\n",
       "      <th>living_area</th>\n",
       "      <th>floor</th>\n",
       "      <th>is_apartment</th>\n",
       "      <th>studio</th>\n",
       "      <th>open_plan</th>\n",
       "      <th>kitchen_area</th>\n",
       "      <th>balcony</th>\n",
       "      <th>locality_name</th>\n",
       "      <th>airports_nearest</th>\n",
       "      <th>cityCenters_nearest</th>\n",
       "      <th>parks_around3000</th>\n",
       "      <th>parks_nearest</th>\n",
       "      <th>ponds_around3000</th>\n",
       "      <th>ponds_nearest</th>\n",
       "      <th>days_exposition</th>\n",
       "    </tr>\n",
       "  </thead>\n",
       "  <tbody>\n",
       "    <tr>\n",
       "      <td>0</td>\n",
       "      <td>20</td>\n",
       "      <td>13000000</td>\n",
       "      <td>108.0</td>\n",
       "      <td>2019-03-07T00:00:00</td>\n",
       "      <td>3</td>\n",
       "      <td>2.70</td>\n",
       "      <td>16.0</td>\n",
       "      <td>51.0</td>\n",
       "      <td>8</td>\n",
       "      <td>NaN</td>\n",
       "      <td>False</td>\n",
       "      <td>False</td>\n",
       "      <td>25.0</td>\n",
       "      <td>NaN</td>\n",
       "      <td>Санкт-Петербург</td>\n",
       "      <td>18863.0</td>\n",
       "      <td>16028.0</td>\n",
       "      <td>1.0</td>\n",
       "      <td>482.0</td>\n",
       "      <td>2.0</td>\n",
       "      <td>755.0</td>\n",
       "      <td>NaN</td>\n",
       "    </tr>\n",
       "    <tr>\n",
       "      <td>1</td>\n",
       "      <td>7</td>\n",
       "      <td>3350000</td>\n",
       "      <td>40.4</td>\n",
       "      <td>2018-12-04T00:00:00</td>\n",
       "      <td>1</td>\n",
       "      <td>NaN</td>\n",
       "      <td>11.0</td>\n",
       "      <td>18.6</td>\n",
       "      <td>1</td>\n",
       "      <td>NaN</td>\n",
       "      <td>False</td>\n",
       "      <td>False</td>\n",
       "      <td>11.0</td>\n",
       "      <td>2.0</td>\n",
       "      <td>посёлок Шушары</td>\n",
       "      <td>12817.0</td>\n",
       "      <td>18603.0</td>\n",
       "      <td>0.0</td>\n",
       "      <td>NaN</td>\n",
       "      <td>0.0</td>\n",
       "      <td>NaN</td>\n",
       "      <td>81.0</td>\n",
       "    </tr>\n",
       "    <tr>\n",
       "      <td>2</td>\n",
       "      <td>10</td>\n",
       "      <td>5196000</td>\n",
       "      <td>56.0</td>\n",
       "      <td>2015-08-20T00:00:00</td>\n",
       "      <td>2</td>\n",
       "      <td>NaN</td>\n",
       "      <td>5.0</td>\n",
       "      <td>34.3</td>\n",
       "      <td>4</td>\n",
       "      <td>NaN</td>\n",
       "      <td>False</td>\n",
       "      <td>False</td>\n",
       "      <td>8.3</td>\n",
       "      <td>0.0</td>\n",
       "      <td>Санкт-Петербург</td>\n",
       "      <td>21741.0</td>\n",
       "      <td>13933.0</td>\n",
       "      <td>1.0</td>\n",
       "      <td>90.0</td>\n",
       "      <td>2.0</td>\n",
       "      <td>574.0</td>\n",
       "      <td>558.0</td>\n",
       "    </tr>\n",
       "    <tr>\n",
       "      <td>3</td>\n",
       "      <td>0</td>\n",
       "      <td>64900000</td>\n",
       "      <td>159.0</td>\n",
       "      <td>2015-07-24T00:00:00</td>\n",
       "      <td>3</td>\n",
       "      <td>NaN</td>\n",
       "      <td>14.0</td>\n",
       "      <td>NaN</td>\n",
       "      <td>9</td>\n",
       "      <td>NaN</td>\n",
       "      <td>False</td>\n",
       "      <td>False</td>\n",
       "      <td>NaN</td>\n",
       "      <td>0.0</td>\n",
       "      <td>Санкт-Петербург</td>\n",
       "      <td>28098.0</td>\n",
       "      <td>6800.0</td>\n",
       "      <td>2.0</td>\n",
       "      <td>84.0</td>\n",
       "      <td>3.0</td>\n",
       "      <td>234.0</td>\n",
       "      <td>424.0</td>\n",
       "    </tr>\n",
       "    <tr>\n",
       "      <td>4</td>\n",
       "      <td>2</td>\n",
       "      <td>10000000</td>\n",
       "      <td>100.0</td>\n",
       "      <td>2018-06-19T00:00:00</td>\n",
       "      <td>2</td>\n",
       "      <td>3.03</td>\n",
       "      <td>14.0</td>\n",
       "      <td>32.0</td>\n",
       "      <td>13</td>\n",
       "      <td>NaN</td>\n",
       "      <td>False</td>\n",
       "      <td>False</td>\n",
       "      <td>41.0</td>\n",
       "      <td>NaN</td>\n",
       "      <td>Санкт-Петербург</td>\n",
       "      <td>31856.0</td>\n",
       "      <td>8098.0</td>\n",
       "      <td>2.0</td>\n",
       "      <td>112.0</td>\n",
       "      <td>1.0</td>\n",
       "      <td>48.0</td>\n",
       "      <td>121.0</td>\n",
       "    </tr>\n",
       "  </tbody>\n",
       "</table>\n",
       "</div>"
      ],
      "text/plain": [
       "   total_images  last_price  total_area first_day_exposition  rooms  \\\n",
       "0            20    13000000       108.0  2019-03-07T00:00:00      3   \n",
       "1             7     3350000        40.4  2018-12-04T00:00:00      1   \n",
       "2            10     5196000        56.0  2015-08-20T00:00:00      2   \n",
       "3             0    64900000       159.0  2015-07-24T00:00:00      3   \n",
       "4             2    10000000       100.0  2018-06-19T00:00:00      2   \n",
       "\n",
       "   ceiling_height  floors_total  living_area  floor is_apartment  studio  \\\n",
       "0            2.70          16.0         51.0      8          NaN   False   \n",
       "1             NaN          11.0         18.6      1          NaN   False   \n",
       "2             NaN           5.0         34.3      4          NaN   False   \n",
       "3             NaN          14.0          NaN      9          NaN   False   \n",
       "4            3.03          14.0         32.0     13          NaN   False   \n",
       "\n",
       "   open_plan  kitchen_area  balcony    locality_name  airports_nearest  \\\n",
       "0      False          25.0      NaN  Санкт-Петербург           18863.0   \n",
       "1      False          11.0      2.0   посёлок Шушары           12817.0   \n",
       "2      False           8.3      0.0  Санкт-Петербург           21741.0   \n",
       "3      False           NaN      0.0  Санкт-Петербург           28098.0   \n",
       "4      False          41.0      NaN  Санкт-Петербург           31856.0   \n",
       "\n",
       "   cityCenters_nearest  parks_around3000  parks_nearest  ponds_around3000  \\\n",
       "0              16028.0               1.0          482.0               2.0   \n",
       "1              18603.0               0.0            NaN               0.0   \n",
       "2              13933.0               1.0           90.0               2.0   \n",
       "3               6800.0               2.0           84.0               3.0   \n",
       "4               8098.0               2.0          112.0               1.0   \n",
       "\n",
       "   ponds_nearest  days_exposition  \n",
       "0          755.0              NaN  \n",
       "1            NaN             81.0  \n",
       "2          574.0            558.0  \n",
       "3          234.0            424.0  \n",
       "4           48.0            121.0  "
      ]
     },
     "execution_count": 6,
     "metadata": {},
     "output_type": "execute_result"
    }
   ],
   "source": [
    "data['last_price'] = data['last_price'].astype('int')\n",
    "data.head()\n",
    "#Порядок"
   ]
  },
  {
   "cell_type": "markdown",
   "metadata": {},
   "source": [
    "\n",
    "В столбце 'ceiling_height' есть пропуски. Так как в последующем анализе нужно будет строить гистограмму по этому параметру следует заполнить эти пропуски. Я считаю заполнить их медианой будет хорошо. Потому что в  высота потолков по госту не должна быть ниже 2,5 метра, а также в среднем по стране составляет 2,5-2,7 метра. Очень редко когда высота потолка достигает 3 метра. Поэтому замена медианой вполне нас устраивает."
   ]
  },
  {
   "cell_type": "code",
   "execution_count": 7,
   "metadata": {},
   "outputs": [
    {
     "data": {
      "text/plain": [
       "0"
      ]
     },
     "execution_count": 7,
     "metadata": {},
     "output_type": "execute_result"
    }
   ],
   "source": [
    "data['ceiling_height'] = data['ceiling_height'].fillna(data['ceiling_height'].median())\n",
    "data['ceiling_height'].isna().sum()\n",
    "#Порядок"
   ]
  },
  {
   "cell_type": "markdown",
   "metadata": {},
   "source": [
    "В столбеце 'locality_name' невозможно заполнить пропуски, поэтому просто их удаляем"
   ]
  },
  {
   "cell_type": "code",
   "execution_count": 8,
   "metadata": {},
   "outputs": [
    {
     "data": {
      "text/plain": [
       "0"
      ]
     },
     "execution_count": 8,
     "metadata": {},
     "output_type": "execute_result"
    }
   ],
   "source": [
    "data.dropna(subset=['locality_name'],inplace=True)\n",
    "data['locality_name'].isna().sum()\n",
    "#Порядок"
   ]
  },
  {
   "cell_type": "code",
   "execution_count": 9,
   "metadata": {},
   "outputs": [
    {
     "data": {
      "text/plain": [
       "0"
      ]
     },
     "execution_count": 9,
     "metadata": {},
     "output_type": "execute_result"
    }
   ],
   "source": [
    "data['floors_total']=data.fillna(data['floors_total'].mean())#Заполняю средним значением пропуски в 'floors_total'\n",
    "data['floors_total'].isnull().sum()"
   ]
  },
  {
   "cell_type": "code",
   "execution_count": 10,
   "metadata": {},
   "outputs": [
    {
     "data": {
      "text/plain": [
       "0"
      ]
     },
     "execution_count": 10,
     "metadata": {},
     "output_type": "execute_result"
    }
   ],
   "source": [
    "data['is_apartment'].isnull().sum()\n",
    "data['is_apartment'].unique()\n",
    "data['is_apartment'] = data['is_apartment'].fillna(False)# если пропуск, то это не апортаменты\n",
    "data['is_apartment'].unique()\n",
    "data['is_apartment'].isnull().sum()"
   ]
  },
  {
   "cell_type": "code",
   "execution_count": 11,
   "metadata": {},
   "outputs": [
    {
     "data": {
      "text/plain": [
       "array([0, 2, 1, 5, 4, 3])"
      ]
     },
     "execution_count": 11,
     "metadata": {},
     "output_type": "execute_result"
    }
   ],
   "source": [
    "data['balcony'].isnull().sum()\n",
    "data['balcony'] = data['balcony'].fillna(0)\n",
    "data['balcony'] = data['balcony'].astype('int')\n",
    "data['balcony'].unique()"
   ]
  },
  {
   "cell_type": "code",
   "execution_count": 12,
   "metadata": {},
   "outputs": [],
   "source": [
    "#Думаю еще можно некоторые столбцы заменить на bool\n",
    "data['studio'] = data['studio'].astype('bool')\n",
    "data['open_plan'] = data['open_plan'].astype('bool')\n"
   ]
  },
  {
   "cell_type": "markdown",
   "metadata": {},
   "source": [
    "Заполняю пропуски в столбце 'living_area' для этого найду долю жилой площади в среднем по квартирам и затем посчитаю для каждого пропуска жилая_площадь = доля_жилой_площади * (общая_площадь - площадь_кухни)"
   ]
  },
  {
   "cell_type": "code",
   "execution_count": 13,
   "metadata": {},
   "outputs": [
    {
     "data": {
      "text/html": [
       "<div>\n",
       "<style scoped>\n",
       "    .dataframe tbody tr th:only-of-type {\n",
       "        vertical-align: middle;\n",
       "    }\n",
       "\n",
       "    .dataframe tbody tr th {\n",
       "        vertical-align: top;\n",
       "    }\n",
       "\n",
       "    .dataframe thead th {\n",
       "        text-align: right;\n",
       "    }\n",
       "</style>\n",
       "<table border=\"1\" class=\"dataframe\">\n",
       "  <thead>\n",
       "    <tr style=\"text-align: right;\">\n",
       "      <th></th>\n",
       "      <th>total_images</th>\n",
       "      <th>last_price</th>\n",
       "      <th>total_area</th>\n",
       "      <th>first_day_exposition</th>\n",
       "      <th>rooms</th>\n",
       "      <th>ceiling_height</th>\n",
       "      <th>floors_total</th>\n",
       "      <th>living_area</th>\n",
       "      <th>floor</th>\n",
       "      <th>is_apartment</th>\n",
       "      <th>studio</th>\n",
       "      <th>open_plan</th>\n",
       "      <th>kitchen_area</th>\n",
       "      <th>balcony</th>\n",
       "      <th>locality_name</th>\n",
       "      <th>airports_nearest</th>\n",
       "      <th>cityCenters_nearest</th>\n",
       "      <th>parks_around3000</th>\n",
       "      <th>parks_nearest</th>\n",
       "      <th>ponds_around3000</th>\n",
       "      <th>ponds_nearest</th>\n",
       "      <th>days_exposition</th>\n",
       "      <th>propusk</th>\n",
       "    </tr>\n",
       "  </thead>\n",
       "  <tbody>\n",
       "    <tr>\n",
       "      <td>0</td>\n",
       "      <td>20</td>\n",
       "      <td>13000000</td>\n",
       "      <td>108.0</td>\n",
       "      <td>2019-03-07T00:00:00</td>\n",
       "      <td>3</td>\n",
       "      <td>2.70</td>\n",
       "      <td>20</td>\n",
       "      <td>51.000000</td>\n",
       "      <td>8</td>\n",
       "      <td>False</td>\n",
       "      <td>False</td>\n",
       "      <td>False</td>\n",
       "      <td>25.0</td>\n",
       "      <td>0</td>\n",
       "      <td>Санкт-Петербург</td>\n",
       "      <td>18863.0</td>\n",
       "      <td>16028.0</td>\n",
       "      <td>1.0</td>\n",
       "      <td>482.0</td>\n",
       "      <td>2.0</td>\n",
       "      <td>755.0</td>\n",
       "      <td>NaN</td>\n",
       "      <td>False</td>\n",
       "    </tr>\n",
       "    <tr>\n",
       "      <td>1</td>\n",
       "      <td>7</td>\n",
       "      <td>3350000</td>\n",
       "      <td>40.4</td>\n",
       "      <td>2018-12-04T00:00:00</td>\n",
       "      <td>1</td>\n",
       "      <td>2.65</td>\n",
       "      <td>7</td>\n",
       "      <td>18.600000</td>\n",
       "      <td>1</td>\n",
       "      <td>False</td>\n",
       "      <td>False</td>\n",
       "      <td>False</td>\n",
       "      <td>11.0</td>\n",
       "      <td>2</td>\n",
       "      <td>посёлок Шушары</td>\n",
       "      <td>12817.0</td>\n",
       "      <td>18603.0</td>\n",
       "      <td>0.0</td>\n",
       "      <td>NaN</td>\n",
       "      <td>0.0</td>\n",
       "      <td>NaN</td>\n",
       "      <td>81.0</td>\n",
       "      <td>False</td>\n",
       "    </tr>\n",
       "    <tr>\n",
       "      <td>2</td>\n",
       "      <td>10</td>\n",
       "      <td>5196000</td>\n",
       "      <td>56.0</td>\n",
       "      <td>2015-08-20T00:00:00</td>\n",
       "      <td>2</td>\n",
       "      <td>2.65</td>\n",
       "      <td>10</td>\n",
       "      <td>34.300000</td>\n",
       "      <td>4</td>\n",
       "      <td>False</td>\n",
       "      <td>False</td>\n",
       "      <td>False</td>\n",
       "      <td>8.3</td>\n",
       "      <td>0</td>\n",
       "      <td>Санкт-Петербург</td>\n",
       "      <td>21741.0</td>\n",
       "      <td>13933.0</td>\n",
       "      <td>1.0</td>\n",
       "      <td>90.0</td>\n",
       "      <td>2.0</td>\n",
       "      <td>574.0</td>\n",
       "      <td>558.0</td>\n",
       "      <td>False</td>\n",
       "    </tr>\n",
       "    <tr>\n",
       "      <td>3</td>\n",
       "      <td>0</td>\n",
       "      <td>64900000</td>\n",
       "      <td>159.0</td>\n",
       "      <td>2015-07-24T00:00:00</td>\n",
       "      <td>3</td>\n",
       "      <td>2.65</td>\n",
       "      <td>0</td>\n",
       "      <td>36.481734</td>\n",
       "      <td>9</td>\n",
       "      <td>False</td>\n",
       "      <td>False</td>\n",
       "      <td>False</td>\n",
       "      <td>NaN</td>\n",
       "      <td>0</td>\n",
       "      <td>Санкт-Петербург</td>\n",
       "      <td>28098.0</td>\n",
       "      <td>6800.0</td>\n",
       "      <td>2.0</td>\n",
       "      <td>84.0</td>\n",
       "      <td>3.0</td>\n",
       "      <td>234.0</td>\n",
       "      <td>424.0</td>\n",
       "      <td>True</td>\n",
       "    </tr>\n",
       "    <tr>\n",
       "      <td>4</td>\n",
       "      <td>2</td>\n",
       "      <td>10000000</td>\n",
       "      <td>100.0</td>\n",
       "      <td>2018-06-19T00:00:00</td>\n",
       "      <td>2</td>\n",
       "      <td>3.03</td>\n",
       "      <td>2</td>\n",
       "      <td>32.000000</td>\n",
       "      <td>13</td>\n",
       "      <td>False</td>\n",
       "      <td>False</td>\n",
       "      <td>False</td>\n",
       "      <td>41.0</td>\n",
       "      <td>0</td>\n",
       "      <td>Санкт-Петербург</td>\n",
       "      <td>31856.0</td>\n",
       "      <td>8098.0</td>\n",
       "      <td>2.0</td>\n",
       "      <td>112.0</td>\n",
       "      <td>1.0</td>\n",
       "      <td>48.0</td>\n",
       "      <td>121.0</td>\n",
       "      <td>False</td>\n",
       "    </tr>\n",
       "  </tbody>\n",
       "</table>\n",
       "</div>"
      ],
      "text/plain": [
       "   total_images  last_price  total_area first_day_exposition  rooms  \\\n",
       "0            20    13000000       108.0  2019-03-07T00:00:00      3   \n",
       "1             7     3350000        40.4  2018-12-04T00:00:00      1   \n",
       "2            10     5196000        56.0  2015-08-20T00:00:00      2   \n",
       "3             0    64900000       159.0  2015-07-24T00:00:00      3   \n",
       "4             2    10000000       100.0  2018-06-19T00:00:00      2   \n",
       "\n",
       "   ceiling_height floors_total  living_area  floor  is_apartment  studio  \\\n",
       "0            2.70           20    51.000000      8         False   False   \n",
       "1            2.65            7    18.600000      1         False   False   \n",
       "2            2.65           10    34.300000      4         False   False   \n",
       "3            2.65            0    36.481734      9         False   False   \n",
       "4            3.03            2    32.000000     13         False   False   \n",
       "\n",
       "   open_plan  kitchen_area  balcony    locality_name  airports_nearest  \\\n",
       "0      False          25.0        0  Санкт-Петербург           18863.0   \n",
       "1      False          11.0        2   посёлок Шушары           12817.0   \n",
       "2      False           8.3        0  Санкт-Петербург           21741.0   \n",
       "3      False           NaN        0  Санкт-Петербург           28098.0   \n",
       "4      False          41.0        0  Санкт-Петербург           31856.0   \n",
       "\n",
       "   cityCenters_nearest  parks_around3000  parks_nearest  ponds_around3000  \\\n",
       "0              16028.0               1.0          482.0               2.0   \n",
       "1              18603.0               0.0            NaN               0.0   \n",
       "2              13933.0               1.0           90.0               2.0   \n",
       "3               6800.0               2.0           84.0               3.0   \n",
       "4               8098.0               2.0          112.0               1.0   \n",
       "\n",
       "   ponds_nearest  days_exposition  propusk  \n",
       "0          755.0              NaN    False  \n",
       "1            NaN             81.0    False  \n",
       "2          574.0            558.0    False  \n",
       "3          234.0            424.0     True  \n",
       "4           48.0            121.0    False  "
      ]
     },
     "execution_count": 13,
     "metadata": {},
     "output_type": "execute_result"
    }
   ],
   "source": [
    "data['living_area'].isnull().sum()\n",
    "live = data['living_area'].mean()\n",
    "kitchen = data['kitchen_area'].mean()\n",
    "total = data['total_area'].mean()\n",
    "dolya_live = live / (total - kitchen)#доля жилой площади\n",
    "dolya_live\n",
    "data['propusk'] = data['living_area'].isnull()\n",
    "for index, row in data.iterrows():\n",
    "    if row['propusk'] == True:\n",
    "        data['living_area'] = data['living_area'].fillna((row['total_area'] - row['kitchen_area']) * dolya_live)\n",
    "        \n",
    "data.head()"
   ]
  },
  {
   "cell_type": "markdown",
   "metadata": {},
   "source": [
    "Для пропусков в столбце 'kitchen_area', использую тот же принцип что и со столбцом 'living_area'."
   ]
  },
  {
   "cell_type": "code",
   "execution_count": 14,
   "metadata": {},
   "outputs": [
    {
     "data": {
      "text/html": [
       "<div>\n",
       "<style scoped>\n",
       "    .dataframe tbody tr th:only-of-type {\n",
       "        vertical-align: middle;\n",
       "    }\n",
       "\n",
       "    .dataframe tbody tr th {\n",
       "        vertical-align: top;\n",
       "    }\n",
       "\n",
       "    .dataframe thead th {\n",
       "        text-align: right;\n",
       "    }\n",
       "</style>\n",
       "<table border=\"1\" class=\"dataframe\">\n",
       "  <thead>\n",
       "    <tr style=\"text-align: right;\">\n",
       "      <th></th>\n",
       "      <th>total_images</th>\n",
       "      <th>last_price</th>\n",
       "      <th>total_area</th>\n",
       "      <th>first_day_exposition</th>\n",
       "      <th>rooms</th>\n",
       "      <th>ceiling_height</th>\n",
       "      <th>floors_total</th>\n",
       "      <th>living_area</th>\n",
       "      <th>floor</th>\n",
       "      <th>is_apartment</th>\n",
       "      <th>studio</th>\n",
       "      <th>open_plan</th>\n",
       "      <th>kitchen_area</th>\n",
       "      <th>balcony</th>\n",
       "      <th>locality_name</th>\n",
       "      <th>airports_nearest</th>\n",
       "      <th>cityCenters_nearest</th>\n",
       "      <th>parks_around3000</th>\n",
       "      <th>parks_nearest</th>\n",
       "      <th>ponds_around3000</th>\n",
       "      <th>ponds_nearest</th>\n",
       "      <th>days_exposition</th>\n",
       "      <th>propusk</th>\n",
       "    </tr>\n",
       "  </thead>\n",
       "  <tbody>\n",
       "    <tr>\n",
       "      <td>0</td>\n",
       "      <td>20</td>\n",
       "      <td>13000000</td>\n",
       "      <td>108.0</td>\n",
       "      <td>2019-03-07T00:00:00</td>\n",
       "      <td>3</td>\n",
       "      <td>2.70</td>\n",
       "      <td>20</td>\n",
       "      <td>51.000000</td>\n",
       "      <td>8</td>\n",
       "      <td>False</td>\n",
       "      <td>False</td>\n",
       "      <td>False</td>\n",
       "      <td>25.000000</td>\n",
       "      <td>0</td>\n",
       "      <td>Санкт-Петербург</td>\n",
       "      <td>18863.0</td>\n",
       "      <td>16028.0</td>\n",
       "      <td>1.0</td>\n",
       "      <td>482.0</td>\n",
       "      <td>2.0</td>\n",
       "      <td>755.0</td>\n",
       "      <td>NaN</td>\n",
       "      <td>False</td>\n",
       "    </tr>\n",
       "    <tr>\n",
       "      <td>1</td>\n",
       "      <td>7</td>\n",
       "      <td>3350000</td>\n",
       "      <td>40.4</td>\n",
       "      <td>2018-12-04T00:00:00</td>\n",
       "      <td>1</td>\n",
       "      <td>2.65</td>\n",
       "      <td>7</td>\n",
       "      <td>18.600000</td>\n",
       "      <td>1</td>\n",
       "      <td>False</td>\n",
       "      <td>False</td>\n",
       "      <td>False</td>\n",
       "      <td>11.000000</td>\n",
       "      <td>2</td>\n",
       "      <td>посёлок Шушары</td>\n",
       "      <td>12817.0</td>\n",
       "      <td>18603.0</td>\n",
       "      <td>0.0</td>\n",
       "      <td>NaN</td>\n",
       "      <td>0.0</td>\n",
       "      <td>NaN</td>\n",
       "      <td>81.0</td>\n",
       "      <td>False</td>\n",
       "    </tr>\n",
       "    <tr>\n",
       "      <td>2</td>\n",
       "      <td>10</td>\n",
       "      <td>5196000</td>\n",
       "      <td>56.0</td>\n",
       "      <td>2015-08-20T00:00:00</td>\n",
       "      <td>2</td>\n",
       "      <td>2.65</td>\n",
       "      <td>10</td>\n",
       "      <td>34.300000</td>\n",
       "      <td>4</td>\n",
       "      <td>False</td>\n",
       "      <td>False</td>\n",
       "      <td>False</td>\n",
       "      <td>8.300000</td>\n",
       "      <td>0</td>\n",
       "      <td>Санкт-Петербург</td>\n",
       "      <td>21741.0</td>\n",
       "      <td>13933.0</td>\n",
       "      <td>1.0</td>\n",
       "      <td>90.0</td>\n",
       "      <td>2.0</td>\n",
       "      <td>574.0</td>\n",
       "      <td>558.0</td>\n",
       "      <td>False</td>\n",
       "    </tr>\n",
       "    <tr>\n",
       "      <td>3</td>\n",
       "      <td>0</td>\n",
       "      <td>64900000</td>\n",
       "      <td>159.0</td>\n",
       "      <td>2015-07-24T00:00:00</td>\n",
       "      <td>3</td>\n",
       "      <td>2.65</td>\n",
       "      <td>0</td>\n",
       "      <td>36.481734</td>\n",
       "      <td>9</td>\n",
       "      <td>False</td>\n",
       "      <td>False</td>\n",
       "      <td>False</td>\n",
       "      <td>50.338329</td>\n",
       "      <td>0</td>\n",
       "      <td>Санкт-Петербург</td>\n",
       "      <td>28098.0</td>\n",
       "      <td>6800.0</td>\n",
       "      <td>2.0</td>\n",
       "      <td>84.0</td>\n",
       "      <td>3.0</td>\n",
       "      <td>234.0</td>\n",
       "      <td>424.0</td>\n",
       "      <td>True</td>\n",
       "    </tr>\n",
       "    <tr>\n",
       "      <td>4</td>\n",
       "      <td>2</td>\n",
       "      <td>10000000</td>\n",
       "      <td>100.0</td>\n",
       "      <td>2018-06-19T00:00:00</td>\n",
       "      <td>2</td>\n",
       "      <td>3.03</td>\n",
       "      <td>2</td>\n",
       "      <td>32.000000</td>\n",
       "      <td>13</td>\n",
       "      <td>False</td>\n",
       "      <td>False</td>\n",
       "      <td>False</td>\n",
       "      <td>41.000000</td>\n",
       "      <td>0</td>\n",
       "      <td>Санкт-Петербург</td>\n",
       "      <td>31856.0</td>\n",
       "      <td>8098.0</td>\n",
       "      <td>2.0</td>\n",
       "      <td>112.0</td>\n",
       "      <td>1.0</td>\n",
       "      <td>48.0</td>\n",
       "      <td>121.0</td>\n",
       "      <td>False</td>\n",
       "    </tr>\n",
       "  </tbody>\n",
       "</table>\n",
       "</div>"
      ],
      "text/plain": [
       "   total_images  last_price  total_area first_day_exposition  rooms  \\\n",
       "0            20    13000000       108.0  2019-03-07T00:00:00      3   \n",
       "1             7     3350000        40.4  2018-12-04T00:00:00      1   \n",
       "2            10     5196000        56.0  2015-08-20T00:00:00      2   \n",
       "3             0    64900000       159.0  2015-07-24T00:00:00      3   \n",
       "4             2    10000000       100.0  2018-06-19T00:00:00      2   \n",
       "\n",
       "   ceiling_height floors_total  living_area  floor  is_apartment  studio  \\\n",
       "0            2.70           20    51.000000      8         False   False   \n",
       "1            2.65            7    18.600000      1         False   False   \n",
       "2            2.65           10    34.300000      4         False   False   \n",
       "3            2.65            0    36.481734      9         False   False   \n",
       "4            3.03            2    32.000000     13         False   False   \n",
       "\n",
       "   open_plan  kitchen_area  balcony    locality_name  airports_nearest  \\\n",
       "0      False     25.000000        0  Санкт-Петербург           18863.0   \n",
       "1      False     11.000000        2   посёлок Шушары           12817.0   \n",
       "2      False      8.300000        0  Санкт-Петербург           21741.0   \n",
       "3      False     50.338329        0  Санкт-Петербург           28098.0   \n",
       "4      False     41.000000        0  Санкт-Петербург           31856.0   \n",
       "\n",
       "   cityCenters_nearest  parks_around3000  parks_nearest  ponds_around3000  \\\n",
       "0              16028.0               1.0          482.0               2.0   \n",
       "1              18603.0               0.0            NaN               0.0   \n",
       "2              13933.0               1.0           90.0               2.0   \n",
       "3               6800.0               2.0           84.0               3.0   \n",
       "4               8098.0               2.0          112.0               1.0   \n",
       "\n",
       "   ponds_nearest  days_exposition  propusk  \n",
       "0          755.0              NaN    False  \n",
       "1            NaN             81.0    False  \n",
       "2          574.0            558.0    False  \n",
       "3          234.0            424.0     True  \n",
       "4           48.0            121.0    False  "
      ]
     },
     "execution_count": 14,
     "metadata": {},
     "output_type": "execute_result"
    }
   ],
   "source": [
    "data['kitchen_area'].isnull().sum()\n",
    "live = data['living_area'].mean()\n",
    "kitchen = data['kitchen_area'].mean()\n",
    "total = data['total_area'].mean()\n",
    "dolya_kitchen = kitchen / (total - live)#доля площади кухни\n",
    "dolya_kitchen\n",
    "data['propusk'] = data['kitchen_area'].isnull()\n",
    "for index, row in data.iterrows():\n",
    "    if row['propusk'] == True:\n",
    "        data['kitchen_area'] = data['kitchen_area'].fillna((row['total_area'] - row['living_area']) * dolya_kitchen)\n",
    "        \n",
    "data.head()"
   ]
  },
  {
   "cell_type": "code",
   "execution_count": 15,
   "metadata": {},
   "outputs": [
    {
     "data": {
      "text/html": [
       "<div>\n",
       "<style scoped>\n",
       "    .dataframe tbody tr th:only-of-type {\n",
       "        vertical-align: middle;\n",
       "    }\n",
       "\n",
       "    .dataframe tbody tr th {\n",
       "        vertical-align: top;\n",
       "    }\n",
       "\n",
       "    .dataframe thead th {\n",
       "        text-align: right;\n",
       "    }\n",
       "</style>\n",
       "<table border=\"1\" class=\"dataframe\">\n",
       "  <thead>\n",
       "    <tr style=\"text-align: right;\">\n",
       "      <th></th>\n",
       "      <th>total_images</th>\n",
       "      <th>last_price</th>\n",
       "      <th>total_area</th>\n",
       "      <th>first_day_exposition</th>\n",
       "      <th>rooms</th>\n",
       "      <th>ceiling_height</th>\n",
       "      <th>floors_total</th>\n",
       "      <th>living_area</th>\n",
       "      <th>floor</th>\n",
       "      <th>is_apartment</th>\n",
       "      <th>studio</th>\n",
       "      <th>open_plan</th>\n",
       "      <th>kitchen_area</th>\n",
       "      <th>balcony</th>\n",
       "      <th>locality_name</th>\n",
       "      <th>airports_nearest</th>\n",
       "      <th>cityCenters_nearest</th>\n",
       "      <th>parks_around3000</th>\n",
       "      <th>parks_nearest</th>\n",
       "      <th>ponds_around3000</th>\n",
       "      <th>ponds_nearest</th>\n",
       "      <th>days_exposition</th>\n",
       "      <th>propusk</th>\n",
       "    </tr>\n",
       "  </thead>\n",
       "  <tbody>\n",
       "    <tr>\n",
       "      <td>0</td>\n",
       "      <td>20</td>\n",
       "      <td>13000000</td>\n",
       "      <td>108.0</td>\n",
       "      <td>2019-03-07T00:00:00</td>\n",
       "      <td>3</td>\n",
       "      <td>2.70</td>\n",
       "      <td>20</td>\n",
       "      <td>51.0</td>\n",
       "      <td>8</td>\n",
       "      <td>False</td>\n",
       "      <td>False</td>\n",
       "      <td>False</td>\n",
       "      <td>25.0</td>\n",
       "      <td>0</td>\n",
       "      <td>Санкт-Петербург</td>\n",
       "      <td>18863.0</td>\n",
       "      <td>16028.0</td>\n",
       "      <td>1.0</td>\n",
       "      <td>482.0</td>\n",
       "      <td>2.0</td>\n",
       "      <td>755.0</td>\n",
       "      <td>NaN</td>\n",
       "      <td>False</td>\n",
       "    </tr>\n",
       "    <tr>\n",
       "      <td>1</td>\n",
       "      <td>7</td>\n",
       "      <td>3350000</td>\n",
       "      <td>40.4</td>\n",
       "      <td>2018-12-04T00:00:00</td>\n",
       "      <td>1</td>\n",
       "      <td>2.65</td>\n",
       "      <td>7</td>\n",
       "      <td>18.6</td>\n",
       "      <td>1</td>\n",
       "      <td>False</td>\n",
       "      <td>False</td>\n",
       "      <td>False</td>\n",
       "      <td>11.0</td>\n",
       "      <td>2</td>\n",
       "      <td>посёлок Шушары</td>\n",
       "      <td>12817.0</td>\n",
       "      <td>18603.0</td>\n",
       "      <td>0.0</td>\n",
       "      <td>NaN</td>\n",
       "      <td>0.0</td>\n",
       "      <td>NaN</td>\n",
       "      <td>81.0</td>\n",
       "      <td>False</td>\n",
       "    </tr>\n",
       "    <tr>\n",
       "      <td>2</td>\n",
       "      <td>10</td>\n",
       "      <td>5196000</td>\n",
       "      <td>56.0</td>\n",
       "      <td>2015-08-20T00:00:00</td>\n",
       "      <td>2</td>\n",
       "      <td>2.65</td>\n",
       "      <td>10</td>\n",
       "      <td>34.3</td>\n",
       "      <td>4</td>\n",
       "      <td>False</td>\n",
       "      <td>False</td>\n",
       "      <td>False</td>\n",
       "      <td>8.3</td>\n",
       "      <td>0</td>\n",
       "      <td>Санкт-Петербург</td>\n",
       "      <td>21741.0</td>\n",
       "      <td>13933.0</td>\n",
       "      <td>1.0</td>\n",
       "      <td>90.0</td>\n",
       "      <td>2.0</td>\n",
       "      <td>574.0</td>\n",
       "      <td>558.0</td>\n",
       "      <td>False</td>\n",
       "    </tr>\n",
       "    <tr>\n",
       "      <td>3</td>\n",
       "      <td>0</td>\n",
       "      <td>64900000</td>\n",
       "      <td>159.0</td>\n",
       "      <td>2015-07-24T00:00:00</td>\n",
       "      <td>3</td>\n",
       "      <td>2.65</td>\n",
       "      <td>0</td>\n",
       "      <td>36.5</td>\n",
       "      <td>9</td>\n",
       "      <td>False</td>\n",
       "      <td>False</td>\n",
       "      <td>False</td>\n",
       "      <td>50.3</td>\n",
       "      <td>0</td>\n",
       "      <td>Санкт-Петербург</td>\n",
       "      <td>28098.0</td>\n",
       "      <td>6800.0</td>\n",
       "      <td>2.0</td>\n",
       "      <td>84.0</td>\n",
       "      <td>3.0</td>\n",
       "      <td>234.0</td>\n",
       "      <td>424.0</td>\n",
       "      <td>True</td>\n",
       "    </tr>\n",
       "    <tr>\n",
       "      <td>4</td>\n",
       "      <td>2</td>\n",
       "      <td>10000000</td>\n",
       "      <td>100.0</td>\n",
       "      <td>2018-06-19T00:00:00</td>\n",
       "      <td>2</td>\n",
       "      <td>3.03</td>\n",
       "      <td>2</td>\n",
       "      <td>32.0</td>\n",
       "      <td>13</td>\n",
       "      <td>False</td>\n",
       "      <td>False</td>\n",
       "      <td>False</td>\n",
       "      <td>41.0</td>\n",
       "      <td>0</td>\n",
       "      <td>Санкт-Петербург</td>\n",
       "      <td>31856.0</td>\n",
       "      <td>8098.0</td>\n",
       "      <td>2.0</td>\n",
       "      <td>112.0</td>\n",
       "      <td>1.0</td>\n",
       "      <td>48.0</td>\n",
       "      <td>121.0</td>\n",
       "      <td>False</td>\n",
       "    </tr>\n",
       "  </tbody>\n",
       "</table>\n",
       "</div>"
      ],
      "text/plain": [
       "   total_images  last_price  total_area first_day_exposition  rooms  \\\n",
       "0            20    13000000       108.0  2019-03-07T00:00:00      3   \n",
       "1             7     3350000        40.4  2018-12-04T00:00:00      1   \n",
       "2            10     5196000        56.0  2015-08-20T00:00:00      2   \n",
       "3             0    64900000       159.0  2015-07-24T00:00:00      3   \n",
       "4             2    10000000       100.0  2018-06-19T00:00:00      2   \n",
       "\n",
       "   ceiling_height floors_total  living_area  floor  is_apartment  studio  \\\n",
       "0            2.70           20         51.0      8         False   False   \n",
       "1            2.65            7         18.6      1         False   False   \n",
       "2            2.65           10         34.3      4         False   False   \n",
       "3            2.65            0         36.5      9         False   False   \n",
       "4            3.03            2         32.0     13         False   False   \n",
       "\n",
       "   open_plan  kitchen_area  balcony    locality_name  airports_nearest  \\\n",
       "0      False          25.0        0  Санкт-Петербург           18863.0   \n",
       "1      False          11.0        2   посёлок Шушары           12817.0   \n",
       "2      False           8.3        0  Санкт-Петербург           21741.0   \n",
       "3      False          50.3        0  Санкт-Петербург           28098.0   \n",
       "4      False          41.0        0  Санкт-Петербург           31856.0   \n",
       "\n",
       "   cityCenters_nearest  parks_around3000  parks_nearest  ponds_around3000  \\\n",
       "0              16028.0               1.0          482.0               2.0   \n",
       "1              18603.0               0.0            NaN               0.0   \n",
       "2              13933.0               1.0           90.0               2.0   \n",
       "3               6800.0               2.0           84.0               3.0   \n",
       "4               8098.0               2.0          112.0               1.0   \n",
       "\n",
       "   ponds_nearest  days_exposition  propusk  \n",
       "0          755.0              NaN    False  \n",
       "1            NaN             81.0    False  \n",
       "2          574.0            558.0    False  \n",
       "3          234.0            424.0     True  \n",
       "4           48.0            121.0    False  "
      ]
     },
     "execution_count": 15,
     "metadata": {},
     "output_type": "execute_result"
    }
   ],
   "source": [
    "#Приведем столбцы 'living_area' и 'kitchen_area' в нормальный вид\n",
    "\n",
    "data['kitchen_area'] = round(data['kitchen_area'], 1)\n",
    "data['living_area'] = round(data['living_area'], 1)\n",
    "data.head()"
   ]
  },
  {
   "cell_type": "code",
   "execution_count": 16,
   "metadata": {},
   "outputs": [
    {
     "data": {
      "text/plain": [
       "0"
      ]
     },
     "execution_count": 16,
     "metadata": {},
     "output_type": "execute_result"
    }
   ],
   "source": [
    "data['cityCenters_nearest'].fillna(data.groupby('locality_name')['cityCenters_nearest'].transform('mean'),inplace=True)\n",
    "#заполняем пропуски расстояния до центра по среднемму значению расстояния в зависимости от района.\n",
    "data['cityCenters_nearest']=data['cityCenters_nearest'].fillna(data['cityCenters_nearest'].mean())\n",
    "data['cityCenters_nearest'].isna().sum()"
   ]
  },
  {
   "cell_type": "code",
   "execution_count": 17,
   "metadata": {},
   "outputs": [
    {
     "data": {
      "text/plain": [
       "5534"
      ]
     },
     "execution_count": 17,
     "metadata": {},
     "output_type": "execute_result"
    }
   ],
   "source": [
    "grouped_airpots_nearest=data.groupby('locality_name')['airports_nearest'].transform('mean') \n",
    "data['airports_nearest'].isnull().sum()"
   ]
  },
  {
   "cell_type": "code",
   "execution_count": 18,
   "metadata": {},
   "outputs": [
    {
     "data": {
      "text/plain": [
       "5386"
      ]
     },
     "execution_count": 18,
     "metadata": {},
     "output_type": "execute_result"
    }
   ],
   "source": [
    "#заполняем пропуски расстояния до аэропорта по среднемму значению расстояния в зависимости от района.\n",
    "data['airports_nearest'].fillna(grouped_airpots_nearest,inplace=True)\n",
    "data['airports_nearest'].isnull().sum()"
   ]
  },
  {
   "cell_type": "code",
   "execution_count": 19,
   "metadata": {},
   "outputs": [
    {
     "data": {
      "text/plain": [
       "0"
      ]
     },
     "execution_count": 19,
     "metadata": {},
     "output_type": "execute_result"
    }
   ],
   "source": [
    "#где остались пропуски расстояния до аэропорта  заполняем просто по среднемму значению расстояния\n",
    "data['airports_nearest']=data['airports_nearest'].fillna(data['airports_nearest'].mean()) \n",
    "data['airports_nearest'].isnull().sum()"
   ]
  },
  {
   "cell_type": "markdown",
   "metadata": {},
   "source": [
    "Столбцы:'parks_around3000', 'parks_nearest', 'ponds_nearest', 'ponds_around3000' заполняем средним"
   ]
  },
  {
   "cell_type": "code",
   "execution_count": 20,
   "metadata": {},
   "outputs": [],
   "source": [
    "data['parks_around3000']=data['parks_around3000'].fillna(data['parks_around3000'].mean())\n",
    "data['parks_nearest']=data['parks_nearest'].fillna(data['parks_nearest'].mean())\n",
    "data['ponds_nearest']=data['ponds_nearest'].fillna(data['ponds_nearest'].mean())\n",
    "data['ponds_around3000']=data['ponds_around3000'].fillna(data['ponds_around3000'].mean())\n",
    "data['parks_around3000'] = data['parks_around3000'].astype('int')\n",
    "data['ponds_around3000'] = data['ponds_around3000'].astype('int')"
   ]
  },
  {
   "cell_type": "code",
   "execution_count": 22,
   "metadata": {},
   "outputs": [
    {
     "data": {
      "text/plain": [
       "0        False\n",
       "1        False\n",
       "2        False\n",
       "3         True\n",
       "4        False\n",
       "         ...  \n",
       "23694    False\n",
       "23695    False\n",
       "23696     True\n",
       "23697    False\n",
       "23698    False\n",
       "Name: propusk, Length: 23650, dtype: bool"
      ]
     },
     "execution_count": 22,
     "metadata": {},
     "output_type": "execute_result"
    }
   ],
   "source": [
    "# удаление вспомогательного столбца\n",
    "data.pop('propusk')"
   ]
  },
  {
   "cell_type": "markdown",
   "metadata": {},
   "source": [
    "Снова получаем информацию о данныз с помощью функции info()"
   ]
  },
  {
   "cell_type": "code",
   "execution_count": 23,
   "metadata": {},
   "outputs": [
    {
     "name": "stdout",
     "output_type": "stream",
     "text": [
      "<class 'pandas.core.frame.DataFrame'>\n",
      "Int64Index: 23650 entries, 0 to 23698\n",
      "Data columns (total 22 columns):\n",
      "total_images            23650 non-null int64\n",
      "last_price              23650 non-null int64\n",
      "total_area              23650 non-null float64\n",
      "first_day_exposition    23650 non-null object\n",
      "rooms                   23650 non-null int64\n",
      "ceiling_height          23650 non-null float64\n",
      "floors_total            23650 non-null object\n",
      "living_area             23650 non-null float64\n",
      "floor                   23650 non-null int64\n",
      "is_apartment            23650 non-null bool\n",
      "studio                  23650 non-null bool\n",
      "open_plan               23650 non-null bool\n",
      "kitchen_area            23650 non-null float64\n",
      "balcony                 23650 non-null int64\n",
      "locality_name           23650 non-null object\n",
      "airports_nearest        23650 non-null float64\n",
      "cityCenters_nearest     23650 non-null float64\n",
      "parks_around3000        23650 non-null int64\n",
      "parks_nearest           23650 non-null float64\n",
      "ponds_around3000        23650 non-null int64\n",
      "ponds_nearest           23650 non-null float64\n",
      "days_exposition         20470 non-null float64\n",
      "dtypes: bool(3), float64(9), int64(7), object(3)\n",
      "memory usage: 3.7+ MB\n"
     ]
    }
   ],
   "source": [
    "data.info()"
   ]
  },
  {
   "cell_type": "code",
   "execution_count": 24,
   "metadata": {},
   "outputs": [
    {
     "data": {
      "text/html": [
       "<div>\n",
       "<style scoped>\n",
       "    .dataframe tbody tr th:only-of-type {\n",
       "        vertical-align: middle;\n",
       "    }\n",
       "\n",
       "    .dataframe tbody tr th {\n",
       "        vertical-align: top;\n",
       "    }\n",
       "\n",
       "    .dataframe thead th {\n",
       "        text-align: right;\n",
       "    }\n",
       "</style>\n",
       "<table border=\"1\" class=\"dataframe\">\n",
       "  <thead>\n",
       "    <tr style=\"text-align: right;\">\n",
       "      <th></th>\n",
       "      <th>total_images</th>\n",
       "      <th>last_price</th>\n",
       "      <th>total_area</th>\n",
       "      <th>first_day_exposition</th>\n",
       "      <th>rooms</th>\n",
       "      <th>ceiling_height</th>\n",
       "      <th>floors_total</th>\n",
       "      <th>living_area</th>\n",
       "      <th>floor</th>\n",
       "      <th>is_apartment</th>\n",
       "      <th>studio</th>\n",
       "      <th>open_plan</th>\n",
       "      <th>kitchen_area</th>\n",
       "      <th>balcony</th>\n",
       "      <th>locality_name</th>\n",
       "      <th>airports_nearest</th>\n",
       "      <th>cityCenters_nearest</th>\n",
       "      <th>parks_around3000</th>\n",
       "      <th>parks_nearest</th>\n",
       "      <th>ponds_around3000</th>\n",
       "      <th>ponds_nearest</th>\n",
       "      <th>days_exposition</th>\n",
       "    </tr>\n",
       "  </thead>\n",
       "  <tbody>\n",
       "    <tr>\n",
       "      <td>0</td>\n",
       "      <td>20</td>\n",
       "      <td>13000000</td>\n",
       "      <td>108.0</td>\n",
       "      <td>2019-03-07T00:00:00</td>\n",
       "      <td>3</td>\n",
       "      <td>2.70</td>\n",
       "      <td>20</td>\n",
       "      <td>51.0</td>\n",
       "      <td>8</td>\n",
       "      <td>False</td>\n",
       "      <td>False</td>\n",
       "      <td>False</td>\n",
       "      <td>25.0</td>\n",
       "      <td>0</td>\n",
       "      <td>Санкт-Петербург</td>\n",
       "      <td>18863.0</td>\n",
       "      <td>16028.0</td>\n",
       "      <td>1</td>\n",
       "      <td>482.000000</td>\n",
       "      <td>2</td>\n",
       "      <td>755.000000</td>\n",
       "      <td>NaN</td>\n",
       "    </tr>\n",
       "    <tr>\n",
       "      <td>1</td>\n",
       "      <td>7</td>\n",
       "      <td>3350000</td>\n",
       "      <td>40.4</td>\n",
       "      <td>2018-12-04T00:00:00</td>\n",
       "      <td>1</td>\n",
       "      <td>2.65</td>\n",
       "      <td>7</td>\n",
       "      <td>18.6</td>\n",
       "      <td>1</td>\n",
       "      <td>False</td>\n",
       "      <td>False</td>\n",
       "      <td>False</td>\n",
       "      <td>11.0</td>\n",
       "      <td>2</td>\n",
       "      <td>посёлок Шушары</td>\n",
       "      <td>12817.0</td>\n",
       "      <td>18603.0</td>\n",
       "      <td>0</td>\n",
       "      <td>490.830729</td>\n",
       "      <td>0</td>\n",
       "      <td>518.059879</td>\n",
       "      <td>81.0</td>\n",
       "    </tr>\n",
       "    <tr>\n",
       "      <td>2</td>\n",
       "      <td>10</td>\n",
       "      <td>5196000</td>\n",
       "      <td>56.0</td>\n",
       "      <td>2015-08-20T00:00:00</td>\n",
       "      <td>2</td>\n",
       "      <td>2.65</td>\n",
       "      <td>10</td>\n",
       "      <td>34.3</td>\n",
       "      <td>4</td>\n",
       "      <td>False</td>\n",
       "      <td>False</td>\n",
       "      <td>False</td>\n",
       "      <td>8.3</td>\n",
       "      <td>0</td>\n",
       "      <td>Санкт-Петербург</td>\n",
       "      <td>21741.0</td>\n",
       "      <td>13933.0</td>\n",
       "      <td>1</td>\n",
       "      <td>90.000000</td>\n",
       "      <td>2</td>\n",
       "      <td>574.000000</td>\n",
       "      <td>558.0</td>\n",
       "    </tr>\n",
       "    <tr>\n",
       "      <td>3</td>\n",
       "      <td>0</td>\n",
       "      <td>64900000</td>\n",
       "      <td>159.0</td>\n",
       "      <td>2015-07-24T00:00:00</td>\n",
       "      <td>3</td>\n",
       "      <td>2.65</td>\n",
       "      <td>0</td>\n",
       "      <td>36.5</td>\n",
       "      <td>9</td>\n",
       "      <td>False</td>\n",
       "      <td>False</td>\n",
       "      <td>False</td>\n",
       "      <td>50.3</td>\n",
       "      <td>0</td>\n",
       "      <td>Санкт-Петербург</td>\n",
       "      <td>28098.0</td>\n",
       "      <td>6800.0</td>\n",
       "      <td>2</td>\n",
       "      <td>84.000000</td>\n",
       "      <td>3</td>\n",
       "      <td>234.000000</td>\n",
       "      <td>424.0</td>\n",
       "    </tr>\n",
       "    <tr>\n",
       "      <td>4</td>\n",
       "      <td>2</td>\n",
       "      <td>10000000</td>\n",
       "      <td>100.0</td>\n",
       "      <td>2018-06-19T00:00:00</td>\n",
       "      <td>2</td>\n",
       "      <td>3.03</td>\n",
       "      <td>2</td>\n",
       "      <td>32.0</td>\n",
       "      <td>13</td>\n",
       "      <td>False</td>\n",
       "      <td>False</td>\n",
       "      <td>False</td>\n",
       "      <td>41.0</td>\n",
       "      <td>0</td>\n",
       "      <td>Санкт-Петербург</td>\n",
       "      <td>31856.0</td>\n",
       "      <td>8098.0</td>\n",
       "      <td>2</td>\n",
       "      <td>112.000000</td>\n",
       "      <td>1</td>\n",
       "      <td>48.000000</td>\n",
       "      <td>121.0</td>\n",
       "    </tr>\n",
       "  </tbody>\n",
       "</table>\n",
       "</div>"
      ],
      "text/plain": [
       "   total_images  last_price  total_area first_day_exposition  rooms  \\\n",
       "0            20    13000000       108.0  2019-03-07T00:00:00      3   \n",
       "1             7     3350000        40.4  2018-12-04T00:00:00      1   \n",
       "2            10     5196000        56.0  2015-08-20T00:00:00      2   \n",
       "3             0    64900000       159.0  2015-07-24T00:00:00      3   \n",
       "4             2    10000000       100.0  2018-06-19T00:00:00      2   \n",
       "\n",
       "   ceiling_height floors_total  living_area  floor  is_apartment  studio  \\\n",
       "0            2.70           20         51.0      8         False   False   \n",
       "1            2.65            7         18.6      1         False   False   \n",
       "2            2.65           10         34.3      4         False   False   \n",
       "3            2.65            0         36.5      9         False   False   \n",
       "4            3.03            2         32.0     13         False   False   \n",
       "\n",
       "   open_plan  kitchen_area  balcony    locality_name  airports_nearest  \\\n",
       "0      False          25.0        0  Санкт-Петербург           18863.0   \n",
       "1      False          11.0        2   посёлок Шушары           12817.0   \n",
       "2      False           8.3        0  Санкт-Петербург           21741.0   \n",
       "3      False          50.3        0  Санкт-Петербург           28098.0   \n",
       "4      False          41.0        0  Санкт-Петербург           31856.0   \n",
       "\n",
       "   cityCenters_nearest  parks_around3000  parks_nearest  ponds_around3000  \\\n",
       "0              16028.0                 1     482.000000                 2   \n",
       "1              18603.0                 0     490.830729                 0   \n",
       "2              13933.0                 1      90.000000                 2   \n",
       "3               6800.0                 2      84.000000                 3   \n",
       "4               8098.0                 2     112.000000                 1   \n",
       "\n",
       "   ponds_nearest  days_exposition  \n",
       "0     755.000000              NaN  \n",
       "1     518.059879             81.0  \n",
       "2     574.000000            558.0  \n",
       "3     234.000000            424.0  \n",
       "4      48.000000            121.0  "
      ]
     },
     "execution_count": 24,
     "metadata": {},
     "output_type": "execute_result"
    }
   ],
   "source": [
    "data.head()"
   ]
  },
  {
   "cell_type": "markdown",
   "metadata": {},
   "source": [
    "Общий вывод:\n",
    "Пропуски заполнены. В таблице осталось 23650 строк из 23699. Всего удалили 49 строк и один столбец, который не учавствует в анализе. Типы данных переведины в верные."
   ]
  },
  {
   "cell_type": "markdown",
   "metadata": {},
   "source": [
    "## Расчёты и добавление результатов в таблицу"
   ]
  },
  {
   "cell_type": "markdown",
   "metadata": {},
   "source": [
    "Теперь расчеты\n",
    "Начнем!\n",
    "Сперва, посчитаем цену квадратного метра"
   ]
  },
  {
   "cell_type": "code",
   "execution_count": 25,
   "metadata": {},
   "outputs": [
    {
     "data": {
      "text/html": [
       "<div>\n",
       "<style scoped>\n",
       "    .dataframe tbody tr th:only-of-type {\n",
       "        vertical-align: middle;\n",
       "    }\n",
       "\n",
       "    .dataframe tbody tr th {\n",
       "        vertical-align: top;\n",
       "    }\n",
       "\n",
       "    .dataframe thead th {\n",
       "        text-align: right;\n",
       "    }\n",
       "</style>\n",
       "<table border=\"1\" class=\"dataframe\">\n",
       "  <thead>\n",
       "    <tr style=\"text-align: right;\">\n",
       "      <th></th>\n",
       "      <th>total_images</th>\n",
       "      <th>last_price</th>\n",
       "      <th>total_area</th>\n",
       "      <th>first_day_exposition</th>\n",
       "      <th>rooms</th>\n",
       "      <th>ceiling_height</th>\n",
       "      <th>floors_total</th>\n",
       "      <th>living_area</th>\n",
       "      <th>floor</th>\n",
       "      <th>is_apartment</th>\n",
       "      <th>studio</th>\n",
       "      <th>open_plan</th>\n",
       "      <th>kitchen_area</th>\n",
       "      <th>balcony</th>\n",
       "      <th>locality_name</th>\n",
       "      <th>airports_nearest</th>\n",
       "      <th>cityCenters_nearest</th>\n",
       "      <th>parks_around3000</th>\n",
       "      <th>parks_nearest</th>\n",
       "      <th>ponds_around3000</th>\n",
       "      <th>ponds_nearest</th>\n",
       "      <th>days_exposition</th>\n",
       "      <th>price_for_m2</th>\n",
       "    </tr>\n",
       "  </thead>\n",
       "  <tbody>\n",
       "    <tr>\n",
       "      <td>0</td>\n",
       "      <td>20</td>\n",
       "      <td>13000000</td>\n",
       "      <td>108.0</td>\n",
       "      <td>2019-03-07T00:00:00</td>\n",
       "      <td>3</td>\n",
       "      <td>2.70</td>\n",
       "      <td>20</td>\n",
       "      <td>51.0</td>\n",
       "      <td>8</td>\n",
       "      <td>False</td>\n",
       "      <td>False</td>\n",
       "      <td>False</td>\n",
       "      <td>25.0</td>\n",
       "      <td>0</td>\n",
       "      <td>Санкт-Петербург</td>\n",
       "      <td>18863.0</td>\n",
       "      <td>16028.0</td>\n",
       "      <td>1</td>\n",
       "      <td>482.000000</td>\n",
       "      <td>2</td>\n",
       "      <td>755.000000</td>\n",
       "      <td>NaN</td>\n",
       "      <td>254901.961</td>\n",
       "    </tr>\n",
       "    <tr>\n",
       "      <td>1</td>\n",
       "      <td>7</td>\n",
       "      <td>3350000</td>\n",
       "      <td>40.4</td>\n",
       "      <td>2018-12-04T00:00:00</td>\n",
       "      <td>1</td>\n",
       "      <td>2.65</td>\n",
       "      <td>7</td>\n",
       "      <td>18.6</td>\n",
       "      <td>1</td>\n",
       "      <td>False</td>\n",
       "      <td>False</td>\n",
       "      <td>False</td>\n",
       "      <td>11.0</td>\n",
       "      <td>2</td>\n",
       "      <td>посёлок Шушары</td>\n",
       "      <td>12817.0</td>\n",
       "      <td>18603.0</td>\n",
       "      <td>0</td>\n",
       "      <td>490.830729</td>\n",
       "      <td>0</td>\n",
       "      <td>518.059879</td>\n",
       "      <td>81.0</td>\n",
       "      <td>180107.527</td>\n",
       "    </tr>\n",
       "    <tr>\n",
       "      <td>2</td>\n",
       "      <td>10</td>\n",
       "      <td>5196000</td>\n",
       "      <td>56.0</td>\n",
       "      <td>2015-08-20T00:00:00</td>\n",
       "      <td>2</td>\n",
       "      <td>2.65</td>\n",
       "      <td>10</td>\n",
       "      <td>34.3</td>\n",
       "      <td>4</td>\n",
       "      <td>False</td>\n",
       "      <td>False</td>\n",
       "      <td>False</td>\n",
       "      <td>8.3</td>\n",
       "      <td>0</td>\n",
       "      <td>Санкт-Петербург</td>\n",
       "      <td>21741.0</td>\n",
       "      <td>13933.0</td>\n",
       "      <td>1</td>\n",
       "      <td>90.000000</td>\n",
       "      <td>2</td>\n",
       "      <td>574.000000</td>\n",
       "      <td>558.0</td>\n",
       "      <td>151486.880</td>\n",
       "    </tr>\n",
       "    <tr>\n",
       "      <td>3</td>\n",
       "      <td>0</td>\n",
       "      <td>64900000</td>\n",
       "      <td>159.0</td>\n",
       "      <td>2015-07-24T00:00:00</td>\n",
       "      <td>3</td>\n",
       "      <td>2.65</td>\n",
       "      <td>0</td>\n",
       "      <td>36.5</td>\n",
       "      <td>9</td>\n",
       "      <td>False</td>\n",
       "      <td>False</td>\n",
       "      <td>False</td>\n",
       "      <td>50.3</td>\n",
       "      <td>0</td>\n",
       "      <td>Санкт-Петербург</td>\n",
       "      <td>28098.0</td>\n",
       "      <td>6800.0</td>\n",
       "      <td>2</td>\n",
       "      <td>84.000000</td>\n",
       "      <td>3</td>\n",
       "      <td>234.000000</td>\n",
       "      <td>424.0</td>\n",
       "      <td>1778082.192</td>\n",
       "    </tr>\n",
       "    <tr>\n",
       "      <td>4</td>\n",
       "      <td>2</td>\n",
       "      <td>10000000</td>\n",
       "      <td>100.0</td>\n",
       "      <td>2018-06-19T00:00:00</td>\n",
       "      <td>2</td>\n",
       "      <td>3.03</td>\n",
       "      <td>2</td>\n",
       "      <td>32.0</td>\n",
       "      <td>13</td>\n",
       "      <td>False</td>\n",
       "      <td>False</td>\n",
       "      <td>False</td>\n",
       "      <td>41.0</td>\n",
       "      <td>0</td>\n",
       "      <td>Санкт-Петербург</td>\n",
       "      <td>31856.0</td>\n",
       "      <td>8098.0</td>\n",
       "      <td>2</td>\n",
       "      <td>112.000000</td>\n",
       "      <td>1</td>\n",
       "      <td>48.000000</td>\n",
       "      <td>121.0</td>\n",
       "      <td>312500.000</td>\n",
       "    </tr>\n",
       "  </tbody>\n",
       "</table>\n",
       "</div>"
      ],
      "text/plain": [
       "   total_images  last_price  total_area first_day_exposition  rooms  \\\n",
       "0            20    13000000       108.0  2019-03-07T00:00:00      3   \n",
       "1             7     3350000        40.4  2018-12-04T00:00:00      1   \n",
       "2            10     5196000        56.0  2015-08-20T00:00:00      2   \n",
       "3             0    64900000       159.0  2015-07-24T00:00:00      3   \n",
       "4             2    10000000       100.0  2018-06-19T00:00:00      2   \n",
       "\n",
       "   ceiling_height floors_total  living_area  floor  is_apartment  studio  \\\n",
       "0            2.70           20         51.0      8         False   False   \n",
       "1            2.65            7         18.6      1         False   False   \n",
       "2            2.65           10         34.3      4         False   False   \n",
       "3            2.65            0         36.5      9         False   False   \n",
       "4            3.03            2         32.0     13         False   False   \n",
       "\n",
       "   open_plan  kitchen_area  balcony    locality_name  airports_nearest  \\\n",
       "0      False          25.0        0  Санкт-Петербург           18863.0   \n",
       "1      False          11.0        2   посёлок Шушары           12817.0   \n",
       "2      False           8.3        0  Санкт-Петербург           21741.0   \n",
       "3      False          50.3        0  Санкт-Петербург           28098.0   \n",
       "4      False          41.0        0  Санкт-Петербург           31856.0   \n",
       "\n",
       "   cityCenters_nearest  parks_around3000  parks_nearest  ponds_around3000  \\\n",
       "0              16028.0                 1     482.000000                 2   \n",
       "1              18603.0                 0     490.830729                 0   \n",
       "2              13933.0                 1      90.000000                 2   \n",
       "3               6800.0                 2      84.000000                 3   \n",
       "4               8098.0                 2     112.000000                 1   \n",
       "\n",
       "   ponds_nearest  days_exposition  price_for_m2  \n",
       "0     755.000000              NaN    254901.961  \n",
       "1     518.059879             81.0    180107.527  \n",
       "2     574.000000            558.0    151486.880  \n",
       "3     234.000000            424.0   1778082.192  \n",
       "4      48.000000            121.0    312500.000  "
      ]
     },
     "execution_count": 25,
     "metadata": {},
     "output_type": "execute_result"
    }
   ],
   "source": [
    "data['price_for_m2']=data['last_price']/data['living_area']# Посчитали и сделали столбец со стоимостью за м2\n",
    "data['price_for_m2'] = round(data['price_for_m2'], 3)\n",
    "data.head()"
   ]
  },
  {
   "cell_type": "code",
   "execution_count": 26,
   "metadata": {},
   "outputs": [
    {
     "data": {
      "text/html": [
       "<div>\n",
       "<style scoped>\n",
       "    .dataframe tbody tr th:only-of-type {\n",
       "        vertical-align: middle;\n",
       "    }\n",
       "\n",
       "    .dataframe tbody tr th {\n",
       "        vertical-align: top;\n",
       "    }\n",
       "\n",
       "    .dataframe thead th {\n",
       "        text-align: right;\n",
       "    }\n",
       "</style>\n",
       "<table border=\"1\" class=\"dataframe\">\n",
       "  <thead>\n",
       "    <tr style=\"text-align: right;\">\n",
       "      <th></th>\n",
       "      <th>total_images</th>\n",
       "      <th>last_price</th>\n",
       "      <th>total_area</th>\n",
       "      <th>first_day_exposition</th>\n",
       "      <th>rooms</th>\n",
       "      <th>ceiling_height</th>\n",
       "      <th>floors_total</th>\n",
       "      <th>living_area</th>\n",
       "      <th>floor</th>\n",
       "      <th>is_apartment</th>\n",
       "      <th>studio</th>\n",
       "      <th>open_plan</th>\n",
       "      <th>kitchen_area</th>\n",
       "      <th>balcony</th>\n",
       "      <th>locality_name</th>\n",
       "      <th>airports_nearest</th>\n",
       "      <th>cityCenters_nearest</th>\n",
       "      <th>parks_around3000</th>\n",
       "      <th>parks_nearest</th>\n",
       "      <th>ponds_around3000</th>\n",
       "      <th>ponds_nearest</th>\n",
       "      <th>days_exposition</th>\n",
       "      <th>price_for_m2</th>\n",
       "      <th>week_day</th>\n",
       "      <th>month</th>\n",
       "      <th>year</th>\n",
       "    </tr>\n",
       "  </thead>\n",
       "  <tbody>\n",
       "    <tr>\n",
       "      <td>0</td>\n",
       "      <td>20</td>\n",
       "      <td>13000000</td>\n",
       "      <td>108.0</td>\n",
       "      <td>2019-03-07</td>\n",
       "      <td>3</td>\n",
       "      <td>2.70</td>\n",
       "      <td>20</td>\n",
       "      <td>51.0</td>\n",
       "      <td>8</td>\n",
       "      <td>False</td>\n",
       "      <td>False</td>\n",
       "      <td>False</td>\n",
       "      <td>25.0</td>\n",
       "      <td>0</td>\n",
       "      <td>Санкт-Петербург</td>\n",
       "      <td>18863.0</td>\n",
       "      <td>16028.0</td>\n",
       "      <td>1</td>\n",
       "      <td>482.000000</td>\n",
       "      <td>2</td>\n",
       "      <td>755.000000</td>\n",
       "      <td>NaN</td>\n",
       "      <td>254901.961</td>\n",
       "      <td>3</td>\n",
       "      <td>3</td>\n",
       "      <td>2019</td>\n",
       "    </tr>\n",
       "    <tr>\n",
       "      <td>1</td>\n",
       "      <td>7</td>\n",
       "      <td>3350000</td>\n",
       "      <td>40.4</td>\n",
       "      <td>2018-12-04</td>\n",
       "      <td>1</td>\n",
       "      <td>2.65</td>\n",
       "      <td>7</td>\n",
       "      <td>18.6</td>\n",
       "      <td>1</td>\n",
       "      <td>False</td>\n",
       "      <td>False</td>\n",
       "      <td>False</td>\n",
       "      <td>11.0</td>\n",
       "      <td>2</td>\n",
       "      <td>посёлок Шушары</td>\n",
       "      <td>12817.0</td>\n",
       "      <td>18603.0</td>\n",
       "      <td>0</td>\n",
       "      <td>490.830729</td>\n",
       "      <td>0</td>\n",
       "      <td>518.059879</td>\n",
       "      <td>81.0</td>\n",
       "      <td>180107.527</td>\n",
       "      <td>1</td>\n",
       "      <td>12</td>\n",
       "      <td>2018</td>\n",
       "    </tr>\n",
       "    <tr>\n",
       "      <td>2</td>\n",
       "      <td>10</td>\n",
       "      <td>5196000</td>\n",
       "      <td>56.0</td>\n",
       "      <td>2015-08-20</td>\n",
       "      <td>2</td>\n",
       "      <td>2.65</td>\n",
       "      <td>10</td>\n",
       "      <td>34.3</td>\n",
       "      <td>4</td>\n",
       "      <td>False</td>\n",
       "      <td>False</td>\n",
       "      <td>False</td>\n",
       "      <td>8.3</td>\n",
       "      <td>0</td>\n",
       "      <td>Санкт-Петербург</td>\n",
       "      <td>21741.0</td>\n",
       "      <td>13933.0</td>\n",
       "      <td>1</td>\n",
       "      <td>90.000000</td>\n",
       "      <td>2</td>\n",
       "      <td>574.000000</td>\n",
       "      <td>558.0</td>\n",
       "      <td>151486.880</td>\n",
       "      <td>3</td>\n",
       "      <td>8</td>\n",
       "      <td>2015</td>\n",
       "    </tr>\n",
       "    <tr>\n",
       "      <td>3</td>\n",
       "      <td>0</td>\n",
       "      <td>64900000</td>\n",
       "      <td>159.0</td>\n",
       "      <td>2015-07-24</td>\n",
       "      <td>3</td>\n",
       "      <td>2.65</td>\n",
       "      <td>0</td>\n",
       "      <td>36.5</td>\n",
       "      <td>9</td>\n",
       "      <td>False</td>\n",
       "      <td>False</td>\n",
       "      <td>False</td>\n",
       "      <td>50.3</td>\n",
       "      <td>0</td>\n",
       "      <td>Санкт-Петербург</td>\n",
       "      <td>28098.0</td>\n",
       "      <td>6800.0</td>\n",
       "      <td>2</td>\n",
       "      <td>84.000000</td>\n",
       "      <td>3</td>\n",
       "      <td>234.000000</td>\n",
       "      <td>424.0</td>\n",
       "      <td>1778082.192</td>\n",
       "      <td>4</td>\n",
       "      <td>7</td>\n",
       "      <td>2015</td>\n",
       "    </tr>\n",
       "    <tr>\n",
       "      <td>4</td>\n",
       "      <td>2</td>\n",
       "      <td>10000000</td>\n",
       "      <td>100.0</td>\n",
       "      <td>2018-06-19</td>\n",
       "      <td>2</td>\n",
       "      <td>3.03</td>\n",
       "      <td>2</td>\n",
       "      <td>32.0</td>\n",
       "      <td>13</td>\n",
       "      <td>False</td>\n",
       "      <td>False</td>\n",
       "      <td>False</td>\n",
       "      <td>41.0</td>\n",
       "      <td>0</td>\n",
       "      <td>Санкт-Петербург</td>\n",
       "      <td>31856.0</td>\n",
       "      <td>8098.0</td>\n",
       "      <td>2</td>\n",
       "      <td>112.000000</td>\n",
       "      <td>1</td>\n",
       "      <td>48.000000</td>\n",
       "      <td>121.0</td>\n",
       "      <td>312500.000</td>\n",
       "      <td>1</td>\n",
       "      <td>6</td>\n",
       "      <td>2018</td>\n",
       "    </tr>\n",
       "  </tbody>\n",
       "</table>\n",
       "</div>"
      ],
      "text/plain": [
       "   total_images  last_price  total_area first_day_exposition  rooms  \\\n",
       "0            20    13000000       108.0           2019-03-07      3   \n",
       "1             7     3350000        40.4           2018-12-04      1   \n",
       "2            10     5196000        56.0           2015-08-20      2   \n",
       "3             0    64900000       159.0           2015-07-24      3   \n",
       "4             2    10000000       100.0           2018-06-19      2   \n",
       "\n",
       "   ceiling_height floors_total  living_area  floor  is_apartment  studio  \\\n",
       "0            2.70           20         51.0      8         False   False   \n",
       "1            2.65            7         18.6      1         False   False   \n",
       "2            2.65           10         34.3      4         False   False   \n",
       "3            2.65            0         36.5      9         False   False   \n",
       "4            3.03            2         32.0     13         False   False   \n",
       "\n",
       "   open_plan  kitchen_area  balcony    locality_name  airports_nearest  \\\n",
       "0      False          25.0        0  Санкт-Петербург           18863.0   \n",
       "1      False          11.0        2   посёлок Шушары           12817.0   \n",
       "2      False           8.3        0  Санкт-Петербург           21741.0   \n",
       "3      False          50.3        0  Санкт-Петербург           28098.0   \n",
       "4      False          41.0        0  Санкт-Петербург           31856.0   \n",
       "\n",
       "   cityCenters_nearest  parks_around3000  parks_nearest  ponds_around3000  \\\n",
       "0              16028.0                 1     482.000000                 2   \n",
       "1              18603.0                 0     490.830729                 0   \n",
       "2              13933.0                 1      90.000000                 2   \n",
       "3               6800.0                 2      84.000000                 3   \n",
       "4               8098.0                 2     112.000000                 1   \n",
       "\n",
       "   ponds_nearest  days_exposition  price_for_m2  week_day  month  year  \n",
       "0     755.000000              NaN    254901.961         3      3  2019  \n",
       "1     518.059879             81.0    180107.527         1     12  2018  \n",
       "2     574.000000            558.0    151486.880         3      8  2015  \n",
       "3     234.000000            424.0   1778082.192         4      7  2015  \n",
       "4      48.000000            121.0    312500.000         1      6  2018  "
      ]
     },
     "execution_count": 26,
     "metadata": {},
     "output_type": "execute_result"
    }
   ],
   "source": [
    "#Теперь поработаем с датой\n",
    "#Переведу дату в тип datetime и создам новые столбцы с днем недели, месяцем и годом\n",
    "\n",
    "data['first_day_exposition']=pd.to_datetime(data['first_day_exposition'],format='%Y.%m.%dT%H:%M:%S')\n",
    "\n",
    "data['week_day']=data['first_day_exposition'].dt.weekday # создаю столбец с днем недели\n",
    "data['month']=data['first_day_exposition'].dt.month # с месяцем\n",
    "data['year']=data['first_day_exposition'].dt.year # с годом\n",
    "data.head()"
   ]
  },
  {
   "cell_type": "code",
   "execution_count": 27,
   "metadata": {},
   "outputs": [],
   "source": [
    "#разберемся с этажами\n",
    "# Функция категоризации этажей\n",
    "def floor_group(row):\n",
    "    what_floor=row['floor']\n",
    "    total_floor=row['floors_total']\n",
    "    if what_floor==1:\n",
    "        return 'Первый этаж'\n",
    "    if what_floor==total_floor:\n",
    "        return 'Последний этаж'\n",
    "    return 'Другой этаж'\n",
    "\n",
    "floor_position=data.apply(floor_group,axis=1) #заливка датафрейма через apply и функцию\n",
    "data['Floor_position']=floor_position "
   ]
  },
  {
   "cell_type": "code",
   "execution_count": 28,
   "metadata": {},
   "outputs": [
    {
     "data": {
      "text/html": [
       "<div>\n",
       "<style scoped>\n",
       "    .dataframe tbody tr th:only-of-type {\n",
       "        vertical-align: middle;\n",
       "    }\n",
       "\n",
       "    .dataframe tbody tr th {\n",
       "        vertical-align: top;\n",
       "    }\n",
       "\n",
       "    .dataframe thead th {\n",
       "        text-align: right;\n",
       "    }\n",
       "</style>\n",
       "<table border=\"1\" class=\"dataframe\">\n",
       "  <thead>\n",
       "    <tr style=\"text-align: right;\">\n",
       "      <th></th>\n",
       "      <th>total_images</th>\n",
       "      <th>last_price</th>\n",
       "      <th>total_area</th>\n",
       "      <th>first_day_exposition</th>\n",
       "      <th>rooms</th>\n",
       "      <th>ceiling_height</th>\n",
       "      <th>floors_total</th>\n",
       "      <th>living_area</th>\n",
       "      <th>floor</th>\n",
       "      <th>is_apartment</th>\n",
       "      <th>studio</th>\n",
       "      <th>open_plan</th>\n",
       "      <th>kitchen_area</th>\n",
       "      <th>balcony</th>\n",
       "      <th>locality_name</th>\n",
       "      <th>airports_nearest</th>\n",
       "      <th>cityCenters_nearest</th>\n",
       "      <th>parks_around3000</th>\n",
       "      <th>parks_nearest</th>\n",
       "      <th>ponds_around3000</th>\n",
       "      <th>ponds_nearest</th>\n",
       "      <th>days_exposition</th>\n",
       "      <th>price_for_m2</th>\n",
       "      <th>week_day</th>\n",
       "      <th>month</th>\n",
       "      <th>year</th>\n",
       "      <th>Floor_position</th>\n",
       "    </tr>\n",
       "  </thead>\n",
       "  <tbody>\n",
       "    <tr>\n",
       "      <td>0</td>\n",
       "      <td>20</td>\n",
       "      <td>13000000</td>\n",
       "      <td>108.0</td>\n",
       "      <td>2019-03-07</td>\n",
       "      <td>3</td>\n",
       "      <td>2.70</td>\n",
       "      <td>20</td>\n",
       "      <td>51.0</td>\n",
       "      <td>8</td>\n",
       "      <td>False</td>\n",
       "      <td>False</td>\n",
       "      <td>False</td>\n",
       "      <td>25.0</td>\n",
       "      <td>0</td>\n",
       "      <td>Санкт-Петербург</td>\n",
       "      <td>18863.0</td>\n",
       "      <td>16028.0</td>\n",
       "      <td>1</td>\n",
       "      <td>482.000000</td>\n",
       "      <td>2</td>\n",
       "      <td>755.000000</td>\n",
       "      <td>NaN</td>\n",
       "      <td>254901.961</td>\n",
       "      <td>3</td>\n",
       "      <td>3</td>\n",
       "      <td>2019</td>\n",
       "      <td>Другой этаж</td>\n",
       "    </tr>\n",
       "    <tr>\n",
       "      <td>1</td>\n",
       "      <td>7</td>\n",
       "      <td>3350000</td>\n",
       "      <td>40.4</td>\n",
       "      <td>2018-12-04</td>\n",
       "      <td>1</td>\n",
       "      <td>2.65</td>\n",
       "      <td>7</td>\n",
       "      <td>18.6</td>\n",
       "      <td>1</td>\n",
       "      <td>False</td>\n",
       "      <td>False</td>\n",
       "      <td>False</td>\n",
       "      <td>11.0</td>\n",
       "      <td>2</td>\n",
       "      <td>посёлок Шушары</td>\n",
       "      <td>12817.0</td>\n",
       "      <td>18603.0</td>\n",
       "      <td>0</td>\n",
       "      <td>490.830729</td>\n",
       "      <td>0</td>\n",
       "      <td>518.059879</td>\n",
       "      <td>81.0</td>\n",
       "      <td>180107.527</td>\n",
       "      <td>1</td>\n",
       "      <td>12</td>\n",
       "      <td>2018</td>\n",
       "      <td>Первый этаж</td>\n",
       "    </tr>\n",
       "    <tr>\n",
       "      <td>2</td>\n",
       "      <td>10</td>\n",
       "      <td>5196000</td>\n",
       "      <td>56.0</td>\n",
       "      <td>2015-08-20</td>\n",
       "      <td>2</td>\n",
       "      <td>2.65</td>\n",
       "      <td>10</td>\n",
       "      <td>34.3</td>\n",
       "      <td>4</td>\n",
       "      <td>False</td>\n",
       "      <td>False</td>\n",
       "      <td>False</td>\n",
       "      <td>8.3</td>\n",
       "      <td>0</td>\n",
       "      <td>Санкт-Петербург</td>\n",
       "      <td>21741.0</td>\n",
       "      <td>13933.0</td>\n",
       "      <td>1</td>\n",
       "      <td>90.000000</td>\n",
       "      <td>2</td>\n",
       "      <td>574.000000</td>\n",
       "      <td>558.0</td>\n",
       "      <td>151486.880</td>\n",
       "      <td>3</td>\n",
       "      <td>8</td>\n",
       "      <td>2015</td>\n",
       "      <td>Другой этаж</td>\n",
       "    </tr>\n",
       "    <tr>\n",
       "      <td>3</td>\n",
       "      <td>0</td>\n",
       "      <td>64900000</td>\n",
       "      <td>159.0</td>\n",
       "      <td>2015-07-24</td>\n",
       "      <td>3</td>\n",
       "      <td>2.65</td>\n",
       "      <td>0</td>\n",
       "      <td>36.5</td>\n",
       "      <td>9</td>\n",
       "      <td>False</td>\n",
       "      <td>False</td>\n",
       "      <td>False</td>\n",
       "      <td>50.3</td>\n",
       "      <td>0</td>\n",
       "      <td>Санкт-Петербург</td>\n",
       "      <td>28098.0</td>\n",
       "      <td>6800.0</td>\n",
       "      <td>2</td>\n",
       "      <td>84.000000</td>\n",
       "      <td>3</td>\n",
       "      <td>234.000000</td>\n",
       "      <td>424.0</td>\n",
       "      <td>1778082.192</td>\n",
       "      <td>4</td>\n",
       "      <td>7</td>\n",
       "      <td>2015</td>\n",
       "      <td>Другой этаж</td>\n",
       "    </tr>\n",
       "    <tr>\n",
       "      <td>4</td>\n",
       "      <td>2</td>\n",
       "      <td>10000000</td>\n",
       "      <td>100.0</td>\n",
       "      <td>2018-06-19</td>\n",
       "      <td>2</td>\n",
       "      <td>3.03</td>\n",
       "      <td>2</td>\n",
       "      <td>32.0</td>\n",
       "      <td>13</td>\n",
       "      <td>False</td>\n",
       "      <td>False</td>\n",
       "      <td>False</td>\n",
       "      <td>41.0</td>\n",
       "      <td>0</td>\n",
       "      <td>Санкт-Петербург</td>\n",
       "      <td>31856.0</td>\n",
       "      <td>8098.0</td>\n",
       "      <td>2</td>\n",
       "      <td>112.000000</td>\n",
       "      <td>1</td>\n",
       "      <td>48.000000</td>\n",
       "      <td>121.0</td>\n",
       "      <td>312500.000</td>\n",
       "      <td>1</td>\n",
       "      <td>6</td>\n",
       "      <td>2018</td>\n",
       "      <td>Другой этаж</td>\n",
       "    </tr>\n",
       "  </tbody>\n",
       "</table>\n",
       "</div>"
      ],
      "text/plain": [
       "   total_images  last_price  total_area first_day_exposition  rooms  \\\n",
       "0            20    13000000       108.0           2019-03-07      3   \n",
       "1             7     3350000        40.4           2018-12-04      1   \n",
       "2            10     5196000        56.0           2015-08-20      2   \n",
       "3             0    64900000       159.0           2015-07-24      3   \n",
       "4             2    10000000       100.0           2018-06-19      2   \n",
       "\n",
       "   ceiling_height floors_total  living_area  floor  is_apartment  studio  \\\n",
       "0            2.70           20         51.0      8         False   False   \n",
       "1            2.65            7         18.6      1         False   False   \n",
       "2            2.65           10         34.3      4         False   False   \n",
       "3            2.65            0         36.5      9         False   False   \n",
       "4            3.03            2         32.0     13         False   False   \n",
       "\n",
       "   open_plan  kitchen_area  balcony    locality_name  airports_nearest  \\\n",
       "0      False          25.0        0  Санкт-Петербург           18863.0   \n",
       "1      False          11.0        2   посёлок Шушары           12817.0   \n",
       "2      False           8.3        0  Санкт-Петербург           21741.0   \n",
       "3      False          50.3        0  Санкт-Петербург           28098.0   \n",
       "4      False          41.0        0  Санкт-Петербург           31856.0   \n",
       "\n",
       "   cityCenters_nearest  parks_around3000  parks_nearest  ponds_around3000  \\\n",
       "0              16028.0                 1     482.000000                 2   \n",
       "1              18603.0                 0     490.830729                 0   \n",
       "2              13933.0                 1      90.000000                 2   \n",
       "3               6800.0                 2      84.000000                 3   \n",
       "4               8098.0                 2     112.000000                 1   \n",
       "\n",
       "   ponds_nearest  days_exposition  price_for_m2  week_day  month  year  \\\n",
       "0     755.000000              NaN    254901.961         3      3  2019   \n",
       "1     518.059879             81.0    180107.527         1     12  2018   \n",
       "2     574.000000            558.0    151486.880         3      8  2015   \n",
       "3     234.000000            424.0   1778082.192         4      7  2015   \n",
       "4      48.000000            121.0    312500.000         1      6  2018   \n",
       "\n",
       "  Floor_position  \n",
       "0    Другой этаж  \n",
       "1    Первый этаж  \n",
       "2    Другой этаж  \n",
       "3    Другой этаж  \n",
       "4    Другой этаж  "
      ]
     },
     "execution_count": 28,
     "metadata": {},
     "output_type": "execute_result"
    }
   ],
   "source": [
    "data.head()"
   ]
  },
  {
   "cell_type": "code",
   "execution_count": 29,
   "metadata": {
    "scrolled": true
   },
   "outputs": [
    {
     "data": {
      "text/html": [
       "<div>\n",
       "<style scoped>\n",
       "    .dataframe tbody tr th:only-of-type {\n",
       "        vertical-align: middle;\n",
       "    }\n",
       "\n",
       "    .dataframe tbody tr th {\n",
       "        vertical-align: top;\n",
       "    }\n",
       "\n",
       "    .dataframe thead th {\n",
       "        text-align: right;\n",
       "    }\n",
       "</style>\n",
       "<table border=\"1\" class=\"dataframe\">\n",
       "  <thead>\n",
       "    <tr style=\"text-align: right;\">\n",
       "      <th></th>\n",
       "      <th>total_images</th>\n",
       "      <th>last_price</th>\n",
       "      <th>total_area</th>\n",
       "      <th>first_day_exposition</th>\n",
       "      <th>rooms</th>\n",
       "      <th>ceiling_height</th>\n",
       "      <th>floors_total</th>\n",
       "      <th>living_area</th>\n",
       "      <th>floor</th>\n",
       "      <th>is_apartment</th>\n",
       "      <th>studio</th>\n",
       "      <th>open_plan</th>\n",
       "      <th>kitchen_area</th>\n",
       "      <th>balcony</th>\n",
       "      <th>locality_name</th>\n",
       "      <th>airports_nearest</th>\n",
       "      <th>cityCenters_nearest</th>\n",
       "      <th>parks_around3000</th>\n",
       "      <th>parks_nearest</th>\n",
       "      <th>ponds_around3000</th>\n",
       "      <th>ponds_nearest</th>\n",
       "      <th>days_exposition</th>\n",
       "      <th>price_for_m2</th>\n",
       "      <th>week_day</th>\n",
       "      <th>month</th>\n",
       "      <th>year</th>\n",
       "      <th>Floor_position</th>\n",
       "      <th>living_area/total_area</th>\n",
       "      <th>kitchen_area/total_area</th>\n",
       "    </tr>\n",
       "  </thead>\n",
       "  <tbody>\n",
       "    <tr>\n",
       "      <td>0</td>\n",
       "      <td>20</td>\n",
       "      <td>13000000</td>\n",
       "      <td>108.0</td>\n",
       "      <td>2019-03-07</td>\n",
       "      <td>3</td>\n",
       "      <td>2.70</td>\n",
       "      <td>20</td>\n",
       "      <td>51.0</td>\n",
       "      <td>8</td>\n",
       "      <td>False</td>\n",
       "      <td>False</td>\n",
       "      <td>False</td>\n",
       "      <td>25.0</td>\n",
       "      <td>0</td>\n",
       "      <td>Санкт-Петербург</td>\n",
       "      <td>18863.0</td>\n",
       "      <td>16028.0</td>\n",
       "      <td>1</td>\n",
       "      <td>482.000000</td>\n",
       "      <td>2</td>\n",
       "      <td>755.000000</td>\n",
       "      <td>NaN</td>\n",
       "      <td>254901.961</td>\n",
       "      <td>3</td>\n",
       "      <td>3</td>\n",
       "      <td>2019</td>\n",
       "      <td>Другой этаж</td>\n",
       "      <td>0.472222</td>\n",
       "      <td>0.231481</td>\n",
       "    </tr>\n",
       "    <tr>\n",
       "      <td>1</td>\n",
       "      <td>7</td>\n",
       "      <td>3350000</td>\n",
       "      <td>40.4</td>\n",
       "      <td>2018-12-04</td>\n",
       "      <td>1</td>\n",
       "      <td>2.65</td>\n",
       "      <td>7</td>\n",
       "      <td>18.6</td>\n",
       "      <td>1</td>\n",
       "      <td>False</td>\n",
       "      <td>False</td>\n",
       "      <td>False</td>\n",
       "      <td>11.0</td>\n",
       "      <td>2</td>\n",
       "      <td>посёлок Шушары</td>\n",
       "      <td>12817.0</td>\n",
       "      <td>18603.0</td>\n",
       "      <td>0</td>\n",
       "      <td>490.830729</td>\n",
       "      <td>0</td>\n",
       "      <td>518.059879</td>\n",
       "      <td>81.0</td>\n",
       "      <td>180107.527</td>\n",
       "      <td>1</td>\n",
       "      <td>12</td>\n",
       "      <td>2018</td>\n",
       "      <td>Первый этаж</td>\n",
       "      <td>0.460396</td>\n",
       "      <td>0.272277</td>\n",
       "    </tr>\n",
       "    <tr>\n",
       "      <td>2</td>\n",
       "      <td>10</td>\n",
       "      <td>5196000</td>\n",
       "      <td>56.0</td>\n",
       "      <td>2015-08-20</td>\n",
       "      <td>2</td>\n",
       "      <td>2.65</td>\n",
       "      <td>10</td>\n",
       "      <td>34.3</td>\n",
       "      <td>4</td>\n",
       "      <td>False</td>\n",
       "      <td>False</td>\n",
       "      <td>False</td>\n",
       "      <td>8.3</td>\n",
       "      <td>0</td>\n",
       "      <td>Санкт-Петербург</td>\n",
       "      <td>21741.0</td>\n",
       "      <td>13933.0</td>\n",
       "      <td>1</td>\n",
       "      <td>90.000000</td>\n",
       "      <td>2</td>\n",
       "      <td>574.000000</td>\n",
       "      <td>558.0</td>\n",
       "      <td>151486.880</td>\n",
       "      <td>3</td>\n",
       "      <td>8</td>\n",
       "      <td>2015</td>\n",
       "      <td>Другой этаж</td>\n",
       "      <td>0.612500</td>\n",
       "      <td>0.148214</td>\n",
       "    </tr>\n",
       "    <tr>\n",
       "      <td>3</td>\n",
       "      <td>0</td>\n",
       "      <td>64900000</td>\n",
       "      <td>159.0</td>\n",
       "      <td>2015-07-24</td>\n",
       "      <td>3</td>\n",
       "      <td>2.65</td>\n",
       "      <td>0</td>\n",
       "      <td>36.5</td>\n",
       "      <td>9</td>\n",
       "      <td>False</td>\n",
       "      <td>False</td>\n",
       "      <td>False</td>\n",
       "      <td>50.3</td>\n",
       "      <td>0</td>\n",
       "      <td>Санкт-Петербург</td>\n",
       "      <td>28098.0</td>\n",
       "      <td>6800.0</td>\n",
       "      <td>2</td>\n",
       "      <td>84.000000</td>\n",
       "      <td>3</td>\n",
       "      <td>234.000000</td>\n",
       "      <td>424.0</td>\n",
       "      <td>1778082.192</td>\n",
       "      <td>4</td>\n",
       "      <td>7</td>\n",
       "      <td>2015</td>\n",
       "      <td>Другой этаж</td>\n",
       "      <td>0.229560</td>\n",
       "      <td>0.316352</td>\n",
       "    </tr>\n",
       "    <tr>\n",
       "      <td>4</td>\n",
       "      <td>2</td>\n",
       "      <td>10000000</td>\n",
       "      <td>100.0</td>\n",
       "      <td>2018-06-19</td>\n",
       "      <td>2</td>\n",
       "      <td>3.03</td>\n",
       "      <td>2</td>\n",
       "      <td>32.0</td>\n",
       "      <td>13</td>\n",
       "      <td>False</td>\n",
       "      <td>False</td>\n",
       "      <td>False</td>\n",
       "      <td>41.0</td>\n",
       "      <td>0</td>\n",
       "      <td>Санкт-Петербург</td>\n",
       "      <td>31856.0</td>\n",
       "      <td>8098.0</td>\n",
       "      <td>2</td>\n",
       "      <td>112.000000</td>\n",
       "      <td>1</td>\n",
       "      <td>48.000000</td>\n",
       "      <td>121.0</td>\n",
       "      <td>312500.000</td>\n",
       "      <td>1</td>\n",
       "      <td>6</td>\n",
       "      <td>2018</td>\n",
       "      <td>Другой этаж</td>\n",
       "      <td>0.320000</td>\n",
       "      <td>0.410000</td>\n",
       "    </tr>\n",
       "  </tbody>\n",
       "</table>\n",
       "</div>"
      ],
      "text/plain": [
       "   total_images  last_price  total_area first_day_exposition  rooms  \\\n",
       "0            20    13000000       108.0           2019-03-07      3   \n",
       "1             7     3350000        40.4           2018-12-04      1   \n",
       "2            10     5196000        56.0           2015-08-20      2   \n",
       "3             0    64900000       159.0           2015-07-24      3   \n",
       "4             2    10000000       100.0           2018-06-19      2   \n",
       "\n",
       "   ceiling_height floors_total  living_area  floor  is_apartment  studio  \\\n",
       "0            2.70           20         51.0      8         False   False   \n",
       "1            2.65            7         18.6      1         False   False   \n",
       "2            2.65           10         34.3      4         False   False   \n",
       "3            2.65            0         36.5      9         False   False   \n",
       "4            3.03            2         32.0     13         False   False   \n",
       "\n",
       "   open_plan  kitchen_area  balcony    locality_name  airports_nearest  \\\n",
       "0      False          25.0        0  Санкт-Петербург           18863.0   \n",
       "1      False          11.0        2   посёлок Шушары           12817.0   \n",
       "2      False           8.3        0  Санкт-Петербург           21741.0   \n",
       "3      False          50.3        0  Санкт-Петербург           28098.0   \n",
       "4      False          41.0        0  Санкт-Петербург           31856.0   \n",
       "\n",
       "   cityCenters_nearest  parks_around3000  parks_nearest  ponds_around3000  \\\n",
       "0              16028.0                 1     482.000000                 2   \n",
       "1              18603.0                 0     490.830729                 0   \n",
       "2              13933.0                 1      90.000000                 2   \n",
       "3               6800.0                 2      84.000000                 3   \n",
       "4               8098.0                 2     112.000000                 1   \n",
       "\n",
       "   ponds_nearest  days_exposition  price_for_m2  week_day  month  year  \\\n",
       "0     755.000000              NaN    254901.961         3      3  2019   \n",
       "1     518.059879             81.0    180107.527         1     12  2018   \n",
       "2     574.000000            558.0    151486.880         3      8  2015   \n",
       "3     234.000000            424.0   1778082.192         4      7  2015   \n",
       "4      48.000000            121.0    312500.000         1      6  2018   \n",
       "\n",
       "  Floor_position  living_area/total_area  kitchen_area/total_area  \n",
       "0    Другой этаж                0.472222                 0.231481  \n",
       "1    Первый этаж                0.460396                 0.272277  \n",
       "2    Другой этаж                0.612500                 0.148214  \n",
       "3    Другой этаж                0.229560                 0.316352  \n",
       "4    Другой этаж                0.320000                 0.410000  "
      ]
     },
     "execution_count": 29,
     "metadata": {},
     "output_type": "execute_result"
    }
   ],
   "source": [
    "data['living_area/total_area']=data['living_area']/data['total_area'] #  отношение  жилой к общей площади\n",
    "data['kitchen_area/total_area']=data['kitchen_area']/data['total_area'] #отношение площади кухни к жилой площади\n",
    "data.head()"
   ]
  },
  {
   "cell_type": "markdown",
   "metadata": {},
   "source": [
    "Вывод:\n",
    "Отлично теперь, когда созданы дополнительные столбцы с данными, можно переходить к исследованию"
   ]
  },
  {
   "cell_type": "markdown",
   "metadata": {},
   "source": [
    "## Исследовательский анализ данных"
   ]
  },
  {
   "cell_type": "code",
   "execution_count": 30,
   "metadata": {},
   "outputs": [
    {
     "data": {
      "text/plain": [
       "Text(0, 0.5, 'flats')"
      ]
     },
     "execution_count": 30,
     "metadata": {},
     "output_type": "execute_result"
    },
    {
     "data": {
      "image/png": "[encoded data removed]",
      "text/plain": [
       "<Figure size 432x288 with 1 Axes>"
      ]
     },
     "metadata": {
      "needs_background": "light"
     },
     "output_type": "display_data"
    }
   ],
   "source": [
    "# дальше строим гистограму по цене с 100 корзинами и до 30 миллионов\n",
    "data['last_price'].hist(bins = 100, range = (0, 30000000), edgecolor=\"black\")\n",
    "plt.xlabel('Price(million)')\n",
    "plt.ylabel('flats')"
   ]
  },
  {
   "cell_type": "markdown",
   "metadata": {},
   "source": [
    "Из данной гистограмы видно, что большенство квартир стоят от 3 до 5 миллионов."
   ]
  },
  {
   "cell_type": "code",
   "execution_count": 31,
   "metadata": {},
   "outputs": [
    {
     "data": {
      "text/plain": [
       "Text(0, 0.5, 'flats')"
      ]
     },
     "execution_count": 31,
     "metadata": {},
     "output_type": "execute_result"
    },
    {
     "data": {
      "image/png": "[encoded data removed]",
      "text/plain": [
       "<Figure size 432x288 with 1 Axes>"
      ]
     },
     "metadata": {
      "needs_background": "light"
     },
     "output_type": "display_data"
    }
   ],
   "source": [
    "#Построим гистограму по площади, но перед этим посмотрим, какая максимальная площадь для выбора параметра range\n",
    "# Самая большая площадь стоставляет 900, построив её я понял что это ничего не дает(график не понятен) и сократил до 300\n",
    "data['total_area'].hist(bins = 100, range = (0, 300))\n",
    "plt.xlabel('Total_area')\n",
    "plt.ylabel('flats')"
   ]
  },
  {
   "cell_type": "markdown",
   "metadata": {},
   "source": [
    "Отсюда видно, что больше всего квартир площадью от 35 до 50 метров. "
   ]
  },
  {
   "cell_type": "code",
   "execution_count": 32,
   "metadata": {},
   "outputs": [
    {
     "data": {
      "text/plain": [
       "Text(0, 0.5, 'flats')"
      ]
     },
     "execution_count": 32,
     "metadata": {},
     "output_type": "execute_result"
    },
    {
     "data": {
      "image/png": "[encoded data removed]",
      "text/plain": [
       "<Figure size 432x288 with 1 Axes>"
      ]
     },
     "metadata": {
      "needs_background": "light"
     },
     "output_type": "display_data"
    }
   ],
   "source": [
    "#Строим гистограму по комнатам\n",
    "data['rooms'].hist(bins = 100, range = (0, 10))\n",
    "plt.xlabel('rooms')\n",
    "plt.ylabel('flats')"
   ]
  },
  {
   "cell_type": "markdown",
   "metadata": {},
   "source": [
    "Хах, 0 комнат, похоже выброс от которого мы дальше избавимся, а так в порядке вещей квартиры с одной, двумя или тремя комнатами."
   ]
  },
  {
   "cell_type": "code",
   "execution_count": 33,
   "metadata": {},
   "outputs": [
    {
     "data": {
      "text/plain": [
       "Text(0, 0.5, 'flats')"
      ]
     },
     "execution_count": 33,
     "metadata": {},
     "output_type": "execute_result"
    },
    {
     "data": {
      "image/png": "[encoded data removed]",
      "text/plain": [
       "<Figure size 432x288 with 1 Axes>"
      ]
     },
     "metadata": {
      "needs_background": "light"
     },
     "output_type": "display_data"
    }
   ],
   "source": [
    "data['ceiling_height'].hist(bins = 100, range = (2, 4))\n",
    "plt.xlabel('ceiling_height(m)')\n",
    "plt.ylabel('flats')"
   ]
  },
  {
   "cell_type": "markdown",
   "metadata": {},
   "source": [
    "Потолки от 2,5 до 3 метров "
   ]
  },
  {
   "cell_type": "code",
   "execution_count": 34,
   "metadata": {},
   "outputs": [
    {
     "name": "stdout",
     "output_type": "stream",
     "text": [
      "1580.0\n"
     ]
    },
    {
     "data": {
      "text/plain": [
       "Text(0, 0.5, 'flats')"
      ]
     },
     "execution_count": 34,
     "metadata": {},
     "output_type": "execute_result"
    },
    {
     "data": {
      "image/png": "[encoded data removed]",
      "text/plain": [
       "<Figure size 432x288 with 1 Axes>"
      ]
     },
     "metadata": {
      "needs_background": "light"
     },
     "output_type": "display_data"
    }
   ],
   "source": [
    "# теперь нужно изучить время продажи квартиры\n",
    "# построим гистограму по дням продажи\n",
    "print(data['days_exposition'].max())\n",
    "data['days_exposition'].hist(bins=30,range=(0,600))\n",
    "plt.xlabel('days_exposition')\n",
    "plt.ylabel('flats')"
   ]
  },
  {
   "cell_type": "code",
   "execution_count": 35,
   "metadata": {},
   "outputs": [
    {
     "data": {
      "text/plain": [
       "count    20470.000000\n",
       "mean       180.753200\n",
       "std        219.777916\n",
       "min          1.000000\n",
       "25%         45.000000\n",
       "50%         95.000000\n",
       "75%        231.000000\n",
       "max       1580.000000\n",
       "Name: days_exposition, dtype: float64"
      ]
     },
     "execution_count": 35,
     "metadata": {},
     "output_type": "execute_result"
    }
   ],
   "source": [
    "#Больше всего квартир продаются за 100 дней\n",
    "#Исследуем данные методом describe()\n",
    "data['days_exposition'].describe()\n"
   ]
  },
  {
   "cell_type": "code",
   "execution_count": 36,
   "metadata": {},
   "outputs": [
    {
     "data": {
      "image/png": "[encoded data removed]",
      "text/plain": [
       "<Figure size 432x288 with 1 Axes>"
      ]
     },
     "metadata": {
      "needs_background": "light"
     },
     "output_type": "display_data"
    }
   ],
   "source": [
    "#Построим коробочный график\n",
    "plt.ylim(0,500)\n",
    "data.boxplot(column='days_exposition') \n",
    "plt.show()"
   ]
  },
  {
   "cell_type": "markdown",
   "metadata": {},
   "source": [
    "Исследуя гистограмму и коробок можно видеть, что среднее время продажи квартиры 90 - 100 дней. Большая часть значений лежит за диапазоном 425 дней (1.5 межквартального размаха, добавленного к третьему квартилю). Это выглядит правдоподобным. Нус, самой быстрой продажой я назову один день, а самой долгой продажей (если не брать во внимание выбросы, которые лежат за 1.5 межквартального размаха, добавленного в третьей квартилии)-425 дней."
   ]
  },
  {
   "cell_type": "code",
   "execution_count": 37,
   "metadata": {},
   "outputs": [
    {
     "data": {
      "image/png": "[encoded data removed]",
      "text/plain": [
       "<Figure size 432x288 with 1 Axes>"
      ]
     },
     "metadata": {
      "needs_background": "light"
     },
     "output_type": "display_data"
    }
   ],
   "source": [
    "#Выведу выброс(данные, котороые больше 425)\n",
    "plt.ylim(0,1700)\n",
    "data.boxplot(column='days_exposition')\n",
    "plt.show()"
   ]
  },
  {
   "cell_type": "code",
   "execution_count": 38,
   "metadata": {},
   "outputs": [
    {
     "data": {
      "text/html": [
       "<div>\n",
       "<style scoped>\n",
       "    .dataframe tbody tr th:only-of-type {\n",
       "        vertical-align: middle;\n",
       "    }\n",
       "\n",
       "    .dataframe tbody tr th {\n",
       "        vertical-align: top;\n",
       "    }\n",
       "\n",
       "    .dataframe thead th {\n",
       "        text-align: right;\n",
       "    }\n",
       "</style>\n",
       "<table border=\"1\" class=\"dataframe\">\n",
       "  <thead>\n",
       "    <tr style=\"text-align: right;\">\n",
       "      <th></th>\n",
       "      <th>total_images</th>\n",
       "      <th>last_price</th>\n",
       "      <th>total_area</th>\n",
       "      <th>first_day_exposition</th>\n",
       "      <th>rooms</th>\n",
       "      <th>ceiling_height</th>\n",
       "      <th>floors_total</th>\n",
       "      <th>living_area</th>\n",
       "      <th>floor</th>\n",
       "      <th>is_apartment</th>\n",
       "      <th>studio</th>\n",
       "      <th>open_plan</th>\n",
       "      <th>kitchen_area</th>\n",
       "      <th>balcony</th>\n",
       "      <th>locality_name</th>\n",
       "      <th>airports_nearest</th>\n",
       "      <th>cityCenters_nearest</th>\n",
       "      <th>parks_around3000</th>\n",
       "      <th>parks_nearest</th>\n",
       "      <th>ponds_around3000</th>\n",
       "      <th>ponds_nearest</th>\n",
       "      <th>days_exposition</th>\n",
       "      <th>price_for_m2</th>\n",
       "      <th>week_day</th>\n",
       "      <th>month</th>\n",
       "      <th>year</th>\n",
       "      <th>Floor_position</th>\n",
       "      <th>living_area/total_area</th>\n",
       "      <th>kitchen_area/total_area</th>\n",
       "    </tr>\n",
       "  </thead>\n",
       "  <tbody>\n",
       "    <tr>\n",
       "      <td>18843</td>\n",
       "      <td>11</td>\n",
       "      <td>3500000</td>\n",
       "      <td>48.20</td>\n",
       "      <td>2014-12-15</td>\n",
       "      <td>2</td>\n",
       "      <td>2.50</td>\n",
       "      <td>11</td>\n",
       "      <td>27.4</td>\n",
       "      <td>2</td>\n",
       "      <td>False</td>\n",
       "      <td>False</td>\n",
       "      <td>False</td>\n",
       "      <td>7.7</td>\n",
       "      <td>3</td>\n",
       "      <td>деревня Новое Девяткино</td>\n",
       "      <td>28879.458401</td>\n",
       "      <td>14236.244511</td>\n",
       "      <td>0</td>\n",
       "      <td>490.830729</td>\n",
       "      <td>0</td>\n",
       "      <td>518.059879</td>\n",
       "      <td>1580.0</td>\n",
       "      <td>127737.226</td>\n",
       "      <td>0</td>\n",
       "      <td>12</td>\n",
       "      <td>2014</td>\n",
       "      <td>Другой этаж</td>\n",
       "      <td>0.568465</td>\n",
       "      <td>0.159751</td>\n",
       "    </tr>\n",
       "    <tr>\n",
       "      <td>1109</td>\n",
       "      <td>1</td>\n",
       "      <td>34878556</td>\n",
       "      <td>95.80</td>\n",
       "      <td>2014-12-09</td>\n",
       "      <td>2</td>\n",
       "      <td>2.65</td>\n",
       "      <td>1</td>\n",
       "      <td>58.3</td>\n",
       "      <td>5</td>\n",
       "      <td>True</td>\n",
       "      <td>False</td>\n",
       "      <td>False</td>\n",
       "      <td>20.0</td>\n",
       "      <td>1</td>\n",
       "      <td>Санкт-Петербург</td>\n",
       "      <td>21860.000000</td>\n",
       "      <td>318.000000</td>\n",
       "      <td>2</td>\n",
       "      <td>160.000000</td>\n",
       "      <td>3</td>\n",
       "      <td>569.000000</td>\n",
       "      <td>1572.0</td>\n",
       "      <td>598259.966</td>\n",
       "      <td>1</td>\n",
       "      <td>12</td>\n",
       "      <td>2014</td>\n",
       "      <td>Другой этаж</td>\n",
       "      <td>0.608559</td>\n",
       "      <td>0.208768</td>\n",
       "    </tr>\n",
       "    <tr>\n",
       "      <td>9553</td>\n",
       "      <td>11</td>\n",
       "      <td>10600000</td>\n",
       "      <td>80.00</td>\n",
       "      <td>2014-12-09</td>\n",
       "      <td>3</td>\n",
       "      <td>2.85</td>\n",
       "      <td>11</td>\n",
       "      <td>44.0</td>\n",
       "      <td>9</td>\n",
       "      <td>False</td>\n",
       "      <td>False</td>\n",
       "      <td>False</td>\n",
       "      <td>15.0</td>\n",
       "      <td>0</td>\n",
       "      <td>Санкт-Петербург</td>\n",
       "      <td>17101.000000</td>\n",
       "      <td>17110.000000</td>\n",
       "      <td>0</td>\n",
       "      <td>490.830729</td>\n",
       "      <td>0</td>\n",
       "      <td>518.059879</td>\n",
       "      <td>1553.0</td>\n",
       "      <td>240909.091</td>\n",
       "      <td>1</td>\n",
       "      <td>12</td>\n",
       "      <td>2014</td>\n",
       "      <td>Другой этаж</td>\n",
       "      <td>0.550000</td>\n",
       "      <td>0.187500</td>\n",
       "    </tr>\n",
       "    <tr>\n",
       "      <td>1885</td>\n",
       "      <td>2</td>\n",
       "      <td>13300000</td>\n",
       "      <td>79.60</td>\n",
       "      <td>2014-12-09</td>\n",
       "      <td>2</td>\n",
       "      <td>3.00</td>\n",
       "      <td>2</td>\n",
       "      <td>42.7</td>\n",
       "      <td>7</td>\n",
       "      <td>False</td>\n",
       "      <td>False</td>\n",
       "      <td>False</td>\n",
       "      <td>18.0</td>\n",
       "      <td>0</td>\n",
       "      <td>Санкт-Петербург</td>\n",
       "      <td>39393.000000</td>\n",
       "      <td>11096.000000</td>\n",
       "      <td>1</td>\n",
       "      <td>537.000000</td>\n",
       "      <td>0</td>\n",
       "      <td>518.059879</td>\n",
       "      <td>1513.0</td>\n",
       "      <td>311475.410</td>\n",
       "      <td>1</td>\n",
       "      <td>12</td>\n",
       "      <td>2014</td>\n",
       "      <td>Другой этаж</td>\n",
       "      <td>0.536432</td>\n",
       "      <td>0.226131</td>\n",
       "    </tr>\n",
       "    <tr>\n",
       "      <td>6691</td>\n",
       "      <td>3</td>\n",
       "      <td>4400000</td>\n",
       "      <td>42.98</td>\n",
       "      <td>2014-12-12</td>\n",
       "      <td>1</td>\n",
       "      <td>2.65</td>\n",
       "      <td>3</td>\n",
       "      <td>18.7</td>\n",
       "      <td>1</td>\n",
       "      <td>False</td>\n",
       "      <td>False</td>\n",
       "      <td>False</td>\n",
       "      <td>11.3</td>\n",
       "      <td>0</td>\n",
       "      <td>Пушкин</td>\n",
       "      <td>19715.000000</td>\n",
       "      <td>30358.000000</td>\n",
       "      <td>1</td>\n",
       "      <td>439.000000</td>\n",
       "      <td>3</td>\n",
       "      <td>232.000000</td>\n",
       "      <td>1512.0</td>\n",
       "      <td>235294.118</td>\n",
       "      <td>4</td>\n",
       "      <td>12</td>\n",
       "      <td>2014</td>\n",
       "      <td>Первый этаж</td>\n",
       "      <td>0.435086</td>\n",
       "      <td>0.262913</td>\n",
       "    </tr>\n",
       "  </tbody>\n",
       "</table>\n",
       "</div>"
      ],
      "text/plain": [
       "       total_images  last_price  total_area first_day_exposition  rooms  \\\n",
       "18843            11     3500000       48.20           2014-12-15      2   \n",
       "1109              1    34878556       95.80           2014-12-09      2   \n",
       "9553             11    10600000       80.00           2014-12-09      3   \n",
       "1885              2    13300000       79.60           2014-12-09      2   \n",
       "6691              3     4400000       42.98           2014-12-12      1   \n",
       "\n",
       "       ceiling_height floors_total  living_area  floor  is_apartment  studio  \\\n",
       "18843            2.50           11         27.4      2         False   False   \n",
       "1109             2.65            1         58.3      5          True   False   \n",
       "9553             2.85           11         44.0      9         False   False   \n",
       "1885             3.00            2         42.7      7         False   False   \n",
       "6691             2.65            3         18.7      1         False   False   \n",
       "\n",
       "       open_plan  kitchen_area  balcony            locality_name  \\\n",
       "18843      False           7.7        3  деревня Новое Девяткино   \n",
       "1109       False          20.0        1          Санкт-Петербург   \n",
       "9553       False          15.0        0          Санкт-Петербург   \n",
       "1885       False          18.0        0          Санкт-Петербург   \n",
       "6691       False          11.3        0                   Пушкин   \n",
       "\n",
       "       airports_nearest  cityCenters_nearest  parks_around3000  parks_nearest  \\\n",
       "18843      28879.458401         14236.244511                 0     490.830729   \n",
       "1109       21860.000000           318.000000                 2     160.000000   \n",
       "9553       17101.000000         17110.000000                 0     490.830729   \n",
       "1885       39393.000000         11096.000000                 1     537.000000   \n",
       "6691       19715.000000         30358.000000                 1     439.000000   \n",
       "\n",
       "       ponds_around3000  ponds_nearest  days_exposition  price_for_m2  \\\n",
       "18843                 0     518.059879           1580.0    127737.226   \n",
       "1109                  3     569.000000           1572.0    598259.966   \n",
       "9553                  0     518.059879           1553.0    240909.091   \n",
       "1885                  0     518.059879           1513.0    311475.410   \n",
       "6691                  3     232.000000           1512.0    235294.118   \n",
       "\n",
       "       week_day  month  year Floor_position  living_area/total_area  \\\n",
       "18843         0     12  2014    Другой этаж                0.568465   \n",
       "1109          1     12  2014    Другой этаж                0.608559   \n",
       "9553          1     12  2014    Другой этаж                0.550000   \n",
       "1885          1     12  2014    Другой этаж                0.536432   \n",
       "6691          4     12  2014    Первый этаж                0.435086   \n",
       "\n",
       "       kitchen_area/total_area  \n",
       "18843                 0.159751  \n",
       "1109                  0.208768  \n",
       "9553                  0.187500  \n",
       "1885                  0.226131  \n",
       "6691                  0.262913  "
      ]
     },
     "execution_count": 38,
     "metadata": {},
     "output_type": "execute_result"
    }
   ],
   "source": [
    "#Сортируем данные для последующего среза\n",
    "data.sort_values(by='days_exposition',ascending=False).head()"
   ]
  },
  {
   "cell_type": "code",
   "execution_count": 39,
   "metadata": {},
   "outputs": [
    {
     "data": {
      "text/plain": [
       "<matplotlib.axes._subplots.AxesSubplot at 0x7f2b529f4150>"
      ]
     },
     "execution_count": 39,
     "metadata": {},
     "output_type": "execute_result"
    },
    {
     "data": {
      "image/png": "[encoded data removed]",
      "text/plain": [
       "<Figure size 432x288 with 1 Axes>"
      ]
     },
     "metadata": {
      "needs_background": "light"
     },
     "output_type": "display_data"
    }
   ],
   "source": [
    "current_days_exposition_date=data.query('days_exposition<425')\n",
    "current_days_exposition_date['days_exposition'].hist(bins=100,range=(0,500))"
   ]
  },
  {
   "cell_type": "markdown",
   "metadata": {},
   "source": [
    "Убрал выбросы находящиеся за 1.5 межквартальным интервалом. Всего наблюдается 4 пика. Самый большой пик- 95 дней, есть еще пики 50 дней, 70 дней и 10 дней. Не могу сказать, что это артефакты, т.к. реально это возможно. Большая часть выбросов лежит за диапазоном 420 дней и они стремяться к 0. Принял решение от них избавиться. Настало время разобраться с ценой."
   ]
  },
  {
   "cell_type": "code",
   "execution_count": 40,
   "metadata": {},
   "outputs": [
    {
     "data": {
      "text/plain": [
       "count    1.809700e+04\n",
       "mean     6.033974e+06\n",
       "std      1.072481e+07\n",
       "min      1.219000e+04\n",
       "25%      3.380000e+06\n",
       "50%      4.500000e+06\n",
       "75%      6.300000e+06\n",
       "max      7.630000e+08\n",
       "Name: last_price, dtype: float64"
      ]
     },
     "execution_count": 40,
     "metadata": {},
     "output_type": "execute_result"
    }
   ],
   "source": [
    "current_days_exposition_date['last_price'].describe()"
   ]
  },
  {
   "cell_type": "code",
   "execution_count": 41,
   "metadata": {},
   "outputs": [
    {
     "data": {
      "image/png": "[encoded data removed]",
      "text/plain": [
       "<Figure size 432x288 with 1 Axes>"
      ]
     },
     "metadata": {
      "needs_background": "light"
     },
     "output_type": "display_data"
    }
   ],
   "source": [
    "plt.ylim(100000,15000000)\n",
    "current_days_exposition_date.boxplot(column='last_price')\n",
    "plt.show()"
   ]
  },
  {
   "cell_type": "markdown",
   "metadata": {},
   "source": [
    "На диаграмме размаха видно, что в выбросы попадают квартиры дороже 11 млн. руб"
   ]
  },
  {
   "cell_type": "code",
   "execution_count": 42,
   "metadata": {},
   "outputs": [
    {
     "data": {
      "text/html": [
       "<div>\n",
       "<style scoped>\n",
       "    .dataframe tbody tr th:only-of-type {\n",
       "        vertical-align: middle;\n",
       "    }\n",
       "\n",
       "    .dataframe tbody tr th {\n",
       "        vertical-align: top;\n",
       "    }\n",
       "\n",
       "    .dataframe thead th {\n",
       "        text-align: right;\n",
       "    }\n",
       "</style>\n",
       "<table border=\"1\" class=\"dataframe\">\n",
       "  <thead>\n",
       "    <tr style=\"text-align: right;\">\n",
       "      <th></th>\n",
       "      <th>total_images</th>\n",
       "      <th>last_price</th>\n",
       "      <th>total_area</th>\n",
       "      <th>first_day_exposition</th>\n",
       "      <th>rooms</th>\n",
       "      <th>ceiling_height</th>\n",
       "      <th>floors_total</th>\n",
       "      <th>living_area</th>\n",
       "      <th>floor</th>\n",
       "      <th>is_apartment</th>\n",
       "      <th>studio</th>\n",
       "      <th>open_plan</th>\n",
       "      <th>kitchen_area</th>\n",
       "      <th>balcony</th>\n",
       "      <th>locality_name</th>\n",
       "      <th>airports_nearest</th>\n",
       "      <th>cityCenters_nearest</th>\n",
       "      <th>parks_around3000</th>\n",
       "      <th>parks_nearest</th>\n",
       "      <th>ponds_around3000</th>\n",
       "      <th>ponds_nearest</th>\n",
       "      <th>days_exposition</th>\n",
       "      <th>price_for_m2</th>\n",
       "      <th>week_day</th>\n",
       "      <th>month</th>\n",
       "      <th>year</th>\n",
       "      <th>Floor_position</th>\n",
       "      <th>living_area/total_area</th>\n",
       "      <th>kitchen_area/total_area</th>\n",
       "    </tr>\n",
       "  </thead>\n",
       "  <tbody>\n",
       "    <tr>\n",
       "      <td>8793</td>\n",
       "      <td>7</td>\n",
       "      <td>12190</td>\n",
       "      <td>109.0</td>\n",
       "      <td>2019-03-20</td>\n",
       "      <td>2</td>\n",
       "      <td>2.75</td>\n",
       "      <td>7</td>\n",
       "      <td>32.0</td>\n",
       "      <td>25</td>\n",
       "      <td>False</td>\n",
       "      <td>False</td>\n",
       "      <td>False</td>\n",
       "      <td>40.5</td>\n",
       "      <td>0</td>\n",
       "      <td>Санкт-Петербург</td>\n",
       "      <td>36421.000000</td>\n",
       "      <td>9176.000000</td>\n",
       "      <td>1</td>\n",
       "      <td>805.000000</td>\n",
       "      <td>0</td>\n",
       "      <td>518.059879</td>\n",
       "      <td>8.0</td>\n",
       "      <td>380.938</td>\n",
       "      <td>2</td>\n",
       "      <td>3</td>\n",
       "      <td>2019</td>\n",
       "      <td>Другой этаж</td>\n",
       "      <td>0.293578</td>\n",
       "      <td>0.371560</td>\n",
       "    </tr>\n",
       "    <tr>\n",
       "      <td>14911</td>\n",
       "      <td>5</td>\n",
       "      <td>430000</td>\n",
       "      <td>54.0</td>\n",
       "      <td>2018-06-26</td>\n",
       "      <td>2</td>\n",
       "      <td>2.65</td>\n",
       "      <td>5</td>\n",
       "      <td>36.5</td>\n",
       "      <td>3</td>\n",
       "      <td>False</td>\n",
       "      <td>False</td>\n",
       "      <td>False</td>\n",
       "      <td>50.3</td>\n",
       "      <td>0</td>\n",
       "      <td>посёлок станции Свирь</td>\n",
       "      <td>28879.458401</td>\n",
       "      <td>14236.244511</td>\n",
       "      <td>0</td>\n",
       "      <td>490.830729</td>\n",
       "      <td>0</td>\n",
       "      <td>518.059879</td>\n",
       "      <td>44.0</td>\n",
       "      <td>11780.822</td>\n",
       "      <td>1</td>\n",
       "      <td>6</td>\n",
       "      <td>2018</td>\n",
       "      <td>Другой этаж</td>\n",
       "      <td>0.675926</td>\n",
       "      <td>0.931481</td>\n",
       "    </tr>\n",
       "    <tr>\n",
       "      <td>16274</td>\n",
       "      <td>18</td>\n",
       "      <td>440000</td>\n",
       "      <td>40.0</td>\n",
       "      <td>2018-07-10</td>\n",
       "      <td>1</td>\n",
       "      <td>2.65</td>\n",
       "      <td>18</td>\n",
       "      <td>36.5</td>\n",
       "      <td>1</td>\n",
       "      <td>False</td>\n",
       "      <td>False</td>\n",
       "      <td>False</td>\n",
       "      <td>50.3</td>\n",
       "      <td>0</td>\n",
       "      <td>деревня Старополье</td>\n",
       "      <td>28879.458401</td>\n",
       "      <td>14236.244511</td>\n",
       "      <td>0</td>\n",
       "      <td>490.830729</td>\n",
       "      <td>0</td>\n",
       "      <td>518.059879</td>\n",
       "      <td>45.0</td>\n",
       "      <td>12054.795</td>\n",
       "      <td>1</td>\n",
       "      <td>7</td>\n",
       "      <td>2018</td>\n",
       "      <td>Первый этаж</td>\n",
       "      <td>0.912500</td>\n",
       "      <td>1.257500</td>\n",
       "    </tr>\n",
       "    <tr>\n",
       "      <td>17676</td>\n",
       "      <td>0</td>\n",
       "      <td>450000</td>\n",
       "      <td>36.5</td>\n",
       "      <td>2018-02-01</td>\n",
       "      <td>1</td>\n",
       "      <td>2.65</td>\n",
       "      <td>0</td>\n",
       "      <td>17.3</td>\n",
       "      <td>4</td>\n",
       "      <td>False</td>\n",
       "      <td>False</td>\n",
       "      <td>False</td>\n",
       "      <td>8.5</td>\n",
       "      <td>1</td>\n",
       "      <td>деревня Ям-Тесово</td>\n",
       "      <td>28879.458401</td>\n",
       "      <td>14236.244511</td>\n",
       "      <td>0</td>\n",
       "      <td>490.830729</td>\n",
       "      <td>0</td>\n",
       "      <td>518.059879</td>\n",
       "      <td>120.0</td>\n",
       "      <td>26011.561</td>\n",
       "      <td>3</td>\n",
       "      <td>2</td>\n",
       "      <td>2018</td>\n",
       "      <td>Другой этаж</td>\n",
       "      <td>0.473973</td>\n",
       "      <td>0.232877</td>\n",
       "    </tr>\n",
       "    <tr>\n",
       "      <td>9581</td>\n",
       "      <td>7</td>\n",
       "      <td>450000</td>\n",
       "      <td>43.4</td>\n",
       "      <td>2018-08-31</td>\n",
       "      <td>2</td>\n",
       "      <td>2.65</td>\n",
       "      <td>7</td>\n",
       "      <td>30.3</td>\n",
       "      <td>3</td>\n",
       "      <td>False</td>\n",
       "      <td>False</td>\n",
       "      <td>False</td>\n",
       "      <td>5.5</td>\n",
       "      <td>0</td>\n",
       "      <td>деревня Старополье</td>\n",
       "      <td>28879.458401</td>\n",
       "      <td>14236.244511</td>\n",
       "      <td>0</td>\n",
       "      <td>490.830729</td>\n",
       "      <td>0</td>\n",
       "      <td>518.059879</td>\n",
       "      <td>96.0</td>\n",
       "      <td>14851.485</td>\n",
       "      <td>4</td>\n",
       "      <td>8</td>\n",
       "      <td>2018</td>\n",
       "      <td>Другой этаж</td>\n",
       "      <td>0.698157</td>\n",
       "      <td>0.126728</td>\n",
       "    </tr>\n",
       "    <tr>\n",
       "      <td>16219</td>\n",
       "      <td>14</td>\n",
       "      <td>450000</td>\n",
       "      <td>38.5</td>\n",
       "      <td>2018-07-11</td>\n",
       "      <td>2</td>\n",
       "      <td>2.65</td>\n",
       "      <td>14</td>\n",
       "      <td>36.5</td>\n",
       "      <td>1</td>\n",
       "      <td>False</td>\n",
       "      <td>False</td>\n",
       "      <td>False</td>\n",
       "      <td>50.3</td>\n",
       "      <td>0</td>\n",
       "      <td>деревня Вахнова Кара</td>\n",
       "      <td>28879.458401</td>\n",
       "      <td>14236.244511</td>\n",
       "      <td>0</td>\n",
       "      <td>490.830729</td>\n",
       "      <td>0</td>\n",
       "      <td>518.059879</td>\n",
       "      <td>45.0</td>\n",
       "      <td>12328.767</td>\n",
       "      <td>2</td>\n",
       "      <td>7</td>\n",
       "      <td>2018</td>\n",
       "      <td>Первый этаж</td>\n",
       "      <td>0.948052</td>\n",
       "      <td>1.306494</td>\n",
       "    </tr>\n",
       "    <tr>\n",
       "      <td>5698</td>\n",
       "      <td>7</td>\n",
       "      <td>450000</td>\n",
       "      <td>42.0</td>\n",
       "      <td>2017-07-31</td>\n",
       "      <td>2</td>\n",
       "      <td>2.65</td>\n",
       "      <td>7</td>\n",
       "      <td>23.0</td>\n",
       "      <td>1</td>\n",
       "      <td>False</td>\n",
       "      <td>False</td>\n",
       "      <td>False</td>\n",
       "      <td>5.8</td>\n",
       "      <td>0</td>\n",
       "      <td>городской посёлок Будогощь</td>\n",
       "      <td>28879.458401</td>\n",
       "      <td>14236.244511</td>\n",
       "      <td>0</td>\n",
       "      <td>490.830729</td>\n",
       "      <td>0</td>\n",
       "      <td>518.059879</td>\n",
       "      <td>233.0</td>\n",
       "      <td>19565.217</td>\n",
       "      <td>0</td>\n",
       "      <td>7</td>\n",
       "      <td>2017</td>\n",
       "      <td>Первый этаж</td>\n",
       "      <td>0.547619</td>\n",
       "      <td>0.138095</td>\n",
       "    </tr>\n",
       "    <tr>\n",
       "      <td>23484</td>\n",
       "      <td>11</td>\n",
       "      <td>470000</td>\n",
       "      <td>44.5</td>\n",
       "      <td>2018-07-02</td>\n",
       "      <td>2</td>\n",
       "      <td>2.65</td>\n",
       "      <td>11</td>\n",
       "      <td>28.0</td>\n",
       "      <td>2</td>\n",
       "      <td>False</td>\n",
       "      <td>False</td>\n",
       "      <td>False</td>\n",
       "      <td>7.5</td>\n",
       "      <td>0</td>\n",
       "      <td>Сланцы</td>\n",
       "      <td>28879.458401</td>\n",
       "      <td>14236.244511</td>\n",
       "      <td>0</td>\n",
       "      <td>490.830729</td>\n",
       "      <td>0</td>\n",
       "      <td>518.059879</td>\n",
       "      <td>298.0</td>\n",
       "      <td>16785.714</td>\n",
       "      <td>0</td>\n",
       "      <td>7</td>\n",
       "      <td>2018</td>\n",
       "      <td>Другой этаж</td>\n",
       "      <td>0.629213</td>\n",
       "      <td>0.168539</td>\n",
       "    </tr>\n",
       "    <tr>\n",
       "      <td>18867</td>\n",
       "      <td>1</td>\n",
       "      <td>470000</td>\n",
       "      <td>41.0</td>\n",
       "      <td>2018-02-11</td>\n",
       "      <td>1</td>\n",
       "      <td>2.65</td>\n",
       "      <td>1</td>\n",
       "      <td>32.0</td>\n",
       "      <td>3</td>\n",
       "      <td>False</td>\n",
       "      <td>False</td>\n",
       "      <td>False</td>\n",
       "      <td>9.0</td>\n",
       "      <td>0</td>\n",
       "      <td>деревня Выскатка</td>\n",
       "      <td>28879.458401</td>\n",
       "      <td>14236.244511</td>\n",
       "      <td>0</td>\n",
       "      <td>490.830729</td>\n",
       "      <td>0</td>\n",
       "      <td>518.059879</td>\n",
       "      <td>46.0</td>\n",
       "      <td>14687.500</td>\n",
       "      <td>6</td>\n",
       "      <td>2</td>\n",
       "      <td>2018</td>\n",
       "      <td>Другой этаж</td>\n",
       "      <td>0.780488</td>\n",
       "      <td>0.219512</td>\n",
       "    </tr>\n",
       "    <tr>\n",
       "      <td>21912</td>\n",
       "      <td>0</td>\n",
       "      <td>470000</td>\n",
       "      <td>37.0</td>\n",
       "      <td>2018-02-18</td>\n",
       "      <td>1</td>\n",
       "      <td>2.65</td>\n",
       "      <td>0</td>\n",
       "      <td>36.5</td>\n",
       "      <td>3</td>\n",
       "      <td>False</td>\n",
       "      <td>False</td>\n",
       "      <td>False</td>\n",
       "      <td>50.3</td>\n",
       "      <td>0</td>\n",
       "      <td>поселок Совхозный</td>\n",
       "      <td>28879.458401</td>\n",
       "      <td>14236.244511</td>\n",
       "      <td>0</td>\n",
       "      <td>490.830729</td>\n",
       "      <td>0</td>\n",
       "      <td>518.059879</td>\n",
       "      <td>45.0</td>\n",
       "      <td>12876.712</td>\n",
       "      <td>6</td>\n",
       "      <td>2</td>\n",
       "      <td>2018</td>\n",
       "      <td>Другой этаж</td>\n",
       "      <td>0.986486</td>\n",
       "      <td>1.359459</td>\n",
       "    </tr>\n",
       "  </tbody>\n",
       "</table>\n",
       "</div>"
      ],
      "text/plain": [
       "       total_images  last_price  total_area first_day_exposition  rooms  \\\n",
       "8793              7       12190       109.0           2019-03-20      2   \n",
       "14911             5      430000        54.0           2018-06-26      2   \n",
       "16274            18      440000        40.0           2018-07-10      1   \n",
       "17676             0      450000        36.5           2018-02-01      1   \n",
       "9581              7      450000        43.4           2018-08-31      2   \n",
       "16219            14      450000        38.5           2018-07-11      2   \n",
       "5698              7      450000        42.0           2017-07-31      2   \n",
       "23484            11      470000        44.5           2018-07-02      2   \n",
       "18867             1      470000        41.0           2018-02-11      1   \n",
       "21912             0      470000        37.0           2018-02-18      1   \n",
       "\n",
       "       ceiling_height floors_total  living_area  floor  is_apartment  studio  \\\n",
       "8793             2.75            7         32.0     25         False   False   \n",
       "14911            2.65            5         36.5      3         False   False   \n",
       "16274            2.65           18         36.5      1         False   False   \n",
       "17676            2.65            0         17.3      4         False   False   \n",
       "9581             2.65            7         30.3      3         False   False   \n",
       "16219            2.65           14         36.5      1         False   False   \n",
       "5698             2.65            7         23.0      1         False   False   \n",
       "23484            2.65           11         28.0      2         False   False   \n",
       "18867            2.65            1         32.0      3         False   False   \n",
       "21912            2.65            0         36.5      3         False   False   \n",
       "\n",
       "       open_plan  kitchen_area  balcony               locality_name  \\\n",
       "8793       False          40.5        0             Санкт-Петербург   \n",
       "14911      False          50.3        0       посёлок станции Свирь   \n",
       "16274      False          50.3        0          деревня Старополье   \n",
       "17676      False           8.5        1           деревня Ям-Тесово   \n",
       "9581       False           5.5        0          деревня Старополье   \n",
       "16219      False          50.3        0        деревня Вахнова Кара   \n",
       "5698       False           5.8        0  городской посёлок Будогощь   \n",
       "23484      False           7.5        0                      Сланцы   \n",
       "18867      False           9.0        0            деревня Выскатка   \n",
       "21912      False          50.3        0           поселок Совхозный   \n",
       "\n",
       "       airports_nearest  cityCenters_nearest  parks_around3000  parks_nearest  \\\n",
       "8793       36421.000000          9176.000000                 1     805.000000   \n",
       "14911      28879.458401         14236.244511                 0     490.830729   \n",
       "16274      28879.458401         14236.244511                 0     490.830729   \n",
       "17676      28879.458401         14236.244511                 0     490.830729   \n",
       "9581       28879.458401         14236.244511                 0     490.830729   \n",
       "16219      28879.458401         14236.244511                 0     490.830729   \n",
       "5698       28879.458401         14236.244511                 0     490.830729   \n",
       "23484      28879.458401         14236.244511                 0     490.830729   \n",
       "18867      28879.458401         14236.244511                 0     490.830729   \n",
       "21912      28879.458401         14236.244511                 0     490.830729   \n",
       "\n",
       "       ponds_around3000  ponds_nearest  days_exposition  price_for_m2  \\\n",
       "8793                  0     518.059879              8.0       380.938   \n",
       "14911                 0     518.059879             44.0     11780.822   \n",
       "16274                 0     518.059879             45.0     12054.795   \n",
       "17676                 0     518.059879            120.0     26011.561   \n",
       "9581                  0     518.059879             96.0     14851.485   \n",
       "16219                 0     518.059879             45.0     12328.767   \n",
       "5698                  0     518.059879            233.0     19565.217   \n",
       "23484                 0     518.059879            298.0     16785.714   \n",
       "18867                 0     518.059879             46.0     14687.500   \n",
       "21912                 0     518.059879             45.0     12876.712   \n",
       "\n",
       "       week_day  month  year Floor_position  living_area/total_area  \\\n",
       "8793          2      3  2019    Другой этаж                0.293578   \n",
       "14911         1      6  2018    Другой этаж                0.675926   \n",
       "16274         1      7  2018    Первый этаж                0.912500   \n",
       "17676         3      2  2018    Другой этаж                0.473973   \n",
       "9581          4      8  2018    Другой этаж                0.698157   \n",
       "16219         2      7  2018    Первый этаж                0.948052   \n",
       "5698          0      7  2017    Первый этаж                0.547619   \n",
       "23484         0      7  2018    Другой этаж                0.629213   \n",
       "18867         6      2  2018    Другой этаж                0.780488   \n",
       "21912         6      2  2018    Другой этаж                0.986486   \n",
       "\n",
       "       kitchen_area/total_area  \n",
       "8793                  0.371560  \n",
       "14911                 0.931481  \n",
       "16274                 1.257500  \n",
       "17676                 0.232877  \n",
       "9581                  0.126728  \n",
       "16219                 1.306494  \n",
       "5698                  0.138095  \n",
       "23484                 0.168539  \n",
       "18867                 0.219512  \n",
       "21912                 1.359459  "
      ]
     },
     "execution_count": 42,
     "metadata": {},
     "output_type": "execute_result"
    }
   ],
   "source": [
    "current_days_exposition_date.sort_values(by='last_price',ascending=True).head(10)\n",
    "#Тут я отсортировал в порядке возрастания цены"
   ]
  },
  {
   "cell_type": "markdown",
   "metadata": {},
   "source": [
    "Смотрю самую дорогую квартиру. Данные правдивые. Такие квартиры существуют. Так как их единицы, то думаю, что можно убрать значения начиная с 1.5 межквартального интервала+Q3= 11*10^6, правее все стремится к нулю. Также кажутся неправильными значения меньшие 1500000 за квартиру. Нереально чтобы квартира столько стоила. Поэтому убираем"
   ]
  },
  {
   "cell_type": "code",
   "execution_count": 43,
   "metadata": {},
   "outputs": [],
   "source": [
    "current_days_exposition_date=current_days_exposition_date.query('1500000<last_price<11*10**6')#Избавляемся от выбросов"
   ]
  },
  {
   "cell_type": "code",
   "execution_count": 44,
   "metadata": {},
   "outputs": [
    {
     "data": {
      "text/plain": [
       "<matplotlib.axes._subplots.AxesSubplot at 0x7f2b506a7d50>"
      ]
     },
     "execution_count": 44,
     "metadata": {},
     "output_type": "execute_result"
    },
    {
     "data": {
      "image/png": "[encoded data removed]",
      "text/plain": [
       "<Figure size 2160x360 with 1 Axes>"
      ]
     },
     "metadata": {
      "needs_background": "light"
     },
     "output_type": "display_data"
    }
   ],
   "source": [
    "(current_days_exposition_date.sort_values(by='last_price',ascending=True).plot(x='last_price',y='total_area',grid=True, style='o-',figsize=(30,5)))"
   ]
  },
  {
   "cell_type": "code",
   "execution_count": 45,
   "metadata": {},
   "outputs": [
    {
     "data": {
      "text/plain": [
       "0.6983773639664946"
      ]
     },
     "execution_count": 45,
     "metadata": {},
     "output_type": "execute_result"
    }
   ],
   "source": [
    "current_days_exposition_date['last_price'].corr(current_days_exposition_date['total_area'])#Считаю кореляцию"
   ]
  },
  {
   "cell_type": "markdown",
   "metadata": {},
   "source": [
    "При увеличении площади, в принципе естественно, что увеличивается стоимость квартиры. Стоимость квартиры коррелирует с площадью на коэффицент Пирсона 0.687. Значит сильно зависят эти величины друг от друга. Положительная корреляция получается"
   ]
  },
  {
   "cell_type": "code",
   "execution_count": 46,
   "metadata": {},
   "outputs": [
    {
     "data": {
      "text/plain": [
       "<matplotlib.axes._subplots.AxesSubplot at 0x7f2b50627f90>"
      ]
     },
     "execution_count": 46,
     "metadata": {},
     "output_type": "execute_result"
    },
    {
     "data": {
      "image/png": "[encoded data removed]",
      "text/plain": [
       "<Figure size 1080x576 with 1 Axes>"
      ]
     },
     "metadata": {
      "needs_background": "light"
     },
     "output_type": "display_data"
    }
   ],
   "source": [
    "(current_days_exposition_date\n",
    "     .groupby('rooms')['last_price'].median()\n",
    "    # .sort_values(by='rooms',ascending=True)\n",
    "     .plot(x='rooms',y='last_price',style='o-',grid=True,figsize=(15,8),alpha=1)\n",
    ")"
   ]
  },
  {
   "cell_type": "code",
   "execution_count": 47,
   "metadata": {
    "scrolled": true
   },
   "outputs": [
    {
     "data": {
      "text/plain": [
       "1     8036\n",
       "2     7924\n",
       "3     5797\n",
       "4     1175\n",
       "5      326\n",
       "0      197\n",
       "6      105\n",
       "7       59\n",
       "8       12\n",
       "9        8\n",
       "10       3\n",
       "14       2\n",
       "11       2\n",
       "19       1\n",
       "12       1\n",
       "16       1\n",
       "15       1\n",
       "Name: rooms, dtype: int64"
      ]
     },
     "execution_count": 47,
     "metadata": {},
     "output_type": "execute_result"
    }
   ],
   "source": [
    "data['rooms'].value_counts()#Проверка"
   ]
  },
  {
   "cell_type": "markdown",
   "metadata": {},
   "source": [
    "На этом графике видно, что при увеливении кол-ва комнат, увеличивается стоимость. С кол-вом комнат 7, она ниже, так- как мало данных и значение медианной цены вносит свою корректировку(Это мы выяснили в проверке)"
   ]
  },
  {
   "cell_type": "code",
   "execution_count": 48,
   "metadata": {},
   "outputs": [
    {
     "data": {
      "text/plain": [
       "0.46070167604290424"
      ]
     },
     "execution_count": 48,
     "metadata": {},
     "output_type": "execute_result"
    }
   ],
   "source": [
    "current_days_exposition_date['last_price'].corr(current_days_exposition_date[\"rooms\"])"
   ]
  },
  {
   "cell_type": "markdown",
   "metadata": {},
   "source": [
    "Стоимость квартиры коррелирует с количеством комнат на коэффицент Пирсона 0.45"
   ]
  },
  {
   "cell_type": "code",
   "execution_count": 49,
   "metadata": {},
   "outputs": [
    {
     "data": {
      "text/plain": [
       "<matplotlib.axes._subplots.AxesSubplot at 0x7f2b46d484d0>"
      ]
     },
     "execution_count": 49,
     "metadata": {},
     "output_type": "execute_result"
    },
    {
     "data": {
      "image/png": "[encoded data removed]",
      "text/plain": [
       "<Figure size 432x288 with 1 Axes>"
      ]
     },
     "metadata": {
      "needs_background": "light"
     },
     "output_type": "display_data"
    }
   ],
   "source": [
    "(current_days_exposition_date\n",
    "    .groupby('Floor_position')['last_price'].median()\n",
    "    .plot(x='Floor_position',y='last_price',kind='bar')\n",
    ")"
   ]
  },
  {
   "cell_type": "code",
   "execution_count": 50,
   "metadata": {},
   "outputs": [
    {
     "data": {
      "text/plain": [
       "0.10969832612663795"
      ]
     },
     "execution_count": 50,
     "metadata": {},
     "output_type": "execute_result"
    }
   ],
   "source": [
    "current_days_exposition_date['floor'].corr(current_days_exposition_date['last_price'])"
   ]
  },
  {
   "cell_type": "markdown",
   "metadata": {},
   "source": [
    "Из гистограммы видно, что цена не сильно зависит от этажа. Видно, что цена за первый этаж немного ниже. Эти выводы подтверждает коэф Пирсона= 0.11"
   ]
  },
  {
   "cell_type": "code",
   "execution_count": 51,
   "metadata": {},
   "outputs": [
    {
     "data": {
      "text/plain": [
       "<matplotlib.axes._subplots.AxesSubplot at 0x7f2b46d25c50>"
      ]
     },
     "execution_count": 51,
     "metadata": {},
     "output_type": "execute_result"
    },
    {
     "data": {
      "image/png": "[encoded data removed]",
      "text/plain": [
       "<Figure size 432x288 with 1 Axes>"
      ]
     },
     "metadata": {
      "needs_background": "light"
     },
     "output_type": "display_data"
    }
   ],
   "source": [
    "(current_days_exposition_date\n",
    "     .sort_values(by='cityCenters_nearest',ascending=True)\n",
    "     .plot(x='cityCenters_nearest',y='last_price',style='o',alpha=0.3)\n",
    ")"
   ]
  },
  {
   "cell_type": "code",
   "execution_count": 52,
   "metadata": {},
   "outputs": [
    {
     "data": {
      "text/plain": [
       "-0.26714771437736173"
      ]
     },
     "execution_count": 52,
     "metadata": {},
     "output_type": "execute_result"
    }
   ],
   "source": [
    "current_days_exposition_date['cityCenters_nearest'].corr(current_days_exposition_date['last_price'])"
   ]
  },
  {
   "cell_type": "markdown",
   "metadata": {},
   "source": [
    "С увеличением расстояния до центра цена уменьшается, но не сильно. Разброс большой."
   ]
  },
  {
   "cell_type": "code",
   "execution_count": 53,
   "metadata": {},
   "outputs": [
    {
     "data": {
      "text/plain": [
       "<matplotlib.axes._subplots.AxesSubplot at 0x7f2b46c9b850>"
      ]
     },
     "execution_count": 53,
     "metadata": {},
     "output_type": "execute_result"
    },
    {
     "data": {
      "image/png": "[encoded data removed]",
      "text/plain": [
       "<Figure size 432x288 with 1 Axes>"
      ]
     },
     "metadata": {
      "needs_background": "light"
     },
     "output_type": "display_data"
    }
   ],
   "source": [
    "(current_days_exposition_date\n",
    "     #.pivot_table(index='week_day',values='last_price',aggfunc=('median'))\n",
    "     .groupby('week_day')['last_price'].count()\n",
    "     .plot(x='week_day',y='last_price',kind='bar')\n",
    ")"
   ]
  },
  {
   "cell_type": "markdown",
   "metadata": {},
   "source": [
    "На гистаграме все сразу видно, чаще всего квартиры покупаются во вторник, четверг и пятицу, а в выходные меньше."
   ]
  },
  {
   "cell_type": "code",
   "execution_count": 54,
   "metadata": {},
   "outputs": [
    {
     "data": {
      "text/plain": [
       "<matplotlib.axes._subplots.AxesSubplot at 0x7f2b46c27290>"
      ]
     },
     "execution_count": 54,
     "metadata": {},
     "output_type": "execute_result"
    },
    {
     "data": {
      "image/png": "[encoded data removed]",
      "text/plain": [
       "<Figure size 432x288 with 1 Axes>"
      ]
     },
     "metadata": {
      "needs_background": "light"
     },
     "output_type": "display_data"
    }
   ],
   "source": [
    "(current_days_exposition_date\n",
    "     #.pivot_table(index='week_day',values='last_price',aggfunc=('median'))\n",
    "     .groupby('month')['last_price'].count()\n",
    "     .plot(x='month',y='last_price',kind='bar')\n",
    ")"
   ]
  },
  {
   "cell_type": "markdown",
   "metadata": {},
   "source": [
    "Тоже все просто и понятно. Объявления меньше всего закрываются в месяцы перед НГ в декабре и после НГ в январе. Много выходных и люди тратят деньги на подарки и отдых. В мае низко тоже из-зи праздников скорее всего."
   ]
  },
  {
   "cell_type": "code",
   "execution_count": 55,
   "metadata": {},
   "outputs": [
    {
     "data": {
      "text/plain": [
       "<matplotlib.axes._subplots.AxesSubplot at 0x7f2b46bae750>"
      ]
     },
     "execution_count": 55,
     "metadata": {},
     "output_type": "execute_result"
    },
    {
     "data": {
      "image/png": "[encoded data removed]",
      "text/plain": [
       "<Figure size 432x288 with 1 Axes>"
      ]
     },
     "metadata": {
      "needs_background": "light"
     },
     "output_type": "display_data"
    }
   ],
   "source": [
    "(current_days_exposition_date\n",
    "     #.pivot_table(index='week_day',values='last_price',aggfunc=('median'))\n",
    "     .groupby('year')['last_price'].count()\n",
    "     .plot(x='year',y='last_price',kind='bar')\n",
    ")"
   ]
  },
  {
   "cell_type": "markdown",
   "metadata": {},
   "source": [
    "Больше всего продаж в 2017 и 2018 году."
   ]
  },
  {
   "cell_type": "markdown",
   "metadata": {},
   "source": [
    "Теперь выберем 10 населённых пунктов с наибольшим числом объявлений."
   ]
  },
  {
   "cell_type": "code",
   "execution_count": 56,
   "metadata": {},
   "outputs": [
    {
     "data": {
      "text/html": [
       "<div>\n",
       "<style scoped>\n",
       "    .dataframe tbody tr th:only-of-type {\n",
       "        vertical-align: middle;\n",
       "    }\n",
       "\n",
       "    .dataframe tbody tr th {\n",
       "        vertical-align: top;\n",
       "    }\n",
       "\n",
       "    .dataframe thead th {\n",
       "        text-align: right;\n",
       "    }\n",
       "</style>\n",
       "<table border=\"1\" class=\"dataframe\">\n",
       "  <thead>\n",
       "    <tr style=\"text-align: right;\">\n",
       "      <th></th>\n",
       "      <th>count</th>\n",
       "      <th>median</th>\n",
       "    </tr>\n",
       "    <tr>\n",
       "      <th>locality_name</th>\n",
       "      <th></th>\n",
       "      <th></th>\n",
       "    </tr>\n",
       "  </thead>\n",
       "  <tbody>\n",
       "    <tr>\n",
       "      <td>Санкт-Петербург</td>\n",
       "      <td>10690</td>\n",
       "      <td>178571.4290</td>\n",
       "    </tr>\n",
       "    <tr>\n",
       "      <td>посёлок Мурино</td>\n",
       "      <td>475</td>\n",
       "      <td>165680.4730</td>\n",
       "    </tr>\n",
       "    <tr>\n",
       "      <td>посёлок Шушары</td>\n",
       "      <td>372</td>\n",
       "      <td>141666.6670</td>\n",
       "    </tr>\n",
       "    <tr>\n",
       "      <td>Всеволожск</td>\n",
       "      <td>293</td>\n",
       "      <td>123123.1230</td>\n",
       "    </tr>\n",
       "    <tr>\n",
       "      <td>Колпино</td>\n",
       "      <td>284</td>\n",
       "      <td>123371.8490</td>\n",
       "    </tr>\n",
       "    <tr>\n",
       "      <td>посёлок Парголово</td>\n",
       "      <td>274</td>\n",
       "      <td>189041.0960</td>\n",
       "    </tr>\n",
       "    <tr>\n",
       "      <td>деревня Кудрово</td>\n",
       "      <td>262</td>\n",
       "      <td>179264.0690</td>\n",
       "    </tr>\n",
       "    <tr>\n",
       "      <td>Пушкин</td>\n",
       "      <td>254</td>\n",
       "      <td>172332.5835</td>\n",
       "    </tr>\n",
       "    <tr>\n",
       "      <td>Гатчина</td>\n",
       "      <td>229</td>\n",
       "      <td>114285.7140</td>\n",
       "    </tr>\n",
       "    <tr>\n",
       "      <td>Выборг</td>\n",
       "      <td>173</td>\n",
       "      <td>89576.5470</td>\n",
       "    </tr>\n",
       "  </tbody>\n",
       "</table>\n",
       "</div>"
      ],
      "text/plain": [
       "                   count       median\n",
       "locality_name                        \n",
       "Санкт-Петербург    10690  178571.4290\n",
       "посёлок Мурино       475  165680.4730\n",
       "посёлок Шушары       372  141666.6670\n",
       "Всеволожск           293  123123.1230\n",
       "Колпино              284  123371.8490\n",
       "посёлок Парголово    274  189041.0960\n",
       "деревня Кудрово      262  179264.0690\n",
       "Пушкин               254  172332.5835\n",
       "Гатчина              229  114285.7140\n",
       "Выборг               173   89576.5470"
      ]
     },
     "execution_count": 56,
     "metadata": {},
     "output_type": "execute_result"
    }
   ],
   "source": [
    "#raiting_of_location=current_days_exposition_date.groupby('locality_name')['price_for_m2'].count()\n",
    "raiting_of_location=current_days_exposition_date.pivot_table(index='locality_name',values='price_for_m2',aggfunc=('count','median'))\n",
    "raiting_of_location.sort_values(by='count',ascending=False).head(10)"
   ]
  },
  {
   "cell_type": "markdown",
   "metadata": {},
   "source": [
    "В Санкт-Петербурге больше всего объявлений и самая большая стоимость 1м.кв.\n",
    "\n",
    "В Выборге меньше всего объявлений и самая низкая стоимость 1м.кв."
   ]
  },
  {
   "cell_type": "code",
   "execution_count": 57,
   "metadata": {},
   "outputs": [],
   "source": [
    "#Добавил в сводную таблицу расстояние до центра\n",
    "current_days_exposition_date['cityCenters_nearest_in_km'] = current_days_exposition_date['cityCenters_nearest'] / 1000\n",
    "current_days_exposition_date['cityCenters_nearest_in_km'] = round(current_days_exposition_date['cityCenters_nearest_in_km'], 2)"
   ]
  },
  {
   "cell_type": "code",
   "execution_count": 58,
   "metadata": {},
   "outputs": [],
   "source": [
    "current_days_exposition_date['cost_of_km'] = current_days_exposition_date['last_price'] / current_days_exposition_date['cityCenters_nearest_in_km']\n",
    "current_days_exposition_date['cost_of_km'] = round(current_days_exposition_date['cost_of_km'], 3)"
   ]
  },
  {
   "cell_type": "code",
   "execution_count": 59,
   "metadata": {},
   "outputs": [
    {
     "data": {
      "text/html": [
       "<div>\n",
       "<style scoped>\n",
       "    .dataframe tbody tr th:only-of-type {\n",
       "        vertical-align: middle;\n",
       "    }\n",
       "\n",
       "    .dataframe tbody tr th {\n",
       "        vertical-align: top;\n",
       "    }\n",
       "\n",
       "    .dataframe thead th {\n",
       "        text-align: right;\n",
       "    }\n",
       "</style>\n",
       "<table border=\"1\" class=\"dataframe\">\n",
       "  <thead>\n",
       "    <tr style=\"text-align: right;\">\n",
       "      <th></th>\n",
       "      <th>total_images</th>\n",
       "      <th>last_price</th>\n",
       "      <th>total_area</th>\n",
       "      <th>first_day_exposition</th>\n",
       "      <th>rooms</th>\n",
       "      <th>ceiling_height</th>\n",
       "      <th>floors_total</th>\n",
       "      <th>living_area</th>\n",
       "      <th>floor</th>\n",
       "      <th>is_apartment</th>\n",
       "      <th>studio</th>\n",
       "      <th>open_plan</th>\n",
       "      <th>kitchen_area</th>\n",
       "      <th>balcony</th>\n",
       "      <th>locality_name</th>\n",
       "      <th>airports_nearest</th>\n",
       "      <th>cityCenters_nearest</th>\n",
       "      <th>parks_around3000</th>\n",
       "      <th>parks_nearest</th>\n",
       "      <th>ponds_around3000</th>\n",
       "      <th>ponds_nearest</th>\n",
       "      <th>days_exposition</th>\n",
       "      <th>price_for_m2</th>\n",
       "      <th>week_day</th>\n",
       "      <th>month</th>\n",
       "      <th>year</th>\n",
       "      <th>Floor_position</th>\n",
       "      <th>living_area/total_area</th>\n",
       "      <th>kitchen_area/total_area</th>\n",
       "      <th>cityCenters_nearest_in_km</th>\n",
       "      <th>cost_of_km</th>\n",
       "    </tr>\n",
       "  </thead>\n",
       "  <tbody>\n",
       "    <tr>\n",
       "      <td>4</td>\n",
       "      <td>2</td>\n",
       "      <td>10000000</td>\n",
       "      <td>100.0</td>\n",
       "      <td>2018-06-19</td>\n",
       "      <td>2</td>\n",
       "      <td>3.03</td>\n",
       "      <td>2</td>\n",
       "      <td>32.0</td>\n",
       "      <td>13</td>\n",
       "      <td>False</td>\n",
       "      <td>False</td>\n",
       "      <td>False</td>\n",
       "      <td>41.0</td>\n",
       "      <td>0</td>\n",
       "      <td>Санкт-Петербург</td>\n",
       "      <td>31856.0</td>\n",
       "      <td>8098.0</td>\n",
       "      <td>2</td>\n",
       "      <td>112.000000</td>\n",
       "      <td>1</td>\n",
       "      <td>48.000000</td>\n",
       "      <td>121.0</td>\n",
       "      <td>312500.000</td>\n",
       "      <td>1</td>\n",
       "      <td>6</td>\n",
       "      <td>2018</td>\n",
       "      <td>Другой этаж</td>\n",
       "      <td>0.320000</td>\n",
       "      <td>0.410000</td>\n",
       "      <td>8.10</td>\n",
       "      <td>1234567.901</td>\n",
       "    </tr>\n",
       "    <tr>\n",
       "      <td>9</td>\n",
       "      <td>18</td>\n",
       "      <td>5400000</td>\n",
       "      <td>61.0</td>\n",
       "      <td>2017-02-26</td>\n",
       "      <td>3</td>\n",
       "      <td>2.50</td>\n",
       "      <td>18</td>\n",
       "      <td>43.6</td>\n",
       "      <td>7</td>\n",
       "      <td>False</td>\n",
       "      <td>False</td>\n",
       "      <td>False</td>\n",
       "      <td>6.5</td>\n",
       "      <td>2</td>\n",
       "      <td>Санкт-Петербург</td>\n",
       "      <td>50898.0</td>\n",
       "      <td>15008.0</td>\n",
       "      <td>0</td>\n",
       "      <td>490.830729</td>\n",
       "      <td>0</td>\n",
       "      <td>518.059879</td>\n",
       "      <td>289.0</td>\n",
       "      <td>123853.211</td>\n",
       "      <td>6</td>\n",
       "      <td>2</td>\n",
       "      <td>2017</td>\n",
       "      <td>Другой этаж</td>\n",
       "      <td>0.714754</td>\n",
       "      <td>0.106557</td>\n",
       "      <td>15.01</td>\n",
       "      <td>359760.160</td>\n",
       "    </tr>\n",
       "    <tr>\n",
       "      <td>10</td>\n",
       "      <td>5</td>\n",
       "      <td>5050000</td>\n",
       "      <td>39.6</td>\n",
       "      <td>2017-11-16</td>\n",
       "      <td>1</td>\n",
       "      <td>2.67</td>\n",
       "      <td>5</td>\n",
       "      <td>20.3</td>\n",
       "      <td>3</td>\n",
       "      <td>False</td>\n",
       "      <td>False</td>\n",
       "      <td>False</td>\n",
       "      <td>8.5</td>\n",
       "      <td>0</td>\n",
       "      <td>Санкт-Петербург</td>\n",
       "      <td>38357.0</td>\n",
       "      <td>13878.0</td>\n",
       "      <td>1</td>\n",
       "      <td>310.000000</td>\n",
       "      <td>2</td>\n",
       "      <td>553.000000</td>\n",
       "      <td>137.0</td>\n",
       "      <td>248768.473</td>\n",
       "      <td>3</td>\n",
       "      <td>11</td>\n",
       "      <td>2017</td>\n",
       "      <td>Другой этаж</td>\n",
       "      <td>0.512626</td>\n",
       "      <td>0.214646</td>\n",
       "      <td>13.88</td>\n",
       "      <td>363832.853</td>\n",
       "    </tr>\n",
       "    <tr>\n",
       "      <td>15</td>\n",
       "      <td>16</td>\n",
       "      <td>4650000</td>\n",
       "      <td>39.0</td>\n",
       "      <td>2017-11-18</td>\n",
       "      <td>1</td>\n",
       "      <td>2.65</td>\n",
       "      <td>16</td>\n",
       "      <td>20.5</td>\n",
       "      <td>5</td>\n",
       "      <td>False</td>\n",
       "      <td>False</td>\n",
       "      <td>False</td>\n",
       "      <td>7.6</td>\n",
       "      <td>1</td>\n",
       "      <td>Санкт-Петербург</td>\n",
       "      <td>12900.0</td>\n",
       "      <td>14259.0</td>\n",
       "      <td>1</td>\n",
       "      <td>590.000000</td>\n",
       "      <td>1</td>\n",
       "      <td>296.000000</td>\n",
       "      <td>19.0</td>\n",
       "      <td>226829.268</td>\n",
       "      <td>5</td>\n",
       "      <td>11</td>\n",
       "      <td>2017</td>\n",
       "      <td>Другой этаж</td>\n",
       "      <td>0.525641</td>\n",
       "      <td>0.194872</td>\n",
       "      <td>14.26</td>\n",
       "      <td>326086.957</td>\n",
       "    </tr>\n",
       "    <tr>\n",
       "      <td>16</td>\n",
       "      <td>11</td>\n",
       "      <td>6700000</td>\n",
       "      <td>82.0</td>\n",
       "      <td>2017-11-23</td>\n",
       "      <td>3</td>\n",
       "      <td>3.05</td>\n",
       "      <td>11</td>\n",
       "      <td>55.6</td>\n",
       "      <td>1</td>\n",
       "      <td>False</td>\n",
       "      <td>False</td>\n",
       "      <td>False</td>\n",
       "      <td>9.0</td>\n",
       "      <td>0</td>\n",
       "      <td>Санкт-Петербург</td>\n",
       "      <td>22108.0</td>\n",
       "      <td>10698.0</td>\n",
       "      <td>3</td>\n",
       "      <td>420.000000</td>\n",
       "      <td>0</td>\n",
       "      <td>518.059879</td>\n",
       "      <td>397.0</td>\n",
       "      <td>120503.597</td>\n",
       "      <td>3</td>\n",
       "      <td>11</td>\n",
       "      <td>2017</td>\n",
       "      <td>Первый этаж</td>\n",
       "      <td>0.678049</td>\n",
       "      <td>0.109756</td>\n",
       "      <td>10.70</td>\n",
       "      <td>626168.224</td>\n",
       "    </tr>\n",
       "  </tbody>\n",
       "</table>\n",
       "</div>"
      ],
      "text/plain": [
       "    total_images  last_price  total_area first_day_exposition  rooms  \\\n",
       "4              2    10000000       100.0           2018-06-19      2   \n",
       "9             18     5400000        61.0           2017-02-26      3   \n",
       "10             5     5050000        39.6           2017-11-16      1   \n",
       "15            16     4650000        39.0           2017-11-18      1   \n",
       "16            11     6700000        82.0           2017-11-23      3   \n",
       "\n",
       "    ceiling_height floors_total  living_area  floor  is_apartment  studio  \\\n",
       "4             3.03            2         32.0     13         False   False   \n",
       "9             2.50           18         43.6      7         False   False   \n",
       "10            2.67            5         20.3      3         False   False   \n",
       "15            2.65           16         20.5      5         False   False   \n",
       "16            3.05           11         55.6      1         False   False   \n",
       "\n",
       "    open_plan  kitchen_area  balcony    locality_name  airports_nearest  \\\n",
       "4       False          41.0        0  Санкт-Петербург           31856.0   \n",
       "9       False           6.5        2  Санкт-Петербург           50898.0   \n",
       "10      False           8.5        0  Санкт-Петербург           38357.0   \n",
       "15      False           7.6        1  Санкт-Петербург           12900.0   \n",
       "16      False           9.0        0  Санкт-Петербург           22108.0   \n",
       "\n",
       "    cityCenters_nearest  parks_around3000  parks_nearest  ponds_around3000  \\\n",
       "4                8098.0                 2     112.000000                 1   \n",
       "9               15008.0                 0     490.830729                 0   \n",
       "10              13878.0                 1     310.000000                 2   \n",
       "15              14259.0                 1     590.000000                 1   \n",
       "16              10698.0                 3     420.000000                 0   \n",
       "\n",
       "    ponds_nearest  days_exposition  price_for_m2  week_day  month  year  \\\n",
       "4       48.000000            121.0    312500.000         1      6  2018   \n",
       "9      518.059879            289.0    123853.211         6      2  2017   \n",
       "10     553.000000            137.0    248768.473         3     11  2017   \n",
       "15     296.000000             19.0    226829.268         5     11  2017   \n",
       "16     518.059879            397.0    120503.597         3     11  2017   \n",
       "\n",
       "   Floor_position  living_area/total_area  kitchen_area/total_area  \\\n",
       "4     Другой этаж                0.320000                 0.410000   \n",
       "9     Другой этаж                0.714754                 0.106557   \n",
       "10    Другой этаж                0.512626                 0.214646   \n",
       "15    Другой этаж                0.525641                 0.194872   \n",
       "16    Первый этаж                0.678049                 0.109756   \n",
       "\n",
       "    cityCenters_nearest_in_km   cost_of_km  \n",
       "4                        8.10  1234567.901  \n",
       "9                       15.01   359760.160  \n",
       "10                      13.88   363832.853  \n",
       "15                      14.26   326086.957  \n",
       "16                      10.70   626168.224  "
      ]
     },
     "execution_count": 59,
     "metadata": {},
     "output_type": "execute_result"
    }
   ],
   "source": [
    "spb_region=current_days_exposition_date.query('locality_name==\"Санкт-Петербург\"')\n",
    "spb_region.head()"
   ]
  },
  {
   "cell_type": "markdown",
   "metadata": {},
   "source": [
    "Посчитал стоимость 1 кв м для всех объектом и записал в таблицу и сделал срез по региону Санкт-Петербург."
   ]
  },
  {
   "cell_type": "code",
   "execution_count": 60,
   "metadata": {},
   "outputs": [
    {
     "data": {
      "text/plain": [
       "<matplotlib.axes._subplots.AxesSubplot at 0x7f2b46ab0690>"
      ]
     },
     "execution_count": 60,
     "metadata": {},
     "output_type": "execute_result"
    },
    {
     "data": {
      "image/png": "[encoded data removed]",
      "text/plain": [
       "<Figure size 1080x576 with 1 Axes>"
      ]
     },
     "metadata": {
      "needs_background": "light"
     },
     "output_type": "display_data"
    }
   ],
   "source": [
    "#График зависимости цены 1 м кв от расстояния в регионе Спб\n",
    "(spb_region\n",
    "     .sort_values(by='cityCenters_nearest_in_km',ascending=True)\n",
    "     .plot(x='cityCenters_nearest_in_km',y='cost_of_km', style='-',figsize=(15,8), grid = True)\n",
    ")"
   ]
  },
  {
   "cell_type": "markdown",
   "metadata": {},
   "source": [
    "Итак, по этому графику видно, что после расстояния до цента 5 км цена за квадратный метр почти не меняется, находится на одном уровне"
   ]
  },
  {
   "cell_type": "code",
   "execution_count": 61,
   "metadata": {},
   "outputs": [],
   "source": [
    "spb_region = spb_region.query('cityCenters_nearest_in_km < 5')"
   ]
  },
  {
   "cell_type": "code",
   "execution_count": 62,
   "metadata": {},
   "outputs": [
    {
     "data": {
      "text/plain": [
       "862"
      ]
     },
     "execution_count": 62,
     "metadata": {},
     "output_type": "execute_result"
    }
   ],
   "source": [
    "# Квартиры в центре Питера\n",
    "len(spb_region)"
   ]
  },
  {
   "cell_type": "code",
   "execution_count": 63,
   "metadata": {},
   "outputs": [
    {
     "data": {
      "text/html": [
       "<div>\n",
       "<style scoped>\n",
       "    .dataframe tbody tr th:only-of-type {\n",
       "        vertical-align: middle;\n",
       "    }\n",
       "\n",
       "    .dataframe tbody tr th {\n",
       "        vertical-align: top;\n",
       "    }\n",
       "\n",
       "    .dataframe thead th {\n",
       "        text-align: right;\n",
       "    }\n",
       "</style>\n",
       "<table border=\"1\" class=\"dataframe\">\n",
       "  <thead>\n",
       "    <tr style=\"text-align: right;\">\n",
       "      <th></th>\n",
       "      <th>total_images</th>\n",
       "      <th>last_price</th>\n",
       "      <th>total_area</th>\n",
       "      <th>first_day_exposition</th>\n",
       "      <th>rooms</th>\n",
       "      <th>ceiling_height</th>\n",
       "      <th>floors_total</th>\n",
       "      <th>living_area</th>\n",
       "      <th>floor</th>\n",
       "      <th>is_apartment</th>\n",
       "      <th>studio</th>\n",
       "      <th>open_plan</th>\n",
       "      <th>kitchen_area</th>\n",
       "      <th>balcony</th>\n",
       "      <th>locality_name</th>\n",
       "      <th>airports_nearest</th>\n",
       "      <th>cityCenters_nearest</th>\n",
       "      <th>parks_around3000</th>\n",
       "      <th>parks_nearest</th>\n",
       "      <th>ponds_around3000</th>\n",
       "      <th>ponds_nearest</th>\n",
       "      <th>days_exposition</th>\n",
       "      <th>price_for_m2</th>\n",
       "      <th>week_day</th>\n",
       "      <th>month</th>\n",
       "      <th>year</th>\n",
       "      <th>Floor_position</th>\n",
       "      <th>living_area/total_area</th>\n",
       "      <th>kitchen_area/total_area</th>\n",
       "      <th>cityCenters_nearest_in_km</th>\n",
       "      <th>cost_of_km</th>\n",
       "    </tr>\n",
       "  </thead>\n",
       "  <tbody>\n",
       "    <tr>\n",
       "      <td>8614</td>\n",
       "      <td>7</td>\n",
       "      <td>10990000</td>\n",
       "      <td>100.0</td>\n",
       "      <td>2015-12-16</td>\n",
       "      <td>3</td>\n",
       "      <td>3.90</td>\n",
       "      <td>7</td>\n",
       "      <td>37.8</td>\n",
       "      <td>3</td>\n",
       "      <td>False</td>\n",
       "      <td>False</td>\n",
       "      <td>False</td>\n",
       "      <td>11.6</td>\n",
       "      <td>0</td>\n",
       "      <td>Санкт-Петербург</td>\n",
       "      <td>21818.0</td>\n",
       "      <td>215.0</td>\n",
       "      <td>3</td>\n",
       "      <td>229.0</td>\n",
       "      <td>2</td>\n",
       "      <td>511.0</td>\n",
       "      <td>265.0</td>\n",
       "      <td>290740.741</td>\n",
       "      <td>2</td>\n",
       "      <td>12</td>\n",
       "      <td>2015</td>\n",
       "      <td>Другой этаж</td>\n",
       "      <td>0.378000</td>\n",
       "      <td>0.116000</td>\n",
       "      <td>0.22</td>\n",
       "      <td>4.995455e+07</td>\n",
       "    </tr>\n",
       "    <tr>\n",
       "      <td>1934</td>\n",
       "      <td>18</td>\n",
       "      <td>9590000</td>\n",
       "      <td>108.0</td>\n",
       "      <td>2017-05-23</td>\n",
       "      <td>2</td>\n",
       "      <td>3.30</td>\n",
       "      <td>18</td>\n",
       "      <td>59.0</td>\n",
       "      <td>2</td>\n",
       "      <td>False</td>\n",
       "      <td>False</td>\n",
       "      <td>False</td>\n",
       "      <td>11.0</td>\n",
       "      <td>0</td>\n",
       "      <td>Санкт-Петербург</td>\n",
       "      <td>21908.0</td>\n",
       "      <td>287.0</td>\n",
       "      <td>3</td>\n",
       "      <td>359.0</td>\n",
       "      <td>3</td>\n",
       "      <td>290.0</td>\n",
       "      <td>69.0</td>\n",
       "      <td>162542.373</td>\n",
       "      <td>1</td>\n",
       "      <td>5</td>\n",
       "      <td>2017</td>\n",
       "      <td>Другой этаж</td>\n",
       "      <td>0.546296</td>\n",
       "      <td>0.101852</td>\n",
       "      <td>0.29</td>\n",
       "      <td>3.306897e+07</td>\n",
       "    </tr>\n",
       "    <tr>\n",
       "      <td>1182</td>\n",
       "      <td>1</td>\n",
       "      <td>5800000</td>\n",
       "      <td>33.6</td>\n",
       "      <td>2016-03-10</td>\n",
       "      <td>1</td>\n",
       "      <td>3.70</td>\n",
       "      <td>1</td>\n",
       "      <td>22.8</td>\n",
       "      <td>4</td>\n",
       "      <td>False</td>\n",
       "      <td>False</td>\n",
       "      <td>False</td>\n",
       "      <td>6.6</td>\n",
       "      <td>0</td>\n",
       "      <td>Санкт-Петербург</td>\n",
       "      <td>21632.0</td>\n",
       "      <td>208.0</td>\n",
       "      <td>3</td>\n",
       "      <td>304.0</td>\n",
       "      <td>3</td>\n",
       "      <td>503.0</td>\n",
       "      <td>167.0</td>\n",
       "      <td>254385.965</td>\n",
       "      <td>3</td>\n",
       "      <td>3</td>\n",
       "      <td>2016</td>\n",
       "      <td>Другой этаж</td>\n",
       "      <td>0.678571</td>\n",
       "      <td>0.196429</td>\n",
       "      <td>0.21</td>\n",
       "      <td>2.761905e+07</td>\n",
       "    </tr>\n",
       "    <tr>\n",
       "      <td>22036</td>\n",
       "      <td>3</td>\n",
       "      <td>7200000</td>\n",
       "      <td>72.0</td>\n",
       "      <td>2017-12-21</td>\n",
       "      <td>2</td>\n",
       "      <td>3.07</td>\n",
       "      <td>3</td>\n",
       "      <td>44.9</td>\n",
       "      <td>2</td>\n",
       "      <td>False</td>\n",
       "      <td>False</td>\n",
       "      <td>False</td>\n",
       "      <td>12.3</td>\n",
       "      <td>0</td>\n",
       "      <td>Санкт-Петербург</td>\n",
       "      <td>21875.0</td>\n",
       "      <td>329.0</td>\n",
       "      <td>3</td>\n",
       "      <td>426.0</td>\n",
       "      <td>3</td>\n",
       "      <td>273.0</td>\n",
       "      <td>89.0</td>\n",
       "      <td>160356.347</td>\n",
       "      <td>3</td>\n",
       "      <td>12</td>\n",
       "      <td>2017</td>\n",
       "      <td>Другой этаж</td>\n",
       "      <td>0.623611</td>\n",
       "      <td>0.170833</td>\n",
       "      <td>0.33</td>\n",
       "      <td>2.181818e+07</td>\n",
       "    </tr>\n",
       "    <tr>\n",
       "      <td>9488</td>\n",
       "      <td>3</td>\n",
       "      <td>8000000</td>\n",
       "      <td>106.0</td>\n",
       "      <td>2018-07-26</td>\n",
       "      <td>3</td>\n",
       "      <td>3.40</td>\n",
       "      <td>3</td>\n",
       "      <td>36.5</td>\n",
       "      <td>1</td>\n",
       "      <td>False</td>\n",
       "      <td>False</td>\n",
       "      <td>False</td>\n",
       "      <td>50.3</td>\n",
       "      <td>0</td>\n",
       "      <td>Санкт-Петербург</td>\n",
       "      <td>21653.0</td>\n",
       "      <td>410.0</td>\n",
       "      <td>3</td>\n",
       "      <td>591.0</td>\n",
       "      <td>2</td>\n",
       "      <td>38.0</td>\n",
       "      <td>60.0</td>\n",
       "      <td>219178.082</td>\n",
       "      <td>3</td>\n",
       "      <td>7</td>\n",
       "      <td>2018</td>\n",
       "      <td>Первый этаж</td>\n",
       "      <td>0.344340</td>\n",
       "      <td>0.474528</td>\n",
       "      <td>0.41</td>\n",
       "      <td>1.951220e+07</td>\n",
       "    </tr>\n",
       "  </tbody>\n",
       "</table>\n",
       "</div>"
      ],
      "text/plain": [
       "       total_images  last_price  total_area first_day_exposition  rooms  \\\n",
       "8614              7    10990000       100.0           2015-12-16      3   \n",
       "1934             18     9590000       108.0           2017-05-23      2   \n",
       "1182              1     5800000        33.6           2016-03-10      1   \n",
       "22036             3     7200000        72.0           2017-12-21      2   \n",
       "9488              3     8000000       106.0           2018-07-26      3   \n",
       "\n",
       "       ceiling_height floors_total  living_area  floor  is_apartment  studio  \\\n",
       "8614             3.90            7         37.8      3         False   False   \n",
       "1934             3.30           18         59.0      2         False   False   \n",
       "1182             3.70            1         22.8      4         False   False   \n",
       "22036            3.07            3         44.9      2         False   False   \n",
       "9488             3.40            3         36.5      1         False   False   \n",
       "\n",
       "       open_plan  kitchen_area  balcony    locality_name  airports_nearest  \\\n",
       "8614       False          11.6        0  Санкт-Петербург           21818.0   \n",
       "1934       False          11.0        0  Санкт-Петербург           21908.0   \n",
       "1182       False           6.6        0  Санкт-Петербург           21632.0   \n",
       "22036      False          12.3        0  Санкт-Петербург           21875.0   \n",
       "9488       False          50.3        0  Санкт-Петербург           21653.0   \n",
       "\n",
       "       cityCenters_nearest  parks_around3000  parks_nearest  ponds_around3000  \\\n",
       "8614                 215.0                 3          229.0                 2   \n",
       "1934                 287.0                 3          359.0                 3   \n",
       "1182                 208.0                 3          304.0                 3   \n",
       "22036                329.0                 3          426.0                 3   \n",
       "9488                 410.0                 3          591.0                 2   \n",
       "\n",
       "       ponds_nearest  days_exposition  price_for_m2  week_day  month  year  \\\n",
       "8614           511.0            265.0    290740.741         2     12  2015   \n",
       "1934           290.0             69.0    162542.373         1      5  2017   \n",
       "1182           503.0            167.0    254385.965         3      3  2016   \n",
       "22036          273.0             89.0    160356.347         3     12  2017   \n",
       "9488            38.0             60.0    219178.082         3      7  2018   \n",
       "\n",
       "      Floor_position  living_area/total_area  kitchen_area/total_area  \\\n",
       "8614     Другой этаж                0.378000                 0.116000   \n",
       "1934     Другой этаж                0.546296                 0.101852   \n",
       "1182     Другой этаж                0.678571                 0.196429   \n",
       "22036    Другой этаж                0.623611                 0.170833   \n",
       "9488     Первый этаж                0.344340                 0.474528   \n",
       "\n",
       "       cityCenters_nearest_in_km    cost_of_km  \n",
       "8614                        0.22  4.995455e+07  \n",
       "1934                        0.29  3.306897e+07  \n",
       "1182                        0.21  2.761905e+07  \n",
       "22036                       0.33  2.181818e+07  \n",
       "9488                        0.41  1.951220e+07  "
      ]
     },
     "execution_count": 63,
     "metadata": {},
     "output_type": "execute_result"
    }
   ],
   "source": [
    "# Выведем самые высокие цены в центре Питера\n",
    "spb_region.sort_values(by = 'cost_of_km',ascending = False).head()"
   ]
  },
  {
   "cell_type": "code",
   "execution_count": 64,
   "metadata": {
    "scrolled": true
   },
   "outputs": [
    {
     "data": {
      "text/html": [
       "<div>\n",
       "<style scoped>\n",
       "    .dataframe tbody tr th:only-of-type {\n",
       "        vertical-align: middle;\n",
       "    }\n",
       "\n",
       "    .dataframe tbody tr th {\n",
       "        vertical-align: top;\n",
       "    }\n",
       "\n",
       "    .dataframe thead th {\n",
       "        text-align: right;\n",
       "    }\n",
       "</style>\n",
       "<table border=\"1\" class=\"dataframe\">\n",
       "  <thead>\n",
       "    <tr style=\"text-align: right;\">\n",
       "      <th></th>\n",
       "      <th>total_images</th>\n",
       "      <th>last_price</th>\n",
       "      <th>total_area</th>\n",
       "      <th>first_day_exposition</th>\n",
       "      <th>rooms</th>\n",
       "      <th>ceiling_height</th>\n",
       "      <th>floors_total</th>\n",
       "      <th>living_area</th>\n",
       "      <th>floor</th>\n",
       "      <th>is_apartment</th>\n",
       "      <th>studio</th>\n",
       "      <th>open_plan</th>\n",
       "      <th>kitchen_area</th>\n",
       "      <th>balcony</th>\n",
       "      <th>locality_name</th>\n",
       "      <th>airports_nearest</th>\n",
       "      <th>cityCenters_nearest</th>\n",
       "      <th>parks_around3000</th>\n",
       "      <th>parks_nearest</th>\n",
       "      <th>ponds_around3000</th>\n",
       "      <th>ponds_nearest</th>\n",
       "      <th>days_exposition</th>\n",
       "      <th>price_for_m2</th>\n",
       "      <th>week_day</th>\n",
       "      <th>month</th>\n",
       "      <th>year</th>\n",
       "      <th>Floor_position</th>\n",
       "      <th>living_area/total_area</th>\n",
       "      <th>kitchen_area/total_area</th>\n",
       "      <th>cityCenters_nearest_in_km</th>\n",
       "      <th>cost_of_km</th>\n",
       "    </tr>\n",
       "  </thead>\n",
       "  <tbody>\n",
       "    <tr>\n",
       "      <td>24</td>\n",
       "      <td>8</td>\n",
       "      <td>6500000</td>\n",
       "      <td>97.2</td>\n",
       "      <td>2015-10-31</td>\n",
       "      <td>2</td>\n",
       "      <td>2.65</td>\n",
       "      <td>8</td>\n",
       "      <td>46.5</td>\n",
       "      <td>1</td>\n",
       "      <td>False</td>\n",
       "      <td>False</td>\n",
       "      <td>False</td>\n",
       "      <td>19.6</td>\n",
       "      <td>0</td>\n",
       "      <td>Санкт-Петербург</td>\n",
       "      <td>20052.0</td>\n",
       "      <td>2336.0</td>\n",
       "      <td>3</td>\n",
       "      <td>411.000000</td>\n",
       "      <td>3</td>\n",
       "      <td>124.000000</td>\n",
       "      <td>265.0</td>\n",
       "      <td>139784.946</td>\n",
       "      <td>5</td>\n",
       "      <td>10</td>\n",
       "      <td>2015</td>\n",
       "      <td>Первый этаж</td>\n",
       "      <td>0.478395</td>\n",
       "      <td>0.201646</td>\n",
       "      <td>2.34</td>\n",
       "      <td>2777777.778</td>\n",
       "    </tr>\n",
       "    <tr>\n",
       "      <td>99</td>\n",
       "      <td>32</td>\n",
       "      <td>9600000</td>\n",
       "      <td>90.0</td>\n",
       "      <td>2017-09-26</td>\n",
       "      <td>4</td>\n",
       "      <td>2.65</td>\n",
       "      <td>32</td>\n",
       "      <td>67.0</td>\n",
       "      <td>2</td>\n",
       "      <td>False</td>\n",
       "      <td>False</td>\n",
       "      <td>False</td>\n",
       "      <td>8.0</td>\n",
       "      <td>0</td>\n",
       "      <td>Санкт-Петербург</td>\n",
       "      <td>23277.0</td>\n",
       "      <td>2818.0</td>\n",
       "      <td>0</td>\n",
       "      <td>490.830729</td>\n",
       "      <td>0</td>\n",
       "      <td>518.059879</td>\n",
       "      <td>104.0</td>\n",
       "      <td>143283.582</td>\n",
       "      <td>1</td>\n",
       "      <td>9</td>\n",
       "      <td>2017</td>\n",
       "      <td>Другой этаж</td>\n",
       "      <td>0.744444</td>\n",
       "      <td>0.088889</td>\n",
       "      <td>2.82</td>\n",
       "      <td>3404255.319</td>\n",
       "    </tr>\n",
       "    <tr>\n",
       "      <td>136</td>\n",
       "      <td>16</td>\n",
       "      <td>6500000</td>\n",
       "      <td>51.8</td>\n",
       "      <td>2018-08-01</td>\n",
       "      <td>2</td>\n",
       "      <td>3.45</td>\n",
       "      <td>16</td>\n",
       "      <td>25.6</td>\n",
       "      <td>2</td>\n",
       "      <td>False</td>\n",
       "      <td>False</td>\n",
       "      <td>False</td>\n",
       "      <td>7.3</td>\n",
       "      <td>1</td>\n",
       "      <td>Санкт-Петербург</td>\n",
       "      <td>20502.0</td>\n",
       "      <td>3618.0</td>\n",
       "      <td>2</td>\n",
       "      <td>533.000000</td>\n",
       "      <td>1</td>\n",
       "      <td>812.000000</td>\n",
       "      <td>163.0</td>\n",
       "      <td>253906.250</td>\n",
       "      <td>2</td>\n",
       "      <td>8</td>\n",
       "      <td>2018</td>\n",
       "      <td>Другой этаж</td>\n",
       "      <td>0.494208</td>\n",
       "      <td>0.140927</td>\n",
       "      <td>3.62</td>\n",
       "      <td>1795580.110</td>\n",
       "    </tr>\n",
       "    <tr>\n",
       "      <td>138</td>\n",
       "      <td>8</td>\n",
       "      <td>4800000</td>\n",
       "      <td>40.0</td>\n",
       "      <td>2017-11-18</td>\n",
       "      <td>2</td>\n",
       "      <td>2.65</td>\n",
       "      <td>8</td>\n",
       "      <td>29.0</td>\n",
       "      <td>2</td>\n",
       "      <td>False</td>\n",
       "      <td>False</td>\n",
       "      <td>False</td>\n",
       "      <td>6.0</td>\n",
       "      <td>0</td>\n",
       "      <td>Санкт-Петербург</td>\n",
       "      <td>23371.0</td>\n",
       "      <td>2913.0</td>\n",
       "      <td>0</td>\n",
       "      <td>490.830729</td>\n",
       "      <td>2</td>\n",
       "      <td>729.000000</td>\n",
       "      <td>80.0</td>\n",
       "      <td>165517.241</td>\n",
       "      <td>5</td>\n",
       "      <td>11</td>\n",
       "      <td>2017</td>\n",
       "      <td>Другой этаж</td>\n",
       "      <td>0.725000</td>\n",
       "      <td>0.150000</td>\n",
       "      <td>2.91</td>\n",
       "      <td>1649484.536</td>\n",
       "    </tr>\n",
       "    <tr>\n",
       "      <td>154</td>\n",
       "      <td>1</td>\n",
       "      <td>8200000</td>\n",
       "      <td>80.0</td>\n",
       "      <td>2018-11-06</td>\n",
       "      <td>3</td>\n",
       "      <td>4.15</td>\n",
       "      <td>1</td>\n",
       "      <td>44.2</td>\n",
       "      <td>2</td>\n",
       "      <td>False</td>\n",
       "      <td>False</td>\n",
       "      <td>False</td>\n",
       "      <td>12.2</td>\n",
       "      <td>0</td>\n",
       "      <td>Санкт-Петербург</td>\n",
       "      <td>20562.0</td>\n",
       "      <td>3167.0</td>\n",
       "      <td>2</td>\n",
       "      <td>344.000000</td>\n",
       "      <td>1</td>\n",
       "      <td>838.000000</td>\n",
       "      <td>38.0</td>\n",
       "      <td>185520.362</td>\n",
       "      <td>1</td>\n",
       "      <td>11</td>\n",
       "      <td>2018</td>\n",
       "      <td>Другой этаж</td>\n",
       "      <td>0.552500</td>\n",
       "      <td>0.152500</td>\n",
       "      <td>3.17</td>\n",
       "      <td>2586750.789</td>\n",
       "    </tr>\n",
       "  </tbody>\n",
       "</table>\n",
       "</div>"
      ],
      "text/plain": [
       "     total_images  last_price  total_area first_day_exposition  rooms  \\\n",
       "24              8     6500000        97.2           2015-10-31      2   \n",
       "99             32     9600000        90.0           2017-09-26      4   \n",
       "136            16     6500000        51.8           2018-08-01      2   \n",
       "138             8     4800000        40.0           2017-11-18      2   \n",
       "154             1     8200000        80.0           2018-11-06      3   \n",
       "\n",
       "     ceiling_height floors_total  living_area  floor  is_apartment  studio  \\\n",
       "24             2.65            8         46.5      1         False   False   \n",
       "99             2.65           32         67.0      2         False   False   \n",
       "136            3.45           16         25.6      2         False   False   \n",
       "138            2.65            8         29.0      2         False   False   \n",
       "154            4.15            1         44.2      2         False   False   \n",
       "\n",
       "     open_plan  kitchen_area  balcony    locality_name  airports_nearest  \\\n",
       "24       False          19.6        0  Санкт-Петербург           20052.0   \n",
       "99       False           8.0        0  Санкт-Петербург           23277.0   \n",
       "136      False           7.3        1  Санкт-Петербург           20502.0   \n",
       "138      False           6.0        0  Санкт-Петербург           23371.0   \n",
       "154      False          12.2        0  Санкт-Петербург           20562.0   \n",
       "\n",
       "     cityCenters_nearest  parks_around3000  parks_nearest  ponds_around3000  \\\n",
       "24                2336.0                 3     411.000000                 3   \n",
       "99                2818.0                 0     490.830729                 0   \n",
       "136               3618.0                 2     533.000000                 1   \n",
       "138               2913.0                 0     490.830729                 2   \n",
       "154               3167.0                 2     344.000000                 1   \n",
       "\n",
       "     ponds_nearest  days_exposition  price_for_m2  week_day  month  year  \\\n",
       "24      124.000000            265.0    139784.946         5     10  2015   \n",
       "99      518.059879            104.0    143283.582         1      9  2017   \n",
       "136     812.000000            163.0    253906.250         2      8  2018   \n",
       "138     729.000000             80.0    165517.241         5     11  2017   \n",
       "154     838.000000             38.0    185520.362         1     11  2018   \n",
       "\n",
       "    Floor_position  living_area/total_area  kitchen_area/total_area  \\\n",
       "24     Первый этаж                0.478395                 0.201646   \n",
       "99     Другой этаж                0.744444                 0.088889   \n",
       "136    Другой этаж                0.494208                 0.140927   \n",
       "138    Другой этаж                0.725000                 0.150000   \n",
       "154    Другой этаж                0.552500                 0.152500   \n",
       "\n",
       "     cityCenters_nearest_in_km   cost_of_km  \n",
       "24                        2.34  2777777.778  \n",
       "99                        2.82  3404255.319  \n",
       "136                       3.62  1795580.110  \n",
       "138                       2.91  1649484.536  \n",
       "154                       3.17  2586750.789  "
      ]
     },
     "execution_count": 64,
     "metadata": {},
     "output_type": "execute_result"
    }
   ],
   "source": [
    "top=current_days_exposition_date.query('cityCenters_nearest_in_km<5 and locality_name==\"Санкт-Петербург\"')\n",
    "top.head()"
   ]
  },
  {
   "cell_type": "markdown",
   "metadata": {},
   "source": [
    "Приступаем к изучению квартир в центре"
   ]
  },
  {
   "cell_type": "code",
   "execution_count": 65,
   "metadata": {},
   "outputs": [
    {
     "data": {
      "text/plain": [
       "<matplotlib.axes._subplots.AxesSubplot at 0x7f2b46a46710>"
      ]
     },
     "execution_count": 65,
     "metadata": {},
     "output_type": "execute_result"
    },
    {
     "data": {
      "image/png": "[encoded data removed]",
      "text/plain": [
       "<Figure size 432x288 with 1 Axes>"
      ]
     },
     "metadata": {
      "needs_background": "light"
     },
     "output_type": "display_data"
    }
   ],
   "source": [
    "top['last_price'].hist(bins=40)"
   ]
  },
  {
   "cell_type": "markdown",
   "metadata": {},
   "source": [
    "В центральном районе больше всего квартир в диапозоне от 6,5 до 8 миллионов"
   ]
  },
  {
   "cell_type": "code",
   "execution_count": 66,
   "metadata": {},
   "outputs": [
    {
     "data": {
      "text/plain": [
       "<matplotlib.axes._subplots.AxesSubplot at 0x7f2b529f4590>"
      ]
     },
     "execution_count": 66,
     "metadata": {},
     "output_type": "execute_result"
    },
    {
     "data": {
      "image/png": "[encoded data removed]",
      "text/plain": [
       "<Figure size 432x288 with 1 Axes>"
      ]
     },
     "metadata": {
      "needs_background": "light"
     },
     "output_type": "display_data"
    }
   ],
   "source": [
    "top['total_area'].hist(bins=40)"
   ]
  },
  {
   "cell_type": "markdown",
   "metadata": {},
   "source": [
    "А по площади можно сказать вот что: больше всего квартир площадью от 50 до 75 квадратов"
   ]
  },
  {
   "cell_type": "code",
   "execution_count": 67,
   "metadata": {},
   "outputs": [
    {
     "data": {
      "text/plain": [
       "<matplotlib.axes._subplots.AxesSubplot at 0x7f2b4691f490>"
      ]
     },
     "execution_count": 67,
     "metadata": {},
     "output_type": "execute_result"
    },
    {
     "data": {
      "image/png": "[encoded data removed]",
      "text/plain": [
       "<Figure size 432x288 with 1 Axes>"
      ]
     },
     "metadata": {
      "needs_background": "light"
     },
     "output_type": "display_data"
    }
   ],
   "source": [
    "top['rooms'].hist(bins=30)"
   ]
  },
  {
   "cell_type": "markdown",
   "metadata": {},
   "source": [
    "В центральном районе преимущественно квартиры с двумя - тремя комнатами"
   ]
  },
  {
   "cell_type": "code",
   "execution_count": 68,
   "metadata": {},
   "outputs": [
    {
     "data": {
      "text/plain": [
       "<matplotlib.axes._subplots.AxesSubplot at 0x7f2b46b4ca90>"
      ]
     },
     "execution_count": 68,
     "metadata": {},
     "output_type": "execute_result"
    },
    {
     "data": {
      "image/png": "[encoded data removed]",
      "text/plain": [
       "<Figure size 432x288 with 1 Axes>"
      ]
     },
     "metadata": {
      "needs_background": "light"
     },
     "output_type": "display_data"
    }
   ],
   "source": [
    "top['ceiling_height'].hist(bins=30, range=(2, 5))"
   ]
  },
  {
   "cell_type": "markdown",
   "metadata": {},
   "source": [
    "Высота потолков 2,6 метра в полне нормальное дело для Питера"
   ]
  },
  {
   "cell_type": "code",
   "execution_count": 69,
   "metadata": {},
   "outputs": [
    {
     "data": {
      "image/png": "[encoded data removed]",
      "text/plain": [
       "<Figure size 1080x576 with 1 Axes>"
      ]
     },
     "metadata": {
      "needs_background": "light"
     },
     "output_type": "display_data"
    }
   ],
   "source": [
    "(top # Квартиры в центре\n",
    "     .sort_values(by='last_price',ascending=True)\n",
    "     .groupby('rooms')['last_price'].median()\n",
    "     .plot(x='rooms',y='last_price',style='o-',grid=True,figsize=(15,8),legend=True)\n",
    ")\n",
    "\n",
    "\n",
    "(current_days_exposition_date # Все квартиры\n",
    "     .groupby('rooms')['last_price'].median()\n",
    "     .plot(x='rooms',y='last_price',style='o-',grid=True,figsize=(15,8),legend=True)\n",
    ")\n",
    "plt.show()"
   ]
  },
  {
   "cell_type": "markdown",
   "metadata": {},
   "source": [
    "На графике видно, что с увеличением комнат увеличивается стоимость, что очень даже логично. График квартир в центре сдвинут вверх отностительно всех квартир, т.к. в центре квартиры дороже. Самые дорогие 5 комнатные квартиры"
   ]
  },
  {
   "cell_type": "code",
   "execution_count": 70,
   "metadata": {},
   "outputs": [
    {
     "data": {
      "image/png": "[encoded data removed]",
      "text/plain": [
       "<Figure size 432x288 with 1 Axes>"
      ]
     },
     "metadata": {
      "needs_background": "light"
     },
     "output_type": "display_data"
    }
   ],
   "source": [
    "(top #Центр\n",
    "    .groupby('Floor_position')['last_price'].median()\n",
    "    .plot(x='Floor_position',y='last_price',style='o-',legend=True)\n",
    ")\n",
    "\n",
    "\n",
    "(current_days_exposition_date # Все квартиры\n",
    "    .groupby('Floor_position')['last_price'].median()\n",
    "    .plot(x='Floor_position',y='last_price',style='o-',legend=True)\n",
    ")\n",
    "\n",
    "plt.show()"
   ]
  },
  {
   "cell_type": "markdown",
   "metadata": {},
   "source": [
    "Подчеркиваем социальный статус, квартиры на последнем этаже в центре самые дорогие. На первом этаже покупают реже всего. В центральном районе они намного дороже"
   ]
  },
  {
   "cell_type": "code",
   "execution_count": 71,
   "metadata": {},
   "outputs": [
    {
     "data": {
      "image/png": "[encoded data removed]",
      "text/plain": [
       "<Figure size 432x288 with 1 Axes>"
      ]
     },
     "metadata": {
      "needs_background": "light"
     },
     "output_type": "display_data"
    },
    {
     "data": {
      "image/png": "[encoded data removed]",
      "text/plain": [
       "<Figure size 432x288 with 1 Axes>"
      ]
     },
     "metadata": {
      "needs_background": "light"
     },
     "output_type": "display_data"
    }
   ],
   "source": [
    "(top\n",
    "     .sort_values(by='cityCenters_nearest',ascending=True)\n",
    "     .plot(x='cityCenters_nearest',y='last_price',style='o',alpha=0.3)\n",
    ")\n",
    "\n",
    "(current_days_exposition_date\n",
    "     .sort_values(by='cityCenters_nearest',ascending=True)\n",
    "     .plot(x='cityCenters_nearest',y='last_price',style='o',alpha=0.3)\n",
    ")\n",
    "\n",
    "plt.show()"
   ]
  },
  {
   "cell_type": "markdown",
   "metadata": {},
   "source": [
    "На верхнем графике видно, что больше всего квартир на расстоянии 4-5км и стоят они от 3-11 млн. руб"
   ]
  },
  {
   "cell_type": "code",
   "execution_count": 72,
   "metadata": {},
   "outputs": [
    {
     "data": {
      "image/png": "[encoded data removed]",
      "text/plain": [
       "<Figure size 432x288 with 1 Axes>"
      ]
     },
     "metadata": {
      "needs_background": "light"
     },
     "output_type": "display_data"
    }
   ],
   "source": [
    "(top\n",
    "     .groupby('week_day')['last_price'].count()\n",
    "     .plot(x='week_day',y='last_price',style='o',legend=True)\n",
    ")\n",
    "\n",
    "(current_days_exposition_date\n",
    "     .groupby('week_day')['last_price'].count()\n",
    "     .plot(x='week_day',y='last_price',style='o',legend=True)\n",
    ")\n",
    "\n",
    "plt.show()"
   ]
  },
  {
   "cell_type": "markdown",
   "metadata": {},
   "source": [
    "В течении недели квартиры продаются примерно одинаково. в субб и в воскр сильно меньше."
   ]
  },
  {
   "cell_type": "code",
   "execution_count": 73,
   "metadata": {},
   "outputs": [
    {
     "data": {
      "image/png": "[encoded data removed]",
      "text/plain": [
       "<Figure size 432x288 with 1 Axes>"
      ]
     },
     "metadata": {
      "needs_background": "light"
     },
     "output_type": "display_data"
    }
   ],
   "source": [
    "(top\n",
    "     .groupby('month')['last_price'].count()\n",
    "     .plot(x='month',y='last_price',style='-',legend=True)\n",
    ")\n",
    "(current_days_exposition_date\n",
    "     .groupby('month')['last_price'].count()\n",
    "     .plot(x='month',y='last_price',style='-',legend=True)\n",
    ")\n",
    "\n",
    "plt.show()"
   ]
  },
  {
   "cell_type": "markdown",
   "metadata": {},
   "source": [
    "В течение месяцев квартиры в центре продаются примерно одинаково."
   ]
  },
  {
   "cell_type": "code",
   "execution_count": 74,
   "metadata": {},
   "outputs": [
    {
     "data": {
      "image/png": "[encoded data removed]",
      "text/plain": [
       "<Figure size 432x288 with 1 Axes>"
      ]
     },
     "metadata": {
      "needs_background": "light"
     },
     "output_type": "display_data"
    }
   ],
   "source": [
    "(top\n",
    "     .groupby('year')['last_price'].count()\n",
    "     .plot(x='year',y='last_price',style='-',legend=True)\n",
    ")\n",
    "(current_days_exposition_date\n",
    "     .groupby('year')['last_price'].count()\n",
    "     .plot(x='year',y='last_price',style='-',legend=True)\n",
    ")\n",
    "\n",
    "plt.show()"
   ]
  },
  {
   "cell_type": "markdown",
   "metadata": {},
   "source": [
    "В течении пяти исследуемых лет в центре, также все примерно ровно продается"
   ]
  },
  {
   "cell_type": "markdown",
   "metadata": {},
   "source": [
    "## Общий вывод"
   ]
  },
  {
   "cell_type": "markdown",
   "metadata": {},
   "source": [
    "Если обобщить все данные, то можно сделать вывод, что больше всего квартир продается в будние дни,1-3 комнатные квартиры, на любом, кроме первого этажа, с высотой потолка 2,6 м за цену около 4,5 млн. руб. Увидели, что цена кв. зависет от этажа, района, от высоты потолка и от кол-ва комнат. Корреляция этих параметров в центре похоже и для всех квартир. Большее количество квартир продается в течении 100 дней после того как выставили объявление. "
   ]
  }
 ],
 "metadata": {
  "ExecuteTimeLog": [
   {
    "duration": 822,
    "start_time": "2021-11-15T13:54:49.628Z"
   },
   {
    "duration": 20,
    "start_time": "2021-11-15T13:55:12.269Z"
   },
   {
    "duration": 77,
    "start_time": "2021-11-15T13:56:51.465Z"
   },
   {
    "duration": 9,
    "start_time": "2021-11-15T13:56:53.730Z"
   },
   {
    "duration": 99,
    "start_time": "2021-11-15T13:57:31.720Z"
   },
   {
    "duration": 43,
    "start_time": "2021-11-15T13:57:34.561Z"
   },
   {
    "duration": 8,
    "start_time": "2021-11-15T14:11:37.588Z"
   },
   {
    "duration": 39,
    "start_time": "2021-11-15T14:11:50.555Z"
   },
   {
    "duration": 36,
    "start_time": "2021-11-15T14:12:04.379Z"
   },
   {
    "duration": 8,
    "start_time": "2021-11-15T14:13:20.635Z"
   },
   {
    "duration": 41,
    "start_time": "2021-11-15T14:13:31.994Z"
   },
   {
    "duration": 6,
    "start_time": "2021-11-15T14:13:58.394Z"
   },
   {
    "duration": 7,
    "start_time": "2021-11-15T14:14:10.394Z"
   },
   {
    "duration": 7,
    "start_time": "2021-11-15T14:14:13.785Z"
   },
   {
    "duration": 6,
    "start_time": "2021-11-15T14:14:18.585Z"
   },
   {
    "duration": 8,
    "start_time": "2021-11-15T14:14:40.866Z"
   },
   {
    "duration": 6,
    "start_time": "2021-11-15T14:14:54.329Z"
   },
   {
    "duration": 5,
    "start_time": "2021-11-15T14:15:01.025Z"
   },
   {
    "duration": 6,
    "start_time": "2021-11-15T14:15:05.184Z"
   },
   {
    "duration": 10,
    "start_time": "2021-11-15T14:15:18.543Z"
   },
   {
    "duration": 5,
    "start_time": "2021-11-15T14:16:04.898Z"
   },
   {
    "duration": 6,
    "start_time": "2021-11-15T14:16:27.591Z"
   },
   {
    "duration": 597,
    "start_time": "2021-11-15T14:18:39.263Z"
   },
   {
    "duration": 95,
    "start_time": "2021-11-15T14:21:17.667Z"
   },
   {
    "duration": 12,
    "start_time": "2021-11-15T14:29:58.739Z"
   },
   {
    "duration": 8,
    "start_time": "2021-11-15T14:30:09.964Z"
   },
   {
    "duration": 8,
    "start_time": "2021-11-15T14:30:35.362Z"
   },
   {
    "duration": 7,
    "start_time": "2021-11-15T14:34:49.782Z"
   },
   {
    "duration": 101,
    "start_time": "2021-11-15T14:40:41.818Z"
   },
   {
    "duration": 32,
    "start_time": "2021-11-15T14:40:44.763Z"
   },
   {
    "duration": 32,
    "start_time": "2021-11-15T14:40:52.842Z"
   },
   {
    "duration": 20,
    "start_time": "2021-11-15T14:43:59.854Z"
   },
   {
    "duration": 62,
    "start_time": "2021-11-15T14:51:30.529Z"
   },
   {
    "duration": 80,
    "start_time": "2021-11-15T14:51:44.200Z"
   },
   {
    "duration": 6,
    "start_time": "2021-11-15T14:56:25.836Z"
   },
   {
    "duration": 7,
    "start_time": "2021-11-15T15:05:09.412Z"
   },
   {
    "duration": 9,
    "start_time": "2021-11-15T15:05:19.052Z"
   },
   {
    "duration": 3613,
    "start_time": "2021-11-15T15:07:15.066Z"
   },
   {
    "duration": 3531,
    "start_time": "2021-11-15T15:08:04.146Z"
   },
   {
    "duration": 5810,
    "start_time": "2021-11-15T15:11:03.215Z"
   },
   {
    "duration": 118,
    "start_time": "2021-11-15T15:12:14.999Z"
   },
   {
    "duration": 305,
    "start_time": "2021-11-15T15:13:05.941Z"
   },
   {
    "duration": 93,
    "start_time": "2021-11-15T15:13:32.661Z"
   },
   {
    "duration": 302,
    "start_time": "2021-11-15T15:13:39.748Z"
   },
   {
    "duration": 319,
    "start_time": "2021-11-15T15:14:54.652Z"
   },
   {
    "duration": 35,
    "start_time": "2021-11-15T15:17:59.521Z"
   },
   {
    "duration": 305,
    "start_time": "2021-11-15T15:20:26.960Z"
   },
   {
    "duration": 279,
    "start_time": "2021-11-15T15:20:45.224Z"
   },
   {
    "duration": 279,
    "start_time": "2021-11-15T15:21:28.142Z"
   },
   {
    "duration": 3583,
    "start_time": "2021-11-15T15:21:56.854Z"
   },
   {
    "duration": 4145,
    "start_time": "2021-11-15T15:22:12.630Z"
   },
   {
    "duration": 306,
    "start_time": "2021-11-15T15:27:49.745Z"
   },
   {
    "duration": 322,
    "start_time": "2021-11-15T15:28:09.889Z"
   },
   {
    "duration": 331,
    "start_time": "2021-11-15T15:28:20.080Z"
   },
   {
    "duration": 3191,
    "start_time": "2021-11-15T15:28:31.695Z"
   },
   {
    "duration": 3173,
    "start_time": "2021-11-15T15:28:46.488Z"
   },
   {
    "duration": 3844,
    "start_time": "2021-11-15T15:29:41.512Z"
   },
   {
    "duration": 140,
    "start_time": "2021-11-15T15:30:55.726Z"
   },
   {
    "duration": 3256,
    "start_time": "2021-11-15T15:31:12.205Z"
   },
   {
    "duration": 516,
    "start_time": "2021-11-15T15:34:12.684Z"
   },
   {
    "duration": 3287,
    "start_time": "2021-11-15T15:34:32.066Z"
   },
   {
    "duration": 297,
    "start_time": "2021-11-15T15:35:21.345Z"
   },
   {
    "duration": 3500,
    "start_time": "2021-11-15T15:35:32.201Z"
   },
   {
    "duration": 3212,
    "start_time": "2021-11-15T15:35:58.305Z"
   },
   {
    "duration": 3453,
    "start_time": "2021-11-15T15:36:22.828Z"
   },
   {
    "duration": 3405,
    "start_time": "2021-11-15T15:36:54.641Z"
   },
   {
    "duration": 6,
    "start_time": "2021-11-15T15:38:02.048Z"
   },
   {
    "duration": 6,
    "start_time": "2021-11-15T15:38:11.455Z"
   },
   {
    "duration": 7,
    "start_time": "2021-11-15T15:38:14.503Z"
   },
   {
    "duration": 9,
    "start_time": "2021-11-15T15:38:25.398Z"
   },
   {
    "duration": 15,
    "start_time": "2021-11-15T15:39:36.470Z"
   },
   {
    "duration": 10,
    "start_time": "2021-11-15T15:39:57.614Z"
   },
   {
    "duration": 49,
    "start_time": "2021-11-15T15:40:05.853Z"
   },
   {
    "duration": 33,
    "start_time": "2021-11-15T15:40:19.966Z"
   },
   {
    "duration": 110,
    "start_time": "2021-11-15T15:40:26.748Z"
   },
   {
    "duration": 32,
    "start_time": "2021-11-15T15:40:26.893Z"
   },
   {
    "duration": 30,
    "start_time": "2021-11-15T15:40:27.805Z"
   },
   {
    "duration": 8,
    "start_time": "2021-11-15T15:40:28.293Z"
   },
   {
    "duration": 17,
    "start_time": "2021-11-15T15:40:28.708Z"
   },
   {
    "duration": 76,
    "start_time": "2021-11-15T15:40:28.924Z"
   },
   {
    "duration": 3286,
    "start_time": "2021-11-15T15:40:29.126Z"
   },
   {
    "duration": 59,
    "start_time": "2021-11-15T15:40:32.415Z"
   },
   {
    "duration": 51,
    "start_time": "2021-11-15T15:40:42.614Z"
   },
   {
    "duration": 49,
    "start_time": "2021-11-15T15:40:52.494Z"
   },
   {
    "duration": 89,
    "start_time": "2021-11-15T15:41:04.076Z"
   },
   {
    "duration": 32,
    "start_time": "2021-11-15T15:41:04.277Z"
   },
   {
    "duration": 39,
    "start_time": "2021-11-15T15:41:05.021Z"
   },
   {
    "duration": 9,
    "start_time": "2021-11-15T15:41:05.284Z"
   },
   {
    "duration": 17,
    "start_time": "2021-11-15T15:41:05.612Z"
   },
   {
    "duration": 52,
    "start_time": "2021-11-15T15:41:05.916Z"
   },
   {
    "duration": 38,
    "start_time": "2021-11-15T15:41:06.885Z"
   },
   {
    "duration": 35,
    "start_time": "2021-11-15T15:41:15.141Z"
   },
   {
    "duration": 34,
    "start_time": "2021-11-15T15:41:18.948Z"
   },
   {
    "duration": 100,
    "start_time": "2021-11-15T15:41:22.795Z"
   },
   {
    "duration": 33,
    "start_time": "2021-11-15T15:41:22.925Z"
   },
   {
    "duration": 31,
    "start_time": "2021-11-15T15:41:23.540Z"
   },
   {
    "duration": 9,
    "start_time": "2021-11-15T15:41:24.084Z"
   },
   {
    "duration": 17,
    "start_time": "2021-11-15T15:41:24.699Z"
   },
   {
    "duration": 49,
    "start_time": "2021-11-15T15:41:25.059Z"
   },
   {
    "duration": 39,
    "start_time": "2021-11-15T15:41:26.174Z"
   },
   {
    "duration": 38,
    "start_time": "2021-11-15T15:42:15.459Z"
   },
   {
    "duration": 6,
    "start_time": "2021-11-15T15:42:25.485Z"
   },
   {
    "duration": 34,
    "start_time": "2021-11-15T15:42:32.803Z"
   },
   {
    "duration": 812,
    "start_time": "2021-11-15T15:42:38.658Z"
   },
   {
    "duration": 41,
    "start_time": "2021-11-15T15:42:39.473Z"
   },
   {
    "duration": 64,
    "start_time": "2021-11-15T15:42:39.517Z"
   },
   {
    "duration": 18,
    "start_time": "2021-11-15T15:42:39.584Z"
   },
   {
    "duration": 38,
    "start_time": "2021-11-15T15:42:39.604Z"
   },
   {
    "duration": 95,
    "start_time": "2021-11-15T15:42:39.644Z"
   },
   {
    "duration": 92,
    "start_time": "2021-11-15T15:42:39.742Z"
   },
   {
    "duration": 977,
    "start_time": "2021-11-15T15:42:54.630Z"
   },
   {
    "duration": 43,
    "start_time": "2021-11-15T15:42:55.610Z"
   },
   {
    "duration": 32,
    "start_time": "2021-11-15T15:42:55.656Z"
   },
   {
    "duration": 41,
    "start_time": "2021-11-15T15:42:55.691Z"
   },
   {
    "duration": 20,
    "start_time": "2021-11-15T15:42:55.735Z"
   },
   {
    "duration": 95,
    "start_time": "2021-11-15T15:42:55.758Z"
   },
   {
    "duration": 38,
    "start_time": "2021-11-15T15:42:55.857Z"
   },
   {
    "duration": 873,
    "start_time": "2021-11-15T15:43:28.694Z"
   },
   {
    "duration": 43,
    "start_time": "2021-11-15T15:43:29.570Z"
   },
   {
    "duration": 43,
    "start_time": "2021-11-15T15:43:29.616Z"
   },
   {
    "duration": 10,
    "start_time": "2021-11-15T15:43:29.662Z"
   },
   {
    "duration": 57,
    "start_time": "2021-11-15T15:43:29.675Z"
   },
   {
    "duration": 64,
    "start_time": "2021-11-15T15:43:29.734Z"
   },
   {
    "duration": 10,
    "start_time": "2021-11-15T15:43:29.828Z"
   },
   {
    "duration": 7,
    "start_time": "2021-11-15T15:43:45.203Z"
   },
   {
    "duration": 12,
    "start_time": "2021-11-15T15:44:19.994Z"
   },
   {
    "duration": 32,
    "start_time": "2021-11-15T15:44:25.930Z"
   },
   {
    "duration": 9,
    "start_time": "2021-11-15T15:44:38.154Z"
   },
   {
    "duration": 10,
    "start_time": "2021-11-15T15:44:42.483Z"
   },
   {
    "duration": 7,
    "start_time": "2021-11-15T15:46:01.497Z"
   },
   {
    "duration": 6,
    "start_time": "2021-11-15T15:46:10.336Z"
   },
   {
    "duration": 6,
    "start_time": "2021-11-15T15:46:25.329Z"
   },
   {
    "duration": 6,
    "start_time": "2021-11-15T15:47:05.512Z"
   },
   {
    "duration": 389,
    "start_time": "2021-11-15T15:47:51.623Z"
   },
   {
    "duration": 6194,
    "start_time": "2021-11-15T15:54:32.410Z"
   },
   {
    "duration": 490,
    "start_time": "2021-11-15T16:11:43.418Z"
   },
   {
    "duration": 790,
    "start_time": "2021-11-15T16:11:48.873Z"
   },
   {
    "duration": 43,
    "start_time": "2021-11-15T16:11:49.666Z"
   },
   {
    "duration": 40,
    "start_time": "2021-11-15T16:11:49.712Z"
   },
   {
    "duration": 9,
    "start_time": "2021-11-15T16:11:49.755Z"
   },
   {
    "duration": 19,
    "start_time": "2021-11-15T16:11:49.766Z"
   },
   {
    "duration": 103,
    "start_time": "2021-11-15T16:11:49.787Z"
   },
   {
    "duration": 36,
    "start_time": "2021-11-15T16:11:49.893Z"
   },
   {
    "duration": 386,
    "start_time": "2021-11-15T16:11:49.933Z"
   },
   {
    "duration": 33,
    "start_time": "2021-11-15T16:12:38.154Z"
   },
   {
    "duration": 375,
    "start_time": "2021-11-15T16:12:54.609Z"
   },
   {
    "duration": 8,
    "start_time": "2021-11-15T16:13:09.617Z"
   },
   {
    "duration": 6,
    "start_time": "2021-11-15T16:13:41.335Z"
   },
   {
    "duration": 286,
    "start_time": "2021-11-15T16:17:48.492Z"
   },
   {
    "duration": 2337,
    "start_time": "2021-11-15T16:18:05.636Z"
   },
   {
    "duration": 3400,
    "start_time": "2021-11-15T16:21:23.266Z"
   },
   {
    "duration": 3438,
    "start_time": "2021-11-15T16:22:17.416Z"
   },
   {
    "duration": 3149,
    "start_time": "2021-11-15T16:22:29.392Z"
   },
   {
    "duration": 8,
    "start_time": "2021-11-15T16:23:43.040Z"
   },
   {
    "duration": 11,
    "start_time": "2021-11-15T16:23:49.775Z"
   },
   {
    "duration": 3230,
    "start_time": "2021-11-15T16:24:15.199Z"
   },
   {
    "duration": 335,
    "start_time": "2021-11-15T16:25:34.470Z"
   },
   {
    "duration": 3277,
    "start_time": "2021-11-15T16:26:36.100Z"
   },
   {
    "duration": 3291,
    "start_time": "2021-11-15T16:28:00.228Z"
   },
   {
    "duration": 347,
    "start_time": "2021-11-15T16:29:31.755Z"
   },
   {
    "duration": 397,
    "start_time": "2021-11-15T16:29:44.497Z"
   },
   {
    "duration": 3259,
    "start_time": "2021-11-15T16:30:53.681Z"
   },
   {
    "duration": 3398,
    "start_time": "2021-11-15T16:31:08.049Z"
   },
   {
    "duration": 532,
    "start_time": "2021-11-15T16:32:46.284Z"
   },
   {
    "duration": 4294,
    "start_time": "2021-11-15T16:33:31.254Z"
   },
   {
    "duration": 3313,
    "start_time": "2021-11-15T16:33:54.959Z"
   },
   {
    "duration": 3112,
    "start_time": "2021-11-15T16:37:25.031Z"
   },
   {
    "duration": 10,
    "start_time": "2021-11-15T18:25:29.355Z"
   },
   {
    "duration": 4896,
    "start_time": "2021-11-15T18:26:17.259Z"
   },
   {
    "duration": 7,
    "start_time": "2021-11-15T18:30:01.223Z"
   },
   {
    "duration": 32,
    "start_time": "2021-11-15T18:30:08.463Z"
   },
   {
    "duration": 17,
    "start_time": "2021-11-15T18:34:02.796Z"
   },
   {
    "duration": 18,
    "start_time": "2021-11-15T18:34:12.300Z"
   },
   {
    "duration": 18,
    "start_time": "2021-11-15T18:34:17.899Z"
   },
   {
    "duration": 16,
    "start_time": "2021-11-15T18:37:19.410Z"
   },
   {
    "duration": 6,
    "start_time": "2021-11-15T18:37:58.040Z"
   },
   {
    "duration": 9,
    "start_time": "2021-11-15T18:38:05.440Z"
   },
   {
    "duration": 10,
    "start_time": "2021-11-15T18:38:33.560Z"
   },
   {
    "duration": 5,
    "start_time": "2021-11-15T18:40:08.270Z"
   },
   {
    "duration": 8,
    "start_time": "2021-11-15T18:40:16.942Z"
   },
   {
    "duration": 8,
    "start_time": "2021-11-15T18:41:14.093Z"
   },
   {
    "duration": 9,
    "start_time": "2021-11-15T18:44:25.468Z"
   },
   {
    "duration": 7,
    "start_time": "2021-11-15T18:45:13.026Z"
   },
   {
    "duration": 7,
    "start_time": "2021-11-15T18:45:45.914Z"
   },
   {
    "duration": 9,
    "start_time": "2021-11-15T18:46:23.681Z"
   },
   {
    "duration": 16,
    "start_time": "2021-11-15T18:47:10.335Z"
   },
   {
    "duration": 278,
    "start_time": "2021-11-15T18:49:07.102Z"
   },
   {
    "duration": 304,
    "start_time": "2021-11-15T18:49:59.118Z"
   },
   {
    "duration": 8,
    "start_time": "2021-11-15T18:50:04.758Z"
   },
   {
    "duration": 13,
    "start_time": "2021-11-15T18:50:17.566Z"
   },
   {
    "duration": 29,
    "start_time": "2021-11-15T18:51:37.076Z"
   },
   {
    "duration": 9,
    "start_time": "2021-11-15T18:52:12.988Z"
   },
   {
    "duration": 7465,
    "start_time": "2021-11-15T18:52:13.588Z"
   },
   {
    "duration": -360,
    "start_time": "2021-11-15T18:52:21.415Z"
   },
   {
    "duration": -361,
    "start_time": "2021-11-15T18:52:21.418Z"
   },
   {
    "duration": 19,
    "start_time": "2021-11-15T18:52:27.307Z"
   },
   {
    "duration": 30,
    "start_time": "2021-11-15T18:52:30.810Z"
   },
   {
    "duration": 19,
    "start_time": "2021-11-15T18:53:58.667Z"
   },
   {
    "duration": 42,
    "start_time": "2021-11-15T18:54:02.259Z"
   },
   {
    "duration": 27,
    "start_time": "2021-11-15T18:54:09.867Z"
   },
   {
    "duration": 27,
    "start_time": "2021-11-15T18:54:10.851Z"
   },
   {
    "duration": 35,
    "start_time": "2021-11-15T18:57:14.311Z"
   },
   {
    "duration": 9,
    "start_time": "2021-11-15T18:57:34.920Z"
   },
   {
    "duration": 8,
    "start_time": "2021-11-15T18:57:40.238Z"
   },
   {
    "duration": 32,
    "start_time": "2021-11-15T18:58:31.303Z"
   },
   {
    "duration": 314,
    "start_time": "2021-11-15T19:00:23.077Z"
   },
   {
    "duration": 290,
    "start_time": "2021-11-15T19:01:25.556Z"
   },
   {
    "duration": 2127,
    "start_time": "2021-11-15T19:05:12.857Z"
   },
   {
    "duration": 15,
    "start_time": "2021-11-15T19:05:44.352Z"
   },
   {
    "duration": 377,
    "start_time": "2021-11-15T19:06:04.104Z"
   },
   {
    "duration": 55,
    "start_time": "2021-11-15T19:07:02.448Z"
   },
   {
    "duration": 1342,
    "start_time": "2021-11-15T19:09:07.189Z"
   },
   {
    "duration": 34,
    "start_time": "2021-11-15T19:09:17.757Z"
   },
   {
    "duration": 40,
    "start_time": "2021-11-15T19:10:50.253Z"
   },
   {
    "duration": 43,
    "start_time": "2021-11-15T19:12:16.996Z"
   },
   {
    "duration": 729,
    "start_time": "2021-11-15T21:15:50.781Z"
   },
   {
    "duration": 549,
    "start_time": "2021-11-15T21:17:47.360Z"
   },
   {
    "duration": 6,
    "start_time": "2021-11-15T21:18:52.434Z"
   },
   {
    "duration": 531,
    "start_time": "2021-11-15T21:20:46.419Z"
   },
   {
    "duration": 558,
    "start_time": "2021-11-15T21:21:17.359Z"
   },
   {
    "duration": 6,
    "start_time": "2021-11-15T21:26:54.893Z"
   },
   {
    "duration": 617,
    "start_time": "2021-11-15T21:27:27.029Z"
   },
   {
    "duration": 558,
    "start_time": "2021-11-15T21:27:33.850Z"
   },
   {
    "duration": 582,
    "start_time": "2021-11-15T21:27:44.141Z"
   },
   {
    "duration": 572,
    "start_time": "2021-11-15T21:27:51.050Z"
   },
   {
    "duration": 5,
    "start_time": "2021-11-15T21:28:34.609Z"
   },
   {
    "duration": 110,
    "start_time": "2021-11-15T21:30:52.944Z"
   },
   {
    "duration": 6,
    "start_time": "2021-11-15T21:32:30.974Z"
   },
   {
    "duration": 7,
    "start_time": "2021-11-15T21:32:49.480Z"
   },
   {
    "duration": 539,
    "start_time": "2021-11-15T21:33:11.533Z"
   },
   {
    "duration": 734,
    "start_time": "2021-11-15T21:33:18.310Z"
   },
   {
    "duration": 541,
    "start_time": "2021-11-15T21:33:25.261Z"
   },
   {
    "duration": 553,
    "start_time": "2021-11-15T21:33:32.749Z"
   },
   {
    "duration": 525,
    "start_time": "2021-11-15T22:46:35.460Z"
   },
   {
    "duration": 653,
    "start_time": "2021-11-15T22:46:47.844Z"
   },
   {
    "duration": 334,
    "start_time": "2021-11-15T22:48:24.147Z"
   },
   {
    "duration": 423,
    "start_time": "2021-11-15T22:48:30.946Z"
   },
   {
    "duration": 471,
    "start_time": "2021-11-15T22:48:36.658Z"
   },
   {
    "duration": 339,
    "start_time": "2021-11-15T22:48:40.721Z"
   },
   {
    "duration": 359,
    "start_time": "2021-11-15T22:48:44.209Z"
   },
   {
    "duration": 363,
    "start_time": "2021-11-15T22:48:51.170Z"
   },
   {
    "duration": 351,
    "start_time": "2021-11-15T22:49:11.298Z"
   },
   {
    "duration": 368,
    "start_time": "2021-11-15T22:49:21.153Z"
   },
   {
    "duration": 337,
    "start_time": "2021-11-15T22:49:36.769Z"
   },
   {
    "duration": 12,
    "start_time": "2021-11-15T22:51:19.007Z"
   },
   {
    "duration": 204,
    "start_time": "2021-11-15T22:57:20.427Z"
   },
   {
    "duration": 11,
    "start_time": "2021-11-15T22:57:30.843Z"
   },
   {
    "duration": 197,
    "start_time": "2021-11-15T22:57:31.442Z"
   },
   {
    "duration": 222,
    "start_time": "2021-11-15T23:04:03.869Z"
   },
   {
    "duration": 47,
    "start_time": "2021-11-15T23:05:29.155Z"
   },
   {
    "duration": 15,
    "start_time": "2021-11-15T23:06:25.114Z"
   },
   {
    "duration": 531,
    "start_time": "2021-11-15T23:06:51.740Z"
   },
   {
    "duration": 12,
    "start_time": "2021-11-15T23:11:35.006Z"
   },
   {
    "duration": 210,
    "start_time": "2021-11-15T23:11:49.861Z"
   },
   {
    "duration": 69,
    "start_time": "2021-11-15T23:13:04.157Z"
   },
   {
    "duration": 51,
    "start_time": "2021-11-15T23:13:12.326Z"
   },
   {
    "duration": 17,
    "start_time": "2021-11-15T23:17:38.544Z"
   },
   {
    "duration": 686,
    "start_time": "2021-11-15T23:18:11.920Z"
   },
   {
    "duration": 7,
    "start_time": "2021-11-15T23:19:16.288Z"
   },
   {
    "duration": 593,
    "start_time": "2021-11-15T23:20:24.190Z"
   },
   {
    "duration": 9,
    "start_time": "2021-11-15T23:22:15.245Z"
   },
   {
    "duration": 8,
    "start_time": "2021-11-15T23:22:25.732Z"
   },
   {
    "duration": 45,
    "start_time": "2021-11-15T23:24:01.899Z"
   },
   {
    "duration": 97,
    "start_time": "2021-11-15T23:26:32.179Z"
   },
   {
    "duration": 283,
    "start_time": "2021-11-15T23:26:35.888Z"
   },
   {
    "duration": 275,
    "start_time": "2021-11-15T23:26:46.696Z"
   },
   {
    "duration": 85,
    "start_time": "2021-11-15T23:26:56.170Z"
   },
   {
    "duration": 8,
    "start_time": "2021-11-15T23:27:00.136Z"
   },
   {
    "duration": 7,
    "start_time": "2021-11-15T23:52:53.321Z"
   },
   {
    "duration": 218,
    "start_time": "2021-11-15T23:53:51.778Z"
   },
   {
    "duration": 7,
    "start_time": "2021-11-15T23:54:09.938Z"
   },
   {
    "duration": 467,
    "start_time": "2021-11-15T23:54:53.448Z"
   },
   {
    "duration": 7,
    "start_time": "2021-11-15T23:55:34.679Z"
   },
   {
    "duration": 241,
    "start_time": "2021-11-16T00:00:40.821Z"
   },
   {
    "duration": 277,
    "start_time": "2021-11-16T00:02:06.306Z"
   },
   {
    "duration": 250,
    "start_time": "2021-11-16T00:03:31.033Z"
   },
   {
    "duration": 31,
    "start_time": "2021-11-16T00:04:05.168Z"
   },
   {
    "duration": 347,
    "start_time": "2021-11-16T09:09:54.356Z"
   },
   {
    "duration": 650,
    "start_time": "2021-11-16T09:10:04.369Z"
   },
   {
    "duration": 24,
    "start_time": "2021-11-16T09:10:05.021Z"
   },
   {
    "duration": 16,
    "start_time": "2021-11-16T09:10:05.047Z"
   },
   {
    "duration": 23,
    "start_time": "2021-11-16T09:10:05.065Z"
   },
   {
    "duration": 11,
    "start_time": "2021-11-16T09:10:05.090Z"
   },
   {
    "duration": 40,
    "start_time": "2021-11-16T09:10:05.102Z"
   },
   {
    "duration": 10,
    "start_time": "2021-11-16T09:10:05.143Z"
   },
   {
    "duration": 33,
    "start_time": "2021-11-16T09:10:05.155Z"
   },
   {
    "duration": 2114,
    "start_time": "2021-11-16T09:10:05.190Z"
   },
   {
    "duration": 2218,
    "start_time": "2021-11-16T09:10:07.306Z"
   },
   {
    "duration": 18,
    "start_time": "2021-11-16T09:10:09.525Z"
   },
   {
    "duration": 11,
    "start_time": "2021-11-16T09:10:09.545Z"
   },
   {
    "duration": 31,
    "start_time": "2021-11-16T09:10:09.558Z"
   },
   {
    "duration": 5,
    "start_time": "2021-11-16T09:10:09.590Z"
   },
   {
    "duration": 6,
    "start_time": "2021-11-16T09:10:09.597Z"
   },
   {
    "duration": 11,
    "start_time": "2021-11-16T09:10:09.605Z"
   },
   {
    "duration": 7,
    "start_time": "2021-11-16T09:10:09.617Z"
   },
   {
    "duration": 6,
    "start_time": "2021-11-16T09:10:09.625Z"
   },
   {
    "duration": 13,
    "start_time": "2021-11-16T09:10:09.632Z"
   },
   {
    "duration": 40,
    "start_time": "2021-11-16T09:10:09.647Z"
   },
   {
    "duration": 21,
    "start_time": "2021-11-16T09:10:09.690Z"
   },
   {
    "duration": 30,
    "start_time": "2021-11-16T09:10:09.712Z"
   },
   {
    "duration": 434,
    "start_time": "2021-11-16T09:10:09.745Z"
   },
   {
    "duration": 21,
    "start_time": "2021-11-16T09:10:10.181Z"
   },
   {
    "duration": 21,
    "start_time": "2021-11-16T09:10:10.204Z"
   },
   {
    "duration": 405,
    "start_time": "2021-11-16T09:10:10.226Z"
   },
   {
    "duration": 306,
    "start_time": "2021-11-16T09:10:10.632Z"
   },
   {
    "duration": 293,
    "start_time": "2021-11-16T09:10:10.940Z"
   },
   {
    "duration": 296,
    "start_time": "2021-11-16T09:10:11.235Z"
   },
   {
    "duration": 185,
    "start_time": "2021-11-16T09:10:11.532Z"
   },
   {
    "duration": 7,
    "start_time": "2021-11-16T09:10:11.719Z"
   },
   {
    "duration": 124,
    "start_time": "2021-11-16T09:10:11.727Z"
   },
   {
    "duration": 131,
    "start_time": "2021-11-16T09:10:11.853Z"
   },
   {
    "duration": 25,
    "start_time": "2021-11-16T09:10:11.986Z"
   },
   {
    "duration": 345,
    "start_time": "2021-11-16T09:10:12.012Z"
   },
   {
    "duration": 7,
    "start_time": "2021-11-16T09:10:12.359Z"
   },
   {
    "duration": 136,
    "start_time": "2021-11-16T09:10:12.368Z"
   },
   {
    "duration": 27,
    "start_time": "2021-11-16T09:10:12.505Z"
   },
   {
    "duration": 10,
    "start_time": "2021-11-16T09:10:12.533Z"
   },
   {
    "duration": 582,
    "start_time": "2021-11-16T09:10:12.545Z"
   },
   {
    "duration": 5,
    "start_time": "2021-11-16T09:10:13.130Z"
   },
   {
    "duration": 263,
    "start_time": "2021-11-16T09:10:13.137Z"
   },
   {
    "duration": 5,
    "start_time": "2021-11-16T09:10:13.402Z"
   },
   {
    "duration": 9,
    "start_time": "2021-11-16T09:10:13.408Z"
   },
   {
    "duration": 136,
    "start_time": "2021-11-16T09:10:13.419Z"
   },
   {
    "duration": 5,
    "start_time": "2021-11-16T09:10:13.556Z"
   },
   {
    "duration": 287,
    "start_time": "2021-11-16T09:10:13.562Z"
   },
   {
    "duration": 5,
    "start_time": "2021-11-16T09:10:13.851Z"
   },
   {
    "duration": 149,
    "start_time": "2021-11-16T09:10:13.857Z"
   },
   {
    "duration": 161,
    "start_time": "2021-11-16T09:10:14.008Z"
   },
   {
    "duration": 147,
    "start_time": "2021-11-16T09:10:14.171Z"
   },
   {
    "duration": 18,
    "start_time": "2021-11-16T09:10:14.320Z"
   },
   {
    "duration": 3,
    "start_time": "2021-11-16T09:10:14.339Z"
   },
   {
    "duration": 4,
    "start_time": "2021-11-16T09:13:51.951Z"
   },
   {
    "duration": 25,
    "start_time": "2021-11-16T09:14:04.167Z"
   },
   {
    "duration": 3,
    "start_time": "2021-11-16T09:14:21.223Z"
   },
   {
    "duration": 4,
    "start_time": "2021-11-16T09:14:21.814Z"
   },
   {
    "duration": 24,
    "start_time": "2021-11-16T09:14:22.382Z"
   },
   {
    "duration": 4,
    "start_time": "2021-11-16T09:15:50.127Z"
   },
   {
    "duration": 3,
    "start_time": "2021-11-16T09:15:50.980Z"
   },
   {
    "duration": 25,
    "start_time": "2021-11-16T09:15:51.662Z"
   },
   {
    "duration": 4,
    "start_time": "2021-11-16T09:16:19.205Z"
   },
   {
    "duration": 25,
    "start_time": "2021-11-16T09:16:21.220Z"
   },
   {
    "duration": 209,
    "start_time": "2021-11-16T09:17:57.611Z"
   },
   {
    "duration": 366,
    "start_time": "2021-11-16T09:18:10.427Z"
   },
   {
    "duration": 90,
    "start_time": "2021-11-16T09:19:06.058Z"
   },
   {
    "duration": 256,
    "start_time": "2021-11-16T09:19:28.841Z"
   },
   {
    "duration": 6,
    "start_time": "2021-11-16T09:22:47.240Z"
   },
   {
    "duration": 4,
    "start_time": "2021-11-16T09:25:48.788Z"
   },
   {
    "duration": 20,
    "start_time": "2021-11-16T09:25:59.892Z"
   },
   {
    "duration": 20,
    "start_time": "2021-11-16T09:26:08.861Z"
   },
   {
    "duration": 603,
    "start_time": "2021-11-16T09:26:24.520Z"
   },
   {
    "duration": 23,
    "start_time": "2021-11-16T09:26:25.124Z"
   },
   {
    "duration": 25,
    "start_time": "2021-11-16T09:26:25.149Z"
   },
   {
    "duration": 16,
    "start_time": "2021-11-16T09:26:25.175Z"
   },
   {
    "duration": 11,
    "start_time": "2021-11-16T09:26:25.192Z"
   },
   {
    "duration": 46,
    "start_time": "2021-11-16T09:26:25.204Z"
   },
   {
    "duration": 9,
    "start_time": "2021-11-16T09:26:25.252Z"
   },
   {
    "duration": 30,
    "start_time": "2021-11-16T09:26:25.263Z"
   },
   {
    "duration": 2295,
    "start_time": "2021-11-16T09:26:25.294Z"
   },
   {
    "duration": 2215,
    "start_time": "2021-11-16T09:26:27.591Z"
   },
   {
    "duration": 17,
    "start_time": "2021-11-16T09:26:29.807Z"
   },
   {
    "duration": 9,
    "start_time": "2021-11-16T09:26:29.825Z"
   },
   {
    "duration": 17,
    "start_time": "2021-11-16T09:26:29.836Z"
   },
   {
    "duration": 14,
    "start_time": "2021-11-16T09:26:29.855Z"
   },
   {
    "duration": 20,
    "start_time": "2021-11-16T09:26:29.871Z"
   },
   {
    "duration": 14,
    "start_time": "2021-11-16T09:26:29.892Z"
   },
   {
    "duration": 12,
    "start_time": "2021-11-16T09:26:29.907Z"
   },
   {
    "duration": 21,
    "start_time": "2021-11-16T09:26:29.920Z"
   },
   {
    "duration": 19,
    "start_time": "2021-11-16T09:26:29.943Z"
   },
   {
    "duration": 20,
    "start_time": "2021-11-16T09:26:29.963Z"
   },
   {
    "duration": 28,
    "start_time": "2021-11-16T09:26:29.985Z"
   },
   {
    "duration": 32,
    "start_time": "2021-11-16T09:26:30.015Z"
   },
   {
    "duration": 426,
    "start_time": "2021-11-16T09:26:30.050Z"
   },
   {
    "duration": 22,
    "start_time": "2021-11-16T09:26:30.478Z"
   },
   {
    "duration": 32,
    "start_time": "2021-11-16T09:26:30.501Z"
   },
   {
    "duration": 393,
    "start_time": "2021-11-16T09:26:30.534Z"
   },
   {
    "duration": 305,
    "start_time": "2021-11-16T09:26:30.928Z"
   },
   {
    "duration": 300,
    "start_time": "2021-11-16T09:26:31.234Z"
   },
   {
    "duration": 308,
    "start_time": "2021-11-16T09:26:31.536Z"
   },
   {
    "duration": 193,
    "start_time": "2021-11-16T09:26:31.846Z"
   },
   {
    "duration": 7,
    "start_time": "2021-11-16T09:26:32.040Z"
   },
   {
    "duration": 123,
    "start_time": "2021-11-16T09:26:32.048Z"
   },
   {
    "duration": 133,
    "start_time": "2021-11-16T09:26:32.172Z"
   },
   {
    "duration": 28,
    "start_time": "2021-11-16T09:26:32.307Z"
   },
   {
    "duration": 364,
    "start_time": "2021-11-16T09:26:32.336Z"
   },
   {
    "duration": 8,
    "start_time": "2021-11-16T09:26:32.701Z"
   },
   {
    "duration": 136,
    "start_time": "2021-11-16T09:26:32.710Z"
   },
   {
    "duration": 28,
    "start_time": "2021-11-16T09:26:32.847Z"
   },
   {
    "duration": 10,
    "start_time": "2021-11-16T09:26:32.888Z"
   },
   {
    "duration": 408,
    "start_time": "2021-11-16T09:26:32.899Z"
   },
   {
    "duration": 4,
    "start_time": "2021-11-16T09:26:33.309Z"
   },
   {
    "duration": 275,
    "start_time": "2021-11-16T09:26:33.315Z"
   },
   {
    "duration": 7,
    "start_time": "2021-11-16T09:26:33.592Z"
   },
   {
    "duration": 5,
    "start_time": "2021-11-16T09:26:33.601Z"
   },
   {
    "duration": 148,
    "start_time": "2021-11-16T09:26:33.608Z"
   },
   {
    "duration": 5,
    "start_time": "2021-11-16T09:26:33.758Z"
   },
   {
    "duration": 291,
    "start_time": "2021-11-16T09:26:33.764Z"
   },
   {
    "duration": 6,
    "start_time": "2021-11-16T09:26:34.056Z"
   },
   {
    "duration": 158,
    "start_time": "2021-11-16T09:26:34.063Z"
   },
   {
    "duration": 174,
    "start_time": "2021-11-16T09:26:34.223Z"
   },
   {
    "duration": 148,
    "start_time": "2021-11-16T09:26:34.399Z"
   },
   {
    "duration": 21,
    "start_time": "2021-11-16T09:26:34.549Z"
   },
   {
    "duration": 18,
    "start_time": "2021-11-16T09:26:34.572Z"
   },
   {
    "duration": 6,
    "start_time": "2021-11-16T09:26:34.592Z"
   },
   {
    "duration": 29,
    "start_time": "2021-11-16T09:26:34.600Z"
   },
   {
    "duration": 311,
    "start_time": "2021-11-16T09:26:34.631Z"
   },
   {
    "duration": 6,
    "start_time": "2021-11-16T09:26:34.943Z"
   },
   {
    "duration": 5,
    "start_time": "2021-11-16T09:26:34.951Z"
   },
   {
    "duration": 38,
    "start_time": "2021-11-16T09:26:34.958Z"
   },
   {
    "duration": 20,
    "start_time": "2021-11-16T09:27:32.789Z"
   },
   {
    "duration": 7,
    "start_time": "2021-11-16T09:28:21.005Z"
   },
   {
    "duration": 24,
    "start_time": "2021-11-16T09:28:28.364Z"
   },
   {
    "duration": 244,
    "start_time": "2021-11-16T09:29:16.492Z"
   },
   {
    "duration": 196,
    "start_time": "2021-11-16T09:29:21.036Z"
   },
   {
    "duration": 212,
    "start_time": "2021-11-16T09:29:29.644Z"
   },
   {
    "duration": 200,
    "start_time": "2021-11-16T09:29:34.699Z"
   },
   {
    "duration": 180,
    "start_time": "2021-11-16T09:30:59.115Z"
   },
   {
    "duration": 204,
    "start_time": "2021-11-16T09:31:09.835Z"
   },
   {
    "duration": 192,
    "start_time": "2021-11-16T09:33:08.017Z"
   },
   {
    "duration": 201,
    "start_time": "2021-11-16T09:33:14.008Z"
   },
   {
    "duration": 186,
    "start_time": "2021-11-16T09:33:18.736Z"
   },
   {
    "duration": 208,
    "start_time": "2021-11-16T09:34:09.856Z"
   },
   {
    "duration": 277,
    "start_time": "2021-11-16T09:35:28.400Z"
   },
   {
    "duration": 364,
    "start_time": "2021-11-16T09:36:53.887Z"
   },
   {
    "duration": 149,
    "start_time": "2021-11-16T09:39:49.124Z"
   },
   {
    "duration": 152,
    "start_time": "2021-11-16T09:41:42.242Z"
   },
   {
    "duration": 439,
    "start_time": "2021-11-16T09:42:16.490Z"
   },
   {
    "duration": 163,
    "start_time": "2021-11-16T09:43:59.505Z"
   },
   {
    "duration": 165,
    "start_time": "2021-11-16T09:44:13.641Z"
   },
   {
    "duration": 89,
    "start_time": "2021-11-16T09:45:17.760Z"
   },
   {
    "duration": 165,
    "start_time": "2021-11-16T09:45:41.368Z"
   },
   {
    "duration": 184,
    "start_time": "2021-11-16T09:46:34.854Z"
   },
   {
    "duration": 378,
    "start_time": "2021-11-17T14:52:03.713Z"
   },
   {
    "duration": 990,
    "start_time": "2021-11-17T14:52:08.710Z"
   },
   {
    "duration": 105,
    "start_time": "2021-11-17T14:52:09.703Z"
   },
   {
    "duration": 37,
    "start_time": "2021-11-17T14:52:09.811Z"
   },
   {
    "duration": 30,
    "start_time": "2021-11-17T14:52:09.942Z"
   },
   {
    "duration": 27,
    "start_time": "2021-11-17T14:52:26.918Z"
   },
   {
    "duration": 386,
    "start_time": "2021-11-17T14:52:39.159Z"
   },
   {
    "duration": 309,
    "start_time": "2021-11-17T14:52:48.934Z"
   },
   {
    "duration": 29,
    "start_time": "2021-11-17T14:52:54.358Z"
   },
   {
    "duration": 108,
    "start_time": "2021-11-17T14:53:06.583Z"
   },
   {
    "duration": 5,
    "start_time": "2021-11-17T14:55:45.405Z"
   },
   {
    "duration": 15,
    "start_time": "2021-11-17T14:55:54.260Z"
   },
   {
    "duration": 888,
    "start_time": "2021-11-17T14:59:25.170Z"
   },
   {
    "duration": 904,
    "start_time": "2021-11-17T14:59:38.916Z"
   },
   {
    "duration": 102,
    "start_time": "2021-11-17T14:59:39.822Z"
   },
   {
    "duration": 38,
    "start_time": "2021-11-17T14:59:39.931Z"
   },
   {
    "duration": 55,
    "start_time": "2021-11-17T14:59:39.972Z"
   },
   {
    "duration": 129,
    "start_time": "2021-11-17T14:59:40.029Z"
   },
   {
    "duration": 44,
    "start_time": "2021-11-17T14:59:40.160Z"
   },
   {
    "duration": 8,
    "start_time": "2021-11-17T14:59:40.207Z"
   },
   {
    "duration": 18,
    "start_time": "2021-11-17T14:59:40.218Z"
   },
   {
    "duration": 106,
    "start_time": "2021-11-17T14:59:40.238Z"
   },
   {
    "duration": 14,
    "start_time": "2021-11-17T14:59:40.347Z"
   },
   {
    "duration": 39,
    "start_time": "2021-11-17T14:59:40.363Z"
   },
   {
    "duration": 6,
    "start_time": "2021-11-17T14:59:40.404Z"
   },
   {
    "duration": 4669,
    "start_time": "2021-11-17T14:59:40.412Z"
   },
   {
    "duration": 4691,
    "start_time": "2021-11-17T14:59:45.085Z"
   },
   {
    "duration": 46,
    "start_time": "2021-11-17T14:59:49.779Z"
   },
   {
    "duration": 19,
    "start_time": "2021-11-17T14:59:49.828Z"
   },
   {
    "duration": 56,
    "start_time": "2021-11-17T14:59:49.850Z"
   },
   {
    "duration": 10,
    "start_time": "2021-11-17T14:59:49.909Z"
   },
   {
    "duration": 8,
    "start_time": "2021-11-17T14:59:49.921Z"
   },
   {
    "duration": 15,
    "start_time": "2021-11-17T14:59:49.931Z"
   },
   {
    "duration": 3,
    "start_time": "2021-11-17T14:59:49.949Z"
   },
   {
    "duration": 10,
    "start_time": "2021-11-17T14:59:50.005Z"
   },
   {
    "duration": 17,
    "start_time": "2021-11-17T14:59:50.019Z"
   },
   {
    "duration": 67,
    "start_time": "2021-11-17T14:59:50.039Z"
   },
   {
    "duration": 37,
    "start_time": "2021-11-17T14:59:50.109Z"
   },
   {
    "duration": 78,
    "start_time": "2021-11-17T14:59:50.148Z"
   },
   {
    "duration": 806,
    "start_time": "2021-11-17T14:59:50.228Z"
   },
   {
    "duration": 32,
    "start_time": "2021-11-17T14:59:51.036Z"
   },
   {
    "duration": 63,
    "start_time": "2021-11-17T14:59:51.071Z"
   },
   {
    "duration": 1053,
    "start_time": "2021-11-17T14:59:51.136Z"
   },
   {
    "duration": -106,
    "start_time": "2021-11-17T14:59:52.307Z"
   },
   {
    "duration": -112,
    "start_time": "2021-11-17T14:59:52.315Z"
   },
   {
    "duration": -125,
    "start_time": "2021-11-17T14:59:52.330Z"
   },
   {
    "duration": -199,
    "start_time": "2021-11-17T14:59:52.406Z"
   },
   {
    "duration": -206,
    "start_time": "2021-11-17T14:59:52.415Z"
   },
   {
    "duration": -218,
    "start_time": "2021-11-17T14:59:52.430Z"
   },
   {
    "duration": -240,
    "start_time": "2021-11-17T14:59:52.453Z"
   },
   {
    "duration": -245,
    "start_time": "2021-11-17T14:59:52.461Z"
   },
   {
    "duration": -251,
    "start_time": "2021-11-17T14:59:52.469Z"
   },
   {
    "duration": -256,
    "start_time": "2021-11-17T14:59:52.476Z"
   },
   {
    "duration": -261,
    "start_time": "2021-11-17T14:59:52.483Z"
   },
   {
    "duration": -267,
    "start_time": "2021-11-17T14:59:52.490Z"
   },
   {
    "duration": -279,
    "start_time": "2021-11-17T14:59:52.504Z"
   },
   {
    "duration": -283,
    "start_time": "2021-11-17T14:59:52.510Z"
   },
   {
    "duration": -328,
    "start_time": "2021-11-17T14:59:52.557Z"
   },
   {
    "duration": -331,
    "start_time": "2021-11-17T14:59:52.562Z"
   },
   {
    "duration": -335,
    "start_time": "2021-11-17T14:59:52.568Z"
   },
   {
    "duration": -338,
    "start_time": "2021-11-17T14:59:52.573Z"
   },
   {
    "duration": -396,
    "start_time": "2021-11-17T14:59:52.633Z"
   },
   {
    "duration": -400,
    "start_time": "2021-11-17T14:59:52.639Z"
   },
   {
    "duration": -404,
    "start_time": "2021-11-17T14:59:52.645Z"
   },
   {
    "duration": -407,
    "start_time": "2021-11-17T14:59:52.650Z"
   },
   {
    "duration": -419,
    "start_time": "2021-11-17T14:59:52.663Z"
   },
   {
    "duration": -422,
    "start_time": "2021-11-17T14:59:52.668Z"
   },
   {
    "duration": -449,
    "start_time": "2021-11-17T14:59:52.695Z"
   },
   {
    "duration": -400,
    "start_time": "2021-11-17T14:59:52.701Z"
   },
   {
    "duration": -405,
    "start_time": "2021-11-17T14:59:52.708Z"
   },
   {
    "duration": -409,
    "start_time": "2021-11-17T14:59:52.713Z"
   },
   {
    "duration": -413,
    "start_time": "2021-11-17T14:59:52.719Z"
   },
   {
    "duration": -417,
    "start_time": "2021-11-17T14:59:52.724Z"
   },
   {
    "duration": -422,
    "start_time": "2021-11-17T14:59:52.730Z"
   },
   {
    "duration": -426,
    "start_time": "2021-11-17T14:59:52.735Z"
   },
   {
    "duration": -444,
    "start_time": "2021-11-17T14:59:52.754Z"
   },
   {
    "duration": -447,
    "start_time": "2021-11-17T14:59:52.759Z"
   },
   {
    "duration": -471,
    "start_time": "2021-11-17T14:59:52.784Z"
   },
   {
    "duration": -496,
    "start_time": "2021-11-17T14:59:52.810Z"
   },
   {
    "duration": -500,
    "start_time": "2021-11-17T14:59:52.815Z"
   },
   {
    "duration": -504,
    "start_time": "2021-11-17T14:59:52.821Z"
   },
   {
    "duration": -508,
    "start_time": "2021-11-17T14:59:52.826Z"
   },
   {
    "duration": -512,
    "start_time": "2021-11-17T14:59:52.831Z"
   },
   {
    "duration": -515,
    "start_time": "2021-11-17T14:59:52.836Z"
   },
   {
    "duration": -519,
    "start_time": "2021-11-17T14:59:52.841Z"
   },
   {
    "duration": -523,
    "start_time": "2021-11-17T14:59:52.846Z"
   },
   {
    "duration": -527,
    "start_time": "2021-11-17T14:59:52.851Z"
   },
   {
    "duration": 493,
    "start_time": "2021-11-17T15:00:13.964Z"
   },
   {
    "duration": 627,
    "start_time": "2021-11-17T15:00:49.661Z"
   },
   {
    "duration": 843,
    "start_time": "2021-11-17T15:00:55.794Z"
   },
   {
    "duration": 587,
    "start_time": "2021-11-17T15:01:00.682Z"
   },
   {
    "duration": 759,
    "start_time": "2021-11-17T15:05:31.677Z"
   },
   {
    "duration": 575,
    "start_time": "2021-11-17T15:06:28.854Z"
   },
   {
    "duration": 577,
    "start_time": "2021-11-17T15:06:53.055Z"
   },
   {
    "duration": 591,
    "start_time": "2021-11-17T15:07:00.196Z"
   },
   {
    "duration": 580,
    "start_time": "2021-11-17T15:07:25.180Z"
   },
   {
    "duration": 588,
    "start_time": "2021-11-17T15:08:10.779Z"
   },
   {
    "duration": 662,
    "start_time": "2021-11-17T15:08:25.651Z"
   },
   {
    "duration": 863,
    "start_time": "2021-11-17T15:08:41.804Z"
   },
   {
    "duration": 386,
    "start_time": "2021-11-17T15:09:04.178Z"
   },
   {
    "duration": 667,
    "start_time": "2021-11-18T03:04:20.876Z"
   },
   {
    "duration": 74,
    "start_time": "2021-11-18T03:04:21.545Z"
   },
   {
    "duration": 24,
    "start_time": "2021-11-18T03:04:21.621Z"
   },
   {
    "duration": 24,
    "start_time": "2021-11-18T03:04:21.647Z"
   },
   {
    "duration": 76,
    "start_time": "2021-11-18T03:04:21.673Z"
   },
   {
    "duration": 20,
    "start_time": "2021-11-18T03:04:21.751Z"
   },
   {
    "duration": 23,
    "start_time": "2021-11-18T03:04:21.773Z"
   },
   {
    "duration": 13,
    "start_time": "2021-11-18T03:04:21.799Z"
   },
   {
    "duration": 49,
    "start_time": "2021-11-18T03:04:21.814Z"
   },
   {
    "duration": 35,
    "start_time": "2021-11-18T03:04:21.865Z"
   },
   {
    "duration": 8,
    "start_time": "2021-11-18T03:04:21.902Z"
   },
   {
    "duration": 8,
    "start_time": "2021-11-18T03:04:21.912Z"
   },
   {
    "duration": 2289,
    "start_time": "2021-11-18T03:04:21.922Z"
   },
   {
    "duration": 2293,
    "start_time": "2021-11-18T03:04:24.213Z"
   },
   {
    "duration": 20,
    "start_time": "2021-11-18T03:04:26.509Z"
   },
   {
    "duration": 12,
    "start_time": "2021-11-18T03:04:26.531Z"
   },
   {
    "duration": 9,
    "start_time": "2021-11-18T03:04:26.544Z"
   },
   {
    "duration": 38,
    "start_time": "2021-11-18T03:04:26.555Z"
   },
   {
    "duration": 14,
    "start_time": "2021-11-18T03:04:26.595Z"
   },
   {
    "duration": 12,
    "start_time": "2021-11-18T03:04:26.610Z"
   },
   {
    "duration": 2,
    "start_time": "2021-11-18T03:04:26.624Z"
   },
   {
    "duration": 11,
    "start_time": "2021-11-18T03:04:26.628Z"
   },
   {
    "duration": 12,
    "start_time": "2021-11-18T03:04:26.644Z"
   },
   {
    "duration": 37,
    "start_time": "2021-11-18T03:04:26.659Z"
   },
   {
    "duration": 25,
    "start_time": "2021-11-18T03:04:26.698Z"
   },
   {
    "duration": 33,
    "start_time": "2021-11-18T03:04:26.725Z"
   },
   {
    "duration": 470,
    "start_time": "2021-11-18T03:04:26.760Z"
   },
   {
    "duration": 22,
    "start_time": "2021-11-18T03:04:27.232Z"
   },
   {
    "duration": 43,
    "start_time": "2021-11-18T03:04:27.256Z"
   },
   {
    "duration": 390,
    "start_time": "2021-11-18T03:04:27.301Z"
   },
   {
    "duration": 337,
    "start_time": "2021-11-18T03:04:27.693Z"
   },
   {
    "duration": 320,
    "start_time": "2021-11-18T03:04:28.031Z"
   },
   {
    "duration": 335,
    "start_time": "2021-11-18T03:04:28.353Z"
   },
   {
    "duration": 219,
    "start_time": "2021-11-18T03:04:28.691Z"
   },
   {
    "duration": 8,
    "start_time": "2021-11-18T03:04:28.912Z"
   },
   {
    "duration": 139,
    "start_time": "2021-11-18T03:04:28.922Z"
   },
   {
    "duration": 137,
    "start_time": "2021-11-18T03:04:29.062Z"
   },
   {
    "duration": 28,
    "start_time": "2021-11-18T03:04:29.201Z"
   },
   {
    "duration": 403,
    "start_time": "2021-11-18T03:04:29.230Z"
   },
   {
    "duration": 8,
    "start_time": "2021-11-18T03:04:29.635Z"
   },
   {
    "duration": 134,
    "start_time": "2021-11-18T03:04:29.645Z"
   },
   {
    "duration": 31,
    "start_time": "2021-11-18T03:04:29.781Z"
   },
   {
    "duration": 9,
    "start_time": "2021-11-18T03:04:29.813Z"
   },
   {
    "duration": 423,
    "start_time": "2021-11-18T03:04:29.824Z"
   },
   {
    "duration": 5,
    "start_time": "2021-11-18T03:04:30.249Z"
   },
   {
    "duration": 296,
    "start_time": "2021-11-18T03:04:30.256Z"
   },
   {
    "duration": 6,
    "start_time": "2021-11-18T03:04:30.554Z"
   },
   {
    "duration": 25,
    "start_time": "2021-11-18T03:04:30.561Z"
   },
   {
    "duration": 157,
    "start_time": "2021-11-18T03:04:30.587Z"
   },
   {
    "duration": 5,
    "start_time": "2021-11-18T03:04:30.746Z"
   },
   {
    "duration": 302,
    "start_time": "2021-11-18T03:04:30.752Z"
   },
   {
    "duration": 6,
    "start_time": "2021-11-18T03:04:31.056Z"
   },
   {
    "duration": 170,
    "start_time": "2021-11-18T03:04:31.064Z"
   },
   {
    "duration": 179,
    "start_time": "2021-11-18T03:04:31.236Z"
   },
   {
    "duration": 161,
    "start_time": "2021-11-18T03:04:31.417Z"
   },
   {
    "duration": 24,
    "start_time": "2021-11-18T03:04:31.580Z"
   },
   {
    "duration": 5,
    "start_time": "2021-11-18T03:04:31.605Z"
   },
   {
    "duration": 25,
    "start_time": "2021-11-18T03:04:31.611Z"
   },
   {
    "duration": 36,
    "start_time": "2021-11-18T03:04:31.638Z"
   },
   {
    "duration": 273,
    "start_time": "2021-11-18T03:04:31.676Z"
   },
   {
    "duration": 6,
    "start_time": "2021-11-18T03:04:31.951Z"
   },
   {
    "duration": 8,
    "start_time": "2021-11-18T03:04:31.958Z"
   },
   {
    "duration": 34,
    "start_time": "2021-11-18T03:04:31.967Z"
   },
   {
    "duration": 106,
    "start_time": "2021-11-18T03:04:32.003Z"
   },
   {
    "duration": 226,
    "start_time": "2021-11-18T03:04:32.111Z"
   },
   {
    "duration": 235,
    "start_time": "2021-11-18T03:04:32.339Z"
   },
   {
    "duration": 217,
    "start_time": "2021-11-18T03:04:32.576Z"
   },
   {
    "duration": 221,
    "start_time": "2021-11-18T03:04:32.798Z"
   },
   {
    "duration": 296,
    "start_time": "2021-11-18T03:04:33.021Z"
   },
   {
    "duration": 173,
    "start_time": "2021-11-18T03:04:33.318Z"
   },
   {
    "duration": 462,
    "start_time": "2021-11-18T03:04:33.493Z"
   },
   {
    "duration": 196,
    "start_time": "2021-11-18T03:04:33.957Z"
   },
   {
    "duration": 192,
    "start_time": "2021-11-18T03:04:34.154Z"
   },
   {
    "duration": 204,
    "start_time": "2021-11-18T03:04:34.347Z"
   }
  ],
  "kernelspec": {
   "display_name": "Python 3 (ipykernel)",
   "language": "python",
   "name": "python3"
  },
  "language_info": {
   "codemirror_mode": {
    "name": "ipython",
    "version": 3
   },
   "file_extension": ".py",
   "mimetype": "text/x-python",
   "name": "python",
   "nbconvert_exporter": "python",
   "pygments_lexer": "ipython3",
   "version": "3.9.5"
  },
  "toc": {
   "base_numbering": 1,
   "nav_menu": {},
   "number_sections": true,
   "sideBar": true,
   "skip_h1_title": true,
   "title_cell": "Содержание",
   "title_sidebar": "Contents",
   "toc_cell": true,
   "toc_position": {},
   "toc_section_display": true,
   "toc_window_display": true
  }
 },
 "nbformat": 4,
 "nbformat_minor": 2
}
