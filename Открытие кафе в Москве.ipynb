{
 "cells": [
  {
   "cell_type": "markdown",
   "metadata": {},
   "source": [
    "### Описание проекта"
   ]
  },
  {
   "cell_type": "markdown",
   "metadata": {},
   "source": [
    "Впереди открытие оригинального кафе в Москве, в котором гостей должны обслуживать роботы-официанты. В связи с этим команда инновационных рестораторов обратилась к гению аналитики (т.е. ко мне) с целью исследования рынка и подготовки презентации для инвеасторов. Из всего выданного мне снаряжения есть только данные о заведениях общественного питания в Москве, но этого вполне достаточно."
   ]
  },
  {
   "cell_type": "markdown",
   "metadata": {},
   "source": [
    "# Часть 1: Описание данных"
   ]
  },
  {
   "cell_type": "markdown",
   "metadata": {},
   "source": [
    "Таблица rest_data:\n",
    "- id — идентификатор объекта;\n",
    "- object_name — название объекта общественного питания;\n",
    "- chain — сетевой ресторан;\n",
    "- object_type — тип объекта общественного питания;\n",
    "- address — адрес;\n",
    "- number — количество посадочных мест."
   ]
  },
  {
   "cell_type": "markdown",
   "metadata": {},
   "source": [
    "# Задача"
   ]
  },
  {
   "cell_type": "markdown",
   "metadata": {},
   "source": [
    " - Шаг №1. Загрузите данные и подготовьте их к анализу\n",
    " - Шаг №2. Анализ данных. Необходимо исследовать рынок общественного питания в Москве\n",
    " - Шаг №3. Подготовить презентацию для демонстрации результатов клиентам"
   ]
  },
  {
   "cell_type": "markdown",
   "metadata": {},
   "source": [
    "### Начало работ"
   ]
  },
  {
   "cell_type": "markdown",
   "metadata": {},
   "source": [
    "#### Загрузка данных"
   ]
  },
  {
   "cell_type": "code",
   "execution_count": 1,
   "metadata": {},
   "outputs": [],
   "source": [
    "import pandas as pd\n",
    "import seaborn as sns\n",
    "import numpy as np\n",
    "import math as mth\n",
    "import matplotlib.pyplot as plt\n",
    "import requests\n",
    "from io import BytesIO"
   ]
  },
  {
   "cell_type": "code",
   "execution_count": 2,
   "metadata": {},
   "outputs": [
    {
     "data": {
      "text/html": [
       "<div>\n",
       "<style scoped>\n",
       "    .dataframe tbody tr th:only-of-type {\n",
       "        vertical-align: middle;\n",
       "    }\n",
       "\n",
       "    .dataframe tbody tr th {\n",
       "        vertical-align: top;\n",
       "    }\n",
       "\n",
       "    .dataframe thead th {\n",
       "        text-align: right;\n",
       "    }\n",
       "</style>\n",
       "<table border=\"1\" class=\"dataframe\">\n",
       "  <thead>\n",
       "    <tr style=\"text-align: right;\">\n",
       "      <th></th>\n",
       "      <th>id</th>\n",
       "      <th>object_name</th>\n",
       "      <th>chain</th>\n",
       "      <th>object_type</th>\n",
       "      <th>address</th>\n",
       "      <th>number</th>\n",
       "    </tr>\n",
       "  </thead>\n",
       "  <tbody>\n",
       "    <tr>\n",
       "      <th>0</th>\n",
       "      <td>151635</td>\n",
       "      <td>СМЕТАНА</td>\n",
       "      <td>нет</td>\n",
       "      <td>кафе</td>\n",
       "      <td>город Москва, улица Егора Абакумова, дом 9</td>\n",
       "      <td>48</td>\n",
       "    </tr>\n",
       "    <tr>\n",
       "      <th>1</th>\n",
       "      <td>77874</td>\n",
       "      <td>Родник</td>\n",
       "      <td>нет</td>\n",
       "      <td>кафе</td>\n",
       "      <td>город Москва, улица Талалихина, дом 2/1, корпус 1</td>\n",
       "      <td>35</td>\n",
       "    </tr>\n",
       "    <tr>\n",
       "      <th>2</th>\n",
       "      <td>24309</td>\n",
       "      <td>Кафе «Академия»</td>\n",
       "      <td>нет</td>\n",
       "      <td>кафе</td>\n",
       "      <td>город Москва, Абельмановская улица, дом 6</td>\n",
       "      <td>95</td>\n",
       "    </tr>\n",
       "    <tr>\n",
       "      <th>3</th>\n",
       "      <td>21894</td>\n",
       "      <td>ПИЦЦЕТОРИЯ</td>\n",
       "      <td>да</td>\n",
       "      <td>кафе</td>\n",
       "      <td>город Москва, Абрамцевская улица, дом 1</td>\n",
       "      <td>40</td>\n",
       "    </tr>\n",
       "    <tr>\n",
       "      <th>4</th>\n",
       "      <td>119365</td>\n",
       "      <td>Кафе «Вишневая метель»</td>\n",
       "      <td>нет</td>\n",
       "      <td>кафе</td>\n",
       "      <td>город Москва, Абрамцевская улица, дом 9, корпус 1</td>\n",
       "      <td>50</td>\n",
       "    </tr>\n",
       "    <tr>\n",
       "      <th>...</th>\n",
       "      <td>...</td>\n",
       "      <td>...</td>\n",
       "      <td>...</td>\n",
       "      <td>...</td>\n",
       "      <td>...</td>\n",
       "      <td>...</td>\n",
       "    </tr>\n",
       "    <tr>\n",
       "      <th>15361</th>\n",
       "      <td>208537</td>\n",
       "      <td>Шоколадница</td>\n",
       "      <td>да</td>\n",
       "      <td>кафе</td>\n",
       "      <td>город Москва, 3-й Крутицкий переулок, дом 18</td>\n",
       "      <td>50</td>\n",
       "    </tr>\n",
       "    <tr>\n",
       "      <th>15362</th>\n",
       "      <td>209264</td>\n",
       "      <td>Шоколадница</td>\n",
       "      <td>да</td>\n",
       "      <td>кафе</td>\n",
       "      <td>город Москва, улица Земляной Вал, дом 33</td>\n",
       "      <td>10</td>\n",
       "    </tr>\n",
       "    <tr>\n",
       "      <th>15363</th>\n",
       "      <td>209186</td>\n",
       "      <td>Шоколадница</td>\n",
       "      <td>да</td>\n",
       "      <td>кафе</td>\n",
       "      <td>город Москва, улица Земляной Вал, дом 33</td>\n",
       "      <td>20</td>\n",
       "    </tr>\n",
       "    <tr>\n",
       "      <th>15364</th>\n",
       "      <td>221900</td>\n",
       "      <td>Шоколадница</td>\n",
       "      <td>да</td>\n",
       "      <td>кафе</td>\n",
       "      <td>город Москва, поселение Московский, Киевское ш...</td>\n",
       "      <td>36</td>\n",
       "    </tr>\n",
       "    <tr>\n",
       "      <th>15365</th>\n",
       "      <td>222535</td>\n",
       "      <td>Шоколадница</td>\n",
       "      <td>да</td>\n",
       "      <td>кафе</td>\n",
       "      <td>город Москва, Ходынский бульвар, дом 4</td>\n",
       "      <td>10</td>\n",
       "    </tr>\n",
       "  </tbody>\n",
       "</table>\n",
       "<p>15366 rows × 6 columns</p>\n",
       "</div>"
      ],
      "text/plain": [
       "           id             object_name chain object_type  \\\n",
       "0      151635                 СМЕТАНА   нет        кафе   \n",
       "1       77874                  Родник   нет        кафе   \n",
       "2       24309         Кафе «Академия»   нет        кафе   \n",
       "3       21894              ПИЦЦЕТОРИЯ    да        кафе   \n",
       "4      119365  Кафе «Вишневая метель»   нет        кафе   \n",
       "...       ...                     ...   ...         ...   \n",
       "15361  208537             Шоколадница    да        кафе   \n",
       "15362  209264             Шоколадница    да        кафе   \n",
       "15363  209186             Шоколадница    да        кафе   \n",
       "15364  221900             Шоколадница    да        кафе   \n",
       "15365  222535             Шоколадница    да        кафе   \n",
       "\n",
       "                                                 address  number  \n",
       "0             город Москва, улица Егора Абакумова, дом 9      48  \n",
       "1      город Москва, улица Талалихина, дом 2/1, корпус 1      35  \n",
       "2              город Москва, Абельмановская улица, дом 6      95  \n",
       "3                город Москва, Абрамцевская улица, дом 1      40  \n",
       "4      город Москва, Абрамцевская улица, дом 9, корпус 1      50  \n",
       "...                                                  ...     ...  \n",
       "15361       город Москва, 3-й Крутицкий переулок, дом 18      50  \n",
       "15362           город Москва, улица Земляной Вал, дом 33      10  \n",
       "15363           город Москва, улица Земляной Вал, дом 33      20  \n",
       "15364  город Москва, поселение Московский, Киевское ш...      36  \n",
       "15365             город Москва, Ходынский бульвар, дом 4      10  \n",
       "\n",
       "[15366 rows x 6 columns]"
      ]
     },
     "execution_count": 2,
     "metadata": {},
     "output_type": "execute_result"
    }
   ],
   "source": [
    "data = pd.read_csv('/datasets/rest_data.csv')\n",
    "data"
   ]
  },
  {
   "cell_type": "code",
   "execution_count": 3,
   "metadata": {},
   "outputs": [
    {
     "name": "stdout",
     "output_type": "stream",
     "text": [
      "<class 'pandas.core.frame.DataFrame'>\n",
      "RangeIndex: 15366 entries, 0 to 15365\n",
      "Data columns (total 6 columns):\n",
      " #   Column       Non-Null Count  Dtype \n",
      "---  ------       --------------  ----- \n",
      " 0   id           15366 non-null  int64 \n",
      " 1   object_name  15366 non-null  object\n",
      " 2   chain        15366 non-null  object\n",
      " 3   object_type  15366 non-null  object\n",
      " 4   address      15366 non-null  object\n",
      " 5   number       15366 non-null  int64 \n",
      "dtypes: int64(2), object(4)\n",
      "memory usage: 720.4+ KB\n"
     ]
    }
   ],
   "source": [
    "data.info()"
   ]
  },
  {
   "cell_type": "markdown",
   "metadata": {},
   "source": [
    "Видно, что с типами данных особо проблемы нет. Единственное нужно столбец 'chain' поменять на bool значения. Пропусков не наблюдается. "
   ]
  },
  {
   "cell_type": "markdown",
   "metadata": {},
   "source": [
    "#### Предобработка"
   ]
  },
  {
   "cell_type": "code",
   "execution_count": 4,
   "metadata": {},
   "outputs": [],
   "source": [
    "# Приводим весь текст к нижнему регистру\n",
    "data['object_name'] = data['object_name'].str.lower()\n",
    "data['address'] = data['address'].str.lower()"
   ]
  },
  {
   "cell_type": "code",
   "execution_count": 5,
   "metadata": {},
   "outputs": [
    {
     "data": {
      "text/plain": [
       "0"
      ]
     },
     "execution_count": 5,
     "metadata": {},
     "output_type": "execute_result"
    }
   ],
   "source": [
    "# Проверка на дубликаты\n",
    "data.duplicated().sum()"
   ]
  },
  {
   "cell_type": "code",
   "execution_count": 6,
   "metadata": {},
   "outputs": [
    {
     "data": {
      "text/plain": [
       "85"
      ]
     },
     "execution_count": 6,
     "metadata": {},
     "output_type": "execute_result"
    }
   ],
   "source": [
    "data.duplicated(subset=['object_name','chain','object_type','address','number']).sum()"
   ]
  },
  {
   "cell_type": "code",
   "execution_count": 7,
   "metadata": {},
   "outputs": [],
   "source": [
    "data = data.drop_duplicates(subset=['object_name','chain','object_type','address','number']).reset_index()"
   ]
  },
  {
   "cell_type": "code",
   "execution_count": 8,
   "metadata": {},
   "outputs": [],
   "source": [
    "# меняем названия типов объектов на более компактный\n",
    "data['object_type'] = data['object_type'].str.replace('предприятие быстрого обслуживания', 'фаст-фуд')\n"
   ]
  },
  {
   "cell_type": "code",
   "execution_count": 9,
   "metadata": {},
   "outputs": [],
   "source": [
    "data['object_type'] = data['object_type'].str.replace('магазин (отдел кулинарии)', 'кулинария', regex=False)"
   ]
  },
  {
   "cell_type": "code",
   "execution_count": 10,
   "metadata": {},
   "outputs": [],
   "source": [
    "# меяем да и нет на True и False для дальнейших расчетов\n",
    "data['chain'] = data['chain'].map({'да': True, 'нет':False})"
   ]
  },
  {
   "cell_type": "markdown",
   "metadata": {},
   "source": [
    "#### Исследование соотношения видов объектов общественного питания по количеству"
   ]
  },
  {
   "cell_type": "code",
   "execution_count": 11,
   "metadata": {},
   "outputs": [
    {
     "name": "stdout",
     "output_type": "stream",
     "text": [
      "  object_type  number\n",
      "0   кулинария     273\n",
      "1  закусочная     348\n",
      "2   кафетерий     395\n",
      "3       буфет     576\n",
      "4         бар     855\n",
      "5    фаст-фуд    1897\n",
      "6    ресторан    2282\n",
      "7    столовая    2584\n",
      "8        кафе    6071\n"
     ]
    }
   ],
   "source": [
    "# создаем табличку с видами объектов и их количество\n",
    "ratio_types_catering_by_number = data.groupby('object_type', as_index=False)\\\n",
    ".agg({'number':'count'})\\\n",
    ".sort_values(by='number')\\\n",
    ".reset_index(inplace = False, drop = True)\n",
    "\n",
    "print(ratio_types_catering_by_number)"
   ]
  },
  {
   "cell_type": "code",
   "execution_count": 12,
   "metadata": {},
   "outputs": [
    {
     "data": {
      "text/plain": [
       "<Figure size 432x288 with 0 Axes>"
      ]
     },
     "metadata": {},
     "output_type": "display_data"
    },
    {
     "data": {
      "image/png": "[encoded data removed]",
      "text/plain": [
       "<Figure size 1440x720 with 1 Axes>"
      ]
     },
     "metadata": {},
     "output_type": "display_data"
    }
   ],
   "source": [
    "plt.style.use('ggplot')\n",
    "sns.despine(left=True, bottom=True) \n",
    "sns.set_context(\"paper\", font_scale=2)\n",
    "ax = plt.subplots(figsize=(20, 10))\n",
    "\n",
    "chart = sns.barplot(                                             \n",
    "           x=\"object_type\",\n",
    "           y=\"number\",\n",
    "           data=ratio_types_catering_by_number\n",
    ") \n",
    "\n",
    "\n",
    "chart.set_title('соотношения видов объектов общественного питания по количеству')\n",
    "chart.set_ylabel('Количество', size=20, fontstyle='italic', weight=900, )\n",
    "chart.set_xlabel('Виды объектов общественного питания', size=20, fontstyle='italic', weight=900, ha='center')\n",
    "\n",
    "for p in chart.patches:\n",
    "             chart.annotate(\"%.0f\" % p.get_height(), (p.get_x() + p.get_width() / 2., p.get_height()),\n",
    "                 ha='center', va='center', fontsize=15, color='black', xytext=(0, 5),\n",
    "                 textcoords='offset points')\n",
    "plt.show()"
   ]
  },
  {
   "cell_type": "code",
   "execution_count": 13,
   "metadata": {},
   "outputs": [
    {
     "data": {
      "text/plain": [
       "Text(0, 0.5, 'Виды объектов общественного питания')"
      ]
     },
     "execution_count": 13,
     "metadata": {},
     "output_type": "execute_result"
    },
    {
     "data": {
      "text/plain": [
       "<Figure size 432x288 with 0 Axes>"
      ]
     },
     "metadata": {},
     "output_type": "display_data"
    },
    {
     "data": {
      "image/png": "[encoded data removed]",
      "text/plain": [
       "<Figure size 1440x720 with 1 Axes>"
      ]
     },
     "metadata": {},
     "output_type": "display_data"
    }
   ],
   "source": [
    "plt.style.use('ggplot')\n",
    "sns.despine(left=True, bottom=True) \n",
    "sns.set_context(\"paper\", font_scale=2)\n",
    "ax = plt.subplots(figsize=(20, 10))\n",
    "\n",
    "chart = sns.barplot(                                             \n",
    "           x=\"number\",\n",
    "           y=\"object_type\",\n",
    "           data=ratio_types_catering_by_number\n",
    ") \n",
    "\n",
    "\n",
    "chart.set_title('соотношения видов объектов общественного питания по количеству')\n",
    "chart.set_xlabel('Количество', size=20, fontstyle='italic', weight=900, )\n",
    "chart.set_ylabel('Виды объектов общественного питания', size=20, fontstyle='italic', weight=900, ha='center')\n"
   ]
  },
  {
   "cell_type": "markdown",
   "metadata": {},
   "source": [
    "В топах кафе (очень сильный отрыв от остальных типов заведений), столовая, ресторан, фаст-фуд. Количество топ-4 типов заведений значително выше остальных типов."
   ]
  },
  {
   "cell_type": "markdown",
   "metadata": {},
   "source": [
    "#### Исследование соотношения сетевых и несетевых заведений по количеству. Постройте график."
   ]
  },
  {
   "cell_type": "code",
   "execution_count": 14,
   "metadata": {},
   "outputs": [
    {
     "data": {
      "text/html": [
       "<div>\n",
       "<style scoped>\n",
       "    .dataframe tbody tr th:only-of-type {\n",
       "        vertical-align: middle;\n",
       "    }\n",
       "\n",
       "    .dataframe tbody tr th {\n",
       "        vertical-align: top;\n",
       "    }\n",
       "\n",
       "    .dataframe thead th {\n",
       "        text-align: right;\n",
       "    }\n",
       "</style>\n",
       "<table border=\"1\" class=\"dataframe\">\n",
       "  <thead>\n",
       "    <tr style=\"text-align: right;\">\n",
       "      <th></th>\n",
       "      <th>chain</th>\n",
       "      <th>count</th>\n",
       "    </tr>\n",
       "  </thead>\n",
       "  <tbody>\n",
       "    <tr>\n",
       "      <th>0</th>\n",
       "      <td>False</td>\n",
       "      <td>12317</td>\n",
       "    </tr>\n",
       "    <tr>\n",
       "      <th>1</th>\n",
       "      <td>True</td>\n",
       "      <td>2964</td>\n",
       "    </tr>\n",
       "  </tbody>\n",
       "</table>\n",
       "</div>"
      ],
      "text/plain": [
       "   chain  count\n",
       "0  False  12317\n",
       "1   True   2964"
      ]
     },
     "execution_count": 14,
     "metadata": {},
     "output_type": "execute_result"
    }
   ],
   "source": [
    "# создаем табличку с соотношением сетевых и не сетевых заведений по количеству\n",
    "ratio_establishments_by_number = data['chain'].value_counts().to_frame().reset_index()\n",
    "ratio_establishments_by_number.columns = ['chain', 'count']\n",
    "ratio_establishments_by_number"
   ]
  },
  {
   "cell_type": "code",
   "execution_count": 15,
   "metadata": {},
   "outputs": [
    {
     "data": {
      "text/plain": [
       "<Figure size 432x288 with 0 Axes>"
      ]
     },
     "metadata": {},
     "output_type": "display_data"
    },
    {
     "data": {
      "image/png": "[encoded data removed]",
      "text/plain": [
       "<Figure size 1440x720 with 1 Axes>"
      ]
     },
     "metadata": {},
     "output_type": "display_data"
    }
   ],
   "source": [
    "plt.style.use('ggplot')\n",
    "sns.despine(left=True, bottom=True) \n",
    "sns.set_context(\"paper\", font_scale=2)\n",
    "ax = plt.subplots(figsize=(20, 10))\n",
    "\n",
    "chart = sns.barplot(                                             \n",
    "           x=\"chain\",\n",
    "           y=\"count\",\n",
    "           data=ratio_establishments_by_number\n",
    ") \n",
    "\n",
    "chart.set_ylabel('Количество', size=20, fontstyle='italic', weight=900, )\n",
    "chart.set_xlabel('Сеть или не сеть', size=20, fontstyle='italic', weight=900, ha='center')\n",
    "\n",
    "chart.set_title('соотношения сетевых и не сетевых объектов общественного питания по количеству')\n",
    "for p in chart.patches:\n",
    "             chart.annotate(\"%.0f\" % p.get_height(), (p.get_x() + p.get_width() / 2., p.get_height()),\n",
    "                 ha='center', va='center', fontsize=15, color='black', xytext=(0, 5),\n",
    "                 textcoords='offset points')\n",
    "plt.show()"
   ]
  },
  {
   "cell_type": "code",
   "execution_count": 16,
   "metadata": {},
   "outputs": [
    {
     "name": "stdout",
     "output_type": "stream",
     "text": [
      "Сетевых заведений 2964, соотношение к общему количеству заведений 19.40%\n",
      "Не сетевых заведений 12317, соотношение к общему количеству заведений 80.60%\n",
      "Не сетевых заведений в 4.16 раз больше, чем сетевых\n"
     ]
    }
   ],
   "source": [
    "print('Сетевых заведений {}, соотношение к общему количеству заведений {:.2%}'\n",
    "      .format(ratio_establishments_by_number.query('chain == True')['count'][1],\n",
    "              ratio_establishments_by_number.query('chain == True')['count'][1] /\n",
    "              data['chain'].count()))\n",
    "\n",
    "print('Не сетевых заведений {}, соотношение к общему количеству заведений {:.2%}'\n",
    "      .format(ratio_establishments_by_number.query('chain == False')['count'][0],\n",
    "              ratio_establishments_by_number.query('chain == False')['count'][0] /\n",
    "              data['chain'].count()))\n",
    "\n",
    "print('Не сетевых заведений в {:.2f} раз больше, чем сетевых'\n",
    "      .format(ratio_establishments_by_number.query('chain == False')['count'][0] /\n",
    "              ratio_establishments_by_number.query('chain == True')['count'][1]))"
   ]
  },
  {
   "cell_type": "markdown",
   "metadata": {},
   "source": [
    "Видим, что не сетевых в 4.18 раз больше, чем сетевых"
   ]
  },
  {
   "cell_type": "markdown",
   "metadata": {},
   "source": [
    "#### Для какого вида объекта общественного питания характерно сетевое распространение?"
   ]
  },
  {
   "cell_type": "code",
   "execution_count": 17,
   "metadata": {},
   "outputs": [
    {
     "data": {
      "text/html": [
       "<div>\n",
       "<style scoped>\n",
       "    .dataframe tbody tr th:only-of-type {\n",
       "        vertical-align: middle;\n",
       "    }\n",
       "\n",
       "    .dataframe tbody tr th {\n",
       "        vertical-align: top;\n",
       "    }\n",
       "\n",
       "    .dataframe thead th {\n",
       "        text-align: right;\n",
       "    }\n",
       "</style>\n",
       "<table border=\"1\" class=\"dataframe\">\n",
       "  <thead>\n",
       "    <tr style=\"text-align: right;\">\n",
       "      <th></th>\n",
       "      <th>object_type</th>\n",
       "      <th>non_chain</th>\n",
       "      <th>chain</th>\n",
       "      <th>total</th>\n",
       "      <th>percent_non_chain</th>\n",
       "      <th>percent_chain</th>\n",
       "    </tr>\n",
       "  </thead>\n",
       "  <tbody>\n",
       "    <tr>\n",
       "      <th>0</th>\n",
       "      <td>столовая</td>\n",
       "      <td>2581</td>\n",
       "      <td>3</td>\n",
       "      <td>2584</td>\n",
       "      <td>99.883901</td>\n",
       "      <td>0.116099</td>\n",
       "    </tr>\n",
       "    <tr>\n",
       "      <th>1</th>\n",
       "      <td>буфет</td>\n",
       "      <td>565</td>\n",
       "      <td>11</td>\n",
       "      <td>576</td>\n",
       "      <td>98.090278</td>\n",
       "      <td>1.909722</td>\n",
       "    </tr>\n",
       "    <tr>\n",
       "      <th>2</th>\n",
       "      <td>бар</td>\n",
       "      <td>818</td>\n",
       "      <td>37</td>\n",
       "      <td>855</td>\n",
       "      <td>95.672515</td>\n",
       "      <td>4.327485</td>\n",
       "    </tr>\n",
       "    <tr>\n",
       "      <th>3</th>\n",
       "      <td>кафетерий</td>\n",
       "      <td>343</td>\n",
       "      <td>52</td>\n",
       "      <td>395</td>\n",
       "      <td>86.835443</td>\n",
       "      <td>13.164557</td>\n",
       "    </tr>\n",
       "    <tr>\n",
       "      <th>4</th>\n",
       "      <td>закусочная</td>\n",
       "      <td>292</td>\n",
       "      <td>56</td>\n",
       "      <td>348</td>\n",
       "      <td>83.908046</td>\n",
       "      <td>16.091954</td>\n",
       "    </tr>\n",
       "    <tr>\n",
       "      <th>5</th>\n",
       "      <td>кулинария</td>\n",
       "      <td>195</td>\n",
       "      <td>78</td>\n",
       "      <td>273</td>\n",
       "      <td>71.428571</td>\n",
       "      <td>28.571429</td>\n",
       "    </tr>\n",
       "    <tr>\n",
       "      <th>6</th>\n",
       "      <td>ресторан</td>\n",
       "      <td>1739</td>\n",
       "      <td>543</td>\n",
       "      <td>2282</td>\n",
       "      <td>76.205083</td>\n",
       "      <td>23.794917</td>\n",
       "    </tr>\n",
       "    <tr>\n",
       "      <th>7</th>\n",
       "      <td>фаст-фуд</td>\n",
       "      <td>1109</td>\n",
       "      <td>788</td>\n",
       "      <td>1897</td>\n",
       "      <td>58.460727</td>\n",
       "      <td>41.539273</td>\n",
       "    </tr>\n",
       "    <tr>\n",
       "      <th>8</th>\n",
       "      <td>кафе</td>\n",
       "      <td>4675</td>\n",
       "      <td>1396</td>\n",
       "      <td>6071</td>\n",
       "      <td>77.005436</td>\n",
       "      <td>22.994564</td>\n",
       "    </tr>\n",
       "  </tbody>\n",
       "</table>\n",
       "</div>"
      ],
      "text/plain": [
       "  object_type  non_chain  chain  total  percent_non_chain  percent_chain\n",
       "0    столовая       2581      3   2584          99.883901       0.116099\n",
       "1       буфет        565     11    576          98.090278       1.909722\n",
       "2         бар        818     37    855          95.672515       4.327485\n",
       "3   кафетерий        343     52    395          86.835443      13.164557\n",
       "4  закусочная        292     56    348          83.908046      16.091954\n",
       "5   кулинария        195     78    273          71.428571      28.571429\n",
       "6    ресторан       1739    543   2282          76.205083      23.794917\n",
       "7    фаст-фуд       1109    788   1897          58.460727      41.539273\n",
       "8        кафе       4675   1396   6071          77.005436      22.994564"
      ]
     },
     "metadata": {},
     "output_type": "display_data"
    }
   ],
   "source": [
    "# создаем сводную табличку для подсчетов\n",
    "object_type_chain_non_chain = pd.pivot_table(data,\n",
    "                                             index='object_type',\n",
    "                                             columns='chain',\n",
    "                                             values='id',\n",
    "                                             aggfunc='count'\n",
    "                                            ).reset_index()\n",
    "\n",
    "# создаем колонку с общим количеством заведений каждого типа\n",
    "object_type_chain_non_chain['total'] = object_type_chain_non_chain[False] + object_type_chain_non_chain[True]\n",
    "\n",
    "# получаем долю не сетевых заведений от общего количества\n",
    "object_type_chain_non_chain['percent_non_chain'] = object_type_chain_non_chain[False] / object_type_chain_non_chain['total'] * 100\n",
    "\n",
    "# получаем долю сетевых заведений от общего количества\n",
    "object_type_chain_non_chain['percent_chain'] = object_type_chain_non_chain[True] / object_type_chain_non_chain['total'] * 100\n",
    "\n",
    "# переименовываем столбцы\n",
    "object_type_chain_non_chain.columns = ['object_type', 'non_chain', 'chain', 'total', 'percent_non_chain', 'percent_chain']\n",
    "\n",
    "# сортируем df по столбцу chain\n",
    "object_type_chain_non_chain = object_type_chain_non_chain.sort_values(by='chain')\n",
    "\n",
    "# пересчитываем index (необходимо для корректных подписей на графике)\n",
    "object_type_chain_non_chain = object_type_chain_non_chain.reset_index(inplace = False, drop = True)\n",
    "\n",
    "display(object_type_chain_non_chain)"
   ]
  },
  {
   "cell_type": "code",
   "execution_count": 45,
   "metadata": {
    "scrolled": true
   },
   "outputs": [
    {
     "data": {
      "text/plain": [
       "<Figure size 432x288 with 0 Axes>"
      ]
     },
     "metadata": {},
     "output_type": "display_data"
    },
    {
     "data": {
      "image/png": "[encoded data removed]",
      "text/plain": [
       "<Figure size 1440x720 with 1 Axes>"
      ]
     },
     "metadata": {},
     "output_type": "display_data"
    }
   ],
   "source": [
    "sns.despine(left=True, bottom=True) \n",
    "sns.set_context(\"paper\", font_scale=2)\n",
    "ax = plt.subplots(figsize=(20, 10))\n",
    "\n",
    "chart = sns.barplot(                                             \n",
    "           x=\"chain\",\n",
    "           y=\"object_type\",\n",
    "           data=object_type_chain_non_chain\n",
    ") \n",
    "\n",
    "chart.set_title('Сетевое распростронение')\n",
    "chart.set_ylabel('Тип объектов общественного питания', size=20, fontstyle='italic', weight=900, )\n",
    "chart.set_xlabel('Количество сетевых объектов общепита', size=20, fontstyle='italic', weight=900, ha='center')\n",
    "\n",
    "plt.show()"
   ]
  },
  {
   "cell_type": "code",
   "execution_count": 46,
   "metadata": {},
   "outputs": [
    {
     "data": {
      "text/plain": [
       "<Figure size 432x288 with 0 Axes>"
      ]
     },
     "metadata": {},
     "output_type": "display_data"
    },
    {
     "data": {
      "image/png": "[encoded data removed]",
      "text/plain": [
       "<Figure size 1440x720 with 1 Axes>"
      ]
     },
     "metadata": {},
     "output_type": "display_data"
    }
   ],
   "source": [
    "# сортируем df по столбцу percent_chain\n",
    "object_type_chain_non_chain = object_type_chain_non_chain.sort_values(by='percent_chain')\n",
    "\n",
    "# пересчитываем index (необходимо для корректных подписей на графике)\n",
    "object_type_chain_non_chain = object_type_chain_non_chain.reset_index(inplace = False, drop = True)\n",
    "\n",
    "sns.set_style(\"darkgrid\")\n",
    "sns.despine(left=True, bottom=True) \n",
    "sns.set_context(\"paper\", font_scale=2)\n",
    "ax = plt.subplots(figsize=(20, 10))\n",
    "\n",
    "chart = sns.barplot(                                             \n",
    "           x=\"percent_chain\",\n",
    "           y=\"object_type\",\n",
    "           data=object_type_chain_non_chain\n",
    ") \n",
    "\n",
    "chart.set_title('Сетевое распростронение в процентах')\n",
    "chart.set_ylabel('Типы объектов общественного питания', size=20, fontstyle='italic', weight=900, )\n",
    "chart.set_xlabel('Количесвто сетевых объектов общепита в процентах', size=20, fontstyle='italic', weight=900, ha='center')\n",
    "\n",
    "\n",
    "plt.show()"
   ]
  },
  {
   "cell_type": "markdown",
   "metadata": {},
   "source": [
    "Из графика Сетевого распростронения мы наблюдаем тройку лидеров среди Сетевых заведений: кафе, фаст-фуд, ресторан, но из графика Сетевого распростронения в процентах мы наблюдаем, что свойственно быть сетевым заведением в первую очередь фаст-фуду и далее: магазин (отдел кулинария), ресторан / кафе."
   ]
  },
  {
   "cell_type": "markdown",
   "metadata": {},
   "source": [
    "#### Что характерно для сетевых заведений: много заведений с небольшим числом посадочных мест в каждом или мало заведений с большим количеством посадочных мест?"
   ]
  },
  {
   "cell_type": "code",
   "execution_count": 20,
   "metadata": {},
   "outputs": [
    {
     "data": {
      "text/html": [
       "<div>\n",
       "<style scoped>\n",
       "    .dataframe tbody tr th:only-of-type {\n",
       "        vertical-align: middle;\n",
       "    }\n",
       "\n",
       "    .dataframe tbody tr th {\n",
       "        vertical-align: top;\n",
       "    }\n",
       "\n",
       "    .dataframe thead th {\n",
       "        text-align: right;\n",
       "    }\n",
       "</style>\n",
       "<table border=\"1\" class=\"dataframe\">\n",
       "  <thead>\n",
       "    <tr style=\"text-align: right;\">\n",
       "      <th></th>\n",
       "      <th>object_name</th>\n",
       "      <th>chain</th>\n",
       "      <th>id</th>\n",
       "      <th>number</th>\n",
       "    </tr>\n",
       "  </thead>\n",
       "  <tbody>\n",
       "    <tr>\n",
       "      <th>0</th>\n",
       "      <td>1-й мок</td>\n",
       "      <td>False</td>\n",
       "      <td>1</td>\n",
       "      <td>100</td>\n",
       "    </tr>\n",
       "    <tr>\n",
       "      <th>1</th>\n",
       "      <td>1-ый московский кадетский корпус</td>\n",
       "      <td>False</td>\n",
       "      <td>1</td>\n",
       "      <td>260</td>\n",
       "    </tr>\n",
       "    <tr>\n",
       "      <th>2</th>\n",
       "      <td>100 личная столовая</td>\n",
       "      <td>False</td>\n",
       "      <td>1</td>\n",
       "      <td>30</td>\n",
       "    </tr>\n",
       "    <tr>\n",
       "      <th>3</th>\n",
       "      <td>100 личное кафе</td>\n",
       "      <td>False</td>\n",
       "      <td>1</td>\n",
       "      <td>45</td>\n",
       "    </tr>\n",
       "    <tr>\n",
       "      <th>4</th>\n",
       "      <td>1001 ночь</td>\n",
       "      <td>False</td>\n",
       "      <td>1</td>\n",
       "      <td>70</td>\n",
       "    </tr>\n",
       "    <tr>\n",
       "      <th>...</th>\n",
       "      <td>...</td>\n",
       "      <td>...</td>\n",
       "      <td>...</td>\n",
       "      <td>...</td>\n",
       "    </tr>\n",
       "    <tr>\n",
       "      <th>9307</th>\n",
       "      <td>ясамарканд24</td>\n",
       "      <td>False</td>\n",
       "      <td>1</td>\n",
       "      <td>120</td>\n",
       "    </tr>\n",
       "    <tr>\n",
       "      <th>9308</th>\n",
       "      <td>ясмин</td>\n",
       "      <td>False</td>\n",
       "      <td>2</td>\n",
       "      <td>32</td>\n",
       "    </tr>\n",
       "    <tr>\n",
       "      <th>9309</th>\n",
       "      <td>ясон</td>\n",
       "      <td>False</td>\n",
       "      <td>2</td>\n",
       "      <td>85</td>\n",
       "    </tr>\n",
       "    <tr>\n",
       "      <th>9310</th>\n",
       "      <td>яуза</td>\n",
       "      <td>False</td>\n",
       "      <td>1</td>\n",
       "      <td>100</td>\n",
       "    </tr>\n",
       "    <tr>\n",
       "      <th>9311</th>\n",
       "      <td>ёрш</td>\n",
       "      <td>True</td>\n",
       "      <td>4</td>\n",
       "      <td>112</td>\n",
       "    </tr>\n",
       "  </tbody>\n",
       "</table>\n",
       "<p>9312 rows × 4 columns</p>\n",
       "</div>"
      ],
      "text/plain": [
       "                           object_name  chain  id  number\n",
       "0                              1-й мок  False   1     100\n",
       "1     1-ый московский кадетский корпус  False   1     260\n",
       "2                  100 личная столовая  False   1      30\n",
       "3                      100 личное кафе  False   1      45\n",
       "4                            1001 ночь  False   1      70\n",
       "...                                ...    ...  ..     ...\n",
       "9307                      ясамарканд24  False   1     120\n",
       "9308                             ясмин  False   2      32\n",
       "9309                              ясон  False   2      85\n",
       "9310                              яуза  False   1     100\n",
       "9311                               ёрш   True   4     112\n",
       "\n",
       "[9312 rows x 4 columns]"
      ]
     },
     "execution_count": 20,
     "metadata": {},
     "output_type": "execute_result"
    }
   ],
   "source": [
    "# убираем 0 значения и формируем датафрейм с количеством посадочных мест на заведение\n",
    "rest_average_seats = data[data['number'] > 0]\\\n",
    ".groupby(['object_name', 'chain']).agg({'id':'count', 'number':'mean'}).reset_index()\n",
    "\n",
    "rest_average_seats['number'] = rest_average_seats['number'].round(0).astype('int')\n",
    "\n",
    "rest_average_seats"
   ]
  },
  {
   "cell_type": "code",
   "execution_count": 48,
   "metadata": {},
   "outputs": [
    {
     "data": {
      "text/plain": [
       "<Figure size 432x288 with 0 Axes>"
      ]
     },
     "metadata": {},
     "output_type": "display_data"
    },
    {
     "data": {
      "image/png": "[encoded data removed]",
      "text/plain": [
       "<Figure size 1080x504 with 1 Axes>"
      ]
     },
     "metadata": {},
     "output_type": "display_data"
    }
   ],
   "source": [
    "sns.set_style(\"darkgrid\")\n",
    "sns.despine(left=True, bottom=True) \n",
    "sns.set_context(\"paper\", font_scale=2)\n",
    "ax = plt.subplots(figsize=(15, 7))\n",
    "\n",
    "chart = sns.histplot(                                             \n",
    "           x=\"number\",\n",
    "           bins=30,\n",
    "           hue='chain',\n",
    "           multiple=\"dodge\",\n",
    "           data=rest_average_seats\n",
    ") \n",
    "chart.set_title('Количество посадочных мест на одно заведение')\n",
    "chart.set_ylabel('Количество заведений', size=20, fontstyle='italic', weight=900, )\n",
    "chart.set_xlabel('Количество посадочных мест', size=20, fontstyle='italic', weight=900, ha='center')\n",
    "\n",
    "plt.show()"
   ]
  },
  {
   "cell_type": "code",
   "execution_count": 22,
   "metadata": {},
   "outputs": [
    {
     "data": {
      "text/plain": [
       "<Figure size 432x288 with 0 Axes>"
      ]
     },
     "metadata": {},
     "output_type": "display_data"
    },
    {
     "data": {
      "image/png": "[encoded data removed]",
      "text/plain": [
       "<Figure size 1440x720 with 1 Axes>"
      ]
     },
     "metadata": {},
     "output_type": "display_data"
    }
   ],
   "source": [
    "rest_average_seats_chain = rest_average_seats[rest_average_seats['chain'] == True]\n",
    "\n",
    "sns.set_style(\"darkgrid\")\n",
    "sns.despine(left=True, bottom=True) \n",
    "sns.set_context(\"paper\", font_scale=2)\n",
    "ax = plt.subplots(figsize=(20, 10))\n",
    "\n",
    "chart = sns.histplot(                                             \n",
    "           x=\"number\",\n",
    "           bins=30,\n",
    "           hue='chain',\n",
    "           multiple=\"dodge\",\n",
    "           data=rest_average_seats_chain\n",
    ") \n",
    "chart.set_title('Количество посадочных мест на одно сетевое заведение')\n",
    "chart.set_ylabel('Количество сетевых заведений', size=20, fontstyle='italic', weight=900, )\n",
    "chart.set_xlabel('Количесвто посадочных мест', size=20, fontstyle='italic', weight=900, ha='center')\n",
    "\n",
    "plt.show()"
   ]
  },
  {
   "cell_type": "markdown",
   "metadata": {},
   "source": [
    "Для сетевых заведений характерно иметь до 50 посадочных мест, как и для не сетевых"
   ]
  },
  {
   "cell_type": "code",
   "execution_count": 23,
   "metadata": {},
   "outputs": [
    {
     "data": {
      "text/html": [
       "<div>\n",
       "<style scoped>\n",
       "    .dataframe tbody tr th:only-of-type {\n",
       "        vertical-align: middle;\n",
       "    }\n",
       "\n",
       "    .dataframe tbody tr th {\n",
       "        vertical-align: top;\n",
       "    }\n",
       "\n",
       "    .dataframe thead th {\n",
       "        text-align: right;\n",
       "    }\n",
       "</style>\n",
       "<table border=\"1\" class=\"dataframe\">\n",
       "  <thead>\n",
       "    <tr style=\"text-align: right;\">\n",
       "      <th></th>\n",
       "      <th>id</th>\n",
       "      <th>number</th>\n",
       "    </tr>\n",
       "  </thead>\n",
       "  <tbody>\n",
       "    <tr>\n",
       "      <th>count</th>\n",
       "      <td>556.000000</td>\n",
       "      <td>556.000000</td>\n",
       "    </tr>\n",
       "    <tr>\n",
       "      <th>mean</th>\n",
       "      <td>4.854317</td>\n",
       "      <td>61.778777</td>\n",
       "    </tr>\n",
       "    <tr>\n",
       "      <th>std</th>\n",
       "      <td>14.559552</td>\n",
       "      <td>54.061156</td>\n",
       "    </tr>\n",
       "    <tr>\n",
       "      <th>min</th>\n",
       "      <td>1.000000</td>\n",
       "      <td>1.000000</td>\n",
       "    </tr>\n",
       "    <tr>\n",
       "      <th>25%</th>\n",
       "      <td>1.000000</td>\n",
       "      <td>22.000000</td>\n",
       "    </tr>\n",
       "    <tr>\n",
       "      <th>50%</th>\n",
       "      <td>1.000000</td>\n",
       "      <td>45.000000</td>\n",
       "    </tr>\n",
       "    <tr>\n",
       "      <th>75%</th>\n",
       "      <td>3.000000</td>\n",
       "      <td>85.000000</td>\n",
       "    </tr>\n",
       "    <tr>\n",
       "      <th>max</th>\n",
       "      <td>157.000000</td>\n",
       "      <td>306.000000</td>\n",
       "    </tr>\n",
       "  </tbody>\n",
       "</table>\n",
       "</div>"
      ],
      "text/plain": [
       "               id      number\n",
       "count  556.000000  556.000000\n",
       "mean     4.854317   61.778777\n",
       "std     14.559552   54.061156\n",
       "min      1.000000    1.000000\n",
       "25%      1.000000   22.000000\n",
       "50%      1.000000   45.000000\n",
       "75%      3.000000   85.000000\n",
       "max    157.000000  306.000000"
      ]
     },
     "execution_count": 23,
     "metadata": {},
     "output_type": "execute_result"
    }
   ],
   "source": [
    "rest_average_seats_chain.describe()"
   ]
  },
  {
   "cell_type": "code",
   "execution_count": 24,
   "metadata": {},
   "outputs": [
    {
     "data": {
      "text/html": [
       "<div>\n",
       "<style scoped>\n",
       "    .dataframe tbody tr th:only-of-type {\n",
       "        vertical-align: middle;\n",
       "    }\n",
       "\n",
       "    .dataframe tbody tr th {\n",
       "        vertical-align: top;\n",
       "    }\n",
       "\n",
       "    .dataframe thead th {\n",
       "        text-align: right;\n",
       "    }\n",
       "</style>\n",
       "<table border=\"1\" class=\"dataframe\">\n",
       "  <thead>\n",
       "    <tr style=\"text-align: right;\">\n",
       "      <th></th>\n",
       "      <th>object_name</th>\n",
       "      <th>chain</th>\n",
       "      <th>id</th>\n",
       "      <th>number</th>\n",
       "    </tr>\n",
       "  </thead>\n",
       "  <tbody>\n",
       "    <tr>\n",
       "      <th>107</th>\n",
       "      <td>beverly hills diner</td>\n",
       "      <td>True</td>\n",
       "      <td>1</td>\n",
       "      <td>88</td>\n",
       "    </tr>\n",
       "    <tr>\n",
       "      <th>108</th>\n",
       "      <td>bierloga</td>\n",
       "      <td>True</td>\n",
       "      <td>1</td>\n",
       "      <td>75</td>\n",
       "    </tr>\n",
       "    <tr>\n",
       "      <th>117</th>\n",
       "      <td>black &amp; white</td>\n",
       "      <td>True</td>\n",
       "      <td>1</td>\n",
       "      <td>40</td>\n",
       "    </tr>\n",
       "    <tr>\n",
       "      <th>135</th>\n",
       "      <td>bocconcino</td>\n",
       "      <td>True</td>\n",
       "      <td>3</td>\n",
       "      <td>67</td>\n",
       "    </tr>\n",
       "    <tr>\n",
       "      <th>142</th>\n",
       "      <td>boobo</td>\n",
       "      <td>True</td>\n",
       "      <td>1</td>\n",
       "      <td>46</td>\n",
       "    </tr>\n",
       "    <tr>\n",
       "      <th>...</th>\n",
       "      <td>...</td>\n",
       "      <td>...</td>\n",
       "      <td>...</td>\n",
       "      <td>...</td>\n",
       "    </tr>\n",
       "    <tr>\n",
       "      <th>9295</th>\n",
       "      <td>ямми микс</td>\n",
       "      <td>True</td>\n",
       "      <td>1</td>\n",
       "      <td>2</td>\n",
       "    </tr>\n",
       "    <tr>\n",
       "      <th>9297</th>\n",
       "      <td>ян примус</td>\n",
       "      <td>True</td>\n",
       "      <td>1</td>\n",
       "      <td>300</td>\n",
       "    </tr>\n",
       "    <tr>\n",
       "      <th>9301</th>\n",
       "      <td>японский ресторан «ваби-саби»</td>\n",
       "      <td>True</td>\n",
       "      <td>1</td>\n",
       "      <td>155</td>\n",
       "    </tr>\n",
       "    <tr>\n",
       "      <th>9303</th>\n",
       "      <td>япоша</td>\n",
       "      <td>True</td>\n",
       "      <td>2</td>\n",
       "      <td>105</td>\n",
       "    </tr>\n",
       "    <tr>\n",
       "      <th>9311</th>\n",
       "      <td>ёрш</td>\n",
       "      <td>True</td>\n",
       "      <td>4</td>\n",
       "      <td>112</td>\n",
       "    </tr>\n",
       "  </tbody>\n",
       "</table>\n",
       "<p>556 rows × 4 columns</p>\n",
       "</div>"
      ],
      "text/plain": [
       "                        object_name  chain  id  number\n",
       "107             beverly hills diner   True   1      88\n",
       "108                        bierloga   True   1      75\n",
       "117                   black & white   True   1      40\n",
       "135                      bocconcino   True   3      67\n",
       "142                           boobo   True   1      46\n",
       "...                             ...    ...  ..     ...\n",
       "9295                      ямми микс   True   1       2\n",
       "9297                      ян примус   True   1     300\n",
       "9301  японский ресторан «ваби-саби»   True   1     155\n",
       "9303                          япоша   True   2     105\n",
       "9311                            ёрш   True   4     112\n",
       "\n",
       "[556 rows x 4 columns]"
      ]
     },
     "execution_count": 24,
     "metadata": {},
     "output_type": "execute_result"
    }
   ],
   "source": [
    "rest_average_seats_chain"
   ]
  },
  {
   "cell_type": "code",
   "execution_count": 25,
   "metadata": {},
   "outputs": [
    {
     "data": {
      "text/plain": [
       "<Figure size 432x288 with 0 Axes>"
      ]
     },
     "metadata": {},
     "output_type": "display_data"
    },
    {
     "data": {
      "image/png": "[encoded data removed]",
      "text/plain": [
       "<Figure size 720x504 with 1 Axes>"
      ]
     },
     "metadata": {},
     "output_type": "display_data"
    }
   ],
   "source": [
    "sns.set_style(\"darkgrid\")\n",
    "sns.despine(left=True, bottom=True) \n",
    "sns.set_context(\"paper\", font_scale=2)\n",
    "ax = plt.subplots(figsize=(10, 7))\n",
    "\n",
    "plt.axhline(np.percentile(rest_average_seats_chain['id'], 90), linestyle='--', color='black')\n",
    "plt.axvline(np.percentile(rest_average_seats_chain['number'], 90), linestyle='--', color='black')\n",
    "\n",
    "chart = sns.scatterplot(                                             \n",
    "           x=\"number\",\n",
    "           y='id',\n",
    "           data=rest_average_seats_chain\n",
    ") \n",
    "plt.text(330,7, '90% заведений ниже этой линии')\n",
    "plt.text(135,100, '90% заведений левее этой линии')\n",
    "chart.set_title('Количество посадочных мест на одно сетевое заведение')\n",
    "chart.set_ylabel('Количество сетевых заведений', size=20, fontstyle='italic', weight=900, )\n",
    "chart.set_xlabel('Количесвто посадочных мест', size=20, fontstyle='italic', weight=900, ha='center')\n",
    "\n",
    "plt.show()"
   ]
  },
  {
   "cell_type": "markdown",
   "metadata": {},
   "source": [
    "<div class=\"alert alert-info\"> <b>Как мы видим из графика, как правило, в сетевых заведениях - мало заведений с большим количеством посадочных мест. </div>"
   ]
  },
  {
   "cell_type": "markdown",
   "metadata": {},
   "source": [
    "#### Для каждого вида объекта общественного питания опишите среднее количество посадочных мест. Какой вид предоставляет в среднем самое большое количество посадочных мест? Постройте графики."
   ]
  },
  {
   "cell_type": "code",
   "execution_count": 26,
   "metadata": {},
   "outputs": [
    {
     "data": {
      "text/plain": [
       "<Figure size 432x288 with 0 Axes>"
      ]
     },
     "metadata": {},
     "output_type": "display_data"
    },
    {
     "data": {
      "image/png": "[encoded data removed]",
      "text/plain": [
       "<Figure size 1440x720 with 1 Axes>"
      ]
     },
     "metadata": {},
     "output_type": "display_data"
    }
   ],
   "source": [
    "sns.set_style(\"darkgrid\")\n",
    "sns.despine(left=True, bottom=True) \n",
    "sns.set_context(\"paper\", font_scale=2)\n",
    "ax = plt.subplots(figsize=(20, 10))\n",
    "\n",
    "chart = sns.boxplot(                                             \n",
    "           x=\"object_type\",\n",
    "           y=\"number\",\n",
    "           hue='chain',\n",
    "           data=data[data['number']<300],\n",
    "           order = data.groupby(by=[\"object_type\"])[\"number\"].median().sort_values(ascending = False).index\n",
    ") \n",
    "chart.set_title('Количество посадочных мест на каждый тип заведения')\n",
    "chart.set_ylabel('Количество посадочных мест', size=20, fontstyle='italic', weight=900, )\n",
    "chart.set_xlabel('Тип заведения', size=20, fontstyle='italic', weight=900, ha='center')\n",
    "\n",
    "\n",
    "plt.show()"
   ]
  },
  {
   "cell_type": "code",
   "execution_count": 27,
   "metadata": {},
   "outputs": [
    {
     "data": {
      "text/html": [
       "<div>\n",
       "<style scoped>\n",
       "    .dataframe tbody tr th:only-of-type {\n",
       "        vertical-align: middle;\n",
       "    }\n",
       "\n",
       "    .dataframe tbody tr th {\n",
       "        vertical-align: top;\n",
       "    }\n",
       "\n",
       "    .dataframe thead th {\n",
       "        text-align: right;\n",
       "    }\n",
       "</style>\n",
       "<table border=\"1\" class=\"dataframe\">\n",
       "  <thead>\n",
       "    <tr style=\"text-align: right;\">\n",
       "      <th></th>\n",
       "      <th>object_type</th>\n",
       "      <th>number</th>\n",
       "    </tr>\n",
       "  </thead>\n",
       "  <tbody>\n",
       "    <tr>\n",
       "      <th>0</th>\n",
       "      <td>закусочная</td>\n",
       "      <td>0</td>\n",
       "    </tr>\n",
       "    <tr>\n",
       "      <th>1</th>\n",
       "      <td>кулинария</td>\n",
       "      <td>0</td>\n",
       "    </tr>\n",
       "    <tr>\n",
       "      <th>2</th>\n",
       "      <td>кафетерий</td>\n",
       "      <td>6</td>\n",
       "    </tr>\n",
       "    <tr>\n",
       "      <th>3</th>\n",
       "      <td>фаст-фуд</td>\n",
       "      <td>6</td>\n",
       "    </tr>\n",
       "    <tr>\n",
       "      <th>4</th>\n",
       "      <td>кафе</td>\n",
       "      <td>30</td>\n",
       "    </tr>\n",
       "    <tr>\n",
       "      <th>5</th>\n",
       "      <td>буфет</td>\n",
       "      <td>32</td>\n",
       "    </tr>\n",
       "    <tr>\n",
       "      <th>6</th>\n",
       "      <td>бар</td>\n",
       "      <td>35</td>\n",
       "    </tr>\n",
       "    <tr>\n",
       "      <th>7</th>\n",
       "      <td>ресторан</td>\n",
       "      <td>80</td>\n",
       "    </tr>\n",
       "    <tr>\n",
       "      <th>8</th>\n",
       "      <td>столовая</td>\n",
       "      <td>103</td>\n",
       "    </tr>\n",
       "  </tbody>\n",
       "</table>\n",
       "</div>"
      ],
      "text/plain": [
       "  object_type  number\n",
       "0  закусочная       0\n",
       "1   кулинария       0\n",
       "2   кафетерий       6\n",
       "3    фаст-фуд       6\n",
       "4        кафе      30\n",
       "5       буфет      32\n",
       "6         бар      35\n",
       "7    ресторан      80\n",
       "8    столовая     103"
      ]
     },
     "execution_count": 27,
     "metadata": {},
     "output_type": "execute_result"
    }
   ],
   "source": [
    "# строим табличку со средним количеством мест на каждый объект\n",
    "types_objects_by_number = data.groupby('object_type', as_index=False)\\\n",
    ".agg({'number':'median'})\\\n",
    ".sort_values(by='number')\\\n",
    ".reset_index(inplace = False, drop = True)\n",
    "\n",
    "# округляем и приволим к типу int\n",
    "types_objects_by_number['number'] = types_objects_by_number['number'].round(0).astype('int')\n",
    "\n",
    "types_objects_by_number"
   ]
  },
  {
   "cell_type": "code",
   "execution_count": 49,
   "metadata": {},
   "outputs": [
    {
     "data": {
      "text/plain": [
       "<Figure size 432x288 with 0 Axes>"
      ]
     },
     "metadata": {},
     "output_type": "display_data"
    },
    {
     "data": {
      "image/png": "[encoded data removed]",
      "text/plain": [
       "<Figure size 1440x720 with 1 Axes>"
      ]
     },
     "metadata": {},
     "output_type": "display_data"
    }
   ],
   "source": [
    "sns.set_style(\"darkgrid\")\n",
    "sns.despine(left=True, bottom=True) \n",
    "sns.set_context(\"paper\", font_scale=2)\n",
    "ax = plt.subplots(figsize=(20, 10))\n",
    "\n",
    "chart = sns.barplot(                                             \n",
    "           x=\"number\",\n",
    "           y=\"object_type\",\n",
    "           data=types_objects_by_number\n",
    ") \n",
    "\n",
    "chart.set_ylabel('Тип заведения', size=20, fontstyle='italic', weight=900, )\n",
    "chart.set_xlabel('Среднее количество посадочных мест', size=20, fontstyle='italic', weight=900, ha='center')\n",
    "chart.set_title('Среднее количество посадочных мест на каждый тип заведения, с нулевыми значениями')\n",
    "\n",
    "plt.show()"
   ]
  },
  {
   "cell_type": "code",
   "execution_count": 29,
   "metadata": {},
   "outputs": [
    {
     "data": {
      "text/html": [
       "<div>\n",
       "<style scoped>\n",
       "    .dataframe tbody tr th:only-of-type {\n",
       "        vertical-align: middle;\n",
       "    }\n",
       "\n",
       "    .dataframe tbody tr th {\n",
       "        vertical-align: top;\n",
       "    }\n",
       "\n",
       "    .dataframe thead th {\n",
       "        text-align: right;\n",
       "    }\n",
       "</style>\n",
       "<table border=\"1\" class=\"dataframe\">\n",
       "  <thead>\n",
       "    <tr style=\"text-align: right;\">\n",
       "      <th></th>\n",
       "      <th>object_type</th>\n",
       "      <th>number</th>\n",
       "    </tr>\n",
       "  </thead>\n",
       "  <tbody>\n",
       "    <tr>\n",
       "      <th>0</th>\n",
       "      <td>кулинария</td>\n",
       "      <td>8.5</td>\n",
       "    </tr>\n",
       "    <tr>\n",
       "      <th>1</th>\n",
       "      <td>кафетерий</td>\n",
       "      <td>9.0</td>\n",
       "    </tr>\n",
       "    <tr>\n",
       "      <th>2</th>\n",
       "      <td>закусочная</td>\n",
       "      <td>10.0</td>\n",
       "    </tr>\n",
       "    <tr>\n",
       "      <th>3</th>\n",
       "      <td>фаст-фуд</td>\n",
       "      <td>20.0</td>\n",
       "    </tr>\n",
       "    <tr>\n",
       "      <th>4</th>\n",
       "      <td>бар</td>\n",
       "      <td>35.0</td>\n",
       "    </tr>\n",
       "    <tr>\n",
       "      <th>5</th>\n",
       "      <td>кафе</td>\n",
       "      <td>35.0</td>\n",
       "    </tr>\n",
       "    <tr>\n",
       "      <th>6</th>\n",
       "      <td>буфет</td>\n",
       "      <td>40.0</td>\n",
       "    </tr>\n",
       "    <tr>\n",
       "      <th>7</th>\n",
       "      <td>ресторан</td>\n",
       "      <td>80.0</td>\n",
       "    </tr>\n",
       "    <tr>\n",
       "      <th>8</th>\n",
       "      <td>столовая</td>\n",
       "      <td>105.0</td>\n",
       "    </tr>\n",
       "  </tbody>\n",
       "</table>\n",
       "</div>"
      ],
      "text/plain": [
       "  object_type  number\n",
       "0   кулинария     8.5\n",
       "1   кафетерий     9.0\n",
       "2  закусочная    10.0\n",
       "3    фаст-фуд    20.0\n",
       "4         бар    35.0\n",
       "5        кафе    35.0\n",
       "6       буфет    40.0\n",
       "7    ресторан    80.0\n",
       "8    столовая   105.0"
      ]
     },
     "execution_count": 29,
     "metadata": {},
     "output_type": "execute_result"
    }
   ],
   "source": [
    "# убираем нулевые значения\n",
    "rest_without_zero = data[data['number'] != 0]\n",
    "\n",
    "# формируем df с средним количеством мест на каждый объект\n",
    "types_objects_by_number_without_zero = rest_without_zero.groupby('object_type', as_index=False)\\\n",
    ".agg({'number':'median'})\\\n",
    ".sort_values(by='number')\\\n",
    ".reset_index(inplace = False, drop = True)\n",
    "types_objects_by_number_without_zero"
   ]
  },
  {
   "cell_type": "code",
   "execution_count": 30,
   "metadata": {},
   "outputs": [],
   "source": [
    "# округляем и приволим к типу int\n",
    "types_objects_by_number_without_zero['number'] = types_objects_by_number_without_zero['number'].round(0).astype('int')"
   ]
  },
  {
   "cell_type": "code",
   "execution_count": 50,
   "metadata": {},
   "outputs": [
    {
     "data": {
      "text/plain": [
       "<Figure size 432x288 with 0 Axes>"
      ]
     },
     "metadata": {},
     "output_type": "display_data"
    },
    {
     "data": {
      "image/png": "[encoded data removed]",
      "text/plain": [
       "<Figure size 1440x720 with 1 Axes>"
      ]
     },
     "metadata": {},
     "output_type": "display_data"
    }
   ],
   "source": [
    "sns.set_style(\"darkgrid\")\n",
    "sns.despine(left=True, bottom=True) \n",
    "sns.set_context(\"paper\", font_scale=2)\n",
    "ax = plt.subplots(figsize=(20, 10))\n",
    "\n",
    "chart = sns.barplot(                                             \n",
    "           x=\"number\",\n",
    "           y=\"object_type\",\n",
    "           data=types_objects_by_number_without_zero\n",
    ") \n",
    "\n",
    "chart.set_ylabel('Тип заведения', size=20, fontstyle='italic', weight=900, )\n",
    "chart.set_xlabel('Среднее количество посадочных мест', size=20, fontstyle='italic', weight=900, ha='center')\n",
    "chart.set_title('Среднее количество посадочных мест на каждый тип заведения, без нулевых значений')\n",
    "\n",
    "plt.show()"
   ]
  },
  {
   "cell_type": "markdown",
   "metadata": {},
   "source": [
    "- В топ-3 вида общественного питания вошли: столовая, ресторан, буфет\n",
    "- Наблюдается незначительная разница в графиках видов заведений с нулевым количеством сидячих мест и заведений без нулевых сидячих мест в топ-3. Сильная разница наблюдается в видах, где не предусмотрены сидячие места, либо их количество крайне мало."
   ]
  },
  {
   "cell_type": "markdown",
   "metadata": {},
   "source": [
    "#### Выделите в отдельный столбец информацию об улице из столбца address"
   ]
  },
  {
   "cell_type": "code",
   "execution_count": 32,
   "metadata": {},
   "outputs": [],
   "source": [
    "# выделяем в отдельный столбец информацию об улице из столбца address\n",
    "def add_street(data):\n",
    "    name_street = ['улица',\n",
    "                   'бульвар',\n",
    "                   'шоссе',\n",
    "                   'переулок',\n",
    "                   'проезд',\n",
    "                   'проспект',\n",
    "                   'набережная',\n",
    "                   'линия',\n",
    "                   'тупик',\n",
    "                   'километр',\n",
    "                   'аллея',\n",
    "                   'площадь'\n",
    "                  ]\n",
    "\n",
    "    for street in data:\n",
    "        for name in name_street:\n",
    "            if name in street:\n",
    "                return street\n",
    "\n",
    "data['street'] = data['address'].str.split(', ').apply(add_street)"
   ]
  },
  {
   "cell_type": "code",
   "execution_count": 33,
   "metadata": {},
   "outputs": [
    {
     "data": {
      "text/plain": [
       "359"
      ]
     },
     "execution_count": 33,
     "metadata": {},
     "output_type": "execute_result"
    }
   ],
   "source": [
    "data['street'].isna().sum()"
   ]
  },
  {
   "cell_type": "code",
   "execution_count": 34,
   "metadata": {},
   "outputs": [],
   "source": [
    "# заполняем пропуски в столбце street\n",
    "def add_region(data):\n",
    "    name_region = ['посёлок',\n",
    "                   'село',\n",
    "                   'зеленоград',\n",
    "                   'деревня',\n",
    "                   'территория',\n",
    "                   'просек',\n",
    "                   'вблизи',\n",
    "                   'квартал',\n",
    "                   'микрорайон',\n",
    "                   'капотня',\n",
    "                   'площадь'\n",
    "                  ]\n",
    "\n",
    "    for street in data:\n",
    "        for name in name_region:\n",
    "            if name in street:\n",
    "                return street\n",
    "\n",
    "\n",
    "data.loc[data['street'].isna(), 'street'] = data['address'].str.split(', ').apply(add_region)"
   ]
  },
  {
   "cell_type": "code",
   "execution_count": 35,
   "metadata": {},
   "outputs": [
    {
     "data": {
      "text/html": [
       "<div>\n",
       "<style scoped>\n",
       "    .dataframe tbody tr th:only-of-type {\n",
       "        vertical-align: middle;\n",
       "    }\n",
       "\n",
       "    .dataframe tbody tr th {\n",
       "        vertical-align: top;\n",
       "    }\n",
       "\n",
       "    .dataframe thead th {\n",
       "        text-align: right;\n",
       "    }\n",
       "</style>\n",
       "<table border=\"1\" class=\"dataframe\">\n",
       "  <thead>\n",
       "    <tr style=\"text-align: right;\">\n",
       "      <th></th>\n",
       "      <th>index</th>\n",
       "      <th>id</th>\n",
       "      <th>object_name</th>\n",
       "      <th>chain</th>\n",
       "      <th>object_type</th>\n",
       "      <th>address</th>\n",
       "      <th>number</th>\n",
       "      <th>street</th>\n",
       "    </tr>\n",
       "  </thead>\n",
       "  <tbody>\n",
       "    <tr>\n",
       "      <th>0</th>\n",
       "      <td>0</td>\n",
       "      <td>151635</td>\n",
       "      <td>сметана</td>\n",
       "      <td>False</td>\n",
       "      <td>кафе</td>\n",
       "      <td>город москва, улица егора абакумова, дом 9</td>\n",
       "      <td>48</td>\n",
       "      <td>улица егора абакумова</td>\n",
       "    </tr>\n",
       "    <tr>\n",
       "      <th>1</th>\n",
       "      <td>1</td>\n",
       "      <td>77874</td>\n",
       "      <td>родник</td>\n",
       "      <td>False</td>\n",
       "      <td>кафе</td>\n",
       "      <td>город москва, улица талалихина, дом 2/1, корпус 1</td>\n",
       "      <td>35</td>\n",
       "      <td>улица талалихина</td>\n",
       "    </tr>\n",
       "    <tr>\n",
       "      <th>2</th>\n",
       "      <td>2</td>\n",
       "      <td>24309</td>\n",
       "      <td>кафе «академия»</td>\n",
       "      <td>False</td>\n",
       "      <td>кафе</td>\n",
       "      <td>город москва, абельмановская улица, дом 6</td>\n",
       "      <td>95</td>\n",
       "      <td>абельмановская улица</td>\n",
       "    </tr>\n",
       "    <tr>\n",
       "      <th>3</th>\n",
       "      <td>3</td>\n",
       "      <td>21894</td>\n",
       "      <td>пиццетория</td>\n",
       "      <td>True</td>\n",
       "      <td>кафе</td>\n",
       "      <td>город москва, абрамцевская улица, дом 1</td>\n",
       "      <td>40</td>\n",
       "      <td>абрамцевская улица</td>\n",
       "    </tr>\n",
       "    <tr>\n",
       "      <th>4</th>\n",
       "      <td>4</td>\n",
       "      <td>119365</td>\n",
       "      <td>кафе «вишневая метель»</td>\n",
       "      <td>False</td>\n",
       "      <td>кафе</td>\n",
       "      <td>город москва, абрамцевская улица, дом 9, корпус 1</td>\n",
       "      <td>50</td>\n",
       "      <td>абрамцевская улица</td>\n",
       "    </tr>\n",
       "  </tbody>\n",
       "</table>\n",
       "</div>"
      ],
      "text/plain": [
       "   index      id             object_name  chain object_type  \\\n",
       "0      0  151635                 сметана  False        кафе   \n",
       "1      1   77874                  родник  False        кафе   \n",
       "2      2   24309         кафе «академия»  False        кафе   \n",
       "3      3   21894              пиццетория   True        кафе   \n",
       "4      4  119365  кафе «вишневая метель»  False        кафе   \n",
       "\n",
       "                                             address  number  \\\n",
       "0         город москва, улица егора абакумова, дом 9      48   \n",
       "1  город москва, улица талалихина, дом 2/1, корпус 1      35   \n",
       "2          город москва, абельмановская улица, дом 6      95   \n",
       "3            город москва, абрамцевская улица, дом 1      40   \n",
       "4  город москва, абрамцевская улица, дом 9, корпус 1      50   \n",
       "\n",
       "                  street  \n",
       "0  улица егора абакумова  \n",
       "1       улица талалихина  \n",
       "2   абельмановская улица  \n",
       "3     абрамцевская улица  \n",
       "4     абрамцевская улица  "
      ]
     },
     "execution_count": 35,
     "metadata": {},
     "output_type": "execute_result"
    }
   ],
   "source": [
    "data.head()"
   ]
  },
  {
   "cell_type": "code",
   "execution_count": 36,
   "metadata": {},
   "outputs": [
    {
     "data": {
      "text/plain": [
       "0"
      ]
     },
     "execution_count": 36,
     "metadata": {},
     "output_type": "execute_result"
    }
   ],
   "source": [
    "data['street'].isna().sum()"
   ]
  },
  {
   "cell_type": "markdown",
   "metadata": {},
   "source": [
    "#### Постройте график топ-10 улиц по количеству объектов общественного питания. Воспользуйтесь внешней информацией и ответьте на вопрос — в каких районах Москвы находятся эти улицы?"
   ]
  },
  {
   "cell_type": "code",
   "execution_count": 37,
   "metadata": {},
   "outputs": [
    {
     "data": {
      "text/html": [
       "<div>\n",
       "<style scoped>\n",
       "    .dataframe tbody tr th:only-of-type {\n",
       "        vertical-align: middle;\n",
       "    }\n",
       "\n",
       "    .dataframe tbody tr th {\n",
       "        vertical-align: top;\n",
       "    }\n",
       "\n",
       "    .dataframe thead th {\n",
       "        text-align: right;\n",
       "    }\n",
       "</style>\n",
       "<table border=\"1\" class=\"dataframe\">\n",
       "  <thead>\n",
       "    <tr style=\"text-align: right;\">\n",
       "      <th></th>\n",
       "      <th>streetname</th>\n",
       "      <th>areaid</th>\n",
       "      <th>okrug</th>\n",
       "      <th>area</th>\n",
       "    </tr>\n",
       "  </thead>\n",
       "  <tbody>\n",
       "    <tr>\n",
       "      <th>0</th>\n",
       "      <td>выставочный переулок</td>\n",
       "      <td>17</td>\n",
       "      <td>ЦАО</td>\n",
       "      <td>Пресненский район</td>\n",
       "    </tr>\n",
       "    <tr>\n",
       "      <th>1</th>\n",
       "      <td>улица гашека</td>\n",
       "      <td>17</td>\n",
       "      <td>ЦАО</td>\n",
       "      <td>Пресненский район</td>\n",
       "    </tr>\n",
       "    <tr>\n",
       "      <th>2</th>\n",
       "      <td>большая никитская улица</td>\n",
       "      <td>17</td>\n",
       "      <td>ЦАО</td>\n",
       "      <td>Пресненский район</td>\n",
       "    </tr>\n",
       "    <tr>\n",
       "      <th>3</th>\n",
       "      <td>глубокий переулок</td>\n",
       "      <td>17</td>\n",
       "      <td>ЦАО</td>\n",
       "      <td>Пресненский район</td>\n",
       "    </tr>\n",
       "    <tr>\n",
       "      <th>4</th>\n",
       "      <td>большой гнездниковский переулок</td>\n",
       "      <td>17</td>\n",
       "      <td>ЦАО</td>\n",
       "      <td>Пресненский район</td>\n",
       "    </tr>\n",
       "  </tbody>\n",
       "</table>\n",
       "</div>"
      ],
      "text/plain": [
       "                        streetname  areaid okrug               area\n",
       "0             выставочный переулок      17   ЦАО  Пресненский район\n",
       "1                     улица гашека      17   ЦАО  Пресненский район\n",
       "2          большая никитская улица      17   ЦАО  Пресненский район\n",
       "3                глубокий переулок      17   ЦАО  Пресненский район\n",
       "4  большой гнездниковский переулок      17   ЦАО  Пресненский район"
      ]
     },
     "execution_count": 37,
     "metadata": {},
     "output_type": "execute_result"
    }
   ],
   "source": [
    "# обращаемся к внешнему источнику \n",
    "spreadsheet_id = '1fGtfX_6otenOiCBRzt61bQe9l3gB7B8BEp-qPcWkRKA'\n",
    "file_name = 'https://docs.google.com/spreadsheets/d/{}/export?format=csv'.format(spreadsheet_id)\n",
    "r = requests.get(file_name)\n",
    "mascow_streets = pd.read_csv(BytesIO(r.content))\n",
    "mascow_streets['streetname'] = mascow_streets['streetname'].str.lower()\n",
    "mascow_streets.head()"
   ]
  },
  {
   "cell_type": "code",
   "execution_count": 38,
   "metadata": {},
   "outputs": [
    {
     "name": "stdout",
     "output_type": "stream",
     "text": [
      "                   street   id\n",
      "0           проспект мира  203\n",
      "1       профсоюзная улица  182\n",
      "2  ленинградский проспект  172\n",
      "3  пресненская набережная  167\n",
      "4        варшавское шоссе  165\n",
      "5      ленинский проспект  148\n",
      "6        город зеленоград  129\n",
      "7    проспект вернадского  128\n",
      "8    кутузовский проспект  114\n",
      "9         каширское шоссе  111\n"
     ]
    },
    {
     "data": {
      "text/plain": [
       "['ЦАО', 'ЗАО', 'Зеленоград', 'САО', 'СВАО', 'ЮАО', 'ЮЗАО']"
      ]
     },
     "execution_count": 38,
     "metadata": {},
     "output_type": "execute_result"
    }
   ],
   "source": [
    "# формируем топ с улицами по количеству заведений\n",
    "street_count = data.groupby('street').agg({'id':'count'}).sort_values(by='id', ascending=False)\n",
    "top_10 = street_count.head(10).reset_index()\n",
    "print(top_10)\n",
    "\n",
    "# формируем топ с округами\n",
    "top_okrug = list(mascow_streets[mascow_streets['streetname'].isin(top_10.reset_index()['street'])]['okrug'].unique())\n",
    "top_okrug"
   ]
  },
  {
   "cell_type": "code",
   "execution_count": 52,
   "metadata": {},
   "outputs": [
    {
     "data": {
      "text/plain": [
       "<Figure size 432x288 with 0 Axes>"
      ]
     },
     "metadata": {},
     "output_type": "display_data"
    },
    {
     "data": {
      "image/png": "[encoded data removed]",
      "text/plain": [
       "<Figure size 1224x504 with 1 Axes>"
      ]
     },
     "metadata": {},
     "output_type": "display_data"
    }
   ],
   "source": [
    "# строим график\n",
    "sns.set_style(\"darkgrid\")\n",
    "sns.despine(left=True, bottom=True) \n",
    "sns.set_context(\"paper\", font_scale=2)\n",
    "ax = plt.subplots(figsize=(17, 7))\n",
    "\n",
    "chart = sns.barplot(                                             \n",
    "           x=\"id\",\n",
    "           y=\"street\",\n",
    "           data=top_10\n",
    ") \n",
    "\n",
    "\n",
    "chart.set_ylabel('Улица', size=20, fontstyle='italic', weight=900, )\n",
    "chart.set_xlabel('Количество заведений', size=20, fontstyle='italic', weight=900, ha='center')\n",
    "chart.set_title('Топ 10 улиц по количеству заведений')\n",
    "\n",
    "\n",
    "plt.show()"
   ]
  },
  {
   "cell_type": "code",
   "execution_count": 40,
   "metadata": {},
   "outputs": [
    {
     "data": {
      "text/html": [
       "<div>\n",
       "<style scoped>\n",
       "    .dataframe tbody tr th:only-of-type {\n",
       "        vertical-align: middle;\n",
       "    }\n",
       "\n",
       "    .dataframe tbody tr th {\n",
       "        vertical-align: top;\n",
       "    }\n",
       "\n",
       "    .dataframe thead th {\n",
       "        text-align: right;\n",
       "    }\n",
       "</style>\n",
       "<table border=\"1\" class=\"dataframe\">\n",
       "  <thead>\n",
       "    <tr style=\"text-align: right;\">\n",
       "      <th></th>\n",
       "      <th></th>\n",
       "    </tr>\n",
       "    <tr>\n",
       "      <th>street</th>\n",
       "      <th>area</th>\n",
       "    </tr>\n",
       "  </thead>\n",
       "  <tbody>\n",
       "    <tr>\n",
       "      <th rowspan=\"8\" valign=\"top\">варшавское шоссе</th>\n",
       "      <th>Донской район</th>\n",
       "    </tr>\n",
       "    <tr>\n",
       "      <th>Нагорный район</th>\n",
       "    </tr>\n",
       "    <tr>\n",
       "      <th>Район Нагатино-Садовники</th>\n",
       "    </tr>\n",
       "    <tr>\n",
       "      <th>Район Северное Бутово</th>\n",
       "    </tr>\n",
       "    <tr>\n",
       "      <th>Район Чертаново Северное</th>\n",
       "    </tr>\n",
       "    <tr>\n",
       "      <th>Район Чертаново Центральное</th>\n",
       "    </tr>\n",
       "    <tr>\n",
       "      <th>Район Чертаново Южное</th>\n",
       "    </tr>\n",
       "    <tr>\n",
       "      <th>Район Южное Бутово</th>\n",
       "    </tr>\n",
       "    <tr>\n",
       "      <th rowspan=\"3\" valign=\"top\">город зеленоград</th>\n",
       "      <th>Панфиловский район</th>\n",
       "    </tr>\n",
       "    <tr>\n",
       "      <th>Район Крюково</th>\n",
       "    </tr>\n",
       "    <tr>\n",
       "      <th>Район Матушкино-Савелки</th>\n",
       "    </tr>\n",
       "    <tr>\n",
       "      <th rowspan=\"4\" valign=\"top\">каширское шоссе</th>\n",
       "      <th>Район Москворечье-Сабурово</th>\n",
       "    </tr>\n",
       "    <tr>\n",
       "      <th>Район Нагатино-Садовники</th>\n",
       "    </tr>\n",
       "    <tr>\n",
       "      <th>Район Орехово-Борисово Северное</th>\n",
       "    </tr>\n",
       "    <tr>\n",
       "      <th>Район Орехово-Борисово Южное</th>\n",
       "    </tr>\n",
       "    <tr>\n",
       "      <th rowspan=\"2\" valign=\"top\">кутузовский проспект</th>\n",
       "      <th>Район Дорогомилово</th>\n",
       "    </tr>\n",
       "    <tr>\n",
       "      <th>Район Фили-Давыдково</th>\n",
       "    </tr>\n",
       "    <tr>\n",
       "      <th rowspan=\"4\" valign=\"top\">ленинградский проспект</th>\n",
       "      <th>Район Аэропорт</th>\n",
       "    </tr>\n",
       "    <tr>\n",
       "      <th>Район Беговой</th>\n",
       "    </tr>\n",
       "    <tr>\n",
       "      <th>Район Сокол</th>\n",
       "    </tr>\n",
       "    <tr>\n",
       "      <th>Хорошевский район</th>\n",
       "    </tr>\n",
       "    <tr>\n",
       "      <th rowspan=\"8\" valign=\"top\">ленинский проспект</th>\n",
       "      <th>Донской район</th>\n",
       "    </tr>\n",
       "    <tr>\n",
       "      <th>Ломоносовский район</th>\n",
       "    </tr>\n",
       "    <tr>\n",
       "      <th>Обручевский район</th>\n",
       "    </tr>\n",
       "    <tr>\n",
       "      <th>Район Гагаринский</th>\n",
       "    </tr>\n",
       "    <tr>\n",
       "      <th>Район Проспект Вернадского</th>\n",
       "    </tr>\n",
       "    <tr>\n",
       "      <th>Район Теплый Стан</th>\n",
       "    </tr>\n",
       "    <tr>\n",
       "      <th>Район Тропарево-Никулино</th>\n",
       "    </tr>\n",
       "    <tr>\n",
       "      <th>Район Якиманка</th>\n",
       "    </tr>\n",
       "    <tr>\n",
       "      <th>пресненская набережная</th>\n",
       "      <th>Пресненский район</th>\n",
       "    </tr>\n",
       "    <tr>\n",
       "      <th rowspan=\"5\" valign=\"top\">проспект вернадского</th>\n",
       "      <th>Ломоносовский район</th>\n",
       "    </tr>\n",
       "    <tr>\n",
       "      <th>Район Гагаринский</th>\n",
       "    </tr>\n",
       "    <tr>\n",
       "      <th>Район Проспект Вернадского</th>\n",
       "    </tr>\n",
       "    <tr>\n",
       "      <th>Район Раменки</th>\n",
       "    </tr>\n",
       "    <tr>\n",
       "      <th>Район Тропарево-Никулино</th>\n",
       "    </tr>\n",
       "    <tr>\n",
       "      <th rowspan=\"7\" valign=\"top\">проспект мира</th>\n",
       "      <th>Алексеевский район</th>\n",
       "    </tr>\n",
       "    <tr>\n",
       "      <th>Мещанский район</th>\n",
       "    </tr>\n",
       "    <tr>\n",
       "      <th>Останкинский район</th>\n",
       "    </tr>\n",
       "    <tr>\n",
       "      <th>Район Марьина роща</th>\n",
       "    </tr>\n",
       "    <tr>\n",
       "      <th>Район Ростокино</th>\n",
       "    </tr>\n",
       "    <tr>\n",
       "      <th>Район Свиблово</th>\n",
       "    </tr>\n",
       "    <tr>\n",
       "      <th>Ярославский Район</th>\n",
       "    </tr>\n",
       "    <tr>\n",
       "      <th rowspan=\"6\" valign=\"top\">профсоюзная улица</th>\n",
       "      <th>Академический район</th>\n",
       "    </tr>\n",
       "    <tr>\n",
       "      <th>Обручевский район</th>\n",
       "    </tr>\n",
       "    <tr>\n",
       "      <th>Район Коньково</th>\n",
       "    </tr>\n",
       "    <tr>\n",
       "      <th>Район Теплый Стан</th>\n",
       "    </tr>\n",
       "    <tr>\n",
       "      <th>Район Черемушки</th>\n",
       "    </tr>\n",
       "    <tr>\n",
       "      <th>Район Ясенево</th>\n",
       "    </tr>\n",
       "  </tbody>\n",
       "</table>\n",
       "</div>"
      ],
      "text/plain": [
       "Empty DataFrame\n",
       "Columns: []\n",
       "Index: [(варшавское шоссе, Донской район), (варшавское шоссе, Нагорный район), (варшавское шоссе, Район Нагатино-Садовники), (варшавское шоссе, Район Северное Бутово), (варшавское шоссе, Район Чертаново Северное), (варшавское шоссе, Район Чертаново Центральное), (варшавское шоссе, Район Чертаново Южное), (варшавское шоссе, Район Южное Бутово), (город зеленоград, Панфиловский район), (город зеленоград, Район Крюково), (город зеленоград, Район Матушкино-Савелки), (каширское шоссе, Район Москворечье-Сабурово), (каширское шоссе, Район Нагатино-Садовники), (каширское шоссе, Район Орехово-Борисово Северное), (каширское шоссе, Район Орехово-Борисово Южное), (кутузовский проспект, Район Дорогомилово), (кутузовский проспект, Район Фили-Давыдково), (ленинградский проспект, Район Аэропорт), (ленинградский проспект, Район Беговой), (ленинградский проспект, Район Сокол), (ленинградский проспект, Хорошевский район), (ленинский проспект, Донской район), (ленинский проспект, Ломоносовский район), (ленинский проспект, Обручевский район), (ленинский проспект, Район Гагаринский), (ленинский проспект, Район Проспект Вернадского), (ленинский проспект, Район Теплый Стан), (ленинский проспект, Район Тропарево-Никулино), (ленинский проспект, Район Якиманка), (пресненская набережная, Пресненский район), (проспект вернадского, Ломоносовский район), (проспект вернадского, Район Гагаринский), (проспект вернадского, Район Проспект Вернадского), (проспект вернадского, Район Раменки), (проспект вернадского, Район Тропарево-Никулино), (проспект мира, Алексеевский район), (проспект мира, Мещанский район), (проспект мира, Останкинский район), (проспект мира, Район Марьина роща), (проспект мира, Район Ростокино), (проспект мира, Район Свиблово), (проспект мира, Ярославский Район), (профсоюзная улица, Академический район), (профсоюзная улица, Обручевский район), (профсоюзная улица, Район Коньково), (профсоюзная улица, Район Теплый Стан), (профсоюзная улица, Район Черемушки), (профсоюзная улица, Район Ясенево)]"
      ]
     },
     "execution_count": 40,
     "metadata": {},
     "output_type": "execute_result"
    }
   ],
   "source": [
    "# отвечаем на поставленный вопрос\n",
    "streets_area_top_10 = top_10.merge(mascow_streets, how='left', left_on='street', right_on='streetname')\n",
    "streets_area_top_10_group = pd.pivot_table(streets_area_top_10,\n",
    "                                             index=['street', 'area']\n",
    "                                            )\n",
    "del streets_area_top_10_group['areaid']\n",
    "del streets_area_top_10_group['id']\n",
    "\n",
    "streets_area_top_10_group"
   ]
  },
  {
   "cell_type": "markdown",
   "metadata": {},
   "source": [
    "Видимо на 10 улиц приходится так много районов, из за того, что они проходят через множество районов"
   ]
  },
  {
   "cell_type": "markdown",
   "metadata": {},
   "source": [
    "#### Найдите число улиц с одним объектом общественного питания. Воспользуйтесь внешней информацией и ответьте на вопрос — в каких районах Москвы находятся эти улицы?"
   ]
  },
  {
   "cell_type": "code",
   "execution_count": 41,
   "metadata": {},
   "outputs": [
    {
     "name": "stdout",
     "output_type": "stream",
     "text": [
      "593\n",
      "                                         id\n",
      "street                                     \n",
      "улица линии октябрьской железной дороги   1\n",
      "архангельский переулок                    1\n",
      "астрадамский проезд                       1\n",
      "улица лапина                              1\n",
      "44-й километр                             1\n",
      "...                                      ..\n",
      "деревня бунчиха                           1\n",
      "деревня бабенки                           1\n",
      "улица 9 мая                               1\n",
      "улица авиаконструктора микояна            1\n",
      "яхромская улица                           1\n",
      "\n",
      "[593 rows x 1 columns]\n"
     ]
    }
   ],
   "source": [
    "# датасет с единичными заведениями на одну улицу\n",
    "street_count_with_one_object = street_count[street_count['id'] == 1]\n",
    "\n",
    "print(len(street_count_with_one_object))\n",
    "print(street_count_with_one_object)"
   ]
  },
  {
   "cell_type": "code",
   "execution_count": 42,
   "metadata": {},
   "outputs": [
    {
     "data": {
      "text/html": [
       "<div>\n",
       "<style scoped>\n",
       "    .dataframe tbody tr th:only-of-type {\n",
       "        vertical-align: middle;\n",
       "    }\n",
       "\n",
       "    .dataframe tbody tr th {\n",
       "        vertical-align: top;\n",
       "    }\n",
       "\n",
       "    .dataframe thead th {\n",
       "        text-align: right;\n",
       "    }\n",
       "</style>\n",
       "<table border=\"1\" class=\"dataframe\">\n",
       "  <thead>\n",
       "    <tr style=\"text-align: right;\">\n",
       "      <th></th>\n",
       "      <th>id</th>\n",
       "      <th>streetname</th>\n",
       "      <th>areaid</th>\n",
       "      <th>okrug</th>\n",
       "      <th>area</th>\n",
       "    </tr>\n",
       "  </thead>\n",
       "  <tbody>\n",
       "    <tr>\n",
       "      <th>0</th>\n",
       "      <td>1</td>\n",
       "      <td>улица линии октябрьской железной дороги</td>\n",
       "      <td>67.0</td>\n",
       "      <td>САО</td>\n",
       "      <td>Тимирязевский Район</td>\n",
       "    </tr>\n",
       "    <tr>\n",
       "      <th>1</th>\n",
       "      <td>1</td>\n",
       "      <td>архангельский переулок</td>\n",
       "      <td>13.0</td>\n",
       "      <td>ЦАО</td>\n",
       "      <td>Басманный район</td>\n",
       "    </tr>\n",
       "    <tr>\n",
       "      <th>2</th>\n",
       "      <td>1</td>\n",
       "      <td>астрадамский проезд</td>\n",
       "      <td>67.0</td>\n",
       "      <td>САО</td>\n",
       "      <td>Тимирязевский Район</td>\n",
       "    </tr>\n",
       "    <tr>\n",
       "      <th>3</th>\n",
       "      <td>1</td>\n",
       "      <td>улица лапина</td>\n",
       "      <td>114.0</td>\n",
       "      <td>ЮВАО</td>\n",
       "      <td>Район Лефортово</td>\n",
       "    </tr>\n",
       "    <tr>\n",
       "      <th>5</th>\n",
       "      <td>1</td>\n",
       "      <td>улица лефортовский вал</td>\n",
       "      <td>114.0</td>\n",
       "      <td>ЮВАО</td>\n",
       "      <td>Район Лефортово</td>\n",
       "    </tr>\n",
       "    <tr>\n",
       "      <th>...</th>\n",
       "      <td>...</td>\n",
       "      <td>...</td>\n",
       "      <td>...</td>\n",
       "      <td>...</td>\n",
       "      <td>...</td>\n",
       "    </tr>\n",
       "    <tr>\n",
       "      <th>628</th>\n",
       "      <td>1</td>\n",
       "      <td>денежный переулок</td>\n",
       "      <td>12.0</td>\n",
       "      <td>ЦАО</td>\n",
       "      <td>Район Арбат</td>\n",
       "    </tr>\n",
       "    <tr>\n",
       "      <th>629</th>\n",
       "      <td>1</td>\n",
       "      <td>денежный переулок</td>\n",
       "      <td>20.0</td>\n",
       "      <td>ЦАО</td>\n",
       "      <td>Район Хамовники</td>\n",
       "    </tr>\n",
       "    <tr>\n",
       "      <th>636</th>\n",
       "      <td>1</td>\n",
       "      <td>улица 9 мая</td>\n",
       "      <td>33.0</td>\n",
       "      <td>ВАО</td>\n",
       "      <td>Район Восточный</td>\n",
       "    </tr>\n",
       "    <tr>\n",
       "      <th>637</th>\n",
       "      <td>1</td>\n",
       "      <td>улица авиаконструктора микояна</td>\n",
       "      <td>69.0</td>\n",
       "      <td>САО</td>\n",
       "      <td>Хорошевский район</td>\n",
       "    </tr>\n",
       "    <tr>\n",
       "      <th>638</th>\n",
       "      <td>1</td>\n",
       "      <td>яхромская улица</td>\n",
       "      <td>60.0</td>\n",
       "      <td>САО</td>\n",
       "      <td>Дмитровский район</td>\n",
       "    </tr>\n",
       "  </tbody>\n",
       "</table>\n",
       "<p>567 rows × 5 columns</p>\n",
       "</div>"
      ],
      "text/plain": [
       "     id                               streetname  areaid okrug  \\\n",
       "0     1  улица линии октябрьской железной дороги    67.0   САО   \n",
       "1     1                   архангельский переулок    13.0   ЦАО   \n",
       "2     1                      астрадамский проезд    67.0   САО   \n",
       "3     1                             улица лапина   114.0  ЮВАО   \n",
       "5     1                   улица лефортовский вал   114.0  ЮВАО   \n",
       "..   ..                                      ...     ...   ...   \n",
       "628   1                        денежный переулок    12.0   ЦАО   \n",
       "629   1                        денежный переулок    20.0   ЦАО   \n",
       "636   1                              улица 9 мая    33.0   ВАО   \n",
       "637   1           улица авиаконструктора микояна    69.0   САО   \n",
       "638   1                          яхромская улица    60.0   САО   \n",
       "\n",
       "                    area  \n",
       "0    Тимирязевский Район  \n",
       "1        Басманный район  \n",
       "2    Тимирязевский Район  \n",
       "3        Район Лефортово  \n",
       "5        Район Лефортово  \n",
       "..                   ...  \n",
       "628          Район Арбат  \n",
       "629      Район Хамовники  \n",
       "636      Район Восточный  \n",
       "637    Хорошевский район  \n",
       "638    Дмитровский район  \n",
       "\n",
       "[567 rows x 5 columns]"
      ]
     },
     "metadata": {},
     "output_type": "display_data"
    },
    {
     "name": "stdout",
     "output_type": "stream",
     "text": [
      "['САО', 'ЦАО', 'ЮВАО', 'СЗАО', 'ВАО', 'ЗАО', 'СВАО', 'ЮАО', 'Зеленоград', 'ЮЗАО']\n",
      "['ЮВАО', 'СЗАО', 'ВАО']\n"
     ]
    }
   ],
   "source": [
    "# датасетик с округами в которые входят улицы с единственным заведением\n",
    "streets_area_with_one_object = street_count_with_one_object.merge(mascow_streets,\n",
    "                                                                  how='left',\n",
    "                                                                  left_on='street',\n",
    "                                                                  right_on='streetname').dropna()\n",
    "display(streets_area_with_one_object)\n",
    "\n",
    "# датасетик с округами для улиц с единственным заведением\n",
    "non_top_okrug = list(streets_area_with_one_object['okrug'].unique())\n",
    "\n",
    "print(non_top_okrug)\n",
    "\n",
    "#  округа в которые не входят топ улиц с заведениями\n",
    "for i in top_okrug:\n",
    "    non_top_okrug.remove(i)\n",
    "        \n",
    "print(non_top_okrug)"
   ]
  },
  {
   "cell_type": "code",
   "execution_count": 43,
   "metadata": {},
   "outputs": [
    {
     "data": {
      "text/html": [
       "<div>\n",
       "<style scoped>\n",
       "    .dataframe tbody tr th:only-of-type {\n",
       "        vertical-align: middle;\n",
       "    }\n",
       "\n",
       "    .dataframe tbody tr th {\n",
       "        vertical-align: top;\n",
       "    }\n",
       "\n",
       "    .dataframe thead th {\n",
       "        text-align: right;\n",
       "    }\n",
       "</style>\n",
       "<table border=\"1\" class=\"dataframe\">\n",
       "  <thead>\n",
       "    <tr style=\"text-align: right;\">\n",
       "      <th></th>\n",
       "      <th></th>\n",
       "    </tr>\n",
       "    <tr>\n",
       "      <th>streetname</th>\n",
       "      <th>area</th>\n",
       "    </tr>\n",
       "  </thead>\n",
       "  <tbody>\n",
       "    <tr>\n",
       "      <th>1-й балтийский переулок</th>\n",
       "      <th>Район Аэропорт</th>\n",
       "    </tr>\n",
       "    <tr>\n",
       "      <th rowspan=\"2\" valign=\"top\">1-й басманный переулок</th>\n",
       "      <th>Басманный район</th>\n",
       "    </tr>\n",
       "    <tr>\n",
       "      <th>Красносельский район</th>\n",
       "    </tr>\n",
       "    <tr>\n",
       "      <th>1-й ботанический проезд</th>\n",
       "      <th>Район Свиблово</th>\n",
       "    </tr>\n",
       "    <tr>\n",
       "      <th>1-й вешняковский проезд</th>\n",
       "      <th>Рязанский район</th>\n",
       "    </tr>\n",
       "    <tr>\n",
       "      <th>...</th>\n",
       "      <th>...</th>\n",
       "    </tr>\n",
       "    <tr>\n",
       "      <th>ялтинская улица</th>\n",
       "      <th>Нагорный район</th>\n",
       "    </tr>\n",
       "    <tr>\n",
       "      <th>янтарный проезд</th>\n",
       "      <th>Лосиноостровский район</th>\n",
       "    </tr>\n",
       "    <tr>\n",
       "      <th>ясногорская улица</th>\n",
       "      <th>Район Ясенево</th>\n",
       "    </tr>\n",
       "    <tr>\n",
       "      <th>яузский бульвар</th>\n",
       "      <th>Таганский район</th>\n",
       "    </tr>\n",
       "    <tr>\n",
       "      <th>яхромская улица</th>\n",
       "      <th>Дмитровский район</th>\n",
       "    </tr>\n",
       "  </tbody>\n",
       "</table>\n",
       "<p>567 rows × 0 columns</p>\n",
       "</div>"
      ],
      "text/plain": [
       "Empty DataFrame\n",
       "Columns: []\n",
       "Index: [(1-й балтийский переулок, Район Аэропорт), (1-й басманный переулок, Басманный район), (1-й басманный переулок, Красносельский район), (1-й ботанический проезд, Район Свиблово), (1-й вешняковский проезд, Рязанский район), (1-й голутвинский переулок, Район Якиманка), (1-й зачатьевский переулок, Район Хамовники), (1-й кирпичный переулок, Район Соколиная Гора), (1-й кожевнический переулок, Даниловский район), (1-й кожуховский проезд, Даниловский район), (1-й коптельский переулок, Красносельский район), (1-й коптельский переулок, Мещанский район), (1-й котельнический переулок, Таганский район), (1-й краснокурсантский проезд, Район Лефортово), (1-й курьяновский проезд, Район Печатники), (1-й лучевой просек, Район Сокольники), (1-й люсиновский переулок, Район Замоскворечье), (1-й магистральный тупик, Хорошевский район), (1-й монетчиковский переулок, Район Замоскворечье), (1-й николощеповский переулок, Район Арбат), (1-й новокузнецкий переулок, Район Замоскворечье), (1-й обыденский переулок, Район Хамовники), (1-й проезд марьиной рощи, Район Марьина роща), (1-й рижский переулок, Алексеевский район), (1-й саратовский проезд, Район Текстильщики), (1-й сельскохозяйственный проезд, Район Ростокино), (1-й сетуньский проезд, Район Раменки), (1-й силикатный проезд, Район Хорошево-Мневники), (1-й спасоналивковский переулок, Район Якиманка), (1-й тушинский проезд, Район Покровское-Стрешнево), (1-я аэропортовская улица, Район Аэропорт), (1-я боевская улица, Район Сокольники), (1-я гражданская улица, Район Богородское), (1-я карачаровская улица, Нижегородский район), (1-я линия хорошёвского серебряного бора, Район Хорошево-Мневники), (1-я миусская улица, Тверской район), (1-я напрудная улица, Лосиноостровский район), (1-я пугачёвская улица, Район Преображенское), (1-я чоботовская аллея, Район Ново-Переделкино), (11-я парковая улица, Район Восточное Измайлово), (11-я парковая улица, Район Измайлово), (11-я парковая улица, Район Северное Измайлово), (12-й проезд марьиной рощи, Район Марьина роща), (14-я парковая улица, Район Восточное Измайлово), (17-й проезд марьиной рощи, Район Марьина роща), (2-й балтийский переулок, Район Аэропорт), (2-й боткинский проезд, Район Беговой), (2-й верхний михайловский проезд, Донской район), (2-й вышеславцев переулок, Район Марьина роща), (2-й иртышский проезд, Район Гольяново), (2-й кабельный проезд, Район Лефортово), (2-й кадашёвский переулок, Район Якиманка), (2-й колобовский переулок, Тверской район), (2-й красносельский переулок, Красносельский район), (2-й курьяновский проезд, Район Печатники), (2-й лучевой просек, Район Сокольники), (2-й магистральный тупик, Хорошевский район), (2-й неопалимовский переулок, Район Хамовники), (2-й новокузнецкий переулок, Район Замоскворечье), (2-й новоподмосковный переулок, Войковский Район), (2-й обыденский переулок, Район Хамовники), (2-й полевой переулок, Район Сокольники), (2-й рощинский проезд, Донской район), (2-й сельскохозяйственный проезд, Район Ростокино), (2-й сетуньский проезд, Район Раменки), (2-й стрелецкий проезд, Район Марьина роща), (2-й хуторской переулок, Савеловский район), (2-й щемиловский переулок, Тверской район), (2-я гражданская улица, Район Богородское), (2-я дубровская улица, Таганский район), (2-я квесисская улица, Савеловский район), (2-я напрудная улица, Лосиноостровский район), (2-я прядильная улица, Район Измайлово), (2-я сокольническая улица, Район Сокольники), (2-я улица бухвостова, Район Преображенское), (2-я улица марьиной рощи, Район Марьина роща), (2-я улица энтузиастов, Район Перово), (2-я филёвская улица, Район Филевский Парк), (2-я ямская улица, Район Марьина роща), (3-й дорожный проезд, Район Чертаново Южное), (3-й кадашёвский переулок, Район Якиманка), (3-й кожуховский проезд, Южнопортовый Район), (3-й лихачёвский переулок, Головинский район), (3-й лучевой просек, Район Сокольники), (3-й павловский переулок, Даниловский район), (3-й проезд подбельского, Район Богородское), (3-й стрелецкий проезд, Район Марьина роща), (3-й угрешский проезд, Район Печатники), (3-я железногорская улица, Район Южное Бутово), (3-я новоостанкинская улица, Останкинский район), (3-я песчаная улица, Район Сокол), (3-я песчаная улица, Хорошевский район), (3-я северная линия, Район Северный), (3-я черепковская улица, Район Кунцево), (4-й вешняковский проезд, Рязанский район), (4-й вятский переулок, Савеловский район), (4-й кожевнический переулок, Даниловский район), (4-й рощинский проезд, Даниловский район), (4-я гражданская улица, Район Богородское), (4-я кабельная улица, Район Лефортово), ...]\n",
       "\n",
       "[567 rows x 0 columns]"
      ]
     },
     "metadata": {},
     "output_type": "display_data"
    },
    {
     "name": "stdout",
     "output_type": "stream",
     "text": [
      "521\n"
     ]
    }
   ],
   "source": [
    "streets_area_with_one_object_group = pd.pivot_table(streets_area_with_one_object,\n",
    "                                             index=['streetname', 'area']\n",
    "                                            )\n",
    "\n",
    "del streets_area_with_one_object_group['areaid']\n",
    "del streets_area_with_one_object_group['id']\n",
    "\n",
    "display(streets_area_with_one_object_group)\n",
    "\n",
    "print(streets_area_with_one_object_group.reset_index()['streetname'].nunique())"
   ]
  },
  {
   "cell_type": "markdown",
   "metadata": {},
   "source": [
    "521 единичное заведение расположено на одну улицу. А также в районах ЮВАО, СЗАО и ВАО отсутствуют заведения из топовых улиц."
   ]
  },
  {
   "cell_type": "markdown",
   "metadata": {},
   "source": [
    "### Общий вывод и рекомендации:"
   ]
  },
  {
   "cell_type": "markdown",
   "metadata": {},
   "source": [
    "***Вывод***\n",
    "- В топах кафе (очень сильный отрыв от остальных типов заведений), столовая, ресторан, фаст-фуд.\n",
    "- Доля сетевых заведений небольшая - 24%. Характерно сетевое распространение в основном для Фаст-фуда. Для большинства сетевых заведений так же характерно небольшое количество посадочных мест.\n",
    "- В среднем наибольшее количество мест предоставляет столовая - 104. Ресторан - 80. Буфет - 40.\n",
    "- Большинство заведений располагаются на следующих улицах: варшавское шоссе, город зеленоград, каширское шоссе, кутузовский проспект, ленинградский проспект, ленинский проспект, пресненская набережная, проспект вернадского, проспект вернадского, проспект мира, профсоюзная улица\n",
    "- Количество единичных заведений расположенных на одну улицу - 521.\n",
    "- Оптимальное количество посадочных мест до 50"
   ]
  },
  {
   "cell_type": "markdown",
   "metadata": {},
   "source": [
    "***Рекомедации***\n",
    "- Наиболее перспективным заведением будет кафе или фастфуд с оптимальным количеством мест 30-40. У этих заведений большая вероятность перерости в сеть\n",
    "- Наиболее перспективные места - это округа ЮВАО, СЗАО, ВАО. В данных округах практически отсутствуют заведения общественного питания, следовательно, минимальная конкуренция.\n",
    "Вообще, исследование мы провели поверхностное. Касаемо района и улиц, то предполагаем что объект лучше размещать на одной из топ-10 улиц, ведь не спроста на этих улицах наибольшее количество объектов. Но эта логика тоже не совсем точна, так как все-таки самое важное - это проходимость объекта, преобладающая каста людей в радиусе в зависимости от портрета клиента. Плюс непонятно, в какие сроки инвесторы хотят отбить свои первоначальные вложения. Как правило рестораны отбиваются дольше. Так же необходимо понимать, что с выбором места размещения объекта есть множество нюансов, например, если инвесторы всё-таки склонятся к меньшим затратам и более быстрой окупаемости, то возможно выберут тип объекта - столовую с не столь большими вложениями, оформленную необычным способом. В таком случае необходимо будет проводить анализ по расположению бизнес центров, учебных заведений и других крупных объектов с большим количеством людей, готовых заходить в наше потенциальное заведение на бизнес-ланчи. "
   ]
  },
  {
   "cell_type": "markdown",
   "metadata": {},
   "source": [
    "Презентация: "
   ]
  },
  {
   "cell_type": "markdown",
   "metadata": {},
   "source": [
    "https://disk.yandex.ru/i/V8nJwsv1vOP1xQ"
   ]
  }
 ],
 "metadata": {
  "ExecuteTimeLog": [
   {
    "duration": 1240,
    "start_time": "2022-08-02T18:02:10.332Z"
   },
   {
    "duration": 75,
    "start_time": "2022-08-02T18:03:11.297Z"
   },
   {
    "duration": 117,
    "start_time": "2022-08-02T18:03:20.359Z"
   },
   {
    "duration": 6,
    "start_time": "2022-08-02T18:04:49.002Z"
   },
   {
    "duration": 18,
    "start_time": "2022-08-02T18:07:20.588Z"
   },
   {
    "duration": 13,
    "start_time": "2022-08-02T18:07:30.232Z"
   },
   {
    "duration": 22,
    "start_time": "2022-08-02T18:08:28.901Z"
   },
   {
    "duration": 96,
    "start_time": "2022-08-02T18:08:54.458Z"
   },
   {
    "duration": 19,
    "start_time": "2022-08-02T18:09:03.252Z"
   },
   {
    "duration": 14,
    "start_time": "2022-08-02T18:09:15.429Z"
   },
   {
    "duration": 15,
    "start_time": "2022-08-02T18:09:23.397Z"
   },
   {
    "duration": 8,
    "start_time": "2022-08-02T18:10:25.505Z"
   },
   {
    "duration": 5,
    "start_time": "2022-08-02T18:10:31.104Z"
   },
   {
    "duration": 3,
    "start_time": "2022-08-02T18:11:09.588Z"
   },
   {
    "duration": 64,
    "start_time": "2022-08-02T18:11:09.972Z"
   },
   {
    "duration": 14,
    "start_time": "2022-08-02T18:11:10.135Z"
   },
   {
    "duration": 20,
    "start_time": "2022-08-02T18:11:10.424Z"
   },
   {
    "duration": 18,
    "start_time": "2022-08-02T18:11:10.550Z"
   },
   {
    "duration": 6,
    "start_time": "2022-08-02T18:11:10.676Z"
   },
   {
    "duration": 4,
    "start_time": "2022-08-02T18:18:43.868Z"
   },
   {
    "duration": 432,
    "start_time": "2022-08-02T18:20:03.530Z"
   },
   {
    "duration": 386,
    "start_time": "2022-08-02T18:20:15.131Z"
   },
   {
    "duration": 404,
    "start_time": "2022-08-02T18:20:31.923Z"
   },
   {
    "duration": 355,
    "start_time": "2022-08-02T18:20:53.076Z"
   },
   {
    "duration": 444,
    "start_time": "2022-08-02T18:23:06.354Z"
   },
   {
    "duration": 111,
    "start_time": "2022-08-02T18:25:43.838Z"
   },
   {
    "duration": 393,
    "start_time": "2022-08-02T18:26:11.303Z"
   },
   {
    "duration": 49,
    "start_time": "2022-08-03T18:34:00.872Z"
   },
   {
    "duration": 1316,
    "start_time": "2022-08-03T18:34:07.840Z"
   },
   {
    "duration": 255,
    "start_time": "2022-08-03T18:34:09.158Z"
   },
   {
    "duration": 16,
    "start_time": "2022-08-03T18:34:09.415Z"
   },
   {
    "duration": 25,
    "start_time": "2022-08-03T18:34:09.434Z"
   },
   {
    "duration": 36,
    "start_time": "2022-08-03T18:34:09.461Z"
   },
   {
    "duration": 8,
    "start_time": "2022-08-03T18:34:09.499Z"
   },
   {
    "duration": 446,
    "start_time": "2022-08-03T18:34:09.509Z"
   },
   {
    "duration": 336,
    "start_time": "2022-08-03T18:34:30.072Z"
   },
   {
    "duration": 394,
    "start_time": "2022-08-03T18:34:40.452Z"
   },
   {
    "duration": 407,
    "start_time": "2022-08-03T18:34:50.695Z"
   },
   {
    "duration": 573,
    "start_time": "2022-08-03T18:40:45.954Z"
   },
   {
    "duration": 461,
    "start_time": "2022-08-03T18:40:52.653Z"
   },
   {
    "duration": 511,
    "start_time": "2022-08-03T18:40:59.565Z"
   },
   {
    "duration": 561,
    "start_time": "2022-08-03T18:41:05.641Z"
   },
   {
    "duration": 12,
    "start_time": "2022-08-03T18:41:24.002Z"
   },
   {
    "duration": 5,
    "start_time": "2022-08-03T18:42:20.137Z"
   },
   {
    "duration": 13,
    "start_time": "2022-08-03T18:42:21.084Z"
   },
   {
    "duration": 218,
    "start_time": "2022-08-03T18:42:22.096Z"
   },
   {
    "duration": 3,
    "start_time": "2022-08-03T18:42:58.575Z"
   },
   {
    "duration": 97,
    "start_time": "2022-08-03T18:42:58.979Z"
   },
   {
    "duration": 16,
    "start_time": "2022-08-03T18:42:59.263Z"
   },
   {
    "duration": 23,
    "start_time": "2022-08-03T18:42:59.632Z"
   },
   {
    "duration": 19,
    "start_time": "2022-08-03T18:42:59.849Z"
   },
   {
    "duration": 11,
    "start_time": "2022-08-03T18:43:00.067Z"
   },
   {
    "duration": 7,
    "start_time": "2022-08-03T18:43:00.276Z"
   },
   {
    "duration": 599,
    "start_time": "2022-08-03T18:43:00.679Z"
   },
   {
    "duration": 60,
    "start_time": "2022-08-03T18:44:46.630Z"
   },
   {
    "duration": 604,
    "start_time": "2022-08-03T18:44:59.376Z"
   },
   {
    "duration": 773,
    "start_time": "2022-08-03T18:45:05.585Z"
   },
   {
    "duration": 597,
    "start_time": "2022-08-03T18:45:21.137Z"
   },
   {
    "duration": 730,
    "start_time": "2022-08-03T18:45:27.982Z"
   },
   {
    "duration": 617,
    "start_time": "2022-08-03T18:45:32.509Z"
   },
   {
    "duration": 578,
    "start_time": "2022-08-03T18:45:40.234Z"
   },
   {
    "duration": 707,
    "start_time": "2022-08-03T18:45:45.447Z"
   },
   {
    "duration": 1154,
    "start_time": "2022-08-03T18:45:54.089Z"
   },
   {
    "duration": 88,
    "start_time": "2022-08-03T18:45:55.245Z"
   },
   {
    "duration": 13,
    "start_time": "2022-08-03T18:45:55.335Z"
   },
   {
    "duration": 42,
    "start_time": "2022-08-03T18:45:55.350Z"
   },
   {
    "duration": 35,
    "start_time": "2022-08-03T18:45:55.395Z"
   },
   {
    "duration": 11,
    "start_time": "2022-08-03T18:45:55.432Z"
   },
   {
    "duration": 10,
    "start_time": "2022-08-03T18:45:55.444Z"
   },
   {
    "duration": 527,
    "start_time": "2022-08-03T18:45:55.456Z"
   },
   {
    "duration": 1192,
    "start_time": "2022-08-03T18:46:08.466Z"
   },
   {
    "duration": 91,
    "start_time": "2022-08-03T18:46:09.660Z"
   },
   {
    "duration": 13,
    "start_time": "2022-08-03T18:46:09.753Z"
   },
   {
    "duration": 59,
    "start_time": "2022-08-03T18:46:09.769Z"
   },
   {
    "duration": 23,
    "start_time": "2022-08-03T18:46:09.830Z"
   },
   {
    "duration": 18,
    "start_time": "2022-08-03T18:46:09.855Z"
   },
   {
    "duration": 19,
    "start_time": "2022-08-03T18:46:09.888Z"
   },
   {
    "duration": 556,
    "start_time": "2022-08-03T18:46:09.908Z"
   },
   {
    "duration": 607,
    "start_time": "2022-08-03T18:46:20.134Z"
   },
   {
    "duration": 1235,
    "start_time": "2022-08-03T18:46:24.897Z"
   },
   {
    "duration": 103,
    "start_time": "2022-08-03T18:46:26.134Z"
   },
   {
    "duration": 19,
    "start_time": "2022-08-03T18:46:26.241Z"
   },
   {
    "duration": 54,
    "start_time": "2022-08-03T18:46:26.264Z"
   },
   {
    "duration": 24,
    "start_time": "2022-08-03T18:46:26.320Z"
   },
   {
    "duration": 11,
    "start_time": "2022-08-03T18:46:26.347Z"
   },
   {
    "duration": 65,
    "start_time": "2022-08-03T18:46:26.360Z"
   },
   {
    "duration": 606,
    "start_time": "2022-08-03T18:46:26.427Z"
   },
   {
    "duration": 1198,
    "start_time": "2022-08-03T18:46:35.449Z"
   },
   {
    "duration": 153,
    "start_time": "2022-08-03T18:46:36.650Z"
   },
   {
    "duration": 17,
    "start_time": "2022-08-03T18:46:36.810Z"
   },
   {
    "duration": 35,
    "start_time": "2022-08-03T18:46:36.829Z"
   },
   {
    "duration": 50,
    "start_time": "2022-08-03T18:46:36.866Z"
   },
   {
    "duration": 11,
    "start_time": "2022-08-03T18:46:36.917Z"
   },
   {
    "duration": 10,
    "start_time": "2022-08-03T18:46:36.931Z"
   },
   {
    "duration": 591,
    "start_time": "2022-08-03T18:46:36.943Z"
   },
   {
    "duration": 939,
    "start_time": "2022-08-03T18:48:15.990Z"
   },
   {
    "duration": 639,
    "start_time": "2022-08-03T18:48:55.630Z"
   },
   {
    "duration": 660,
    "start_time": "2022-08-03T18:49:06.626Z"
   },
   {
    "duration": 585,
    "start_time": "2022-08-03T18:49:12.950Z"
   },
   {
    "duration": 15,
    "start_time": "2022-08-03T18:52:40.884Z"
   },
   {
    "duration": 318,
    "start_time": "2022-08-03T18:52:53.665Z"
   },
   {
    "duration": 50,
    "start_time": "2022-08-03T18:54:07.153Z"
   },
   {
    "duration": 224,
    "start_time": "2022-08-03T18:54:18.018Z"
   },
   {
    "duration": 237,
    "start_time": "2022-08-03T18:55:04.175Z"
   },
   {
    "duration": 236,
    "start_time": "2022-08-03T18:55:08.024Z"
   },
   {
    "duration": 302,
    "start_time": "2022-08-03T18:55:12.968Z"
   },
   {
    "duration": 256,
    "start_time": "2022-08-03T18:56:41.371Z"
   },
   {
    "duration": 323,
    "start_time": "2022-08-03T18:56:58.427Z"
   },
   {
    "duration": 339,
    "start_time": "2022-08-03T18:58:57.250Z"
   },
   {
    "duration": 256,
    "start_time": "2022-08-03T19:00:34.122Z"
   },
   {
    "duration": 53,
    "start_time": "2022-08-03T19:02:37.921Z"
   },
   {
    "duration": 382,
    "start_time": "2022-08-03T19:05:36.761Z"
   },
   {
    "duration": 299,
    "start_time": "2022-08-03T19:07:24.957Z"
   },
   {
    "duration": 267,
    "start_time": "2022-08-03T19:07:33.868Z"
   },
   {
    "duration": 328,
    "start_time": "2022-08-03T19:07:45.827Z"
   },
   {
    "duration": 334,
    "start_time": "2022-08-03T19:07:51.950Z"
   },
   {
    "duration": 236,
    "start_time": "2022-08-03T19:09:17.422Z"
   },
   {
    "duration": 436,
    "start_time": "2022-08-03T19:10:32.438Z"
   },
   {
    "duration": 208,
    "start_time": "2022-08-03T19:11:02.020Z"
   },
   {
    "duration": 283,
    "start_time": "2022-08-03T19:13:51.567Z"
   },
   {
    "duration": 288,
    "start_time": "2022-08-03T19:14:45.517Z"
   },
   {
    "duration": 286,
    "start_time": "2022-08-03T19:15:46.135Z"
   },
   {
    "duration": 265,
    "start_time": "2022-08-03T19:15:54.339Z"
   },
   {
    "duration": 338,
    "start_time": "2022-08-03T19:15:58.680Z"
   },
   {
    "duration": 294,
    "start_time": "2022-08-03T19:16:03.530Z"
   },
   {
    "duration": 366,
    "start_time": "2022-08-03T19:16:56.761Z"
   },
   {
    "duration": 347,
    "start_time": "2022-08-03T19:17:17.162Z"
   },
   {
    "duration": 318,
    "start_time": "2022-08-03T19:17:33.229Z"
   },
   {
    "duration": 419,
    "start_time": "2022-08-03T19:18:51.717Z"
   },
   {
    "duration": 28,
    "start_time": "2022-08-03T19:19:16.532Z"
   },
   {
    "duration": 326,
    "start_time": "2022-08-03T19:19:23.653Z"
   },
   {
    "duration": 12,
    "start_time": "2022-08-03T19:19:30.171Z"
   },
   {
    "duration": 307,
    "start_time": "2022-08-03T19:19:34.840Z"
   },
   {
    "duration": 12,
    "start_time": "2022-08-03T19:20:31.951Z"
   },
   {
    "duration": 6,
    "start_time": "2022-08-03T19:20:39.446Z"
   },
   {
    "duration": 9,
    "start_time": "2022-08-03T19:20:44.640Z"
   },
   {
    "duration": 243,
    "start_time": "2022-08-03T19:21:26.369Z"
   },
   {
    "duration": 227,
    "start_time": "2022-08-03T19:22:11.341Z"
   },
   {
    "duration": 192,
    "start_time": "2022-08-03T19:22:18.648Z"
   },
   {
    "duration": 196,
    "start_time": "2022-08-03T19:24:01.551Z"
   },
   {
    "duration": 15,
    "start_time": "2022-08-03T19:24:35.345Z"
   },
   {
    "duration": 16,
    "start_time": "2022-08-03T19:24:43.325Z"
   },
   {
    "duration": 1385,
    "start_time": "2022-08-04T10:31:39.280Z"
   },
   {
    "duration": 136,
    "start_time": "2022-08-04T10:31:40.667Z"
   },
   {
    "duration": 13,
    "start_time": "2022-08-04T10:31:40.804Z"
   },
   {
    "duration": 19,
    "start_time": "2022-08-04T10:31:40.818Z"
   },
   {
    "duration": 22,
    "start_time": "2022-08-04T10:31:40.839Z"
   },
   {
    "duration": 10,
    "start_time": "2022-08-04T10:31:40.862Z"
   },
   {
    "duration": 10,
    "start_time": "2022-08-04T10:31:40.873Z"
   },
   {
    "duration": 31,
    "start_time": "2022-08-04T10:31:40.885Z"
   },
   {
    "duration": 327,
    "start_time": "2022-08-04T10:31:40.917Z"
   },
   {
    "duration": 8,
    "start_time": "2022-08-04T10:31:41.246Z"
   },
   {
    "duration": 179,
    "start_time": "2022-08-04T10:31:41.255Z"
   },
   {
    "duration": 16,
    "start_time": "2022-08-04T10:31:41.436Z"
   },
   {
    "duration": 24,
    "start_time": "2022-08-04T10:42:12.998Z"
   },
   {
    "duration": 315,
    "start_time": "2022-08-04T10:43:03.420Z"
   },
   {
    "duration": 314,
    "start_time": "2022-08-04T10:43:36.596Z"
   },
   {
    "duration": 309,
    "start_time": "2022-08-04T10:43:57.657Z"
   },
   {
    "duration": 310,
    "start_time": "2022-08-04T10:45:03.956Z"
   },
   {
    "duration": 298,
    "start_time": "2022-08-04T10:45:55.212Z"
   },
   {
    "duration": 320,
    "start_time": "2022-08-04T10:46:08.886Z"
   },
   {
    "duration": 337,
    "start_time": "2022-08-04T14:51:04.076Z"
   },
   {
    "duration": 372,
    "start_time": "2022-08-04T14:52:01.025Z"
   },
   {
    "duration": 370,
    "start_time": "2022-08-04T14:52:49.582Z"
   },
   {
    "duration": 275,
    "start_time": "2022-08-04T14:52:57.543Z"
   },
   {
    "duration": 271,
    "start_time": "2022-08-04T14:53:45.320Z"
   },
   {
    "duration": 275,
    "start_time": "2022-08-04T14:54:05.248Z"
   },
   {
    "duration": 294,
    "start_time": "2022-08-04T14:54:54.572Z"
   },
   {
    "duration": 289,
    "start_time": "2022-08-04T14:55:02.666Z"
   },
   {
    "duration": 319,
    "start_time": "2022-08-04T14:55:08.716Z"
   },
   {
    "duration": 12,
    "start_time": "2022-08-04T14:55:41.937Z"
   },
   {
    "duration": 33,
    "start_time": "2022-08-04T14:55:59.765Z"
   },
   {
    "duration": 350,
    "start_time": "2022-08-04T14:58:08.306Z"
   },
   {
    "duration": 403,
    "start_time": "2022-08-04T14:58:33.999Z"
   },
   {
    "duration": 410,
    "start_time": "2022-08-04T14:58:52.706Z"
   },
   {
    "duration": 73,
    "start_time": "2022-08-04T14:59:11.851Z"
   },
   {
    "duration": 309,
    "start_time": "2022-08-04T14:59:14.733Z"
   },
   {
    "duration": 359,
    "start_time": "2022-08-04T15:00:05.026Z"
   },
   {
    "duration": 312,
    "start_time": "2022-08-04T15:00:35.422Z"
   },
   {
    "duration": 277,
    "start_time": "2022-08-04T15:01:40.024Z"
   },
   {
    "duration": 82,
    "start_time": "2022-08-04T15:04:15.568Z"
   },
   {
    "duration": 176,
    "start_time": "2022-08-04T15:04:20.502Z"
   },
   {
    "duration": 204,
    "start_time": "2022-08-04T15:05:10.491Z"
   },
   {
    "duration": 284,
    "start_time": "2022-08-04T15:05:17.728Z"
   },
   {
    "duration": 494,
    "start_time": "2022-08-04T15:05:26.242Z"
   },
   {
    "duration": 421,
    "start_time": "2022-08-04T15:05:53.405Z"
   },
   {
    "duration": 430,
    "start_time": "2022-08-04T15:06:00.849Z"
   },
   {
    "duration": 453,
    "start_time": "2022-08-04T15:06:21.189Z"
   },
   {
    "duration": 444,
    "start_time": "2022-08-04T15:07:29.255Z"
   },
   {
    "duration": 10,
    "start_time": "2022-08-04T15:08:07.974Z"
   },
   {
    "duration": 348,
    "start_time": "2022-08-04T15:08:54.053Z"
   },
   {
    "duration": 270,
    "start_time": "2022-08-04T15:09:09.903Z"
   },
   {
    "duration": 280,
    "start_time": "2022-08-04T15:10:04.590Z"
   },
   {
    "duration": 15,
    "start_time": "2022-08-04T15:10:57.366Z"
   },
   {
    "duration": 4,
    "start_time": "2022-08-04T15:11:12.329Z"
   },
   {
    "duration": 262,
    "start_time": "2022-08-04T15:11:31.996Z"
   },
   {
    "duration": 279,
    "start_time": "2022-08-04T15:11:48.722Z"
   },
   {
    "duration": 7,
    "start_time": "2022-08-04T15:31:15.596Z"
   },
   {
    "duration": 8,
    "start_time": "2022-08-04T15:32:57.461Z"
   },
   {
    "duration": 11,
    "start_time": "2022-08-04T15:33:04.941Z"
   },
   {
    "duration": 8,
    "start_time": "2022-08-04T15:33:09.130Z"
   },
   {
    "duration": 9,
    "start_time": "2022-08-04T15:34:43.587Z"
   },
   {
    "duration": 52,
    "start_time": "2022-08-04T15:34:53.889Z"
   },
   {
    "duration": 17,
    "start_time": "2022-08-04T15:35:48.838Z"
   },
   {
    "duration": 6,
    "start_time": "2022-08-04T15:36:37.670Z"
   },
   {
    "duration": 47,
    "start_time": "2022-08-04T15:37:22.373Z"
   },
   {
    "duration": 45,
    "start_time": "2022-08-04T15:37:33.225Z"
   },
   {
    "duration": 12,
    "start_time": "2022-08-04T15:37:38.427Z"
   },
   {
    "duration": 111,
    "start_time": "2022-08-04T15:37:48.647Z"
   },
   {
    "duration": 6,
    "start_time": "2022-08-04T15:37:49.473Z"
   },
   {
    "duration": 45,
    "start_time": "2022-08-04T15:37:50.157Z"
   },
   {
    "duration": 7,
    "start_time": "2022-08-04T15:38:03.853Z"
   },
   {
    "duration": 9,
    "start_time": "2022-08-04T15:57:34.741Z"
   },
   {
    "duration": 9,
    "start_time": "2022-08-04T15:57:53.984Z"
   },
   {
    "duration": 1115,
    "start_time": "2022-08-04T15:58:36.831Z"
   },
   {
    "duration": 72,
    "start_time": "2022-08-04T15:58:37.948Z"
   },
   {
    "duration": 15,
    "start_time": "2022-08-04T15:58:38.022Z"
   },
   {
    "duration": 28,
    "start_time": "2022-08-04T15:58:38.038Z"
   },
   {
    "duration": 24,
    "start_time": "2022-08-04T15:58:38.068Z"
   },
   {
    "duration": 10,
    "start_time": "2022-08-04T15:58:38.106Z"
   },
   {
    "duration": 7,
    "start_time": "2022-08-04T15:58:38.118Z"
   },
   {
    "duration": 10,
    "start_time": "2022-08-04T15:58:38.126Z"
   },
   {
    "duration": 370,
    "start_time": "2022-08-04T15:58:38.138Z"
   },
   {
    "duration": 10,
    "start_time": "2022-08-04T15:58:38.511Z"
   },
   {
    "duration": 197,
    "start_time": "2022-08-04T15:58:38.522Z"
   },
   {
    "duration": 20,
    "start_time": "2022-08-04T15:58:38.721Z"
   },
   {
    "duration": 25,
    "start_time": "2022-08-04T15:58:38.744Z"
   },
   {
    "duration": 307,
    "start_time": "2022-08-04T15:58:38.770Z"
   },
   {
    "duration": 312,
    "start_time": "2022-08-04T15:58:39.079Z"
   },
   {
    "duration": 53,
    "start_time": "2022-08-04T15:58:39.393Z"
   },
   {
    "duration": 384,
    "start_time": "2022-08-04T15:58:39.448Z"
   },
   {
    "duration": 306,
    "start_time": "2022-08-04T15:58:39.833Z"
   },
   {
    "duration": 561,
    "start_time": "2022-08-04T15:58:40.141Z"
   },
   {
    "duration": 10,
    "start_time": "2022-08-04T15:58:40.706Z"
   },
   {
    "duration": 341,
    "start_time": "2022-08-04T15:58:40.718Z"
   },
   {
    "duration": 15,
    "start_time": "2022-08-04T15:58:41.060Z"
   },
   {
    "duration": 4,
    "start_time": "2022-08-04T15:58:41.076Z"
   },
   {
    "duration": 291,
    "start_time": "2022-08-04T15:58:41.081Z"
   },
   {
    "duration": 42,
    "start_time": "2022-08-04T15:58:41.374Z"
   },
   {
    "duration": 6,
    "start_time": "2022-08-04T15:58:41.417Z"
   },
   {
    "duration": 50,
    "start_time": "2022-08-04T15:58:41.424Z"
   },
   {
    "duration": 9,
    "start_time": "2022-08-04T15:58:41.477Z"
   },
   {
    "duration": 21,
    "start_time": "2022-08-04T15:58:41.488Z"
   },
   {
    "duration": 278,
    "start_time": "2022-08-04T15:58:41.511Z"
   },
   {
    "duration": 1119,
    "start_time": "2022-08-04T15:59:04.004Z"
   },
   {
    "duration": 73,
    "start_time": "2022-08-04T15:59:05.125Z"
   },
   {
    "duration": 12,
    "start_time": "2022-08-04T15:59:05.199Z"
   },
   {
    "duration": 20,
    "start_time": "2022-08-04T15:59:05.213Z"
   },
   {
    "duration": 22,
    "start_time": "2022-08-04T15:59:05.234Z"
   },
   {
    "duration": 10,
    "start_time": "2022-08-04T15:59:05.258Z"
   },
   {
    "duration": 7,
    "start_time": "2022-08-04T15:59:05.270Z"
   },
   {
    "duration": 28,
    "start_time": "2022-08-04T15:59:05.279Z"
   },
   {
    "duration": 355,
    "start_time": "2022-08-04T15:59:05.309Z"
   },
   {
    "duration": 9,
    "start_time": "2022-08-04T15:59:05.668Z"
   },
   {
    "duration": 181,
    "start_time": "2022-08-04T15:59:05.679Z"
   },
   {
    "duration": 16,
    "start_time": "2022-08-04T15:59:05.862Z"
   },
   {
    "duration": 41,
    "start_time": "2022-08-04T15:59:05.880Z"
   },
   {
    "duration": 342,
    "start_time": "2022-08-04T15:59:05.923Z"
   },
   {
    "duration": 329,
    "start_time": "2022-08-04T15:59:06.267Z"
   },
   {
    "duration": 36,
    "start_time": "2022-08-04T15:59:06.599Z"
   },
   {
    "duration": 352,
    "start_time": "2022-08-04T15:59:06.637Z"
   },
   {
    "duration": 330,
    "start_time": "2022-08-04T15:59:06.991Z"
   },
   {
    "duration": 577,
    "start_time": "2022-08-04T15:59:07.322Z"
   },
   {
    "duration": 11,
    "start_time": "2022-08-04T15:59:07.905Z"
   },
   {
    "duration": 312,
    "start_time": "2022-08-04T15:59:07.917Z"
   },
   {
    "duration": 17,
    "start_time": "2022-08-04T15:59:08.231Z"
   },
   {
    "duration": 10,
    "start_time": "2022-08-04T15:59:08.249Z"
   },
   {
    "duration": 331,
    "start_time": "2022-08-04T15:59:08.261Z"
   },
   {
    "duration": 47,
    "start_time": "2022-08-04T15:59:08.594Z"
   },
   {
    "duration": 7,
    "start_time": "2022-08-04T15:59:08.643Z"
   },
   {
    "duration": 60,
    "start_time": "2022-08-04T15:59:08.652Z"
   },
   {
    "duration": 10,
    "start_time": "2022-08-04T15:59:08.715Z"
   },
   {
    "duration": 18,
    "start_time": "2022-08-04T15:59:08.726Z"
   },
   {
    "duration": 1522,
    "start_time": "2022-08-04T15:59:08.746Z"
   },
   {
    "duration": 1296,
    "start_time": "2022-08-04T15:59:34.377Z"
   },
   {
    "duration": 138,
    "start_time": "2022-08-04T16:00:28.341Z"
   },
   {
    "duration": 92,
    "start_time": "2022-08-04T16:02:13.297Z"
   },
   {
    "duration": 73,
    "start_time": "2022-08-04T16:04:03.400Z"
   },
   {
    "duration": 2127,
    "start_time": "2022-08-04T16:04:34.643Z"
   },
   {
    "duration": 2609,
    "start_time": "2022-08-04T16:05:00.626Z"
   },
   {
    "duration": 1902,
    "start_time": "2022-08-04T16:05:04.480Z"
   },
   {
    "duration": 1761,
    "start_time": "2022-08-04T16:05:44.516Z"
   },
   {
    "duration": 174,
    "start_time": "2022-08-04T16:09:32.771Z"
   },
   {
    "duration": 331,
    "start_time": "2022-08-04T16:10:00.120Z"
   },
   {
    "duration": 1713,
    "start_time": "2022-08-04T16:10:04.727Z"
   },
   {
    "duration": 1260,
    "start_time": "2022-08-04T18:14:49.162Z"
   },
   {
    "duration": 1818,
    "start_time": "2022-08-04T18:15:28.800Z"
   },
   {
    "duration": 1208,
    "start_time": "2022-08-04T18:16:13.130Z"
   },
   {
    "duration": 1239,
    "start_time": "2022-08-04T18:17:28.077Z"
   },
   {
    "duration": 46,
    "start_time": "2022-08-05T17:25:12.829Z"
   },
   {
    "duration": 1372,
    "start_time": "2022-08-05T17:25:17.839Z"
   },
   {
    "duration": 271,
    "start_time": "2022-08-05T17:25:19.213Z"
   },
   {
    "duration": 13,
    "start_time": "2022-08-05T17:25:19.486Z"
   },
   {
    "duration": 25,
    "start_time": "2022-08-05T17:25:19.501Z"
   },
   {
    "duration": 19,
    "start_time": "2022-08-05T17:25:19.528Z"
   },
   {
    "duration": 10,
    "start_time": "2022-08-05T17:25:19.549Z"
   },
   {
    "duration": 8,
    "start_time": "2022-08-05T17:25:19.560Z"
   },
   {
    "duration": 10,
    "start_time": "2022-08-05T17:25:19.570Z"
   },
   {
    "duration": 380,
    "start_time": "2022-08-05T17:25:19.581Z"
   },
   {
    "duration": 8,
    "start_time": "2022-08-05T17:25:19.964Z"
   },
   {
    "duration": 188,
    "start_time": "2022-08-05T17:25:19.973Z"
   },
   {
    "duration": 16,
    "start_time": "2022-08-05T17:25:20.162Z"
   },
   {
    "duration": 23,
    "start_time": "2022-08-05T17:25:20.179Z"
   },
   {
    "duration": 323,
    "start_time": "2022-08-05T17:25:20.203Z"
   },
   {
    "duration": 314,
    "start_time": "2022-08-05T17:25:20.528Z"
   },
   {
    "duration": 34,
    "start_time": "2022-08-05T17:25:20.843Z"
   },
   {
    "duration": 384,
    "start_time": "2022-08-05T17:25:20.879Z"
   },
   {
    "duration": 304,
    "start_time": "2022-08-05T17:25:21.265Z"
   },
   {
    "duration": 557,
    "start_time": "2022-08-05T17:25:21.570Z"
   },
   {
    "duration": 16,
    "start_time": "2022-08-05T17:25:22.129Z"
   },
   {
    "duration": 303,
    "start_time": "2022-08-05T17:25:22.147Z"
   },
   {
    "duration": 15,
    "start_time": "2022-08-05T17:25:22.451Z"
   },
   {
    "duration": 3,
    "start_time": "2022-08-05T17:25:22.467Z"
   },
   {
    "duration": 303,
    "start_time": "2022-08-05T17:25:22.471Z"
   },
   {
    "duration": 38,
    "start_time": "2022-08-05T17:25:22.776Z"
   },
   {
    "duration": 22,
    "start_time": "2022-08-05T17:25:22.816Z"
   },
   {
    "duration": 55,
    "start_time": "2022-08-05T17:25:22.839Z"
   },
   {
    "duration": 9,
    "start_time": "2022-08-05T17:25:22.897Z"
   },
   {
    "duration": 27,
    "start_time": "2022-08-05T17:25:22.908Z"
   },
   {
    "duration": 1192,
    "start_time": "2022-08-05T17:25:22.937Z"
   },
   {
    "duration": 1090,
    "start_time": "2022-08-05T17:25:24.130Z"
   },
   {
    "duration": 1324,
    "start_time": "2022-08-07T13:52:50.101Z"
   },
   {
    "duration": 252,
    "start_time": "2022-08-07T13:52:51.426Z"
   },
   {
    "duration": 12,
    "start_time": "2022-08-07T13:52:51.680Z"
   },
   {
    "duration": 35,
    "start_time": "2022-08-07T13:52:51.694Z"
   },
   {
    "duration": 27,
    "start_time": "2022-08-07T13:52:51.731Z"
   },
   {
    "duration": 10,
    "start_time": "2022-08-07T13:52:51.760Z"
   },
   {
    "duration": 10,
    "start_time": "2022-08-07T13:52:51.771Z"
   },
   {
    "duration": 10,
    "start_time": "2022-08-07T13:52:51.782Z"
   },
   {
    "duration": 358,
    "start_time": "2022-08-07T13:52:51.793Z"
   },
   {
    "duration": 9,
    "start_time": "2022-08-07T13:52:52.153Z"
   },
   {
    "duration": 192,
    "start_time": "2022-08-07T13:52:52.164Z"
   },
   {
    "duration": 18,
    "start_time": "2022-08-07T13:52:52.359Z"
   },
   {
    "duration": 37,
    "start_time": "2022-08-07T13:52:52.378Z"
   },
   {
    "duration": 355,
    "start_time": "2022-08-07T13:52:52.417Z"
   },
   {
    "duration": 320,
    "start_time": "2022-08-07T13:52:52.774Z"
   },
   {
    "duration": 43,
    "start_time": "2022-08-07T13:52:53.095Z"
   },
   {
    "duration": 336,
    "start_time": "2022-08-07T13:52:53.140Z"
   },
   {
    "duration": 292,
    "start_time": "2022-08-07T13:52:53.478Z"
   },
   {
    "duration": 547,
    "start_time": "2022-08-07T13:52:53.772Z"
   },
   {
    "duration": 11,
    "start_time": "2022-08-07T13:52:54.320Z"
   },
   {
    "duration": 300,
    "start_time": "2022-08-07T13:52:54.332Z"
   },
   {
    "duration": 14,
    "start_time": "2022-08-07T13:52:54.633Z"
   },
   {
    "duration": 4,
    "start_time": "2022-08-07T13:52:54.648Z"
   },
   {
    "duration": 309,
    "start_time": "2022-08-07T13:52:54.653Z"
   },
   {
    "duration": 36,
    "start_time": "2022-08-07T13:52:54.964Z"
   },
   {
    "duration": 5,
    "start_time": "2022-08-07T13:52:55.011Z"
   },
   {
    "duration": 50,
    "start_time": "2022-08-07T13:52:55.018Z"
   },
   {
    "duration": 8,
    "start_time": "2022-08-07T13:52:55.071Z"
   },
   {
    "duration": 10,
    "start_time": "2022-08-07T13:52:55.081Z"
   },
   {
    "duration": 1111,
    "start_time": "2022-08-07T13:52:55.110Z"
   },
   {
    "duration": 50,
    "start_time": "2022-08-07T13:59:37.069Z"
   },
   {
    "duration": 999,
    "start_time": "2022-08-07T13:59:42.281Z"
   },
   {
    "duration": 15,
    "start_time": "2022-08-07T14:03:55.442Z"
   },
   {
    "duration": 124,
    "start_time": "2022-08-07T14:05:58.503Z"
   },
   {
    "duration": 15,
    "start_time": "2022-08-07T14:06:19.262Z"
   },
   {
    "duration": 17,
    "start_time": "2022-08-07T14:06:37.730Z"
   },
   {
    "duration": 310,
    "start_time": "2022-08-07T14:09:42.782Z"
   },
   {
    "duration": 20,
    "start_time": "2022-08-07T14:17:22.441Z"
   },
   {
    "duration": 21,
    "start_time": "2022-08-07T14:18:51.811Z"
   },
   {
    "duration": 7,
    "start_time": "2022-08-07T15:13:03.253Z"
   },
   {
    "duration": 20,
    "start_time": "2022-08-07T15:13:50.399Z"
   },
   {
    "duration": 28,
    "start_time": "2022-08-07T15:14:09.442Z"
   },
   {
    "duration": 19,
    "start_time": "2022-08-07T15:14:39.782Z"
   },
   {
    "duration": 17,
    "start_time": "2022-08-07T15:15:13.922Z"
   },
   {
    "duration": 1304,
    "start_time": "2022-08-09T08:42:07.231Z"
   },
   {
    "duration": 291,
    "start_time": "2022-08-09T08:42:08.538Z"
   },
   {
    "duration": 12,
    "start_time": "2022-08-09T08:42:08.831Z"
   },
   {
    "duration": 23,
    "start_time": "2022-08-09T08:42:08.844Z"
   },
   {
    "duration": 18,
    "start_time": "2022-08-09T08:42:08.869Z"
   },
   {
    "duration": 10,
    "start_time": "2022-08-09T08:42:08.889Z"
   },
   {
    "duration": 20,
    "start_time": "2022-08-09T08:42:08.900Z"
   },
   {
    "duration": 13,
    "start_time": "2022-08-09T08:42:08.921Z"
   },
   {
    "duration": 351,
    "start_time": "2022-08-09T08:42:08.935Z"
   },
   {
    "duration": 9,
    "start_time": "2022-08-09T08:42:09.288Z"
   },
   {
    "duration": 211,
    "start_time": "2022-08-09T08:42:09.299Z"
   },
   {
    "duration": 16,
    "start_time": "2022-08-09T08:42:09.513Z"
   },
   {
    "duration": 23,
    "start_time": "2022-08-09T08:42:09.530Z"
   },
   {
    "duration": 308,
    "start_time": "2022-08-09T08:42:09.555Z"
   },
   {
    "duration": 323,
    "start_time": "2022-08-09T08:42:09.865Z"
   },
   {
    "duration": 35,
    "start_time": "2022-08-09T08:42:10.190Z"
   },
   {
    "duration": 389,
    "start_time": "2022-08-09T08:42:10.227Z"
   },
   {
    "duration": 330,
    "start_time": "2022-08-09T08:42:10.617Z"
   },
   {
    "duration": 560,
    "start_time": "2022-08-09T08:42:10.948Z"
   },
   {
    "duration": 13,
    "start_time": "2022-08-09T08:42:11.509Z"
   },
   {
    "duration": 309,
    "start_time": "2022-08-09T08:42:11.523Z"
   },
   {
    "duration": 15,
    "start_time": "2022-08-09T08:42:11.834Z"
   },
   {
    "duration": 3,
    "start_time": "2022-08-09T08:42:11.851Z"
   },
   {
    "duration": 316,
    "start_time": "2022-08-09T08:42:11.855Z"
   },
   {
    "duration": 42,
    "start_time": "2022-08-09T08:42:12.172Z"
   },
   {
    "duration": 10,
    "start_time": "2022-08-09T08:42:12.216Z"
   },
   {
    "duration": 58,
    "start_time": "2022-08-09T08:42:12.228Z"
   },
   {
    "duration": 9,
    "start_time": "2022-08-09T08:42:12.288Z"
   },
   {
    "duration": 29,
    "start_time": "2022-08-09T08:42:12.298Z"
   },
   {
    "duration": 1124,
    "start_time": "2022-08-09T08:42:12.328Z"
   },
   {
    "duration": 16,
    "start_time": "2022-08-09T08:42:13.454Z"
   },
   {
    "duration": 313,
    "start_time": "2022-08-09T08:42:13.471Z"
   },
   {
    "duration": 21,
    "start_time": "2022-08-09T08:42:13.786Z"
   },
   {
    "duration": 5,
    "start_time": "2022-08-09T08:42:13.809Z"
   },
   {
    "duration": 20,
    "start_time": "2022-08-09T08:42:13.816Z"
   },
   {
    "duration": 53,
    "start_time": "2022-08-09T08:42:13.838Z"
   },
   {
    "duration": 1286,
    "start_time": "2022-08-09T13:02:13.711Z"
   },
   {
    "duration": 126,
    "start_time": "2022-08-09T13:02:14.999Z"
   },
   {
    "duration": 12,
    "start_time": "2022-08-09T13:02:15.126Z"
   },
   {
    "duration": 22,
    "start_time": "2022-08-09T13:02:15.139Z"
   },
   {
    "duration": 16,
    "start_time": "2022-08-09T13:02:15.162Z"
   },
   {
    "duration": 9,
    "start_time": "2022-08-09T13:02:15.180Z"
   },
   {
    "duration": 9,
    "start_time": "2022-08-09T13:02:15.190Z"
   },
   {
    "duration": 11,
    "start_time": "2022-08-09T13:02:15.201Z"
   },
   {
    "duration": 308,
    "start_time": "2022-08-09T13:02:15.213Z"
   },
   {
    "duration": 8,
    "start_time": "2022-08-09T13:02:15.523Z"
   },
   {
    "duration": 178,
    "start_time": "2022-08-09T13:02:15.532Z"
   },
   {
    "duration": 19,
    "start_time": "2022-08-09T13:02:15.712Z"
   },
   {
    "duration": 22,
    "start_time": "2022-08-09T13:02:15.732Z"
   },
   {
    "duration": 272,
    "start_time": "2022-08-09T13:02:15.756Z"
   },
   {
    "duration": 278,
    "start_time": "2022-08-09T13:02:16.030Z"
   },
   {
    "duration": 35,
    "start_time": "2022-08-09T13:02:16.310Z"
   },
   {
    "duration": 327,
    "start_time": "2022-08-09T13:02:16.347Z"
   },
   {
    "duration": 284,
    "start_time": "2022-08-09T13:02:16.676Z"
   },
   {
    "duration": 506,
    "start_time": "2022-08-09T13:02:16.962Z"
   },
   {
    "duration": 12,
    "start_time": "2022-08-09T13:02:17.469Z"
   },
   {
    "duration": 301,
    "start_time": "2022-08-09T13:02:17.483Z"
   },
   {
    "duration": 15,
    "start_time": "2022-08-09T13:02:17.786Z"
   },
   {
    "duration": 3,
    "start_time": "2022-08-09T13:02:17.802Z"
   },
   {
    "duration": 278,
    "start_time": "2022-08-09T13:02:17.806Z"
   },
   {
    "duration": 35,
    "start_time": "2022-08-09T13:02:18.085Z"
   },
   {
    "duration": 5,
    "start_time": "2022-08-09T13:02:18.130Z"
   },
   {
    "duration": 44,
    "start_time": "2022-08-09T13:02:18.137Z"
   },
   {
    "duration": 9,
    "start_time": "2022-08-09T13:02:18.183Z"
   },
   {
    "duration": 7,
    "start_time": "2022-08-09T13:02:18.193Z"
   },
   {
    "duration": 1037,
    "start_time": "2022-08-09T13:02:18.202Z"
   },
   {
    "duration": 15,
    "start_time": "2022-08-09T13:02:19.240Z"
   },
   {
    "duration": 300,
    "start_time": "2022-08-09T13:02:19.256Z"
   },
   {
    "duration": 20,
    "start_time": "2022-08-09T13:02:19.557Z"
   },
   {
    "duration": 5,
    "start_time": "2022-08-09T13:02:19.578Z"
   },
   {
    "duration": 18,
    "start_time": "2022-08-09T13:02:19.584Z"
   },
   {
    "duration": 47,
    "start_time": "2022-08-09T13:02:19.604Z"
   },
   {
    "duration": 166,
    "start_time": "2022-08-09T13:02:47.000Z"
   },
   {
    "duration": 1334,
    "start_time": "2022-08-10T07:32:29.831Z"
   },
   {
    "duration": 130,
    "start_time": "2022-08-10T07:32:31.168Z"
   },
   {
    "duration": 14,
    "start_time": "2022-08-10T07:32:31.300Z"
   },
   {
    "duration": 25,
    "start_time": "2022-08-10T07:32:31.317Z"
   },
   {
    "duration": 22,
    "start_time": "2022-08-10T07:32:31.343Z"
   },
   {
    "duration": 10,
    "start_time": "2022-08-10T07:32:31.366Z"
   },
   {
    "duration": 8,
    "start_time": "2022-08-10T07:32:31.378Z"
   },
   {
    "duration": 11,
    "start_time": "2022-08-10T07:32:31.388Z"
   },
   {
    "duration": 372,
    "start_time": "2022-08-10T07:32:31.401Z"
   },
   {
    "duration": 9,
    "start_time": "2022-08-10T07:32:31.775Z"
   },
   {
    "duration": 180,
    "start_time": "2022-08-10T07:32:31.785Z"
   },
   {
    "duration": 15,
    "start_time": "2022-08-10T07:32:31.967Z"
   },
   {
    "duration": 22,
    "start_time": "2022-08-10T07:32:31.983Z"
   },
   {
    "duration": 294,
    "start_time": "2022-08-10T07:32:32.007Z"
   },
   {
    "duration": 279,
    "start_time": "2022-08-10T07:32:32.303Z"
   },
   {
    "duration": 28,
    "start_time": "2022-08-10T07:32:32.584Z"
   },
   {
    "duration": 337,
    "start_time": "2022-08-10T07:32:32.614Z"
   },
   {
    "duration": 307,
    "start_time": "2022-08-10T07:32:32.954Z"
   },
   {
    "duration": 539,
    "start_time": "2022-08-10T07:32:33.262Z"
   },
   {
    "duration": 12,
    "start_time": "2022-08-10T07:32:33.803Z"
   },
   {
    "duration": 272,
    "start_time": "2022-08-10T07:32:33.817Z"
   },
   {
    "duration": 14,
    "start_time": "2022-08-10T07:32:34.090Z"
   },
   {
    "duration": 3,
    "start_time": "2022-08-10T07:32:34.105Z"
   },
   {
    "duration": 277,
    "start_time": "2022-08-10T07:32:34.109Z"
   },
   {
    "duration": 33,
    "start_time": "2022-08-10T07:32:34.387Z"
   },
   {
    "duration": 5,
    "start_time": "2022-08-10T07:32:34.422Z"
   },
   {
    "duration": 62,
    "start_time": "2022-08-10T07:32:34.428Z"
   },
   {
    "duration": 8,
    "start_time": "2022-08-10T07:32:34.493Z"
   },
   {
    "duration": 6,
    "start_time": "2022-08-10T07:32:34.503Z"
   },
   {
    "duration": 1383,
    "start_time": "2022-08-10T07:32:34.511Z"
   },
   {
    "duration": 17,
    "start_time": "2022-08-10T07:32:35.895Z"
   },
   {
    "duration": 320,
    "start_time": "2022-08-10T07:32:35.913Z"
   },
   {
    "duration": 30,
    "start_time": "2022-08-10T07:32:36.235Z"
   },
   {
    "duration": 7,
    "start_time": "2022-08-10T07:32:36.266Z"
   },
   {
    "duration": 19,
    "start_time": "2022-08-10T07:32:36.274Z"
   },
   {
    "duration": 25,
    "start_time": "2022-08-10T07:32:36.294Z"
   },
   {
    "duration": 10,
    "start_time": "2022-08-10T08:06:03.616Z"
   },
   {
    "duration": 10,
    "start_time": "2022-08-10T08:08:04.741Z"
   },
   {
    "duration": 4,
    "start_time": "2022-08-10T08:08:22.613Z"
   },
   {
    "duration": 126,
    "start_time": "2022-08-10T08:17:33.349Z"
   },
   {
    "duration": 111,
    "start_time": "2022-08-10T08:17:38.362Z"
   },
   {
    "duration": 459,
    "start_time": "2022-08-10T08:17:51.285Z"
   },
   {
    "duration": 49,
    "start_time": "2022-08-10T08:54:25.537Z"
   },
   {
    "duration": 1422,
    "start_time": "2022-08-10T08:54:32.593Z"
   },
   {
    "duration": 248,
    "start_time": "2022-08-10T08:54:34.017Z"
   },
   {
    "duration": 13,
    "start_time": "2022-08-10T08:54:34.266Z"
   },
   {
    "duration": 25,
    "start_time": "2022-08-10T08:54:34.282Z"
   },
   {
    "duration": 21,
    "start_time": "2022-08-10T08:54:34.981Z"
   },
   {
    "duration": 14,
    "start_time": "2022-08-10T08:54:35.698Z"
   },
   {
    "duration": 10,
    "start_time": "2022-08-10T08:54:36.123Z"
   },
   {
    "duration": 6,
    "start_time": "2022-08-10T08:54:37.217Z"
   },
   {
    "duration": 13,
    "start_time": "2022-08-10T08:54:38.641Z"
   },
   {
    "duration": 376,
    "start_time": "2022-08-10T08:54:39.027Z"
   },
   {
    "duration": 29,
    "start_time": "2022-08-10T09:00:42.706Z"
   },
   {
    "duration": 16,
    "start_time": "2022-08-10T09:01:16.296Z"
   },
   {
    "duration": 13,
    "start_time": "2022-08-10T09:01:25.257Z"
   },
   {
    "duration": 14,
    "start_time": "2022-08-10T09:01:27.514Z"
   },
   {
    "duration": 15,
    "start_time": "2022-08-10T09:01:39.596Z"
   },
   {
    "duration": 14,
    "start_time": "2022-08-10T09:01:41.699Z"
   },
   {
    "duration": 14,
    "start_time": "2022-08-10T09:01:53.226Z"
   },
   {
    "duration": 18,
    "start_time": "2022-08-10T09:20:17.625Z"
   },
   {
    "duration": 19,
    "start_time": "2022-08-10T09:20:36.794Z"
   },
   {
    "duration": 18,
    "start_time": "2022-08-10T09:20:51.722Z"
   },
   {
    "duration": 18,
    "start_time": "2022-08-10T09:21:25.873Z"
   },
   {
    "duration": 1137,
    "start_time": "2022-08-10T09:21:39.774Z"
   },
   {
    "duration": 80,
    "start_time": "2022-08-10T09:21:40.913Z"
   },
   {
    "duration": 12,
    "start_time": "2022-08-10T09:21:40.995Z"
   },
   {
    "duration": 20,
    "start_time": "2022-08-10T09:21:41.008Z"
   },
   {
    "duration": 20,
    "start_time": "2022-08-10T09:21:41.030Z"
   },
   {
    "duration": 14,
    "start_time": "2022-08-10T09:21:41.051Z"
   },
   {
    "duration": 15,
    "start_time": "2022-08-10T09:21:41.067Z"
   },
   {
    "duration": 40,
    "start_time": "2022-08-10T09:21:41.083Z"
   },
   {
    "duration": 8,
    "start_time": "2022-08-10T09:21:41.124Z"
   },
   {
    "duration": 11,
    "start_time": "2022-08-10T09:21:41.133Z"
   },
   {
    "duration": 365,
    "start_time": "2022-08-10T09:21:41.146Z"
   },
   {
    "duration": 10,
    "start_time": "2022-08-10T09:21:41.512Z"
   },
   {
    "duration": 205,
    "start_time": "2022-08-10T09:21:41.524Z"
   },
   {
    "duration": 15,
    "start_time": "2022-08-10T09:21:41.733Z"
   },
   {
    "duration": 25,
    "start_time": "2022-08-10T09:21:41.750Z"
   },
   {
    "duration": 328,
    "start_time": "2022-08-10T09:21:41.776Z"
   },
   {
    "duration": 325,
    "start_time": "2022-08-10T09:21:42.110Z"
   },
   {
    "duration": 35,
    "start_time": "2022-08-10T09:21:42.437Z"
   },
   {
    "duration": 444,
    "start_time": "2022-08-10T09:21:42.474Z"
   },
   {
    "duration": 302,
    "start_time": "2022-08-10T09:21:42.919Z"
   },
   {
    "duration": 582,
    "start_time": "2022-08-10T09:21:43.222Z"
   },
   {
    "duration": 14,
    "start_time": "2022-08-10T09:21:43.806Z"
   },
   {
    "duration": 320,
    "start_time": "2022-08-10T09:21:43.822Z"
   },
   {
    "duration": 15,
    "start_time": "2022-08-10T09:21:44.144Z"
   },
   {
    "duration": 3,
    "start_time": "2022-08-10T09:21:44.160Z"
   },
   {
    "duration": 313,
    "start_time": "2022-08-10T09:21:44.165Z"
   },
   {
    "duration": 42,
    "start_time": "2022-08-10T09:21:44.479Z"
   },
   {
    "duration": 8,
    "start_time": "2022-08-10T09:21:44.523Z"
   },
   {
    "duration": 50,
    "start_time": "2022-08-10T09:21:44.533Z"
   },
   {
    "duration": 9,
    "start_time": "2022-08-10T09:21:44.585Z"
   },
   {
    "duration": 21,
    "start_time": "2022-08-10T09:21:44.595Z"
   },
   {
    "duration": 1215,
    "start_time": "2022-08-10T09:21:44.617Z"
   },
   {
    "duration": 16,
    "start_time": "2022-08-10T09:21:45.833Z"
   },
   {
    "duration": 347,
    "start_time": "2022-08-10T09:21:45.851Z"
   },
   {
    "duration": 29,
    "start_time": "2022-08-10T09:21:46.199Z"
   },
   {
    "duration": 9,
    "start_time": "2022-08-10T09:21:46.230Z"
   },
   {
    "duration": 27,
    "start_time": "2022-08-10T09:21:46.240Z"
   },
   {
    "duration": 47,
    "start_time": "2022-08-10T09:21:46.269Z"
   },
   {
    "duration": 29,
    "start_time": "2022-08-10T09:24:40.791Z"
   },
   {
    "duration": 10,
    "start_time": "2022-08-10T09:25:26.255Z"
   },
   {
    "duration": 10,
    "start_time": "2022-08-10T09:25:28.830Z"
   },
   {
    "duration": 10,
    "start_time": "2022-08-10T09:25:30.262Z"
   },
   {
    "duration": 6,
    "start_time": "2022-08-10T09:26:11.933Z"
   },
   {
    "duration": 10,
    "start_time": "2022-08-10T09:26:12.879Z"
   },
   {
    "duration": 11,
    "start_time": "2022-08-10T09:27:07.151Z"
   },
   {
    "duration": 11,
    "start_time": "2022-08-10T09:27:37.773Z"
   },
   {
    "duration": 11,
    "start_time": "2022-08-10T09:27:57.174Z"
   },
   {
    "duration": 11,
    "start_time": "2022-08-10T09:27:59.791Z"
   },
   {
    "duration": 9,
    "start_time": "2022-08-10T09:28:25.854Z"
   },
   {
    "duration": 10,
    "start_time": "2022-08-10T09:28:40.838Z"
   },
   {
    "duration": 10,
    "start_time": "2022-08-10T09:29:05.774Z"
   },
   {
    "duration": 11,
    "start_time": "2022-08-10T09:29:18.831Z"
   },
   {
    "duration": 7,
    "start_time": "2022-08-10T09:29:22.358Z"
   },
   {
    "duration": 9,
    "start_time": "2022-08-10T09:29:23.333Z"
   },
   {
    "duration": 10,
    "start_time": "2022-08-10T09:29:38.111Z"
   },
   {
    "duration": 12,
    "start_time": "2022-08-10T09:30:17.782Z"
   },
   {
    "duration": 8,
    "start_time": "2022-08-10T09:30:20.094Z"
   },
   {
    "duration": 10,
    "start_time": "2022-08-10T09:30:20.694Z"
   },
   {
    "duration": 11,
    "start_time": "2022-08-10T09:30:50.293Z"
   },
   {
    "duration": 15,
    "start_time": "2022-08-10T09:30:55.333Z"
   },
   {
    "duration": 14,
    "start_time": "2022-08-10T09:30:59.493Z"
   },
   {
    "duration": 12,
    "start_time": "2022-08-10T09:32:26.510Z"
   },
   {
    "duration": 52,
    "start_time": "2022-08-10T09:32:46.773Z"
   },
   {
    "duration": 129,
    "start_time": "2022-08-10T09:33:39.151Z"
   },
   {
    "duration": 11,
    "start_time": "2022-08-10T09:33:55.430Z"
   },
   {
    "duration": 11,
    "start_time": "2022-08-10T09:34:03.662Z"
   },
   {
    "duration": 8,
    "start_time": "2022-08-10T09:35:49.988Z"
   },
   {
    "duration": 9,
    "start_time": "2022-08-10T09:35:51.493Z"
   },
   {
    "duration": 12,
    "start_time": "2022-08-10T09:35:52.854Z"
   },
   {
    "duration": 12,
    "start_time": "2022-08-10T09:36:53.456Z"
   },
   {
    "duration": 13,
    "start_time": "2022-08-10T09:36:54.863Z"
   },
   {
    "duration": 13,
    "start_time": "2022-08-10T09:36:55.599Z"
   },
   {
    "duration": 1223,
    "start_time": "2022-08-10T09:37:03.422Z"
   },
   {
    "duration": 82,
    "start_time": "2022-08-10T09:37:04.647Z"
   },
   {
    "duration": 19,
    "start_time": "2022-08-10T09:37:04.732Z"
   },
   {
    "duration": 24,
    "start_time": "2022-08-10T09:37:04.754Z"
   },
   {
    "duration": 44,
    "start_time": "2022-08-10T09:37:04.781Z"
   },
   {
    "duration": 26,
    "start_time": "2022-08-10T09:37:04.827Z"
   },
   {
    "duration": 22,
    "start_time": "2022-08-10T09:37:04.855Z"
   },
   {
    "duration": 45,
    "start_time": "2022-08-10T09:37:04.880Z"
   },
   {
    "duration": 39,
    "start_time": "2022-08-10T09:37:04.927Z"
   },
   {
    "duration": 13,
    "start_time": "2022-08-10T09:37:04.968Z"
   },
   {
    "duration": 21,
    "start_time": "2022-08-10T09:37:04.983Z"
   },
   {
    "duration": 390,
    "start_time": "2022-08-10T09:37:05.005Z"
   },
   {
    "duration": 12,
    "start_time": "2022-08-10T09:37:05.398Z"
   },
   {
    "duration": 235,
    "start_time": "2022-08-10T09:37:05.415Z"
   },
   {
    "duration": 18,
    "start_time": "2022-08-10T09:37:05.652Z"
   },
   {
    "duration": 40,
    "start_time": "2022-08-10T09:37:05.672Z"
   },
   {
    "duration": 315,
    "start_time": "2022-08-10T09:37:05.714Z"
   },
   {
    "duration": 318,
    "start_time": "2022-08-10T09:37:06.031Z"
   },
   {
    "duration": 40,
    "start_time": "2022-08-10T09:37:06.351Z"
   },
   {
    "duration": 364,
    "start_time": "2022-08-10T09:37:06.393Z"
   },
   {
    "duration": 305,
    "start_time": "2022-08-10T09:37:06.759Z"
   },
   {
    "duration": 560,
    "start_time": "2022-08-10T09:37:07.066Z"
   },
   {
    "duration": 14,
    "start_time": "2022-08-10T09:37:07.628Z"
   },
   {
    "duration": 306,
    "start_time": "2022-08-10T09:37:07.643Z"
   },
   {
    "duration": 15,
    "start_time": "2022-08-10T09:37:07.950Z"
   },
   {
    "duration": 5,
    "start_time": "2022-08-10T09:37:07.968Z"
   },
   {
    "duration": 357,
    "start_time": "2022-08-10T09:37:07.974Z"
   },
   {
    "duration": 36,
    "start_time": "2022-08-10T09:37:08.333Z"
   },
   {
    "duration": 8,
    "start_time": "2022-08-10T09:37:08.370Z"
   },
   {
    "duration": 64,
    "start_time": "2022-08-10T09:37:08.379Z"
   },
   {
    "duration": 10,
    "start_time": "2022-08-10T09:37:08.445Z"
   },
   {
    "duration": 9,
    "start_time": "2022-08-10T09:37:08.457Z"
   },
   {
    "duration": 939,
    "start_time": "2022-08-10T09:37:08.468Z"
   },
   {
    "duration": 16,
    "start_time": "2022-08-10T09:37:09.409Z"
   },
   {
    "duration": 350,
    "start_time": "2022-08-10T09:37:09.426Z"
   },
   {
    "duration": 42,
    "start_time": "2022-08-10T09:37:09.777Z"
   },
   {
    "duration": 7,
    "start_time": "2022-08-10T09:37:09.820Z"
   },
   {
    "duration": 21,
    "start_time": "2022-08-10T09:37:09.828Z"
   },
   {
    "duration": 65,
    "start_time": "2022-08-10T09:37:09.851Z"
   },
   {
    "duration": 14,
    "start_time": "2022-08-10T09:37:34.054Z"
   },
   {
    "duration": 6,
    "start_time": "2022-08-10T09:37:40.702Z"
   },
   {
    "duration": 11,
    "start_time": "2022-08-10T09:37:41.349Z"
   },
   {
    "duration": 274,
    "start_time": "2022-08-10T09:37:48.053Z"
   },
   {
    "duration": 1149,
    "start_time": "2022-08-10T09:42:45.617Z"
   },
   {
    "duration": 82,
    "start_time": "2022-08-10T09:42:46.767Z"
   },
   {
    "duration": 13,
    "start_time": "2022-08-10T09:42:46.851Z"
   },
   {
    "duration": 26,
    "start_time": "2022-08-10T09:42:46.865Z"
   },
   {
    "duration": 40,
    "start_time": "2022-08-10T09:42:46.893Z"
   },
   {
    "duration": 17,
    "start_time": "2022-08-10T09:42:46.935Z"
   },
   {
    "duration": 18,
    "start_time": "2022-08-10T09:42:46.954Z"
   },
   {
    "duration": 11,
    "start_time": "2022-08-10T09:42:46.974Z"
   },
   {
    "duration": 30,
    "start_time": "2022-08-10T09:42:46.987Z"
   },
   {
    "duration": 13,
    "start_time": "2022-08-10T09:42:47.019Z"
   },
   {
    "duration": 21,
    "start_time": "2022-08-10T09:42:47.033Z"
   },
   {
    "duration": 332,
    "start_time": "2022-08-10T09:42:47.055Z"
   },
   {
    "duration": 9,
    "start_time": "2022-08-10T09:42:47.388Z"
   },
   {
    "duration": 201,
    "start_time": "2022-08-10T09:42:47.400Z"
   },
   {
    "duration": 21,
    "start_time": "2022-08-10T09:42:47.602Z"
   },
   {
    "duration": 24,
    "start_time": "2022-08-10T09:42:47.625Z"
   },
   {
    "duration": 287,
    "start_time": "2022-08-10T09:42:47.650Z"
   },
   {
    "duration": 291,
    "start_time": "2022-08-10T09:42:47.938Z"
   },
   {
    "duration": 40,
    "start_time": "2022-08-10T09:42:48.230Z"
   },
   {
    "duration": 359,
    "start_time": "2022-08-10T09:42:48.271Z"
   },
   {
    "duration": 292,
    "start_time": "2022-08-10T09:42:48.632Z"
   },
   {
    "duration": 524,
    "start_time": "2022-08-10T09:42:48.926Z"
   },
   {
    "duration": 15,
    "start_time": "2022-08-10T09:42:49.452Z"
   },
   {
    "duration": 281,
    "start_time": "2022-08-10T09:42:49.469Z"
   },
   {
    "duration": 15,
    "start_time": "2022-08-10T09:42:49.751Z"
   },
   {
    "duration": 3,
    "start_time": "2022-08-10T09:42:49.767Z"
   },
   {
    "duration": 290,
    "start_time": "2022-08-10T09:42:49.772Z"
   },
   {
    "duration": 36,
    "start_time": "2022-08-10T09:42:50.063Z"
   },
   {
    "duration": 15,
    "start_time": "2022-08-10T09:42:50.100Z"
   },
   {
    "duration": 47,
    "start_time": "2022-08-10T09:42:50.116Z"
   },
   {
    "duration": 8,
    "start_time": "2022-08-10T09:42:50.165Z"
   },
   {
    "duration": 7,
    "start_time": "2022-08-10T09:42:50.174Z"
   },
   {
    "duration": 748,
    "start_time": "2022-08-10T09:42:50.182Z"
   },
   {
    "duration": 17,
    "start_time": "2022-08-10T09:42:50.931Z"
   },
   {
    "duration": 347,
    "start_time": "2022-08-10T09:42:50.949Z"
   },
   {
    "duration": 31,
    "start_time": "2022-08-10T09:42:51.297Z"
   },
   {
    "duration": 7,
    "start_time": "2022-08-10T09:42:51.330Z"
   },
   {
    "duration": 22,
    "start_time": "2022-08-10T09:42:51.339Z"
   },
   {
    "duration": 58,
    "start_time": "2022-08-10T09:42:51.363Z"
   },
   {
    "duration": 281,
    "start_time": "2022-08-10T09:43:17.065Z"
   },
   {
    "duration": 196,
    "start_time": "2022-08-10T09:43:31.154Z"
   },
   {
    "duration": 203,
    "start_time": "2022-08-10T09:43:38.465Z"
   },
   {
    "duration": 337,
    "start_time": "2022-08-10T09:43:47.937Z"
   },
   {
    "duration": 1108,
    "start_time": "2022-08-10T09:44:05.143Z"
   },
   {
    "duration": 79,
    "start_time": "2022-08-10T09:44:06.254Z"
   },
   {
    "duration": 14,
    "start_time": "2022-08-10T09:44:06.334Z"
   },
   {
    "duration": 21,
    "start_time": "2022-08-10T09:44:06.349Z"
   },
   {
    "duration": 38,
    "start_time": "2022-08-10T09:44:06.373Z"
   },
   {
    "duration": 15,
    "start_time": "2022-08-10T09:44:06.412Z"
   },
   {
    "duration": 28,
    "start_time": "2022-08-10T09:44:06.429Z"
   },
   {
    "duration": 11,
    "start_time": "2022-08-10T09:44:06.458Z"
   },
   {
    "duration": 10,
    "start_time": "2022-08-10T09:44:06.470Z"
   },
   {
    "duration": 6,
    "start_time": "2022-08-10T09:44:06.482Z"
   },
   {
    "duration": 28,
    "start_time": "2022-08-10T09:44:06.490Z"
   },
   {
    "duration": 299,
    "start_time": "2022-08-10T09:44:06.520Z"
   },
   {
    "duration": 9,
    "start_time": "2022-08-10T09:44:06.821Z"
   },
   {
    "duration": 193,
    "start_time": "2022-08-10T09:44:06.834Z"
   },
   {
    "duration": 14,
    "start_time": "2022-08-10T09:44:07.029Z"
   },
   {
    "duration": 23,
    "start_time": "2022-08-10T09:44:07.044Z"
   },
   {
    "duration": 281,
    "start_time": "2022-08-10T09:44:07.068Z"
   },
   {
    "duration": 303,
    "start_time": "2022-08-10T09:44:07.351Z"
   },
   {
    "duration": 30,
    "start_time": "2022-08-10T09:44:07.656Z"
   },
   {
    "duration": 358,
    "start_time": "2022-08-10T09:44:07.688Z"
   },
   {
    "duration": 293,
    "start_time": "2022-08-10T09:44:08.047Z"
   },
   {
    "duration": 525,
    "start_time": "2022-08-10T09:44:08.342Z"
   },
   {
    "duration": 11,
    "start_time": "2022-08-10T09:44:08.869Z"
   },
   {
    "duration": 278,
    "start_time": "2022-08-10T09:44:08.882Z"
   },
   {
    "duration": 14,
    "start_time": "2022-08-10T09:44:09.162Z"
   },
   {
    "duration": 3,
    "start_time": "2022-08-10T09:44:09.177Z"
   },
   {
    "duration": 310,
    "start_time": "2022-08-10T09:44:09.182Z"
   },
   {
    "duration": 54,
    "start_time": "2022-08-10T09:44:09.493Z"
   },
   {
    "duration": 5,
    "start_time": "2022-08-10T09:44:09.549Z"
   },
   {
    "duration": 64,
    "start_time": "2022-08-10T09:44:09.556Z"
   },
   {
    "duration": 10,
    "start_time": "2022-08-10T09:44:09.622Z"
   },
   {
    "duration": 8,
    "start_time": "2022-08-10T09:44:09.634Z"
   },
   {
    "duration": 708,
    "start_time": "2022-08-10T09:44:09.644Z"
   },
   {
    "duration": 17,
    "start_time": "2022-08-10T09:44:10.353Z"
   },
   {
    "duration": 321,
    "start_time": "2022-08-10T09:44:10.372Z"
   },
   {
    "duration": 41,
    "start_time": "2022-08-10T09:44:10.695Z"
   },
   {
    "duration": 8,
    "start_time": "2022-08-10T09:44:10.739Z"
   },
   {
    "duration": 18,
    "start_time": "2022-08-10T09:44:10.749Z"
   },
   {
    "duration": 53,
    "start_time": "2022-08-10T09:44:10.768Z"
   },
   {
    "duration": 270,
    "start_time": "2022-08-10T09:45:03.823Z"
   },
   {
    "duration": 260,
    "start_time": "2022-08-10T09:47:31.064Z"
   },
   {
    "duration": 260,
    "start_time": "2022-08-10T09:48:15.893Z"
   },
   {
    "duration": 347,
    "start_time": "2022-08-10T10:09:06.384Z"
   },
   {
    "duration": 274,
    "start_time": "2022-08-10T10:09:24.103Z"
   },
   {
    "duration": 1361,
    "start_time": "2022-08-10T14:07:53.221Z"
   },
   {
    "duration": 277,
    "start_time": "2022-08-10T14:07:54.584Z"
   },
   {
    "duration": 13,
    "start_time": "2022-08-10T14:07:54.862Z"
   },
   {
    "duration": 24,
    "start_time": "2022-08-10T14:07:54.877Z"
   },
   {
    "duration": 19,
    "start_time": "2022-08-10T14:07:54.903Z"
   },
   {
    "duration": 13,
    "start_time": "2022-08-10T14:07:54.923Z"
   },
   {
    "duration": 16,
    "start_time": "2022-08-10T14:07:54.956Z"
   },
   {
    "duration": 10,
    "start_time": "2022-08-10T14:07:54.974Z"
   },
   {
    "duration": 9,
    "start_time": "2022-08-10T14:07:54.985Z"
   },
   {
    "duration": 26,
    "start_time": "2022-08-10T14:07:54.996Z"
   },
   {
    "duration": 21,
    "start_time": "2022-08-10T14:07:55.023Z"
   },
   {
    "duration": 399,
    "start_time": "2022-08-10T14:07:55.046Z"
   },
   {
    "duration": 11,
    "start_time": "2022-08-10T14:07:55.448Z"
   },
   {
    "duration": 218,
    "start_time": "2022-08-10T14:07:55.463Z"
   },
   {
    "duration": 18,
    "start_time": "2022-08-10T14:07:55.684Z"
   },
   {
    "duration": 31,
    "start_time": "2022-08-10T14:07:55.704Z"
   },
   {
    "duration": 280,
    "start_time": "2022-08-10T14:07:55.758Z"
   },
   {
    "duration": 333,
    "start_time": "2022-08-10T14:07:56.040Z"
   },
   {
    "duration": 32,
    "start_time": "2022-08-10T14:07:56.374Z"
   },
   {
    "duration": 407,
    "start_time": "2022-08-10T14:07:56.407Z"
   },
   {
    "duration": 316,
    "start_time": "2022-08-10T14:07:56.816Z"
   },
   {
    "duration": 559,
    "start_time": "2022-08-10T14:07:57.134Z"
   },
   {
    "duration": 17,
    "start_time": "2022-08-10T14:07:57.694Z"
   },
   {
    "duration": 305,
    "start_time": "2022-08-10T14:07:57.712Z"
   },
   {
    "duration": 15,
    "start_time": "2022-08-10T14:07:58.018Z"
   },
   {
    "duration": 13,
    "start_time": "2022-08-10T14:07:58.034Z"
   },
   {
    "duration": 297,
    "start_time": "2022-08-10T14:07:58.057Z"
   },
   {
    "duration": 36,
    "start_time": "2022-08-10T14:07:58.355Z"
   },
   {
    "duration": 32,
    "start_time": "2022-08-10T14:07:58.392Z"
   },
   {
    "duration": 70,
    "start_time": "2022-08-10T14:07:58.426Z"
   },
   {
    "duration": 26,
    "start_time": "2022-08-10T14:07:58.497Z"
   },
   {
    "duration": 30,
    "start_time": "2022-08-10T14:07:58.525Z"
   },
   {
    "duration": 1155,
    "start_time": "2022-08-10T14:07:58.558Z"
   },
   {
    "duration": 16,
    "start_time": "2022-08-10T14:07:59.714Z"
   },
   {
    "duration": 372,
    "start_time": "2022-08-10T14:07:59.732Z"
   },
   {
    "duration": 23,
    "start_time": "2022-08-10T14:08:00.107Z"
   },
   {
    "duration": 8,
    "start_time": "2022-08-10T14:08:00.131Z"
   },
   {
    "duration": 53,
    "start_time": "2022-08-10T14:08:00.141Z"
   },
   {
    "duration": 63,
    "start_time": "2022-08-10T14:08:00.195Z"
   },
   {
    "duration": 320,
    "start_time": "2022-08-10T14:08:32.740Z"
   },
   {
    "duration": 289,
    "start_time": "2022-08-10T14:08:38.404Z"
   },
   {
    "duration": 300,
    "start_time": "2022-08-10T14:09:11.173Z"
   },
   {
    "duration": 362,
    "start_time": "2022-08-10T14:09:22.836Z"
   },
   {
    "duration": 354,
    "start_time": "2022-08-10T14:09:35.710Z"
   },
   {
    "duration": 295,
    "start_time": "2022-08-10T14:09:42.487Z"
   },
   {
    "duration": 255,
    "start_time": "2022-08-10T14:09:46.815Z"
   },
   {
    "duration": 286,
    "start_time": "2022-08-10T14:09:51.415Z"
   },
   {
    "duration": 296,
    "start_time": "2022-08-10T14:10:06.700Z"
   },
   {
    "duration": 219,
    "start_time": "2022-08-10T14:11:32.820Z"
   },
   {
    "duration": 312,
    "start_time": "2022-08-10T14:12:58.805Z"
   },
   {
    "duration": 191,
    "start_time": "2022-08-10T14:13:43.517Z"
   },
   {
    "duration": 273,
    "start_time": "2022-08-10T14:14:03.293Z"
   },
   {
    "duration": 26,
    "start_time": "2022-08-10T14:14:17.494Z"
   },
   {
    "duration": 277,
    "start_time": "2022-08-10T14:14:18.637Z"
   },
   {
    "duration": 370,
    "start_time": "2022-08-10T14:15:41.005Z"
   },
   {
    "duration": 379,
    "start_time": "2022-08-10T14:17:16.766Z"
   },
   {
    "duration": 375,
    "start_time": "2022-08-10T14:18:04.981Z"
   },
   {
    "duration": 142,
    "start_time": "2022-08-10T14:36:45.884Z"
   },
   {
    "duration": 143,
    "start_time": "2022-08-10T14:38:16.338Z"
   },
   {
    "duration": 10,
    "start_time": "2022-08-10T14:39:58.435Z"
   },
   {
    "duration": 10,
    "start_time": "2022-08-10T14:40:39.284Z"
   },
   {
    "duration": 3,
    "start_time": "2022-08-10T14:41:19.115Z"
   },
   {
    "duration": 15,
    "start_time": "2022-08-10T14:41:28.527Z"
   },
   {
    "duration": 137,
    "start_time": "2022-08-10T14:41:36.058Z"
   },
   {
    "duration": 5,
    "start_time": "2022-08-10T14:41:42.091Z"
   },
   {
    "duration": 13,
    "start_time": "2022-08-10T14:47:30.187Z"
   },
   {
    "duration": 187,
    "start_time": "2022-08-10T14:48:06.035Z"
   },
   {
    "duration": 190,
    "start_time": "2022-08-10T14:49:58.469Z"
   },
   {
    "duration": 188,
    "start_time": "2022-08-10T14:50:04.763Z"
   },
   {
    "duration": 606,
    "start_time": "2022-08-10T14:50:13.244Z"
   },
   {
    "duration": 441,
    "start_time": "2022-08-10T14:51:28.723Z"
   },
   {
    "duration": 291,
    "start_time": "2022-08-10T14:52:48.452Z"
   },
   {
    "duration": 287,
    "start_time": "2022-08-10T14:53:19.044Z"
   },
   {
    "duration": 350,
    "start_time": "2022-08-10T14:54:13.883Z"
   },
   {
    "duration": 1314,
    "start_time": "2022-08-10T18:31:03.789Z"
   },
   {
    "duration": 143,
    "start_time": "2022-08-10T18:31:05.105Z"
   },
   {
    "duration": 16,
    "start_time": "2022-08-10T18:31:05.250Z"
   },
   {
    "duration": 38,
    "start_time": "2022-08-10T18:31:05.268Z"
   },
   {
    "duration": 39,
    "start_time": "2022-08-10T18:31:05.308Z"
   },
   {
    "duration": 18,
    "start_time": "2022-08-10T18:31:05.349Z"
   },
   {
    "duration": 42,
    "start_time": "2022-08-10T18:31:05.368Z"
   },
   {
    "duration": 18,
    "start_time": "2022-08-10T18:31:05.412Z"
   },
   {
    "duration": 30,
    "start_time": "2022-08-10T18:31:05.432Z"
   },
   {
    "duration": 18,
    "start_time": "2022-08-10T18:31:05.465Z"
   },
   {
    "duration": 31,
    "start_time": "2022-08-10T18:31:05.485Z"
   },
   {
    "duration": 343,
    "start_time": "2022-08-10T18:31:05.518Z"
   },
   {
    "duration": 9,
    "start_time": "2022-08-10T18:31:05.864Z"
   },
   {
    "duration": 225,
    "start_time": "2022-08-10T18:31:05.875Z"
   },
   {
    "duration": 20,
    "start_time": "2022-08-10T18:31:06.102Z"
   },
   {
    "duration": 46,
    "start_time": "2022-08-10T18:31:06.123Z"
   },
   {
    "duration": 334,
    "start_time": "2022-08-10T18:31:06.171Z"
   },
   {
    "duration": 428,
    "start_time": "2022-08-10T18:31:06.508Z"
   },
   {
    "duration": 49,
    "start_time": "2022-08-10T18:31:06.937Z"
   },
   {
    "duration": 443,
    "start_time": "2022-08-10T18:31:06.988Z"
   },
   {
    "duration": 393,
    "start_time": "2022-08-10T18:31:07.433Z"
   },
   {
    "duration": 674,
    "start_time": "2022-08-10T18:31:07.829Z"
   },
   {
    "duration": 16,
    "start_time": "2022-08-10T18:31:08.505Z"
   },
   {
    "duration": 348,
    "start_time": "2022-08-10T18:31:08.523Z"
   },
   {
    "duration": 20,
    "start_time": "2022-08-10T18:31:08.873Z"
   },
   {
    "duration": 4,
    "start_time": "2022-08-10T18:31:08.895Z"
   },
   {
    "duration": 342,
    "start_time": "2022-08-10T18:31:08.901Z"
   },
   {
    "duration": 58,
    "start_time": "2022-08-10T18:31:09.248Z"
   },
   {
    "duration": 14,
    "start_time": "2022-08-10T18:31:09.309Z"
   },
   {
    "duration": 75,
    "start_time": "2022-08-10T18:31:09.325Z"
   },
   {
    "duration": 12,
    "start_time": "2022-08-10T18:31:09.403Z"
   },
   {
    "duration": 47,
    "start_time": "2022-08-10T18:31:09.417Z"
   },
   {
    "duration": 1151,
    "start_time": "2022-08-10T18:31:09.466Z"
   },
   {
    "duration": 22,
    "start_time": "2022-08-10T18:31:10.619Z"
   },
   {
    "duration": 425,
    "start_time": "2022-08-10T18:31:10.644Z"
   },
   {
    "duration": 35,
    "start_time": "2022-08-10T18:31:11.071Z"
   },
   {
    "duration": 11,
    "start_time": "2022-08-10T18:31:11.108Z"
   },
   {
    "duration": 55,
    "start_time": "2022-08-10T18:31:11.121Z"
   },
   {
    "duration": 37,
    "start_time": "2022-08-10T18:31:11.178Z"
   },
   {
    "duration": 313,
    "start_time": "2022-08-10T18:38:54.161Z"
   },
   {
    "duration": 279,
    "start_time": "2022-08-10T18:39:11.610Z"
   },
   {
    "duration": 301,
    "start_time": "2022-08-10T18:39:18.013Z"
   },
   {
    "duration": 400,
    "start_time": "2022-08-10T18:39:28.227Z"
   },
   {
    "duration": 319,
    "start_time": "2022-08-10T18:39:34.463Z"
   },
   {
    "duration": 332,
    "start_time": "2022-08-10T18:39:41.320Z"
   },
   {
    "duration": 302,
    "start_time": "2022-08-10T18:39:48.646Z"
   },
   {
    "duration": 351,
    "start_time": "2022-08-10T18:42:30.096Z"
   },
   {
    "duration": 338,
    "start_time": "2022-08-10T18:42:50.371Z"
   },
   {
    "duration": 312,
    "start_time": "2022-08-10T18:43:28.687Z"
   },
   {
    "duration": 323,
    "start_time": "2022-08-10T18:44:21.354Z"
   },
   {
    "duration": 16,
    "start_time": "2022-08-10T18:47:14.581Z"
   },
   {
    "duration": 1301,
    "start_time": "2022-08-11T10:58:22.005Z"
   },
   {
    "duration": 144,
    "start_time": "2022-08-11T10:58:23.308Z"
   },
   {
    "duration": 15,
    "start_time": "2022-08-11T10:58:23.454Z"
   },
   {
    "duration": 36,
    "start_time": "2022-08-11T10:58:23.471Z"
   },
   {
    "duration": 24,
    "start_time": "2022-08-11T10:58:23.509Z"
   },
   {
    "duration": 16,
    "start_time": "2022-08-11T10:58:23.535Z"
   },
   {
    "duration": 21,
    "start_time": "2022-08-11T10:58:23.568Z"
   },
   {
    "duration": 12,
    "start_time": "2022-08-11T10:58:23.591Z"
   },
   {
    "duration": 10,
    "start_time": "2022-08-11T10:58:23.605Z"
   },
   {
    "duration": 10,
    "start_time": "2022-08-11T10:58:23.617Z"
   },
   {
    "duration": 14,
    "start_time": "2022-08-11T10:58:23.629Z"
   },
   {
    "duration": 327,
    "start_time": "2022-08-11T10:58:23.668Z"
   },
   {
    "duration": 298,
    "start_time": "2022-08-11T10:58:23.997Z"
   },
   {
    "duration": 10,
    "start_time": "2022-08-11T10:58:24.299Z"
   },
   {
    "duration": 242,
    "start_time": "2022-08-11T10:58:24.311Z"
   },
   {
    "duration": 31,
    "start_time": "2022-08-11T10:58:24.555Z"
   },
   {
    "duration": 32,
    "start_time": "2022-08-11T10:58:24.588Z"
   },
   {
    "duration": 355,
    "start_time": "2022-08-11T10:58:24.622Z"
   },
   {
    "duration": 389,
    "start_time": "2022-08-11T10:58:24.979Z"
   },
   {
    "duration": 37,
    "start_time": "2022-08-11T10:58:25.370Z"
   },
   {
    "duration": 461,
    "start_time": "2022-08-11T10:58:25.409Z"
   },
   {
    "duration": 435,
    "start_time": "2022-08-11T10:58:25.872Z"
   },
   {
    "duration": 16,
    "start_time": "2022-08-11T10:58:26.309Z"
   },
   {
    "duration": 12,
    "start_time": "2022-08-11T10:58:26.328Z"
   },
   {
    "duration": 433,
    "start_time": "2022-08-11T10:58:26.342Z"
   },
   {
    "duration": 579,
    "start_time": "2022-08-11T10:58:26.782Z"
   },
   {
    "duration": 15,
    "start_time": "2022-08-11T10:58:27.363Z"
   },
   {
    "duration": 334,
    "start_time": "2022-08-11T10:58:27.380Z"
   },
   {
    "duration": 19,
    "start_time": "2022-08-11T10:58:27.715Z"
   },
   {
    "duration": 6,
    "start_time": "2022-08-11T10:58:27.735Z"
   },
   {
    "duration": 357,
    "start_time": "2022-08-11T10:58:27.742Z"
   },
   {
    "duration": 40,
    "start_time": "2022-08-11T10:58:28.101Z"
   },
   {
    "duration": 9,
    "start_time": "2022-08-11T10:58:28.142Z"
   },
   {
    "duration": 86,
    "start_time": "2022-08-11T10:58:28.153Z"
   },
   {
    "duration": 10,
    "start_time": "2022-08-11T10:58:28.241Z"
   },
   {
    "duration": 18,
    "start_time": "2022-08-11T10:58:28.253Z"
   },
   {
    "duration": 1155,
    "start_time": "2022-08-11T10:58:28.273Z"
   },
   {
    "duration": 19,
    "start_time": "2022-08-11T10:58:29.430Z"
   },
   {
    "duration": 367,
    "start_time": "2022-08-11T10:58:29.451Z"
   },
   {
    "duration": 23,
    "start_time": "2022-08-11T10:58:29.820Z"
   },
   {
    "duration": 24,
    "start_time": "2022-08-11T10:58:29.847Z"
   },
   {
    "duration": 28,
    "start_time": "2022-08-11T10:58:29.873Z"
   },
   {
    "duration": 30,
    "start_time": "2022-08-11T10:58:29.903Z"
   },
   {
    "duration": 54,
    "start_time": "2022-08-13T13:05:53.357Z"
   },
   {
    "duration": 1447,
    "start_time": "2022-08-13T13:06:03.878Z"
   },
   {
    "duration": 276,
    "start_time": "2022-08-13T13:06:05.328Z"
   },
   {
    "duration": 15,
    "start_time": "2022-08-13T13:06:05.606Z"
   },
   {
    "duration": 28,
    "start_time": "2022-08-13T13:06:05.623Z"
   },
   {
    "duration": 43,
    "start_time": "2022-08-13T13:06:05.654Z"
   },
   {
    "duration": 30,
    "start_time": "2022-08-13T13:06:05.699Z"
   },
   {
    "duration": 23,
    "start_time": "2022-08-13T13:06:05.731Z"
   },
   {
    "duration": 25,
    "start_time": "2022-08-13T13:06:05.757Z"
   },
   {
    "duration": 45,
    "start_time": "2022-08-13T13:06:05.784Z"
   },
   {
    "duration": 20,
    "start_time": "2022-08-13T13:06:05.832Z"
   },
   {
    "duration": 19,
    "start_time": "2022-08-13T13:06:05.854Z"
   },
   {
    "duration": 317,
    "start_time": "2022-08-13T13:06:05.876Z"
   },
   {
    "duration": 257,
    "start_time": "2022-08-13T13:06:06.195Z"
   },
   {
    "duration": 9,
    "start_time": "2022-08-13T13:06:06.458Z"
   },
   {
    "duration": 210,
    "start_time": "2022-08-13T13:06:06.469Z"
   },
   {
    "duration": 17,
    "start_time": "2022-08-13T13:06:06.681Z"
   },
   {
    "duration": 25,
    "start_time": "2022-08-13T13:06:06.700Z"
   },
   {
    "duration": 297,
    "start_time": "2022-08-13T13:06:06.727Z"
   },
   {
    "duration": 318,
    "start_time": "2022-08-13T13:06:07.026Z"
   },
   {
    "duration": 37,
    "start_time": "2022-08-13T13:06:07.345Z"
   },
   {
    "duration": 391,
    "start_time": "2022-08-13T13:06:07.384Z"
   },
   {
    "duration": 327,
    "start_time": "2022-08-13T13:06:07.777Z"
   },
   {
    "duration": 14,
    "start_time": "2022-08-13T13:06:08.106Z"
   },
   {
    "duration": 13,
    "start_time": "2022-08-13T13:06:08.122Z"
   },
   {
    "duration": 1343,
    "start_time": "2022-08-13T13:06:08.137Z"
   },
   {
    "duration": 0,
    "start_time": "2022-08-13T13:06:09.482Z"
   },
   {
    "duration": 0,
    "start_time": "2022-08-13T13:06:09.483Z"
   },
   {
    "duration": 0,
    "start_time": "2022-08-13T13:06:09.484Z"
   },
   {
    "duration": 0,
    "start_time": "2022-08-13T13:06:09.486Z"
   },
   {
    "duration": 0,
    "start_time": "2022-08-13T13:06:09.487Z"
   },
   {
    "duration": 0,
    "start_time": "2022-08-13T13:06:09.489Z"
   },
   {
    "duration": 0,
    "start_time": "2022-08-13T13:06:09.490Z"
   },
   {
    "duration": 0,
    "start_time": "2022-08-13T13:06:09.492Z"
   },
   {
    "duration": 0,
    "start_time": "2022-08-13T13:06:09.493Z"
   },
   {
    "duration": 0,
    "start_time": "2022-08-13T13:06:09.495Z"
   },
   {
    "duration": 0,
    "start_time": "2022-08-13T13:06:09.496Z"
   },
   {
    "duration": 0,
    "start_time": "2022-08-13T13:06:09.498Z"
   },
   {
    "duration": 0,
    "start_time": "2022-08-13T13:06:09.499Z"
   },
   {
    "duration": 0,
    "start_time": "2022-08-13T13:06:09.500Z"
   },
   {
    "duration": 0,
    "start_time": "2022-08-13T13:06:09.502Z"
   },
   {
    "duration": 0,
    "start_time": "2022-08-13T13:06:09.504Z"
   },
   {
    "duration": 0,
    "start_time": "2022-08-13T13:06:09.505Z"
   },
   {
    "duration": 0,
    "start_time": "2022-08-13T13:06:09.507Z"
   },
   {
    "duration": 209,
    "start_time": "2022-08-13T13:06:50.078Z"
   },
   {
    "duration": 266,
    "start_time": "2022-08-13T13:10:34.577Z"
   },
   {
    "duration": 256,
    "start_time": "2022-08-13T13:11:02.028Z"
   },
   {
    "duration": 187,
    "start_time": "2022-08-13T13:12:13.798Z"
   },
   {
    "duration": 147,
    "start_time": "2022-08-13T13:14:46.112Z"
   },
   {
    "duration": 189,
    "start_time": "2022-08-13T13:16:15.222Z"
   },
   {
    "duration": 161,
    "start_time": "2022-08-13T13:18:14.793Z"
   },
   {
    "duration": 147,
    "start_time": "2022-08-13T13:18:19.011Z"
   },
   {
    "duration": 344,
    "start_time": "2022-08-13T13:18:31.594Z"
   },
   {
    "duration": 416,
    "start_time": "2022-08-13T13:19:14.993Z"
   },
   {
    "duration": 334,
    "start_time": "2022-08-13T13:19:29.491Z"
   },
   {
    "duration": 1349,
    "start_time": "2022-08-13T17:28:52.803Z"
   },
   {
    "duration": 279,
    "start_time": "2022-08-13T17:28:54.154Z"
   },
   {
    "duration": 13,
    "start_time": "2022-08-13T17:28:54.434Z"
   },
   {
    "duration": 26,
    "start_time": "2022-08-13T17:28:54.449Z"
   },
   {
    "duration": 18,
    "start_time": "2022-08-13T17:28:54.476Z"
   },
   {
    "duration": 18,
    "start_time": "2022-08-13T17:28:54.495Z"
   },
   {
    "duration": 18,
    "start_time": "2022-08-13T17:28:54.515Z"
   },
   {
    "duration": 10,
    "start_time": "2022-08-13T17:28:54.534Z"
   },
   {
    "duration": 9,
    "start_time": "2022-08-13T17:28:54.546Z"
   },
   {
    "duration": 9,
    "start_time": "2022-08-13T17:28:54.557Z"
   },
   {
    "duration": 10,
    "start_time": "2022-08-13T17:28:54.567Z"
   },
   {
    "duration": 328,
    "start_time": "2022-08-13T17:28:54.578Z"
   },
   {
    "duration": 261,
    "start_time": "2022-08-13T17:28:54.908Z"
   },
   {
    "duration": 9,
    "start_time": "2022-08-13T17:28:55.170Z"
   },
   {
    "duration": 200,
    "start_time": "2022-08-13T17:28:55.180Z"
   },
   {
    "duration": 28,
    "start_time": "2022-08-13T17:28:55.383Z"
   },
   {
    "duration": 31,
    "start_time": "2022-08-13T17:28:55.414Z"
   },
   {
    "duration": 288,
    "start_time": "2022-08-13T17:28:55.446Z"
   },
   {
    "duration": 341,
    "start_time": "2022-08-13T17:28:55.736Z"
   },
   {
    "duration": 45,
    "start_time": "2022-08-13T17:28:56.079Z"
   },
   {
    "duration": 375,
    "start_time": "2022-08-13T17:28:56.126Z"
   },
   {
    "duration": 327,
    "start_time": "2022-08-13T17:28:56.502Z"
   },
   {
    "duration": 15,
    "start_time": "2022-08-13T17:28:56.831Z"
   },
   {
    "duration": 10,
    "start_time": "2022-08-13T17:28:56.847Z"
   },
   {
    "duration": 530,
    "start_time": "2022-08-13T17:28:56.858Z"
   },
   {
    "duration": 510,
    "start_time": "2022-08-13T17:28:57.390Z"
   },
   {
    "duration": 23,
    "start_time": "2022-08-13T17:28:57.902Z"
   },
   {
    "duration": 290,
    "start_time": "2022-08-13T17:28:57.928Z"
   },
   {
    "duration": 15,
    "start_time": "2022-08-13T17:28:58.221Z"
   },
   {
    "duration": 3,
    "start_time": "2022-08-13T17:28:58.238Z"
   },
   {
    "duration": 297,
    "start_time": "2022-08-13T17:28:58.242Z"
   },
   {
    "duration": 36,
    "start_time": "2022-08-13T17:28:58.545Z"
   },
   {
    "duration": 9,
    "start_time": "2022-08-13T17:28:58.582Z"
   },
   {
    "duration": 68,
    "start_time": "2022-08-13T17:28:58.593Z"
   },
   {
    "duration": 9,
    "start_time": "2022-08-13T17:28:58.662Z"
   },
   {
    "duration": 7,
    "start_time": "2022-08-13T17:28:58.673Z"
   },
   {
    "duration": 1261,
    "start_time": "2022-08-13T17:28:58.681Z"
   },
   {
    "duration": 16,
    "start_time": "2022-08-13T17:28:59.944Z"
   },
   {
    "duration": 320,
    "start_time": "2022-08-13T17:28:59.962Z"
   },
   {
    "duration": 28,
    "start_time": "2022-08-13T17:29:00.283Z"
   },
   {
    "duration": 10,
    "start_time": "2022-08-13T17:29:00.314Z"
   },
   {
    "duration": 35,
    "start_time": "2022-08-13T17:29:00.326Z"
   },
   {
    "duration": 27,
    "start_time": "2022-08-13T17:29:00.364Z"
   },
   {
    "duration": 86,
    "start_time": "2022-08-13T17:34:00.384Z"
   },
   {
    "duration": 1100,
    "start_time": "2022-08-13T19:37:55.757Z"
   },
   {
    "duration": 85,
    "start_time": "2022-08-13T19:37:56.858Z"
   },
   {
    "duration": 12,
    "start_time": "2022-08-13T19:37:56.944Z"
   },
   {
    "duration": 20,
    "start_time": "2022-08-13T19:37:56.958Z"
   },
   {
    "duration": 35,
    "start_time": "2022-08-13T19:37:56.980Z"
   },
   {
    "duration": 13,
    "start_time": "2022-08-13T19:37:57.016Z"
   },
   {
    "duration": 14,
    "start_time": "2022-08-13T19:37:57.030Z"
   },
   {
    "duration": 9,
    "start_time": "2022-08-13T19:37:57.046Z"
   },
   {
    "duration": 9,
    "start_time": "2022-08-13T19:37:57.057Z"
   },
   {
    "duration": 7,
    "start_time": "2022-08-13T19:37:57.068Z"
   },
   {
    "duration": 34,
    "start_time": "2022-08-13T19:37:57.076Z"
   },
   {
    "duration": 340,
    "start_time": "2022-08-13T19:37:57.111Z"
   },
   {
    "duration": 245,
    "start_time": "2022-08-13T19:37:57.452Z"
   },
   {
    "duration": 14,
    "start_time": "2022-08-13T19:37:57.699Z"
   },
   {
    "duration": 186,
    "start_time": "2022-08-13T19:37:57.714Z"
   },
   {
    "duration": 21,
    "start_time": "2022-08-13T19:37:57.902Z"
   },
   {
    "duration": 27,
    "start_time": "2022-08-13T19:37:57.925Z"
   },
   {
    "duration": 282,
    "start_time": "2022-08-13T19:37:57.955Z"
   },
   {
    "duration": 297,
    "start_time": "2022-08-13T19:37:58.238Z"
   },
   {
    "duration": 32,
    "start_time": "2022-08-13T19:37:58.537Z"
   },
   {
    "duration": 374,
    "start_time": "2022-08-13T19:37:58.570Z"
   },
   {
    "duration": 297,
    "start_time": "2022-08-13T19:37:58.945Z"
   },
   {
    "duration": 14,
    "start_time": "2022-08-13T19:37:59.244Z"
   },
   {
    "duration": 9,
    "start_time": "2022-08-13T19:37:59.259Z"
   },
   {
    "duration": 406,
    "start_time": "2022-08-13T19:37:59.269Z"
   },
   {
    "duration": 455,
    "start_time": "2022-08-13T19:37:59.677Z"
   },
   {
    "duration": 12,
    "start_time": "2022-08-13T19:38:00.133Z"
   },
   {
    "duration": 296,
    "start_time": "2022-08-13T19:38:00.148Z"
   },
   {
    "duration": 30,
    "start_time": "2022-08-13T19:38:00.446Z"
   },
   {
    "duration": 4,
    "start_time": "2022-08-13T19:38:00.478Z"
   },
   {
    "duration": 330,
    "start_time": "2022-08-13T19:38:00.484Z"
   },
   {
    "duration": 38,
    "start_time": "2022-08-13T19:38:00.815Z"
   },
   {
    "duration": 11,
    "start_time": "2022-08-13T19:38:00.855Z"
   },
   {
    "duration": 64,
    "start_time": "2022-08-13T19:38:00.868Z"
   },
   {
    "duration": 10,
    "start_time": "2022-08-13T19:38:00.933Z"
   },
   {
    "duration": 9,
    "start_time": "2022-08-13T19:38:00.945Z"
   },
   {
    "duration": 1120,
    "start_time": "2022-08-13T19:38:00.956Z"
   },
   {
    "duration": 17,
    "start_time": "2022-08-13T19:38:02.077Z"
   },
   {
    "duration": 289,
    "start_time": "2022-08-13T19:38:02.095Z"
   },
   {
    "duration": 28,
    "start_time": "2022-08-13T19:38:02.386Z"
   },
   {
    "duration": 5,
    "start_time": "2022-08-13T19:38:02.416Z"
   },
   {
    "duration": 20,
    "start_time": "2022-08-13T19:38:02.423Z"
   },
   {
    "duration": 26,
    "start_time": "2022-08-13T19:38:02.444Z"
   },
   {
    "duration": 44,
    "start_time": "2022-08-14T03:04:40.818Z"
   },
   {
    "duration": 1231,
    "start_time": "2022-08-14T03:04:48.539Z"
   },
   {
    "duration": 296,
    "start_time": "2022-08-14T03:04:49.772Z"
   },
   {
    "duration": 15,
    "start_time": "2022-08-14T03:04:50.070Z"
   },
   {
    "duration": 28,
    "start_time": "2022-08-14T03:04:50.087Z"
   },
   {
    "duration": 18,
    "start_time": "2022-08-14T03:04:50.118Z"
   },
   {
    "duration": 15,
    "start_time": "2022-08-14T03:04:50.138Z"
   },
   {
    "duration": 18,
    "start_time": "2022-08-14T03:04:50.155Z"
   },
   {
    "duration": 32,
    "start_time": "2022-08-14T03:04:50.175Z"
   },
   {
    "duration": 8,
    "start_time": "2022-08-14T03:04:50.208Z"
   },
   {
    "duration": 8,
    "start_time": "2022-08-14T03:04:50.217Z"
   },
   {
    "duration": 13,
    "start_time": "2022-08-14T03:04:50.226Z"
   },
   {
    "duration": 302,
    "start_time": "2022-08-14T03:04:50.240Z"
   },
   {
    "duration": 219,
    "start_time": "2022-08-14T03:04:50.544Z"
   },
   {
    "duration": 8,
    "start_time": "2022-08-14T03:04:50.766Z"
   },
   {
    "duration": 182,
    "start_time": "2022-08-14T03:04:50.776Z"
   },
   {
    "duration": 15,
    "start_time": "2022-08-14T03:04:50.959Z"
   },
   {
    "duration": 39,
    "start_time": "2022-08-14T03:04:50.976Z"
   },
   {
    "duration": 251,
    "start_time": "2022-08-14T03:04:51.017Z"
   },
   {
    "duration": 324,
    "start_time": "2022-08-14T03:04:51.269Z"
   },
   {
    "duration": 37,
    "start_time": "2022-08-14T03:04:51.595Z"
   },
   {
    "duration": 352,
    "start_time": "2022-08-14T03:04:51.634Z"
   },
   {
    "duration": 295,
    "start_time": "2022-08-14T03:04:51.988Z"
   },
   {
    "duration": 22,
    "start_time": "2022-08-14T03:04:52.285Z"
   },
   {
    "duration": 11,
    "start_time": "2022-08-14T03:04:52.309Z"
   },
   {
    "duration": 468,
    "start_time": "2022-08-14T03:04:52.322Z"
   },
   {
    "duration": 442,
    "start_time": "2022-08-14T03:04:52.791Z"
   },
   {
    "duration": 12,
    "start_time": "2022-08-14T03:04:53.235Z"
   },
   {
    "duration": 270,
    "start_time": "2022-08-14T03:04:53.248Z"
   },
   {
    "duration": 15,
    "start_time": "2022-08-14T03:04:53.519Z"
   },
   {
    "duration": 3,
    "start_time": "2022-08-14T03:04:53.536Z"
   },
   {
    "duration": 268,
    "start_time": "2022-08-14T03:04:53.540Z"
   },
   {
    "duration": 37,
    "start_time": "2022-08-14T03:04:53.810Z"
   },
   {
    "duration": 6,
    "start_time": "2022-08-14T03:04:53.849Z"
   },
   {
    "duration": 65,
    "start_time": "2022-08-14T03:04:53.857Z"
   },
   {
    "duration": 10,
    "start_time": "2022-08-14T03:04:53.924Z"
   },
   {
    "duration": 15,
    "start_time": "2022-08-14T03:04:53.936Z"
   },
   {
    "duration": 1074,
    "start_time": "2022-08-14T03:04:53.952Z"
   },
   {
    "duration": 15,
    "start_time": "2022-08-14T03:04:55.028Z"
   },
   {
    "duration": 286,
    "start_time": "2022-08-14T03:04:55.045Z"
   },
   {
    "duration": 22,
    "start_time": "2022-08-14T03:04:55.333Z"
   },
   {
    "duration": 5,
    "start_time": "2022-08-14T03:04:55.360Z"
   },
   {
    "duration": 44,
    "start_time": "2022-08-14T03:04:55.367Z"
   },
   {
    "duration": 26,
    "start_time": "2022-08-14T03:04:55.413Z"
   },
   {
    "duration": 242,
    "start_time": "2022-08-14T03:05:49.380Z"
   },
   {
    "duration": 334,
    "start_time": "2022-08-14T03:06:27.179Z"
   },
   {
    "duration": 248,
    "start_time": "2022-08-14T03:08:07.952Z"
   },
   {
    "duration": 324,
    "start_time": "2022-08-14T03:08:36.070Z"
   },
   {
    "duration": 326,
    "start_time": "2022-08-14T03:08:49.910Z"
   },
   {
    "duration": 220,
    "start_time": "2022-08-14T03:09:54.621Z"
   },
   {
    "duration": 234,
    "start_time": "2022-08-14T03:11:06.606Z"
   },
   {
    "duration": 201,
    "start_time": "2022-08-14T03:11:56.222Z"
   },
   {
    "duration": 265,
    "start_time": "2022-08-14T03:12:18.582Z"
   }
  ],
  "kernelspec": {
   "display_name": "Python 3 (ipykernel)",
   "language": "python",
   "name": "python3"
  },
  "language_info": {
   "codemirror_mode": {
    "name": "ipython",
    "version": 3
   },
   "file_extension": ".py",
   "mimetype": "text/x-python",
   "name": "python",
   "nbconvert_exporter": "python",
   "pygments_lexer": "ipython3",
   "version": "3.9.5"
  },
  "toc": {
   "base_numbering": 1,
   "nav_menu": {},
   "number_sections": true,
   "sideBar": true,
   "skip_h1_title": true,
   "title_cell": "Table of Contents",
   "title_sidebar": "Contents",
   "toc_cell": false,
   "toc_position": {
    "height": "calc(100% - 180px)",
    "left": "10px",
    "top": "150px",
    "width": "366.391px"
   },
   "toc_section_display": true,
   "toc_window_display": false
  }
 },
 "nbformat": 4,
 "nbformat_minor": 2
}
