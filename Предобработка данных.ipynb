{
 "cells": [
  {
   "cell_type": "markdown",
   "metadata": {},
   "source": [
    "# Исследование надёжности заёмщиков\n",
    "\n",
    "Заказчик — кредитный отдел банка. Нужно разобраться, влияет ли семейное положение и количество детей клиента на факт погашения кредита в срок. Входные данные от банка — статистика о платёжеспособности клиентов.\n",
    "\n",
    "Результаты исследования будут учтены при построении модели **кредитного скоринга** — специальной системы, которая оценивает способность потенциального заёмщика вернуть кредит банку."
   ]
  },
  {
   "cell_type": "markdown",
   "metadata": {},
   "source": [
    "## Шаг. Откроем файл с данными и изучим общую информацию"
   ]
  },
  {
   "cell_type": "code",
   "execution_count": 1,
   "metadata": {},
   "outputs": [
    {
     "name": "stdout",
     "output_type": "stream",
     "text": [
      "<class 'pandas.core.frame.DataFrame'>\n",
      "RangeIndex: 21525 entries, 0 to 21524\n",
      "Data columns (total 12 columns):\n",
      "children            21525 non-null int64\n",
      "days_employed       19351 non-null float64\n",
      "dob_years           21525 non-null int64\n",
      "education           21525 non-null object\n",
      "education_id        21525 non-null int64\n",
      "family_status       21525 non-null object\n",
      "family_status_id    21525 non-null int64\n",
      "gender              21525 non-null object\n",
      "income_type         21525 non-null object\n",
      "debt                21525 non-null int64\n",
      "total_income        19351 non-null float64\n",
      "purpose             21525 non-null object\n",
      "dtypes: float64(2), int64(5), object(5)\n",
      "memory usage: 2.0+ MB\n"
     ]
    }
   ],
   "source": [
    "import pandas as pd\n",
    "df = pd.read_csv('/datasets/data.csv')\n",
    "df.info()"
   ]
  },
  {
   "cell_type": "markdown",
   "metadata": {},
   "source": [
    "Открыли файл с данными и просмотрели информацию по каждому столбцу"
   ]
  },
  {
   "cell_type": "code",
   "execution_count": 2,
   "metadata": {},
   "outputs": [
    {
     "data": {
      "text/html": [
       "<div>\n",
       "<style scoped>\n",
       "    .dataframe tbody tr th:only-of-type {\n",
       "        vertical-align: middle;\n",
       "    }\n",
       "\n",
       "    .dataframe tbody tr th {\n",
       "        vertical-align: top;\n",
       "    }\n",
       "\n",
       "    .dataframe thead th {\n",
       "        text-align: right;\n",
       "    }\n",
       "</style>\n",
       "<table border=\"1\" class=\"dataframe\">\n",
       "  <thead>\n",
       "    <tr style=\"text-align: right;\">\n",
       "      <th></th>\n",
       "      <th>children</th>\n",
       "      <th>days_employed</th>\n",
       "      <th>dob_years</th>\n",
       "      <th>education</th>\n",
       "      <th>education_id</th>\n",
       "      <th>family_status</th>\n",
       "      <th>family_status_id</th>\n",
       "      <th>gender</th>\n",
       "      <th>income_type</th>\n",
       "      <th>debt</th>\n",
       "      <th>total_income</th>\n",
       "      <th>purpose</th>\n",
       "    </tr>\n",
       "  </thead>\n",
       "  <tbody>\n",
       "    <tr>\n",
       "      <td>0</td>\n",
       "      <td>1</td>\n",
       "      <td>-8437.673028</td>\n",
       "      <td>42</td>\n",
       "      <td>высшее</td>\n",
       "      <td>0</td>\n",
       "      <td>женат / замужем</td>\n",
       "      <td>0</td>\n",
       "      <td>F</td>\n",
       "      <td>сотрудник</td>\n",
       "      <td>0</td>\n",
       "      <td>253875.639453</td>\n",
       "      <td>покупка жилья</td>\n",
       "    </tr>\n",
       "    <tr>\n",
       "      <td>1</td>\n",
       "      <td>1</td>\n",
       "      <td>-4024.803754</td>\n",
       "      <td>36</td>\n",
       "      <td>среднее</td>\n",
       "      <td>1</td>\n",
       "      <td>женат / замужем</td>\n",
       "      <td>0</td>\n",
       "      <td>F</td>\n",
       "      <td>сотрудник</td>\n",
       "      <td>0</td>\n",
       "      <td>112080.014102</td>\n",
       "      <td>приобретение автомобиля</td>\n",
       "    </tr>\n",
       "    <tr>\n",
       "      <td>2</td>\n",
       "      <td>0</td>\n",
       "      <td>-5623.422610</td>\n",
       "      <td>33</td>\n",
       "      <td>Среднее</td>\n",
       "      <td>1</td>\n",
       "      <td>женат / замужем</td>\n",
       "      <td>0</td>\n",
       "      <td>M</td>\n",
       "      <td>сотрудник</td>\n",
       "      <td>0</td>\n",
       "      <td>145885.952297</td>\n",
       "      <td>покупка жилья</td>\n",
       "    </tr>\n",
       "    <tr>\n",
       "      <td>3</td>\n",
       "      <td>3</td>\n",
       "      <td>-4124.747207</td>\n",
       "      <td>32</td>\n",
       "      <td>среднее</td>\n",
       "      <td>1</td>\n",
       "      <td>женат / замужем</td>\n",
       "      <td>0</td>\n",
       "      <td>M</td>\n",
       "      <td>сотрудник</td>\n",
       "      <td>0</td>\n",
       "      <td>267628.550329</td>\n",
       "      <td>дополнительное образование</td>\n",
       "    </tr>\n",
       "    <tr>\n",
       "      <td>4</td>\n",
       "      <td>0</td>\n",
       "      <td>340266.072047</td>\n",
       "      <td>53</td>\n",
       "      <td>среднее</td>\n",
       "      <td>1</td>\n",
       "      <td>гражданский брак</td>\n",
       "      <td>1</td>\n",
       "      <td>F</td>\n",
       "      <td>пенсионер</td>\n",
       "      <td>0</td>\n",
       "      <td>158616.077870</td>\n",
       "      <td>сыграть свадьбу</td>\n",
       "    </tr>\n",
       "    <tr>\n",
       "      <td>5</td>\n",
       "      <td>0</td>\n",
       "      <td>-926.185831</td>\n",
       "      <td>27</td>\n",
       "      <td>высшее</td>\n",
       "      <td>0</td>\n",
       "      <td>гражданский брак</td>\n",
       "      <td>1</td>\n",
       "      <td>M</td>\n",
       "      <td>компаньон</td>\n",
       "      <td>0</td>\n",
       "      <td>255763.565419</td>\n",
       "      <td>покупка жилья</td>\n",
       "    </tr>\n",
       "    <tr>\n",
       "      <td>6</td>\n",
       "      <td>0</td>\n",
       "      <td>-2879.202052</td>\n",
       "      <td>43</td>\n",
       "      <td>высшее</td>\n",
       "      <td>0</td>\n",
       "      <td>женат / замужем</td>\n",
       "      <td>0</td>\n",
       "      <td>F</td>\n",
       "      <td>компаньон</td>\n",
       "      <td>0</td>\n",
       "      <td>240525.971920</td>\n",
       "      <td>операции с жильем</td>\n",
       "    </tr>\n",
       "    <tr>\n",
       "      <td>7</td>\n",
       "      <td>0</td>\n",
       "      <td>-152.779569</td>\n",
       "      <td>50</td>\n",
       "      <td>СРЕДНЕЕ</td>\n",
       "      <td>1</td>\n",
       "      <td>женат / замужем</td>\n",
       "      <td>0</td>\n",
       "      <td>M</td>\n",
       "      <td>сотрудник</td>\n",
       "      <td>0</td>\n",
       "      <td>135823.934197</td>\n",
       "      <td>образование</td>\n",
       "    </tr>\n",
       "    <tr>\n",
       "      <td>8</td>\n",
       "      <td>2</td>\n",
       "      <td>-6929.865299</td>\n",
       "      <td>35</td>\n",
       "      <td>ВЫСШЕЕ</td>\n",
       "      <td>0</td>\n",
       "      <td>гражданский брак</td>\n",
       "      <td>1</td>\n",
       "      <td>F</td>\n",
       "      <td>сотрудник</td>\n",
       "      <td>0</td>\n",
       "      <td>95856.832424</td>\n",
       "      <td>на проведение свадьбы</td>\n",
       "    </tr>\n",
       "    <tr>\n",
       "      <td>9</td>\n",
       "      <td>0</td>\n",
       "      <td>-2188.756445</td>\n",
       "      <td>41</td>\n",
       "      <td>среднее</td>\n",
       "      <td>1</td>\n",
       "      <td>женат / замужем</td>\n",
       "      <td>0</td>\n",
       "      <td>M</td>\n",
       "      <td>сотрудник</td>\n",
       "      <td>0</td>\n",
       "      <td>144425.938277</td>\n",
       "      <td>покупка жилья для семьи</td>\n",
       "    </tr>\n",
       "    <tr>\n",
       "      <td>10</td>\n",
       "      <td>2</td>\n",
       "      <td>-4171.483647</td>\n",
       "      <td>36</td>\n",
       "      <td>высшее</td>\n",
       "      <td>0</td>\n",
       "      <td>женат / замужем</td>\n",
       "      <td>0</td>\n",
       "      <td>M</td>\n",
       "      <td>компаньон</td>\n",
       "      <td>0</td>\n",
       "      <td>113943.491460</td>\n",
       "      <td>покупка недвижимости</td>\n",
       "    </tr>\n",
       "    <tr>\n",
       "      <td>11</td>\n",
       "      <td>0</td>\n",
       "      <td>-792.701887</td>\n",
       "      <td>40</td>\n",
       "      <td>среднее</td>\n",
       "      <td>1</td>\n",
       "      <td>женат / замужем</td>\n",
       "      <td>0</td>\n",
       "      <td>F</td>\n",
       "      <td>сотрудник</td>\n",
       "      <td>0</td>\n",
       "      <td>77069.234271</td>\n",
       "      <td>покупка коммерческой недвижимости</td>\n",
       "    </tr>\n",
       "    <tr>\n",
       "      <td>12</td>\n",
       "      <td>0</td>\n",
       "      <td>NaN</td>\n",
       "      <td>65</td>\n",
       "      <td>среднее</td>\n",
       "      <td>1</td>\n",
       "      <td>гражданский брак</td>\n",
       "      <td>1</td>\n",
       "      <td>M</td>\n",
       "      <td>пенсионер</td>\n",
       "      <td>0</td>\n",
       "      <td>NaN</td>\n",
       "      <td>сыграть свадьбу</td>\n",
       "    </tr>\n",
       "    <tr>\n",
       "      <td>13</td>\n",
       "      <td>0</td>\n",
       "      <td>-1846.641941</td>\n",
       "      <td>54</td>\n",
       "      <td>неоконченное высшее</td>\n",
       "      <td>2</td>\n",
       "      <td>женат / замужем</td>\n",
       "      <td>0</td>\n",
       "      <td>F</td>\n",
       "      <td>сотрудник</td>\n",
       "      <td>0</td>\n",
       "      <td>130458.228857</td>\n",
       "      <td>приобретение автомобиля</td>\n",
       "    </tr>\n",
       "    <tr>\n",
       "      <td>14</td>\n",
       "      <td>0</td>\n",
       "      <td>-1844.956182</td>\n",
       "      <td>56</td>\n",
       "      <td>высшее</td>\n",
       "      <td>0</td>\n",
       "      <td>гражданский брак</td>\n",
       "      <td>1</td>\n",
       "      <td>F</td>\n",
       "      <td>компаньон</td>\n",
       "      <td>1</td>\n",
       "      <td>165127.911772</td>\n",
       "      <td>покупка жилой недвижимости</td>\n",
       "    </tr>\n",
       "  </tbody>\n",
       "</table>\n",
       "</div>"
      ],
      "text/plain": [
       "    children  days_employed  dob_years            education  education_id  \\\n",
       "0          1   -8437.673028         42               высшее             0   \n",
       "1          1   -4024.803754         36              среднее             1   \n",
       "2          0   -5623.422610         33              Среднее             1   \n",
       "3          3   -4124.747207         32              среднее             1   \n",
       "4          0  340266.072047         53              среднее             1   \n",
       "5          0    -926.185831         27               высшее             0   \n",
       "6          0   -2879.202052         43               высшее             0   \n",
       "7          0    -152.779569         50              СРЕДНЕЕ             1   \n",
       "8          2   -6929.865299         35               ВЫСШЕЕ             0   \n",
       "9          0   -2188.756445         41              среднее             1   \n",
       "10         2   -4171.483647         36               высшее             0   \n",
       "11         0    -792.701887         40              среднее             1   \n",
       "12         0            NaN         65              среднее             1   \n",
       "13         0   -1846.641941         54  неоконченное высшее             2   \n",
       "14         0   -1844.956182         56               высшее             0   \n",
       "\n",
       "       family_status  family_status_id gender income_type  debt  \\\n",
       "0    женат / замужем                 0      F   сотрудник     0   \n",
       "1    женат / замужем                 0      F   сотрудник     0   \n",
       "2    женат / замужем                 0      M   сотрудник     0   \n",
       "3    женат / замужем                 0      M   сотрудник     0   \n",
       "4   гражданский брак                 1      F   пенсионер     0   \n",
       "5   гражданский брак                 1      M   компаньон     0   \n",
       "6    женат / замужем                 0      F   компаньон     0   \n",
       "7    женат / замужем                 0      M   сотрудник     0   \n",
       "8   гражданский брак                 1      F   сотрудник     0   \n",
       "9    женат / замужем                 0      M   сотрудник     0   \n",
       "10   женат / замужем                 0      M   компаньон     0   \n",
       "11   женат / замужем                 0      F   сотрудник     0   \n",
       "12  гражданский брак                 1      M   пенсионер     0   \n",
       "13   женат / замужем                 0      F   сотрудник     0   \n",
       "14  гражданский брак                 1      F   компаньон     1   \n",
       "\n",
       "     total_income                            purpose  \n",
       "0   253875.639453                      покупка жилья  \n",
       "1   112080.014102            приобретение автомобиля  \n",
       "2   145885.952297                      покупка жилья  \n",
       "3   267628.550329         дополнительное образование  \n",
       "4   158616.077870                    сыграть свадьбу  \n",
       "5   255763.565419                      покупка жилья  \n",
       "6   240525.971920                  операции с жильем  \n",
       "7   135823.934197                        образование  \n",
       "8    95856.832424              на проведение свадьбы  \n",
       "9   144425.938277            покупка жилья для семьи  \n",
       "10  113943.491460               покупка недвижимости  \n",
       "11   77069.234271  покупка коммерческой недвижимости  \n",
       "12            NaN                    сыграть свадьбу  \n",
       "13  130458.228857            приобретение автомобиля  \n",
       "14  165127.911772         покупка жилой недвижимости  "
      ]
     },
     "execution_count": 2,
     "metadata": {},
     "output_type": "execute_result"
    }
   ],
   "source": [
    "df.head(15)"
   ]
  },
  {
   "cell_type": "markdown",
   "metadata": {},
   "source": [
    "Иучили как выглядит сама таблица на примере первых 15 строк."
   ]
  },
  {
   "cell_type": "markdown",
   "metadata": {},
   "source": [
    "**Вывод**"
   ]
  },
  {
   "cell_type": "markdown",
   "metadata": {},
   "source": [
    "По таблице видно, что необходима предобработка данных. В столбце 'education' использованы разные регистры и группировать по этому столбцу не получится. Также имеются пропуски с которыми в последующем нужно разобраться. Также в столбце 'family_status_id' данные типа object, думаю стоит их перевести в данные типа int. Этим сейчас и займемся"
   ]
  },
  {
   "cell_type": "markdown",
   "metadata": {},
   "source": [
    "## Шаг. Предобработка данных"
   ]
  },
  {
   "cell_type": "markdown",
   "metadata": {},
   "source": [
    "### Обработка пропусков"
   ]
  },
  {
   "cell_type": "markdown",
   "metadata": {},
   "source": [
    "Попробую заполнить пропуски средним значением по категориям 'income_type'."
   ]
  },
  {
   "cell_type": "code",
   "execution_count": 3,
   "metadata": {},
   "outputs": [
    {
     "data": {
      "text/plain": [
       "сотрудник          1105\n",
       "компаньон           508\n",
       "пенсионер           413\n",
       "госслужащий         147\n",
       "предприниматель       1\n",
       "Name: income_type, dtype: int64"
      ]
     },
     "execution_count": 3,
     "metadata": {},
     "output_type": "execute_result"
    }
   ],
   "source": [
    "df[(df['total_income'].isnull() == True) & (df['days_employed'].isnull() == True)]['income_type'].value_counts()"
   ]
  },
  {
   "cell_type": "code",
   "execution_count": 4,
   "metadata": {},
   "outputs": [
    {
     "data": {
      "text/html": [
       "<div>\n",
       "<style scoped>\n",
       "    .dataframe tbody tr th:only-of-type {\n",
       "        vertical-align: middle;\n",
       "    }\n",
       "\n",
       "    .dataframe tbody tr th {\n",
       "        vertical-align: top;\n",
       "    }\n",
       "\n",
       "    .dataframe thead tr th {\n",
       "        text-align: left;\n",
       "    }\n",
       "\n",
       "    .dataframe thead tr:last-of-type th {\n",
       "        text-align: right;\n",
       "    }\n",
       "</style>\n",
       "<table border=\"1\" class=\"dataframe\">\n",
       "  <thead>\n",
       "    <tr>\n",
       "      <th></th>\n",
       "      <th colspan=\"3\" halign=\"left\">days_employed</th>\n",
       "    </tr>\n",
       "    <tr>\n",
       "      <th></th>\n",
       "      <th>Общее количество строк</th>\n",
       "      <th>Среднее</th>\n",
       "      <th>Кол-во значений &gt; 0</th>\n",
       "    </tr>\n",
       "    <tr>\n",
       "      <th>income_type</th>\n",
       "      <th></th>\n",
       "      <th></th>\n",
       "      <th></th>\n",
       "    </tr>\n",
       "  </thead>\n",
       "  <tbody>\n",
       "    <tr>\n",
       "      <td>безработный</td>\n",
       "      <td>2</td>\n",
       "      <td>366413.652744</td>\n",
       "      <td>2.0</td>\n",
       "    </tr>\n",
       "    <tr>\n",
       "      <td>в декрете</td>\n",
       "      <td>1</td>\n",
       "      <td>3296.759962</td>\n",
       "      <td>1.0</td>\n",
       "    </tr>\n",
       "    <tr>\n",
       "      <td>госслужащий</td>\n",
       "      <td>1312</td>\n",
       "      <td>3399.896902</td>\n",
       "      <td>1312.0</td>\n",
       "    </tr>\n",
       "    <tr>\n",
       "      <td>компаньон</td>\n",
       "      <td>4577</td>\n",
       "      <td>2111.524398</td>\n",
       "      <td>4577.0</td>\n",
       "    </tr>\n",
       "    <tr>\n",
       "      <td>пенсионер</td>\n",
       "      <td>3443</td>\n",
       "      <td>365003.491245</td>\n",
       "      <td>3443.0</td>\n",
       "    </tr>\n",
       "    <tr>\n",
       "      <td>предприниматель</td>\n",
       "      <td>1</td>\n",
       "      <td>520.848083</td>\n",
       "      <td>1.0</td>\n",
       "    </tr>\n",
       "    <tr>\n",
       "      <td>сотрудник</td>\n",
       "      <td>10014</td>\n",
       "      <td>2326.499216</td>\n",
       "      <td>10014.0</td>\n",
       "    </tr>\n",
       "    <tr>\n",
       "      <td>студент</td>\n",
       "      <td>1</td>\n",
       "      <td>578.751554</td>\n",
       "      <td>1.0</td>\n",
       "    </tr>\n",
       "  </tbody>\n",
       "</table>\n",
       "</div>"
      ],
      "text/plain": [
       "                         days_employed                                   \n",
       "                Общее количество строк        Среднее Кол-во значений > 0\n",
       "income_type                                                              \n",
       "безработный                          2  366413.652744                 2.0\n",
       "в декрете                            1    3296.759962                 1.0\n",
       "госслужащий                       1312    3399.896902              1312.0\n",
       "компаньон                         4577    2111.524398              4577.0\n",
       "пенсионер                         3443  365003.491245              3443.0\n",
       "предприниматель                      1     520.848083                 1.0\n",
       "сотрудник                        10014    2326.499216             10014.0\n",
       "студент                              1     578.751554                 1.0"
      ]
     },
     "execution_count": 4,
     "metadata": {},
     "output_type": "execute_result"
    }
   ],
   "source": [
    "#переведу все значения days_employed в положительные\n",
    "df['days_employed'] = df['days_employed'].abs()\n",
    "df_grouped = df.groupby('income_type').agg({'days_employed':['count', 'mean', lambda x: sum(x>0)]})\n",
    "\n",
    "df_to_rename = dict(zip(df_grouped.columns.levels[1], ['Общее количество строк', 'Среднее', 'Кол-во значений > 0']))\n",
    "\n",
    "df_grouped = df_grouped.rename(columns=df_to_rename, level=1)\n",
    "df_grouped"
   ]
  },
  {
   "cell_type": "code",
   "execution_count": 5,
   "metadata": {},
   "outputs": [
    {
     "data": {
      "text/html": [
       "<div>\n",
       "<style scoped>\n",
       "    .dataframe tbody tr th:only-of-type {\n",
       "        vertical-align: middle;\n",
       "    }\n",
       "\n",
       "    .dataframe tbody tr th {\n",
       "        vertical-align: top;\n",
       "    }\n",
       "\n",
       "    .dataframe thead th {\n",
       "        text-align: right;\n",
       "    }\n",
       "</style>\n",
       "<table border=\"1\" class=\"dataframe\">\n",
       "  <thead>\n",
       "    <tr style=\"text-align: right;\">\n",
       "      <th></th>\n",
       "      <th>children</th>\n",
       "      <th>days_employed</th>\n",
       "      <th>dob_years</th>\n",
       "      <th>education</th>\n",
       "      <th>education_id</th>\n",
       "      <th>family_status</th>\n",
       "      <th>family_status_id</th>\n",
       "      <th>gender</th>\n",
       "      <th>income_type</th>\n",
       "      <th>debt</th>\n",
       "      <th>total_income</th>\n",
       "      <th>purpose</th>\n",
       "      <th>ratio_days_employed</th>\n",
       "    </tr>\n",
       "  </thead>\n",
       "  <tbody>\n",
       "    <tr>\n",
       "      <td>0</td>\n",
       "      <td>1</td>\n",
       "      <td>8437.673028</td>\n",
       "      <td>42</td>\n",
       "      <td>высшее</td>\n",
       "      <td>0</td>\n",
       "      <td>женат / замужем</td>\n",
       "      <td>0</td>\n",
       "      <td>F</td>\n",
       "      <td>сотрудник</td>\n",
       "      <td>0</td>\n",
       "      <td>253875.639453</td>\n",
       "      <td>покупка жилья</td>\n",
       "      <td>0.889112</td>\n",
       "    </tr>\n",
       "    <tr>\n",
       "      <td>1</td>\n",
       "      <td>1</td>\n",
       "      <td>4024.803754</td>\n",
       "      <td>36</td>\n",
       "      <td>среднее</td>\n",
       "      <td>1</td>\n",
       "      <td>женат / замужем</td>\n",
       "      <td>0</td>\n",
       "      <td>F</td>\n",
       "      <td>сотрудник</td>\n",
       "      <td>0</td>\n",
       "      <td>112080.014102</td>\n",
       "      <td>приобретение автомобиля</td>\n",
       "      <td>0.551343</td>\n",
       "    </tr>\n",
       "    <tr>\n",
       "      <td>2</td>\n",
       "      <td>0</td>\n",
       "      <td>5623.422610</td>\n",
       "      <td>33</td>\n",
       "      <td>Среднее</td>\n",
       "      <td>1</td>\n",
       "      <td>женат / замужем</td>\n",
       "      <td>0</td>\n",
       "      <td>M</td>\n",
       "      <td>сотрудник</td>\n",
       "      <td>0</td>\n",
       "      <td>145885.952297</td>\n",
       "      <td>покупка жилья</td>\n",
       "      <td>0.906273</td>\n",
       "    </tr>\n",
       "    <tr>\n",
       "      <td>3</td>\n",
       "      <td>3</td>\n",
       "      <td>4124.747207</td>\n",
       "      <td>32</td>\n",
       "      <td>среднее</td>\n",
       "      <td>1</td>\n",
       "      <td>женат / замужем</td>\n",
       "      <td>0</td>\n",
       "      <td>M</td>\n",
       "      <td>сотрудник</td>\n",
       "      <td>0</td>\n",
       "      <td>267628.550329</td>\n",
       "      <td>дополнительное образование</td>\n",
       "      <td>0.706292</td>\n",
       "    </tr>\n",
       "    <tr>\n",
       "      <td>4</td>\n",
       "      <td>0</td>\n",
       "      <td>340266.072047</td>\n",
       "      <td>53</td>\n",
       "      <td>среднее</td>\n",
       "      <td>1</td>\n",
       "      <td>гражданский брак</td>\n",
       "      <td>1</td>\n",
       "      <td>F</td>\n",
       "      <td>пенсионер</td>\n",
       "      <td>0</td>\n",
       "      <td>158616.077870</td>\n",
       "      <td>сыграть свадьбу</td>\n",
       "      <td>25.195563</td>\n",
       "    </tr>\n",
       "  </tbody>\n",
       "</table>\n",
       "</div>"
      ],
      "text/plain": [
       "   children  days_employed  dob_years education  education_id  \\\n",
       "0         1    8437.673028         42    высшее             0   \n",
       "1         1    4024.803754         36   среднее             1   \n",
       "2         0    5623.422610         33   Среднее             1   \n",
       "3         3    4124.747207         32   среднее             1   \n",
       "4         0  340266.072047         53   среднее             1   \n",
       "\n",
       "      family_status  family_status_id gender income_type  debt   total_income  \\\n",
       "0   женат / замужем                 0      F   сотрудник     0  253875.639453   \n",
       "1   женат / замужем                 0      F   сотрудник     0  112080.014102   \n",
       "2   женат / замужем                 0      M   сотрудник     0  145885.952297   \n",
       "3   женат / замужем                 0      M   сотрудник     0  267628.550329   \n",
       "4  гражданский брак                 1      F   пенсионер     0  158616.077870   \n",
       "\n",
       "                      purpose  ratio_days_employed  \n",
       "0               покупка жилья             0.889112  \n",
       "1     приобретение автомобиля             0.551343  \n",
       "2               покупка жилья             0.906273  \n",
       "3  дополнительное образование             0.706292  \n",
       "4             сыграть свадьбу            25.195563  "
      ]
     },
     "execution_count": 5,
     "metadata": {},
     "output_type": "execute_result"
    }
   ],
   "source": [
    "df['ratio_days_employed'] = df[df['days_employed'].notnull()]['days_employed']/((df['dob_years']-16)*365)\n",
    "df.head()"
   ]
  },
  {
   "cell_type": "code",
   "execution_count": 6,
   "metadata": {},
   "outputs": [
    {
     "data": {
      "text/html": [
       "<div>\n",
       "<style scoped>\n",
       "    .dataframe tbody tr th:only-of-type {\n",
       "        vertical-align: middle;\n",
       "    }\n",
       "\n",
       "    .dataframe tbody tr th {\n",
       "        vertical-align: top;\n",
       "    }\n",
       "\n",
       "    .dataframe thead th {\n",
       "        text-align: right;\n",
       "    }\n",
       "</style>\n",
       "<table border=\"1\" class=\"dataframe\">\n",
       "  <thead>\n",
       "    <tr style=\"text-align: right;\">\n",
       "      <th></th>\n",
       "      <th>children</th>\n",
       "      <th>days_employed</th>\n",
       "      <th>dob_years</th>\n",
       "      <th>education</th>\n",
       "      <th>education_id</th>\n",
       "      <th>family_status</th>\n",
       "      <th>family_status_id</th>\n",
       "      <th>gender</th>\n",
       "      <th>income_type</th>\n",
       "      <th>debt</th>\n",
       "      <th>total_income</th>\n",
       "      <th>purpose</th>\n",
       "      <th>ratio_days_employed</th>\n",
       "    </tr>\n",
       "  </thead>\n",
       "  <tbody>\n",
       "    <tr>\n",
       "      <td>0</td>\n",
       "      <td>1</td>\n",
       "      <td>8437.673028</td>\n",
       "      <td>42</td>\n",
       "      <td>высшее</td>\n",
       "      <td>0</td>\n",
       "      <td>женат / замужем</td>\n",
       "      <td>0</td>\n",
       "      <td>F</td>\n",
       "      <td>сотрудник</td>\n",
       "      <td>0</td>\n",
       "      <td>253875.639453</td>\n",
       "      <td>покупка жилья</td>\n",
       "      <td>0.889112</td>\n",
       "    </tr>\n",
       "    <tr>\n",
       "      <td>1</td>\n",
       "      <td>1</td>\n",
       "      <td>4024.803754</td>\n",
       "      <td>36</td>\n",
       "      <td>среднее</td>\n",
       "      <td>1</td>\n",
       "      <td>женат / замужем</td>\n",
       "      <td>0</td>\n",
       "      <td>F</td>\n",
       "      <td>сотрудник</td>\n",
       "      <td>0</td>\n",
       "      <td>112080.014102</td>\n",
       "      <td>приобретение автомобиля</td>\n",
       "      <td>0.551343</td>\n",
       "    </tr>\n",
       "    <tr>\n",
       "      <td>2</td>\n",
       "      <td>0</td>\n",
       "      <td>5623.422610</td>\n",
       "      <td>33</td>\n",
       "      <td>Среднее</td>\n",
       "      <td>1</td>\n",
       "      <td>женат / замужем</td>\n",
       "      <td>0</td>\n",
       "      <td>M</td>\n",
       "      <td>сотрудник</td>\n",
       "      <td>0</td>\n",
       "      <td>145885.952297</td>\n",
       "      <td>покупка жилья</td>\n",
       "      <td>0.906273</td>\n",
       "    </tr>\n",
       "    <tr>\n",
       "      <td>3</td>\n",
       "      <td>3</td>\n",
       "      <td>4124.747207</td>\n",
       "      <td>32</td>\n",
       "      <td>среднее</td>\n",
       "      <td>1</td>\n",
       "      <td>женат / замужем</td>\n",
       "      <td>0</td>\n",
       "      <td>M</td>\n",
       "      <td>сотрудник</td>\n",
       "      <td>0</td>\n",
       "      <td>267628.550329</td>\n",
       "      <td>дополнительное образование</td>\n",
       "      <td>0.706292</td>\n",
       "    </tr>\n",
       "    <tr>\n",
       "      <td>4</td>\n",
       "      <td>0</td>\n",
       "      <td>340266.072047</td>\n",
       "      <td>53</td>\n",
       "      <td>среднее</td>\n",
       "      <td>1</td>\n",
       "      <td>гражданский брак</td>\n",
       "      <td>1</td>\n",
       "      <td>F</td>\n",
       "      <td>пенсионер</td>\n",
       "      <td>0</td>\n",
       "      <td>158616.077870</td>\n",
       "      <td>сыграть свадьбу</td>\n",
       "      <td>25.195563</td>\n",
       "    </tr>\n",
       "  </tbody>\n",
       "</table>\n",
       "</div>"
      ],
      "text/plain": [
       "   children  days_employed  dob_years education  education_id  \\\n",
       "0         1    8437.673028         42    высшее             0   \n",
       "1         1    4024.803754         36   среднее             1   \n",
       "2         0    5623.422610         33   Среднее             1   \n",
       "3         3    4124.747207         32   среднее             1   \n",
       "4         0  340266.072047         53   среднее             1   \n",
       "\n",
       "      family_status  family_status_id gender income_type  debt   total_income  \\\n",
       "0   женат / замужем                 0      F   сотрудник     0  253875.639453   \n",
       "1   женат / замужем                 0      F   сотрудник     0  112080.014102   \n",
       "2   женат / замужем                 0      M   сотрудник     0  145885.952297   \n",
       "3   женат / замужем                 0      M   сотрудник     0  267628.550329   \n",
       "4  гражданский брак                 1      F   пенсионер     0  158616.077870   \n",
       "\n",
       "                      purpose  ratio_days_employed  \n",
       "0               покупка жилья             0.889112  \n",
       "1     приобретение автомобиля             0.551343  \n",
       "2               покупка жилья             0.906273  \n",
       "3  дополнительное образование             0.706292  \n",
       "4             сыграть свадьбу            25.195563  "
      ]
     },
     "execution_count": 6,
     "metadata": {},
     "output_type": "execute_result"
    }
   ],
   "source": [
    "#-'days_employed': NaN заменяем на произведение среднего коэффициента по группе 'income_type', умноженного на возраст в днях;\n",
    "#-'total_income': NaN заменяем на среднее значение по зарплате по группе 'income_type'.\n",
    "df['days_employed'] = df.groupby('income_type')['days_employed'].transform(lambda x: x.fillna(x.mean()*df['dob_years']*365))\n",
    "df['total_income'] = df.groupby('income_type')['total_income'].transform(lambda x: x.fillna(x.mean()))\n",
    "df.head()"
   ]
  },
  {
   "cell_type": "code",
   "execution_count": 7,
   "metadata": {},
   "outputs": [
    {
     "data": {
      "text/html": [
       "<div>\n",
       "<style scoped>\n",
       "    .dataframe tbody tr th:only-of-type {\n",
       "        vertical-align: middle;\n",
       "    }\n",
       "\n",
       "    .dataframe tbody tr th {\n",
       "        vertical-align: top;\n",
       "    }\n",
       "\n",
       "    .dataframe thead th {\n",
       "        text-align: right;\n",
       "    }\n",
       "</style>\n",
       "<table border=\"1\" class=\"dataframe\">\n",
       "  <thead>\n",
       "    <tr style=\"text-align: right;\">\n",
       "      <th></th>\n",
       "      <th>children</th>\n",
       "      <th>days_employed</th>\n",
       "      <th>dob_years</th>\n",
       "      <th>education</th>\n",
       "      <th>education_id</th>\n",
       "      <th>family_status</th>\n",
       "      <th>family_status_id</th>\n",
       "      <th>gender</th>\n",
       "      <th>income_type</th>\n",
       "      <th>debt</th>\n",
       "      <th>total_income</th>\n",
       "      <th>purpose</th>\n",
       "    </tr>\n",
       "  </thead>\n",
       "  <tbody>\n",
       "    <tr>\n",
       "      <td>0</td>\n",
       "      <td>1</td>\n",
       "      <td>8.437673e+03</td>\n",
       "      <td>42</td>\n",
       "      <td>высшее</td>\n",
       "      <td>0</td>\n",
       "      <td>женат / замужем</td>\n",
       "      <td>0</td>\n",
       "      <td>F</td>\n",
       "      <td>сотрудник</td>\n",
       "      <td>0</td>\n",
       "      <td>253875.639453</td>\n",
       "      <td>покупка жилья</td>\n",
       "    </tr>\n",
       "    <tr>\n",
       "      <td>1</td>\n",
       "      <td>1</td>\n",
       "      <td>4.024804e+03</td>\n",
       "      <td>36</td>\n",
       "      <td>среднее</td>\n",
       "      <td>1</td>\n",
       "      <td>женат / замужем</td>\n",
       "      <td>0</td>\n",
       "      <td>F</td>\n",
       "      <td>сотрудник</td>\n",
       "      <td>0</td>\n",
       "      <td>112080.014102</td>\n",
       "      <td>приобретение автомобиля</td>\n",
       "    </tr>\n",
       "    <tr>\n",
       "      <td>2</td>\n",
       "      <td>0</td>\n",
       "      <td>5.623423e+03</td>\n",
       "      <td>33</td>\n",
       "      <td>Среднее</td>\n",
       "      <td>1</td>\n",
       "      <td>женат / замужем</td>\n",
       "      <td>0</td>\n",
       "      <td>M</td>\n",
       "      <td>сотрудник</td>\n",
       "      <td>0</td>\n",
       "      <td>145885.952297</td>\n",
       "      <td>покупка жилья</td>\n",
       "    </tr>\n",
       "    <tr>\n",
       "      <td>3</td>\n",
       "      <td>3</td>\n",
       "      <td>4.124747e+03</td>\n",
       "      <td>32</td>\n",
       "      <td>среднее</td>\n",
       "      <td>1</td>\n",
       "      <td>женат / замужем</td>\n",
       "      <td>0</td>\n",
       "      <td>M</td>\n",
       "      <td>сотрудник</td>\n",
       "      <td>0</td>\n",
       "      <td>267628.550329</td>\n",
       "      <td>дополнительное образование</td>\n",
       "    </tr>\n",
       "    <tr>\n",
       "      <td>4</td>\n",
       "      <td>0</td>\n",
       "      <td>3.402661e+05</td>\n",
       "      <td>53</td>\n",
       "      <td>среднее</td>\n",
       "      <td>1</td>\n",
       "      <td>гражданский брак</td>\n",
       "      <td>1</td>\n",
       "      <td>F</td>\n",
       "      <td>пенсионер</td>\n",
       "      <td>0</td>\n",
       "      <td>158616.077870</td>\n",
       "      <td>сыграть свадьбу</td>\n",
       "    </tr>\n",
       "    <tr>\n",
       "      <td>5</td>\n",
       "      <td>0</td>\n",
       "      <td>9.261858e+02</td>\n",
       "      <td>27</td>\n",
       "      <td>высшее</td>\n",
       "      <td>0</td>\n",
       "      <td>гражданский брак</td>\n",
       "      <td>1</td>\n",
       "      <td>M</td>\n",
       "      <td>компаньон</td>\n",
       "      <td>0</td>\n",
       "      <td>255763.565419</td>\n",
       "      <td>покупка жилья</td>\n",
       "    </tr>\n",
       "    <tr>\n",
       "      <td>6</td>\n",
       "      <td>0</td>\n",
       "      <td>2.879202e+03</td>\n",
       "      <td>43</td>\n",
       "      <td>высшее</td>\n",
       "      <td>0</td>\n",
       "      <td>женат / замужем</td>\n",
       "      <td>0</td>\n",
       "      <td>F</td>\n",
       "      <td>компаньон</td>\n",
       "      <td>0</td>\n",
       "      <td>240525.971920</td>\n",
       "      <td>операции с жильем</td>\n",
       "    </tr>\n",
       "    <tr>\n",
       "      <td>7</td>\n",
       "      <td>0</td>\n",
       "      <td>1.527796e+02</td>\n",
       "      <td>50</td>\n",
       "      <td>СРЕДНЕЕ</td>\n",
       "      <td>1</td>\n",
       "      <td>женат / замужем</td>\n",
       "      <td>0</td>\n",
       "      <td>M</td>\n",
       "      <td>сотрудник</td>\n",
       "      <td>0</td>\n",
       "      <td>135823.934197</td>\n",
       "      <td>образование</td>\n",
       "    </tr>\n",
       "    <tr>\n",
       "      <td>8</td>\n",
       "      <td>2</td>\n",
       "      <td>6.929865e+03</td>\n",
       "      <td>35</td>\n",
       "      <td>ВЫСШЕЕ</td>\n",
       "      <td>0</td>\n",
       "      <td>гражданский брак</td>\n",
       "      <td>1</td>\n",
       "      <td>F</td>\n",
       "      <td>сотрудник</td>\n",
       "      <td>0</td>\n",
       "      <td>95856.832424</td>\n",
       "      <td>на проведение свадьбы</td>\n",
       "    </tr>\n",
       "    <tr>\n",
       "      <td>9</td>\n",
       "      <td>0</td>\n",
       "      <td>2.188756e+03</td>\n",
       "      <td>41</td>\n",
       "      <td>среднее</td>\n",
       "      <td>1</td>\n",
       "      <td>женат / замужем</td>\n",
       "      <td>0</td>\n",
       "      <td>M</td>\n",
       "      <td>сотрудник</td>\n",
       "      <td>0</td>\n",
       "      <td>144425.938277</td>\n",
       "      <td>покупка жилья для семьи</td>\n",
       "    </tr>\n",
       "    <tr>\n",
       "      <td>10</td>\n",
       "      <td>2</td>\n",
       "      <td>4.171484e+03</td>\n",
       "      <td>36</td>\n",
       "      <td>высшее</td>\n",
       "      <td>0</td>\n",
       "      <td>женат / замужем</td>\n",
       "      <td>0</td>\n",
       "      <td>M</td>\n",
       "      <td>компаньон</td>\n",
       "      <td>0</td>\n",
       "      <td>113943.491460</td>\n",
       "      <td>покупка недвижимости</td>\n",
       "    </tr>\n",
       "    <tr>\n",
       "      <td>11</td>\n",
       "      <td>0</td>\n",
       "      <td>7.927019e+02</td>\n",
       "      <td>40</td>\n",
       "      <td>среднее</td>\n",
       "      <td>1</td>\n",
       "      <td>женат / замужем</td>\n",
       "      <td>0</td>\n",
       "      <td>F</td>\n",
       "      <td>сотрудник</td>\n",
       "      <td>0</td>\n",
       "      <td>77069.234271</td>\n",
       "      <td>покупка коммерческой недвижимости</td>\n",
       "    </tr>\n",
       "    <tr>\n",
       "      <td>12</td>\n",
       "      <td>0</td>\n",
       "      <td>8.659708e+09</td>\n",
       "      <td>65</td>\n",
       "      <td>среднее</td>\n",
       "      <td>1</td>\n",
       "      <td>гражданский брак</td>\n",
       "      <td>1</td>\n",
       "      <td>M</td>\n",
       "      <td>пенсионер</td>\n",
       "      <td>0</td>\n",
       "      <td>137127.465690</td>\n",
       "      <td>сыграть свадьбу</td>\n",
       "    </tr>\n",
       "    <tr>\n",
       "      <td>13</td>\n",
       "      <td>0</td>\n",
       "      <td>1.846642e+03</td>\n",
       "      <td>54</td>\n",
       "      <td>неоконченное высшее</td>\n",
       "      <td>2</td>\n",
       "      <td>женат / замужем</td>\n",
       "      <td>0</td>\n",
       "      <td>F</td>\n",
       "      <td>сотрудник</td>\n",
       "      <td>0</td>\n",
       "      <td>130458.228857</td>\n",
       "      <td>приобретение автомобиля</td>\n",
       "    </tr>\n",
       "    <tr>\n",
       "      <td>14</td>\n",
       "      <td>0</td>\n",
       "      <td>1.844956e+03</td>\n",
       "      <td>56</td>\n",
       "      <td>высшее</td>\n",
       "      <td>0</td>\n",
       "      <td>гражданский брак</td>\n",
       "      <td>1</td>\n",
       "      <td>F</td>\n",
       "      <td>компаньон</td>\n",
       "      <td>1</td>\n",
       "      <td>165127.911772</td>\n",
       "      <td>покупка жилой недвижимости</td>\n",
       "    </tr>\n",
       "  </tbody>\n",
       "</table>\n",
       "</div>"
      ],
      "text/plain": [
       "    children  days_employed  dob_years            education  education_id  \\\n",
       "0          1   8.437673e+03         42               высшее             0   \n",
       "1          1   4.024804e+03         36              среднее             1   \n",
       "2          0   5.623423e+03         33              Среднее             1   \n",
       "3          3   4.124747e+03         32              среднее             1   \n",
       "4          0   3.402661e+05         53              среднее             1   \n",
       "5          0   9.261858e+02         27               высшее             0   \n",
       "6          0   2.879202e+03         43               высшее             0   \n",
       "7          0   1.527796e+02         50              СРЕДНЕЕ             1   \n",
       "8          2   6.929865e+03         35               ВЫСШЕЕ             0   \n",
       "9          0   2.188756e+03         41              среднее             1   \n",
       "10         2   4.171484e+03         36               высшее             0   \n",
       "11         0   7.927019e+02         40              среднее             1   \n",
       "12         0   8.659708e+09         65              среднее             1   \n",
       "13         0   1.846642e+03         54  неоконченное высшее             2   \n",
       "14         0   1.844956e+03         56               высшее             0   \n",
       "\n",
       "       family_status  family_status_id gender income_type  debt  \\\n",
       "0    женат / замужем                 0      F   сотрудник     0   \n",
       "1    женат / замужем                 0      F   сотрудник     0   \n",
       "2    женат / замужем                 0      M   сотрудник     0   \n",
       "3    женат / замужем                 0      M   сотрудник     0   \n",
       "4   гражданский брак                 1      F   пенсионер     0   \n",
       "5   гражданский брак                 1      M   компаньон     0   \n",
       "6    женат / замужем                 0      F   компаньон     0   \n",
       "7    женат / замужем                 0      M   сотрудник     0   \n",
       "8   гражданский брак                 1      F   сотрудник     0   \n",
       "9    женат / замужем                 0      M   сотрудник     0   \n",
       "10   женат / замужем                 0      M   компаньон     0   \n",
       "11   женат / замужем                 0      F   сотрудник     0   \n",
       "12  гражданский брак                 1      M   пенсионер     0   \n",
       "13   женат / замужем                 0      F   сотрудник     0   \n",
       "14  гражданский брак                 1      F   компаньон     1   \n",
       "\n",
       "     total_income                            purpose  \n",
       "0   253875.639453                      покупка жилья  \n",
       "1   112080.014102            приобретение автомобиля  \n",
       "2   145885.952297                      покупка жилья  \n",
       "3   267628.550329         дополнительное образование  \n",
       "4   158616.077870                    сыграть свадьбу  \n",
       "5   255763.565419                      покупка жилья  \n",
       "6   240525.971920                  операции с жильем  \n",
       "7   135823.934197                        образование  \n",
       "8    95856.832424              на проведение свадьбы  \n",
       "9   144425.938277            покупка жилья для семьи  \n",
       "10  113943.491460               покупка недвижимости  \n",
       "11   77069.234271  покупка коммерческой недвижимости  \n",
       "12  137127.465690                    сыграть свадьбу  \n",
       "13  130458.228857            приобретение автомобиля  \n",
       "14  165127.911772         покупка жилой недвижимости  "
      ]
     },
     "execution_count": 7,
     "metadata": {},
     "output_type": "execute_result"
    }
   ],
   "source": [
    "#Удаляю вспомогательный столбец и вывожу общую информацию по датафрейму.\n",
    "df = df.drop('ratio_days_employed', axis=1)\n",
    "df.head(15)"
   ]
  },
  {
   "cell_type": "markdown",
   "metadata": {},
   "source": [
    "**Вывод**"
   ]
  },
  {
   "cell_type": "markdown",
   "metadata": {},
   "source": [
    "Заполнили пропуски, теперь пенсионеры получают как и другие пенсионеры и все в таком духе. Я понял свою ошибку"
   ]
  },
  {
   "cell_type": "markdown",
   "metadata": {},
   "source": [
    "### Замена типов данных"
   ]
  },
  {
   "cell_type": "code",
   "execution_count": 8,
   "metadata": {},
   "outputs": [
    {
     "data": {
      "text/html": [
       "<div>\n",
       "<style scoped>\n",
       "    .dataframe tbody tr th:only-of-type {\n",
       "        vertical-align: middle;\n",
       "    }\n",
       "\n",
       "    .dataframe tbody tr th {\n",
       "        vertical-align: top;\n",
       "    }\n",
       "\n",
       "    .dataframe thead th {\n",
       "        text-align: right;\n",
       "    }\n",
       "</style>\n",
       "<table border=\"1\" class=\"dataframe\">\n",
       "  <thead>\n",
       "    <tr style=\"text-align: right;\">\n",
       "      <th></th>\n",
       "      <th>children</th>\n",
       "      <th>days_employed</th>\n",
       "      <th>dob_years</th>\n",
       "      <th>education</th>\n",
       "      <th>education_id</th>\n",
       "      <th>family_status</th>\n",
       "      <th>family_status_id</th>\n",
       "      <th>gender</th>\n",
       "      <th>income_type</th>\n",
       "      <th>debt</th>\n",
       "      <th>total_income</th>\n",
       "      <th>purpose</th>\n",
       "    </tr>\n",
       "  </thead>\n",
       "  <tbody>\n",
       "    <tr>\n",
       "      <td>0</td>\n",
       "      <td>1</td>\n",
       "      <td>8437</td>\n",
       "      <td>42</td>\n",
       "      <td>высшее</td>\n",
       "      <td>0</td>\n",
       "      <td>женат / замужем</td>\n",
       "      <td>0</td>\n",
       "      <td>F</td>\n",
       "      <td>сотрудник</td>\n",
       "      <td>0</td>\n",
       "      <td>253875</td>\n",
       "      <td>покупка жилья</td>\n",
       "    </tr>\n",
       "    <tr>\n",
       "      <td>1</td>\n",
       "      <td>1</td>\n",
       "      <td>4024</td>\n",
       "      <td>36</td>\n",
       "      <td>среднее</td>\n",
       "      <td>1</td>\n",
       "      <td>женат / замужем</td>\n",
       "      <td>0</td>\n",
       "      <td>F</td>\n",
       "      <td>сотрудник</td>\n",
       "      <td>0</td>\n",
       "      <td>112080</td>\n",
       "      <td>приобретение автомобиля</td>\n",
       "    </tr>\n",
       "    <tr>\n",
       "      <td>2</td>\n",
       "      <td>0</td>\n",
       "      <td>5623</td>\n",
       "      <td>33</td>\n",
       "      <td>Среднее</td>\n",
       "      <td>1</td>\n",
       "      <td>женат / замужем</td>\n",
       "      <td>0</td>\n",
       "      <td>M</td>\n",
       "      <td>сотрудник</td>\n",
       "      <td>0</td>\n",
       "      <td>145885</td>\n",
       "      <td>покупка жилья</td>\n",
       "    </tr>\n",
       "    <tr>\n",
       "      <td>3</td>\n",
       "      <td>3</td>\n",
       "      <td>4124</td>\n",
       "      <td>32</td>\n",
       "      <td>среднее</td>\n",
       "      <td>1</td>\n",
       "      <td>женат / замужем</td>\n",
       "      <td>0</td>\n",
       "      <td>M</td>\n",
       "      <td>сотрудник</td>\n",
       "      <td>0</td>\n",
       "      <td>267628</td>\n",
       "      <td>дополнительное образование</td>\n",
       "    </tr>\n",
       "    <tr>\n",
       "      <td>4</td>\n",
       "      <td>0</td>\n",
       "      <td>340266</td>\n",
       "      <td>53</td>\n",
       "      <td>среднее</td>\n",
       "      <td>1</td>\n",
       "      <td>гражданский брак</td>\n",
       "      <td>1</td>\n",
       "      <td>F</td>\n",
       "      <td>пенсионер</td>\n",
       "      <td>0</td>\n",
       "      <td>158616</td>\n",
       "      <td>сыграть свадьбу</td>\n",
       "    </tr>\n",
       "    <tr>\n",
       "      <td>5</td>\n",
       "      <td>0</td>\n",
       "      <td>926</td>\n",
       "      <td>27</td>\n",
       "      <td>высшее</td>\n",
       "      <td>0</td>\n",
       "      <td>гражданский брак</td>\n",
       "      <td>1</td>\n",
       "      <td>M</td>\n",
       "      <td>компаньон</td>\n",
       "      <td>0</td>\n",
       "      <td>255763</td>\n",
       "      <td>покупка жилья</td>\n",
       "    </tr>\n",
       "    <tr>\n",
       "      <td>6</td>\n",
       "      <td>0</td>\n",
       "      <td>2879</td>\n",
       "      <td>43</td>\n",
       "      <td>высшее</td>\n",
       "      <td>0</td>\n",
       "      <td>женат / замужем</td>\n",
       "      <td>0</td>\n",
       "      <td>F</td>\n",
       "      <td>компаньон</td>\n",
       "      <td>0</td>\n",
       "      <td>240525</td>\n",
       "      <td>операции с жильем</td>\n",
       "    </tr>\n",
       "    <tr>\n",
       "      <td>7</td>\n",
       "      <td>0</td>\n",
       "      <td>152</td>\n",
       "      <td>50</td>\n",
       "      <td>СРЕДНЕЕ</td>\n",
       "      <td>1</td>\n",
       "      <td>женат / замужем</td>\n",
       "      <td>0</td>\n",
       "      <td>M</td>\n",
       "      <td>сотрудник</td>\n",
       "      <td>0</td>\n",
       "      <td>135823</td>\n",
       "      <td>образование</td>\n",
       "    </tr>\n",
       "    <tr>\n",
       "      <td>8</td>\n",
       "      <td>2</td>\n",
       "      <td>6929</td>\n",
       "      <td>35</td>\n",
       "      <td>ВЫСШЕЕ</td>\n",
       "      <td>0</td>\n",
       "      <td>гражданский брак</td>\n",
       "      <td>1</td>\n",
       "      <td>F</td>\n",
       "      <td>сотрудник</td>\n",
       "      <td>0</td>\n",
       "      <td>95856</td>\n",
       "      <td>на проведение свадьбы</td>\n",
       "    </tr>\n",
       "    <tr>\n",
       "      <td>9</td>\n",
       "      <td>0</td>\n",
       "      <td>2188</td>\n",
       "      <td>41</td>\n",
       "      <td>среднее</td>\n",
       "      <td>1</td>\n",
       "      <td>женат / замужем</td>\n",
       "      <td>0</td>\n",
       "      <td>M</td>\n",
       "      <td>сотрудник</td>\n",
       "      <td>0</td>\n",
       "      <td>144425</td>\n",
       "      <td>покупка жилья для семьи</td>\n",
       "    </tr>\n",
       "  </tbody>\n",
       "</table>\n",
       "</div>"
      ],
      "text/plain": [
       "   children  days_employed  dob_years education  education_id  \\\n",
       "0         1           8437         42    высшее             0   \n",
       "1         1           4024         36   среднее             1   \n",
       "2         0           5623         33   Среднее             1   \n",
       "3         3           4124         32   среднее             1   \n",
       "4         0         340266         53   среднее             1   \n",
       "5         0            926         27    высшее             0   \n",
       "6         0           2879         43    высшее             0   \n",
       "7         0            152         50   СРЕДНЕЕ             1   \n",
       "8         2           6929         35    ВЫСШЕЕ             0   \n",
       "9         0           2188         41   среднее             1   \n",
       "\n",
       "      family_status  family_status_id gender income_type  debt  total_income  \\\n",
       "0   женат / замужем                 0      F   сотрудник     0        253875   \n",
       "1   женат / замужем                 0      F   сотрудник     0        112080   \n",
       "2   женат / замужем                 0      M   сотрудник     0        145885   \n",
       "3   женат / замужем                 0      M   сотрудник     0        267628   \n",
       "4  гражданский брак                 1      F   пенсионер     0        158616   \n",
       "5  гражданский брак                 1      M   компаньон     0        255763   \n",
       "6   женат / замужем                 0      F   компаньон     0        240525   \n",
       "7   женат / замужем                 0      M   сотрудник     0        135823   \n",
       "8  гражданский брак                 1      F   сотрудник     0         95856   \n",
       "9   женат / замужем                 0      M   сотрудник     0        144425   \n",
       "\n",
       "                      purpose  \n",
       "0               покупка жилья  \n",
       "1     приобретение автомобиля  \n",
       "2               покупка жилья  \n",
       "3  дополнительное образование  \n",
       "4             сыграть свадьбу  \n",
       "5               покупка жилья  \n",
       "6           операции с жильем  \n",
       "7                 образование  \n",
       "8       на проведение свадьбы  \n",
       "9     покупка жилья для семьи  "
      ]
     },
     "execution_count": 8,
     "metadata": {},
     "output_type": "execute_result"
    }
   ],
   "source": [
    "#перевод значений в 'days_employed' в положительные, предположительно произошла опечатка в записи этих данных.\n",
    "#также перевод ['total_income'] и ['days_employed'] значений типа 'float' в целочисленные 'int'\n",
    "#еще были обнаружены отрицательные значения в столбы 'children'\n",
    "df['children'] = df['children'].abs()\n",
    "df['days_employed'] = df['days_employed'].astype('int')\n",
    "df['total_income'] = df['total_income'].astype('int')\n",
    "df.head(10)"
   ]
  },
  {
   "cell_type": "markdown",
   "metadata": {},
   "source": [
    "**Вывод**"
   ]
  },
  {
   "cell_type": "markdown",
   "metadata": {},
   "source": [
    "После перевода в целочисленный тип данных столбцов со стажем работы и ежемесячным доходом сразу таблица стала более читабельной."
   ]
  },
  {
   "cell_type": "markdown",
   "metadata": {},
   "source": [
    "### Обработка дубликатов"
   ]
  },
  {
   "cell_type": "code",
   "execution_count": 9,
   "metadata": {},
   "outputs": [
    {
     "data": {
      "text/plain": [
       "71"
      ]
     },
     "execution_count": 9,
     "metadata": {},
     "output_type": "execute_result"
    }
   ],
   "source": [
    "#были обнаружены знания с разным регистром в толбце 'education', что может привести к неправильному поиску дупликатов\n",
    "#поэтому сначала привели к общему регистру, а затем посчитали количество дупликатов\n",
    "df['education'] = df['education'].str.lower()\n",
    "df.duplicated().sum()"
   ]
  },
  {
   "cell_type": "code",
   "execution_count": 10,
   "metadata": {},
   "outputs": [
    {
     "data": {
      "text/plain": [
       "0"
      ]
     },
     "execution_count": 10,
     "metadata": {},
     "output_type": "execute_result"
    }
   ],
   "source": [
    "#и удалили их\n",
    "df = df.drop_duplicates()\n",
    "df.duplicated().sum()"
   ]
  },
  {
   "cell_type": "markdown",
   "metadata": {},
   "source": [
    "**Вывод**"
   ]
  },
  {
   "cell_type": "markdown",
   "metadata": {},
   "source": [
    "Были удалены дупликаты с учетом регистра, что поможет нам при подведении итогов проекта"
   ]
  },
  {
   "cell_type": "markdown",
   "metadata": {},
   "source": [
    "### Лемматизация"
   ]
  },
  {
   "cell_type": "code",
   "execution_count": 11,
   "metadata": {},
   "outputs": [
    {
     "data": {
      "text/html": [
       "<div>\n",
       "<style scoped>\n",
       "    .dataframe tbody tr th:only-of-type {\n",
       "        vertical-align: middle;\n",
       "    }\n",
       "\n",
       "    .dataframe tbody tr th {\n",
       "        vertical-align: top;\n",
       "    }\n",
       "\n",
       "    .dataframe thead th {\n",
       "        text-align: right;\n",
       "    }\n",
       "</style>\n",
       "<table border=\"1\" class=\"dataframe\">\n",
       "  <thead>\n",
       "    <tr style=\"text-align: right;\">\n",
       "      <th></th>\n",
       "      <th>children</th>\n",
       "      <th>days_employed</th>\n",
       "      <th>dob_years</th>\n",
       "      <th>education</th>\n",
       "      <th>education_id</th>\n",
       "      <th>family_status</th>\n",
       "      <th>family_status_id</th>\n",
       "      <th>gender</th>\n",
       "      <th>income_type</th>\n",
       "      <th>debt</th>\n",
       "      <th>total_income</th>\n",
       "      <th>purpose</th>\n",
       "      <th>category</th>\n",
       "    </tr>\n",
       "  </thead>\n",
       "  <tbody>\n",
       "    <tr>\n",
       "      <td>0</td>\n",
       "      <td>1</td>\n",
       "      <td>8437</td>\n",
       "      <td>42</td>\n",
       "      <td>высшее</td>\n",
       "      <td>0</td>\n",
       "      <td>женат / замужем</td>\n",
       "      <td>0</td>\n",
       "      <td>F</td>\n",
       "      <td>сотрудник</td>\n",
       "      <td>0</td>\n",
       "      <td>253875</td>\n",
       "      <td>покупка жилья</td>\n",
       "      <td>недвижимость</td>\n",
       "    </tr>\n",
       "    <tr>\n",
       "      <td>1</td>\n",
       "      <td>1</td>\n",
       "      <td>4024</td>\n",
       "      <td>36</td>\n",
       "      <td>среднее</td>\n",
       "      <td>1</td>\n",
       "      <td>женат / замужем</td>\n",
       "      <td>0</td>\n",
       "      <td>F</td>\n",
       "      <td>сотрудник</td>\n",
       "      <td>0</td>\n",
       "      <td>112080</td>\n",
       "      <td>приобретение автомобиля</td>\n",
       "      <td>автомобиль</td>\n",
       "    </tr>\n",
       "    <tr>\n",
       "      <td>2</td>\n",
       "      <td>0</td>\n",
       "      <td>5623</td>\n",
       "      <td>33</td>\n",
       "      <td>среднее</td>\n",
       "      <td>1</td>\n",
       "      <td>женат / замужем</td>\n",
       "      <td>0</td>\n",
       "      <td>M</td>\n",
       "      <td>сотрудник</td>\n",
       "      <td>0</td>\n",
       "      <td>145885</td>\n",
       "      <td>покупка жилья</td>\n",
       "      <td>недвижимость</td>\n",
       "    </tr>\n",
       "    <tr>\n",
       "      <td>3</td>\n",
       "      <td>3</td>\n",
       "      <td>4124</td>\n",
       "      <td>32</td>\n",
       "      <td>среднее</td>\n",
       "      <td>1</td>\n",
       "      <td>женат / замужем</td>\n",
       "      <td>0</td>\n",
       "      <td>M</td>\n",
       "      <td>сотрудник</td>\n",
       "      <td>0</td>\n",
       "      <td>267628</td>\n",
       "      <td>дополнительное образование</td>\n",
       "      <td>образование</td>\n",
       "    </tr>\n",
       "    <tr>\n",
       "      <td>4</td>\n",
       "      <td>0</td>\n",
       "      <td>340266</td>\n",
       "      <td>53</td>\n",
       "      <td>среднее</td>\n",
       "      <td>1</td>\n",
       "      <td>гражданский брак</td>\n",
       "      <td>1</td>\n",
       "      <td>F</td>\n",
       "      <td>пенсионер</td>\n",
       "      <td>0</td>\n",
       "      <td>158616</td>\n",
       "      <td>сыграть свадьбу</td>\n",
       "      <td>свадьба</td>\n",
       "    </tr>\n",
       "  </tbody>\n",
       "</table>\n",
       "</div>"
      ],
      "text/plain": [
       "   children  days_employed  dob_years education  education_id  \\\n",
       "0         1           8437         42    высшее             0   \n",
       "1         1           4024         36   среднее             1   \n",
       "2         0           5623         33   среднее             1   \n",
       "3         3           4124         32   среднее             1   \n",
       "4         0         340266         53   среднее             1   \n",
       "\n",
       "      family_status  family_status_id gender income_type  debt  total_income  \\\n",
       "0   женат / замужем                 0      F   сотрудник     0        253875   \n",
       "1   женат / замужем                 0      F   сотрудник     0        112080   \n",
       "2   женат / замужем                 0      M   сотрудник     0        145885   \n",
       "3   женат / замужем                 0      M   сотрудник     0        267628   \n",
       "4  гражданский брак                 1      F   пенсионер     0        158616   \n",
       "\n",
       "                      purpose      category  \n",
       "0               покупка жилья  недвижимость  \n",
       "1     приобретение автомобиля    автомобиль  \n",
       "2               покупка жилья  недвижимость  \n",
       "3  дополнительное образование   образование  \n",
       "4             сыграть свадьбу       свадьба  "
      ]
     },
     "execution_count": 11,
     "metadata": {},
     "output_type": "execute_result"
    }
   ],
   "source": [
    "from pymystem3 import Mystem\n",
    "m = Mystem()\n",
    " \n",
    "def lemmatize_purpose(row):\n",
    "    \n",
    "    lemmas = m.lemmatize(row)\n",
    "    for word in lemmas:\n",
    "        if word in ['недвижимость', 'жилье']:\n",
    "            return 'недвижимость'\n",
    "        if word == 'автомобиль':\n",
    "            return 'автомобиль'\n",
    "        if word == 'образование':\n",
    "            return 'образование'\n",
    "        if word == 'свадьба':\n",
    "            return 'свадьба'\n",
    "        \n",
    "        \n",
    "df['category'] = df['purpose'].apply(lemmatize_purpose)\n",
    "df.head()"
   ]
  },
  {
   "cell_type": "markdown",
   "metadata": {},
   "source": [
    "**Вывод**"
   ]
  },
  {
   "cell_type": "markdown",
   "metadata": {},
   "source": [
    "Лемматизировать столбец с целями кредита нужно, чтобы выделить основные цели из разных вариантов их описания клиентами.\n",
    "Для начала я подключил библиотеку Mystem и затем создал функцию которая лемматизирует данные, а потом распределяет по категориям кредита. "
   ]
  },
  {
   "cell_type": "markdown",
   "metadata": {},
   "source": [
    "### Категоризация данных"
   ]
  },
  {
   "cell_type": "code",
   "execution_count": 12,
   "metadata": {},
   "outputs": [
    {
     "data": {
      "text/plain": [
       "[(202417.0, 2265604.0], (107623.0, 151887.0], (151887.0, 202417.0], (20666.999, 107623.0]]\n",
       "Categories (4, interval[float64]): [(20666.999, 107623.0] < (107623.0, 151887.0] < (151887.0, 202417.0] < (202417.0, 2265604.0]]"
      ]
     },
     "execution_count": 12,
     "metadata": {},
     "output_type": "execute_result"
    }
   ],
   "source": [
    "# использую метод qcut для нахождения интервалов и проделаем разбиение по категориям\n",
    "df['quantile_ex_1'] = pd.qcut(df['total_income'], q=4)\n",
    "df['quantile_ex_1'].unique()"
   ]
  },
  {
   "cell_type": "code",
   "execution_count": 13,
   "metadata": {
    "scrolled": false
   },
   "outputs": [
    {
     "data": {
      "text/html": [
       "<div>\n",
       "<style scoped>\n",
       "    .dataframe tbody tr th:only-of-type {\n",
       "        vertical-align: middle;\n",
       "    }\n",
       "\n",
       "    .dataframe tbody tr th {\n",
       "        vertical-align: top;\n",
       "    }\n",
       "\n",
       "    .dataframe thead th {\n",
       "        text-align: right;\n",
       "    }\n",
       "</style>\n",
       "<table border=\"1\" class=\"dataframe\">\n",
       "  <thead>\n",
       "    <tr style=\"text-align: right;\">\n",
       "      <th></th>\n",
       "      <th>children</th>\n",
       "      <th>days_employed</th>\n",
       "      <th>dob_years</th>\n",
       "      <th>education</th>\n",
       "      <th>education_id</th>\n",
       "      <th>family_status</th>\n",
       "      <th>family_status_id</th>\n",
       "      <th>gender</th>\n",
       "      <th>income_type</th>\n",
       "      <th>debt</th>\n",
       "      <th>total_income</th>\n",
       "      <th>purpose</th>\n",
       "      <th>category</th>\n",
       "      <th>quantile_ex_1</th>\n",
       "      <th>age_group</th>\n",
       "      <th>money_they_earn</th>\n",
       "    </tr>\n",
       "  </thead>\n",
       "  <tbody>\n",
       "    <tr>\n",
       "      <td>0</td>\n",
       "      <td>1</td>\n",
       "      <td>8437</td>\n",
       "      <td>42</td>\n",
       "      <td>высшее</td>\n",
       "      <td>0</td>\n",
       "      <td>женат / замужем</td>\n",
       "      <td>0</td>\n",
       "      <td>F</td>\n",
       "      <td>сотрудник</td>\n",
       "      <td>0</td>\n",
       "      <td>253875</td>\n",
       "      <td>покупка жилья</td>\n",
       "      <td>недвижимость</td>\n",
       "      <td>(202417.0, 2265604.0]</td>\n",
       "      <td>взрослый</td>\n",
       "      <td>богатый</td>\n",
       "    </tr>\n",
       "    <tr>\n",
       "      <td>1</td>\n",
       "      <td>1</td>\n",
       "      <td>4024</td>\n",
       "      <td>36</td>\n",
       "      <td>среднее</td>\n",
       "      <td>1</td>\n",
       "      <td>женат / замужем</td>\n",
       "      <td>0</td>\n",
       "      <td>F</td>\n",
       "      <td>сотрудник</td>\n",
       "      <td>0</td>\n",
       "      <td>112080</td>\n",
       "      <td>приобретение автомобиля</td>\n",
       "      <td>автомобиль</td>\n",
       "      <td>(107623.0, 151887.0]</td>\n",
       "      <td>взрослый</td>\n",
       "      <td>средний доход</td>\n",
       "    </tr>\n",
       "    <tr>\n",
       "      <td>2</td>\n",
       "      <td>0</td>\n",
       "      <td>5623</td>\n",
       "      <td>33</td>\n",
       "      <td>среднее</td>\n",
       "      <td>1</td>\n",
       "      <td>женат / замужем</td>\n",
       "      <td>0</td>\n",
       "      <td>M</td>\n",
       "      <td>сотрудник</td>\n",
       "      <td>0</td>\n",
       "      <td>145885</td>\n",
       "      <td>покупка жилья</td>\n",
       "      <td>недвижимость</td>\n",
       "      <td>(107623.0, 151887.0]</td>\n",
       "      <td>взрослый</td>\n",
       "      <td>средний доход</td>\n",
       "    </tr>\n",
       "    <tr>\n",
       "      <td>3</td>\n",
       "      <td>3</td>\n",
       "      <td>4124</td>\n",
       "      <td>32</td>\n",
       "      <td>среднее</td>\n",
       "      <td>1</td>\n",
       "      <td>женат / замужем</td>\n",
       "      <td>0</td>\n",
       "      <td>M</td>\n",
       "      <td>сотрудник</td>\n",
       "      <td>0</td>\n",
       "      <td>267628</td>\n",
       "      <td>дополнительное образование</td>\n",
       "      <td>образование</td>\n",
       "      <td>(202417.0, 2265604.0]</td>\n",
       "      <td>взрослый</td>\n",
       "      <td>богатый</td>\n",
       "    </tr>\n",
       "    <tr>\n",
       "      <td>4</td>\n",
       "      <td>0</td>\n",
       "      <td>340266</td>\n",
       "      <td>53</td>\n",
       "      <td>среднее</td>\n",
       "      <td>1</td>\n",
       "      <td>гражданский брак</td>\n",
       "      <td>1</td>\n",
       "      <td>F</td>\n",
       "      <td>пенсионер</td>\n",
       "      <td>0</td>\n",
       "      <td>158616</td>\n",
       "      <td>сыграть свадьбу</td>\n",
       "      <td>свадьба</td>\n",
       "      <td>(151887.0, 202417.0]</td>\n",
       "      <td>взрослый</td>\n",
       "      <td>высокий доход</td>\n",
       "    </tr>\n",
       "    <tr>\n",
       "      <td>5</td>\n",
       "      <td>0</td>\n",
       "      <td>926</td>\n",
       "      <td>27</td>\n",
       "      <td>высшее</td>\n",
       "      <td>0</td>\n",
       "      <td>гражданский брак</td>\n",
       "      <td>1</td>\n",
       "      <td>M</td>\n",
       "      <td>компаньон</td>\n",
       "      <td>0</td>\n",
       "      <td>255763</td>\n",
       "      <td>покупка жилья</td>\n",
       "      <td>недвижимость</td>\n",
       "      <td>(202417.0, 2265604.0]</td>\n",
       "      <td>взрослый</td>\n",
       "      <td>богатый</td>\n",
       "    </tr>\n",
       "    <tr>\n",
       "      <td>6</td>\n",
       "      <td>0</td>\n",
       "      <td>2879</td>\n",
       "      <td>43</td>\n",
       "      <td>высшее</td>\n",
       "      <td>0</td>\n",
       "      <td>женат / замужем</td>\n",
       "      <td>0</td>\n",
       "      <td>F</td>\n",
       "      <td>компаньон</td>\n",
       "      <td>0</td>\n",
       "      <td>240525</td>\n",
       "      <td>операции с жильем</td>\n",
       "      <td>недвижимость</td>\n",
       "      <td>(202417.0, 2265604.0]</td>\n",
       "      <td>взрослый</td>\n",
       "      <td>богатый</td>\n",
       "    </tr>\n",
       "    <tr>\n",
       "      <td>7</td>\n",
       "      <td>0</td>\n",
       "      <td>152</td>\n",
       "      <td>50</td>\n",
       "      <td>среднее</td>\n",
       "      <td>1</td>\n",
       "      <td>женат / замужем</td>\n",
       "      <td>0</td>\n",
       "      <td>M</td>\n",
       "      <td>сотрудник</td>\n",
       "      <td>0</td>\n",
       "      <td>135823</td>\n",
       "      <td>образование</td>\n",
       "      <td>образование</td>\n",
       "      <td>(107623.0, 151887.0]</td>\n",
       "      <td>взрослый</td>\n",
       "      <td>средний доход</td>\n",
       "    </tr>\n",
       "    <tr>\n",
       "      <td>8</td>\n",
       "      <td>2</td>\n",
       "      <td>6929</td>\n",
       "      <td>35</td>\n",
       "      <td>высшее</td>\n",
       "      <td>0</td>\n",
       "      <td>гражданский брак</td>\n",
       "      <td>1</td>\n",
       "      <td>F</td>\n",
       "      <td>сотрудник</td>\n",
       "      <td>0</td>\n",
       "      <td>95856</td>\n",
       "      <td>на проведение свадьбы</td>\n",
       "      <td>свадьба</td>\n",
       "      <td>(20666.999, 107623.0]</td>\n",
       "      <td>взрослый</td>\n",
       "      <td>малый доход</td>\n",
       "    </tr>\n",
       "    <tr>\n",
       "      <td>9</td>\n",
       "      <td>0</td>\n",
       "      <td>2188</td>\n",
       "      <td>41</td>\n",
       "      <td>среднее</td>\n",
       "      <td>1</td>\n",
       "      <td>женат / замужем</td>\n",
       "      <td>0</td>\n",
       "      <td>M</td>\n",
       "      <td>сотрудник</td>\n",
       "      <td>0</td>\n",
       "      <td>144425</td>\n",
       "      <td>покупка жилья для семьи</td>\n",
       "      <td>недвижимость</td>\n",
       "      <td>(107623.0, 151887.0]</td>\n",
       "      <td>взрослый</td>\n",
       "      <td>средний доход</td>\n",
       "    </tr>\n",
       "    <tr>\n",
       "      <td>10</td>\n",
       "      <td>2</td>\n",
       "      <td>4171</td>\n",
       "      <td>36</td>\n",
       "      <td>высшее</td>\n",
       "      <td>0</td>\n",
       "      <td>женат / замужем</td>\n",
       "      <td>0</td>\n",
       "      <td>M</td>\n",
       "      <td>компаньон</td>\n",
       "      <td>0</td>\n",
       "      <td>113943</td>\n",
       "      <td>покупка недвижимости</td>\n",
       "      <td>недвижимость</td>\n",
       "      <td>(107623.0, 151887.0]</td>\n",
       "      <td>взрослый</td>\n",
       "      <td>средний доход</td>\n",
       "    </tr>\n",
       "    <tr>\n",
       "      <td>11</td>\n",
       "      <td>0</td>\n",
       "      <td>792</td>\n",
       "      <td>40</td>\n",
       "      <td>среднее</td>\n",
       "      <td>1</td>\n",
       "      <td>женат / замужем</td>\n",
       "      <td>0</td>\n",
       "      <td>F</td>\n",
       "      <td>сотрудник</td>\n",
       "      <td>0</td>\n",
       "      <td>77069</td>\n",
       "      <td>покупка коммерческой недвижимости</td>\n",
       "      <td>недвижимость</td>\n",
       "      <td>(20666.999, 107623.0]</td>\n",
       "      <td>взрослый</td>\n",
       "      <td>малый доход</td>\n",
       "    </tr>\n",
       "    <tr>\n",
       "      <td>12</td>\n",
       "      <td>0</td>\n",
       "      <td>8659707829</td>\n",
       "      <td>65</td>\n",
       "      <td>среднее</td>\n",
       "      <td>1</td>\n",
       "      <td>гражданский брак</td>\n",
       "      <td>1</td>\n",
       "      <td>M</td>\n",
       "      <td>пенсионер</td>\n",
       "      <td>0</td>\n",
       "      <td>137127</td>\n",
       "      <td>сыграть свадьбу</td>\n",
       "      <td>свадьба</td>\n",
       "      <td>(107623.0, 151887.0]</td>\n",
       "      <td>пенсионер</td>\n",
       "      <td>средний доход</td>\n",
       "    </tr>\n",
       "    <tr>\n",
       "      <td>13</td>\n",
       "      <td>0</td>\n",
       "      <td>1846</td>\n",
       "      <td>54</td>\n",
       "      <td>неоконченное высшее</td>\n",
       "      <td>2</td>\n",
       "      <td>женат / замужем</td>\n",
       "      <td>0</td>\n",
       "      <td>F</td>\n",
       "      <td>сотрудник</td>\n",
       "      <td>0</td>\n",
       "      <td>130458</td>\n",
       "      <td>приобретение автомобиля</td>\n",
       "      <td>автомобиль</td>\n",
       "      <td>(107623.0, 151887.0]</td>\n",
       "      <td>взрослый</td>\n",
       "      <td>средний доход</td>\n",
       "    </tr>\n",
       "    <tr>\n",
       "      <td>14</td>\n",
       "      <td>0</td>\n",
       "      <td>1844</td>\n",
       "      <td>56</td>\n",
       "      <td>высшее</td>\n",
       "      <td>0</td>\n",
       "      <td>гражданский брак</td>\n",
       "      <td>1</td>\n",
       "      <td>F</td>\n",
       "      <td>компаньон</td>\n",
       "      <td>1</td>\n",
       "      <td>165127</td>\n",
       "      <td>покупка жилой недвижимости</td>\n",
       "      <td>недвижимость</td>\n",
       "      <td>(151887.0, 202417.0]</td>\n",
       "      <td>взрослый</td>\n",
       "      <td>высокий доход</td>\n",
       "    </tr>\n",
       "  </tbody>\n",
       "</table>\n",
       "</div>"
      ],
      "text/plain": [
       "    children  days_employed  dob_years            education  education_id  \\\n",
       "0          1           8437         42               высшее             0   \n",
       "1          1           4024         36              среднее             1   \n",
       "2          0           5623         33              среднее             1   \n",
       "3          3           4124         32              среднее             1   \n",
       "4          0         340266         53              среднее             1   \n",
       "5          0            926         27               высшее             0   \n",
       "6          0           2879         43               высшее             0   \n",
       "7          0            152         50              среднее             1   \n",
       "8          2           6929         35               высшее             0   \n",
       "9          0           2188         41              среднее             1   \n",
       "10         2           4171         36               высшее             0   \n",
       "11         0            792         40              среднее             1   \n",
       "12         0     8659707829         65              среднее             1   \n",
       "13         0           1846         54  неоконченное высшее             2   \n",
       "14         0           1844         56               высшее             0   \n",
       "\n",
       "       family_status  family_status_id gender income_type  debt  total_income  \\\n",
       "0    женат / замужем                 0      F   сотрудник     0        253875   \n",
       "1    женат / замужем                 0      F   сотрудник     0        112080   \n",
       "2    женат / замужем                 0      M   сотрудник     0        145885   \n",
       "3    женат / замужем                 0      M   сотрудник     0        267628   \n",
       "4   гражданский брак                 1      F   пенсионер     0        158616   \n",
       "5   гражданский брак                 1      M   компаньон     0        255763   \n",
       "6    женат / замужем                 0      F   компаньон     0        240525   \n",
       "7    женат / замужем                 0      M   сотрудник     0        135823   \n",
       "8   гражданский брак                 1      F   сотрудник     0         95856   \n",
       "9    женат / замужем                 0      M   сотрудник     0        144425   \n",
       "10   женат / замужем                 0      M   компаньон     0        113943   \n",
       "11   женат / замужем                 0      F   сотрудник     0         77069   \n",
       "12  гражданский брак                 1      M   пенсионер     0        137127   \n",
       "13   женат / замужем                 0      F   сотрудник     0        130458   \n",
       "14  гражданский брак                 1      F   компаньон     1        165127   \n",
       "\n",
       "                              purpose      category          quantile_ex_1  \\\n",
       "0                       покупка жилья  недвижимость  (202417.0, 2265604.0]   \n",
       "1             приобретение автомобиля    автомобиль   (107623.0, 151887.0]   \n",
       "2                       покупка жилья  недвижимость   (107623.0, 151887.0]   \n",
       "3          дополнительное образование   образование  (202417.0, 2265604.0]   \n",
       "4                     сыграть свадьбу       свадьба   (151887.0, 202417.0]   \n",
       "5                       покупка жилья  недвижимость  (202417.0, 2265604.0]   \n",
       "6                   операции с жильем  недвижимость  (202417.0, 2265604.0]   \n",
       "7                         образование   образование   (107623.0, 151887.0]   \n",
       "8               на проведение свадьбы       свадьба  (20666.999, 107623.0]   \n",
       "9             покупка жилья для семьи  недвижимость   (107623.0, 151887.0]   \n",
       "10               покупка недвижимости  недвижимость   (107623.0, 151887.0]   \n",
       "11  покупка коммерческой недвижимости  недвижимость  (20666.999, 107623.0]   \n",
       "12                    сыграть свадьбу       свадьба   (107623.0, 151887.0]   \n",
       "13            приобретение автомобиля    автомобиль   (107623.0, 151887.0]   \n",
       "14         покупка жилой недвижимости  недвижимость   (151887.0, 202417.0]   \n",
       "\n",
       "    age_group money_they_earn  \n",
       "0    взрослый         богатый  \n",
       "1    взрослый   средний доход  \n",
       "2    взрослый   средний доход  \n",
       "3    взрослый         богатый  \n",
       "4    взрослый   высокий доход  \n",
       "5    взрослый         богатый  \n",
       "6    взрослый         богатый  \n",
       "7    взрослый   средний доход  \n",
       "8    взрослый     малый доход  \n",
       "9    взрослый   средний доход  \n",
       "10   взрослый   средний доход  \n",
       "11   взрослый     малый доход  \n",
       "12  пенсионер   средний доход  \n",
       "13   взрослый   средний доход  \n",
       "14   взрослый   высокий доход  "
      ]
     },
     "execution_count": 13,
     "metadata": {},
     "output_type": "execute_result"
    }
   ],
   "source": [
    "#Сделаю категоризацию по возрасту людей\n",
    "def age_group(age):   \n",
    "    if age <= 18:\n",
    "        return 'молодой'\n",
    "    if age <= 64:\n",
    "        return 'взрослый'\n",
    "    return 'пенсионер' \n",
    "df['age_group'] = df['dob_years'].apply(age_group)\n",
    "\n",
    "\n",
    "def money_they_earn(money):   \n",
    "    if (money >= 20666.999 and money < 107623.0):\n",
    "        return 'малый доход'\n",
    "    elif (money >= 107623.0 and money < 151887.0):\n",
    "        return 'средний доход'\n",
    "    elif (money >= 151887.0 and money < 202417.0):\n",
    "        return 'высокий доход' \n",
    "    return 'богатый'\n",
    "df['money_they_earn'] = df['total_income'].apply(money_they_earn)\n",
    "df.head(15)"
   ]
  },
  {
   "cell_type": "code",
   "execution_count": 14,
   "metadata": {
    "scrolled": false
   },
   "outputs": [
    {
     "data": {
      "text/html": [
       "<div>\n",
       "<style scoped>\n",
       "    .dataframe tbody tr th:only-of-type {\n",
       "        vertical-align: middle;\n",
       "    }\n",
       "\n",
       "    .dataframe tbody tr th {\n",
       "        vertical-align: top;\n",
       "    }\n",
       "\n",
       "    .dataframe thead th {\n",
       "        text-align: right;\n",
       "    }\n",
       "</style>\n",
       "<table border=\"1\" class=\"dataframe\">\n",
       "  <thead>\n",
       "    <tr style=\"text-align: right;\">\n",
       "      <th></th>\n",
       "      <th>education</th>\n",
       "      <th>education_id</th>\n",
       "      <th>count</th>\n",
       "    </tr>\n",
       "  </thead>\n",
       "  <tbody>\n",
       "    <tr>\n",
       "      <td>0</td>\n",
       "      <td>высшее</td>\n",
       "      <td>0</td>\n",
       "      <td>5250</td>\n",
       "    </tr>\n",
       "    <tr>\n",
       "      <td>1</td>\n",
       "      <td>начальное</td>\n",
       "      <td>3</td>\n",
       "      <td>282</td>\n",
       "    </tr>\n",
       "    <tr>\n",
       "      <td>2</td>\n",
       "      <td>неоконченное высшее</td>\n",
       "      <td>2</td>\n",
       "      <td>744</td>\n",
       "    </tr>\n",
       "    <tr>\n",
       "      <td>3</td>\n",
       "      <td>среднее</td>\n",
       "      <td>1</td>\n",
       "      <td>15172</td>\n",
       "    </tr>\n",
       "    <tr>\n",
       "      <td>4</td>\n",
       "      <td>ученая степень</td>\n",
       "      <td>4</td>\n",
       "      <td>6</td>\n",
       "    </tr>\n",
       "  </tbody>\n",
       "</table>\n",
       "</div>"
      ],
      "text/plain": [
       "             education  education_id  count\n",
       "0               высшее             0   5250\n",
       "1            начальное             3    282\n",
       "2  неоконченное высшее             2    744\n",
       "3              среднее             1  15172\n",
       "4       ученая степень             4      6"
      ]
     },
     "execution_count": 14,
     "metadata": {},
     "output_type": "execute_result"
    }
   ],
   "source": [
    "#Необходимо проверить корректность всех пар 'education'-'education_id' и 'family_status'-'family_status_id', \n",
    "#то есть те данные, которым уже присвоены категории\n",
    "df.groupby(['education', 'education_id']).size().to_frame('count').reset_index()"
   ]
  },
  {
   "cell_type": "code",
   "execution_count": 15,
   "metadata": {},
   "outputs": [
    {
     "data": {
      "text/html": [
       "<div>\n",
       "<style scoped>\n",
       "    .dataframe tbody tr th:only-of-type {\n",
       "        vertical-align: middle;\n",
       "    }\n",
       "\n",
       "    .dataframe tbody tr th {\n",
       "        vertical-align: top;\n",
       "    }\n",
       "\n",
       "    .dataframe thead th {\n",
       "        text-align: right;\n",
       "    }\n",
       "</style>\n",
       "<table border=\"1\" class=\"dataframe\">\n",
       "  <thead>\n",
       "    <tr style=\"text-align: right;\">\n",
       "      <th></th>\n",
       "      <th>family_status</th>\n",
       "      <th>family_status_id</th>\n",
       "      <th>count</th>\n",
       "    </tr>\n",
       "  </thead>\n",
       "  <tbody>\n",
       "    <tr>\n",
       "      <td>0</td>\n",
       "      <td>Не женат / не замужем</td>\n",
       "      <td>4</td>\n",
       "      <td>2810</td>\n",
       "    </tr>\n",
       "    <tr>\n",
       "      <td>1</td>\n",
       "      <td>в разводе</td>\n",
       "      <td>3</td>\n",
       "      <td>1195</td>\n",
       "    </tr>\n",
       "    <tr>\n",
       "      <td>2</td>\n",
       "      <td>вдовец / вдова</td>\n",
       "      <td>2</td>\n",
       "      <td>959</td>\n",
       "    </tr>\n",
       "    <tr>\n",
       "      <td>3</td>\n",
       "      <td>гражданский брак</td>\n",
       "      <td>1</td>\n",
       "      <td>4151</td>\n",
       "    </tr>\n",
       "    <tr>\n",
       "      <td>4</td>\n",
       "      <td>женат / замужем</td>\n",
       "      <td>0</td>\n",
       "      <td>12339</td>\n",
       "    </tr>\n",
       "  </tbody>\n",
       "</table>\n",
       "</div>"
      ],
      "text/plain": [
       "           family_status  family_status_id  count\n",
       "0  Не женат / не замужем                 4   2810\n",
       "1              в разводе                 3   1195\n",
       "2         вдовец / вдова                 2    959\n",
       "3       гражданский брак                 1   4151\n",
       "4        женат / замужем                 0  12339"
      ]
     },
     "execution_count": 15,
     "metadata": {},
     "output_type": "execute_result"
    }
   ],
   "source": [
    "df.groupby(['family_status', 'family_status_id']).size().to_frame('count').reset_index()"
   ]
  },
  {
   "cell_type": "markdown",
   "metadata": {},
   "source": [
    "Итог: пары уникальны."
   ]
  },
  {
   "cell_type": "markdown",
   "metadata": {},
   "source": [
    "**Вывод**"
   ]
  },
  {
   "cell_type": "markdown",
   "metadata": {},
   "source": [
    "Я сделал категоризацию данных по детям в семье(нет детей, малодетные, многодетные) и возрасту(молодой, взрослый, пенсионер) клиентов. "
   ]
  },
  {
   "cell_type": "markdown",
   "metadata": {},
   "source": [
    "## Шаг. Ответим на интересующие нас вопросы"
   ]
  },
  {
   "cell_type": "markdown",
   "metadata": {},
   "source": [
    "- Есть ли зависимость между наличием детей и возвратом кредита в срок?"
   ]
  },
  {
   "cell_type": "code",
   "execution_count": 16,
   "metadata": {},
   "outputs": [
    {
     "data": {
      "text/html": [
       "<div>\n",
       "<style scoped>\n",
       "    .dataframe tbody tr th:only-of-type {\n",
       "        vertical-align: middle;\n",
       "    }\n",
       "\n",
       "    .dataframe tbody tr th {\n",
       "        vertical-align: top;\n",
       "    }\n",
       "\n",
       "    .dataframe thead th {\n",
       "        text-align: right;\n",
       "    }\n",
       "</style>\n",
       "<table border=\"1\" class=\"dataframe\">\n",
       "  <thead>\n",
       "    <tr style=\"text-align: right;\">\n",
       "      <th></th>\n",
       "      <th>debt</th>\n",
       "    </tr>\n",
       "    <tr>\n",
       "      <th>children</th>\n",
       "      <th></th>\n",
       "    </tr>\n",
       "  </thead>\n",
       "  <tbody>\n",
       "    <tr>\n",
       "      <td>5</td>\n",
       "      <td>0.000000</td>\n",
       "    </tr>\n",
       "    <tr>\n",
       "      <td>0</td>\n",
       "      <td>0.075438</td>\n",
       "    </tr>\n",
       "    <tr>\n",
       "      <td>3</td>\n",
       "      <td>0.081818</td>\n",
       "    </tr>\n",
       "    <tr>\n",
       "      <td>1</td>\n",
       "      <td>0.091658</td>\n",
       "    </tr>\n",
       "    <tr>\n",
       "      <td>2</td>\n",
       "      <td>0.094542</td>\n",
       "    </tr>\n",
       "    <tr>\n",
       "      <td>4</td>\n",
       "      <td>0.097561</td>\n",
       "    </tr>\n",
       "    <tr>\n",
       "      <td>20</td>\n",
       "      <td>0.105263</td>\n",
       "    </tr>\n",
       "  </tbody>\n",
       "</table>\n",
       "</div>"
      ],
      "text/plain": [
       "              debt\n",
       "children          \n",
       "5         0.000000\n",
       "0         0.075438\n",
       "3         0.081818\n",
       "1         0.091658\n",
       "2         0.094542\n",
       "4         0.097561\n",
       "20        0.105263"
      ]
     },
     "execution_count": 16,
     "metadata": {},
     "output_type": "execute_result"
    }
   ],
   "source": [
    "#Функция для вывода информации\n",
    "def relation(category):\n",
    "    return df.groupby(category)['debt'].mean().to_frame().sort_values(by='debt')\n",
    "\n",
    "relation('children')"
   ]
  },
  {
   "cell_type": "code",
   "execution_count": 17,
   "metadata": {},
   "outputs": [
    {
     "data": {
      "text/plain": [
       "0     14091\n",
       "1      4855\n",
       "2      2052\n",
       "3       330\n",
       "20       76\n",
       "4        41\n",
       "5         9\n",
       "Name: children, dtype: int64"
      ]
     },
     "execution_count": 17,
     "metadata": {},
     "output_type": "execute_result"
    }
   ],
   "source": [
    "df['children'].value_counts()"
   ]
  },
  {
   "cell_type": "markdown",
   "metadata": {},
   "source": [
    "**Вывод**"
   ]
  },
  {
   "cell_type": "markdown",
   "metadata": {},
   "source": [
    "Заемщики без наличия детей менее склонны к просрочке по выплатам кредита. Случаи когда есть 5, 4 и 20 детей рассматривать нельзя, так как слишком мало случаев. "
   ]
  },
  {
   "cell_type": "markdown",
   "metadata": {},
   "source": [
    "- Есть ли зависимость между семейным положением и возвратом кредита в срок?"
   ]
  },
  {
   "cell_type": "code",
   "execution_count": 18,
   "metadata": {},
   "outputs": [
    {
     "name": "stdout",
     "output_type": "stream",
     "text": [
      "10.80% Не женат / не замужем\n",
      "7.66% в разводе\n",
      "7.03% вдовец / вдова\n",
      "10.31% гражданский брак\n",
      "8.16% женат / замужем\n"
     ]
    }
   ],
   "source": [
    "df2 = df.pivot_table(index=['debt'], columns='family_status', values='age_group', aggfunc='count')\n",
    "no_family = df2['Не женат / не замужем'][1] / df2['Не женат / не замужем'][0]\n",
    "divorce = df2['в разводе'][1] / df2['в разводе'][0]\n",
    "widow = df2['вдовец / вдова'][1] / df2['вдовец / вдова'][0]\n",
    "partner = df2['гражданский брак'][1] / df2['гражданский брак'][0]\n",
    "family = df2['женат / замужем'][1] / df2['женат / замужем'][0]\n",
    "print(\"{0:.2f}% Не женат / не замужем\".format(no_family*100))\n",
    "print(\"{0:.2f}% в разводе\".format(divorce*100))\n",
    "print(\"{0:.2f}% вдовец / вдова\".format(widow*100))\n",
    "print(\"{0:.2f}% гражданский брак\".format(partner*100))\n",
    "print(\"{0:.2f}% женат / замужем\".format(family*100))"
   ]
  },
  {
   "cell_type": "markdown",
   "metadata": {},
   "source": [
    "**Вывод**"
   ]
  },
  {
   "cell_type": "markdown",
   "metadata": {},
   "source": [
    "Если человек не женат/не замужем или в гражданском браке то он лучше выплачивает кредит"
   ]
  },
  {
   "cell_type": "markdown",
   "metadata": {},
   "source": [
    "- Есть ли зависимость между уровнем дохода и возвратом кредита в срок?"
   ]
  },
  {
   "cell_type": "code",
   "execution_count": 19,
   "metadata": {},
   "outputs": [
    {
     "name": "stdout",
     "output_type": "stream",
     "text": [
      "7.45% богатый\n",
      "9.56% высокий доход\n",
      "9.72% средний доход\n",
      "9.72% малый доход\n"
     ]
    }
   ],
   "source": [
    "df3 = df.pivot_table(index=['debt'], columns='money_they_earn', values='age_group', aggfunc='count')\n",
    "\n",
    "in1 = df3['богатый'][1] / df3['богатый'][0]\n",
    "in2 = df3['высокий доход'][1] / df3['высокий доход'][0]\n",
    "in3 = df3['средний доход'][1] / df3['средний доход'][0]\n",
    "in4 = df3['малый доход'][1] / df3['малый доход'][0]\n",
    "\n",
    "\n",
    "print(\"{0:.2f}% богатый\".format(in1*100))\n",
    "print(\"{0:.2f}% высокий доход\".format(in2*100))\n",
    "print(\"{0:.2f}% средний доход\".format(in3*100))\n",
    "print(\"{0:.2f}% малый доход\".format(in3*100))\n"
   ]
  },
  {
   "cell_type": "markdown",
   "metadata": {},
   "source": [
    "**Вывод**"
   ]
  },
  {
   "cell_type": "markdown",
   "metadata": {},
   "source": [
    "люди с малым количеством дохода и средним чаще всего не возвращают кредит в срок"
   ]
  },
  {
   "cell_type": "markdown",
   "metadata": {},
   "source": [
    "- Как разные цели кредита влияют на его возврат в срок?"
   ]
  },
  {
   "cell_type": "code",
   "execution_count": 20,
   "metadata": {},
   "outputs": [
    {
     "data": {
      "text/html": [
       "<div>\n",
       "<style scoped>\n",
       "    .dataframe tbody tr th:only-of-type {\n",
       "        vertical-align: middle;\n",
       "    }\n",
       "\n",
       "    .dataframe tbody tr th {\n",
       "        vertical-align: top;\n",
       "    }\n",
       "\n",
       "    .dataframe thead th {\n",
       "        text-align: right;\n",
       "    }\n",
       "</style>\n",
       "<table border=\"1\" class=\"dataframe\">\n",
       "  <thead>\n",
       "    <tr style=\"text-align: right;\">\n",
       "      <th></th>\n",
       "      <th>debt</th>\n",
       "    </tr>\n",
       "    <tr>\n",
       "      <th>category</th>\n",
       "      <th></th>\n",
       "    </tr>\n",
       "  </thead>\n",
       "  <tbody>\n",
       "    <tr>\n",
       "      <td>недвижимость</td>\n",
       "      <td>0.072334</td>\n",
       "    </tr>\n",
       "    <tr>\n",
       "      <td>свадьба</td>\n",
       "      <td>0.080034</td>\n",
       "    </tr>\n",
       "    <tr>\n",
       "      <td>образование</td>\n",
       "      <td>0.092200</td>\n",
       "    </tr>\n",
       "    <tr>\n",
       "      <td>автомобиль</td>\n",
       "      <td>0.093590</td>\n",
       "    </tr>\n",
       "  </tbody>\n",
       "</table>\n",
       "</div>"
      ],
      "text/plain": [
       "                  debt\n",
       "category              \n",
       "недвижимость  0.072334\n",
       "свадьба       0.080034\n",
       "образование   0.092200\n",
       "автомобиль    0.093590"
      ]
     },
     "execution_count": 20,
     "metadata": {},
     "output_type": "execute_result"
    }
   ],
   "source": [
    "#использую функцию, которую написал для ответа на первый вопрос\n",
    "relation('category')"
   ]
  },
  {
   "cell_type": "markdown",
   "metadata": {},
   "source": [
    "**Вывод**"
   ]
  },
  {
   "cell_type": "markdown",
   "metadata": {},
   "source": [
    "Люди с большей вероятностью не выплачивают кредит если он взять на операции с автомобилем или образованием. "
   ]
  },
  {
   "cell_type": "markdown",
   "metadata": {},
   "source": [
    "## Шаг. Общий вывод"
   ]
  },
  {
   "cell_type": "markdown",
   "metadata": {},
   "source": [
    "Я провел исследование, выполнил предобработку данных: заменил пропуски сдредним значением по группам должностей людей, заменил вещественный тип данных на целочисленный, удалил дупликаты, провел лемматизацию данных и категоризировал данные по количеству дохода и по возрасту. \n",
    "Отвечая на поставленный вопрос, могу дать следующий ответ - цель кредита и количество детей влияет на факт погашения кредита в строк:\n",
    "-заемщики с целями на автомобиль и образование, при этом имеющие 1 или 2 детей - самые менее ответственные заемщики;\n",
    "-заемщики, с остальными целями, и не имеющие детей - самые ответственные заемщики."
   ]
  }
 ],
 "metadata": {
  "ExecuteTimeLog": [
   {
    "duration": 809,
    "start_time": "2021-10-31T12:33:44.648Z"
   },
   {
    "duration": 28,
    "start_time": "2021-10-31T12:35:14.248Z"
   },
   {
    "duration": 21,
    "start_time": "2021-10-31T12:35:47.889Z"
   },
   {
    "duration": 72,
    "start_time": "2021-10-31T13:52:18.951Z"
   },
   {
    "duration": 21,
    "start_time": "2021-10-31T13:52:22.679Z"
   },
   {
    "duration": 11,
    "start_time": "2021-10-31T14:55:05.509Z"
   },
   {
    "duration": 11,
    "start_time": "2021-10-31T14:56:01.839Z"
   },
   {
    "duration": 15,
    "start_time": "2021-10-31T14:56:45.002Z"
   },
   {
    "duration": 18,
    "start_time": "2021-10-31T14:57:23.216Z"
   },
   {
    "duration": 27,
    "start_time": "2021-10-31T14:59:43.974Z"
   },
   {
    "duration": 9,
    "start_time": "2021-10-31T15:02:07.844Z"
   },
   {
    "duration": 14,
    "start_time": "2021-10-31T15:05:19.630Z"
   },
   {
    "duration": 14,
    "start_time": "2021-10-31T15:06:14.453Z"
   },
   {
    "duration": 86,
    "start_time": "2021-10-31T15:06:22.074Z"
   },
   {
    "duration": 27,
    "start_time": "2021-10-31T15:06:23.099Z"
   },
   {
    "duration": 20,
    "start_time": "2021-10-31T15:06:26.726Z"
   },
   {
    "duration": 80,
    "start_time": "2021-10-31T15:06:43.076Z"
   },
   {
    "duration": 40,
    "start_time": "2021-10-31T15:06:43.605Z"
   },
   {
    "duration": 25,
    "start_time": "2021-10-31T15:06:48.054Z"
   },
   {
    "duration": 5,
    "start_time": "2021-10-31T15:22:06.749Z"
   },
   {
    "duration": 22,
    "start_time": "2021-10-31T15:22:21.382Z"
   },
   {
    "duration": 24,
    "start_time": "2021-10-31T15:22:32.906Z"
   },
   {
    "duration": 73,
    "start_time": "2021-10-31T15:28:56.939Z"
   },
   {
    "duration": 34,
    "start_time": "2021-10-31T15:28:57.822Z"
   },
   {
    "duration": 23,
    "start_time": "2021-10-31T15:29:01.063Z"
   },
   {
    "duration": 25,
    "start_time": "2021-10-31T15:29:12.777Z"
   },
   {
    "duration": 25,
    "start_time": "2021-10-31T15:33:46.757Z"
   },
   {
    "duration": 7,
    "start_time": "2021-10-31T15:36:16.738Z"
   },
   {
    "duration": 21,
    "start_time": "2021-10-31T15:37:04.103Z"
   },
   {
    "duration": 23,
    "start_time": "2021-10-31T15:38:00.735Z"
   },
   {
    "duration": 24,
    "start_time": "2021-10-31T15:41:06.834Z"
   },
   {
    "duration": 825,
    "start_time": "2021-10-31T15:43:33.201Z"
   },
   {
    "duration": 38,
    "start_time": "2021-10-31T15:43:34.029Z"
   },
   {
    "duration": 77,
    "start_time": "2021-10-31T15:43:34.070Z"
   },
   {
    "duration": -2307,
    "start_time": "2021-10-31T15:43:36.456Z"
   },
   {
    "duration": 378,
    "start_time": "2021-10-31T15:43:57.525Z"
   },
   {
    "duration": 245,
    "start_time": "2021-10-31T15:44:38.285Z"
   },
   {
    "duration": 72,
    "start_time": "2021-10-31T15:44:47.341Z"
   },
   {
    "duration": 27,
    "start_time": "2021-10-31T15:44:50.064Z"
   },
   {
    "duration": 253,
    "start_time": "2021-10-31T15:44:53.825Z"
   },
   {
    "duration": 24,
    "start_time": "2021-10-31T15:45:40.295Z"
   },
   {
    "duration": 72,
    "start_time": "2021-10-31T15:45:47.185Z"
   },
   {
    "duration": 28,
    "start_time": "2021-10-31T15:45:47.456Z"
   },
   {
    "duration": 31,
    "start_time": "2021-10-31T15:45:48.525Z"
   },
   {
    "duration": 52,
    "start_time": "2021-10-31T15:46:09.086Z"
   },
   {
    "duration": 32,
    "start_time": "2021-10-31T15:46:39.350Z"
   },
   {
    "duration": 28,
    "start_time": "2021-10-31T15:47:05.521Z"
   },
   {
    "duration": 72,
    "start_time": "2021-10-31T15:47:19.566Z"
   },
   {
    "duration": 21,
    "start_time": "2021-10-31T15:47:19.922Z"
   },
   {
    "duration": 38,
    "start_time": "2021-10-31T15:47:22.534Z"
   },
   {
    "duration": 76,
    "start_time": "2021-10-31T15:48:18.858Z"
   },
   {
    "duration": 21,
    "start_time": "2021-10-31T15:48:19.165Z"
   },
   {
    "duration": 32,
    "start_time": "2021-10-31T15:48:21.127Z"
   },
   {
    "duration": 28,
    "start_time": "2021-10-31T15:48:41.819Z"
   },
   {
    "duration": 29,
    "start_time": "2021-10-31T15:48:56.670Z"
   },
   {
    "duration": 23,
    "start_time": "2021-10-31T15:49:11.731Z"
   },
   {
    "duration": 72,
    "start_time": "2021-10-31T15:49:17.960Z"
   },
   {
    "duration": 22,
    "start_time": "2021-10-31T15:49:18.327Z"
   },
   {
    "duration": 25,
    "start_time": "2021-10-31T15:49:20.204Z"
   },
   {
    "duration": 14,
    "start_time": "2021-10-31T15:52:03.392Z"
   },
   {
    "duration": 251,
    "start_time": "2021-10-31T15:53:13.733Z"
   },
   {
    "duration": 28,
    "start_time": "2021-10-31T15:53:20.320Z"
   },
   {
    "duration": 69,
    "start_time": "2021-10-31T15:56:26.082Z"
   },
   {
    "duration": 23,
    "start_time": "2021-10-31T15:56:26.394Z"
   },
   {
    "duration": 272,
    "start_time": "2021-10-31T15:56:27.932Z"
   },
   {
    "duration": 26,
    "start_time": "2021-10-31T15:56:29.790Z"
   },
   {
    "duration": 76,
    "start_time": "2021-10-31T15:57:02.250Z"
   },
   {
    "duration": 21,
    "start_time": "2021-10-31T15:57:02.625Z"
   },
   {
    "duration": 16,
    "start_time": "2021-10-31T15:57:04.798Z"
   },
   {
    "duration": 23,
    "start_time": "2021-10-31T15:57:06.390Z"
   },
   {
    "duration": 46,
    "start_time": "2021-10-31T15:58:27.592Z"
   },
   {
    "duration": 47,
    "start_time": "2021-10-31T15:59:34.290Z"
   },
   {
    "duration": 73,
    "start_time": "2021-10-31T15:59:42.557Z"
   },
   {
    "duration": 21,
    "start_time": "2021-10-31T15:59:42.820Z"
   },
   {
    "duration": 16,
    "start_time": "2021-10-31T15:59:43.799Z"
   },
   {
    "duration": 22,
    "start_time": "2021-10-31T15:59:46.398Z"
   },
   {
    "duration": 50,
    "start_time": "2021-10-31T15:59:48.472Z"
   },
   {
    "duration": 70,
    "start_time": "2021-10-31T16:00:24.420Z"
   },
   {
    "duration": 21,
    "start_time": "2021-10-31T16:00:24.678Z"
   },
   {
    "duration": 15,
    "start_time": "2021-10-31T16:00:25.530Z"
   },
   {
    "duration": 22,
    "start_time": "2021-10-31T16:00:26.243Z"
   },
   {
    "duration": 76,
    "start_time": "2021-10-31T16:00:29.054Z"
   },
   {
    "duration": 70,
    "start_time": "2021-10-31T16:00:56.903Z"
   },
   {
    "duration": 21,
    "start_time": "2021-10-31T16:00:57.217Z"
   },
   {
    "duration": 18,
    "start_time": "2021-10-31T16:00:58.241Z"
   },
   {
    "duration": 22,
    "start_time": "2021-10-31T16:00:59.011Z"
   },
   {
    "duration": 76,
    "start_time": "2021-10-31T16:01:00.758Z"
   },
   {
    "duration": 104,
    "start_time": "2021-10-31T16:01:43.303Z"
   },
   {
    "duration": 23,
    "start_time": "2021-10-31T16:01:43.616Z"
   },
   {
    "duration": 14,
    "start_time": "2021-10-31T16:01:44.693Z"
   },
   {
    "duration": 25,
    "start_time": "2021-10-31T16:01:45.478Z"
   },
   {
    "duration": 56,
    "start_time": "2021-10-31T16:01:47.118Z"
   },
   {
    "duration": 73,
    "start_time": "2021-10-31T16:02:00.874Z"
   },
   {
    "duration": 22,
    "start_time": "2021-10-31T16:02:01.147Z"
   },
   {
    "duration": 17,
    "start_time": "2021-10-31T16:02:02.038Z"
   },
   {
    "duration": 24,
    "start_time": "2021-10-31T16:02:02.722Z"
   },
   {
    "duration": 38,
    "start_time": "2021-10-31T16:02:03.435Z"
   },
   {
    "duration": 60,
    "start_time": "2021-10-31T16:02:35.409Z"
   },
   {
    "duration": 38,
    "start_time": "2021-10-31T16:02:46.028Z"
   },
   {
    "duration": 235,
    "start_time": "2021-10-31T16:35:23.548Z"
   },
   {
    "duration": 234,
    "start_time": "2021-10-31T16:35:38.341Z"
   },
   {
    "duration": 71,
    "start_time": "2021-10-31T16:35:46.140Z"
   },
   {
    "duration": 23,
    "start_time": "2021-10-31T16:35:46.337Z"
   },
   {
    "duration": 17,
    "start_time": "2021-10-31T16:35:47.284Z"
   },
   {
    "duration": 25,
    "start_time": "2021-10-31T16:35:47.814Z"
   },
   {
    "duration": 39,
    "start_time": "2021-10-31T16:35:48.456Z"
   },
   {
    "duration": 44,
    "start_time": "2021-10-31T16:35:49.824Z"
   },
   {
    "duration": 246,
    "start_time": "2021-10-31T16:35:52.946Z"
   },
   {
    "duration": 780,
    "start_time": "2021-10-31T16:39:04.572Z"
   },
   {
    "duration": 30,
    "start_time": "2021-10-31T16:39:05.355Z"
   },
   {
    "duration": 16,
    "start_time": "2021-10-31T16:39:05.388Z"
   },
   {
    "duration": 22,
    "start_time": "2021-10-31T16:39:05.430Z"
   },
   {
    "duration": 43,
    "start_time": "2021-10-31T16:39:05.454Z"
   },
   {
    "duration": 70,
    "start_time": "2021-10-31T16:39:05.499Z"
   },
   {
    "duration": 329,
    "start_time": "2021-10-31T16:39:05.571Z"
   },
   {
    "duration": 83,
    "start_time": "2021-10-31T16:43:38.229Z"
   },
   {
    "duration": 66,
    "start_time": "2021-10-31T16:45:49.500Z"
   },
   {
    "duration": 203148,
    "start_time": "2021-10-31T16:45:57.761Z"
   },
   {
    "duration": 80,
    "start_time": "2021-10-31T17:08:50.468Z"
   },
   {
    "duration": 23,
    "start_time": "2021-10-31T17:08:50.807Z"
   },
   {
    "duration": 15,
    "start_time": "2021-10-31T17:08:51.800Z"
   },
   {
    "duration": 22,
    "start_time": "2021-10-31T17:08:52.541Z"
   },
   {
    "duration": 45,
    "start_time": "2021-10-31T17:08:53.457Z"
   },
   {
    "duration": 42,
    "start_time": "2021-10-31T17:08:53.710Z"
   },
   {
    "duration": 203922,
    "start_time": "2021-10-31T17:08:55.314Z"
   },
   {
    "duration": 943,
    "start_time": "2021-10-31T17:23:25.450Z"
   },
   {
    "duration": 1457,
    "start_time": "2021-10-31T17:25:22.564Z"
   },
   {
    "duration": 1211,
    "start_time": "2021-10-31T17:26:01.106Z"
   },
   {
    "duration": 1670,
    "start_time": "2021-10-31T17:27:27.946Z"
   },
   {
    "duration": 1648,
    "start_time": "2021-10-31T17:27:36.131Z"
   },
   {
    "duration": 82,
    "start_time": "2021-10-31T17:35:28.484Z"
   },
   {
    "duration": 21,
    "start_time": "2021-10-31T17:35:28.999Z"
   },
   {
    "duration": 15,
    "start_time": "2021-10-31T17:35:30.004Z"
   },
   {
    "duration": 23,
    "start_time": "2021-10-31T17:35:31.307Z"
   },
   {
    "duration": 39,
    "start_time": "2021-10-31T17:35:33.244Z"
   },
   {
    "duration": 44,
    "start_time": "2021-10-31T17:35:33.806Z"
   },
   {
    "duration": 286,
    "start_time": "2021-10-31T17:48:26.020Z"
   },
   {
    "duration": 5597,
    "start_time": "2021-10-31T17:48:38.171Z"
   },
   {
    "duration": 6459,
    "start_time": "2021-10-31T17:49:48.937Z"
   },
   {
    "duration": 6650,
    "start_time": "2021-10-31T17:50:26.335Z"
   },
   {
    "duration": 6321,
    "start_time": "2021-10-31T17:50:45.662Z"
   },
   {
    "duration": 6808,
    "start_time": "2021-10-31T17:52:21.829Z"
   },
   {
    "duration": 7036,
    "start_time": "2021-10-31T17:52:50.782Z"
   },
   {
    "duration": 6870,
    "start_time": "2021-10-31T17:53:51.912Z"
   },
   {
    "duration": 7133,
    "start_time": "2021-10-31T17:59:05.202Z"
   },
   {
    "duration": 1301,
    "start_time": "2021-10-31T17:59:27.183Z"
   },
   {
    "duration": 237,
    "start_time": "2021-10-31T18:14:39.224Z"
   },
   {
    "duration": 817,
    "start_time": "2021-10-31T18:42:48.023Z"
   },
   {
    "duration": 32,
    "start_time": "2021-10-31T18:42:48.843Z"
   },
   {
    "duration": 16,
    "start_time": "2021-10-31T18:42:48.878Z"
   },
   {
    "duration": 52,
    "start_time": "2021-10-31T18:42:48.897Z"
   },
   {
    "duration": 40,
    "start_time": "2021-10-31T18:42:48.951Z"
   },
   {
    "duration": 78,
    "start_time": "2021-10-31T18:42:48.994Z"
   },
   {
    "duration": 925,
    "start_time": "2021-10-31T19:14:43.730Z"
   },
   {
    "duration": 31,
    "start_time": "2021-10-31T19:14:44.658Z"
   },
   {
    "duration": 15,
    "start_time": "2021-10-31T19:14:44.692Z"
   },
   {
    "duration": 38,
    "start_time": "2021-10-31T19:14:44.709Z"
   },
   {
    "duration": 37,
    "start_time": "2021-10-31T19:14:44.749Z"
   },
   {
    "duration": 70,
    "start_time": "2021-10-31T19:14:44.788Z"
   },
   {
    "duration": 4780,
    "start_time": "2021-10-31T19:14:44.860Z"
   },
   {
    "duration": 4555,
    "start_time": "2021-10-31T19:15:05.887Z"
   },
   {
    "duration": 30,
    "start_time": "2021-10-31T20:38:17.023Z"
   },
   {
    "duration": 32,
    "start_time": "2021-10-31T20:38:48.849Z"
   },
   {
    "duration": 17,
    "start_time": "2021-10-31T21:00:07.274Z"
   },
   {
    "duration": 26,
    "start_time": "2021-10-31T21:03:12.590Z"
   },
   {
    "duration": 47,
    "start_time": "2021-10-31T21:03:14.938Z"
   },
   {
    "duration": 64,
    "start_time": "2021-10-31T21:03:14.987Z"
   },
   {
    "duration": 4673,
    "start_time": "2021-10-31T21:03:15.940Z"
   },
   {
    "duration": 25,
    "start_time": "2021-10-31T21:03:20.616Z"
   },
   {
    "duration": 242,
    "start_time": "2021-10-31T21:07:12.899Z"
   },
   {
    "duration": 1032,
    "start_time": "2021-10-31T21:07:32.896Z"
   },
   {
    "duration": 66,
    "start_time": "2021-10-31T21:07:45.350Z"
   },
   {
    "duration": 55,
    "start_time": "2021-10-31T21:15:29.915Z"
   },
   {
    "duration": 53,
    "start_time": "2021-10-31T21:17:07.639Z"
   },
   {
    "duration": 52,
    "start_time": "2021-10-31T21:19:38.879Z"
   },
   {
    "duration": 51,
    "start_time": "2021-10-31T21:20:14.779Z"
   },
   {
    "duration": 74,
    "start_time": "2021-10-31T21:21:20.027Z"
   },
   {
    "duration": 21,
    "start_time": "2021-10-31T21:21:20.780Z"
   },
   {
    "duration": 15,
    "start_time": "2021-10-31T21:21:25.442Z"
   },
   {
    "duration": 25,
    "start_time": "2021-10-31T21:21:25.460Z"
   },
   {
    "duration": 50,
    "start_time": "2021-10-31T21:21:25.487Z"
   },
   {
    "duration": 41,
    "start_time": "2021-10-31T21:21:25.540Z"
   },
   {
    "duration": 782,
    "start_time": "2021-10-31T21:22:50.679Z"
   },
   {
    "duration": 31,
    "start_time": "2021-10-31T21:22:51.464Z"
   },
   {
    "duration": 32,
    "start_time": "2021-10-31T21:22:51.498Z"
   },
   {
    "duration": 25,
    "start_time": "2021-10-31T21:22:51.533Z"
   },
   {
    "duration": 39,
    "start_time": "2021-10-31T21:22:51.561Z"
   },
   {
    "duration": 43,
    "start_time": "2021-10-31T21:22:51.631Z"
   },
   {
    "duration": 4482,
    "start_time": "2021-10-31T21:22:51.676Z"
   },
   {
    "duration": 51,
    "start_time": "2021-10-31T21:22:56.161Z"
   },
   {
    "duration": 52,
    "start_time": "2021-10-31T21:23:45.730Z"
   },
   {
    "duration": 131,
    "start_time": "2021-10-31T21:30:33.658Z"
   },
   {
    "duration": 314,
    "start_time": "2021-10-31T21:31:05.912Z"
   },
   {
    "duration": 222,
    "start_time": "2021-10-31T21:31:51.593Z"
   },
   {
    "duration": 210,
    "start_time": "2021-10-31T21:32:45.346Z"
   },
   {
    "duration": 3022,
    "start_time": "2021-10-31T21:34:05.321Z"
   },
   {
    "duration": 2833,
    "start_time": "2021-10-31T21:34:28.662Z"
   },
   {
    "duration": 12,
    "start_time": "2021-10-31T21:35:40.262Z"
   },
   {
    "duration": 2688,
    "start_time": "2021-10-31T21:37:42.794Z"
   },
   {
    "duration": 40,
    "start_time": "2021-10-31T21:43:36.209Z"
   },
   {
    "duration": 222,
    "start_time": "2021-10-31T21:49:24.123Z"
   },
   {
    "duration": 228,
    "start_time": "2021-10-31T21:49:35.410Z"
   },
   {
    "duration": 276,
    "start_time": "2021-10-31T21:49:37.860Z"
   },
   {
    "duration": 776,
    "start_time": "2021-10-31T21:49:47.469Z"
   },
   {
    "duration": 30,
    "start_time": "2021-10-31T21:49:48.248Z"
   },
   {
    "duration": 15,
    "start_time": "2021-10-31T21:49:48.281Z"
   },
   {
    "duration": 51,
    "start_time": "2021-10-31T21:49:48.299Z"
   },
   {
    "duration": 38,
    "start_time": "2021-10-31T21:49:48.353Z"
   },
   {
    "duration": 71,
    "start_time": "2021-10-31T21:49:48.393Z"
   },
   {
    "duration": 4378,
    "start_time": "2021-10-31T21:49:48.466Z"
   },
   {
    "duration": 53,
    "start_time": "2021-10-31T21:49:52.848Z"
   },
   {
    "duration": 5407,
    "start_time": "2021-10-31T21:49:52.903Z"
   },
   {
    "duration": 8,
    "start_time": "2021-10-31T21:49:58.305Z"
   },
   {
    "duration": 807,
    "start_time": "2021-10-31T21:50:27.213Z"
   },
   {
    "duration": 31,
    "start_time": "2021-10-31T21:50:28.023Z"
   },
   {
    "duration": 15,
    "start_time": "2021-10-31T21:50:28.057Z"
   },
   {
    "duration": 56,
    "start_time": "2021-10-31T21:50:28.075Z"
   },
   {
    "duration": 41,
    "start_time": "2021-10-31T21:50:28.134Z"
   },
   {
    "duration": 75,
    "start_time": "2021-10-31T21:50:28.177Z"
   },
   {
    "duration": 4525,
    "start_time": "2021-10-31T21:50:28.255Z"
   },
   {
    "duration": 67,
    "start_time": "2021-10-31T21:50:32.783Z"
   },
   {
    "duration": 36,
    "start_time": "2021-10-31T21:50:32.853Z"
   },
   {
    "duration": 56,
    "start_time": "2021-10-31T21:50:32.892Z"
   },
   {
    "duration": 336,
    "start_time": "2021-10-31T22:01:32.071Z"
   },
   {
    "duration": 368,
    "start_time": "2021-10-31T22:02:27.387Z"
   },
   {
    "duration": 31,
    "start_time": "2021-10-31T22:02:39.686Z"
   },
   {
    "duration": 31,
    "start_time": "2021-10-31T22:03:41.009Z"
   },
   {
    "duration": 29,
    "start_time": "2021-10-31T22:03:48.788Z"
   },
   {
    "duration": 281,
    "start_time": "2021-10-31T22:06:00.177Z"
   },
   {
    "duration": 5690,
    "start_time": "2021-10-31T22:06:30.291Z"
   },
   {
    "duration": 4479,
    "start_time": "2021-10-31T22:08:56.418Z"
   },
   {
    "duration": 28,
    "start_time": "2021-10-31T22:09:24.814Z"
   },
   {
    "duration": 801,
    "start_time": "2021-10-31T22:13:10.338Z"
   },
   {
    "duration": 30,
    "start_time": "2021-10-31T22:13:11.142Z"
   },
   {
    "duration": 26,
    "start_time": "2021-10-31T22:13:11.174Z"
   },
   {
    "duration": 45,
    "start_time": "2021-10-31T22:13:11.202Z"
   },
   {
    "duration": 39,
    "start_time": "2021-10-31T22:13:11.250Z"
   },
   {
    "duration": 73,
    "start_time": "2021-10-31T22:13:11.291Z"
   },
   {
    "duration": 4762,
    "start_time": "2021-10-31T22:13:11.367Z"
   },
   {
    "duration": 51,
    "start_time": "2021-10-31T22:13:16.132Z"
   },
   {
    "duration": 61,
    "start_time": "2021-10-31T22:13:16.186Z"
   },
   {
    "duration": 27,
    "start_time": "2021-10-31T22:13:16.249Z"
   },
   {
    "duration": 58,
    "start_time": "2021-10-31T22:13:16.278Z"
   },
   {
    "duration": 29,
    "start_time": "2021-10-31T22:13:16.338Z"
   },
   {
    "duration": 819,
    "start_time": "2021-11-01T08:21:47.056Z"
   },
   {
    "duration": 31,
    "start_time": "2021-11-01T08:21:47.878Z"
   },
   {
    "duration": 15,
    "start_time": "2021-11-01T08:21:47.912Z"
   },
   {
    "duration": 51,
    "start_time": "2021-11-01T08:21:47.929Z"
   },
   {
    "duration": 38,
    "start_time": "2021-11-01T08:21:47.982Z"
   },
   {
    "duration": 73,
    "start_time": "2021-11-01T08:21:48.022Z"
   },
   {
    "duration": 4552,
    "start_time": "2021-11-01T08:21:48.097Z"
   },
   {
    "duration": 62,
    "start_time": "2021-11-01T08:21:52.654Z"
   },
   {
    "duration": 54,
    "start_time": "2021-11-01T08:21:52.719Z"
   },
   {
    "duration": 30,
    "start_time": "2021-11-01T08:21:52.775Z"
   },
   {
    "duration": 25,
    "start_time": "2021-11-01T08:21:52.807Z"
   },
   {
    "duration": 57,
    "start_time": "2021-11-01T08:21:52.834Z"
   },
   {
    "duration": 11,
    "start_time": "2021-11-01T08:25:57.979Z"
   },
   {
    "duration": 14,
    "start_time": "2021-11-01T08:26:37.191Z"
   },
   {
    "duration": 295,
    "start_time": "2021-11-01T12:41:47.210Z"
   },
   {
    "duration": 672,
    "start_time": "2021-11-01T12:41:53.988Z"
   },
   {
    "duration": 32,
    "start_time": "2021-11-01T12:41:54.663Z"
   },
   {
    "duration": 12,
    "start_time": "2021-11-01T12:41:54.702Z"
   },
   {
    "duration": 16,
    "start_time": "2021-11-01T12:41:54.716Z"
   },
   {
    "duration": 34,
    "start_time": "2021-11-01T12:41:54.765Z"
   },
   {
    "duration": 31,
    "start_time": "2021-11-01T12:41:54.802Z"
   },
   {
    "duration": 3948,
    "start_time": "2021-11-01T12:41:54.835Z"
   },
   {
    "duration": 25,
    "start_time": "2021-11-01T12:41:58.786Z"
   },
   {
    "duration": 8,
    "start_time": "2021-11-01T12:41:58.813Z"
   },
   {
    "duration": 50,
    "start_time": "2021-11-01T12:41:58.822Z"
   },
   {
    "duration": 9,
    "start_time": "2021-11-01T12:41:58.873Z"
   },
   {
    "duration": 19,
    "start_time": "2021-11-01T12:41:58.884Z"
   },
   {
    "duration": 17,
    "start_time": "2021-11-01T12:41:58.904Z"
   },
   {
    "duration": 52,
    "start_time": "2021-11-01T12:41:58.923Z"
   },
   {
    "duration": 58,
    "start_time": "2021-11-01T19:15:09.884Z"
   },
   {
    "duration": 14,
    "start_time": "2021-11-01T19:15:10.188Z"
   },
   {
    "duration": 5881,
    "start_time": "2021-11-01T19:15:12.387Z"
   },
   {
    "duration": 9,
    "start_time": "2021-11-01T19:15:27.509Z"
   },
   {
    "duration": 243,
    "start_time": "2021-11-01T19:18:06.721Z"
   },
   {
    "duration": 265,
    "start_time": "2021-11-01T19:19:38.937Z"
   },
   {
    "duration": 255,
    "start_time": "2021-11-01T19:19:48.560Z"
   },
   {
    "duration": 246,
    "start_time": "2021-11-01T19:19:57.464Z"
   },
   {
    "duration": 21,
    "start_time": "2021-11-01T19:20:20.364Z"
   },
   {
    "duration": 22,
    "start_time": "2021-11-01T19:21:20.614Z"
   },
   {
    "duration": 227,
    "start_time": "2021-11-01T19:22:25.852Z"
   },
   {
    "duration": 27,
    "start_time": "2021-11-01T19:22:43.085Z"
   },
   {
    "duration": 413,
    "start_time": "2021-11-01T19:24:20.564Z"
   },
   {
    "duration": 37,
    "start_time": "2021-11-01T19:25:08.155Z"
   },
   {
    "duration": 13,
    "start_time": "2021-11-01T19:26:04.291Z"
   },
   {
    "duration": 226,
    "start_time": "2021-11-01T19:26:21.282Z"
   },
   {
    "duration": 59,
    "start_time": "2021-11-01T19:26:31.153Z"
   },
   {
    "duration": 14,
    "start_time": "2021-11-01T19:26:31.538Z"
   },
   {
    "duration": 10,
    "start_time": "2021-11-01T19:26:33.177Z"
   },
   {
    "duration": 25,
    "start_time": "2021-11-01T19:26:33.425Z"
   },
   {
    "duration": 17,
    "start_time": "2021-11-01T19:26:33.635Z"
   },
   {
    "duration": 40,
    "start_time": "2021-11-01T19:26:34.129Z"
   },
   {
    "duration": 17,
    "start_time": "2021-11-01T19:27:25.115Z"
   },
   {
    "duration": 66,
    "start_time": "2021-11-01T19:37:19.393Z"
   },
   {
    "duration": 18,
    "start_time": "2021-11-01T19:37:19.665Z"
   },
   {
    "duration": 9,
    "start_time": "2021-11-01T19:37:20.719Z"
   },
   {
    "duration": 24,
    "start_time": "2021-11-01T19:37:20.849Z"
   },
   {
    "duration": 19,
    "start_time": "2021-11-01T19:37:20.997Z"
   },
   {
    "duration": 40,
    "start_time": "2021-11-01T19:37:21.124Z"
   },
   {
    "duration": 18,
    "start_time": "2021-11-01T19:37:21.256Z"
   },
   {
    "duration": 15,
    "start_time": "2021-11-01T19:37:22.080Z"
   },
   {
    "duration": 31,
    "start_time": "2021-11-01T19:37:23.463Z"
   },
   {
    "duration": 32,
    "start_time": "2021-11-01T19:37:23.784Z"
   },
   {
    "duration": 3939,
    "start_time": "2021-11-01T19:37:24.575Z"
   },
   {
    "duration": 27,
    "start_time": "2021-11-01T19:37:28.517Z"
   },
   {
    "duration": 25,
    "start_time": "2021-11-01T19:37:28.545Z"
   },
   {
    "duration": 25,
    "start_time": "2021-11-01T19:37:28.761Z"
   },
   {
    "duration": 20,
    "start_time": "2021-11-01T19:37:52.257Z"
   },
   {
    "duration": 36,
    "start_time": "2021-11-01T19:38:04.776Z"
   },
   {
    "duration": 15,
    "start_time": "2021-11-01T19:38:19.421Z"
   },
   {
    "duration": 13,
    "start_time": "2021-11-01T19:38:45.927Z"
   },
   {
    "duration": 15,
    "start_time": "2021-11-01T19:40:00.966Z"
   },
   {
    "duration": 18,
    "start_time": "2021-11-01T19:48:09.088Z"
   },
   {
    "duration": 19,
    "start_time": "2021-11-01T19:48:23.934Z"
   },
   {
    "duration": 16,
    "start_time": "2021-11-01T19:48:54.510Z"
   },
   {
    "duration": 14,
    "start_time": "2021-11-01T19:54:36.521Z"
   },
   {
    "duration": 23,
    "start_time": "2021-11-01T19:54:52.537Z"
   },
   {
    "duration": 1117,
    "start_time": "2021-11-01T19:55:28.202Z"
   },
   {
    "duration": 14,
    "start_time": "2021-11-01T19:55:45.496Z"
   },
   {
    "duration": 12,
    "start_time": "2021-11-01T20:02:54.674Z"
   },
   {
    "duration": 30,
    "start_time": "2021-11-01T20:02:56.267Z"
   },
   {
    "duration": 17,
    "start_time": "2021-11-01T20:04:34.337Z"
   },
   {
    "duration": 10,
    "start_time": "2021-11-01T20:04:35.056Z"
   },
   {
    "duration": 10,
    "start_time": "2021-11-01T20:05:48.824Z"
   },
   {
    "duration": 21,
    "start_time": "2021-11-01T20:05:50.230Z"
   },
   {
    "duration": 20,
    "start_time": "2021-11-01T20:05:53.157Z"
   },
   {
    "duration": 674,
    "start_time": "2021-11-01T20:09:27.083Z"
   },
   {
    "duration": 10,
    "start_time": "2021-11-01T20:09:38.315Z"
   },
   {
    "duration": 6,
    "start_time": "2021-11-01T20:11:41.257Z"
   },
   {
    "duration": 6485,
    "start_time": "2021-11-01T20:13:01.385Z"
   },
   {
    "duration": 6595,
    "start_time": "2021-11-01T20:13:27.349Z"
   },
   {
    "duration": 642,
    "start_time": "2021-11-01T20:13:38.388Z"
   },
   {
    "duration": 19,
    "start_time": "2021-11-01T20:13:39.032Z"
   },
   {
    "duration": 9,
    "start_time": "2021-11-01T20:13:39.053Z"
   },
   {
    "duration": 34,
    "start_time": "2021-11-01T20:13:39.064Z"
   },
   {
    "duration": 17,
    "start_time": "2021-11-01T20:13:39.100Z"
   },
   {
    "duration": 45,
    "start_time": "2021-11-01T20:13:39.119Z"
   },
   {
    "duration": 16,
    "start_time": "2021-11-01T20:13:39.166Z"
   },
   {
    "duration": 21,
    "start_time": "2021-11-01T20:13:39.184Z"
   },
   {
    "duration": 35,
    "start_time": "2021-11-01T20:13:39.207Z"
   },
   {
    "duration": 44,
    "start_time": "2021-11-01T20:13:39.244Z"
   },
   {
    "duration": 3617,
    "start_time": "2021-11-01T20:13:39.289Z"
   },
   {
    "duration": 13,
    "start_time": "2021-11-01T20:13:42.907Z"
   },
   {
    "duration": 47,
    "start_time": "2021-11-01T20:13:42.921Z"
   },
   {
    "duration": 27,
    "start_time": "2021-11-01T20:13:42.970Z"
   },
   {
    "duration": 10,
    "start_time": "2021-11-01T20:13:42.999Z"
   },
   {
    "duration": 23,
    "start_time": "2021-11-01T20:13:43.011Z"
   },
   {
    "duration": 39,
    "start_time": "2021-11-01T20:13:43.036Z"
   },
   {
    "duration": 5874,
    "start_time": "2021-11-01T20:13:43.078Z"
   },
   {
    "duration": 6586,
    "start_time": "2021-11-01T20:14:16.269Z"
   },
   {
    "duration": 23,
    "start_time": "2021-11-01T20:14:33.244Z"
   },
   {
    "duration": 12,
    "start_time": "2021-11-01T20:15:55.419Z"
   },
   {
    "duration": 10,
    "start_time": "2021-11-01T20:16:11.130Z"
   },
   {
    "duration": 816,
    "start_time": "2021-11-02T07:05:06.751Z"
   },
   {
    "duration": 33,
    "start_time": "2021-11-02T07:05:07.571Z"
   },
   {
    "duration": 34,
    "start_time": "2021-11-02T07:05:07.608Z"
   },
   {
    "duration": 36,
    "start_time": "2021-11-02T07:05:07.646Z"
   },
   {
    "duration": 64,
    "start_time": "2021-11-02T07:05:07.685Z"
   },
   {
    "duration": 80,
    "start_time": "2021-11-02T07:05:07.752Z"
   },
   {
    "duration": 27,
    "start_time": "2021-11-02T07:05:07.835Z"
   },
   {
    "duration": 23,
    "start_time": "2021-11-02T07:05:07.868Z"
   },
   {
    "duration": 67,
    "start_time": "2021-11-02T07:05:07.894Z"
   },
   {
    "duration": 44,
    "start_time": "2021-11-02T07:05:07.963Z"
   },
   {
    "duration": 4708,
    "start_time": "2021-11-02T07:05:08.034Z"
   },
   {
    "duration": 19,
    "start_time": "2021-11-02T07:05:12.745Z"
   },
   {
    "duration": 88,
    "start_time": "2021-11-02T07:05:12.767Z"
   },
   {
    "duration": 24,
    "start_time": "2021-11-02T07:05:12.858Z"
   },
   {
    "duration": 10,
    "start_time": "2021-11-02T07:05:12.885Z"
   },
   {
    "duration": 62,
    "start_time": "2021-11-02T07:05:12.898Z"
   },
   {
    "duration": 29,
    "start_time": "2021-11-02T07:05:12.962Z"
   },
   {
    "duration": 49,
    "start_time": "2021-11-02T07:05:12.993Z"
   },
   {
    "duration": 30,
    "start_time": "2021-11-02T07:15:19.835Z"
   },
   {
    "duration": 27,
    "start_time": "2021-11-02T07:15:29.704Z"
   },
   {
    "duration": 27,
    "start_time": "2021-11-02T07:15:44.596Z"
   },
   {
    "duration": 33,
    "start_time": "2021-11-02T07:16:02.512Z"
   },
   {
    "duration": 32,
    "start_time": "2021-11-02T07:16:17.613Z"
   },
   {
    "duration": 31,
    "start_time": "2021-11-02T07:17:18.179Z"
   },
   {
    "duration": 323,
    "start_time": "2021-11-02T09:29:44.541Z"
   },
   {
    "duration": 842,
    "start_time": "2021-11-02T09:29:51.953Z"
   },
   {
    "duration": 32,
    "start_time": "2021-11-02T09:29:52.798Z"
   },
   {
    "duration": 38,
    "start_time": "2021-11-02T09:29:52.836Z"
   },
   {
    "duration": 34,
    "start_time": "2021-11-02T09:29:52.876Z"
   },
   {
    "duration": 54,
    "start_time": "2021-11-02T09:29:52.913Z"
   },
   {
    "duration": 60,
    "start_time": "2021-11-02T09:29:52.970Z"
   },
   {
    "duration": 46,
    "start_time": "2021-11-02T09:29:53.034Z"
   },
   {
    "duration": 32,
    "start_time": "2021-11-02T09:29:53.082Z"
   },
   {
    "duration": 56,
    "start_time": "2021-11-02T09:29:53.116Z"
   },
   {
    "duration": 43,
    "start_time": "2021-11-02T09:29:53.175Z"
   },
   {
    "duration": 4630,
    "start_time": "2021-11-02T09:29:53.221Z"
   },
   {
    "duration": 28,
    "start_time": "2021-11-02T09:29:57.854Z"
   },
   {
    "duration": 52,
    "start_time": "2021-11-02T09:29:57.884Z"
   },
   {
    "duration": 49,
    "start_time": "2021-11-02T09:29:57.939Z"
   },
   {
    "duration": 13,
    "start_time": "2021-11-02T09:29:57.990Z"
   },
   {
    "duration": 7,
    "start_time": "2021-11-02T09:29:58.005Z"
   },
   {
    "duration": 64,
    "start_time": "2021-11-02T09:29:58.015Z"
   },
   {
    "duration": 28,
    "start_time": "2021-11-02T09:29:58.081Z"
   },
   {
    "duration": 13,
    "start_time": "2021-11-02T09:29:58.112Z"
   },
   {
    "duration": 67,
    "start_time": "2021-11-02T09:29:58.127Z"
   },
   {
    "duration": 17,
    "start_time": "2021-11-02T09:31:11.979Z"
   },
   {
    "duration": 897,
    "start_time": "2021-11-02T09:32:57.170Z"
   },
   {
    "duration": 32,
    "start_time": "2021-11-02T09:32:58.070Z"
   },
   {
    "duration": 12,
    "start_time": "2021-11-02T09:32:58.105Z"
   },
   {
    "duration": 65,
    "start_time": "2021-11-02T09:32:58.119Z"
   },
   {
    "duration": 31,
    "start_time": "2021-11-02T09:32:58.187Z"
   },
   {
    "duration": 77,
    "start_time": "2021-11-02T09:32:58.221Z"
   },
   {
    "duration": 25,
    "start_time": "2021-11-02T09:32:58.300Z"
   },
   {
    "duration": 47,
    "start_time": "2021-11-02T09:32:58.329Z"
   },
   {
    "duration": 36,
    "start_time": "2021-11-02T09:32:58.379Z"
   },
   {
    "duration": 68,
    "start_time": "2021-11-02T09:32:58.417Z"
   },
   {
    "duration": 696,
    "start_time": "2021-11-02T11:51:53.651Z"
   },
   {
    "duration": 22,
    "start_time": "2021-11-02T11:51:54.349Z"
   },
   {
    "duration": 12,
    "start_time": "2021-11-02T11:51:54.373Z"
   },
   {
    "duration": 25,
    "start_time": "2021-11-02T11:51:54.387Z"
   },
   {
    "duration": 19,
    "start_time": "2021-11-02T11:51:54.413Z"
   },
   {
    "duration": 69,
    "start_time": "2021-11-02T11:51:54.434Z"
   },
   {
    "duration": 16,
    "start_time": "2021-11-02T11:51:54.505Z"
   },
   {
    "duration": 14,
    "start_time": "2021-11-02T11:51:54.523Z"
   },
   {
    "duration": 57,
    "start_time": "2021-11-02T11:51:54.539Z"
   },
   {
    "duration": 32,
    "start_time": "2021-11-02T11:51:54.597Z"
   },
   {
    "duration": 3851,
    "start_time": "2021-11-02T11:51:54.631Z"
   },
   {
    "duration": 16,
    "start_time": "2021-11-02T11:51:58.485Z"
   },
   {
    "duration": 33,
    "start_time": "2021-11-02T11:51:58.503Z"
   },
   {
    "duration": 46,
    "start_time": "2021-11-02T11:51:58.538Z"
   },
   {
    "duration": 14,
    "start_time": "2021-11-02T11:51:58.586Z"
   },
   {
    "duration": 9,
    "start_time": "2021-11-02T11:51:58.602Z"
   },
   {
    "duration": 5,
    "start_time": "2021-11-02T11:51:58.613Z"
   },
   {
    "duration": 34,
    "start_time": "2021-11-02T11:51:58.619Z"
   },
   {
    "duration": 45,
    "start_time": "2021-11-02T11:51:58.655Z"
   },
   {
    "duration": 10,
    "start_time": "2021-11-02T11:51:58.702Z"
   },
   {
    "duration": 21,
    "start_time": "2021-11-02T11:51:58.713Z"
   }
  ],
  "kernelspec": {
   "display_name": "Python 3 (ipykernel)",
   "language": "python",
   "name": "python3"
  },
  "language_info": {
   "codemirror_mode": {
    "name": "ipython",
    "version": 3
   },
   "file_extension": ".py",
   "mimetype": "text/x-python",
   "name": "python",
   "nbconvert_exporter": "python",
   "pygments_lexer": "ipython3",
   "version": "3.9.5"
  },
  "toc": {
   "base_numbering": 1,
   "nav_menu": {},
   "number_sections": true,
   "sideBar": true,
   "skip_h1_title": true,
   "title_cell": "Table of Contents",
   "title_sidebar": "Contents",
   "toc_cell": false,
   "toc_position": {},
   "toc_section_display": true,
   "toc_window_display": false
  }
 },
 "nbformat": 4,
 "nbformat_minor": 2
}
