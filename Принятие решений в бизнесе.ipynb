{
 "cells": [
  {
   "cell_type": "markdown",
   "metadata": {},
   "source": [
    "# Описание проекта"
   ]
  },
  {
   "cell_type": "markdown",
   "metadata": {},
   "source": [
    "Поступила задача: приоритезировать гипотезы(которые совместно с отделом маркетинга были подготовлены для увеличения выручки), запустить A/B-тест и проанализировать результаты. "
   ]
  },
  {
   "cell_type": "markdown",
   "metadata": {},
   "source": [
    "# Часть 1: Описание данных"
   ]
  },
  {
   "cell_type": "markdown",
   "metadata": {},
   "source": [
    "Файл /datasets/hypothesis.csv.\n",
    "- Hypothesis — краткое описание гипотезы;\n",
    "- Reach — охват пользователей по 10-балльной шкале;\n",
    "- Impact — влияние на пользователей по 10-балльной шкале;\n",
    "- Confidence — уверенность в гипотезе по 10-балльной шкале; \n",
    "- Efforts — затраты ресурсов на проверку гипотезы по 10-балльной шкале.\n",
    "- Чем больше значение Efforts, тем дороже проверка гипотезы."
   ]
  },
  {
   "cell_type": "markdown",
   "metadata": {},
   "source": [
    "# Задача"
   ]
  },
  {
   "cell_type": "markdown",
   "metadata": {},
   "source": [
    "- Применить фреймворк ICE для приоритизации гипотез. Отсортировать их по убыванию приоритета.\n",
    "- Применить фреймворк RICE для приоритизации гипотез. Отсортировать их по убыванию приоритета.\n",
    "- Указать, как изменилась приоритизация гипотез при применении RICE вместо ICE. Объяснить, почему так произошло."
   ]
  },
  {
   "cell_type": "code",
   "execution_count": 1,
   "metadata": {},
   "outputs": [],
   "source": [
    "import pandas as pd\n",
    "from scipy import stats as st\n",
    "import numpy as np\n",
    "import math as mth\n",
    "import datetime as dt\n",
    "import matplotlib.pyplot as plt\n",
    "from collections import defaultdict"
   ]
  },
  {
   "cell_type": "code",
   "execution_count": 2,
   "metadata": {},
   "outputs": [
    {
     "data": {
      "text/html": [
       "<div>\n",
       "<style scoped>\n",
       "    .dataframe tbody tr th:only-of-type {\n",
       "        vertical-align: middle;\n",
       "    }\n",
       "\n",
       "    .dataframe tbody tr th {\n",
       "        vertical-align: top;\n",
       "    }\n",
       "\n",
       "    .dataframe thead th {\n",
       "        text-align: right;\n",
       "    }\n",
       "</style>\n",
       "<table border=\"1\" class=\"dataframe\">\n",
       "  <thead>\n",
       "    <tr style=\"text-align: right;\">\n",
       "      <th></th>\n",
       "      <th>Hypothesis</th>\n",
       "      <th>Reach</th>\n",
       "      <th>Impact</th>\n",
       "      <th>Confidence</th>\n",
       "      <th>Efforts</th>\n",
       "    </tr>\n",
       "  </thead>\n",
       "  <tbody>\n",
       "    <tr>\n",
       "      <th>0</th>\n",
       "      <td>Добавить два новых канала привлечения трафика,...</td>\n",
       "      <td>3</td>\n",
       "      <td>10</td>\n",
       "      <td>8</td>\n",
       "      <td>6</td>\n",
       "    </tr>\n",
       "    <tr>\n",
       "      <th>1</th>\n",
       "      <td>Запустить собственную службу доставки, что сок...</td>\n",
       "      <td>2</td>\n",
       "      <td>5</td>\n",
       "      <td>4</td>\n",
       "      <td>10</td>\n",
       "    </tr>\n",
       "    <tr>\n",
       "      <th>2</th>\n",
       "      <td>Добавить блоки рекомендаций товаров на сайт ин...</td>\n",
       "      <td>8</td>\n",
       "      <td>3</td>\n",
       "      <td>7</td>\n",
       "      <td>3</td>\n",
       "    </tr>\n",
       "    <tr>\n",
       "      <th>3</th>\n",
       "      <td>Изменить структура категорий, что увеличит кон...</td>\n",
       "      <td>8</td>\n",
       "      <td>3</td>\n",
       "      <td>3</td>\n",
       "      <td>8</td>\n",
       "    </tr>\n",
       "    <tr>\n",
       "      <th>4</th>\n",
       "      <td>Изменить цвет фона главной страницы, чтобы уве...</td>\n",
       "      <td>3</td>\n",
       "      <td>1</td>\n",
       "      <td>1</td>\n",
       "      <td>1</td>\n",
       "    </tr>\n",
       "    <tr>\n",
       "      <th>5</th>\n",
       "      <td>Добавить страницу отзывов клиентов о магазине,...</td>\n",
       "      <td>3</td>\n",
       "      <td>2</td>\n",
       "      <td>2</td>\n",
       "      <td>3</td>\n",
       "    </tr>\n",
       "    <tr>\n",
       "      <th>6</th>\n",
       "      <td>Показать на главной странице баннеры с актуаль...</td>\n",
       "      <td>5</td>\n",
       "      <td>3</td>\n",
       "      <td>8</td>\n",
       "      <td>3</td>\n",
       "    </tr>\n",
       "    <tr>\n",
       "      <th>7</th>\n",
       "      <td>Добавить форму подписки на все основные страни...</td>\n",
       "      <td>10</td>\n",
       "      <td>7</td>\n",
       "      <td>8</td>\n",
       "      <td>5</td>\n",
       "    </tr>\n",
       "    <tr>\n",
       "      <th>8</th>\n",
       "      <td>Запустить акцию, дающую скидку на товар в день...</td>\n",
       "      <td>1</td>\n",
       "      <td>9</td>\n",
       "      <td>9</td>\n",
       "      <td>5</td>\n",
       "    </tr>\n",
       "  </tbody>\n",
       "</table>\n",
       "</div>"
      ],
      "text/plain": [
       "                                          Hypothesis  Reach  Impact  \\\n",
       "0  Добавить два новых канала привлечения трафика,...      3      10   \n",
       "1  Запустить собственную службу доставки, что сок...      2       5   \n",
       "2  Добавить блоки рекомендаций товаров на сайт ин...      8       3   \n",
       "3  Изменить структура категорий, что увеличит кон...      8       3   \n",
       "4  Изменить цвет фона главной страницы, чтобы уве...      3       1   \n",
       "5  Добавить страницу отзывов клиентов о магазине,...      3       2   \n",
       "6  Показать на главной странице баннеры с актуаль...      5       3   \n",
       "7  Добавить форму подписки на все основные страни...     10       7   \n",
       "8  Запустить акцию, дающую скидку на товар в день...      1       9   \n",
       "\n",
       "   Confidence  Efforts  \n",
       "0           8        6  \n",
       "1           4       10  \n",
       "2           7        3  \n",
       "3           3        8  \n",
       "4           1        1  \n",
       "5           2        3  \n",
       "6           8        3  \n",
       "7           8        5  \n",
       "8           9        5  "
      ]
     },
     "execution_count": 2,
     "metadata": {},
     "output_type": "execute_result"
    }
   ],
   "source": [
    "data = pd.read_csv('/datasets/hypothesis.csv')\n",
    "data"
   ]
  },
  {
   "cell_type": "markdown",
   "metadata": {},
   "source": [
    "Видно, что данные в порядке. Можно начинать анализ"
   ]
  },
  {
   "cell_type": "code",
   "execution_count": 3,
   "metadata": {},
   "outputs": [
    {
     "name": "stdout",
     "output_type": "stream",
     "text": [
      "                                          Hypothesis        ICE\n",
      "8  Запустить акцию, дающую скидку на товар в день...  16.200000\n",
      "0  Добавить два новых канала привлечения трафика,...  13.333333\n",
      "7  Добавить форму подписки на все основные страни...  11.200000\n",
      "6  Показать на главной странице баннеры с актуаль...   8.000000\n",
      "2  Добавить блоки рекомендаций товаров на сайт ин...   7.000000\n",
      "1  Запустить собственную службу доставки, что сок...   2.000000\n",
      "5  Добавить страницу отзывов клиентов о магазине,...   1.333333\n",
      "3  Изменить структура категорий, что увеличит кон...   1.125000\n",
      "4  Изменить цвет фона главной страницы, чтобы уве...   1.000000\n"
     ]
    }
   ],
   "source": [
    "# Посчитайем ICE для гипотез.\n",
    "data['ICE'] = data['Impact'] * data['Confidence'] / data['Efforts']\n",
    "print(data[[\"Hypothesis\", \"ICE\"]].sort_values(by='ICE', ascending=False))"
   ]
  },
  {
   "cell_type": "markdown",
   "metadata": {},
   "source": [
    "Наиболее перспективные гипотезы по ICE: 8, 0 и 7"
   ]
  },
  {
   "cell_type": "code",
   "execution_count": 4,
   "metadata": {},
   "outputs": [
    {
     "name": "stdout",
     "output_type": "stream",
     "text": [
      "                                          Hypothesis   RICE\n",
      "7  Добавить форму подписки на все основные страни...  112.0\n",
      "2  Добавить блоки рекомендаций товаров на сайт ин...   56.0\n",
      "0  Добавить два новых канала привлечения трафика,...   40.0\n",
      "6  Показать на главной странице баннеры с актуаль...   40.0\n",
      "8  Запустить акцию, дающую скидку на товар в день...   16.2\n",
      "3  Изменить структура категорий, что увеличит кон...    9.0\n",
      "1  Запустить собственную службу доставки, что сок...    4.0\n",
      "5  Добавить страницу отзывов клиентов о магазине,...    4.0\n",
      "4  Изменить цвет фона главной страницы, чтобы уве...    3.0\n"
     ]
    }
   ],
   "source": [
    "data['RICE'] = data['Reach'] * data['Impact'] * data['Confidence'] / data['Efforts']\n",
    "print(data[[\"Hypothesis\", \"RICE\"]].sort_values(by='RICE', ascending=False))\n",
    "pd.options.display.max_colwidth = 50"
   ]
  },
  {
   "cell_type": "markdown",
   "metadata": {},
   "source": [
    "Наиболее перспективные гипотезы по КICE: 7, 2 и 0"
   ]
  },
  {
   "cell_type": "markdown",
   "metadata": {},
   "source": [
    "Разница в приотритетах гипотез состоит в том, что RICE учитывает не только \"силу гипотез\", но и то как много пользователей она затронет. Поэтому гипотеза 7 выбилась вперед, т.к. ее Reach максимальный = 10. "
   ]
  },
  {
   "cell_type": "markdown",
   "metadata": {},
   "source": [
    "# Часть 2: Описание данных"
   ]
  },
  {
   "cell_type": "markdown",
   "metadata": {},
   "source": [
    "Файл /datasets/orders.csv\n",
    "- transactionId — идентификатор заказа;\n",
    "- visitorId — идентификатор пользователя, совершившего заказ;\n",
    "- date — дата, когда был совершён заказ;\n",
    "- revenue — выручка заказа;\n",
    "- group — группа A/B-теста, в которую попал заказ.\n"
   ]
  },
  {
   "cell_type": "markdown",
   "metadata": {},
   "source": [
    "Файл /datasets/visitors.csv\n",
    "- date — дата;\n",
    "- group — группа A/B-теста;\n",
    "- visitors — количество пользователей в указанную дату в указанной группе A/B-теста\n"
   ]
  },
  {
   "cell_type": "markdown",
   "metadata": {},
   "source": [
    "# Задача"
   ]
  },
  {
   "cell_type": "markdown",
   "metadata": {},
   "source": [
    "Проанализируйте A/B-тест  :)"
   ]
  },
  {
   "cell_type": "code",
   "execution_count": 5,
   "metadata": {},
   "outputs": [
    {
     "name": "stdout",
     "output_type": "stream",
     "text": [
      "\n",
      "Начальная дата 2019-08-01 00:00:00, конечная дата 2019-08-31 00:00:00\n",
      "\n",
      "<class 'pandas.core.frame.DataFrame'>\n",
      "RangeIndex: 1197 entries, 0 to 1196\n",
      "Data columns (total 5 columns):\n",
      " #   Column         Non-Null Count  Dtype         \n",
      "---  ------         --------------  -----         \n",
      " 0   transactionId  1197 non-null   int64         \n",
      " 1   visitorId      1197 non-null   int64         \n",
      " 2   date           1197 non-null   datetime64[ns]\n",
      " 3   revenue        1197 non-null   int64         \n",
      " 4   group          1197 non-null   object        \n",
      "dtypes: datetime64[ns](1), int64(3), object(1)\n",
      "memory usage: 46.9+ KB\n"
     ]
    }
   ],
   "source": [
    "orders = pd.read_csv('/datasets/orders.csv')\n",
    "orders['date'] = orders['date'].map(\n",
    "    lambda x: dt.datetime.strptime(x, '%Y-%m-%d')\n",
    ")\n",
    "print('\\nНачальная дата {}, конечная дата {}\\n'.format(orders['date'].min(), orders['date'].max()))\n",
    "orders.info()"
   ]
  },
  {
   "cell_type": "code",
   "execution_count": 6,
   "metadata": {},
   "outputs": [
    {
     "name": "stdout",
     "output_type": "stream",
     "text": [
      "<class 'pandas.core.frame.DataFrame'>\n",
      "RangeIndex: 62 entries, 0 to 61\n",
      "Data columns (total 3 columns):\n",
      " #   Column    Non-Null Count  Dtype         \n",
      "---  ------    --------------  -----         \n",
      " 0   date      62 non-null     datetime64[ns]\n",
      " 1   group     62 non-null     object        \n",
      " 2   visitors  62 non-null     int64         \n",
      "dtypes: datetime64[ns](1), int64(1), object(1)\n",
      "memory usage: 1.6+ KB\n"
     ]
    }
   ],
   "source": [
    "visitors = pd.read_csv('/datasets/visitors.csv')\n",
    "visitors['date'] = visitors['date'].map(\n",
    "    lambda x: dt.datetime.strptime(x, '%Y-%m-%d')\n",
    ")\n",
    "visitors.info()"
   ]
  },
  {
   "cell_type": "markdown",
   "metadata": {},
   "source": [
    "Проверим нет ли пользователей, которые оказались в обеих группах одновременно"
   ]
  },
  {
   "cell_type": "code",
   "execution_count": 7,
   "metadata": {},
   "outputs": [
    {
     "data": {
      "text/html": [
       "<div>\n",
       "<style scoped>\n",
       "    .dataframe tbody tr th:only-of-type {\n",
       "        vertical-align: middle;\n",
       "    }\n",
       "\n",
       "    .dataframe tbody tr th {\n",
       "        vertical-align: top;\n",
       "    }\n",
       "\n",
       "    .dataframe thead th {\n",
       "        text-align: right;\n",
       "    }\n",
       "</style>\n",
       "<table border=\"1\" class=\"dataframe\">\n",
       "  <thead>\n",
       "    <tr style=\"text-align: right;\">\n",
       "      <th></th>\n",
       "      <th>visitorId</th>\n",
       "      <th>count</th>\n",
       "    </tr>\n",
       "  </thead>\n",
       "  <tbody>\n",
       "    <tr>\n",
       "      <th>44</th>\n",
       "      <td>199603092</td>\n",
       "      <td>5</td>\n",
       "    </tr>\n",
       "    <tr>\n",
       "      <th>55</th>\n",
       "      <td>237748145</td>\n",
       "      <td>5</td>\n",
       "    </tr>\n",
       "    <tr>\n",
       "      <th>59</th>\n",
       "      <td>249864742</td>\n",
       "      <td>3</td>\n",
       "    </tr>\n",
       "    <tr>\n",
       "      <th>97</th>\n",
       "      <td>393266494</td>\n",
       "      <td>3</td>\n",
       "    </tr>\n",
       "    <tr>\n",
       "      <th>114</th>\n",
       "      <td>457167155</td>\n",
       "      <td>4</td>\n",
       "    </tr>\n",
       "    <tr>\n",
       "      <th>148</th>\n",
       "      <td>611059232</td>\n",
       "      <td>3</td>\n",
       "    </tr>\n",
       "    <tr>\n",
       "      <th>299</th>\n",
       "      <td>1230306981</td>\n",
       "      <td>5</td>\n",
       "    </tr>\n",
       "    <tr>\n",
       "      <th>311</th>\n",
       "      <td>1294878855</td>\n",
       "      <td>3</td>\n",
       "    </tr>\n",
       "    <tr>\n",
       "      <th>340</th>\n",
       "      <td>1404934699</td>\n",
       "      <td>3</td>\n",
       "    </tr>\n",
       "    <tr>\n",
       "      <th>393</th>\n",
       "      <td>1614305549</td>\n",
       "      <td>4</td>\n",
       "    </tr>\n",
       "    <tr>\n",
       "      <th>406</th>\n",
       "      <td>1668030113</td>\n",
       "      <td>3</td>\n",
       "    </tr>\n",
       "    <tr>\n",
       "      <th>422</th>\n",
       "      <td>1738359350</td>\n",
       "      <td>3</td>\n",
       "    </tr>\n",
       "    <tr>\n",
       "      <th>487</th>\n",
       "      <td>2038680547</td>\n",
       "      <td>8</td>\n",
       "    </tr>\n",
       "    <tr>\n",
       "      <th>491</th>\n",
       "      <td>2044997962</td>\n",
       "      <td>3</td>\n",
       "    </tr>\n",
       "    <tr>\n",
       "      <th>504</th>\n",
       "      <td>2108163459</td>\n",
       "      <td>3</td>\n",
       "    </tr>\n",
       "    <tr>\n",
       "      <th>569</th>\n",
       "      <td>2378935119</td>\n",
       "      <td>9</td>\n",
       "    </tr>\n",
       "    <tr>\n",
       "      <th>591</th>\n",
       "      <td>2458001652</td>\n",
       "      <td>11</td>\n",
       "    </tr>\n",
       "    <tr>\n",
       "      <th>619</th>\n",
       "      <td>2587333274</td>\n",
       "      <td>4</td>\n",
       "    </tr>\n",
       "    <tr>\n",
       "      <th>667</th>\n",
       "      <td>2742574263</td>\n",
       "      <td>3</td>\n",
       "    </tr>\n",
       "    <tr>\n",
       "      <th>677</th>\n",
       "      <td>2780786433</td>\n",
       "      <td>3</td>\n",
       "    </tr>\n",
       "    <tr>\n",
       "      <th>726</th>\n",
       "      <td>2988190573</td>\n",
       "      <td>3</td>\n",
       "    </tr>\n",
       "    <tr>\n",
       "      <th>744</th>\n",
       "      <td>3062433592</td>\n",
       "      <td>5</td>\n",
       "    </tr>\n",
       "    <tr>\n",
       "      <th>897</th>\n",
       "      <td>3717692402</td>\n",
       "      <td>5</td>\n",
       "    </tr>\n",
       "    <tr>\n",
       "      <th>917</th>\n",
       "      <td>3803269165</td>\n",
       "      <td>5</td>\n",
       "    </tr>\n",
       "    <tr>\n",
       "      <th>932</th>\n",
       "      <td>3891541246</td>\n",
       "      <td>3</td>\n",
       "    </tr>\n",
       "    <tr>\n",
       "      <th>937</th>\n",
       "      <td>3908431265</td>\n",
       "      <td>3</td>\n",
       "    </tr>\n",
       "    <tr>\n",
       "      <th>959</th>\n",
       "      <td>3967698036</td>\n",
       "      <td>3</td>\n",
       "    </tr>\n",
       "    <tr>\n",
       "      <th>963</th>\n",
       "      <td>3984495233</td>\n",
       "      <td>3</td>\n",
       "    </tr>\n",
       "    <tr>\n",
       "      <th>1009</th>\n",
       "      <td>4186807279</td>\n",
       "      <td>3</td>\n",
       "    </tr>\n",
       "    <tr>\n",
       "      <th>1023</th>\n",
       "      <td>4256040402</td>\n",
       "      <td>11</td>\n",
       "    </tr>\n",
       "  </tbody>\n",
       "</table>\n",
       "</div>"
      ],
      "text/plain": [
       "       visitorId  count\n",
       "44     199603092      5\n",
       "55     237748145      5\n",
       "59     249864742      3\n",
       "97     393266494      3\n",
       "114    457167155      4\n",
       "148    611059232      3\n",
       "299   1230306981      5\n",
       "311   1294878855      3\n",
       "340   1404934699      3\n",
       "393   1614305549      4\n",
       "406   1668030113      3\n",
       "422   1738359350      3\n",
       "487   2038680547      8\n",
       "491   2044997962      3\n",
       "504   2108163459      3\n",
       "569   2378935119      9\n",
       "591   2458001652     11\n",
       "619   2587333274      4\n",
       "667   2742574263      3\n",
       "677   2780786433      3\n",
       "726   2988190573      3\n",
       "744   3062433592      5\n",
       "897   3717692402      5\n",
       "917   3803269165      5\n",
       "932   3891541246      3\n",
       "937   3908431265      3\n",
       "959   3967698036      3\n",
       "963   3984495233      3\n",
       "1009  4186807279      3\n",
       "1023  4256040402     11"
      ]
     },
     "execution_count": 7,
     "metadata": {},
     "output_type": "execute_result"
    }
   ],
   "source": [
    "group_sizes = orders.groupby(['visitorId']).size().reset_index()\n",
    "group_sizes.columns = ['visitorId', 'count']\n",
    "group_sizes = group_sizes.query('count > 2').sort_values(by='visitorId')\n",
    "group_sizes"
   ]
  },
  {
   "cell_type": "code",
   "execution_count": 8,
   "metadata": {},
   "outputs": [
    {
     "data": {
      "text/plain": [
       "visitorId    58\n",
       "groups       58\n",
       "dtype: int64"
      ]
     },
     "execution_count": 8,
     "metadata": {},
     "output_type": "execute_result"
    }
   ],
   "source": [
    "ordersab = orders.drop_duplicates(subset=['visitorId','group'])\n",
    "ordersab = ordersab.groupby('visitorId', as_index=False)['group'].count()\n",
    "ordersab.columns = ['visitorId', 'groups']\n",
    "ordersab[ordersab['groups']==2].count()"
   ]
  },
  {
   "cell_type": "code",
   "execution_count": 9,
   "metadata": {},
   "outputs": [],
   "source": [
    "ab_list = ordersab[ordersab['groups']==2]['visitorId'].tolist()\n",
    "orders = orders.query('visitorId not in @ab_list')"
   ]
  },
  {
   "cell_type": "code",
   "execution_count": 10,
   "metadata": {},
   "outputs": [
    {
     "data": {
      "text/plain": [
       "visitorId    0\n",
       "groups       0\n",
       "dtype: int64"
      ]
     },
     "execution_count": 10,
     "metadata": {},
     "output_type": "execute_result"
    }
   ],
   "source": [
    "ordersab = orders.drop_duplicates(subset=['visitorId','group'])\n",
    "ordersab = ordersab.groupby('visitorId', as_index=False)['group'].count()\n",
    "ordersab.columns = ['visitorId', 'groups']\n",
    "ordersab[ordersab['groups']==2].count()"
   ]
  },
  {
   "cell_type": "markdown",
   "metadata": {},
   "source": [
    "# Проверим корректность распределения на группы A/B"
   ]
  },
  {
   "cell_type": "markdown",
   "metadata": {},
   "source": [
    "Необходимо проверить размеры групп в выборке, есть ли разница между ними, а также проверить, корректно ли был рассчитан размер выборки для проведения теста"
   ]
  },
  {
   "cell_type": "code",
   "execution_count": 11,
   "metadata": {},
   "outputs": [
    {
     "name": "stdout",
     "output_type": "stream",
     "text": [
      "Кол-во посетителей в группе А: 18736\n",
      "Кол-во посетителей в группе B: 18916\n",
      "Кол-во покупок в группе A: 468\n",
      "Кол-во покупок в группе B: 548\n"
     ]
    },
    {
     "data": {
      "image/png": "[encoded data removed]",
      "text/plain": [
       "<Figure size 432x288 with 1 Axes>"
      ]
     },
     "metadata": {
      "needs_background": "light"
     },
     "output_type": "display_data"
    },
    {
     "name": "stdout",
     "output_type": "stream",
     "text": [
      "P-value:0.7301376549390499\n",
      "Разница в количестве посетителей в группах A и B статистически НЕ значима\n",
      "\n"
     ]
    }
   ],
   "source": [
    "print('Кол-во посетителей в группе А: {}\\n'\n",
    "      'Кол-во посетителей в группе B: {}'.format(visitors[visitors['group']=='A']['visitors'].sum(), \n",
    "                                                 visitors[visitors['group']=='B']['visitors'].sum()))\n",
    "purchasesA = len(orders[orders['group']=='A'])\n",
    "purchasesB = len(orders[orders['group']=='B'])\n",
    "print('Кол-во покупок в группе A: {}'.format(purchasesA))\n",
    "print('Кол-во покупок в группе B: {}'.format(purchasesB))\n",
    "plt.hist(visitors[visitors['group']=='A']['visitors'], alpha = 0.8, label='A', bins = 30)\n",
    "plt.hist(visitors[visitors['group']=='B']['visitors'], alpha = 0.8, label='B', bins = 30)\n",
    "plt.legend()\n",
    "plt.title('Гистограммы кол-ва посетителей в день по группам A и B')\n",
    "plt.show()\n",
    "results = st.mannwhitneyu(visitors[visitors['group']=='A']['visitors'], visitors[visitors['group']=='B']['visitors'])\n",
    "alpha = 0.05\n",
    "print('P-value:{}'.format(results.pvalue))\n",
    "if results.pvalue < alpha:\n",
    "    print('Разница в количестве посетителей в группах A и B статистически значима\\n')\n",
    "else:\n",
    "    print('Разница в количестве посетителей в группах A и B статистически НЕ значима\\n')\n",
    "\n",
    "initial_conversion = len(orders[orders['group']=='A']) / visitors[visitors['group']=='A']['visitors'].sum() \n",
    "resulting_conversion = len(orders[orders['group']=='B']) / visitors[visitors['group']=='B']['visitors'].sum()"
   ]
  },
  {
   "cell_type": "markdown",
   "metadata": {},
   "source": [
    "Вводим начальную конверсию и полученное относительное изменение конверсии в калькулятор.\n",
    "Сайт калькулятора: https://www.evanmiller.org/ab-testing/sample-size.html\n",
    "Получаем необходимое количество выборки 35855 для корректного проведения тестирования.\n",
    "В нашем случае количество 37652 посещений.\n",
    "Кол-во выборки для A/B тестирования корректно подобрано, статистически значимой разницы\n",
    "в количестве посещений м/у группами не обнаружено.\n",
    "\n",
    "Ок, идём дальше."
   ]
  },
  {
   "cell_type": "markdown",
   "metadata": {},
   "source": [
    "*** Начнем сбор кумулятивных данных ***"
   ]
  },
  {
   "cell_type": "code",
   "execution_count": 12,
   "metadata": {},
   "outputs": [
    {
     "name": "stdout",
     "output_type": "stream",
     "text": [
      "        date group  orders  buyers  revenue  visitors\n",
      "0 2019-08-01     A      23      19   142779       719\n",
      "1 2019-08-01     B      17      17    59758       713\n",
      "2 2019-08-02     A      42      36   234381      1338\n",
      "3 2019-08-02     B      40      39   221801      1294\n",
      "4 2019-08-03     A      66      60   346854      1845\n"
     ]
    }
   ],
   "source": [
    "datesGroups = orders[['date', 'group']].drop_duplicates()\n",
    "\n",
    "ordersAggregated = datesGroups.apply(lambda x: orders[np.logical_and(orders['date'] <= x['date'], orders['group'] == x['group'])]\\\n",
    ".agg({'date' : 'max', 'group' : 'max', 'transactionId' : 'nunique', 'visitorId' : 'nunique', 'revenue' : 'sum'}), axis=1).sort_values(by=['date','group'])\n",
    "\n",
    "visitorsAggregated = datesGroups.apply(lambda x: visitors[np.logical_and(visitors['date'] <= x['date'], visitors['group'] == x['group'])].agg({'date' : 'max', 'group' : 'max', 'visitors' : 'sum'}), axis=1).sort_values(by=['date','group'])\n",
    "\n",
    "cumulativeData = ordersAggregated.merge(visitorsAggregated, left_on=['date', 'group'], right_on=['date', 'group'])\n",
    "cumulativeData.columns = ['date', 'group', 'orders', 'buyers', 'revenue', 'visitors']\n",
    "\n",
    "print(cumulativeData.head())"
   ]
  },
  {
   "cell_type": "markdown",
   "metadata": {},
   "source": [
    "Построим график кумулятивной выручки по группам"
   ]
  },
  {
   "cell_type": "code",
   "execution_count": 13,
   "metadata": {},
   "outputs": [
    {
     "data": {
      "image/png": "[encoded data removed]",
      "text/plain": [
       "<Figure size 720x288 with 1 Axes>"
      ]
     },
     "metadata": {
      "needs_background": "light"
     },
     "output_type": "display_data"
    }
   ],
   "source": [
    "cumulativeRevenueA = cumulativeData[cumulativeData['group']=='A'][['date','revenue', 'orders']]\n",
    "\n",
    "cumulativeRevenueB = cumulativeData[cumulativeData['group']=='B'][['date','revenue', 'orders']]\n",
    "plt.figure(figsize=(10,4))\n",
    "plt.plot(cumulativeRevenueA['date'], cumulativeRevenueA['revenue'], label='A')\n",
    "plt.title('График кумулятивной выручки по группам A/B')\n",
    "plt.ylabel('Выручка')\n",
    "plt.xlabel('Дата')\n",
    "plt.plot(cumulativeRevenueB['date'], cumulativeRevenueB['revenue'], label='B')\n",
    "\n",
    "plt.legend()\n",
    "plt.show()"
   ]
  },
  {
   "cell_type": "markdown",
   "metadata": {},
   "source": [
    "Почти в середине теста группа B вырвалась вперед и продолжала лидировать весь тест. Похоже что есть аномально большие заказы."
   ]
  },
  {
   "cell_type": "markdown",
   "metadata": {},
   "source": [
    "2) Постройте график кумулятивного среднего чека по группам. Сделайте выводы и предположения."
   ]
  },
  {
   "cell_type": "code",
   "execution_count": 14,
   "metadata": {},
   "outputs": [
    {
     "data": {
      "image/png": "[encoded data removed]",
      "text/plain": [
       "<Figure size 720x288 with 1 Axes>"
      ]
     },
     "metadata": {
      "needs_background": "light"
     },
     "output_type": "display_data"
    }
   ],
   "source": [
    "cumulativeRevenueA = cumulativeData[cumulativeData['group'] == 'A'][\n",
    "    ['date', 'revenue', 'orders']\n",
    "]\n",
    "cumulativeRevenueB = cumulativeData[cumulativeData['group'] == 'B'][\n",
    "    ['date', 'revenue', 'orders']\n",
    "]\n",
    "plt.figure(figsize=(10,4))\n",
    "plt.title('Графики кумулятивного среднего чека по группам A/B')\n",
    "plt.ylabel('Средний чек')\n",
    "plt.xlabel('Дата')\n",
    "plt.plot(cumulativeRevenueA['date'], cumulativeRevenueA['revenue']/cumulativeRevenueA['orders'], label='A')\n",
    "plt.plot(cumulativeRevenueB['date'], cumulativeRevenueB['revenue']/cumulativeRevenueB['orders'], label='B')\n",
    "plt.legend() \n",
    "plt.show()"
   ]
  },
  {
   "cell_type": "markdown",
   "metadata": {},
   "source": [
    "По графику видно, что в середине теста была произведена очень большая покупка и благодаря ей группа B вырвалась вперед."
   ]
  },
  {
   "cell_type": "markdown",
   "metadata": {},
   "source": [
    "3) Постройте график относительного изменения кумулятивного среднего чека группы B к группе A. Сделайте выводы и предположения."
   ]
  },
  {
   "cell_type": "code",
   "execution_count": 15,
   "metadata": {},
   "outputs": [
    {
     "data": {
      "image/png": "[encoded data removed]",
      "text/plain": [
       "<Figure size 720x288 with 1 Axes>"
      ]
     },
     "metadata": {
      "needs_background": "light"
     },
     "output_type": "display_data"
    }
   ],
   "source": [
    "\n",
    "cumulativeRevenueA = cumulativeData[cumulativeData['group'] == 'A'][\n",
    "    ['date', 'revenue', 'orders']\n",
    "]\n",
    "cumulativeRevenueB = cumulativeData[cumulativeData['group'] == 'B'][\n",
    "    ['date', 'revenue', 'orders']\n",
    "]\n",
    "\n",
    "mergedCumulativeRevenue = cumulativeRevenueA.merge(cumulativeRevenueB, left_on='date', right_on='date', how='left', suffixes=['A', 'B'])\n",
    "plt.figure(figsize=(10,4))\n",
    "plt.title('График относительного изменения кумулятивного среднего чека группы B к группе A')\n",
    "plt.xlabel('Дата')\n",
    "plt.plot(mergedCumulativeRevenue['date'], (mergedCumulativeRevenue['revenueB']/mergedCumulativeRevenue['ordersB'])/(mergedCumulativeRevenue['revenueA']/mergedCumulativeRevenue['ordersA'])-1)\n",
    "plt.axhline(y=0, color='black', linestyle='--') \n",
    "plt.show()"
   ]
  },
  {
   "cell_type": "markdown",
   "metadata": {},
   "source": [
    "В течении теста результаты резко менялись несколько раз. Именно тогда были произведены большие покупки"
   ]
  },
  {
   "cell_type": "markdown",
   "metadata": {},
   "source": [
    "4) Постройте график кумулятивной конверсии по группам. Сделайте выводы и предположения."
   ]
  },
  {
   "cell_type": "code",
   "execution_count": 16,
   "metadata": {},
   "outputs": [
    {
     "data": {
      "image/png": "[encoded data removed]",
      "text/plain": [
       "<Figure size 720x288 with 1 Axes>"
      ]
     },
     "metadata": {
      "needs_background": "light"
     },
     "output_type": "display_data"
    }
   ],
   "source": [
    "cumulativeData['conversion'] = cumulativeData['orders']/cumulativeData['visitors']\n",
    "cumulativeDataA = cumulativeData[cumulativeData['group']=='A']\n",
    "cumulativeDataB = cumulativeData[cumulativeData['group']=='B']\n",
    "plt.figure(figsize=(10,4))\n",
    "plt.title('График кумулятивной конверсии по группам A/B')\n",
    "plt.xlabel('Дата')\n",
    "plt.ylabel('Конверсия')\n",
    "plt.plot(cumulativeDataA['date'], cumulativeDataA['conversion'], label='A')\n",
    "plt.plot(cumulativeDataB['date'], cumulativeDataB['conversion'], label='B')\n",
    "plt.legend()\n",
    "\n",
    "plt.axis([dt.datetime(2019, 8, 1), dt.datetime(2019, 8, 31), 0, 0.10])\n",
    "plt.show()"
   ]
  },
  {
   "cell_type": "markdown",
   "metadata": {},
   "source": [
    "Группа B постепенно выровнялась и зафиксировалась на одном значении, большем чем у группы A"
   ]
  },
  {
   "cell_type": "markdown",
   "metadata": {},
   "source": [
    "5) Постройте график относительного изменения кумулятивной конверсии группы B к группе A. Сделайте выводы и предположения."
   ]
  },
  {
   "cell_type": "code",
   "execution_count": 17,
   "metadata": {},
   "outputs": [
    {
     "data": {
      "image/png": "[encoded data removed]",
      "text/plain": [
       "<Figure size 720x288 with 1 Axes>"
      ]
     },
     "metadata": {
      "needs_background": "light"
     },
     "output_type": "display_data"
    }
   ],
   "source": [
    "cumulativeData['conversion'] = (\n",
    "    cumulativeData['orders'] / cumulativeData['visitors']\n",
    ")\n",
    "\n",
    "cumulativeDataA = cumulativeData[cumulativeData['group'] == 'A']\n",
    "cumulativeDataB = cumulativeData[cumulativeData['group'] == 'B']\n",
    "\n",
    "mergedCumulativeConversions = cumulativeDataA[['date','conversion']].merge(cumulativeDataB[['date','conversion']], left_on='date', right_on='date', how='left', suffixes=['A', 'B'])\n",
    "plt.figure(figsize=(10,4))\n",
    "plt.plot(mergedCumulativeConversions['date'], mergedCumulativeConversions['conversionB']/mergedCumulativeConversions['conversionA']-1, label=\"Относительный прирост конверсии группы B относительно группы A\")\n",
    "plt.legend()\n",
    "plt.xlabel('Дата')\n",
    "plt.title('График относительного изменения кумулятивной конверсии группы B к группе A')\n",
    "plt.axhline(y=0, color='black', linestyle='--')\n",
    "\n",
    "plt.axhline(y=0.1, color='grey', linestyle='--')\n",
    "plt.show()"
   ]
  },
  {
   "cell_type": "markdown",
   "metadata": {},
   "source": [
    "Конверсия в группе B стабильно лучше конверсии в группе A на 10% по просшествии 1 недели после начала"
   ]
  },
  {
   "cell_type": "markdown",
   "metadata": {},
   "source": [
    "# Анализ выбросов"
   ]
  },
  {
   "cell_type": "markdown",
   "metadata": {},
   "source": [
    "6) Построим точечный график количества заказов по пользователям. "
   ]
  },
  {
   "cell_type": "code",
   "execution_count": 18,
   "metadata": {},
   "outputs": [
    {
     "data": {
      "image/png": "[encoded data removed]",
      "text/plain": [
       "<Figure size 720x288 with 1 Axes>"
      ]
     },
     "metadata": {
      "needs_background": "light"
     },
     "output_type": "display_data"
    },
    {
     "data": {
      "image/png": "[encoded data removed]",
      "text/plain": [
       "<Figure size 720x288 with 1 Axes>"
      ]
     },
     "metadata": {
      "needs_background": "light"
     },
     "output_type": "display_data"
    },
    {
     "name": "stdout",
     "output_type": "stream",
     "text": [
      "Выводы:\n",
      "Судя по граифкам, подавляющее большинство пользователей не совершает более 2 заказов\n"
     ]
    }
   ],
   "source": [
    "orders.head(5)\n",
    "ordersByUsers = orders.groupby('visitorId', as_index = False).agg({'transactionId':'nunique'}).sort_values(by='transactionId', ascending = False)\n",
    "ordersByUsers.columns = ['visitorId', 'orders']\n",
    "ordersByUsers.head(5)\n",
    "plt.figure(figsize=(10,4))\n",
    "plt.hist(ordersByUsers['orders'], bins = 10)\n",
    "plt.title('Гистрограмма распределения количества заказов на одного пользователя')\n",
    "plt.show()\n",
    "x_values = pd.Series(range(0, len(ordersByUsers)))\n",
    "plt.figure(figsize=(10,4))\n",
    "plt.scatter(x_values, ordersByUsers['orders'])\n",
    "plt.title('Точечная диаграмма числа заказов на одного пользователя')\n",
    "plt.show()\n",
    "print('Выводы:')\n",
    "print('Судя по граифкам, подавляющее большинство пользователей не совершает более 2 заказов')"
   ]
  },
  {
   "cell_type": "markdown",
   "metadata": {},
   "source": [
    "Смотря на графики можно сказать, что большенство пользователей не совершают больше двух заказов"
   ]
  },
  {
   "cell_type": "markdown",
   "metadata": {},
   "source": [
    "7) Посчитайем 95-й и 99-й перцентили количества заказов на пользователя. Выберем границу для определения аномальных пользователей."
   ]
  },
  {
   "cell_type": "code",
   "execution_count": 19,
   "metadata": {
    "scrolled": true
   },
   "outputs": [
    {
     "name": "stdout",
     "output_type": "stream",
     "text": [
      "      visitorId  orders\n",
      "908  3967698036       3\n",
      "478  2108163459       3\n",
      "687  2988190573       3\n",
      "890  3908431265       3\n",
      "138   611059232       3\n",
      "632  2742574263       3\n",
      "55    249864742       3\n",
      "807  3469608676       2\n",
      "792  3379260072       2\n",
      "787  3362039251       2\n",
      "[1. 2.]\n"
     ]
    }
   ],
   "source": [
    "\n",
    "print(ordersByUsers.sort_values(by='orders', ascending=False).head(10))\n",
    "\n",
    "print(np.percentile(ordersByUsers['orders'], [95, 99]))"
   ]
  },
  {
   "cell_type": "markdown",
   "metadata": {},
   "source": [
    "8) Построим точечный график стоимостей заказов"
   ]
  },
  {
   "cell_type": "code",
   "execution_count": 20,
   "metadata": {},
   "outputs": [
    {
     "data": {
      "text/plain": [
       "<matplotlib.collections.PathCollection at 0x7f4b0bd4acd0>"
      ]
     },
     "execution_count": 20,
     "metadata": {},
     "output_type": "execute_result"
    },
    {
     "data": {
      "image/png": "[encoded data removed]",
      "text/plain": [
       "<Figure size 720x288 with 1 Axes>"
      ]
     },
     "metadata": {
      "needs_background": "light"
     },
     "output_type": "display_data"
    }
   ],
   "source": [
    "x_values = pd.Series(range(0, len(orders['revenue'])))\n",
    "plt.figure(figsize=(10,4))\n",
    "plt.title('Точечная диаграмма сумм заказов на одного пользователя')\n",
    "plt.axis([0, 1200, 0, 200000])\n",
    "plt.scatter(x_values, orders['revenue'])"
   ]
  },
  {
   "cell_type": "markdown",
   "metadata": {},
   "source": [
    "Судя по графику, большенство пользователей делаю заказы на сумму не больше 25000 рублей"
   ]
  },
  {
   "cell_type": "markdown",
   "metadata": {},
   "source": [
    "9) Посчитаем 95-й и 99-й перцентили сумм заказов на пользователя. Выберем границу для определения аномальных пользователей."
   ]
  },
  {
   "cell_type": "code",
   "execution_count": 21,
   "metadata": {},
   "outputs": [
    {
     "name": "stdout",
     "output_type": "stream",
     "text": [
      "[26785. 53904.]\n"
     ]
    }
   ],
   "source": [
    "print(np.percentile(orders['revenue'], [95, 99])) "
   ]
  },
  {
   "cell_type": "markdown",
   "metadata": {},
   "source": [
    "10) Посчитаем статистическую значимость различий в конверсии между группами по «сырым» данным\n",
    "\n",
    "Будем испоьзовать критерий Уилкоксона-Манна-Уитни, т.к. он работает с рангами, — номерами значений в упорядоченном ряду, — никак не учитывая сами значения. Всегда используем его, когда имеются выбросы"
   ]
  },
  {
   "cell_type": "markdown",
   "metadata": {},
   "source": [
    "Будем проверять гипотезы:\n",
    "- H1 - По неочищенным данным в конверсии групп A и B РАЗНИЦА СТАТИСТИЧЕСКИ ЗНАЧИМА\n",
    "- H0 - По неочищенным данным РАЗЛИЧИЙ в конверсии групп A и B НЕТ"
   ]
  },
  {
   "cell_type": "code",
   "execution_count": 22,
   "metadata": {},
   "outputs": [
    {
     "name": "stdout",
     "output_type": "stream",
     "text": [
      "\n",
      "Относительный прирост конверсии группы B по отношению к группе A: 0.160\n",
      "P-value: 0.011018084110014696\n",
      "Отвергаем нулевую гипотезу\n"
     ]
    }
   ],
   "source": [
    "ordersByUsersA = orders[orders['group']=='A'].groupby('visitorId', as_index=False).agg({'transactionId':'nunique'})\n",
    "ordersByUsersA.columns = ['visitorId', 'orders']\n",
    "ordersByUsersB = orders[orders['group']=='B'].groupby('visitorId', as_index=False).agg({'transactionId':'nunique'})\n",
    "ordersByUsersB.columns = ['visitorId', 'orders']\n",
    "\n",
    "list_orders_1 =[]\n",
    "for i in range(0,(visitors[visitors['group']=='A']['visitors'].sum()-len(ordersByUsersA))):\n",
    "    list_orders_1.append(0)\n",
    "orders_by_non_purchased_users_A = pd.Series(data = list_orders_1, name = 'orders')\n",
    "\n",
    "list_orders_2 =[]\n",
    "for i in range(0,(visitors[visitors['group']=='B']['visitors'].sum()-len(ordersByUsersB))):\n",
    "    list_orders_2.append(0)\n",
    "orders_by_non_purchased_users_B = pd.Series(data = list_orders_2, name = 'orders')\n",
    "\n",
    "sampleA = pd.concat([ordersByUsersA['orders'], orders_by_non_purchased_users_A], axis=0)\n",
    "sampleB = pd.concat([ordersByUsersB['orders'], orders_by_non_purchased_users_B], axis=0)\n",
    "print('\\nОтносительный прирост конверсии группы B по отношению к группе A: {:.3f}'.format(sampleB.mean()/sampleA.mean()-1))\n",
    "alpha = 0.05\n",
    "results = st.mannwhitneyu(sampleA, sampleB)\n",
    "print('P-value: {}'.format(results.pvalue))\n",
    "if results.pvalue < alpha:\n",
    "    print('Отвергаем нулевую гипотезу')\n",
    "else:\n",
    "    print('Нулевую гипотезу отвергнуть не удалось')"
   ]
  },
  {
   "cell_type": "markdown",
   "metadata": {},
   "source": [
    "11) Посчитаем статистическую значимость различий в среднем чеке заказа между группами по «сырым» данным"
   ]
  },
  {
   "cell_type": "markdown",
   "metadata": {},
   "source": [
    "Проверим гипотезы:\n",
    "- H1 - По неочищенным данным РАЗНИЦА в средних чеках в группах A и B СТАТИСТИЧЕСКИ ЗНАЧИМА\n",
    "- H0 - По неочищенным данным РАЗЛИЧИЙ в средних чеках в группах A и B НЕТ"
   ]
  },
  {
   "cell_type": "code",
   "execution_count": 23,
   "metadata": {},
   "outputs": [
    {
     "name": "stdout",
     "output_type": "stream",
     "text": [
      "Относительное изменение среднего чека в группе B по отношению группы A: 0.287\n",
      "P-value: 0.8294908998149533\n",
      "Отвергнуть нулевую гипотезу не удалось\n"
     ]
    }
   ],
   "source": [
    "print('Относительное изменение среднего чека в группе B по отношению группы A: {:.3f}'.format(\n",
    "orders[orders['group']=='B']['revenue'].mean()/orders[orders['group']=='A']['revenue'].mean()-1))\n",
    "results = st.mannwhitneyu(orders[orders['group']=='A']['revenue'], orders[orders['group']=='B']['revenue'])\n",
    "print('P-value: {}'.format(results.pvalue))\n",
    "if results.pvalue < alpha:\n",
    "    print('Отвергаем нулевую гипотезу')\n",
    "else:\n",
    "    print('Отвергнуть нулевую гипотезу не удалось')"
   ]
  },
  {
   "cell_type": "markdown",
   "metadata": {},
   "source": [
    "12) Посчитаем статистическую значимость различий в конверсии между группами по «очищенным» данным"
   ]
  },
  {
   "cell_type": "markdown",
   "metadata": {},
   "source": [
    "Ранее мы уже выяснили, что подавляющее большинство пользователей не делает более 2 заказов и сумма 1 покупки в большинстве случаев не превышает 28000 деняг. Очистим данные от аномальных пользователей с превышающими данные лимиты значениями."
   ]
  },
  {
   "cell_type": "code",
   "execution_count": 24,
   "metadata": {},
   "outputs": [],
   "source": [
    "#зададим предельные кол-во заказов и сумму покупки для формирования списка аномальных пользователей\n",
    "limit_orders = 2\n",
    "limit_revenue = 28000"
   ]
  },
  {
   "cell_type": "code",
   "execution_count": 25,
   "metadata": {},
   "outputs": [
    {
     "name": "stdout",
     "output_type": "stream",
     "text": [
      "Кол-во аномальных пользователей: 55\n"
     ]
    }
   ],
   "source": [
    "usersWithManyOrders = pd.concat([ordersByUsersA[ordersByUsersA['orders']>limit_orders]['visitorId'], \n",
    "                                ordersByUsersB[ordersByUsersB['orders']>limit_orders]['visitorId']], axis = 0)\n",
    "usersWithExpensiveOrders = orders[orders['revenue']>limit_revenue]['visitorId']\n",
    "abnormalUsers = pd.concat([usersWithManyOrders, usersWithExpensiveOrders], axis = 0).drop_duplicates().sort_values()\n",
    "print('Кол-во аномальных пользователей: {}'.format(len(abnormalUsers)))"
   ]
  },
  {
   "cell_type": "markdown",
   "metadata": {},
   "source": [
    "Проверим гипотезы:\n",
    "- H1 - По очищенным данным в конверсии групп A и B РАЗНИЦА СТАТИСТИЧЕСКИ ЗНАЧИМА!\n",
    "- H0 - По очищенным данным РАЗЛИЧИЙ в конверсии групп A и B НЕТ"
   ]
  },
  {
   "cell_type": "code",
   "execution_count": 26,
   "metadata": {},
   "outputs": [
    {
     "name": "stdout",
     "output_type": "stream",
     "text": [
      "\n",
      "Относительный прирост конверсии группы B по отношению к группе A после очистки данных: 0.189\n",
      "P-value: 0.00945335018662552\n",
      "Отвергаем нулевую гипотезу\n"
     ]
    }
   ],
   "source": [
    "sampleAFiltered = pd.concat([\n",
    "    ordersByUsersA[np.logical_not(ordersByUsersA['visitorId'].isin(abnormalUsers))]['orders'],\n",
    "    orders_by_non_purchased_users_A\n",
    "], axis = 0)\n",
    "sampleBFiltered = pd.concat([\n",
    "    ordersByUsersB[np.logical_not(ordersByUsersB['visitorId'].isin(abnormalUsers))]['orders'],\n",
    "    orders_by_non_purchased_users_B\n",
    "], axis = 0)\n",
    "print('\\nОтносительный прирост конверсии группы B по отношению к группе A после очистки данных: {:.3f}'.format(sampleBFiltered.mean()/sampleAFiltered.mean()-1))\n",
    "results = st.mannwhitneyu(sampleAFiltered, sampleBFiltered)\n",
    "print('P-value: {}'.format(results.pvalue))\n",
    "if results.pvalue < alpha:\n",
    "    print('Отвергаем нулевую гипотезу')\n",
    "else:\n",
    "    print('Отвергнуть нулевую гипотезу не удалось')"
   ]
  },
  {
   "cell_type": "markdown",
   "metadata": {},
   "source": [
    "13) Посчитаем статистическую значимость различий в среднем чеке заказа между группами по «очищенным» данным"
   ]
  },
  {
   "cell_type": "markdown",
   "metadata": {},
   "source": [
    "Проверим гипотезы:\n",
    "- H1 - По очищенным данным РАЗНИЦА в средних чеках в группах A и B СТАТИСТИЧЕСКИ ЗНАЧИМА\n",
    "- H0 - По очищенным данным РАЗЛИЧИЙ в средних чеках в группах A и B НЕТ"
   ]
  },
  {
   "cell_type": "code",
   "execution_count": 27,
   "metadata": {},
   "outputs": [
    {
     "name": "stdout",
     "output_type": "stream",
     "text": [
      "Относительное изменение среднего чека в группе B по отношению группы A после очистки данных: -0.022\n",
      "P-value: 0.7616880562749192\n",
      "Отвергнуть нулевую гипотезу не удалось\n"
     ]
    }
   ],
   "source": [
    "print('Относительное изменение среднего чека в группе B по отношению группы A после очистки данных: {:.3f}'.format(\n",
    "orders[np.logical_and(orders['group']=='B', np.logical_not(orders['visitorId'].isin(abnormalUsers)))]['revenue'].mean()\\\n",
    "/orders[np.logical_and(orders['group']=='A', np.logical_not(orders['visitorId'].isin(abnormalUsers)))]['revenue'].mean()-1))\n",
    "       \n",
    "       \n",
    "results = st.mannwhitneyu(orders[np.logical_and(orders['group']=='A', np.logical_not(orders['visitorId'].isin(abnormalUsers)))]['revenue'],\n",
    "                             orders[np.logical_and(orders['group']=='B', np.logical_not(orders['visitorId'].isin(abnormalUsers)))]['revenue'])\n",
    "print('P-value: {}'.format(results.pvalue))\n",
    "if results.pvalue < alpha:\n",
    "    print('Отвергаем нулевую гипотезу')\n",
    "else:\n",
    "    print('Отвергнуть нулевую гипотезу не удалось')"
   ]
  },
  {
   "cell_type": "markdown",
   "metadata": {},
   "source": [
    "14) Решение по результатам теста"
   ]
  },
  {
   "cell_type": "markdown",
   "metadata": {},
   "source": [
    "Кумулятивные метрики по выручке, среднему чеку и конверсии почти все время лидировали в группе B. У нас на некоторое время возникли сомнения из-за резких колебаний на графике кумулятивного среднего чека в группе B до очистки данных от аномальных пользователей. Наши сомнения подтвердились на этот счет, т.к. после очистки разница между средними чеками стала минимальна, но это не даёт нам повода сомневаться в проведении теста и его результатах. До и после очистки данных, показатель конверсии в группе B больше показателя в группе A - сначала на 14% до и на 17% после очистки данных. Данная разница показателей конверсии между группами и до и после очистки данных является СТАТИСТИЧЕСКИ ЗНАЧИМОЙ, что пользволяет нам сделать вывод о том, что мы можем остановить наш A/B тест и зафиксировать победу группы B!"
   ]
  }
 ],
 "metadata": {
  "ExecuteTimeLog": [
   {
    "duration": 485,
    "start_time": "2022-04-04T16:06:56.150Z"
   },
   {
    "duration": 2666,
    "start_time": "2022-04-04T16:08:21.928Z"
   },
   {
    "duration": 14,
    "start_time": "2022-04-04T16:08:35.950Z"
   },
   {
    "duration": 7,
    "start_time": "2022-04-04T16:08:43.270Z"
   },
   {
    "duration": 2663,
    "start_time": "2022-04-04T16:11:03.866Z"
   },
   {
    "duration": 10,
    "start_time": "2022-04-04T16:11:19.950Z"
   },
   {
    "duration": 30,
    "start_time": "2022-04-04T16:15:14.396Z"
   },
   {
    "duration": 7,
    "start_time": "2022-04-04T16:23:42.444Z"
   },
   {
    "duration": 89,
    "start_time": "2022-04-04T16:23:54.631Z"
   },
   {
    "duration": 47,
    "start_time": "2022-04-04T16:24:03.825Z"
   },
   {
    "duration": 54,
    "start_time": "2022-04-04T16:24:51.682Z"
   },
   {
    "duration": 748,
    "start_time": "2022-04-04T16:29:32.565Z"
   },
   {
    "duration": 469,
    "start_time": "2022-04-04T16:29:40.222Z"
   },
   {
    "duration": 8,
    "start_time": "2022-04-04T16:29:40.928Z"
   },
   {
    "duration": 9,
    "start_time": "2022-04-04T16:29:41.221Z"
   },
   {
    "duration": 746,
    "start_time": "2022-04-04T16:29:42.428Z"
   },
   {
    "duration": 0,
    "start_time": "2022-04-04T16:29:43.176Z"
   },
   {
    "duration": 739,
    "start_time": "2022-04-04T16:29:50.365Z"
   },
   {
    "duration": 44,
    "start_time": "2022-04-04T16:29:58.388Z"
   },
   {
    "duration": 731,
    "start_time": "2022-04-04T16:32:07.510Z"
   },
   {
    "duration": 23,
    "start_time": "2022-04-04T16:32:44.166Z"
   },
   {
    "duration": 10,
    "start_time": "2022-04-04T16:32:44.836Z"
   },
   {
    "duration": 9,
    "start_time": "2022-04-04T16:32:45.106Z"
   },
   {
    "duration": 699,
    "start_time": "2022-04-04T16:32:46.298Z"
   },
   {
    "duration": 0,
    "start_time": "2022-04-04T16:32:46.999Z"
   },
   {
    "duration": 2398,
    "start_time": "2022-04-04T16:33:02.492Z"
   },
   {
    "duration": 722,
    "start_time": "2022-04-04T16:33:12.936Z"
   },
   {
    "duration": 673,
    "start_time": "2022-04-04T16:33:22.556Z"
   },
   {
    "duration": 729,
    "start_time": "2022-04-04T16:33:53.882Z"
   },
   {
    "duration": 59,
    "start_time": "2022-04-04T16:34:13.067Z"
   },
   {
    "duration": 620,
    "start_time": "2022-04-04T16:34:32.224Z"
   },
   {
    "duration": 24,
    "start_time": "2022-04-04T16:34:52.081Z"
   },
   {
    "duration": 255,
    "start_time": "2022-04-04T16:35:37.952Z"
   },
   {
    "duration": 13,
    "start_time": "2022-04-04T16:37:07.411Z"
   },
   {
    "duration": 521,
    "start_time": "2022-04-04T16:37:19.272Z"
   },
   {
    "duration": 8,
    "start_time": "2022-04-04T16:37:19.795Z"
   },
   {
    "duration": 10,
    "start_time": "2022-04-04T16:37:19.804Z"
   },
   {
    "duration": 65,
    "start_time": "2022-04-04T16:37:20.926Z"
   },
   {
    "duration": 22,
    "start_time": "2022-04-04T16:37:21.058Z"
   },
   {
    "duration": 263,
    "start_time": "2022-04-04T16:37:21.329Z"
   },
   {
    "duration": 247,
    "start_time": "2022-04-04T16:37:21.594Z"
   },
   {
    "duration": 224,
    "start_time": "2022-04-04T16:38:23.818Z"
   },
   {
    "duration": 143,
    "start_time": "2022-04-04T16:43:59.672Z"
   },
   {
    "duration": 168,
    "start_time": "2022-04-04T16:44:11.295Z"
   },
   {
    "duration": 160,
    "start_time": "2022-04-04T16:45:12.918Z"
   },
   {
    "duration": 215,
    "start_time": "2022-04-04T16:45:20.049Z"
   },
   {
    "duration": 251,
    "start_time": "2022-04-04T16:45:27.476Z"
   },
   {
    "duration": 346,
    "start_time": "2022-04-04T16:45:33.891Z"
   },
   {
    "duration": 254,
    "start_time": "2022-04-04T16:45:38.361Z"
   },
   {
    "duration": 175,
    "start_time": "2022-04-04T16:48:05.296Z"
   },
   {
    "duration": 316,
    "start_time": "2022-04-04T16:50:14.948Z"
   },
   {
    "duration": 139,
    "start_time": "2022-04-04T16:51:52.448Z"
   },
   {
    "duration": 132,
    "start_time": "2022-04-04T16:51:56.452Z"
   },
   {
    "duration": 112,
    "start_time": "2022-04-04T16:52:47.532Z"
   },
   {
    "duration": 234,
    "start_time": "2022-04-04T16:53:20.271Z"
   },
   {
    "duration": 152,
    "start_time": "2022-04-04T16:54:44.558Z"
   },
   {
    "duration": 144,
    "start_time": "2022-04-04T16:54:54.539Z"
   },
   {
    "duration": 302,
    "start_time": "2022-04-04T16:56:58.750Z"
   },
   {
    "duration": 310,
    "start_time": "2022-04-04T16:57:38.111Z"
   },
   {
    "duration": 421,
    "start_time": "2022-04-04T16:57:53.800Z"
   },
   {
    "duration": 288,
    "start_time": "2022-04-04T16:59:52.162Z"
   },
   {
    "duration": 263,
    "start_time": "2022-04-04T17:00:02.797Z"
   },
   {
    "duration": 174,
    "start_time": "2022-04-04T17:00:12.712Z"
   },
   {
    "duration": 255,
    "start_time": "2022-04-04T17:00:19.434Z"
   },
   {
    "duration": 239,
    "start_time": "2022-04-04T17:00:23.571Z"
   },
   {
    "duration": 397,
    "start_time": "2022-04-04T17:00:32.322Z"
   },
   {
    "duration": 313,
    "start_time": "2022-04-04T17:00:42.614Z"
   },
   {
    "duration": 160,
    "start_time": "2022-04-04T17:01:26.238Z"
   },
   {
    "duration": 412,
    "start_time": "2022-04-04T17:02:14.839Z"
   },
   {
    "duration": 321,
    "start_time": "2022-04-04T17:04:17.222Z"
   },
   {
    "duration": 300,
    "start_time": "2022-04-04T17:04:31.818Z"
   },
   {
    "duration": 286,
    "start_time": "2022-04-04T17:04:44.430Z"
   },
   {
    "duration": 49,
    "start_time": "2022-04-05T19:43:04.028Z"
   },
   {
    "duration": 9,
    "start_time": "2022-04-05T19:44:12.430Z"
   },
   {
    "duration": 1234,
    "start_time": "2022-04-05T19:44:18.171Z"
   },
   {
    "duration": 9,
    "start_time": "2022-04-05T19:44:19.407Z"
   },
   {
    "duration": 7,
    "start_time": "2022-04-05T19:44:19.417Z"
   },
   {
    "duration": 47,
    "start_time": "2022-04-05T19:44:19.437Z"
   },
   {
    "duration": 18,
    "start_time": "2022-04-05T19:44:19.486Z"
   },
   {
    "duration": 260,
    "start_time": "2022-04-05T19:44:19.505Z"
   },
   {
    "duration": 248,
    "start_time": "2022-04-05T19:44:19.766Z"
   },
   {
    "duration": 181,
    "start_time": "2022-04-05T19:44:20.016Z"
   },
   {
    "duration": 364,
    "start_time": "2022-04-05T19:44:20.198Z"
   },
   {
    "duration": 173,
    "start_time": "2022-04-05T19:44:20.565Z"
   },
   {
    "duration": 291,
    "start_time": "2022-04-05T19:44:20.739Z"
   },
   {
    "duration": 233,
    "start_time": "2022-04-05T19:44:21.037Z"
   },
   {
    "duration": 7,
    "start_time": "2022-04-05T19:46:19.416Z"
   },
   {
    "duration": 7,
    "start_time": "2022-04-05T19:47:01.125Z"
   },
   {
    "duration": 1524,
    "start_time": "2022-04-05T19:48:34.924Z"
   },
   {
    "duration": 127,
    "start_time": "2022-04-05T19:49:03.327Z"
   },
   {
    "duration": 138,
    "start_time": "2022-04-05T19:49:15.553Z"
   },
   {
    "duration": 235,
    "start_time": "2022-04-05T19:49:31.713Z"
   },
   {
    "duration": 138,
    "start_time": "2022-04-05T19:49:40.708Z"
   },
   {
    "duration": 5,
    "start_time": "2022-04-05T19:52:13.532Z"
   },
   {
    "duration": 13,
    "start_time": "2022-04-05T19:55:04.477Z"
   },
   {
    "duration": 34,
    "start_time": "2022-04-05T19:55:16.733Z"
   },
   {
    "duration": 46,
    "start_time": "2022-04-05T19:56:33.870Z"
   },
   {
    "duration": 15,
    "start_time": "2022-04-05T19:57:38.321Z"
   },
   {
    "duration": 11,
    "start_time": "2022-04-05T19:57:44.208Z"
   },
   {
    "duration": 3,
    "start_time": "2022-04-05T19:58:59.613Z"
   },
   {
    "duration": 9,
    "start_time": "2022-04-05T19:59:06.270Z"
   },
   {
    "duration": 27,
    "start_time": "2022-04-05T19:59:21.447Z"
   },
   {
    "duration": 15,
    "start_time": "2022-04-05T19:59:58.900Z"
   },
   {
    "duration": 1095,
    "start_time": "2022-04-06T17:00:57.750Z"
   },
   {
    "duration": 9,
    "start_time": "2022-04-06T17:00:58.847Z"
   },
   {
    "duration": 8,
    "start_time": "2022-04-06T17:00:58.858Z"
   },
   {
    "duration": 47,
    "start_time": "2022-04-06T17:00:58.868Z"
   },
   {
    "duration": 17,
    "start_time": "2022-04-06T17:00:58.917Z"
   },
   {
    "duration": 274,
    "start_time": "2022-04-06T17:00:58.936Z"
   },
   {
    "duration": 246,
    "start_time": "2022-04-06T17:00:59.212Z"
   },
   {
    "duration": 175,
    "start_time": "2022-04-06T17:00:59.460Z"
   },
   {
    "duration": 270,
    "start_time": "2022-04-06T17:00:59.636Z"
   },
   {
    "duration": 172,
    "start_time": "2022-04-06T17:00:59.909Z"
   },
   {
    "duration": 284,
    "start_time": "2022-04-06T17:01:00.083Z"
   },
   {
    "duration": 235,
    "start_time": "2022-04-06T17:01:00.369Z"
   },
   {
    "duration": 6,
    "start_time": "2022-04-06T17:01:00.605Z"
   },
   {
    "duration": 154,
    "start_time": "2022-04-06T17:01:00.613Z"
   },
   {
    "duration": 5,
    "start_time": "2022-04-06T17:01:00.770Z"
   },
   {
    "duration": 66,
    "start_time": "2022-04-06T17:01:00.777Z"
   },
   {
    "duration": 12,
    "start_time": "2022-04-06T17:01:00.845Z"
   },
   {
    "duration": 13,
    "start_time": "2022-04-06T17:01:00.859Z"
   },
   {
    "duration": 13,
    "start_time": "2022-04-06T17:01:00.874Z"
   },
   {
    "duration": 46,
    "start_time": "2022-04-06T17:01:00.889Z"
   },
   {
    "duration": 15,
    "start_time": "2022-04-06T17:01:00.936Z"
   },
   {
    "duration": 186,
    "start_time": "2022-04-06T18:42:43.854Z"
   },
   {
    "duration": 1355,
    "start_time": "2022-04-06T18:42:51.397Z"
   },
   {
    "duration": 91,
    "start_time": "2022-04-06T18:42:53.777Z"
   },
   {
    "duration": 117,
    "start_time": "2022-04-06T18:43:43.124Z"
   },
   {
    "duration": 10,
    "start_time": "2022-04-06T18:43:50.391Z"
   },
   {
    "duration": 1239,
    "start_time": "2022-04-08T11:03:46.489Z"
   },
   {
    "duration": 70,
    "start_time": "2022-04-08T11:03:47.730Z"
   },
   {
    "duration": 9,
    "start_time": "2022-04-08T11:03:47.802Z"
   },
   {
    "duration": 8,
    "start_time": "2022-04-08T11:03:47.813Z"
   },
   {
    "duration": 37,
    "start_time": "2022-04-08T11:03:47.822Z"
   },
   {
    "duration": 18,
    "start_time": "2022-04-08T11:03:47.860Z"
   },
   {
    "duration": 289,
    "start_time": "2022-04-08T11:03:47.880Z"
   },
   {
    "duration": 277,
    "start_time": "2022-04-08T11:03:48.171Z"
   },
   {
    "duration": 190,
    "start_time": "2022-04-08T11:03:48.449Z"
   },
   {
    "duration": 297,
    "start_time": "2022-04-08T11:03:48.642Z"
   },
   {
    "duration": 179,
    "start_time": "2022-04-08T11:03:48.941Z"
   },
   {
    "duration": 302,
    "start_time": "2022-04-08T11:03:49.122Z"
   },
   {
    "duration": 246,
    "start_time": "2022-04-08T11:03:49.426Z"
   },
   {
    "duration": 6,
    "start_time": "2022-04-08T11:03:49.673Z"
   },
   {
    "duration": 163,
    "start_time": "2022-04-08T11:03:49.681Z"
   },
   {
    "duration": 4,
    "start_time": "2022-04-08T11:03:49.846Z"
   },
   {
    "duration": 62,
    "start_time": "2022-04-08T11:03:49.851Z"
   },
   {
    "duration": 10,
    "start_time": "2022-04-08T11:03:49.915Z"
   },
   {
    "duration": 5,
    "start_time": "2022-04-08T11:03:49.926Z"
   },
   {
    "duration": 9,
    "start_time": "2022-04-08T11:03:49.933Z"
   },
   {
    "duration": 26,
    "start_time": "2022-04-08T11:03:49.944Z"
   },
   {
    "duration": 47,
    "start_time": "2022-04-08T11:03:49.971Z"
   },
   {
    "duration": 8,
    "start_time": "2022-04-08T11:04:09.424Z"
   },
   {
    "duration": 9,
    "start_time": "2022-04-08T11:04:10.643Z"
   },
   {
    "duration": 8,
    "start_time": "2022-04-08T11:04:20.774Z"
   },
   {
    "duration": 8,
    "start_time": "2022-04-08T11:04:26.704Z"
   },
   {
    "duration": 9,
    "start_time": "2022-04-08T11:04:31.359Z"
   },
   {
    "duration": 8,
    "start_time": "2022-04-08T11:04:37.276Z"
   },
   {
    "duration": 1126,
    "start_time": "2022-04-08T11:04:48.623Z"
   },
   {
    "duration": 70,
    "start_time": "2022-04-08T11:04:49.751Z"
   },
   {
    "duration": 13,
    "start_time": "2022-04-08T11:04:49.823Z"
   },
   {
    "duration": 25,
    "start_time": "2022-04-08T11:04:49.839Z"
   },
   {
    "duration": 64,
    "start_time": "2022-04-08T11:04:49.866Z"
   },
   {
    "duration": 27,
    "start_time": "2022-04-08T11:04:49.932Z"
   },
   {
    "duration": 290,
    "start_time": "2022-04-08T11:04:49.961Z"
   },
   {
    "duration": 302,
    "start_time": "2022-04-08T11:04:50.253Z"
   },
   {
    "duration": 200,
    "start_time": "2022-04-08T11:04:50.556Z"
   },
   {
    "duration": 283,
    "start_time": "2022-04-08T11:04:50.759Z"
   },
   {
    "duration": 189,
    "start_time": "2022-04-08T11:04:51.044Z"
   },
   {
    "duration": 308,
    "start_time": "2022-04-08T11:04:51.235Z"
   },
   {
    "duration": 279,
    "start_time": "2022-04-08T11:04:51.545Z"
   },
   {
    "duration": 7,
    "start_time": "2022-04-08T11:04:51.826Z"
   },
   {
    "duration": 189,
    "start_time": "2022-04-08T11:04:51.834Z"
   },
   {
    "duration": 4,
    "start_time": "2022-04-08T11:04:52.025Z"
   },
   {
    "duration": 52,
    "start_time": "2022-04-08T11:04:52.030Z"
   },
   {
    "duration": 32,
    "start_time": "2022-04-08T11:04:52.084Z"
   },
   {
    "duration": 3,
    "start_time": "2022-04-08T11:04:52.118Z"
   },
   {
    "duration": 11,
    "start_time": "2022-04-08T11:04:52.122Z"
   },
   {
    "duration": 28,
    "start_time": "2022-04-08T11:04:52.135Z"
   },
   {
    "duration": 56,
    "start_time": "2022-04-08T11:04:52.165Z"
   },
   {
    "duration": 9,
    "start_time": "2022-04-08T11:04:58.777Z"
   },
   {
    "duration": 9,
    "start_time": "2022-04-08T11:05:04.465Z"
   },
   {
    "duration": 9,
    "start_time": "2022-04-08T11:05:07.700Z"
   },
   {
    "duration": 9,
    "start_time": "2022-04-08T11:05:10.980Z"
   },
   {
    "duration": 9,
    "start_time": "2022-04-08T11:05:15.648Z"
   },
   {
    "duration": 1102,
    "start_time": "2022-04-08T11:05:19.474Z"
   },
   {
    "duration": 71,
    "start_time": "2022-04-08T11:05:20.578Z"
   },
   {
    "duration": 10,
    "start_time": "2022-04-08T11:05:20.651Z"
   },
   {
    "duration": 23,
    "start_time": "2022-04-08T11:05:20.663Z"
   },
   {
    "duration": 48,
    "start_time": "2022-04-08T11:05:20.688Z"
   },
   {
    "duration": 29,
    "start_time": "2022-04-08T11:05:20.738Z"
   },
   {
    "duration": 288,
    "start_time": "2022-04-08T11:05:20.769Z"
   },
   {
    "duration": 282,
    "start_time": "2022-04-08T11:05:21.059Z"
   },
   {
    "duration": 204,
    "start_time": "2022-04-08T11:05:21.344Z"
   },
   {
    "duration": 273,
    "start_time": "2022-04-08T11:05:21.552Z"
   },
   {
    "duration": 185,
    "start_time": "2022-04-08T11:05:21.827Z"
   },
   {
    "duration": 315,
    "start_time": "2022-04-08T11:05:22.013Z"
   },
   {
    "duration": 252,
    "start_time": "2022-04-08T11:05:22.329Z"
   },
   {
    "duration": 7,
    "start_time": "2022-04-08T11:05:22.582Z"
   },
   {
    "duration": 171,
    "start_time": "2022-04-08T11:05:22.590Z"
   },
   {
    "duration": 4,
    "start_time": "2022-04-08T11:05:22.763Z"
   },
   {
    "duration": 66,
    "start_time": "2022-04-08T11:05:22.769Z"
   },
   {
    "duration": 11,
    "start_time": "2022-04-08T11:05:22.837Z"
   },
   {
    "duration": 5,
    "start_time": "2022-04-08T11:05:22.849Z"
   },
   {
    "duration": 22,
    "start_time": "2022-04-08T11:05:22.855Z"
   },
   {
    "duration": 44,
    "start_time": "2022-04-08T11:05:22.879Z"
   },
   {
    "duration": 15,
    "start_time": "2022-04-08T11:05:22.924Z"
   },
   {
    "duration": 8,
    "start_time": "2022-04-08T11:05:29.520Z"
   },
   {
    "duration": 9,
    "start_time": "2022-04-08T11:05:30.561Z"
   },
   {
    "duration": 9,
    "start_time": "2022-04-08T11:05:31.578Z"
   },
   {
    "duration": 8,
    "start_time": "2022-04-08T11:05:32.046Z"
   },
   {
    "duration": 9,
    "start_time": "2022-04-08T11:05:32.218Z"
   },
   {
    "duration": 8,
    "start_time": "2022-04-08T11:05:32.380Z"
   },
   {
    "duration": 8,
    "start_time": "2022-04-08T11:05:32.543Z"
   },
   {
    "duration": 408,
    "start_time": "2022-04-08T11:08:01.573Z"
   },
   {
    "duration": 242,
    "start_time": "2022-04-08T11:08:17.146Z"
   },
   {
    "duration": 252,
    "start_time": "2022-04-08T11:08:56.310Z"
   },
   {
    "duration": 244,
    "start_time": "2022-04-08T11:09:09.470Z"
   },
   {
    "duration": 191,
    "start_time": "2022-04-08T11:10:18.023Z"
   },
   {
    "duration": 191,
    "start_time": "2022-04-08T11:10:27.718Z"
   },
   {
    "duration": 188,
    "start_time": "2022-04-08T11:10:39.294Z"
   },
   {
    "duration": 193,
    "start_time": "2022-04-08T11:10:58.719Z"
   },
   {
    "duration": 291,
    "start_time": "2022-04-08T11:11:16.202Z"
   },
   {
    "duration": 279,
    "start_time": "2022-04-08T11:11:44.836Z"
   },
   {
    "duration": 179,
    "start_time": "2022-04-08T11:11:47.179Z"
   },
   {
    "duration": 301,
    "start_time": "2022-04-08T11:11:48.787Z"
   },
   {
    "duration": 170,
    "start_time": "2022-04-08T11:12:47.066Z"
   },
   {
    "duration": 301,
    "start_time": "2022-04-08T11:13:15.927Z"
   },
   {
    "duration": 45,
    "start_time": "2022-04-08T11:13:51.730Z"
   },
   {
    "duration": 12,
    "start_time": "2022-04-08T11:13:53.269Z"
   },
   {
    "duration": 3,
    "start_time": "2022-04-08T11:13:54.899Z"
   },
   {
    "duration": 9,
    "start_time": "2022-04-08T11:13:55.423Z"
   },
   {
    "duration": 28,
    "start_time": "2022-04-08T11:13:55.750Z"
   },
   {
    "duration": 15,
    "start_time": "2022-04-08T11:13:56.825Z"
   },
   {
    "duration": 49,
    "start_time": "2022-04-08T11:22:06.230Z"
   },
   {
    "duration": 46,
    "start_time": "2022-04-08T11:24:32.864Z"
   },
   {
    "duration": 10,
    "start_time": "2022-04-08T11:25:45.119Z"
   },
   {
    "duration": 27,
    "start_time": "2022-04-08T11:26:38.973Z"
   },
   {
    "duration": 16,
    "start_time": "2022-04-08T11:27:14.339Z"
   },
   {
    "duration": 117,
    "start_time": "2022-04-08T11:27:16.271Z"
   },
   {
    "duration": 15,
    "start_time": "2022-04-08T11:27:16.539Z"
   },
   {
    "duration": 1049,
    "start_time": "2022-04-08T11:27:23.424Z"
   },
   {
    "duration": 79,
    "start_time": "2022-04-08T11:27:24.475Z"
   },
   {
    "duration": 9,
    "start_time": "2022-04-08T11:27:24.556Z"
   },
   {
    "duration": 9,
    "start_time": "2022-04-08T11:27:24.567Z"
   },
   {
    "duration": 58,
    "start_time": "2022-04-08T11:27:24.577Z"
   },
   {
    "duration": 18,
    "start_time": "2022-04-08T11:27:24.637Z"
   },
   {
    "duration": 279,
    "start_time": "2022-04-08T11:27:24.656Z"
   },
   {
    "duration": 300,
    "start_time": "2022-04-08T11:27:24.937Z"
   },
   {
    "duration": 293,
    "start_time": "2022-04-08T11:27:25.239Z"
   },
   {
    "duration": 219,
    "start_time": "2022-04-08T11:27:25.536Z"
   },
   {
    "duration": 290,
    "start_time": "2022-04-08T11:27:25.757Z"
   },
   {
    "duration": 206,
    "start_time": "2022-04-08T11:27:26.049Z"
   },
   {
    "duration": 308,
    "start_time": "2022-04-08T11:27:26.258Z"
   },
   {
    "duration": 267,
    "start_time": "2022-04-08T11:27:26.569Z"
   },
   {
    "duration": 6,
    "start_time": "2022-04-08T11:27:26.838Z"
   },
   {
    "duration": 179,
    "start_time": "2022-04-08T11:27:26.846Z"
   },
   {
    "duration": 4,
    "start_time": "2022-04-08T11:27:27.027Z"
   },
   {
    "duration": 143,
    "start_time": "2022-04-08T11:27:27.032Z"
   },
   {
    "duration": 11,
    "start_time": "2022-04-08T11:27:27.176Z"
   },
   {
    "duration": 4,
    "start_time": "2022-04-08T11:27:27.209Z"
   },
   {
    "duration": 10,
    "start_time": "2022-04-08T11:27:27.214Z"
   },
   {
    "duration": 28,
    "start_time": "2022-04-08T11:27:27.226Z"
   },
   {
    "duration": 94,
    "start_time": "2022-04-08T11:27:27.256Z"
   },
   {
    "duration": 0,
    "start_time": "2022-04-08T11:27:27.352Z"
   },
   {
    "duration": 14,
    "start_time": "2022-04-08T11:27:36.418Z"
   },
   {
    "duration": 1111,
    "start_time": "2022-04-09T06:54:46.468Z"
   },
   {
    "duration": 75,
    "start_time": "2022-04-09T06:54:47.581Z"
   },
   {
    "duration": 9,
    "start_time": "2022-04-09T06:54:47.657Z"
   },
   {
    "duration": 8,
    "start_time": "2022-04-09T06:54:47.667Z"
   },
   {
    "duration": 56,
    "start_time": "2022-04-09T06:54:47.677Z"
   },
   {
    "duration": 23,
    "start_time": "2022-04-09T06:54:47.734Z"
   },
   {
    "duration": 232,
    "start_time": "2022-04-09T06:54:47.759Z"
   },
   {
    "duration": 284,
    "start_time": "2022-04-09T06:54:47.993Z"
   },
   {
    "duration": 249,
    "start_time": "2022-04-09T06:54:48.279Z"
   },
   {
    "duration": 176,
    "start_time": "2022-04-09T06:54:48.529Z"
   },
   {
    "duration": 270,
    "start_time": "2022-04-09T06:54:48.706Z"
   },
   {
    "duration": 162,
    "start_time": "2022-04-09T06:54:48.977Z"
   },
   {
    "duration": 280,
    "start_time": "2022-04-09T06:54:49.141Z"
   },
   {
    "duration": 229,
    "start_time": "2022-04-09T06:54:49.425Z"
   },
   {
    "duration": 7,
    "start_time": "2022-04-09T06:54:49.656Z"
   },
   {
    "duration": 156,
    "start_time": "2022-04-09T06:54:49.665Z"
   },
   {
    "duration": 5,
    "start_time": "2022-04-09T06:54:49.823Z"
   },
   {
    "duration": 149,
    "start_time": "2022-04-09T06:54:49.830Z"
   },
   {
    "duration": 24,
    "start_time": "2022-04-09T06:54:49.981Z"
   },
   {
    "duration": 3,
    "start_time": "2022-04-09T06:54:50.007Z"
   },
   {
    "duration": 9,
    "start_time": "2022-04-09T06:54:50.012Z"
   },
   {
    "duration": 27,
    "start_time": "2022-04-09T06:54:50.023Z"
   },
   {
    "duration": 49,
    "start_time": "2022-04-09T06:54:50.052Z"
   },
   {
    "duration": 194,
    "start_time": "2022-04-09T07:01:08.871Z"
   },
   {
    "duration": 262,
    "start_time": "2022-04-09T07:01:09.707Z"
   },
   {
    "duration": 73,
    "start_time": "2022-04-10T14:07:49.442Z"
   },
   {
    "duration": 1819,
    "start_time": "2022-04-10T14:07:54.686Z"
   },
   {
    "duration": 107,
    "start_time": "2022-04-10T14:07:56.508Z"
   },
   {
    "duration": 21,
    "start_time": "2022-04-10T14:07:56.617Z"
   },
   {
    "duration": 43,
    "start_time": "2022-04-10T14:07:56.642Z"
   },
   {
    "duration": 60,
    "start_time": "2022-04-10T14:07:56.688Z"
   },
   {
    "duration": 35,
    "start_time": "2022-04-10T14:07:56.750Z"
   },
   {
    "duration": 25,
    "start_time": "2022-04-10T14:07:56.787Z"
   },
   {
    "duration": 176,
    "start_time": "2022-04-10T14:07:56.815Z"
   },
   {
    "duration": 0,
    "start_time": "2022-04-10T14:07:56.995Z"
   },
   {
    "duration": 0,
    "start_time": "2022-04-10T14:07:56.997Z"
   },
   {
    "duration": 0,
    "start_time": "2022-04-10T14:07:56.999Z"
   },
   {
    "duration": 0,
    "start_time": "2022-04-10T14:07:57.002Z"
   },
   {
    "duration": 0,
    "start_time": "2022-04-10T14:07:57.004Z"
   },
   {
    "duration": 0,
    "start_time": "2022-04-10T14:07:57.006Z"
   },
   {
    "duration": 0,
    "start_time": "2022-04-10T14:07:57.008Z"
   },
   {
    "duration": 0,
    "start_time": "2022-04-10T14:07:57.011Z"
   },
   {
    "duration": 0,
    "start_time": "2022-04-10T14:07:57.012Z"
   },
   {
    "duration": 0,
    "start_time": "2022-04-10T14:07:57.014Z"
   },
   {
    "duration": 0,
    "start_time": "2022-04-10T14:07:57.016Z"
   },
   {
    "duration": 0,
    "start_time": "2022-04-10T14:07:57.018Z"
   },
   {
    "duration": 0,
    "start_time": "2022-04-10T14:07:57.020Z"
   },
   {
    "duration": 0,
    "start_time": "2022-04-10T14:07:57.022Z"
   },
   {
    "duration": 0,
    "start_time": "2022-04-10T14:07:57.024Z"
   },
   {
    "duration": 0,
    "start_time": "2022-04-10T14:07:57.026Z"
   },
   {
    "duration": 0,
    "start_time": "2022-04-10T14:07:57.027Z"
   },
   {
    "duration": 4,
    "start_time": "2022-04-10T14:09:01.753Z"
   },
   {
    "duration": 20,
    "start_time": "2022-04-10T14:09:01.935Z"
   },
   {
    "duration": 13,
    "start_time": "2022-04-10T14:09:02.312Z"
   },
   {
    "duration": 14,
    "start_time": "2022-04-10T14:09:02.561Z"
   },
   {
    "duration": 50,
    "start_time": "2022-04-10T14:09:03.782Z"
   },
   {
    "duration": 25,
    "start_time": "2022-04-10T14:09:03.918Z"
   },
   {
    "duration": 24,
    "start_time": "2022-04-10T14:09:06.659Z"
   },
   {
    "duration": 30,
    "start_time": "2022-04-10T14:09:07.280Z"
   },
   {
    "duration": 11,
    "start_time": "2022-04-10T14:10:31.275Z"
   },
   {
    "duration": 21,
    "start_time": "2022-04-10T14:10:43.292Z"
   },
   {
    "duration": 17,
    "start_time": "2022-04-10T14:11:06.029Z"
   },
   {
    "duration": 439,
    "start_time": "2022-04-10T14:11:07.312Z"
   },
   {
    "duration": 739,
    "start_time": "2022-04-10T14:11:08.889Z"
   },
   {
    "duration": 777,
    "start_time": "2022-04-10T14:11:09.631Z"
   },
   {
    "duration": 471,
    "start_time": "2022-04-10T14:11:10.412Z"
   },
   {
    "duration": 327,
    "start_time": "2022-04-10T14:11:52.282Z"
   },
   {
    "duration": 583,
    "start_time": "2022-04-10T14:11:53.939Z"
   },
   {
    "duration": 305,
    "start_time": "2022-04-10T14:12:04.634Z"
   },
   {
    "duration": 425,
    "start_time": "2022-04-10T14:12:09.295Z"
   },
   {
    "duration": 593,
    "start_time": "2022-04-10T14:12:28.723Z"
   },
   {
    "duration": 9,
    "start_time": "2022-04-10T14:12:40.262Z"
   },
   {
    "duration": 238,
    "start_time": "2022-04-10T14:12:47.556Z"
   },
   {
    "duration": 7,
    "start_time": "2022-04-10T14:12:55.145Z"
   },
   {
    "duration": 69,
    "start_time": "2022-04-10T14:12:58.792Z"
   },
   {
    "duration": 16,
    "start_time": "2022-04-10T14:13:06.828Z"
   },
   {
    "duration": 3,
    "start_time": "2022-04-10T14:13:07.608Z"
   },
   {
    "duration": 12,
    "start_time": "2022-04-10T14:13:07.738Z"
   },
   {
    "duration": 36,
    "start_time": "2022-04-10T14:13:08.942Z"
   },
   {
    "duration": 19,
    "start_time": "2022-04-10T14:13:10.374Z"
   },
   {
    "duration": 1007,
    "start_time": "2022-04-11T06:39:49.708Z"
   },
   {
    "duration": 71,
    "start_time": "2022-04-11T06:39:50.717Z"
   },
   {
    "duration": 9,
    "start_time": "2022-04-11T06:39:50.790Z"
   },
   {
    "duration": 8,
    "start_time": "2022-04-11T06:39:50.801Z"
   },
   {
    "duration": 37,
    "start_time": "2022-04-11T06:39:50.811Z"
   },
   {
    "duration": 16,
    "start_time": "2022-04-11T06:39:50.850Z"
   },
   {
    "duration": 25,
    "start_time": "2022-04-11T06:39:50.868Z"
   },
   {
    "duration": 20,
    "start_time": "2022-04-11T06:39:50.895Z"
   },
   {
    "duration": 6,
    "start_time": "2022-04-11T06:39:50.917Z"
   },
   {
    "duration": 14,
    "start_time": "2022-04-11T06:39:50.927Z"
   },
   {
    "duration": 289,
    "start_time": "2022-04-11T06:39:50.943Z"
   },
   {
    "duration": 272,
    "start_time": "2022-04-11T06:39:51.234Z"
   },
   {
    "duration": 255,
    "start_time": "2022-04-11T06:39:51.509Z"
   },
   {
    "duration": 179,
    "start_time": "2022-04-11T06:39:51.766Z"
   },
   {
    "duration": 330,
    "start_time": "2022-04-11T06:39:51.948Z"
   },
   {
    "duration": 176,
    "start_time": "2022-04-11T06:39:52.280Z"
   },
   {
    "duration": 336,
    "start_time": "2022-04-11T06:39:52.458Z"
   },
   {
    "duration": 229,
    "start_time": "2022-04-11T06:39:52.796Z"
   },
   {
    "duration": 7,
    "start_time": "2022-04-11T06:39:53.026Z"
   },
   {
    "duration": 221,
    "start_time": "2022-04-11T06:39:53.034Z"
   },
   {
    "duration": 5,
    "start_time": "2022-04-11T06:39:53.256Z"
   },
   {
    "duration": 59,
    "start_time": "2022-04-11T06:39:53.262Z"
   },
   {
    "duration": 13,
    "start_time": "2022-04-11T06:39:53.323Z"
   },
   {
    "duration": 5,
    "start_time": "2022-04-11T06:39:53.338Z"
   },
   {
    "duration": 34,
    "start_time": "2022-04-11T06:39:53.345Z"
   },
   {
    "duration": 25,
    "start_time": "2022-04-11T06:39:53.381Z"
   },
   {
    "duration": 13,
    "start_time": "2022-04-11T06:39:53.408Z"
   },
   {
    "duration": 9,
    "start_time": "2022-04-11T06:41:51.552Z"
   },
   {
    "duration": 8,
    "start_time": "2022-04-11T06:42:42.024Z"
   },
   {
    "duration": 116,
    "start_time": "2022-04-11T06:48:06.127Z"
   },
   {
    "duration": 49,
    "start_time": "2022-04-11T09:19:14.657Z"
   },
   {
    "duration": 1344,
    "start_time": "2022-04-11T09:19:21.995Z"
   },
   {
    "duration": 107,
    "start_time": "2022-04-11T09:19:23.342Z"
   },
   {
    "duration": 11,
    "start_time": "2022-04-11T09:19:23.451Z"
   },
   {
    "duration": 9,
    "start_time": "2022-04-11T09:19:23.465Z"
   },
   {
    "duration": 63,
    "start_time": "2022-04-11T09:19:23.476Z"
   },
   {
    "duration": 36,
    "start_time": "2022-04-11T09:19:23.540Z"
   },
   {
    "duration": 20,
    "start_time": "2022-04-11T09:19:23.578Z"
   },
   {
    "duration": 43,
    "start_time": "2022-04-11T09:19:23.602Z"
   },
   {
    "duration": 11,
    "start_time": "2022-04-11T09:19:23.647Z"
   },
   {
    "duration": 26,
    "start_time": "2022-04-11T09:19:23.663Z"
   },
   {
    "duration": 326,
    "start_time": "2022-04-11T09:19:23.691Z"
   },
   {
    "duration": 344,
    "start_time": "2022-04-11T09:19:24.023Z"
   },
   {
    "duration": 352,
    "start_time": "2022-04-11T09:19:24.369Z"
   },
   {
    "duration": 232,
    "start_time": "2022-04-11T09:19:24.723Z"
   },
   {
    "duration": 389,
    "start_time": "2022-04-11T09:19:24.957Z"
   },
   {
    "duration": 218,
    "start_time": "2022-04-11T09:19:25.349Z"
   },
   {
    "duration": 396,
    "start_time": "2022-04-11T09:19:25.569Z"
   },
   {
    "duration": 286,
    "start_time": "2022-04-11T09:19:25.967Z"
   },
   {
    "duration": 7,
    "start_time": "2022-04-11T09:19:26.256Z"
   },
   {
    "duration": 265,
    "start_time": "2022-04-11T09:19:26.265Z"
   },
   {
    "duration": 4,
    "start_time": "2022-04-11T09:19:26.532Z"
   },
   {
    "duration": 46,
    "start_time": "2022-04-11T09:19:26.538Z"
   },
   {
    "duration": 40,
    "start_time": "2022-04-11T09:19:26.586Z"
   },
   {
    "duration": 2,
    "start_time": "2022-04-11T09:19:26.629Z"
   },
   {
    "duration": 9,
    "start_time": "2022-04-11T09:19:26.633Z"
   },
   {
    "duration": 30,
    "start_time": "2022-04-11T09:19:26.644Z"
   },
   {
    "duration": 40,
    "start_time": "2022-04-11T09:19:26.676Z"
   },
   {
    "duration": 509,
    "start_time": "2022-04-11T09:20:17.447Z"
   },
   {
    "duration": 12,
    "start_time": "2022-04-11T09:20:25.724Z"
   },
   {
    "duration": 12,
    "start_time": "2022-04-11T09:20:59.859Z"
   },
   {
    "duration": 9,
    "start_time": "2022-04-11T09:22:00.211Z"
   },
   {
    "duration": 7,
    "start_time": "2022-04-11T09:22:22.616Z"
   },
   {
    "duration": 11,
    "start_time": "2022-04-11T09:22:32.798Z"
   },
   {
    "duration": 1074,
    "start_time": "2022-04-11T09:22:50.413Z"
   },
   {
    "duration": 76,
    "start_time": "2022-04-11T09:22:51.489Z"
   },
   {
    "duration": 9,
    "start_time": "2022-04-11T09:22:51.567Z"
   },
   {
    "duration": 32,
    "start_time": "2022-04-11T09:22:51.579Z"
   },
   {
    "duration": 39,
    "start_time": "2022-04-11T09:22:51.613Z"
   },
   {
    "duration": 18,
    "start_time": "2022-04-11T09:22:51.654Z"
   },
   {
    "duration": 48,
    "start_time": "2022-04-11T09:22:51.674Z"
   },
   {
    "duration": 13,
    "start_time": "2022-04-11T09:22:51.723Z"
   },
   {
    "duration": 6,
    "start_time": "2022-04-11T09:22:51.738Z"
   },
   {
    "duration": 13,
    "start_time": "2022-04-11T09:22:51.748Z"
   },
   {
    "duration": 154,
    "start_time": "2022-04-11T09:22:51.763Z"
   },
   {
    "duration": 0,
    "start_time": "2022-04-11T09:22:51.919Z"
   },
   {
    "duration": 0,
    "start_time": "2022-04-11T09:22:51.921Z"
   },
   {
    "duration": 0,
    "start_time": "2022-04-11T09:22:51.922Z"
   },
   {
    "duration": 0,
    "start_time": "2022-04-11T09:22:51.923Z"
   },
   {
    "duration": 0,
    "start_time": "2022-04-11T09:22:51.925Z"
   },
   {
    "duration": 0,
    "start_time": "2022-04-11T09:22:51.926Z"
   },
   {
    "duration": 0,
    "start_time": "2022-04-11T09:22:51.928Z"
   },
   {
    "duration": 0,
    "start_time": "2022-04-11T09:22:51.929Z"
   },
   {
    "duration": 0,
    "start_time": "2022-04-11T09:22:51.930Z"
   },
   {
    "duration": 0,
    "start_time": "2022-04-11T09:22:51.931Z"
   },
   {
    "duration": 0,
    "start_time": "2022-04-11T09:22:51.933Z"
   },
   {
    "duration": 0,
    "start_time": "2022-04-11T09:22:51.936Z"
   },
   {
    "duration": 0,
    "start_time": "2022-04-11T09:22:51.938Z"
   },
   {
    "duration": 0,
    "start_time": "2022-04-11T09:22:51.939Z"
   },
   {
    "duration": 0,
    "start_time": "2022-04-11T09:22:51.941Z"
   },
   {
    "duration": 0,
    "start_time": "2022-04-11T09:22:51.942Z"
   },
   {
    "duration": 0,
    "start_time": "2022-04-11T09:22:51.944Z"
   },
   {
    "duration": 1,
    "start_time": "2022-04-11T09:22:51.945Z"
   },
   {
    "duration": 12,
    "start_time": "2022-04-11T09:24:12.504Z"
   },
   {
    "duration": 6,
    "start_time": "2022-04-11T09:24:13.327Z"
   },
   {
    "duration": 12,
    "start_time": "2022-04-11T09:24:13.679Z"
   },
   {
    "duration": 1126,
    "start_time": "2022-04-11T09:24:19.384Z"
   },
   {
    "duration": 75,
    "start_time": "2022-04-11T09:24:20.512Z"
   },
   {
    "duration": 22,
    "start_time": "2022-04-11T09:24:20.589Z"
   },
   {
    "duration": 16,
    "start_time": "2022-04-11T09:24:20.615Z"
   },
   {
    "duration": 43,
    "start_time": "2022-04-11T09:24:20.633Z"
   },
   {
    "duration": 31,
    "start_time": "2022-04-11T09:24:20.678Z"
   },
   {
    "duration": 15,
    "start_time": "2022-04-11T09:24:20.711Z"
   },
   {
    "duration": 11,
    "start_time": "2022-04-11T09:24:20.728Z"
   },
   {
    "duration": 8,
    "start_time": "2022-04-11T09:24:20.741Z"
   },
   {
    "duration": 15,
    "start_time": "2022-04-11T09:24:20.752Z"
   },
   {
    "duration": 301,
    "start_time": "2022-04-11T09:24:20.808Z"
   },
   {
    "duration": 327,
    "start_time": "2022-04-11T09:24:21.111Z"
   },
   {
    "duration": 314,
    "start_time": "2022-04-11T09:24:21.440Z"
   },
   {
    "duration": 266,
    "start_time": "2022-04-11T09:24:21.756Z"
   },
   {
    "duration": 314,
    "start_time": "2022-04-11T09:24:22.024Z"
   },
   {
    "duration": 248,
    "start_time": "2022-04-11T09:24:22.340Z"
   },
   {
    "duration": 403,
    "start_time": "2022-04-11T09:24:22.590Z"
   },
   {
    "duration": 330,
    "start_time": "2022-04-11T09:24:22.996Z"
   },
   {
    "duration": 8,
    "start_time": "2022-04-11T09:24:23.328Z"
   },
   {
    "duration": 189,
    "start_time": "2022-04-11T09:24:23.338Z"
   },
   {
    "duration": 5,
    "start_time": "2022-04-11T09:24:23.529Z"
   },
   {
    "duration": 148,
    "start_time": "2022-04-11T09:24:23.535Z"
   },
   {
    "duration": 31,
    "start_time": "2022-04-11T09:24:23.684Z"
   },
   {
    "duration": 6,
    "start_time": "2022-04-11T09:24:23.717Z"
   },
   {
    "duration": 10,
    "start_time": "2022-04-11T09:24:23.725Z"
   },
   {
    "duration": 29,
    "start_time": "2022-04-11T09:24:23.736Z"
   },
   {
    "duration": 14,
    "start_time": "2022-04-11T09:24:23.809Z"
   },
   {
    "duration": 14,
    "start_time": "2022-04-11T09:24:34.058Z"
   },
   {
    "duration": 8,
    "start_time": "2022-04-11T09:24:34.942Z"
   },
   {
    "duration": 14,
    "start_time": "2022-04-11T09:24:35.466Z"
   },
   {
    "duration": 11,
    "start_time": "2022-04-11T09:24:45.414Z"
   },
   {
    "duration": 11,
    "start_time": "2022-04-11T09:24:46.280Z"
   },
   {
    "duration": 7,
    "start_time": "2022-04-11T09:24:46.839Z"
   },
   {
    "duration": 12,
    "start_time": "2022-04-11T09:24:48.167Z"
   },
   {
    "duration": 1081,
    "start_time": "2022-04-11T09:24:54.369Z"
   },
   {
    "duration": 71,
    "start_time": "2022-04-11T09:24:55.452Z"
   },
   {
    "duration": 11,
    "start_time": "2022-04-11T09:24:55.525Z"
   },
   {
    "duration": 10,
    "start_time": "2022-04-11T09:24:55.539Z"
   },
   {
    "duration": 42,
    "start_time": "2022-04-11T09:24:55.551Z"
   },
   {
    "duration": 18,
    "start_time": "2022-04-11T09:24:55.609Z"
   },
   {
    "duration": 18,
    "start_time": "2022-04-11T09:24:55.629Z"
   },
   {
    "duration": 16,
    "start_time": "2022-04-11T09:24:55.649Z"
   },
   {
    "duration": 7,
    "start_time": "2022-04-11T09:24:55.667Z"
   },
   {
    "duration": 32,
    "start_time": "2022-04-11T09:24:55.676Z"
   },
   {
    "duration": 271,
    "start_time": "2022-04-11T09:24:55.710Z"
   },
   {
    "duration": 375,
    "start_time": "2022-04-11T09:24:55.983Z"
   },
   {
    "duration": 332,
    "start_time": "2022-04-11T09:24:56.360Z"
   },
   {
    "duration": 222,
    "start_time": "2022-04-11T09:24:56.694Z"
   },
   {
    "duration": 281,
    "start_time": "2022-04-11T09:24:56.918Z"
   },
   {
    "duration": 193,
    "start_time": "2022-04-11T09:24:57.200Z"
   },
   {
    "duration": 326,
    "start_time": "2022-04-11T09:24:57.395Z"
   },
   {
    "duration": 302,
    "start_time": "2022-04-11T09:24:57.723Z"
   },
   {
    "duration": 7,
    "start_time": "2022-04-11T09:24:58.027Z"
   },
   {
    "duration": 182,
    "start_time": "2022-04-11T09:24:58.036Z"
   },
   {
    "duration": 4,
    "start_time": "2022-04-11T09:24:58.220Z"
   },
   {
    "duration": 138,
    "start_time": "2022-04-11T09:24:58.226Z"
   },
   {
    "duration": 11,
    "start_time": "2022-04-11T09:24:58.366Z"
   },
   {
    "duration": 9,
    "start_time": "2022-04-11T09:24:58.379Z"
   },
   {
    "duration": 10,
    "start_time": "2022-04-11T09:24:58.409Z"
   },
   {
    "duration": 28,
    "start_time": "2022-04-11T09:24:58.421Z"
   },
   {
    "duration": 14,
    "start_time": "2022-04-11T09:24:58.451Z"
   },
   {
    "duration": 1041,
    "start_time": "2022-04-12T06:43:54.818Z"
   },
   {
    "duration": 75,
    "start_time": "2022-04-12T06:43:55.860Z"
   },
   {
    "duration": 8,
    "start_time": "2022-04-12T06:43:55.937Z"
   },
   {
    "duration": 7,
    "start_time": "2022-04-12T06:43:55.947Z"
   },
   {
    "duration": 56,
    "start_time": "2022-04-12T06:43:55.955Z"
   },
   {
    "duration": 21,
    "start_time": "2022-04-12T06:43:56.013Z"
   },
   {
    "duration": 11,
    "start_time": "2022-04-12T06:43:56.035Z"
   },
   {
    "duration": 9,
    "start_time": "2022-04-12T06:43:56.047Z"
   },
   {
    "duration": 5,
    "start_time": "2022-04-12T06:43:56.058Z"
   },
   {
    "duration": 9,
    "start_time": "2022-04-12T06:43:56.065Z"
   },
   {
    "duration": 245,
    "start_time": "2022-04-12T06:43:56.076Z"
   },
   {
    "duration": 255,
    "start_time": "2022-04-12T06:43:56.322Z"
   },
   {
    "duration": 238,
    "start_time": "2022-04-12T06:43:56.578Z"
   },
   {
    "duration": 173,
    "start_time": "2022-04-12T06:43:56.818Z"
   },
   {
    "duration": 281,
    "start_time": "2022-04-12T06:43:56.993Z"
   },
   {
    "duration": 159,
    "start_time": "2022-04-12T06:43:57.276Z"
   },
   {
    "duration": 248,
    "start_time": "2022-04-12T06:43:57.437Z"
   },
   {
    "duration": 251,
    "start_time": "2022-04-12T06:43:57.686Z"
   },
   {
    "duration": 6,
    "start_time": "2022-04-12T06:43:57.939Z"
   },
   {
    "duration": 141,
    "start_time": "2022-04-12T06:43:57.946Z"
   },
   {
    "duration": 4,
    "start_time": "2022-04-12T06:43:58.088Z"
   },
   {
    "duration": 112,
    "start_time": "2022-04-12T06:43:58.100Z"
   },
   {
    "duration": 9,
    "start_time": "2022-04-12T06:43:58.214Z"
   },
   {
    "duration": 7,
    "start_time": "2022-04-12T06:43:58.225Z"
   },
   {
    "duration": 8,
    "start_time": "2022-04-12T06:43:58.233Z"
   },
   {
    "duration": 25,
    "start_time": "2022-04-12T06:43:58.242Z"
   },
   {
    "duration": 37,
    "start_time": "2022-04-12T06:43:58.269Z"
   },
   {
    "duration": 209,
    "start_time": "2022-04-12T06:48:46.305Z"
   }
  ],
  "kernelspec": {
   "display_name": "Python 3 (ipykernel)",
   "language": "python",
   "name": "python3"
  },
  "language_info": {
   "codemirror_mode": {
    "name": "ipython",
    "version": 3
   },
   "file_extension": ".py",
   "mimetype": "text/x-python",
   "name": "python",
   "nbconvert_exporter": "python",
   "pygments_lexer": "ipython3",
   "version": "3.9.5"
  },
  "toc": {
   "base_numbering": 1,
   "nav_menu": {},
   "number_sections": true,
   "sideBar": true,
   "skip_h1_title": true,
   "title_cell": "Table of Contents",
   "title_sidebar": "Contents",
   "toc_cell": false,
   "toc_position": {
    "height": "calc(100% - 180px)",
    "left": "10px",
    "top": "150px",
    "width": "225.91px"
   },
   "toc_section_display": true,
   "toc_window_display": true
  }
 },
 "nbformat": 4,
 "nbformat_minor": 2
}
