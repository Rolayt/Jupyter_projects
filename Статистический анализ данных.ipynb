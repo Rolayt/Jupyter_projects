{
 "cells": [
  {
   "cell_type": "markdown",
   "metadata": {},
   "source": [
    "# ОПИСАНИЕ ПРОЕКТА\n",
    "Компания «Мегалайн» — федеральный оператор сотовой связи. Клиентам предлагают два тарифных плана: «Смарт» и «Ультра». Чтобы скорректировать рекламный бюджет, коммерческий департамент хочет понять, какой тариф приносит больше денег.\n",
    "# ЗАДАЧА: \n",
    "Cделать предварительный анализ тарифов на небольшой выборке клиентов. В распоряжении данные 500 пользователей «Мегалайна»: кто они, откуда, каким тарифом пользуются, сколько звонков и сообщений каждый отправил за 2018 год. Нужно проанализировать поведение клиентов и сделать вывод — какой тариф лучше."
   ]
  },
  {
   "cell_type": "markdown",
   "metadata": {},
   "source": [
    "## Изучим общую информацию\n",
    "\n"
   ]
  },
  {
   "cell_type": "code",
   "execution_count": 1,
   "metadata": {},
   "outputs": [],
   "source": [
    "import pandas as pd\n",
    "import numpy as np\n",
    "from scipy import stats as st\n",
    "import matplotlib.pyplot as plt # импортирую библиотеку matplotlib.pyplot\n",
    "import seaborn as sns"
   ]
  },
  {
   "cell_type": "code",
   "execution_count": 2,
   "metadata": {
    "scrolled": true
   },
   "outputs": [
    {
     "name": "stdout",
     "output_type": "stream",
     "text": [
      "<class 'pandas.core.frame.DataFrame'>\n",
      "RangeIndex: 202607 entries, 0 to 202606\n",
      "Data columns (total 4 columns):\n",
      " #   Column     Non-Null Count   Dtype  \n",
      "---  ------     --------------   -----  \n",
      " 0   id         202607 non-null  object \n",
      " 1   call_date  202607 non-null  object \n",
      " 2   duration   202607 non-null  float64\n",
      " 3   user_id    202607 non-null  int64  \n",
      "dtypes: float64(1), int64(1), object(2)\n",
      "memory usage: 6.2+ MB\n"
     ]
    }
   ],
   "source": [
    "df_calls = pd.read_csv('/datasets/calls.csv')# записываем базу данных по звонкам в переменную df_calls \n",
    "df_calls.info()"
   ]
  },
  {
   "cell_type": "code",
   "execution_count": 3,
   "metadata": {},
   "outputs": [
    {
     "data": {
      "text/html": [
       "<div>\n",
       "<style scoped>\n",
       "    .dataframe tbody tr th:only-of-type {\n",
       "        vertical-align: middle;\n",
       "    }\n",
       "\n",
       "    .dataframe tbody tr th {\n",
       "        vertical-align: top;\n",
       "    }\n",
       "\n",
       "    .dataframe thead th {\n",
       "        text-align: right;\n",
       "    }\n",
       "</style>\n",
       "<table border=\"1\" class=\"dataframe\">\n",
       "  <thead>\n",
       "    <tr style=\"text-align: right;\">\n",
       "      <th></th>\n",
       "      <th>id</th>\n",
       "      <th>call_date</th>\n",
       "      <th>duration</th>\n",
       "      <th>user_id</th>\n",
       "    </tr>\n",
       "  </thead>\n",
       "  <tbody>\n",
       "    <tr>\n",
       "      <th>0</th>\n",
       "      <td>1000_0</td>\n",
       "      <td>2018-07-25</td>\n",
       "      <td>0.00</td>\n",
       "      <td>1000</td>\n",
       "    </tr>\n",
       "    <tr>\n",
       "      <th>1</th>\n",
       "      <td>1000_1</td>\n",
       "      <td>2018-08-17</td>\n",
       "      <td>0.00</td>\n",
       "      <td>1000</td>\n",
       "    </tr>\n",
       "    <tr>\n",
       "      <th>2</th>\n",
       "      <td>1000_2</td>\n",
       "      <td>2018-06-11</td>\n",
       "      <td>2.85</td>\n",
       "      <td>1000</td>\n",
       "    </tr>\n",
       "    <tr>\n",
       "      <th>3</th>\n",
       "      <td>1000_3</td>\n",
       "      <td>2018-09-21</td>\n",
       "      <td>13.80</td>\n",
       "      <td>1000</td>\n",
       "    </tr>\n",
       "    <tr>\n",
       "      <th>4</th>\n",
       "      <td>1000_4</td>\n",
       "      <td>2018-12-15</td>\n",
       "      <td>5.18</td>\n",
       "      <td>1000</td>\n",
       "    </tr>\n",
       "    <tr>\n",
       "      <th>5</th>\n",
       "      <td>1000_5</td>\n",
       "      <td>2018-11-02</td>\n",
       "      <td>0.00</td>\n",
       "      <td>1000</td>\n",
       "    </tr>\n",
       "    <tr>\n",
       "      <th>6</th>\n",
       "      <td>1000_6</td>\n",
       "      <td>2018-10-18</td>\n",
       "      <td>0.00</td>\n",
       "      <td>1000</td>\n",
       "    </tr>\n",
       "    <tr>\n",
       "      <th>7</th>\n",
       "      <td>1000_7</td>\n",
       "      <td>2018-08-22</td>\n",
       "      <td>18.31</td>\n",
       "      <td>1000</td>\n",
       "    </tr>\n",
       "    <tr>\n",
       "      <th>8</th>\n",
       "      <td>1000_8</td>\n",
       "      <td>2018-09-15</td>\n",
       "      <td>18.44</td>\n",
       "      <td>1000</td>\n",
       "    </tr>\n",
       "    <tr>\n",
       "      <th>9</th>\n",
       "      <td>1000_9</td>\n",
       "      <td>2018-08-15</td>\n",
       "      <td>0.00</td>\n",
       "      <td>1000</td>\n",
       "    </tr>\n",
       "  </tbody>\n",
       "</table>\n",
       "</div>"
      ],
      "text/plain": [
       "       id   call_date  duration  user_id\n",
       "0  1000_0  2018-07-25      0.00     1000\n",
       "1  1000_1  2018-08-17      0.00     1000\n",
       "2  1000_2  2018-06-11      2.85     1000\n",
       "3  1000_3  2018-09-21     13.80     1000\n",
       "4  1000_4  2018-12-15      5.18     1000\n",
       "5  1000_5  2018-11-02      0.00     1000\n",
       "6  1000_6  2018-10-18      0.00     1000\n",
       "7  1000_7  2018-08-22     18.31     1000\n",
       "8  1000_8  2018-09-15     18.44     1000\n",
       "9  1000_9  2018-08-15      0.00     1000"
      ]
     },
     "execution_count": 3,
     "metadata": {},
     "output_type": "execute_result"
    }
   ],
   "source": [
    "df_calls.head(10)"
   ]
  },
  {
   "cell_type": "markdown",
   "metadata": {},
   "source": [
    "В df_calls пропущенных значений нет"
   ]
  },
  {
   "cell_type": "code",
   "execution_count": 4,
   "metadata": {},
   "outputs": [
    {
     "name": "stdout",
     "output_type": "stream",
     "text": [
      "<class 'pandas.core.frame.DataFrame'>\n",
      "Int64Index: 149396 entries, 0 to 149395\n",
      "Data columns (total 4 columns):\n",
      " #   Column        Non-Null Count   Dtype  \n",
      "---  ------        --------------   -----  \n",
      " 0   id            149396 non-null  object \n",
      " 1   mb_used       149396 non-null  float64\n",
      " 2   session_date  149396 non-null  object \n",
      " 3   user_id       149396 non-null  int64  \n",
      "dtypes: float64(1), int64(1), object(2)\n",
      "memory usage: 5.7+ MB\n"
     ]
    }
   ],
   "source": [
    "df_internet = pd.read_csv('/datasets/internet.csv', index_col = 0)# записываем данные по интернету в переменную df_internet \n",
    "df_internet.info()"
   ]
  },
  {
   "cell_type": "code",
   "execution_count": 5,
   "metadata": {},
   "outputs": [
    {
     "data": {
      "text/html": [
       "<div>\n",
       "<style scoped>\n",
       "    .dataframe tbody tr th:only-of-type {\n",
       "        vertical-align: middle;\n",
       "    }\n",
       "\n",
       "    .dataframe tbody tr th {\n",
       "        vertical-align: top;\n",
       "    }\n",
       "\n",
       "    .dataframe thead th {\n",
       "        text-align: right;\n",
       "    }\n",
       "</style>\n",
       "<table border=\"1\" class=\"dataframe\">\n",
       "  <thead>\n",
       "    <tr style=\"text-align: right;\">\n",
       "      <th></th>\n",
       "      <th>id</th>\n",
       "      <th>mb_used</th>\n",
       "      <th>session_date</th>\n",
       "      <th>user_id</th>\n",
       "    </tr>\n",
       "  </thead>\n",
       "  <tbody>\n",
       "    <tr>\n",
       "      <th>0</th>\n",
       "      <td>1000_0</td>\n",
       "      <td>112.95</td>\n",
       "      <td>2018-11-25</td>\n",
       "      <td>1000</td>\n",
       "    </tr>\n",
       "    <tr>\n",
       "      <th>1</th>\n",
       "      <td>1000_1</td>\n",
       "      <td>1052.81</td>\n",
       "      <td>2018-09-07</td>\n",
       "      <td>1000</td>\n",
       "    </tr>\n",
       "    <tr>\n",
       "      <th>2</th>\n",
       "      <td>1000_2</td>\n",
       "      <td>1197.26</td>\n",
       "      <td>2018-06-25</td>\n",
       "      <td>1000</td>\n",
       "    </tr>\n",
       "    <tr>\n",
       "      <th>3</th>\n",
       "      <td>1000_3</td>\n",
       "      <td>550.27</td>\n",
       "      <td>2018-08-22</td>\n",
       "      <td>1000</td>\n",
       "    </tr>\n",
       "    <tr>\n",
       "      <th>4</th>\n",
       "      <td>1000_4</td>\n",
       "      <td>302.56</td>\n",
       "      <td>2018-09-24</td>\n",
       "      <td>1000</td>\n",
       "    </tr>\n",
       "    <tr>\n",
       "      <th>5</th>\n",
       "      <td>1000_5</td>\n",
       "      <td>399.97</td>\n",
       "      <td>2018-10-02</td>\n",
       "      <td>1000</td>\n",
       "    </tr>\n",
       "    <tr>\n",
       "      <th>6</th>\n",
       "      <td>1000_6</td>\n",
       "      <td>540.08</td>\n",
       "      <td>2018-09-07</td>\n",
       "      <td>1000</td>\n",
       "    </tr>\n",
       "    <tr>\n",
       "      <th>7</th>\n",
       "      <td>1000_7</td>\n",
       "      <td>415.70</td>\n",
       "      <td>2018-07-11</td>\n",
       "      <td>1000</td>\n",
       "    </tr>\n",
       "    <tr>\n",
       "      <th>8</th>\n",
       "      <td>1000_8</td>\n",
       "      <td>505.40</td>\n",
       "      <td>2018-10-08</td>\n",
       "      <td>1000</td>\n",
       "    </tr>\n",
       "    <tr>\n",
       "      <th>9</th>\n",
       "      <td>1000_9</td>\n",
       "      <td>345.54</td>\n",
       "      <td>2018-09-03</td>\n",
       "      <td>1000</td>\n",
       "    </tr>\n",
       "  </tbody>\n",
       "</table>\n",
       "</div>"
      ],
      "text/plain": [
       "       id  mb_used session_date  user_id\n",
       "0  1000_0   112.95   2018-11-25     1000\n",
       "1  1000_1  1052.81   2018-09-07     1000\n",
       "2  1000_2  1197.26   2018-06-25     1000\n",
       "3  1000_3   550.27   2018-08-22     1000\n",
       "4  1000_4   302.56   2018-09-24     1000\n",
       "5  1000_5   399.97   2018-10-02     1000\n",
       "6  1000_6   540.08   2018-09-07     1000\n",
       "7  1000_7   415.70   2018-07-11     1000\n",
       "8  1000_8   505.40   2018-10-08     1000\n",
       "9  1000_9   345.54   2018-09-03     1000"
      ]
     },
     "execution_count": 5,
     "metadata": {},
     "output_type": "execute_result"
    }
   ],
   "source": [
    "df_internet.head(10)"
   ]
  },
  {
   "cell_type": "code",
   "execution_count": 6,
   "metadata": {},
   "outputs": [
    {
     "data": {
      "text/plain": [
       "1724.83"
      ]
     },
     "execution_count": 6,
     "metadata": {},
     "output_type": "execute_result"
    }
   ],
   "source": [
    "df_internet['mb_used'].max()"
   ]
  },
  {
   "cell_type": "markdown",
   "metadata": {},
   "source": [
    "В df_internet пропущенных значений тоже нет"
   ]
  },
  {
   "cell_type": "code",
   "execution_count": 7,
   "metadata": {},
   "outputs": [
    {
     "name": "stdout",
     "output_type": "stream",
     "text": [
      "<class 'pandas.core.frame.DataFrame'>\n",
      "RangeIndex: 123036 entries, 0 to 123035\n",
      "Data columns (total 3 columns):\n",
      " #   Column        Non-Null Count   Dtype \n",
      "---  ------        --------------   ----- \n",
      " 0   id            123036 non-null  object\n",
      " 1   message_date  123036 non-null  object\n",
      " 2   user_id       123036 non-null  int64 \n",
      "dtypes: int64(1), object(2)\n",
      "memory usage: 2.8+ MB\n"
     ]
    }
   ],
   "source": [
    "df_messages = pd.read_csv('/datasets/messages.csv')# записываем данные по сообщениям в переменную df_messages \n",
    "df_messages.info()"
   ]
  },
  {
   "cell_type": "code",
   "execution_count": 8,
   "metadata": {},
   "outputs": [
    {
     "data": {
      "text/html": [
       "<div>\n",
       "<style scoped>\n",
       "    .dataframe tbody tr th:only-of-type {\n",
       "        vertical-align: middle;\n",
       "    }\n",
       "\n",
       "    .dataframe tbody tr th {\n",
       "        vertical-align: top;\n",
       "    }\n",
       "\n",
       "    .dataframe thead th {\n",
       "        text-align: right;\n",
       "    }\n",
       "</style>\n",
       "<table border=\"1\" class=\"dataframe\">\n",
       "  <thead>\n",
       "    <tr style=\"text-align: right;\">\n",
       "      <th></th>\n",
       "      <th>id</th>\n",
       "      <th>message_date</th>\n",
       "      <th>user_id</th>\n",
       "    </tr>\n",
       "  </thead>\n",
       "  <tbody>\n",
       "    <tr>\n",
       "      <td>0</td>\n",
       "      <td>1000_0</td>\n",
       "      <td>2018-06-27</td>\n",
       "      <td>1000</td>\n",
       "    </tr>\n",
       "    <tr>\n",
       "      <td>1</td>\n",
       "      <td>1000_1</td>\n",
       "      <td>2018-10-08</td>\n",
       "      <td>1000</td>\n",
       "    </tr>\n",
       "    <tr>\n",
       "      <td>2</td>\n",
       "      <td>1000_2</td>\n",
       "      <td>2018-08-04</td>\n",
       "      <td>1000</td>\n",
       "    </tr>\n",
       "    <tr>\n",
       "      <td>3</td>\n",
       "      <td>1000_3</td>\n",
       "      <td>2018-06-16</td>\n",
       "      <td>1000</td>\n",
       "    </tr>\n",
       "    <tr>\n",
       "      <td>4</td>\n",
       "      <td>1000_4</td>\n",
       "      <td>2018-12-05</td>\n",
       "      <td>1000</td>\n",
       "    </tr>\n",
       "    <tr>\n",
       "      <td>5</td>\n",
       "      <td>1000_5</td>\n",
       "      <td>2018-06-20</td>\n",
       "      <td>1000</td>\n",
       "    </tr>\n",
       "    <tr>\n",
       "      <td>6</td>\n",
       "      <td>1000_6</td>\n",
       "      <td>2018-11-19</td>\n",
       "      <td>1000</td>\n",
       "    </tr>\n",
       "    <tr>\n",
       "      <td>7</td>\n",
       "      <td>1000_7</td>\n",
       "      <td>2018-10-29</td>\n",
       "      <td>1000</td>\n",
       "    </tr>\n",
       "    <tr>\n",
       "      <td>8</td>\n",
       "      <td>1000_8</td>\n",
       "      <td>2018-06-25</td>\n",
       "      <td>1000</td>\n",
       "    </tr>\n",
       "    <tr>\n",
       "      <td>9</td>\n",
       "      <td>1000_9</td>\n",
       "      <td>2018-12-18</td>\n",
       "      <td>1000</td>\n",
       "    </tr>\n",
       "  </tbody>\n",
       "</table>\n",
       "</div>"
      ],
      "text/plain": [
       "       id message_date  user_id\n",
       "0  1000_0   2018-06-27     1000\n",
       "1  1000_1   2018-10-08     1000\n",
       "2  1000_2   2018-08-04     1000\n",
       "3  1000_3   2018-06-16     1000\n",
       "4  1000_4   2018-12-05     1000\n",
       "5  1000_5   2018-06-20     1000\n",
       "6  1000_6   2018-11-19     1000\n",
       "7  1000_7   2018-10-29     1000\n",
       "8  1000_8   2018-06-25     1000\n",
       "9  1000_9   2018-12-18     1000"
      ]
     },
     "execution_count": 8,
     "metadata": {},
     "output_type": "execute_result"
    }
   ],
   "source": [
    "df_messages.head(10)"
   ]
  },
  {
   "cell_type": "markdown",
   "metadata": {},
   "source": [
    "В df_messages пропущенных значений тоже нет"
   ]
  },
  {
   "cell_type": "code",
   "execution_count": 9,
   "metadata": {},
   "outputs": [
    {
     "name": "stdout",
     "output_type": "stream",
     "text": [
      "<class 'pandas.core.frame.DataFrame'>\n",
      "RangeIndex: 2 entries, 0 to 1\n",
      "Data columns (total 8 columns):\n",
      "messages_included        2 non-null int64\n",
      "mb_per_month_included    2 non-null int64\n",
      "minutes_included         2 non-null int64\n",
      "rub_monthly_fee          2 non-null int64\n",
      "rub_per_gb               2 non-null int64\n",
      "rub_per_message          2 non-null int64\n",
      "rub_per_minute           2 non-null int64\n",
      "tariff_name              2 non-null object\n",
      "dtypes: int64(7), object(1)\n",
      "memory usage: 256.0+ bytes\n"
     ]
    }
   ],
   "source": [
    "df_tariffs = pd.read_csv('/datasets/tariffs.csv')# записываем базу данных по тарифам в переменную df_tariffs \n",
    "df_tariffs.info()"
   ]
  },
  {
   "cell_type": "code",
   "execution_count": 10,
   "metadata": {},
   "outputs": [
    {
     "data": {
      "text/html": [
       "<div>\n",
       "<style scoped>\n",
       "    .dataframe tbody tr th:only-of-type {\n",
       "        vertical-align: middle;\n",
       "    }\n",
       "\n",
       "    .dataframe tbody tr th {\n",
       "        vertical-align: top;\n",
       "    }\n",
       "\n",
       "    .dataframe thead th {\n",
       "        text-align: right;\n",
       "    }\n",
       "</style>\n",
       "<table border=\"1\" class=\"dataframe\">\n",
       "  <thead>\n",
       "    <tr style=\"text-align: right;\">\n",
       "      <th></th>\n",
       "      <th>messages_included</th>\n",
       "      <th>mb_per_month_included</th>\n",
       "      <th>minutes_included</th>\n",
       "      <th>rub_monthly_fee</th>\n",
       "      <th>rub_per_gb</th>\n",
       "      <th>rub_per_message</th>\n",
       "      <th>rub_per_minute</th>\n",
       "      <th>tariff_name</th>\n",
       "    </tr>\n",
       "  </thead>\n",
       "  <tbody>\n",
       "    <tr>\n",
       "      <td>0</td>\n",
       "      <td>50</td>\n",
       "      <td>15360</td>\n",
       "      <td>500</td>\n",
       "      <td>550</td>\n",
       "      <td>200</td>\n",
       "      <td>3</td>\n",
       "      <td>3</td>\n",
       "      <td>smart</td>\n",
       "    </tr>\n",
       "    <tr>\n",
       "      <td>1</td>\n",
       "      <td>1000</td>\n",
       "      <td>30720</td>\n",
       "      <td>3000</td>\n",
       "      <td>1950</td>\n",
       "      <td>150</td>\n",
       "      <td>1</td>\n",
       "      <td>1</td>\n",
       "      <td>ultra</td>\n",
       "    </tr>\n",
       "  </tbody>\n",
       "</table>\n",
       "</div>"
      ],
      "text/plain": [
       "   messages_included  mb_per_month_included  minutes_included  \\\n",
       "0                 50                  15360               500   \n",
       "1               1000                  30720              3000   \n",
       "\n",
       "   rub_monthly_fee  rub_per_gb  rub_per_message  rub_per_minute tariff_name  \n",
       "0              550         200                3               3       smart  \n",
       "1             1950         150                1               1       ultra  "
      ]
     },
     "execution_count": 10,
     "metadata": {},
     "output_type": "execute_result"
    }
   ],
   "source": [
    "df_tariffs.head(10)"
   ]
  },
  {
   "cell_type": "markdown",
   "metadata": {},
   "source": [
    "В df_tariffs сразу видно что пропусков нет"
   ]
  },
  {
   "cell_type": "code",
   "execution_count": 11,
   "metadata": {},
   "outputs": [
    {
     "name": "stdout",
     "output_type": "stream",
     "text": [
      "<class 'pandas.core.frame.DataFrame'>\n",
      "RangeIndex: 500 entries, 0 to 499\n",
      "Data columns (total 8 columns):\n",
      "user_id       500 non-null int64\n",
      "age           500 non-null int64\n",
      "churn_date    38 non-null object\n",
      "city          500 non-null object\n",
      "first_name    500 non-null object\n",
      "last_name     500 non-null object\n",
      "reg_date      500 non-null object\n",
      "tariff        500 non-null object\n",
      "dtypes: int64(2), object(6)\n",
      "memory usage: 31.4+ KB\n"
     ]
    }
   ],
   "source": [
    "df_users = pd.read_csv('/datasets/users.csv')# записываем базу данных по пользователям в переменную df_users \n",
    "df_users.info()"
   ]
  },
  {
   "cell_type": "code",
   "execution_count": 12,
   "metadata": {},
   "outputs": [
    {
     "data": {
      "text/html": [
       "<div>\n",
       "<style scoped>\n",
       "    .dataframe tbody tr th:only-of-type {\n",
       "        vertical-align: middle;\n",
       "    }\n",
       "\n",
       "    .dataframe tbody tr th {\n",
       "        vertical-align: top;\n",
       "    }\n",
       "\n",
       "    .dataframe thead th {\n",
       "        text-align: right;\n",
       "    }\n",
       "</style>\n",
       "<table border=\"1\" class=\"dataframe\">\n",
       "  <thead>\n",
       "    <tr style=\"text-align: right;\">\n",
       "      <th></th>\n",
       "      <th>user_id</th>\n",
       "      <th>age</th>\n",
       "      <th>churn_date</th>\n",
       "      <th>city</th>\n",
       "      <th>first_name</th>\n",
       "      <th>last_name</th>\n",
       "      <th>reg_date</th>\n",
       "      <th>tariff</th>\n",
       "    </tr>\n",
       "  </thead>\n",
       "  <tbody>\n",
       "    <tr>\n",
       "      <td>0</td>\n",
       "      <td>1000</td>\n",
       "      <td>52</td>\n",
       "      <td>NaN</td>\n",
       "      <td>Краснодар</td>\n",
       "      <td>Рафаил</td>\n",
       "      <td>Верещагин</td>\n",
       "      <td>2018-05-25</td>\n",
       "      <td>ultra</td>\n",
       "    </tr>\n",
       "    <tr>\n",
       "      <td>1</td>\n",
       "      <td>1001</td>\n",
       "      <td>41</td>\n",
       "      <td>NaN</td>\n",
       "      <td>Москва</td>\n",
       "      <td>Иван</td>\n",
       "      <td>Ежов</td>\n",
       "      <td>2018-11-01</td>\n",
       "      <td>smart</td>\n",
       "    </tr>\n",
       "    <tr>\n",
       "      <td>2</td>\n",
       "      <td>1002</td>\n",
       "      <td>59</td>\n",
       "      <td>NaN</td>\n",
       "      <td>Стерлитамак</td>\n",
       "      <td>Евгений</td>\n",
       "      <td>Абрамович</td>\n",
       "      <td>2018-06-17</td>\n",
       "      <td>smart</td>\n",
       "    </tr>\n",
       "    <tr>\n",
       "      <td>3</td>\n",
       "      <td>1003</td>\n",
       "      <td>23</td>\n",
       "      <td>NaN</td>\n",
       "      <td>Москва</td>\n",
       "      <td>Белла</td>\n",
       "      <td>Белякова</td>\n",
       "      <td>2018-08-17</td>\n",
       "      <td>ultra</td>\n",
       "    </tr>\n",
       "    <tr>\n",
       "      <td>4</td>\n",
       "      <td>1004</td>\n",
       "      <td>68</td>\n",
       "      <td>NaN</td>\n",
       "      <td>Новокузнецк</td>\n",
       "      <td>Татьяна</td>\n",
       "      <td>Авдеенко</td>\n",
       "      <td>2018-05-14</td>\n",
       "      <td>ultra</td>\n",
       "    </tr>\n",
       "    <tr>\n",
       "      <td>5</td>\n",
       "      <td>1005</td>\n",
       "      <td>67</td>\n",
       "      <td>NaN</td>\n",
       "      <td>Набережные Челны</td>\n",
       "      <td>Афанасий</td>\n",
       "      <td>Горлов</td>\n",
       "      <td>2018-01-25</td>\n",
       "      <td>smart</td>\n",
       "    </tr>\n",
       "    <tr>\n",
       "      <td>6</td>\n",
       "      <td>1006</td>\n",
       "      <td>21</td>\n",
       "      <td>NaN</td>\n",
       "      <td>Ульяновск</td>\n",
       "      <td>Леонид</td>\n",
       "      <td>Ермолаев</td>\n",
       "      <td>2018-02-26</td>\n",
       "      <td>smart</td>\n",
       "    </tr>\n",
       "    <tr>\n",
       "      <td>7</td>\n",
       "      <td>1007</td>\n",
       "      <td>65</td>\n",
       "      <td>NaN</td>\n",
       "      <td>Москва</td>\n",
       "      <td>Юна</td>\n",
       "      <td>Березина</td>\n",
       "      <td>2018-04-19</td>\n",
       "      <td>smart</td>\n",
       "    </tr>\n",
       "    <tr>\n",
       "      <td>8</td>\n",
       "      <td>1008</td>\n",
       "      <td>63</td>\n",
       "      <td>NaN</td>\n",
       "      <td>Челябинск</td>\n",
       "      <td>Рустэм</td>\n",
       "      <td>Пономарёв</td>\n",
       "      <td>2018-12-19</td>\n",
       "      <td>smart</td>\n",
       "    </tr>\n",
       "    <tr>\n",
       "      <td>9</td>\n",
       "      <td>1009</td>\n",
       "      <td>24</td>\n",
       "      <td>NaN</td>\n",
       "      <td>Пермь</td>\n",
       "      <td>Василиса</td>\n",
       "      <td>Блинова</td>\n",
       "      <td>2018-03-22</td>\n",
       "      <td>smart</td>\n",
       "    </tr>\n",
       "  </tbody>\n",
       "</table>\n",
       "</div>"
      ],
      "text/plain": [
       "   user_id  age churn_date              city first_name  last_name  \\\n",
       "0     1000   52        NaN         Краснодар     Рафаил  Верещагин   \n",
       "1     1001   41        NaN            Москва       Иван       Ежов   \n",
       "2     1002   59        NaN       Стерлитамак    Евгений  Абрамович   \n",
       "3     1003   23        NaN            Москва      Белла   Белякова   \n",
       "4     1004   68        NaN       Новокузнецк    Татьяна   Авдеенко   \n",
       "5     1005   67        NaN  Набережные Челны   Афанасий     Горлов   \n",
       "6     1006   21        NaN         Ульяновск     Леонид   Ермолаев   \n",
       "7     1007   65        NaN            Москва        Юна   Березина   \n",
       "8     1008   63        NaN         Челябинск     Рустэм  Пономарёв   \n",
       "9     1009   24        NaN             Пермь   Василиса    Блинова   \n",
       "\n",
       "     reg_date tariff  \n",
       "0  2018-05-25  ultra  \n",
       "1  2018-11-01  smart  \n",
       "2  2018-06-17  smart  \n",
       "3  2018-08-17  ultra  \n",
       "4  2018-05-14  ultra  \n",
       "5  2018-01-25  smart  \n",
       "6  2018-02-26  smart  \n",
       "7  2018-04-19  smart  \n",
       "8  2018-12-19  smart  \n",
       "9  2018-03-22  smart  "
      ]
     },
     "execution_count": 12,
     "metadata": {},
     "output_type": "execute_result"
    }
   ],
   "source": [
    "df_users.head(10)"
   ]
  },
  {
   "cell_type": "code",
   "execution_count": 13,
   "metadata": {},
   "outputs": [
    {
     "data": {
      "text/plain": [
       "user_id         0\n",
       "age             0\n",
       "churn_date    462\n",
       "city            0\n",
       "first_name      0\n",
       "last_name       0\n",
       "reg_date        0\n",
       "tariff          0\n",
       "dtype: int64"
      ]
     },
     "execution_count": 13,
     "metadata": {},
     "output_type": "execute_result"
    }
   ],
   "source": [
    "df_users.isna().sum()"
   ]
  },
  {
   "cell_type": "markdown",
   "metadata": {},
   "source": [
    "В df_users в столбце churn_date 462 пропуска, но в описании сказано, что если значение пропущено, то тариф ещё действовал на момент выгрузки данных. При необходимости можно заменить на 0"
   ]
  },
  {
   "cell_type": "markdown",
   "metadata": {},
   "source": [
    "**Вывод:**\n",
    "Есть проблемы в данных. Надо менять типы данных в датах. Вещественный тип в звонках, потреблении интернета и кл-ве смс переведем в целочисленный. Присутствуют пропуски в churn_date. Есть смысл их просто поменять на 0(значит смены оператора не было). В соответствии требования оператора округлить длительность звонка и потребление интернета до целочисленных. А также во всех столбацх где есть дата нужно заменить тип данных на date_time"
   ]
  },
  {
   "cell_type": "markdown",
   "metadata": {},
   "source": [
    "## Предобработка данных"
   ]
  },
  {
   "cell_type": "markdown",
   "metadata": {},
   "source": [
    "Начинаю с дат"
   ]
  },
  {
   "cell_type": "code",
   "execution_count": 14,
   "metadata": {},
   "outputs": [],
   "source": [
    "df_calls['call_date']=pd.to_datetime(df_calls['call_date'],format='%Y-%m-%d')"
   ]
  },
  {
   "cell_type": "code",
   "execution_count": 15,
   "metadata": {},
   "outputs": [],
   "source": [
    "df_messages['message_date']=pd.to_datetime(df_messages['message_date'],format='%Y-%m-%d %H:%M:%S')"
   ]
  },
  {
   "cell_type": "code",
   "execution_count": 16,
   "metadata": {},
   "outputs": [],
   "source": [
    "df_internet['session_date']=pd.to_datetime(df_internet['session_date'],format='%Y-%m-%d')"
   ]
  },
  {
   "cell_type": "code",
   "execution_count": 17,
   "metadata": {},
   "outputs": [],
   "source": [
    "df_users['churn_date']=pd.to_datetime(df_users['churn_date'],format='%Y-%m-%d')"
   ]
  },
  {
   "cell_type": "code",
   "execution_count": 18,
   "metadata": {},
   "outputs": [],
   "source": [
    "df_users['reg_date']=pd.to_datetime(df_users['reg_date'],format='%Y-%m-%d')"
   ]
  },
  {
   "cell_type": "markdown",
   "metadata": {},
   "source": [
    "Теперь с числами"
   ]
  },
  {
   "cell_type": "code",
   "execution_count": 19,
   "metadata": {},
   "outputs": [],
   "source": [
    "df_internet['mb_used']=np.ceil(df_internet['mb_used'].astype('int64'))# округляю количество интеренета в мегабайтах в большую сторону"
   ]
  },
  {
   "cell_type": "code",
   "execution_count": 21,
   "metadata": {},
   "outputs": [],
   "source": [
    "df_calls['duration']=np.ceil(df_calls['duration'])# округляю длительность звонков в большую сторону"
   ]
  },
  {
   "cell_type": "markdown",
   "metadata": {},
   "source": [
    "## Первоначальный расчеты"
   ]
  },
  {
   "cell_type": "markdown",
   "metadata": {},
   "source": [
    "Начнем с количества сделанных звонков и израсходованных минут разговора по месяцам"
   ]
  },
  {
   "cell_type": "code",
   "execution_count": 22,
   "metadata": {},
   "outputs": [],
   "source": [
    "df_calls['month']=df_calls['call_date'].dt.month"
   ]
  },
  {
   "cell_type": "code",
   "execution_count": 23,
   "metadata": {},
   "outputs": [
    {
     "data": {
      "text/html": [
       "<div>\n",
       "<style scoped>\n",
       "    .dataframe tbody tr th:only-of-type {\n",
       "        vertical-align: middle;\n",
       "    }\n",
       "\n",
       "    .dataframe tbody tr th {\n",
       "        vertical-align: top;\n",
       "    }\n",
       "\n",
       "    .dataframe thead th {\n",
       "        text-align: right;\n",
       "    }\n",
       "</style>\n",
       "<table border=\"1\" class=\"dataframe\">\n",
       "  <thead>\n",
       "    <tr style=\"text-align: right;\">\n",
       "      <th></th>\n",
       "      <th></th>\n",
       "      <th>duration</th>\n",
       "    </tr>\n",
       "    <tr>\n",
       "      <th>month</th>\n",
       "      <th>user_id</th>\n",
       "      <th></th>\n",
       "    </tr>\n",
       "  </thead>\n",
       "  <tbody>\n",
       "    <tr>\n",
       "      <td rowspan=\"5\" valign=\"top\">1</td>\n",
       "      <td>1005</td>\n",
       "      <td>95.0</td>\n",
       "    </tr>\n",
       "    <tr>\n",
       "      <td>1032</td>\n",
       "      <td>380.0</td>\n",
       "    </tr>\n",
       "    <tr>\n",
       "      <td>1045</td>\n",
       "      <td>9.0</td>\n",
       "    </tr>\n",
       "    <tr>\n",
       "      <td>1055</td>\n",
       "      <td>551.0</td>\n",
       "    </tr>\n",
       "    <tr>\n",
       "      <td>1071</td>\n",
       "      <td>194.0</td>\n",
       "    </tr>\n",
       "    <tr>\n",
       "      <td>...</td>\n",
       "      <td>...</td>\n",
       "      <td>...</td>\n",
       "    </tr>\n",
       "    <tr>\n",
       "      <td rowspan=\"5\" valign=\"top\">12</td>\n",
       "      <td>1494</td>\n",
       "      <td>418.0</td>\n",
       "    </tr>\n",
       "    <tr>\n",
       "      <td>1495</td>\n",
       "      <td>1031.0</td>\n",
       "    </tr>\n",
       "    <tr>\n",
       "      <td>1496</td>\n",
       "      <td>518.0</td>\n",
       "    </tr>\n",
       "    <tr>\n",
       "      <td>1497</td>\n",
       "      <td>545.0</td>\n",
       "    </tr>\n",
       "    <tr>\n",
       "      <td>1499</td>\n",
       "      <td>492.0</td>\n",
       "    </tr>\n",
       "  </tbody>\n",
       "</table>\n",
       "<p>3174 rows × 1 columns</p>\n",
       "</div>"
      ],
      "text/plain": [
       "               duration\n",
       "month user_id          \n",
       "1     1005         95.0\n",
       "      1032        380.0\n",
       "      1045          9.0\n",
       "      1055        551.0\n",
       "      1071        194.0\n",
       "...                 ...\n",
       "12    1494        418.0\n",
       "      1495       1031.0\n",
       "      1496        518.0\n",
       "      1497        545.0\n",
       "      1499        492.0\n",
       "\n",
       "[3174 rows x 1 columns]"
      ]
     },
     "execution_count": 23,
     "metadata": {},
     "output_type": "execute_result"
    }
   ],
   "source": [
    "group_calls=df_calls.pivot_table(index=['month','user_id'],values='duration',aggfunc=('sum'))\n",
    "group_calls # Сделал сводную таблицу по звонкам и месяцам"
   ]
  },
  {
   "cell_type": "markdown",
   "metadata": {},
   "source": [
    "Теперь сделаем тоже самое с количеством отправленных сообщений по месяцам"
   ]
  },
  {
   "cell_type": "code",
   "execution_count": 24,
   "metadata": {},
   "outputs": [],
   "source": [
    "df_messages['month']=df_messages['message_date'].dt.month"
   ]
  },
  {
   "cell_type": "code",
   "execution_count": 25,
   "metadata": {},
   "outputs": [
    {
     "data": {
      "text/html": [
       "<div>\n",
       "<style scoped>\n",
       "    .dataframe tbody tr th:only-of-type {\n",
       "        vertical-align: middle;\n",
       "    }\n",
       "\n",
       "    .dataframe tbody tr th {\n",
       "        vertical-align: top;\n",
       "    }\n",
       "\n",
       "    .dataframe thead th {\n",
       "        text-align: right;\n",
       "    }\n",
       "</style>\n",
       "<table border=\"1\" class=\"dataframe\">\n",
       "  <thead>\n",
       "    <tr style=\"text-align: right;\">\n",
       "      <th></th>\n",
       "      <th></th>\n",
       "      <th>message_date</th>\n",
       "    </tr>\n",
       "    <tr>\n",
       "      <th>month</th>\n",
       "      <th>user_id</th>\n",
       "      <th></th>\n",
       "    </tr>\n",
       "  </thead>\n",
       "  <tbody>\n",
       "    <tr>\n",
       "      <td rowspan=\"5\" valign=\"top\">1</td>\n",
       "      <td>1005</td>\n",
       "      <td>7</td>\n",
       "    </tr>\n",
       "    <tr>\n",
       "      <td>1032</td>\n",
       "      <td>38</td>\n",
       "    </tr>\n",
       "    <tr>\n",
       "      <td>1045</td>\n",
       "      <td>5</td>\n",
       "    </tr>\n",
       "    <tr>\n",
       "      <td>1055</td>\n",
       "      <td>30</td>\n",
       "    </tr>\n",
       "    <tr>\n",
       "      <td>1071</td>\n",
       "      <td>16</td>\n",
       "    </tr>\n",
       "    <tr>\n",
       "      <td>...</td>\n",
       "      <td>...</td>\n",
       "      <td>...</td>\n",
       "    </tr>\n",
       "    <tr>\n",
       "      <td rowspan=\"5\" valign=\"top\">12</td>\n",
       "      <td>1493</td>\n",
       "      <td>78</td>\n",
       "    </tr>\n",
       "    <tr>\n",
       "      <td>1495</td>\n",
       "      <td>84</td>\n",
       "    </tr>\n",
       "    <tr>\n",
       "      <td>1496</td>\n",
       "      <td>51</td>\n",
       "    </tr>\n",
       "    <tr>\n",
       "      <td>1497</td>\n",
       "      <td>17</td>\n",
       "    </tr>\n",
       "    <tr>\n",
       "      <td>1499</td>\n",
       "      <td>66</td>\n",
       "    </tr>\n",
       "  </tbody>\n",
       "</table>\n",
       "<p>2717 rows × 1 columns</p>\n",
       "</div>"
      ],
      "text/plain": [
       "               message_date\n",
       "month user_id              \n",
       "1     1005                7\n",
       "      1032               38\n",
       "      1045                5\n",
       "      1055               30\n",
       "      1071               16\n",
       "...                     ...\n",
       "12    1493               78\n",
       "      1495               84\n",
       "      1496               51\n",
       "      1497               17\n",
       "      1499               66\n",
       "\n",
       "[2717 rows x 1 columns]"
      ]
     },
     "execution_count": 25,
     "metadata": {},
     "output_type": "execute_result"
    }
   ],
   "source": [
    "group_messages=df_messages.pivot_table(index=['month','user_id'],values='message_date',aggfunc=('count'))\n",
    "group_messages"
   ]
  },
  {
   "cell_type": "markdown",
   "metadata": {},
   "source": [
    "Теперь сделаем тоже самое с объемом израсходованного интернет-трафика по месяцам"
   ]
  },
  {
   "cell_type": "code",
   "execution_count": 26,
   "metadata": {},
   "outputs": [],
   "source": [
    "df_internet['month']=df_internet['session_date'].dt.month"
   ]
  },
  {
   "cell_type": "code",
   "execution_count": 27,
   "metadata": {},
   "outputs": [
    {
     "data": {
      "text/html": [
       "<div>\n",
       "<style scoped>\n",
       "    .dataframe tbody tr th:only-of-type {\n",
       "        vertical-align: middle;\n",
       "    }\n",
       "\n",
       "    .dataframe tbody tr th {\n",
       "        vertical-align: top;\n",
       "    }\n",
       "\n",
       "    .dataframe thead th {\n",
       "        text-align: right;\n",
       "    }\n",
       "</style>\n",
       "<table border=\"1\" class=\"dataframe\">\n",
       "  <thead>\n",
       "    <tr style=\"text-align: right;\">\n",
       "      <th></th>\n",
       "      <th></th>\n",
       "      <th>mb_used</th>\n",
       "    </tr>\n",
       "    <tr>\n",
       "      <th>month</th>\n",
       "      <th>user_id</th>\n",
       "      <th></th>\n",
       "    </tr>\n",
       "  </thead>\n",
       "  <tbody>\n",
       "    <tr>\n",
       "      <td rowspan=\"5\" valign=\"top\">1</td>\n",
       "      <td>1005</td>\n",
       "      <td>2724.0</td>\n",
       "    </tr>\n",
       "    <tr>\n",
       "      <td>1032</td>\n",
       "      <td>24100.0</td>\n",
       "    </tr>\n",
       "    <tr>\n",
       "      <td>1045</td>\n",
       "      <td>2343.0</td>\n",
       "    </tr>\n",
       "    <tr>\n",
       "      <td>1055</td>\n",
       "      <td>17069.0</td>\n",
       "    </tr>\n",
       "    <tr>\n",
       "      <td>1071</td>\n",
       "      <td>15585.0</td>\n",
       "    </tr>\n",
       "    <tr>\n",
       "      <td>...</td>\n",
       "      <td>...</td>\n",
       "      <td>...</td>\n",
       "    </tr>\n",
       "    <tr>\n",
       "      <td rowspan=\"5\" valign=\"top\">12</td>\n",
       "      <td>1494</td>\n",
       "      <td>17601.0</td>\n",
       "    </tr>\n",
       "    <tr>\n",
       "      <td>1495</td>\n",
       "      <td>23404.0</td>\n",
       "    </tr>\n",
       "    <tr>\n",
       "      <td>1496</td>\n",
       "      <td>20702.0</td>\n",
       "    </tr>\n",
       "    <tr>\n",
       "      <td>1497</td>\n",
       "      <td>19899.0</td>\n",
       "    </tr>\n",
       "    <tr>\n",
       "      <td>1499</td>\n",
       "      <td>13037.0</td>\n",
       "    </tr>\n",
       "  </tbody>\n",
       "</table>\n",
       "<p>3203 rows × 1 columns</p>\n",
       "</div>"
      ],
      "text/plain": [
       "               mb_used\n",
       "month user_id         \n",
       "1     1005      2724.0\n",
       "      1032     24100.0\n",
       "      1045      2343.0\n",
       "      1055     17069.0\n",
       "      1071     15585.0\n",
       "...                ...\n",
       "12    1494     17601.0\n",
       "      1495     23404.0\n",
       "      1496     20702.0\n",
       "      1497     19899.0\n",
       "      1499     13037.0\n",
       "\n",
       "[3203 rows x 1 columns]"
      ]
     },
     "execution_count": 27,
     "metadata": {},
     "output_type": "execute_result"
    }
   ],
   "source": [
    "group_internet=df_internet.pivot_table(index=['month','user_id'],values='mb_used',aggfunc=('sum'))\n",
    "group_internet"
   ]
  },
  {
   "cell_type": "markdown",
   "metadata": {},
   "source": [
    "Теперь объеденим их все в одну для удобства"
   ]
  },
  {
   "cell_type": "code",
   "execution_count": 28,
   "metadata": {},
   "outputs": [],
   "source": [
    "group_messages_call=group_messages.merge(group_calls,on=['user_id','month'],how='outer') # объединяю таблицу звонки и сообщения "
   ]
  },
  {
   "cell_type": "code",
   "execution_count": 29,
   "metadata": {},
   "outputs": [
    {
     "data": {
      "text/html": [
       "<div>\n",
       "<style scoped>\n",
       "    .dataframe tbody tr th:only-of-type {\n",
       "        vertical-align: middle;\n",
       "    }\n",
       "\n",
       "    .dataframe tbody tr th {\n",
       "        vertical-align: top;\n",
       "    }\n",
       "\n",
       "    .dataframe thead th {\n",
       "        text-align: right;\n",
       "    }\n",
       "</style>\n",
       "<table border=\"1\" class=\"dataframe\">\n",
       "  <thead>\n",
       "    <tr style=\"text-align: right;\">\n",
       "      <th></th>\n",
       "      <th></th>\n",
       "      <th>message_date</th>\n",
       "      <th>duration</th>\n",
       "    </tr>\n",
       "    <tr>\n",
       "      <th>user_id</th>\n",
       "      <th>month</th>\n",
       "      <th></th>\n",
       "      <th></th>\n",
       "    </tr>\n",
       "  </thead>\n",
       "  <tbody>\n",
       "    <tr>\n",
       "      <td>1005</td>\n",
       "      <td>1</td>\n",
       "      <td>7.0</td>\n",
       "      <td>95.0</td>\n",
       "    </tr>\n",
       "    <tr>\n",
       "      <td>1032</td>\n",
       "      <td>1</td>\n",
       "      <td>38.0</td>\n",
       "      <td>380.0</td>\n",
       "    </tr>\n",
       "    <tr>\n",
       "      <td>1045</td>\n",
       "      <td>1</td>\n",
       "      <td>5.0</td>\n",
       "      <td>9.0</td>\n",
       "    </tr>\n",
       "    <tr>\n",
       "      <td>1055</td>\n",
       "      <td>1</td>\n",
       "      <td>30.0</td>\n",
       "      <td>551.0</td>\n",
       "    </tr>\n",
       "    <tr>\n",
       "      <td>1071</td>\n",
       "      <td>1</td>\n",
       "      <td>16.0</td>\n",
       "      <td>194.0</td>\n",
       "    </tr>\n",
       "    <tr>\n",
       "      <td>...</td>\n",
       "      <td>...</td>\n",
       "      <td>...</td>\n",
       "      <td>...</td>\n",
       "    </tr>\n",
       "    <tr>\n",
       "      <td>1462</td>\n",
       "      <td>12</td>\n",
       "      <td>NaN</td>\n",
       "      <td>878.0</td>\n",
       "    </tr>\n",
       "    <tr>\n",
       "      <td>1466</td>\n",
       "      <td>12</td>\n",
       "      <td>NaN</td>\n",
       "      <td>659.0</td>\n",
       "    </tr>\n",
       "    <tr>\n",
       "      <td>1469</td>\n",
       "      <td>12</td>\n",
       "      <td>NaN</td>\n",
       "      <td>635.0</td>\n",
       "    </tr>\n",
       "    <tr>\n",
       "      <td>1479</td>\n",
       "      <td>12</td>\n",
       "      <td>NaN</td>\n",
       "      <td>576.0</td>\n",
       "    </tr>\n",
       "    <tr>\n",
       "      <td>1494</td>\n",
       "      <td>12</td>\n",
       "      <td>NaN</td>\n",
       "      <td>418.0</td>\n",
       "    </tr>\n",
       "  </tbody>\n",
       "</table>\n",
       "<p>3213 rows × 2 columns</p>\n",
       "</div>"
      ],
      "text/plain": [
       "               message_date  duration\n",
       "user_id month                        \n",
       "1005    1               7.0      95.0\n",
       "1032    1              38.0     380.0\n",
       "1045    1               5.0       9.0\n",
       "1055    1              30.0     551.0\n",
       "1071    1              16.0     194.0\n",
       "...                     ...       ...\n",
       "1462    12              NaN     878.0\n",
       "1466    12              NaN     659.0\n",
       "1469    12              NaN     635.0\n",
       "1479    12              NaN     576.0\n",
       "1494    12              NaN     418.0\n",
       "\n",
       "[3213 rows x 2 columns]"
      ]
     },
     "execution_count": 29,
     "metadata": {},
     "output_type": "execute_result"
    }
   ],
   "source": [
    "group_messages_call"
   ]
  },
  {
   "cell_type": "code",
   "execution_count": 30,
   "metadata": {},
   "outputs": [],
   "source": [
    "group_all=group_messages_call.merge(group_internet,on=['user_id','month'],how='outer')"
   ]
  },
  {
   "cell_type": "code",
   "execution_count": 31,
   "metadata": {},
   "outputs": [
    {
     "data": {
      "text/html": [
       "<div>\n",
       "<style scoped>\n",
       "    .dataframe tbody tr th:only-of-type {\n",
       "        vertical-align: middle;\n",
       "    }\n",
       "\n",
       "    .dataframe tbody tr th {\n",
       "        vertical-align: top;\n",
       "    }\n",
       "\n",
       "    .dataframe thead th {\n",
       "        text-align: right;\n",
       "    }\n",
       "</style>\n",
       "<table border=\"1\" class=\"dataframe\">\n",
       "  <thead>\n",
       "    <tr style=\"text-align: right;\">\n",
       "      <th></th>\n",
       "      <th></th>\n",
       "      <th>message_date</th>\n",
       "      <th>duration</th>\n",
       "      <th>mb_used</th>\n",
       "    </tr>\n",
       "    <tr>\n",
       "      <th>user_id</th>\n",
       "      <th>month</th>\n",
       "      <th></th>\n",
       "      <th></th>\n",
       "      <th></th>\n",
       "    </tr>\n",
       "  </thead>\n",
       "  <tbody>\n",
       "    <tr>\n",
       "      <td>1005</td>\n",
       "      <td>1</td>\n",
       "      <td>7.0</td>\n",
       "      <td>95.0</td>\n",
       "      <td>2724.0</td>\n",
       "    </tr>\n",
       "    <tr>\n",
       "      <td>1032</td>\n",
       "      <td>1</td>\n",
       "      <td>38.0</td>\n",
       "      <td>380.0</td>\n",
       "      <td>24100.0</td>\n",
       "    </tr>\n",
       "    <tr>\n",
       "      <td>1045</td>\n",
       "      <td>1</td>\n",
       "      <td>5.0</td>\n",
       "      <td>9.0</td>\n",
       "      <td>2343.0</td>\n",
       "    </tr>\n",
       "    <tr>\n",
       "      <td>1055</td>\n",
       "      <td>1</td>\n",
       "      <td>30.0</td>\n",
       "      <td>551.0</td>\n",
       "      <td>17069.0</td>\n",
       "    </tr>\n",
       "    <tr>\n",
       "      <td>1071</td>\n",
       "      <td>1</td>\n",
       "      <td>16.0</td>\n",
       "      <td>194.0</td>\n",
       "      <td>15585.0</td>\n",
       "    </tr>\n",
       "    <tr>\n",
       "      <td>...</td>\n",
       "      <td>...</td>\n",
       "      <td>...</td>\n",
       "      <td>...</td>\n",
       "      <td>...</td>\n",
       "    </tr>\n",
       "    <tr>\n",
       "      <td>1466</td>\n",
       "      <td>12</td>\n",
       "      <td>NaN</td>\n",
       "      <td>659.0</td>\n",
       "      <td>14613.0</td>\n",
       "    </tr>\n",
       "    <tr>\n",
       "      <td>1469</td>\n",
       "      <td>12</td>\n",
       "      <td>NaN</td>\n",
       "      <td>635.0</td>\n",
       "      <td>27736.0</td>\n",
       "    </tr>\n",
       "    <tr>\n",
       "      <td>1479</td>\n",
       "      <td>12</td>\n",
       "      <td>NaN</td>\n",
       "      <td>576.0</td>\n",
       "      <td>23397.0</td>\n",
       "    </tr>\n",
       "    <tr>\n",
       "      <td>1494</td>\n",
       "      <td>12</td>\n",
       "      <td>NaN</td>\n",
       "      <td>418.0</td>\n",
       "      <td>17601.0</td>\n",
       "    </tr>\n",
       "    <tr>\n",
       "      <td>1476</td>\n",
       "      <td>4</td>\n",
       "      <td>NaN</td>\n",
       "      <td>NaN</td>\n",
       "      <td>530.0</td>\n",
       "    </tr>\n",
       "  </tbody>\n",
       "</table>\n",
       "<p>3214 rows × 3 columns</p>\n",
       "</div>"
      ],
      "text/plain": [
       "               message_date  duration  mb_used\n",
       "user_id month                                 \n",
       "1005    1               7.0      95.0   2724.0\n",
       "1032    1              38.0     380.0  24100.0\n",
       "1045    1               5.0       9.0   2343.0\n",
       "1055    1              30.0     551.0  17069.0\n",
       "1071    1              16.0     194.0  15585.0\n",
       "...                     ...       ...      ...\n",
       "1466    12              NaN     659.0  14613.0\n",
       "1469    12              NaN     635.0  27736.0\n",
       "1479    12              NaN     576.0  23397.0\n",
       "1494    12              NaN     418.0  17601.0\n",
       "1476    4               NaN       NaN    530.0\n",
       "\n",
       "[3214 rows x 3 columns]"
      ]
     },
     "execution_count": 31,
     "metadata": {},
     "output_type": "execute_result"
    }
   ],
   "source": [
    "group_all"
   ]
  },
  {
   "cell_type": "code",
   "execution_count": 32,
   "metadata": {},
   "outputs": [
    {
     "data": {
      "text/html": [
       "<div>\n",
       "<style scoped>\n",
       "    .dataframe tbody tr th:only-of-type {\n",
       "        vertical-align: middle;\n",
       "    }\n",
       "\n",
       "    .dataframe tbody tr th {\n",
       "        vertical-align: top;\n",
       "    }\n",
       "\n",
       "    .dataframe thead th {\n",
       "        text-align: right;\n",
       "    }\n",
       "</style>\n",
       "<table border=\"1\" class=\"dataframe\">\n",
       "  <thead>\n",
       "    <tr style=\"text-align: right;\">\n",
       "      <th></th>\n",
       "      <th>user_id</th>\n",
       "      <th>age</th>\n",
       "      <th>churn_date</th>\n",
       "      <th>city</th>\n",
       "      <th>first_name</th>\n",
       "      <th>last_name</th>\n",
       "      <th>reg_date</th>\n",
       "      <th>tariff</th>\n",
       "    </tr>\n",
       "  </thead>\n",
       "  <tbody>\n",
       "    <tr>\n",
       "      <td>0</td>\n",
       "      <td>1000</td>\n",
       "      <td>52</td>\n",
       "      <td>NaT</td>\n",
       "      <td>Краснодар</td>\n",
       "      <td>Рафаил</td>\n",
       "      <td>Верещагин</td>\n",
       "      <td>2018-05-25</td>\n",
       "      <td>ultra</td>\n",
       "    </tr>\n",
       "    <tr>\n",
       "      <td>1</td>\n",
       "      <td>1001</td>\n",
       "      <td>41</td>\n",
       "      <td>NaT</td>\n",
       "      <td>Москва</td>\n",
       "      <td>Иван</td>\n",
       "      <td>Ежов</td>\n",
       "      <td>2018-11-01</td>\n",
       "      <td>smart</td>\n",
       "    </tr>\n",
       "    <tr>\n",
       "      <td>2</td>\n",
       "      <td>1002</td>\n",
       "      <td>59</td>\n",
       "      <td>NaT</td>\n",
       "      <td>Стерлитамак</td>\n",
       "      <td>Евгений</td>\n",
       "      <td>Абрамович</td>\n",
       "      <td>2018-06-17</td>\n",
       "      <td>smart</td>\n",
       "    </tr>\n",
       "    <tr>\n",
       "      <td>3</td>\n",
       "      <td>1003</td>\n",
       "      <td>23</td>\n",
       "      <td>NaT</td>\n",
       "      <td>Москва</td>\n",
       "      <td>Белла</td>\n",
       "      <td>Белякова</td>\n",
       "      <td>2018-08-17</td>\n",
       "      <td>ultra</td>\n",
       "    </tr>\n",
       "    <tr>\n",
       "      <td>4</td>\n",
       "      <td>1004</td>\n",
       "      <td>68</td>\n",
       "      <td>NaT</td>\n",
       "      <td>Новокузнецк</td>\n",
       "      <td>Татьяна</td>\n",
       "      <td>Авдеенко</td>\n",
       "      <td>2018-05-14</td>\n",
       "      <td>ultra</td>\n",
       "    </tr>\n",
       "    <tr>\n",
       "      <td>5</td>\n",
       "      <td>1005</td>\n",
       "      <td>67</td>\n",
       "      <td>NaT</td>\n",
       "      <td>Набережные Челны</td>\n",
       "      <td>Афанасий</td>\n",
       "      <td>Горлов</td>\n",
       "      <td>2018-01-25</td>\n",
       "      <td>smart</td>\n",
       "    </tr>\n",
       "    <tr>\n",
       "      <td>6</td>\n",
       "      <td>1006</td>\n",
       "      <td>21</td>\n",
       "      <td>NaT</td>\n",
       "      <td>Ульяновск</td>\n",
       "      <td>Леонид</td>\n",
       "      <td>Ермолаев</td>\n",
       "      <td>2018-02-26</td>\n",
       "      <td>smart</td>\n",
       "    </tr>\n",
       "    <tr>\n",
       "      <td>7</td>\n",
       "      <td>1007</td>\n",
       "      <td>65</td>\n",
       "      <td>NaT</td>\n",
       "      <td>Москва</td>\n",
       "      <td>Юна</td>\n",
       "      <td>Березина</td>\n",
       "      <td>2018-04-19</td>\n",
       "      <td>smart</td>\n",
       "    </tr>\n",
       "    <tr>\n",
       "      <td>8</td>\n",
       "      <td>1008</td>\n",
       "      <td>63</td>\n",
       "      <td>NaT</td>\n",
       "      <td>Челябинск</td>\n",
       "      <td>Рустэм</td>\n",
       "      <td>Пономарёв</td>\n",
       "      <td>2018-12-19</td>\n",
       "      <td>smart</td>\n",
       "    </tr>\n",
       "    <tr>\n",
       "      <td>9</td>\n",
       "      <td>1009</td>\n",
       "      <td>24</td>\n",
       "      <td>NaT</td>\n",
       "      <td>Пермь</td>\n",
       "      <td>Василиса</td>\n",
       "      <td>Блинова</td>\n",
       "      <td>2018-03-22</td>\n",
       "      <td>smart</td>\n",
       "    </tr>\n",
       "  </tbody>\n",
       "</table>\n",
       "</div>"
      ],
      "text/plain": [
       "   user_id  age churn_date              city first_name  last_name   reg_date  \\\n",
       "0     1000   52        NaT         Краснодар     Рафаил  Верещагин 2018-05-25   \n",
       "1     1001   41        NaT            Москва       Иван       Ежов 2018-11-01   \n",
       "2     1002   59        NaT       Стерлитамак    Евгений  Абрамович 2018-06-17   \n",
       "3     1003   23        NaT            Москва      Белла   Белякова 2018-08-17   \n",
       "4     1004   68        NaT       Новокузнецк    Татьяна   Авдеенко 2018-05-14   \n",
       "5     1005   67        NaT  Набережные Челны   Афанасий     Горлов 2018-01-25   \n",
       "6     1006   21        NaT         Ульяновск     Леонид   Ермолаев 2018-02-26   \n",
       "7     1007   65        NaT            Москва        Юна   Березина 2018-04-19   \n",
       "8     1008   63        NaT         Челябинск     Рустэм  Пономарёв 2018-12-19   \n",
       "9     1009   24        NaT             Пермь   Василиса    Блинова 2018-03-22   \n",
       "\n",
       "  tariff  \n",
       "0  ultra  \n",
       "1  smart  \n",
       "2  smart  \n",
       "3  ultra  \n",
       "4  ultra  \n",
       "5  smart  \n",
       "6  smart  \n",
       "7  smart  \n",
       "8  smart  \n",
       "9  smart  "
      ]
     },
     "execution_count": 32,
     "metadata": {},
     "output_type": "execute_result"
    }
   ],
   "source": [
    "df_users.head(10)"
   ]
  },
  {
   "cell_type": "markdown",
   "metadata": {},
   "source": [
    "Также добавим в общую таблицу информацию о пользователях"
   ]
  },
  {
   "cell_type": "code",
   "execution_count": 33,
   "metadata": {},
   "outputs": [
    {
     "data": {
      "text/html": [
       "<div>\n",
       "<style scoped>\n",
       "    .dataframe tbody tr th:only-of-type {\n",
       "        vertical-align: middle;\n",
       "    }\n",
       "\n",
       "    .dataframe tbody tr th {\n",
       "        vertical-align: top;\n",
       "    }\n",
       "\n",
       "    .dataframe thead th {\n",
       "        text-align: right;\n",
       "    }\n",
       "</style>\n",
       "<table border=\"1\" class=\"dataframe\">\n",
       "  <thead>\n",
       "    <tr style=\"text-align: right;\">\n",
       "      <th></th>\n",
       "      <th>index</th>\n",
       "      <th>user_id</th>\n",
       "      <th>age</th>\n",
       "      <th>churn_date</th>\n",
       "      <th>city</th>\n",
       "      <th>first_name</th>\n",
       "      <th>last_name</th>\n",
       "      <th>reg_date</th>\n",
       "      <th>tariff</th>\n",
       "    </tr>\n",
       "  </thead>\n",
       "  <tbody>\n",
       "    <tr>\n",
       "      <td>0</td>\n",
       "      <td>0</td>\n",
       "      <td>1000</td>\n",
       "      <td>52</td>\n",
       "      <td>NaT</td>\n",
       "      <td>Краснодар</td>\n",
       "      <td>Рафаил</td>\n",
       "      <td>Верещагин</td>\n",
       "      <td>2018-05-25</td>\n",
       "      <td>ultra</td>\n",
       "    </tr>\n",
       "    <tr>\n",
       "      <td>1</td>\n",
       "      <td>1</td>\n",
       "      <td>1001</td>\n",
       "      <td>41</td>\n",
       "      <td>NaT</td>\n",
       "      <td>Москва</td>\n",
       "      <td>Иван</td>\n",
       "      <td>Ежов</td>\n",
       "      <td>2018-11-01</td>\n",
       "      <td>smart</td>\n",
       "    </tr>\n",
       "    <tr>\n",
       "      <td>2</td>\n",
       "      <td>2</td>\n",
       "      <td>1002</td>\n",
       "      <td>59</td>\n",
       "      <td>NaT</td>\n",
       "      <td>Стерлитамак</td>\n",
       "      <td>Евгений</td>\n",
       "      <td>Абрамович</td>\n",
       "      <td>2018-06-17</td>\n",
       "      <td>smart</td>\n",
       "    </tr>\n",
       "    <tr>\n",
       "      <td>3</td>\n",
       "      <td>3</td>\n",
       "      <td>1003</td>\n",
       "      <td>23</td>\n",
       "      <td>NaT</td>\n",
       "      <td>Москва</td>\n",
       "      <td>Белла</td>\n",
       "      <td>Белякова</td>\n",
       "      <td>2018-08-17</td>\n",
       "      <td>ultra</td>\n",
       "    </tr>\n",
       "    <tr>\n",
       "      <td>4</td>\n",
       "      <td>4</td>\n",
       "      <td>1004</td>\n",
       "      <td>68</td>\n",
       "      <td>NaT</td>\n",
       "      <td>Новокузнецк</td>\n",
       "      <td>Татьяна</td>\n",
       "      <td>Авдеенко</td>\n",
       "      <td>2018-05-14</td>\n",
       "      <td>ultra</td>\n",
       "    </tr>\n",
       "    <tr>\n",
       "      <td>...</td>\n",
       "      <td>...</td>\n",
       "      <td>...</td>\n",
       "      <td>...</td>\n",
       "      <td>...</td>\n",
       "      <td>...</td>\n",
       "      <td>...</td>\n",
       "      <td>...</td>\n",
       "      <td>...</td>\n",
       "      <td>...</td>\n",
       "    </tr>\n",
       "    <tr>\n",
       "      <td>495</td>\n",
       "      <td>495</td>\n",
       "      <td>1495</td>\n",
       "      <td>65</td>\n",
       "      <td>NaT</td>\n",
       "      <td>Иркутск</td>\n",
       "      <td>Авксентий</td>\n",
       "      <td>Фокин</td>\n",
       "      <td>2018-08-28</td>\n",
       "      <td>ultra</td>\n",
       "    </tr>\n",
       "    <tr>\n",
       "      <td>496</td>\n",
       "      <td>496</td>\n",
       "      <td>1496</td>\n",
       "      <td>36</td>\n",
       "      <td>NaT</td>\n",
       "      <td>Вологда</td>\n",
       "      <td>Трифон</td>\n",
       "      <td>Блохин</td>\n",
       "      <td>2018-01-27</td>\n",
       "      <td>smart</td>\n",
       "    </tr>\n",
       "    <tr>\n",
       "      <td>497</td>\n",
       "      <td>497</td>\n",
       "      <td>1497</td>\n",
       "      <td>32</td>\n",
       "      <td>NaT</td>\n",
       "      <td>Челябинск</td>\n",
       "      <td>Каролина</td>\n",
       "      <td>Агеева</td>\n",
       "      <td>2018-10-09</td>\n",
       "      <td>smart</td>\n",
       "    </tr>\n",
       "    <tr>\n",
       "      <td>498</td>\n",
       "      <td>498</td>\n",
       "      <td>1498</td>\n",
       "      <td>68</td>\n",
       "      <td>2018-10-25</td>\n",
       "      <td>Владикавказ</td>\n",
       "      <td>Всеволод</td>\n",
       "      <td>Акимчин</td>\n",
       "      <td>2018-07-19</td>\n",
       "      <td>smart</td>\n",
       "    </tr>\n",
       "    <tr>\n",
       "      <td>499</td>\n",
       "      <td>499</td>\n",
       "      <td>1499</td>\n",
       "      <td>35</td>\n",
       "      <td>NaT</td>\n",
       "      <td>Пермь</td>\n",
       "      <td>Гектор</td>\n",
       "      <td>Корнилов</td>\n",
       "      <td>2018-09-27</td>\n",
       "      <td>smart</td>\n",
       "    </tr>\n",
       "  </tbody>\n",
       "</table>\n",
       "<p>500 rows × 9 columns</p>\n",
       "</div>"
      ],
      "text/plain": [
       "     index  user_id  age churn_date         city first_name  last_name  \\\n",
       "0        0     1000   52        NaT    Краснодар     Рафаил  Верещагин   \n",
       "1        1     1001   41        NaT       Москва       Иван       Ежов   \n",
       "2        2     1002   59        NaT  Стерлитамак    Евгений  Абрамович   \n",
       "3        3     1003   23        NaT       Москва      Белла   Белякова   \n",
       "4        4     1004   68        NaT  Новокузнецк    Татьяна   Авдеенко   \n",
       "..     ...      ...  ...        ...          ...        ...        ...   \n",
       "495    495     1495   65        NaT      Иркутск  Авксентий      Фокин   \n",
       "496    496     1496   36        NaT      Вологда     Трифон     Блохин   \n",
       "497    497     1497   32        NaT    Челябинск   Каролина     Агеева   \n",
       "498    498     1498   68 2018-10-25  Владикавказ   Всеволод    Акимчин   \n",
       "499    499     1499   35        NaT        Пермь     Гектор   Корнилов   \n",
       "\n",
       "      reg_date tariff  \n",
       "0   2018-05-25  ultra  \n",
       "1   2018-11-01  smart  \n",
       "2   2018-06-17  smart  \n",
       "3   2018-08-17  ultra  \n",
       "4   2018-05-14  ultra  \n",
       "..         ...    ...  \n",
       "495 2018-08-28  ultra  \n",
       "496 2018-01-27  smart  \n",
       "497 2018-10-09  smart  \n",
       "498 2018-07-19  smart  \n",
       "499 2018-09-27  smart  \n",
       "\n",
       "[500 rows x 9 columns]"
      ]
     },
     "execution_count": 33,
     "metadata": {},
     "output_type": "execute_result"
    }
   ],
   "source": [
    "df_users.reset_index()"
   ]
  },
  {
   "cell_type": "code",
   "execution_count": 34,
   "metadata": {},
   "outputs": [
    {
     "data": {
      "text/plain": [
       "(3214, 3)"
      ]
     },
     "execution_count": 34,
     "metadata": {},
     "output_type": "execute_result"
    }
   ],
   "source": [
    "# Вот\n",
    "group_all.shape"
   ]
  },
  {
   "cell_type": "code",
   "execution_count": 35,
   "metadata": {},
   "outputs": [
    {
     "data": {
      "text/html": [
       "<div>\n",
       "<style scoped>\n",
       "    .dataframe tbody tr th:only-of-type {\n",
       "        vertical-align: middle;\n",
       "    }\n",
       "\n",
       "    .dataframe tbody tr th {\n",
       "        vertical-align: top;\n",
       "    }\n",
       "\n",
       "    .dataframe thead th {\n",
       "        text-align: right;\n",
       "    }\n",
       "</style>\n",
       "<table border=\"1\" class=\"dataframe\">\n",
       "  <thead>\n",
       "    <tr style=\"text-align: right;\">\n",
       "      <th></th>\n",
       "      <th>user_id</th>\n",
       "      <th>message_date</th>\n",
       "      <th>duration</th>\n",
       "      <th>mb_used</th>\n",
       "      <th>age</th>\n",
       "      <th>churn_date</th>\n",
       "      <th>city</th>\n",
       "      <th>first_name</th>\n",
       "      <th>last_name</th>\n",
       "      <th>reg_date</th>\n",
       "      <th>tariff</th>\n",
       "    </tr>\n",
       "  </thead>\n",
       "  <tbody>\n",
       "    <tr>\n",
       "      <td>3209</td>\n",
       "      <td>1095</td>\n",
       "      <td>NaN</td>\n",
       "      <td>540.0</td>\n",
       "      <td>18387.0</td>\n",
       "      <td>70</td>\n",
       "      <td>NaT</td>\n",
       "      <td>Новосибирск</td>\n",
       "      <td>Марианна</td>\n",
       "      <td>Кабанова</td>\n",
       "      <td>2018-12-23</td>\n",
       "      <td>smart</td>\n",
       "    </tr>\n",
       "    <tr>\n",
       "      <td>3210</td>\n",
       "      <td>1117</td>\n",
       "      <td>NaN</td>\n",
       "      <td>282.0</td>\n",
       "      <td>11974.0</td>\n",
       "      <td>42</td>\n",
       "      <td>NaT</td>\n",
       "      <td>Тюмень</td>\n",
       "      <td>Дана</td>\n",
       "      <td>Меркулова</td>\n",
       "      <td>2018-12-10</td>\n",
       "      <td>smart</td>\n",
       "    </tr>\n",
       "    <tr>\n",
       "      <td>3211</td>\n",
       "      <td>1129</td>\n",
       "      <td>NaN</td>\n",
       "      <td>452.0</td>\n",
       "      <td>16422.0</td>\n",
       "      <td>48</td>\n",
       "      <td>NaT</td>\n",
       "      <td>Курган</td>\n",
       "      <td>Анвар</td>\n",
       "      <td>Морозов</td>\n",
       "      <td>2018-12-17</td>\n",
       "      <td>smart</td>\n",
       "    </tr>\n",
       "    <tr>\n",
       "      <td>3212</td>\n",
       "      <td>1297</td>\n",
       "      <td>NaN</td>\n",
       "      <td>404.0</td>\n",
       "      <td>18963.0</td>\n",
       "      <td>66</td>\n",
       "      <td>NaT</td>\n",
       "      <td>Иркутск</td>\n",
       "      <td>Радим</td>\n",
       "      <td>Абрамцев</td>\n",
       "      <td>2018-12-04</td>\n",
       "      <td>smart</td>\n",
       "    </tr>\n",
       "    <tr>\n",
       "      <td>3213</td>\n",
       "      <td>1397</td>\n",
       "      <td>NaN</td>\n",
       "      <td>232.0</td>\n",
       "      <td>23509.0</td>\n",
       "      <td>47</td>\n",
       "      <td>NaT</td>\n",
       "      <td>Воронеж</td>\n",
       "      <td>Инна</td>\n",
       "      <td>Чистякова</td>\n",
       "      <td>2018-12-22</td>\n",
       "      <td>ultra</td>\n",
       "    </tr>\n",
       "  </tbody>\n",
       "</table>\n",
       "</div>"
      ],
      "text/plain": [
       "      user_id  message_date  duration  mb_used  age churn_date         city  \\\n",
       "3209     1095           NaN     540.0  18387.0   70        NaT  Новосибирск   \n",
       "3210     1117           NaN     282.0  11974.0   42        NaT       Тюмень   \n",
       "3211     1129           NaN     452.0  16422.0   48        NaT       Курган   \n",
       "3212     1297           NaN     404.0  18963.0   66        NaT      Иркутск   \n",
       "3213     1397           NaN     232.0  23509.0   47        NaT      Воронеж   \n",
       "\n",
       "     first_name  last_name   reg_date tariff  \n",
       "3209   Марианна   Кабанова 2018-12-23  smart  \n",
       "3210       Дана  Меркулова 2018-12-10  smart  \n",
       "3211      Анвар    Морозов 2018-12-17  smart  \n",
       "3212      Радим   Абрамцев 2018-12-04  smart  \n",
       "3213       Инна  Чистякова 2018-12-22  ultra  "
      ]
     },
     "execution_count": 35,
     "metadata": {},
     "output_type": "execute_result"
    }
   ],
   "source": [
    "group_all = group_all.merge(df_users,on = ['user_id'], how = 'inner')\n",
    "group_all.tail()"
   ]
  },
  {
   "cell_type": "code",
   "execution_count": 36,
   "metadata": {},
   "outputs": [
    {
     "data": {
      "text/plain": [
       "(3214, 11)"
      ]
     },
     "execution_count": 36,
     "metadata": {},
     "output_type": "execute_result"
    }
   ],
   "source": [
    "group_all.shape"
   ]
  },
  {
   "cell_type": "code",
   "execution_count": 37,
   "metadata": {},
   "outputs": [],
   "source": [
    "group_all=group_all.fillna(0).sort_values(by='user_id')#  меняю nan на 0"
   ]
  },
  {
   "cell_type": "code",
   "execution_count": 38,
   "metadata": {},
   "outputs": [],
   "source": [
    "del group_all['age']\n",
    "del group_all['churn_date']\n",
    "del group_all['first_name']\n",
    "del group_all['last_name']\n",
    "del group_all['reg_date']"
   ]
  },
  {
   "cell_type": "code",
   "execution_count": 39,
   "metadata": {},
   "outputs": [
    {
     "data": {
      "text/html": [
       "<div>\n",
       "<style scoped>\n",
       "    .dataframe tbody tr th:only-of-type {\n",
       "        vertical-align: middle;\n",
       "    }\n",
       "\n",
       "    .dataframe tbody tr th {\n",
       "        vertical-align: top;\n",
       "    }\n",
       "\n",
       "    .dataframe thead th {\n",
       "        text-align: right;\n",
       "    }\n",
       "</style>\n",
       "<table border=\"1\" class=\"dataframe\">\n",
       "  <thead>\n",
       "    <tr style=\"text-align: right;\">\n",
       "      <th></th>\n",
       "      <th>user_id</th>\n",
       "      <th>message_date</th>\n",
       "      <th>duration</th>\n",
       "      <th>mb_used</th>\n",
       "      <th>city</th>\n",
       "      <th>tariff</th>\n",
       "    </tr>\n",
       "  </thead>\n",
       "  <tbody>\n",
       "    <tr>\n",
       "      <td>1417</td>\n",
       "      <td>1000</td>\n",
       "      <td>57.0</td>\n",
       "      <td>466.0</td>\n",
       "      <td>14556.0</td>\n",
       "      <td>Краснодар</td>\n",
       "      <td>ultra</td>\n",
       "    </tr>\n",
       "    <tr>\n",
       "      <td>1420</td>\n",
       "      <td>1000</td>\n",
       "      <td>70.0</td>\n",
       "      <td>333.0</td>\n",
       "      <td>9808.0</td>\n",
       "      <td>Краснодар</td>\n",
       "      <td>ultra</td>\n",
       "    </tr>\n",
       "    <tr>\n",
       "      <td>1419</td>\n",
       "      <td>1000</td>\n",
       "      <td>58.0</td>\n",
       "      <td>338.0</td>\n",
       "      <td>14745.0</td>\n",
       "      <td>Краснодар</td>\n",
       "      <td>ultra</td>\n",
       "    </tr>\n",
       "    <tr>\n",
       "      <td>1418</td>\n",
       "      <td>1000</td>\n",
       "      <td>73.0</td>\n",
       "      <td>350.0</td>\n",
       "      <td>14690.0</td>\n",
       "      <td>Краснодар</td>\n",
       "      <td>ultra</td>\n",
       "    </tr>\n",
       "    <tr>\n",
       "      <td>1416</td>\n",
       "      <td>1000</td>\n",
       "      <td>81.0</td>\n",
       "      <td>408.0</td>\n",
       "      <td>14043.0</td>\n",
       "      <td>Краснодар</td>\n",
       "      <td>ultra</td>\n",
       "    </tr>\n",
       "  </tbody>\n",
       "</table>\n",
       "</div>"
      ],
      "text/plain": [
       "      user_id  message_date  duration  mb_used       city tariff\n",
       "1417     1000          57.0     466.0  14556.0  Краснодар  ultra\n",
       "1420     1000          70.0     333.0   9808.0  Краснодар  ultra\n",
       "1419     1000          58.0     338.0  14745.0  Краснодар  ultra\n",
       "1418     1000          73.0     350.0  14690.0  Краснодар  ultra\n",
       "1416     1000          81.0     408.0  14043.0  Краснодар  ultra"
      ]
     },
     "execution_count": 39,
     "metadata": {},
     "output_type": "execute_result"
    }
   ],
   "source": [
    "group_all.head() # Рабочая таблица"
   ]
  },
  {
   "cell_type": "markdown",
   "metadata": {},
   "source": [
    "Далее посчитаем выручку с каждого пользователя"
   ]
  },
  {
   "cell_type": "code",
   "execution_count": 40,
   "metadata": {},
   "outputs": [],
   "source": [
    "#Функция посчета выручки в зависимости от тарифа\n",
    "def user_money(row):\n",
    "    \n",
    "    messages = row['message_date']\n",
    "    calls = row['duration']\n",
    "    internet = row['mb_used']\n",
    "    tariff = row['tariff']\n",
    "    \n",
    "    \n",
    "    if (tariff == 'smart'):\n",
    "        i = 0\n",
    "    else:\n",
    "        i = 1\n",
    "        \n",
    "    ostatok_call = df_tariffs['minutes_included'][i] - calls\n",
    "    if ostatok_call < 0:\n",
    "        call_money = -ostatok_call * df_tariffs['rub_per_minute'][i]\n",
    "    else:\n",
    "        call_money = 0\n",
    "         \n",
    "    ostatok_internet=df_tariffs['mb_per_month_included'][i]-internet\n",
    "    if ostatok_internet < 0:\n",
    "        internet_money = np.ceil((-ostatok_internet/1024)) * df_tariffs['rub_per_gb'][i]\n",
    "    else:\n",
    "        internet_money = 0\n",
    "            \n",
    "    ostatok_messages = df_tariffs['messages_included'][i] - messages\n",
    "    if ostatok_messages < 0:\n",
    "        messages_money = - ostatok_messages * df_tariffs['rub_per_message'][i]\n",
    "    else:\n",
    "        messages_money = 0\n",
    "            \n",
    "    money = call_money + internet_money + messages_money + df_tariffs['rub_monthly_fee'][i]\n",
    "    return money     "
   ]
  },
  {
   "cell_type": "code",
   "execution_count": 41,
   "metadata": {},
   "outputs": [],
   "source": [
    "group_all['money']=group_all.apply(user_money,axis=1)"
   ]
  },
  {
   "cell_type": "code",
   "execution_count": 42,
   "metadata": {},
   "outputs": [
    {
     "data": {
      "text/html": [
       "<div>\n",
       "<style scoped>\n",
       "    .dataframe tbody tr th:only-of-type {\n",
       "        vertical-align: middle;\n",
       "    }\n",
       "\n",
       "    .dataframe tbody tr th {\n",
       "        vertical-align: top;\n",
       "    }\n",
       "\n",
       "    .dataframe thead th {\n",
       "        text-align: right;\n",
       "    }\n",
       "</style>\n",
       "<table border=\"1\" class=\"dataframe\">\n",
       "  <thead>\n",
       "    <tr style=\"text-align: right;\">\n",
       "      <th></th>\n",
       "      <th>user_id</th>\n",
       "      <th>message_date</th>\n",
       "      <th>duration</th>\n",
       "      <th>mb_used</th>\n",
       "      <th>city</th>\n",
       "      <th>tariff</th>\n",
       "      <th>money</th>\n",
       "    </tr>\n",
       "  </thead>\n",
       "  <tbody>\n",
       "    <tr>\n",
       "      <td>1417</td>\n",
       "      <td>1000</td>\n",
       "      <td>57.0</td>\n",
       "      <td>466.0</td>\n",
       "      <td>14556.0</td>\n",
       "      <td>Краснодар</td>\n",
       "      <td>ultra</td>\n",
       "      <td>1950.0</td>\n",
       "    </tr>\n",
       "    <tr>\n",
       "      <td>1420</td>\n",
       "      <td>1000</td>\n",
       "      <td>70.0</td>\n",
       "      <td>333.0</td>\n",
       "      <td>9808.0</td>\n",
       "      <td>Краснодар</td>\n",
       "      <td>ultra</td>\n",
       "      <td>1950.0</td>\n",
       "    </tr>\n",
       "    <tr>\n",
       "      <td>1419</td>\n",
       "      <td>1000</td>\n",
       "      <td>58.0</td>\n",
       "      <td>338.0</td>\n",
       "      <td>14745.0</td>\n",
       "      <td>Краснодар</td>\n",
       "      <td>ultra</td>\n",
       "      <td>1950.0</td>\n",
       "    </tr>\n",
       "    <tr>\n",
       "      <td>1418</td>\n",
       "      <td>1000</td>\n",
       "      <td>73.0</td>\n",
       "      <td>350.0</td>\n",
       "      <td>14690.0</td>\n",
       "      <td>Краснодар</td>\n",
       "      <td>ultra</td>\n",
       "      <td>1950.0</td>\n",
       "    </tr>\n",
       "    <tr>\n",
       "      <td>1416</td>\n",
       "      <td>1000</td>\n",
       "      <td>81.0</td>\n",
       "      <td>408.0</td>\n",
       "      <td>14043.0</td>\n",
       "      <td>Краснодар</td>\n",
       "      <td>ultra</td>\n",
       "      <td>1950.0</td>\n",
       "    </tr>\n",
       "  </tbody>\n",
       "</table>\n",
       "</div>"
      ],
      "text/plain": [
       "      user_id  message_date  duration  mb_used       city tariff   money\n",
       "1417     1000          57.0     466.0  14556.0  Краснодар  ultra  1950.0\n",
       "1420     1000          70.0     333.0   9808.0  Краснодар  ultra  1950.0\n",
       "1419     1000          58.0     338.0  14745.0  Краснодар  ultra  1950.0\n",
       "1418     1000          73.0     350.0  14690.0  Краснодар  ultra  1950.0\n",
       "1416     1000          81.0     408.0  14043.0  Краснодар  ultra  1950.0"
      ]
     },
     "execution_count": 42,
     "metadata": {},
     "output_type": "execute_result"
    }
   ],
   "source": [
    "group_all.head()"
   ]
  },
  {
   "cell_type": "code",
   "execution_count": 43,
   "metadata": {},
   "outputs": [
    {
     "data": {
      "text/plain": [
       "array([1950., 1150.,  550., 1350.,  950., 1550.,  886., 1219.,  556.,\n",
       "        949.,  775.,  835., 1186.,  838.,  694.,  750.,  990.,  685.,\n",
       "        981., 1750., 1015.,  568., 2550., 2350., 2150., 2553., 1540.,\n",
       "       1356., 1795., 3350., 2750., 2559., 1953., 3150., 1838., 3004.,\n",
       "       1004., 1235., 3040., 1019., 1622., 1783., 1672.,  986., 3321.,\n",
       "       2850., 3900.,  592.,  739., 1009.,  959.,  781., 1906.,  655.,\n",
       "       1064., 2919., 1998., 2313., 1723., 1087.,  703.,  691.,  679.,\n",
       "        673., 1473.,  718.,  676.,  736., 1045., 1171., 1013., 2031.,\n",
       "       2616., 2831., 1640., 1816., 1697.,  553.,  562.,  589., 1359.,\n",
       "        840., 1112., 1057., 3233., 5709., 2950., 1661., 2186., 2213.,\n",
       "        756., 2189.,  971.,  995., 1965.,  574.,  762., 1885., 2115.,\n",
       "       3985., 3584., 2700.,  601., 2788., 1751., 2130., 2264., 1765.,\n",
       "       2219., 1248., 1671., 1074., 1612., 1488., 1476., 1711., 1154.,\n",
       "       2441., 1103., 2004.,  924., 1553., 2210., 1321., 2028., 1948.,\n",
       "       2813., 1131., 2765., 2263., 1608., 1539., 2367., 1214., 1954.,\n",
       "       3375., 2601., 1556., 1807., 2234., 3195., 2605.,  873., 2362.,\n",
       "       1705., 2395., 4011., 1069.,  976.,  634.,  604.,  712.,  619.,\n",
       "        798., 2916., 1942., 2301., 2712., 3053., 2201., 3550.,  849.,\n",
       "       2190., 1046.,  802., 2014., 1724., 1975., 3211., 1858., 2106.,\n",
       "        819., 2182., 3202., 1908.,  871.,  826.,  784.,  730.,  859.,\n",
       "       1016.,  721.,  753., 1698., 1688., 1365., 1106., 1297., 1580.,\n",
       "        948.,  837.,  577., 2810., 2353., 2577., 2589., 1034., 2368.,\n",
       "       2704., 2457., 1155., 3640., 2275., 1591., 1270., 5014., 2035.,\n",
       "       1870., 3750.,  823., 1246., 1191., 1040.,  727.,  682.,  664.,\n",
       "        640.,  901., 1470., 2268., 1864., 2646., 2837., 3410.,  962.,\n",
       "        616., 1410., 3046.,  841.,  706., 2361., 1012., 1805.,  974.,\n",
       "        964.,  733., 1180.,  934., 1126., 1006.,  916., 1093.,  751.,\n",
       "       1193., 1348.,  928., 1306., 1891., 1567.,  996.,  953., 2783.,\n",
       "        643., 1002., 1423., 1294., 2288., 1133., 2069., 1962., 1205.,\n",
       "       4800., 3300., 2400.,  625.,  637.,  807., 1446., 1007.,  661.,\n",
       "       2641., 1605.,  980., 1368., 1651., 1437.,  583., 1047., 1263.,\n",
       "        882., 1277.,  994., 1120.,  792.,  586., 1079., 1038., 1571.,\n",
       "       1404.,  963., 1342., 1455., 3870., 4427., 2631., 3136., 2953.,\n",
       "        975., 1763.,  816., 1198.,  622., 1413.,  804., 1706.,  787.,\n",
       "        834., 1461.,  580., 1202., 1993.,  697., 2097.,  670., 1436.,\n",
       "       2076., 1679.,  772., 2250., 2622., 1831., 2697., 2855., 2273.,\n",
       "       2419., 1122., 3194.,  765.,  912., 1670.,  786.,  595.,  745.,\n",
       "        565.,  571., 5252., 1141., 1036., 1354., 1078., 1479., 1000.,\n",
       "       1174., 4473., 2261., 3950., 3083., 2773., 2247., 3315., 1683.,\n",
       "        628., 2022.,  907., 1116., 1464.,  607., 2096., 2185., 1565.,\n",
       "        777., 1760.,  883.,  646., 1743., 3000., 2100., 3246.,  942.,\n",
       "        658., 1987., 3450.,  958.,  688., 1147.,  910.,  829., 1030.,\n",
       "       2007., 1790.,  989.,  613., 1137., 1715., 2903., 1138., 1289.,\n",
       "       1576., 1095., 1554., 2309., 1387., 2661., 2067.,  649., 1135.,\n",
       "       1768., 1190., 1380., 1628., 2064., 2062., 1216., 1313., 2256.,\n",
       "       1890.,  909., 2187., 2147., 1713.,  598.,  631., 1151., 4397.,\n",
       "       1181.,  763.,  955., 1974., 1804., 2548., 2403., 1420.,  965.,\n",
       "       2965., 2127., 2944., 2907., 2952., 2510., 1647., 1288., 2095.,\n",
       "       2643., 1856., 2893., 1494.,  778., 1189., 3266., 4116., 2063.,\n",
       "       2033., 2110., 2065., 2239., 3693., 1529., 2121., 2194., 4650.,\n",
       "       3600., 1739.,  831., 2046., 3037., 1716., 2291., 1662., 2431.,\n",
       "       1558., 2074., 2651., 1675., 3028.,  888., 2852., 2897., 2725.,\n",
       "       2094., 2688., 1834., 1279., 2452., 2270., 4200., 2630., 2595.,\n",
       "       1666., 1669., 1267., 1398., 5672., 4664., 2766., 1183., 2446.,\n",
       "       2068., 1681., 1915.,  724., 1467., 1411., 1158., 1753., 1073.,\n",
       "       1234., 1536., 1252., 2681.,  868., 1587., 1907.,  877., 1051.,\n",
       "       1825., 1312., 1336., 1487., 1330., 2164., 1500., 2609., 1039.,\n",
       "       2049., 1943.,  742.,  715., 5321., 3774., 2378.,  808., 2248.,\n",
       "       1779., 1162., 1140.,  700., 1482., 1082., 1145., 1930., 1992.,\n",
       "       3152., 2592.,  810., 4050., 1835., 2575., 1440., 1646., 1631.,\n",
       "       2962., 4550., 1228., 1624., 1439., 2165., 1709., 1784.,  828.,\n",
       "        998.,  783., 2396., 1649., 2489., 3409., 3342., 2414., 2608.,\n",
       "       2780.,  769., 1389., 1153., 1563., 1177., 1227., 1684., 1573.,\n",
       "       2675., 1774., 2665., 2467., 1777.,  799., 1017.,  977., 2180.,\n",
       "       1285., 1969., 4231., 2537., 2077., 3773., 2468., 3248.,  780.,\n",
       "        559.,  850., 2073., 1859., 2101.,  862.,  867., 1833., 1956.,\n",
       "       1559., 3076., 3070., 1407., 1395.,  918.,  973.,  922.,  919.,\n",
       "       1673., 1828., 4396., 1667., 1168., 2365., 2191., 1798., 1771.,\n",
       "       1381., 1023., 1208., 1401.,  766., 2861., 2274., 1504., 1496.,\n",
       "       2571., 3251., 3759., 2055., 2568., 1430., 1062., 1776., 1960.,\n",
       "       1820., 1148., 1490., 1445., 2254., 2017., 1761., 1821., 1353.,\n",
       "       3125., 2822., 2295., 1392., 1092., 2122., 1300., 1415., 1849.,\n",
       "       1652., 1909., 2715., 1552., 2179., 1146., 3612., 1156., 1577.,\n",
       "       1043., 1362.,  847., 2380., 1959., 1789., 1339., 1454., 1113.,\n",
       "       1159., 1785., 1523., 1441., 2218., 2628., 1823.,  874.,  858.,\n",
       "       1237., 1682., 1616., 3073., 2146., 2433., 2587.,  844.,  927.,\n",
       "       1551., 1139., 1192., 2408., 2945., 1733., 1083., 1982., 1049.,\n",
       "       1176., 1806., 3148., 1824., 1014.,  925., 1923.,  993., 1634.,\n",
       "        891., 2882., 1597.,  610., 4240., 3117., 2118., 4317., 1236.,\n",
       "       1583., 1063.,  652., 1318.,  889., 1912.,  956.,  870., 3449.,\n",
       "       3484., 1637., 1532., 1076., 1005., 3915., 2298., 2041., 2343.,\n",
       "       1251., 1883.,  967., 1241., 1574., 1489., 1450., 1240., 1566.,\n",
       "       2252., 2705., 1055., 1767., 3306., 2480., 2307., 1898., 2768.,\n",
       "       2647., 1570.,  900., 1010., 2323., 2245., 2606., 2223., 1108.,\n",
       "       2443., 1527., 1163., 5680., 6770., 1109., 3393., 2332., 1813.,\n",
       "       3036., 2231., 2596., 2721., 3432., 1685., 2386., 1513.])"
      ]
     },
     "execution_count": 43,
     "metadata": {},
     "output_type": "execute_result"
    }
   ],
   "source": [
    "group_all['money'].unique()"
   ]
  },
  {
   "cell_type": "markdown",
   "metadata": {},
   "source": [
    "## Проанализируем данные"
   ]
  },
  {
   "cell_type": "code",
   "execution_count": 44,
   "metadata": {},
   "outputs": [
    {
     "data": {
      "text/plain": [
       "<matplotlib.axes._subplots.AxesSubplot at 0x7f2244f38090>"
      ]
     },
     "execution_count": 44,
     "metadata": {},
     "output_type": "execute_result"
    },
    {
     "data": {
      "image/png": "[encoded data removed]",
      "text/plain": [
       "<Figure size 432x288 with 1 Axes>"
      ]
     },
     "metadata": {
      "needs_background": "light"
     },
     "output_type": "display_data"
    }
   ],
   "source": [
    "group_all['money'].hist(bins=50)"
   ]
  },
  {
   "cell_type": "code",
   "execution_count": 45,
   "metadata": {},
   "outputs": [
    {
     "data": {
      "image/png": "[encoded data removed]",
      "text/plain": [
       "<Figure size 1080x288 with 2 Axes>"
      ]
     },
     "metadata": {
      "needs_background": "light"
     },
     "output_type": "display_data"
    }
   ],
   "source": [
    "group_all.hist(bins=50, by='tariff', column='money', figsize=(15,4))\n",
    "\n",
    "plt.show()"
   ]
  },
  {
   "cell_type": "code",
   "execution_count": 46,
   "metadata": {},
   "outputs": [
    {
     "data": {
      "text/plain": [
       "<matplotlib.axes._subplots.AxesSubplot at 0x7f224367db50>"
      ]
     },
     "execution_count": 46,
     "metadata": {},
     "output_type": "execute_result"
    },
    {
     "data": {
      "image/png": "[encoded data removed]",
      "text/plain": [
       "<Figure size 432x288 with 1 Axes>"
      ]
     },
     "metadata": {
      "needs_background": "light"
     },
     "output_type": "display_data"
    }
   ],
   "source": [
    "group_all['money'].hist(bins=50)"
   ]
  },
  {
   "cell_type": "code",
   "execution_count": 47,
   "metadata": {},
   "outputs": [
    {
     "data": {
      "text/plain": [
       "tariff\n",
       "smart    2867751.0\n",
       "ultra    2038500.0\n",
       "Name: money, dtype: float64"
      ]
     },
     "execution_count": 47,
     "metadata": {},
     "output_type": "execute_result"
    }
   ],
   "source": [
    "group_all.groupby('tariff')['money'].sum()"
   ]
  },
  {
   "cell_type": "code",
   "execution_count": 48,
   "metadata": {},
   "outputs": [
    {
     "data": {
      "text/html": [
       "<div>\n",
       "<style scoped>\n",
       "    .dataframe tbody tr th:only-of-type {\n",
       "        vertical-align: middle;\n",
       "    }\n",
       "\n",
       "    .dataframe tbody tr th {\n",
       "        vertical-align: top;\n",
       "    }\n",
       "\n",
       "    .dataframe thead th {\n",
       "        text-align: right;\n",
       "    }\n",
       "</style>\n",
       "<table border=\"1\" class=\"dataframe\">\n",
       "  <thead>\n",
       "    <tr style=\"text-align: right;\">\n",
       "      <th></th>\n",
       "      <th>user_id</th>\n",
       "      <th>message_date</th>\n",
       "      <th>duration</th>\n",
       "      <th>mb_used</th>\n",
       "      <th>city</th>\n",
       "      <th>tariff</th>\n",
       "      <th>money</th>\n",
       "    </tr>\n",
       "  </thead>\n",
       "  <tbody>\n",
       "    <tr>\n",
       "      <td>3181</td>\n",
       "      <td>1024</td>\n",
       "      <td>0.0</td>\n",
       "      <td>949.0</td>\n",
       "      <td>35913.0</td>\n",
       "      <td>Санкт-Петербург</td>\n",
       "      <td>ultra</td>\n",
       "      <td>2850.0</td>\n",
       "    </tr>\n",
       "    <tr>\n",
       "      <td>3180</td>\n",
       "      <td>1024</td>\n",
       "      <td>0.0</td>\n",
       "      <td>1146.0</td>\n",
       "      <td>43069.0</td>\n",
       "      <td>Санкт-Петербург</td>\n",
       "      <td>ultra</td>\n",
       "      <td>3900.0</td>\n",
       "    </tr>\n",
       "    <tr>\n",
       "      <td>1733</td>\n",
       "      <td>1050</td>\n",
       "      <td>52.0</td>\n",
       "      <td>209.0</td>\n",
       "      <td>35139.0</td>\n",
       "      <td>Тюмень</td>\n",
       "      <td>ultra</td>\n",
       "      <td>2700.0</td>\n",
       "    </tr>\n",
       "    <tr>\n",
       "      <td>2649</td>\n",
       "      <td>1060</td>\n",
       "      <td>52.0</td>\n",
       "      <td>1233.0</td>\n",
       "      <td>43893.0</td>\n",
       "      <td>Калуга</td>\n",
       "      <td>ultra</td>\n",
       "      <td>3900.0</td>\n",
       "    </tr>\n",
       "    <tr>\n",
       "      <td>2418</td>\n",
       "      <td>1124</td>\n",
       "      <td>121.0</td>\n",
       "      <td>1225.0</td>\n",
       "      <td>49701.0</td>\n",
       "      <td>Махачкала</td>\n",
       "      <td>ultra</td>\n",
       "      <td>4800.0</td>\n",
       "    </tr>\n",
       "    <tr>\n",
       "      <td>...</td>\n",
       "      <td>...</td>\n",
       "      <td>...</td>\n",
       "      <td>...</td>\n",
       "      <td>...</td>\n",
       "      <td>...</td>\n",
       "      <td>...</td>\n",
       "      <td>...</td>\n",
       "    </tr>\n",
       "    <tr>\n",
       "      <td>3117</td>\n",
       "      <td>1469</td>\n",
       "      <td>0.0</td>\n",
       "      <td>795.0</td>\n",
       "      <td>35463.0</td>\n",
       "      <td>Сочи</td>\n",
       "      <td>ultra</td>\n",
       "      <td>2700.0</td>\n",
       "    </tr>\n",
       "    <tr>\n",
       "      <td>2703</td>\n",
       "      <td>1474</td>\n",
       "      <td>105.0</td>\n",
       "      <td>1345.0</td>\n",
       "      <td>42285.0</td>\n",
       "      <td>Набережные Челны</td>\n",
       "      <td>ultra</td>\n",
       "      <td>3750.0</td>\n",
       "    </tr>\n",
       "    <tr>\n",
       "      <td>2707</td>\n",
       "      <td>1493</td>\n",
       "      <td>78.0</td>\n",
       "      <td>571.0</td>\n",
       "      <td>42700.0</td>\n",
       "      <td>Красноярск</td>\n",
       "      <td>ultra</td>\n",
       "      <td>3750.0</td>\n",
       "    </tr>\n",
       "    <tr>\n",
       "      <td>2403</td>\n",
       "      <td>1495</td>\n",
       "      <td>79.0</td>\n",
       "      <td>954.0</td>\n",
       "      <td>38903.0</td>\n",
       "      <td>Иркутск</td>\n",
       "      <td>ultra</td>\n",
       "      <td>3150.0</td>\n",
       "    </tr>\n",
       "    <tr>\n",
       "      <td>2401</td>\n",
       "      <td>1495</td>\n",
       "      <td>82.0</td>\n",
       "      <td>813.0</td>\n",
       "      <td>33040.0</td>\n",
       "      <td>Иркутск</td>\n",
       "      <td>ultra</td>\n",
       "      <td>2400.0</td>\n",
       "    </tr>\n",
       "  </tbody>\n",
       "</table>\n",
       "<p>134 rows × 7 columns</p>\n",
       "</div>"
      ],
      "text/plain": [
       "      user_id  message_date  duration  mb_used              city tariff  \\\n",
       "3181     1024           0.0     949.0  35913.0   Санкт-Петербург  ultra   \n",
       "3180     1024           0.0    1146.0  43069.0   Санкт-Петербург  ultra   \n",
       "1733     1050          52.0     209.0  35139.0            Тюмень  ultra   \n",
       "2649     1060          52.0    1233.0  43893.0            Калуга  ultra   \n",
       "2418     1124         121.0    1225.0  49701.0         Махачкала  ultra   \n",
       "...       ...           ...       ...      ...               ...    ...   \n",
       "3117     1469           0.0     795.0  35463.0              Сочи  ultra   \n",
       "2703     1474         105.0    1345.0  42285.0  Набережные Челны  ultra   \n",
       "2707     1493          78.0     571.0  42700.0        Красноярск  ultra   \n",
       "2403     1495          79.0     954.0  38903.0           Иркутск  ultra   \n",
       "2401     1495          82.0     813.0  33040.0           Иркутск  ultra   \n",
       "\n",
       "       money  \n",
       "3181  2850.0  \n",
       "3180  3900.0  \n",
       "1733  2700.0  \n",
       "2649  3900.0  \n",
       "2418  4800.0  \n",
       "...      ...  \n",
       "3117  2700.0  \n",
       "2703  3750.0  \n",
       "2707  3750.0  \n",
       "2403  3150.0  \n",
       "2401  2400.0  \n",
       "\n",
       "[134 rows x 7 columns]"
      ]
     },
     "execution_count": 48,
     "metadata": {},
     "output_type": "execute_result"
    }
   ],
   "source": [
    "group_all.query('tariff==\"ultra\" and money>1950')"
   ]
  },
  {
   "cell_type": "code",
   "execution_count": 49,
   "metadata": {},
   "outputs": [
    {
     "data": {
      "text/plain": [
       "user_id         1659\n",
       "message_date    1659\n",
       "duration        1659\n",
       "mb_used         1659\n",
       "city            1659\n",
       "tariff          1659\n",
       "money           1659\n",
       "dtype: int64"
      ]
     },
     "execution_count": 49,
     "metadata": {},
     "output_type": "execute_result"
    }
   ],
   "source": [
    "group_all.query('tariff==\"smart\" and money>550').count()"
   ]
  },
  {
   "cell_type": "markdown",
   "metadata": {},
   "source": [
    "Из графика и сгруппированной таблицы видно, что тариф ультра прибыльнее чем смарт. "
   ]
  },
  {
   "cell_type": "code",
   "execution_count": 50,
   "metadata": {},
   "outputs": [],
   "source": [
    "count_durations=group_all.pivot_table(index='user_id',values='duration',aggfunc=('count'))"
   ]
  },
  {
   "cell_type": "markdown",
   "metadata": {},
   "source": [
    "Подсчет количества звонков"
   ]
  },
  {
   "cell_type": "code",
   "execution_count": 51,
   "metadata": {},
   "outputs": [],
   "source": [
    "tariff_ultra=(group_all\n",
    "     .query('tariff==\"ultra\"')\n",
    "     .pivot_table(index='user_id',values=('duration','message_date','mb_used'),aggfunc=('sum'))\n",
    "     #.plot(y='mb_used',grid=True,figsize=(13,6),style='o-',kind='bar',label='ultra')\n",
    ")\n",
    "\n",
    "tariff_smart=(group_all\n",
    "     .query('tariff==\"smart\"')\n",
    "     .pivot_table(index='user_id',values=('duration','message_date','mb_used'),aggfunc=('sum'))\n",
    "                                                                                      \n",
    ")"
   ]
  },
  {
   "cell_type": "markdown",
   "metadata": {},
   "source": [
    "отделяю тариф Ультра и тариф Смарт по отдельности с подсчетом сумм по звокам, интернету и сообщениям"
   ]
  },
  {
   "cell_type": "code",
   "execution_count": 52,
   "metadata": {},
   "outputs": [
    {
     "data": {
      "text/html": [
       "<div>\n",
       "<style scoped>\n",
       "    .dataframe tbody tr th:only-of-type {\n",
       "        vertical-align: middle;\n",
       "    }\n",
       "\n",
       "    .dataframe tbody tr th {\n",
       "        vertical-align: top;\n",
       "    }\n",
       "\n",
       "    .dataframe thead th {\n",
       "        text-align: right;\n",
       "    }\n",
       "</style>\n",
       "<table border=\"1\" class=\"dataframe\">\n",
       "  <thead>\n",
       "    <tr style=\"text-align: right;\">\n",
       "      <th></th>\n",
       "      <th>duration</th>\n",
       "      <th>mb_used</th>\n",
       "      <th>message_date</th>\n",
       "    </tr>\n",
       "    <tr>\n",
       "      <th>user_id</th>\n",
       "      <th></th>\n",
       "      <th></th>\n",
       "      <th></th>\n",
       "    </tr>\n",
       "  </thead>\n",
       "  <tbody>\n",
       "    <tr>\n",
       "      <td>1000</td>\n",
       "      <td>2566.0</td>\n",
       "      <td>107295.0</td>\n",
       "      <td>496.0</td>\n",
       "    </tr>\n",
       "    <tr>\n",
       "      <td>1003</td>\n",
       "      <td>3822.0</td>\n",
       "      <td>57227.0</td>\n",
       "      <td>380.0</td>\n",
       "    </tr>\n",
       "    <tr>\n",
       "      <td>1004</td>\n",
       "      <td>987.0</td>\n",
       "      <td>148897.0</td>\n",
       "      <td>1192.0</td>\n",
       "    </tr>\n",
       "    <tr>\n",
       "      <td>1013</td>\n",
       "      <td>936.0</td>\n",
       "      <td>30490.0</td>\n",
       "      <td>42.0</td>\n",
       "    </tr>\n",
       "    <tr>\n",
       "      <td>1016</td>\n",
       "      <td>122.0</td>\n",
       "      <td>26788.0</td>\n",
       "      <td>142.0</td>\n",
       "    </tr>\n",
       "    <tr>\n",
       "      <td>...</td>\n",
       "      <td>...</td>\n",
       "      <td>...</td>\n",
       "      <td>...</td>\n",
       "    </tr>\n",
       "    <tr>\n",
       "      <td>1476</td>\n",
       "      <td>4204.0</td>\n",
       "      <td>150140.0</td>\n",
       "      <td>45.0</td>\n",
       "    </tr>\n",
       "    <tr>\n",
       "      <td>1485</td>\n",
       "      <td>584.0</td>\n",
       "      <td>23401.0</td>\n",
       "      <td>155.0</td>\n",
       "    </tr>\n",
       "    <tr>\n",
       "      <td>1491</td>\n",
       "      <td>4620.0</td>\n",
       "      <td>161308.0</td>\n",
       "      <td>432.0</td>\n",
       "    </tr>\n",
       "    <tr>\n",
       "      <td>1493</td>\n",
       "      <td>744.0</td>\n",
       "      <td>54370.0</td>\n",
       "      <td>94.0</td>\n",
       "    </tr>\n",
       "    <tr>\n",
       "      <td>1495</td>\n",
       "      <td>3920.0</td>\n",
       "      <td>127295.0</td>\n",
       "      <td>340.0</td>\n",
       "    </tr>\n",
       "  </tbody>\n",
       "</table>\n",
       "<p>148 rows × 3 columns</p>\n",
       "</div>"
      ],
      "text/plain": [
       "         duration   mb_used  message_date\n",
       "user_id                                  \n",
       "1000       2566.0  107295.0         496.0\n",
       "1003       3822.0   57227.0         380.0\n",
       "1004        987.0  148897.0        1192.0\n",
       "1013        936.0   30490.0          42.0\n",
       "1016        122.0   26788.0         142.0\n",
       "...           ...       ...           ...\n",
       "1476       4204.0  150140.0          45.0\n",
       "1485        584.0   23401.0         155.0\n",
       "1491       4620.0  161308.0         432.0\n",
       "1493        744.0   54370.0          94.0\n",
       "1495       3920.0  127295.0         340.0\n",
       "\n",
       "[148 rows x 3 columns]"
      ]
     },
     "execution_count": 52,
     "metadata": {},
     "output_type": "execute_result"
    }
   ],
   "source": [
    "tariff_ultra"
   ]
  },
  {
   "cell_type": "code",
   "execution_count": 53,
   "metadata": {},
   "outputs": [
    {
     "data": {
      "text/html": [
       "<div>\n",
       "<style scoped>\n",
       "    .dataframe tbody tr th:only-of-type {\n",
       "        vertical-align: middle;\n",
       "    }\n",
       "\n",
       "    .dataframe tbody tr th {\n",
       "        vertical-align: top;\n",
       "    }\n",
       "\n",
       "    .dataframe thead th {\n",
       "        text-align: right;\n",
       "    }\n",
       "</style>\n",
       "<table border=\"1\" class=\"dataframe\">\n",
       "  <thead>\n",
       "    <tr style=\"text-align: right;\">\n",
       "      <th></th>\n",
       "      <th>duration</th>\n",
       "      <th>mb_used</th>\n",
       "      <th>message_date</th>\n",
       "    </tr>\n",
       "    <tr>\n",
       "      <th>user_id</th>\n",
       "      <th></th>\n",
       "      <th></th>\n",
       "      <th></th>\n",
       "    </tr>\n",
       "  </thead>\n",
       "  <tbody>\n",
       "    <tr>\n",
       "      <td>1001</td>\n",
       "      <td>844.0</td>\n",
       "      <td>32423.0</td>\n",
       "      <td>0.0</td>\n",
       "    </tr>\n",
       "    <tr>\n",
       "      <td>1002</td>\n",
       "      <td>1517.0</td>\n",
       "      <td>115890.0</td>\n",
       "      <td>70.0</td>\n",
       "    </tr>\n",
       "    <tr>\n",
       "      <td>1005</td>\n",
       "      <td>6605.0</td>\n",
       "      <td>99562.0</td>\n",
       "      <td>552.0</td>\n",
       "    </tr>\n",
       "    <tr>\n",
       "      <td>1006</td>\n",
       "      <td>3501.0</td>\n",
       "      <td>163991.0</td>\n",
       "      <td>0.0</td>\n",
       "    </tr>\n",
       "    <tr>\n",
       "      <td>1007</td>\n",
       "      <td>4379.0</td>\n",
       "      <td>131445.0</td>\n",
       "      <td>225.0</td>\n",
       "    </tr>\n",
       "    <tr>\n",
       "      <td>...</td>\n",
       "      <td>...</td>\n",
       "      <td>...</td>\n",
       "      <td>...</td>\n",
       "    </tr>\n",
       "    <tr>\n",
       "      <td>1494</td>\n",
       "      <td>1946.0</td>\n",
       "      <td>76895.0</td>\n",
       "      <td>0.0</td>\n",
       "    </tr>\n",
       "    <tr>\n",
       "      <td>1496</td>\n",
       "      <td>5984.0</td>\n",
       "      <td>270579.0</td>\n",
       "      <td>468.0</td>\n",
       "    </tr>\n",
       "    <tr>\n",
       "      <td>1497</td>\n",
       "      <td>1406.0</td>\n",
       "      <td>45522.0</td>\n",
       "      <td>51.0</td>\n",
       "    </tr>\n",
       "    <tr>\n",
       "      <td>1498</td>\n",
       "      <td>1293.0</td>\n",
       "      <td>74340.0</td>\n",
       "      <td>168.0</td>\n",
       "    </tr>\n",
       "    <tr>\n",
       "      <td>1499</td>\n",
       "      <td>1623.0</td>\n",
       "      <td>50592.0</td>\n",
       "      <td>184.0</td>\n",
       "    </tr>\n",
       "  </tbody>\n",
       "</table>\n",
       "<p>350 rows × 3 columns</p>\n",
       "</div>"
      ],
      "text/plain": [
       "         duration   mb_used  message_date\n",
       "user_id                                  \n",
       "1001        844.0   32423.0           0.0\n",
       "1002       1517.0  115890.0          70.0\n",
       "1005       6605.0   99562.0         552.0\n",
       "1006       3501.0  163991.0           0.0\n",
       "1007       4379.0  131445.0         225.0\n",
       "...           ...       ...           ...\n",
       "1494       1946.0   76895.0           0.0\n",
       "1496       5984.0  270579.0         468.0\n",
       "1497       1406.0   45522.0          51.0\n",
       "1498       1293.0   74340.0         168.0\n",
       "1499       1623.0   50592.0         184.0\n",
       "\n",
       "[350 rows x 3 columns]"
      ]
     },
     "execution_count": 53,
     "metadata": {},
     "output_type": "execute_result"
    }
   ],
   "source": [
    "tariff_smart"
   ]
  },
  {
   "cell_type": "markdown",
   "metadata": {},
   "source": [
    "Сделал срез по месяцам и посчитал сумму потраченных минут, сообщенийб интернета для каждого тарифа"
   ]
  },
  {
   "cell_type": "code",
   "execution_count": 54,
   "metadata": {
    "scrolled": true
   },
   "outputs": [
    {
     "data": {
      "text/plain": [
       "<matplotlib.axes._subplots.AxesSubplot at 0x7f22427a4e50>"
      ]
     },
     "execution_count": 54,
     "metadata": {},
     "output_type": "execute_result"
    },
    {
     "data": {
      "image/png": "[encoded data removed]",
      "text/plain": [
       "<Figure size 936x432 with 1 Axes>"
      ]
     },
     "metadata": {
      "needs_background": "light"
     },
     "output_type": "display_data"
    }
   ],
   "source": [
    "ax=tariff_ultra.plot(y='mb_used',figsize=(13,6),style='o-',kind='bar',label='ultra')\n",
    "#plt.show()\n",
    "tariff_smart.plot(y='mb_used',grid=True,figsize=(13,6),style='o-',kind='bar',label='smart',alpha=0.5,ax=ax)"
   ]
  },
  {
   "cell_type": "code",
   "execution_count": 55,
   "metadata": {},
   "outputs": [
    {
     "data": {
      "image/png": "[encoded data removed]",
      "text/plain": [
       "<Figure size 432x288 with 1 Axes>"
      ]
     },
     "metadata": {
      "needs_background": "light"
     },
     "output_type": "display_data"
    }
   ],
   "source": [
    "group_all[group_all['tariff'] == 'smart']['mb_used'].hist(bins=30, color='aqua', alpha=0.7, label='smart')\n",
    "group_all[group_all['tariff'] == 'ultra']['mb_used'].hist(bins=30, color='purple', alpha=0.7, label='ultra')\n",
    "\n",
    "plt.title('Распределение интернет-трафика')\n",
    "plt.legend()\n",
    "plt.show()"
   ]
  },
  {
   "cell_type": "markdown",
   "metadata": {},
   "source": [
    "График количества потраxенного интернета по месяцам по двум тарифам. Видно, что Смарт лидируеn."
   ]
  },
  {
   "cell_type": "code",
   "execution_count": 56,
   "metadata": {},
   "outputs": [
    {
     "data": {
      "image/png": "[encoded data removed]",
      "text/plain": [
       "<Figure size 432x288 with 1 Axes>"
      ]
     },
     "metadata": {
      "needs_background": "light"
     },
     "output_type": "display_data"
    }
   ],
   "source": [
    "group_all[group_all['tariff'] == 'smart']['duration'].hist(bins=30, color='aqua', alpha=0.7, label='smart')\n",
    "group_all[group_all['tariff'] == 'ultra']['duration'].hist(bins=30, color='purple', alpha=0.7, label='ultra')\n",
    "\n",
    "plt.title('Распределение длительности звонков')\n",
    "plt.legend()\n",
    "plt.show()"
   ]
  },
  {
   "cell_type": "markdown",
   "metadata": {},
   "source": [
    "График количества минут разговора по месяцам и двум тарифам. И смарт также лидирует. "
   ]
  },
  {
   "cell_type": "code",
   "execution_count": 57,
   "metadata": {},
   "outputs": [
    {
     "data": {
      "image/png": "[encoded data removed]",
      "text/plain": [
       "<Figure size 432x288 with 1 Axes>"
      ]
     },
     "metadata": {
      "needs_background": "light"
     },
     "output_type": "display_data"
    }
   ],
   "source": [
    "group_all[group_all['tariff'] == 'smart']['message_date'].hist(bins=30, color='aqua', alpha=0.7, label='smart')\n",
    "group_all[group_all['tariff'] == 'ultra']['message_date'].hist(bins=30, color='purple', alpha=0.7, label='ultra')\n",
    "\n",
    "plt.title('Распределение сообщений')\n",
    "plt.legend()\n",
    "plt.show()"
   ]
  },
  {
   "cell_type": "markdown",
   "metadata": {},
   "source": [
    "График количества сообщений по месяцам. Тут ситуация по сути такая же, но тариф Ультра все таки немного показывает себя."
   ]
  },
  {
   "cell_type": "markdown",
   "metadata": {},
   "source": [
    "## Подсчет среднего количества, дисперсии и стандартного отклонения"
   ]
  },
  {
   "cell_type": "code",
   "execution_count": 58,
   "metadata": {},
   "outputs": [],
   "source": [
    "mean_ultra=(group_all\n",
    "     .query('tariff==\"ultra\"')\n",
    "     .pivot_table(index='user_id',values=('duration','message_date','mb_used'),aggfunc=('mean'))    \n",
    ")"
   ]
  },
  {
   "cell_type": "markdown",
   "metadata": {},
   "source": [
    "Срез по месяцам для тарифа Ультра и расчета средних значений по звонкам, сообщениям, интернету"
   ]
  },
  {
   "cell_type": "code",
   "execution_count": 59,
   "metadata": {},
   "outputs": [
    {
     "data": {
      "text/html": [
       "<div>\n",
       "<style scoped>\n",
       "    .dataframe tbody tr th:only-of-type {\n",
       "        vertical-align: middle;\n",
       "    }\n",
       "\n",
       "    .dataframe tbody tr th {\n",
       "        vertical-align: top;\n",
       "    }\n",
       "\n",
       "    .dataframe thead th {\n",
       "        text-align: right;\n",
       "    }\n",
       "</style>\n",
       "<table border=\"1\" class=\"dataframe\">\n",
       "  <thead>\n",
       "    <tr style=\"text-align: right;\">\n",
       "      <th></th>\n",
       "      <th>mean_duration</th>\n",
       "      <th>mean_mb_used</th>\n",
       "      <th>mean_message</th>\n",
       "    </tr>\n",
       "    <tr>\n",
       "      <th>user_id</th>\n",
       "      <th></th>\n",
       "      <th></th>\n",
       "      <th></th>\n",
       "    </tr>\n",
       "  </thead>\n",
       "  <tbody>\n",
       "    <tr>\n",
       "      <td>1000</td>\n",
       "      <td>320.750000</td>\n",
       "      <td>13411.875000</td>\n",
       "      <td>62.0</td>\n",
       "    </tr>\n",
       "    <tr>\n",
       "      <td>1003</td>\n",
       "      <td>764.400000</td>\n",
       "      <td>11445.400000</td>\n",
       "      <td>76.0</td>\n",
       "    </tr>\n",
       "    <tr>\n",
       "      <td>1004</td>\n",
       "      <td>123.375000</td>\n",
       "      <td>18612.125000</td>\n",
       "      <td>149.0</td>\n",
       "    </tr>\n",
       "    <tr>\n",
       "      <td>1013</td>\n",
       "      <td>468.000000</td>\n",
       "      <td>15245.000000</td>\n",
       "      <td>21.0</td>\n",
       "    </tr>\n",
       "    <tr>\n",
       "      <td>1016</td>\n",
       "      <td>61.000000</td>\n",
       "      <td>13394.000000</td>\n",
       "      <td>71.0</td>\n",
       "    </tr>\n",
       "    <tr>\n",
       "      <td>...</td>\n",
       "      <td>...</td>\n",
       "      <td>...</td>\n",
       "      <td>...</td>\n",
       "    </tr>\n",
       "    <tr>\n",
       "      <td>1476</td>\n",
       "      <td>467.111111</td>\n",
       "      <td>16682.222222</td>\n",
       "      <td>5.0</td>\n",
       "    </tr>\n",
       "    <tr>\n",
       "      <td>1485</td>\n",
       "      <td>584.000000</td>\n",
       "      <td>23401.000000</td>\n",
       "      <td>155.0</td>\n",
       "    </tr>\n",
       "    <tr>\n",
       "      <td>1491</td>\n",
       "      <td>513.333333</td>\n",
       "      <td>17923.111111</td>\n",
       "      <td>48.0</td>\n",
       "    </tr>\n",
       "    <tr>\n",
       "      <td>1493</td>\n",
       "      <td>372.000000</td>\n",
       "      <td>27185.000000</td>\n",
       "      <td>47.0</td>\n",
       "    </tr>\n",
       "    <tr>\n",
       "      <td>1495</td>\n",
       "      <td>784.000000</td>\n",
       "      <td>25459.000000</td>\n",
       "      <td>68.0</td>\n",
       "    </tr>\n",
       "  </tbody>\n",
       "</table>\n",
       "<p>148 rows × 3 columns</p>\n",
       "</div>"
      ],
      "text/plain": [
       "         mean_duration  mean_mb_used  mean_message\n",
       "user_id                                           \n",
       "1000        320.750000  13411.875000          62.0\n",
       "1003        764.400000  11445.400000          76.0\n",
       "1004        123.375000  18612.125000         149.0\n",
       "1013        468.000000  15245.000000          21.0\n",
       "1016         61.000000  13394.000000          71.0\n",
       "...                ...           ...           ...\n",
       "1476        467.111111  16682.222222           5.0\n",
       "1485        584.000000  23401.000000         155.0\n",
       "1491        513.333333  17923.111111          48.0\n",
       "1493        372.000000  27185.000000          47.0\n",
       "1495        784.000000  25459.000000          68.0\n",
       "\n",
       "[148 rows x 3 columns]"
      ]
     },
     "execution_count": 59,
     "metadata": {},
     "output_type": "execute_result"
    }
   ],
   "source": [
    "mean_ultra.set_axis(['mean_duration','mean_mb_used','mean_message'],axis='columns',inplace=True)\n",
    "mean_ultra\n",
    "#Среднее значение mean_duration mean_mb_used mean_message для тарифа Ультра."
   ]
  },
  {
   "cell_type": "code",
   "execution_count": 60,
   "metadata": {},
   "outputs": [
    {
     "name": "stderr",
     "output_type": "stream",
     "text": [
      "No handles with labels found to put in legend.\n"
     ]
    },
    {
     "data": {
      "image/png": "[encoded data removed]",
      "text/plain": [
       "<Figure size 432x288 with 1 Axes>"
      ]
     },
     "metadata": {
      "needs_background": "light"
     },
     "output_type": "display_data"
    }
   ],
   "source": [
    "mean_ultra['mean_duration'].hist(bins=30, color='aqua', alpha=0.7)\n",
    "\n",
    "plt.title('Среднее значение минут разговора для всех пользователей тарифа Ultra')\n",
    "plt.legend()\n",
    "plt.show()"
   ]
  },
  {
   "cell_type": "code",
   "execution_count": 61,
   "metadata": {},
   "outputs": [],
   "source": [
    "mean_ultra['mean_minute_for_person']=tariff_ultra['duration']/len(group_all.query('tariff==\"ultra\"'))\n",
    "#Считаю среднее время разговора пользователей за каждый месяц пользователей ультра"
   ]
  },
  {
   "cell_type": "code",
   "execution_count": 62,
   "metadata": {},
   "outputs": [
    {
     "data": {
      "text/html": [
       "<div>\n",
       "<style scoped>\n",
       "    .dataframe tbody tr th:only-of-type {\n",
       "        vertical-align: middle;\n",
       "    }\n",
       "\n",
       "    .dataframe tbody tr th {\n",
       "        vertical-align: top;\n",
       "    }\n",
       "\n",
       "    .dataframe thead th {\n",
       "        text-align: right;\n",
       "    }\n",
       "</style>\n",
       "<table border=\"1\" class=\"dataframe\">\n",
       "  <thead>\n",
       "    <tr style=\"text-align: right;\">\n",
       "      <th></th>\n",
       "      <th>user_id</th>\n",
       "      <th>message_date</th>\n",
       "      <th>duration</th>\n",
       "      <th>mb_used</th>\n",
       "      <th>city</th>\n",
       "      <th>tariff</th>\n",
       "      <th>money</th>\n",
       "    </tr>\n",
       "  </thead>\n",
       "  <tbody>\n",
       "    <tr>\n",
       "      <td>1417</td>\n",
       "      <td>1000</td>\n",
       "      <td>57.0</td>\n",
       "      <td>466.0</td>\n",
       "      <td>14556.0</td>\n",
       "      <td>Краснодар</td>\n",
       "      <td>ultra</td>\n",
       "      <td>1950.0</td>\n",
       "    </tr>\n",
       "    <tr>\n",
       "      <td>1420</td>\n",
       "      <td>1000</td>\n",
       "      <td>70.0</td>\n",
       "      <td>333.0</td>\n",
       "      <td>9808.0</td>\n",
       "      <td>Краснодар</td>\n",
       "      <td>ultra</td>\n",
       "      <td>1950.0</td>\n",
       "    </tr>\n",
       "    <tr>\n",
       "      <td>1419</td>\n",
       "      <td>1000</td>\n",
       "      <td>58.0</td>\n",
       "      <td>338.0</td>\n",
       "      <td>14745.0</td>\n",
       "      <td>Краснодар</td>\n",
       "      <td>ultra</td>\n",
       "      <td>1950.0</td>\n",
       "    </tr>\n",
       "    <tr>\n",
       "      <td>1418</td>\n",
       "      <td>1000</td>\n",
       "      <td>73.0</td>\n",
       "      <td>350.0</td>\n",
       "      <td>14690.0</td>\n",
       "      <td>Краснодар</td>\n",
       "      <td>ultra</td>\n",
       "      <td>1950.0</td>\n",
       "    </tr>\n",
       "    <tr>\n",
       "      <td>1416</td>\n",
       "      <td>1000</td>\n",
       "      <td>81.0</td>\n",
       "      <td>408.0</td>\n",
       "      <td>14043.0</td>\n",
       "      <td>Краснодар</td>\n",
       "      <td>ultra</td>\n",
       "      <td>1950.0</td>\n",
       "    </tr>\n",
       "  </tbody>\n",
       "</table>\n",
       "</div>"
      ],
      "text/plain": [
       "      user_id  message_date  duration  mb_used       city tariff   money\n",
       "1417     1000          57.0     466.0  14556.0  Краснодар  ultra  1950.0\n",
       "1420     1000          70.0     333.0   9808.0  Краснодар  ultra  1950.0\n",
       "1419     1000          58.0     338.0  14745.0  Краснодар  ultra  1950.0\n",
       "1418     1000          73.0     350.0  14690.0  Краснодар  ultra  1950.0\n",
       "1416     1000          81.0     408.0  14043.0  Краснодар  ultra  1950.0"
      ]
     },
     "execution_count": 62,
     "metadata": {},
     "output_type": "execute_result"
    }
   ],
   "source": [
    "ultra_person_calls=group_all.query('tariff==\"ultra\"')# записываю в переменную всех пользователей Ультра для подсчета дисперсии \n",
    "ultra_person_calls.head()\n",
    "#Считаю дисперсию и отклонение для тарифа Ultra по месяцам"
   ]
  },
  {
   "cell_type": "markdown",
   "metadata": {},
   "source": [
    "Далее посчитаю дисперсию по всем показателям Ultra"
   ]
  },
  {
   "cell_type": "code",
   "execution_count": 63,
   "metadata": {},
   "outputs": [],
   "source": [
    "disp_sigma_ultra=ultra_person_calls.pivot_table(index='user_id',values='duration',aggfunc=(np.var))\n",
    "#Считаю дисперсию звонков\n",
    "\n",
    "disp_sigma_ultra_messages=ultra_person_calls.pivot_table(index='user_id',values='message_date',aggfunc=(np.var))\n",
    "#Считаю дисперсию сообщений\n",
    "\n",
    "disp_sigma_ultra_internet=ultra_person_calls.pivot_table(index='user_id',values='mb_used',aggfunc=(np.var))\n",
    "#Считаю дисперсию интернет"
   ]
  },
  {
   "cell_type": "markdown",
   "metadata": {},
   "source": [
    "Здесь я считаю стандартное отклонение по всем показателям Ultra"
   ]
  },
  {
   "cell_type": "code",
   "execution_count": 64,
   "metadata": {},
   "outputs": [],
   "source": [
    "disp_sigma_ultra['sigma']=disp_sigma_ultra['duration'].apply(np.sqrt)\n",
    "#Считаю стандартное отклонение по звонкам\n",
    "\n",
    "disp_sigma_ultra_messages['sigma']=disp_sigma_ultra_messages['message_date'].apply(np.sqrt)\n",
    "#Считаю стандартное отклонение по cообщениям\n",
    "\n",
    "disp_sigma_ultra_internet['sigma']=disp_sigma_ultra_internet['mb_used'].apply(np.sqrt)\n",
    "#Считаю стандартное отклонение по интернету"
   ]
  },
  {
   "cell_type": "code",
   "execution_count": 65,
   "metadata": {},
   "outputs": [],
   "source": [
    "disp_sigma_ultra.set_axis(['dispersion_call','sigma_call'],axis='columns',inplace=True)\n",
    "disp_sigma_ultra_messages.set_axis(['dispersion_message','sigma_message'],axis='columns',inplace=True)\n",
    "disp_sigma_ultra_internet.set_axis(['dispersion_internet','sigma_internet'],axis='columns',inplace=True)\n",
    "# Переименовываю столбцы\n",
    "\n",
    "disp_sigma_ultra=disp_sigma_ultra.merge(disp_sigma_ultra_messages,on='user_id')\n",
    "disp_sigma_ultra=disp_sigma_ultra.merge(disp_sigma_ultra_internet,on='user_id')\n",
    "mean_ultra=mean_ultra.merge(disp_sigma_ultra,on='user_id')"
   ]
  },
  {
   "cell_type": "markdown",
   "metadata": {},
   "source": [
    "Полная Таблица дисперсии и сигма (среднеквадратичное отклонение),средних для Ультра по месяцам"
   ]
  },
  {
   "cell_type": "code",
   "execution_count": 66,
   "metadata": {},
   "outputs": [
    {
     "data": {
      "text/html": [
       "<div>\n",
       "<style scoped>\n",
       "    .dataframe tbody tr th:only-of-type {\n",
       "        vertical-align: middle;\n",
       "    }\n",
       "\n",
       "    .dataframe tbody tr th {\n",
       "        vertical-align: top;\n",
       "    }\n",
       "\n",
       "    .dataframe thead th {\n",
       "        text-align: right;\n",
       "    }\n",
       "</style>\n",
       "<table border=\"1\" class=\"dataframe\">\n",
       "  <thead>\n",
       "    <tr style=\"text-align: right;\">\n",
       "      <th></th>\n",
       "      <th>mean_duration</th>\n",
       "      <th>mean_mb_used</th>\n",
       "      <th>mean_message</th>\n",
       "      <th>mean_minute_for_person</th>\n",
       "      <th>dispersion_call</th>\n",
       "      <th>sigma_call</th>\n",
       "      <th>dispersion_message</th>\n",
       "      <th>sigma_message</th>\n",
       "      <th>dispersion_internet</th>\n",
       "      <th>sigma_internet</th>\n",
       "      <th>mean_money</th>\n",
       "      <th>dispersion_money</th>\n",
       "      <th>sigma_money</th>\n",
       "    </tr>\n",
       "    <tr>\n",
       "      <th>user_id</th>\n",
       "      <th></th>\n",
       "      <th></th>\n",
       "      <th></th>\n",
       "      <th></th>\n",
       "      <th></th>\n",
       "      <th></th>\n",
       "      <th></th>\n",
       "      <th></th>\n",
       "      <th></th>\n",
       "      <th></th>\n",
       "      <th></th>\n",
       "      <th></th>\n",
       "      <th></th>\n",
       "    </tr>\n",
       "  </thead>\n",
       "  <tbody>\n",
       "    <tr>\n",
       "      <td>1000</td>\n",
       "      <td>320.750000</td>\n",
       "      <td>13411.875000</td>\n",
       "      <td>62.000000</td>\n",
       "      <td>2.605076</td>\n",
       "      <td>11239.071429</td>\n",
       "      <td>106.014487</td>\n",
       "      <td>337.142857</td>\n",
       "      <td>18.361450</td>\n",
       "      <td>3.414898e+07</td>\n",
       "      <td>5843.712896</td>\n",
       "      <td>1950.0</td>\n",
       "      <td>0.0</td>\n",
       "      <td>0.000000</td>\n",
       "    </tr>\n",
       "    <tr>\n",
       "      <td>1003</td>\n",
       "      <td>764.400000</td>\n",
       "      <td>11445.400000</td>\n",
       "      <td>76.000000</td>\n",
       "      <td>3.880203</td>\n",
       "      <td>49897.300000</td>\n",
       "      <td>223.377036</td>\n",
       "      <td>530.000000</td>\n",
       "      <td>23.021729</td>\n",
       "      <td>5.525783e+06</td>\n",
       "      <td>2350.698471</td>\n",
       "      <td>1950.0</td>\n",
       "      <td>0.0</td>\n",
       "      <td>0.000000</td>\n",
       "    </tr>\n",
       "    <tr>\n",
       "      <td>1004</td>\n",
       "      <td>123.375000</td>\n",
       "      <td>18612.125000</td>\n",
       "      <td>149.000000</td>\n",
       "      <td>1.002030</td>\n",
       "      <td>1570.267857</td>\n",
       "      <td>39.626605</td>\n",
       "      <td>669.142857</td>\n",
       "      <td>25.867796</td>\n",
       "      <td>2.314864e+07</td>\n",
       "      <td>4811.303282</td>\n",
       "      <td>1950.0</td>\n",
       "      <td>0.0</td>\n",
       "      <td>0.000000</td>\n",
       "    </tr>\n",
       "    <tr>\n",
       "      <td>1013</td>\n",
       "      <td>468.000000</td>\n",
       "      <td>15245.000000</td>\n",
       "      <td>21.000000</td>\n",
       "      <td>0.950254</td>\n",
       "      <td>19602.000000</td>\n",
       "      <td>140.007143</td>\n",
       "      <td>32.000000</td>\n",
       "      <td>5.656854</td>\n",
       "      <td>5.988557e+07</td>\n",
       "      <td>7738.576613</td>\n",
       "      <td>1950.0</td>\n",
       "      <td>0.0</td>\n",
       "      <td>0.000000</td>\n",
       "    </tr>\n",
       "    <tr>\n",
       "      <td>1016</td>\n",
       "      <td>61.000000</td>\n",
       "      <td>13394.000000</td>\n",
       "      <td>71.000000</td>\n",
       "      <td>0.123858</td>\n",
       "      <td>2178.000000</td>\n",
       "      <td>46.669048</td>\n",
       "      <td>2048.000000</td>\n",
       "      <td>45.254834</td>\n",
       "      <td>7.245672e+07</td>\n",
       "      <td>8512.151432</td>\n",
       "      <td>1950.0</td>\n",
       "      <td>0.0</td>\n",
       "      <td>0.000000</td>\n",
       "    </tr>\n",
       "    <tr>\n",
       "      <td>1018</td>\n",
       "      <td>673.111111</td>\n",
       "      <td>6887.333333</td>\n",
       "      <td>26.000000</td>\n",
       "      <td>6.150254</td>\n",
       "      <td>22759.361111</td>\n",
       "      <td>150.862060</td>\n",
       "      <td>43.500000</td>\n",
       "      <td>6.595453</td>\n",
       "      <td>4.417844e+06</td>\n",
       "      <td>2101.866849</td>\n",
       "      <td>1950.0</td>\n",
       "      <td>0.0</td>\n",
       "      <td>0.000000</td>\n",
       "    </tr>\n",
       "    <tr>\n",
       "      <td>1019</td>\n",
       "      <td>352.166667</td>\n",
       "      <td>15897.833333</td>\n",
       "      <td>18.333333</td>\n",
       "      <td>2.145178</td>\n",
       "      <td>21612.566667</td>\n",
       "      <td>147.012131</td>\n",
       "      <td>34.266667</td>\n",
       "      <td>5.853774</td>\n",
       "      <td>9.123801e+07</td>\n",
       "      <td>9551.858844</td>\n",
       "      <td>1950.0</td>\n",
       "      <td>0.0</td>\n",
       "      <td>0.000000</td>\n",
       "    </tr>\n",
       "    <tr>\n",
       "      <td>1021</td>\n",
       "      <td>924.222222</td>\n",
       "      <td>19373.333333</td>\n",
       "      <td>89.000000</td>\n",
       "      <td>8.444670</td>\n",
       "      <td>104168.444444</td>\n",
       "      <td>322.751366</td>\n",
       "      <td>913.750000</td>\n",
       "      <td>30.228298</td>\n",
       "      <td>4.943461e+07</td>\n",
       "      <td>7030.975359</td>\n",
       "      <td>1950.0</td>\n",
       "      <td>0.0</td>\n",
       "      <td>0.000000</td>\n",
       "    </tr>\n",
       "    <tr>\n",
       "      <td>1024</td>\n",
       "      <td>724.666667</td>\n",
       "      <td>27429.666667</td>\n",
       "      <td>0.000000</td>\n",
       "      <td>2.207107</td>\n",
       "      <td>322366.333333</td>\n",
       "      <td>567.773135</td>\n",
       "      <td>0.000000</td>\n",
       "      <td>0.000000</td>\n",
       "      <td>4.492294e+08</td>\n",
       "      <td>21195.031713</td>\n",
       "      <td>2900.0</td>\n",
       "      <td>952500.0</td>\n",
       "      <td>975.961065</td>\n",
       "    </tr>\n",
       "    <tr>\n",
       "      <td>1028</td>\n",
       "      <td>1054.666667</td>\n",
       "      <td>18812.333333</td>\n",
       "      <td>192.000000</td>\n",
       "      <td>3.212183</td>\n",
       "      <td>14656.333333</td>\n",
       "      <td>121.063344</td>\n",
       "      <td>751.000000</td>\n",
       "      <td>27.404379</td>\n",
       "      <td>1.153244e+07</td>\n",
       "      <td>3395.944100</td>\n",
       "      <td>1950.0</td>\n",
       "      <td>0.0</td>\n",
       "      <td>0.000000</td>\n",
       "    </tr>\n",
       "    <tr>\n",
       "      <td>1039</td>\n",
       "      <td>463.714286</td>\n",
       "      <td>20270.714286</td>\n",
       "      <td>119.000000</td>\n",
       "      <td>3.295431</td>\n",
       "      <td>23872.238095</td>\n",
       "      <td>154.506434</td>\n",
       "      <td>754.000000</td>\n",
       "      <td>27.459060</td>\n",
       "      <td>4.232066e+07</td>\n",
       "      <td>6505.433235</td>\n",
       "      <td>1950.0</td>\n",
       "      <td>0.0</td>\n",
       "      <td>0.000000</td>\n",
       "    </tr>\n",
       "    <tr>\n",
       "      <td>1048</td>\n",
       "      <td>649.400000</td>\n",
       "      <td>8127.000000</td>\n",
       "      <td>79.000000</td>\n",
       "      <td>3.296447</td>\n",
       "      <td>51397.300000</td>\n",
       "      <td>226.709726</td>\n",
       "      <td>684.500000</td>\n",
       "      <td>26.162951</td>\n",
       "      <td>2.573860e+05</td>\n",
       "      <td>507.332238</td>\n",
       "      <td>1950.0</td>\n",
       "      <td>0.0</td>\n",
       "      <td>0.000000</td>\n",
       "    </tr>\n",
       "  </tbody>\n",
       "</table>\n",
       "</div>"
      ],
      "text/plain": [
       "         mean_duration  mean_mb_used  mean_message  mean_minute_for_person  \\\n",
       "user_id                                                                      \n",
       "1000        320.750000  13411.875000     62.000000                2.605076   \n",
       "1003        764.400000  11445.400000     76.000000                3.880203   \n",
       "1004        123.375000  18612.125000    149.000000                1.002030   \n",
       "1013        468.000000  15245.000000     21.000000                0.950254   \n",
       "1016         61.000000  13394.000000     71.000000                0.123858   \n",
       "1018        673.111111   6887.333333     26.000000                6.150254   \n",
       "1019        352.166667  15897.833333     18.333333                2.145178   \n",
       "1021        924.222222  19373.333333     89.000000                8.444670   \n",
       "1024        724.666667  27429.666667      0.000000                2.207107   \n",
       "1028       1054.666667  18812.333333    192.000000                3.212183   \n",
       "1039        463.714286  20270.714286    119.000000                3.295431   \n",
       "1048        649.400000   8127.000000     79.000000                3.296447   \n",
       "\n",
       "         dispersion_call  sigma_call  dispersion_message  sigma_message  \\\n",
       "user_id                                                                   \n",
       "1000        11239.071429  106.014487          337.142857      18.361450   \n",
       "1003        49897.300000  223.377036          530.000000      23.021729   \n",
       "1004         1570.267857   39.626605          669.142857      25.867796   \n",
       "1013        19602.000000  140.007143           32.000000       5.656854   \n",
       "1016         2178.000000   46.669048         2048.000000      45.254834   \n",
       "1018        22759.361111  150.862060           43.500000       6.595453   \n",
       "1019        21612.566667  147.012131           34.266667       5.853774   \n",
       "1021       104168.444444  322.751366          913.750000      30.228298   \n",
       "1024       322366.333333  567.773135            0.000000       0.000000   \n",
       "1028        14656.333333  121.063344          751.000000      27.404379   \n",
       "1039        23872.238095  154.506434          754.000000      27.459060   \n",
       "1048        51397.300000  226.709726          684.500000      26.162951   \n",
       "\n",
       "         dispersion_internet  sigma_internet  mean_money  dispersion_money  \\\n",
       "user_id                                                                      \n",
       "1000            3.414898e+07     5843.712896      1950.0               0.0   \n",
       "1003            5.525783e+06     2350.698471      1950.0               0.0   \n",
       "1004            2.314864e+07     4811.303282      1950.0               0.0   \n",
       "1013            5.988557e+07     7738.576613      1950.0               0.0   \n",
       "1016            7.245672e+07     8512.151432      1950.0               0.0   \n",
       "1018            4.417844e+06     2101.866849      1950.0               0.0   \n",
       "1019            9.123801e+07     9551.858844      1950.0               0.0   \n",
       "1021            4.943461e+07     7030.975359      1950.0               0.0   \n",
       "1024            4.492294e+08    21195.031713      2900.0          952500.0   \n",
       "1028            1.153244e+07     3395.944100      1950.0               0.0   \n",
       "1039            4.232066e+07     6505.433235      1950.0               0.0   \n",
       "1048            2.573860e+05      507.332238      1950.0               0.0   \n",
       "\n",
       "         sigma_money  \n",
       "user_id               \n",
       "1000        0.000000  \n",
       "1003        0.000000  \n",
       "1004        0.000000  \n",
       "1013        0.000000  \n",
       "1016        0.000000  \n",
       "1018        0.000000  \n",
       "1019        0.000000  \n",
       "1021        0.000000  \n",
       "1024      975.961065  \n",
       "1028        0.000000  \n",
       "1039        0.000000  \n",
       "1048        0.000000  "
      ]
     },
     "execution_count": 66,
     "metadata": {},
     "output_type": "execute_result"
    }
   ],
   "source": [
    "mean_ultra['mean_money']=group_all.query('tariff==\"ultra\"').pivot_table(index='user_id',values='money',aggfunc=('mean')) \n",
    "# Считаю среднее по прибыли\n",
    "\n",
    "mean_ultra['dispersion_money']=group_all.query('tariff==\"ultra\"').pivot_table(index='user_id',values='money',aggfunc=(np.var))\n",
    "# Считаю дисперсию по прибыли\n",
    "\n",
    "mean_ultra['sigma_money']=np.sqrt(mean_ultra['dispersion_money']) \n",
    "# Считаю сигму по прибыли\n",
    "mean_ultra.head(12)"
   ]
  },
  {
   "cell_type": "code",
   "execution_count": 67,
   "metadata": {},
   "outputs": [
    {
     "name": "stdout",
     "output_type": "stream",
     "text": [
      "<class 'pandas.core.frame.DataFrame'>\n",
      "Int64Index: 141 entries, 1000 to 1495\n",
      "Data columns (total 13 columns):\n",
      "mean_duration             141 non-null float64\n",
      "mean_mb_used              141 non-null float64\n",
      "mean_message              141 non-null float64\n",
      "mean_minute_for_person    141 non-null float64\n",
      "dispersion_call           141 non-null float64\n",
      "sigma_call                141 non-null float64\n",
      "dispersion_message        141 non-null float64\n",
      "sigma_message             141 non-null float64\n",
      "dispersion_internet       141 non-null float64\n",
      "sigma_internet            141 non-null float64\n",
      "mean_money                141 non-null float64\n",
      "dispersion_money          141 non-null float64\n",
      "sigma_money               141 non-null float64\n",
      "dtypes: float64(13)\n",
      "memory usage: 15.4 KB\n"
     ]
    }
   ],
   "source": [
    "mean_ultra.info()"
   ]
  },
  {
   "cell_type": "code",
   "execution_count": 68,
   "metadata": {},
   "outputs": [],
   "source": [
    "mean_smart=(group_all\n",
    "     .query('tariff==\"smart\"')\n",
    "     .pivot_table(index='user_id',values=('duration','message_date','mb_used'),aggfunc=('mean'))    \n",
    ")"
   ]
  },
  {
   "cell_type": "markdown",
   "metadata": {},
   "source": [
    "Cрез по месяцам для Смарт и расчета средних значений по звонка, сообщениям, интернету"
   ]
  },
  {
   "cell_type": "markdown",
   "metadata": {},
   "source": [
    "Среднее значение mean_duration mean_mb_used mean_message для тарифа Smart."
   ]
  },
  {
   "cell_type": "code",
   "execution_count": 69,
   "metadata": {},
   "outputs": [
    {
     "data": {
      "text/html": [
       "<div>\n",
       "<style scoped>\n",
       "    .dataframe tbody tr th:only-of-type {\n",
       "        vertical-align: middle;\n",
       "    }\n",
       "\n",
       "    .dataframe tbody tr th {\n",
       "        vertical-align: top;\n",
       "    }\n",
       "\n",
       "    .dataframe thead th {\n",
       "        text-align: right;\n",
       "    }\n",
       "</style>\n",
       "<table border=\"1\" class=\"dataframe\">\n",
       "  <thead>\n",
       "    <tr style=\"text-align: right;\">\n",
       "      <th></th>\n",
       "      <th>mean_duration</th>\n",
       "      <th>mean_mb_used</th>\n",
       "      <th>mean_message</th>\n",
       "    </tr>\n",
       "    <tr>\n",
       "      <th>user_id</th>\n",
       "      <th></th>\n",
       "      <th></th>\n",
       "      <th></th>\n",
       "    </tr>\n",
       "  </thead>\n",
       "  <tbody>\n",
       "    <tr>\n",
       "      <td>1001</td>\n",
       "      <td>422.000000</td>\n",
       "      <td>16211.500000</td>\n",
       "      <td>0.0</td>\n",
       "    </tr>\n",
       "    <tr>\n",
       "      <td>1002</td>\n",
       "      <td>216.714286</td>\n",
       "      <td>16555.714286</td>\n",
       "      <td>10.0</td>\n",
       "    </tr>\n",
       "    <tr>\n",
       "      <td>1005</td>\n",
       "      <td>550.416667</td>\n",
       "      <td>8296.833333</td>\n",
       "      <td>46.0</td>\n",
       "    </tr>\n",
       "    <tr>\n",
       "      <td>1006</td>\n",
       "      <td>318.272727</td>\n",
       "      <td>14908.272727</td>\n",
       "      <td>0.0</td>\n",
       "    </tr>\n",
       "    <tr>\n",
       "      <td>1007</td>\n",
       "      <td>486.555556</td>\n",
       "      <td>14605.000000</td>\n",
       "      <td>25.0</td>\n",
       "    </tr>\n",
       "    <tr>\n",
       "      <td>...</td>\n",
       "      <td>...</td>\n",
       "      <td>...</td>\n",
       "      <td>...</td>\n",
       "    </tr>\n",
       "    <tr>\n",
       "      <td>1494</td>\n",
       "      <td>389.200000</td>\n",
       "      <td>15379.000000</td>\n",
       "      <td>0.0</td>\n",
       "    </tr>\n",
       "    <tr>\n",
       "      <td>1496</td>\n",
       "      <td>498.666667</td>\n",
       "      <td>22548.250000</td>\n",
       "      <td>39.0</td>\n",
       "    </tr>\n",
       "    <tr>\n",
       "      <td>1497</td>\n",
       "      <td>468.666667</td>\n",
       "      <td>15174.000000</td>\n",
       "      <td>17.0</td>\n",
       "    </tr>\n",
       "    <tr>\n",
       "      <td>1498</td>\n",
       "      <td>323.250000</td>\n",
       "      <td>18585.000000</td>\n",
       "      <td>42.0</td>\n",
       "    </tr>\n",
       "    <tr>\n",
       "      <td>1499</td>\n",
       "      <td>405.750000</td>\n",
       "      <td>12648.000000</td>\n",
       "      <td>46.0</td>\n",
       "    </tr>\n",
       "  </tbody>\n",
       "</table>\n",
       "<p>350 rows × 3 columns</p>\n",
       "</div>"
      ],
      "text/plain": [
       "         mean_duration  mean_mb_used  mean_message\n",
       "user_id                                           \n",
       "1001        422.000000  16211.500000           0.0\n",
       "1002        216.714286  16555.714286          10.0\n",
       "1005        550.416667   8296.833333          46.0\n",
       "1006        318.272727  14908.272727           0.0\n",
       "1007        486.555556  14605.000000          25.0\n",
       "...                ...           ...           ...\n",
       "1494        389.200000  15379.000000           0.0\n",
       "1496        498.666667  22548.250000          39.0\n",
       "1497        468.666667  15174.000000          17.0\n",
       "1498        323.250000  18585.000000          42.0\n",
       "1499        405.750000  12648.000000          46.0\n",
       "\n",
       "[350 rows x 3 columns]"
      ]
     },
     "execution_count": 69,
     "metadata": {},
     "output_type": "execute_result"
    }
   ],
   "source": [
    "mean_smart.set_axis(['mean_duration','mean_mb_used','mean_message'],axis='columns',inplace=True)\n",
    "mean_smart\n",
    "#Среднее значение mean_duration mean_mb_used mean_message для тарифа Смарт."
   ]
  },
  {
   "cell_type": "code",
   "execution_count": 70,
   "metadata": {},
   "outputs": [
    {
     "name": "stderr",
     "output_type": "stream",
     "text": [
      "No handles with labels found to put in legend.\n"
     ]
    },
    {
     "data": {
      "image/png": "[encoded data removed]",
      "text/plain": [
       "<Figure size 432x288 with 1 Axes>"
      ]
     },
     "metadata": {
      "needs_background": "light"
     },
     "output_type": "display_data"
    }
   ],
   "source": [
    "mean_smart['mean_duration'].hist(bins=30, color='aqua', alpha=0.7)\n",
    "\n",
    "plt.title('Среднее значение минут разговора для всех пользователей тарифа Smart')\n",
    "plt.legend()\n",
    "plt.show()"
   ]
  },
  {
   "cell_type": "markdown",
   "metadata": {},
   "source": [
    "Среднее время разговора для каждого месяца Смарт"
   ]
  },
  {
   "cell_type": "code",
   "execution_count": 71,
   "metadata": {},
   "outputs": [],
   "source": [
    "mean_smart['mean_minute_for_person']=tariff_smart['duration']/len(group_all.query('tariff==\"smart\"'))\n",
    "#Считаю среднее время разговора пользователей за каждый месяц пользователей смарт"
   ]
  },
  {
   "cell_type": "code",
   "execution_count": 72,
   "metadata": {},
   "outputs": [
    {
     "data": {
      "text/html": [
       "<div>\n",
       "<style scoped>\n",
       "    .dataframe tbody tr th:only-of-type {\n",
       "        vertical-align: middle;\n",
       "    }\n",
       "\n",
       "    .dataframe tbody tr th {\n",
       "        vertical-align: top;\n",
       "    }\n",
       "\n",
       "    .dataframe thead th {\n",
       "        text-align: right;\n",
       "    }\n",
       "</style>\n",
       "<table border=\"1\" class=\"dataframe\">\n",
       "  <thead>\n",
       "    <tr style=\"text-align: right;\">\n",
       "      <th></th>\n",
       "      <th>user_id</th>\n",
       "      <th>message_date</th>\n",
       "      <th>duration</th>\n",
       "      <th>mb_used</th>\n",
       "      <th>city</th>\n",
       "      <th>tariff</th>\n",
       "      <th>money</th>\n",
       "    </tr>\n",
       "  </thead>\n",
       "  <tbody>\n",
       "    <tr>\n",
       "      <td>3197</td>\n",
       "      <td>1001</td>\n",
       "      <td>0.0</td>\n",
       "      <td>430.0</td>\n",
       "      <td>18405.0</td>\n",
       "      <td>Москва</td>\n",
       "      <td>smart</td>\n",
       "      <td>1150.0</td>\n",
       "    </tr>\n",
       "    <tr>\n",
       "      <td>3198</td>\n",
       "      <td>1001</td>\n",
       "      <td>0.0</td>\n",
       "      <td>414.0</td>\n",
       "      <td>14018.0</td>\n",
       "      <td>Москва</td>\n",
       "      <td>smart</td>\n",
       "      <td>550.0</td>\n",
       "    </tr>\n",
       "    <tr>\n",
       "      <td>1723</td>\n",
       "      <td>1002</td>\n",
       "      <td>16.0</td>\n",
       "      <td>243.0</td>\n",
       "      <td>18566.0</td>\n",
       "      <td>Стерлитамак</td>\n",
       "      <td>smart</td>\n",
       "      <td>1350.0</td>\n",
       "    </tr>\n",
       "    <tr>\n",
       "      <td>1724</td>\n",
       "      <td>1002</td>\n",
       "      <td>12.0</td>\n",
       "      <td>236.0</td>\n",
       "      <td>18087.0</td>\n",
       "      <td>Стерлитамак</td>\n",
       "      <td>smart</td>\n",
       "      <td>1150.0</td>\n",
       "    </tr>\n",
       "    <tr>\n",
       "      <td>1721</td>\n",
       "      <td>1002</td>\n",
       "      <td>4.0</td>\n",
       "      <td>206.0</td>\n",
       "      <td>16669.0</td>\n",
       "      <td>Стерлитамак</td>\n",
       "      <td>smart</td>\n",
       "      <td>950.0</td>\n",
       "    </tr>\n",
       "  </tbody>\n",
       "</table>\n",
       "</div>"
      ],
      "text/plain": [
       "      user_id  message_date  duration  mb_used         city tariff   money\n",
       "3197     1001           0.0     430.0  18405.0       Москва  smart  1150.0\n",
       "3198     1001           0.0     414.0  14018.0       Москва  smart   550.0\n",
       "1723     1002          16.0     243.0  18566.0  Стерлитамак  smart  1350.0\n",
       "1724     1002          12.0     236.0  18087.0  Стерлитамак  smart  1150.0\n",
       "1721     1002           4.0     206.0  16669.0  Стерлитамак  smart   950.0"
      ]
     },
     "execution_count": 72,
     "metadata": {},
     "output_type": "execute_result"
    }
   ],
   "source": [
    "smart_person_calls=group_all.query('tariff==\"smart\"')# записываю в переменную всех пользователей Смарт для подсчета дисперсии \n",
    "smart_person_calls.head()\n",
    "#Считаю дисперсию и отклонение для тарифа Smart по месяцам"
   ]
  },
  {
   "cell_type": "markdown",
   "metadata": {},
   "source": [
    "Cчитаю дисперсию и отклонение для тарифа Smart по месяцам"
   ]
  },
  {
   "cell_type": "code",
   "execution_count": 73,
   "metadata": {},
   "outputs": [],
   "source": [
    "disp_sigma_smart=smart_person_calls.pivot_table(index='user_id',values='duration',aggfunc=(np.var))\n",
    "#Считаю дисперсию звонков\n",
    "\n",
    "disp_sigma_smart_messages=smart_person_calls.pivot_table(index='user_id',values='message_date',aggfunc=(np.var))\n",
    "#Считаю дисперсию сообщений\n",
    "\n",
    "disp_sigma_smart_internet=smart_person_calls.pivot_table(index='user_id',values='mb_used',aggfunc=(np.var))\n",
    "#Считаю дисперсию интернет"
   ]
  },
  {
   "cell_type": "markdown",
   "metadata": {},
   "source": [
    "Здесь я считаю стандартное отклонение по всем показателям Smart"
   ]
  },
  {
   "cell_type": "code",
   "execution_count": 74,
   "metadata": {},
   "outputs": [],
   "source": [
    "disp_sigma_smart['sigma']=disp_sigma_smart['duration'].apply(np.sqrt)\n",
    "#Считаю стандартное отклонение по звонкам\n",
    "\n",
    "disp_sigma_smart_messages['sigma']=disp_sigma_smart_messages['message_date'].apply(np.sqrt)\n",
    "#Считаю стандартное отклонение по cообщениям\n",
    "\n",
    "disp_sigma_smart_internet['sigma']=disp_sigma_smart_internet['mb_used'].apply(np.sqrt)\n",
    "#Считаю стандартное отклонение по интернету"
   ]
  },
  {
   "cell_type": "code",
   "execution_count": 75,
   "metadata": {},
   "outputs": [],
   "source": [
    "disp_sigma_smart.set_axis(['dispersion_call','sigma_call'],axis='columns',inplace=True)\n",
    "disp_sigma_smart_messages.set_axis(['dispersion_message','sigma_message'],axis='columns',inplace=True)\n",
    "disp_sigma_smart_internet.set_axis(['dispersion_internet','sigma_internet'],axis='columns',inplace=True)\n",
    "# Переименовываю столбцы\n",
    "\n",
    "disp_sigma_smart=disp_sigma_smart.merge(disp_sigma_smart_messages,on='user_id')\n",
    "disp_sigma_smart=disp_sigma_smart.merge(disp_sigma_smart_internet,on='user_id')\n",
    "mean_smart=mean_smart.merge(disp_sigma_smart,on='user_id')"
   ]
  },
  {
   "cell_type": "markdown",
   "metadata": {},
   "source": [
    "Полная Таблица дисперсии и сигма (среднеквадратичное отклонение),средних для Смарта по месяцам"
   ]
  },
  {
   "cell_type": "code",
   "execution_count": 76,
   "metadata": {},
   "outputs": [
    {
     "data": {
      "text/html": [
       "<div>\n",
       "<style scoped>\n",
       "    .dataframe tbody tr th:only-of-type {\n",
       "        vertical-align: middle;\n",
       "    }\n",
       "\n",
       "    .dataframe tbody tr th {\n",
       "        vertical-align: top;\n",
       "    }\n",
       "\n",
       "    .dataframe thead th {\n",
       "        text-align: right;\n",
       "    }\n",
       "</style>\n",
       "<table border=\"1\" class=\"dataframe\">\n",
       "  <thead>\n",
       "    <tr style=\"text-align: right;\">\n",
       "      <th></th>\n",
       "      <th>mean_duration</th>\n",
       "      <th>mean_mb_used</th>\n",
       "      <th>mean_message</th>\n",
       "      <th>mean_minute_for_person</th>\n",
       "      <th>dispersion_call</th>\n",
       "      <th>sigma_call</th>\n",
       "      <th>dispersion_message</th>\n",
       "      <th>sigma_message</th>\n",
       "      <th>dispersion_internet</th>\n",
       "      <th>sigma_internet</th>\n",
       "      <th>mean_money</th>\n",
       "      <th>dispersion_money</th>\n",
       "      <th>sigma_money</th>\n",
       "    </tr>\n",
       "    <tr>\n",
       "      <th>user_id</th>\n",
       "      <th></th>\n",
       "      <th></th>\n",
       "      <th></th>\n",
       "      <th></th>\n",
       "      <th></th>\n",
       "      <th></th>\n",
       "      <th></th>\n",
       "      <th></th>\n",
       "      <th></th>\n",
       "      <th></th>\n",
       "      <th></th>\n",
       "      <th></th>\n",
       "      <th></th>\n",
       "    </tr>\n",
       "  </thead>\n",
       "  <tbody>\n",
       "    <tr>\n",
       "      <td>1001</td>\n",
       "      <td>422.000000</td>\n",
       "      <td>16211.500000</td>\n",
       "      <td>0.0</td>\n",
       "      <td>0.378645</td>\n",
       "      <td>128.000000</td>\n",
       "      <td>11.313708</td>\n",
       "      <td>0.000000</td>\n",
       "      <td>0.000000</td>\n",
       "      <td>9.622884e+06</td>\n",
       "      <td>3102.077449</td>\n",
       "      <td>850.000000</td>\n",
       "      <td>180000.000000</td>\n",
       "      <td>424.264069</td>\n",
       "    </tr>\n",
       "    <tr>\n",
       "      <td>1002</td>\n",
       "      <td>216.714286</td>\n",
       "      <td>16555.714286</td>\n",
       "      <td>10.0</td>\n",
       "      <td>0.680574</td>\n",
       "      <td>2729.238095</td>\n",
       "      <td>52.242110</td>\n",
       "      <td>20.333333</td>\n",
       "      <td>4.509250</td>\n",
       "      <td>1.020805e+07</td>\n",
       "      <td>3195.004106</td>\n",
       "      <td>1035.714286</td>\n",
       "      <td>144761.904762</td>\n",
       "      <td>380.475892</td>\n",
       "    </tr>\n",
       "    <tr>\n",
       "      <td>1005</td>\n",
       "      <td>550.416667</td>\n",
       "      <td>8296.833333</td>\n",
       "      <td>46.0</td>\n",
       "      <td>2.963212</td>\n",
       "      <td>26633.901515</td>\n",
       "      <td>163.198963</td>\n",
       "      <td>207.272727</td>\n",
       "      <td>14.396969</td>\n",
       "      <td>5.946991e+06</td>\n",
       "      <td>2438.645370</td>\n",
       "      <td>827.000000</td>\n",
       "      <td>50169.818182</td>\n",
       "      <td>223.986201</td>\n",
       "    </tr>\n",
       "    <tr>\n",
       "      <td>1006</td>\n",
       "      <td>318.272727</td>\n",
       "      <td>14908.272727</td>\n",
       "      <td>0.0</td>\n",
       "      <td>1.570659</td>\n",
       "      <td>11980.218182</td>\n",
       "      <td>109.454183</td>\n",
       "      <td>0.000000</td>\n",
       "      <td>0.000000</td>\n",
       "      <td>2.825719e+07</td>\n",
       "      <td>5315.748773</td>\n",
       "      <td>931.818182</td>\n",
       "      <td>187636.363636</td>\n",
       "      <td>433.170132</td>\n",
       "    </tr>\n",
       "    <tr>\n",
       "      <td>1007</td>\n",
       "      <td>486.555556</td>\n",
       "      <td>14605.000000</td>\n",
       "      <td>25.0</td>\n",
       "      <td>1.964558</td>\n",
       "      <td>17198.277778</td>\n",
       "      <td>131.142204</td>\n",
       "      <td>62.500000</td>\n",
       "      <td>7.905694</td>\n",
       "      <td>1.290945e+07</td>\n",
       "      <td>3592.972585</td>\n",
       "      <td>913.444444</td>\n",
       "      <td>153123.027778</td>\n",
       "      <td>391.309376</td>\n",
       "    </tr>\n",
       "    <tr>\n",
       "      <td>1009</td>\n",
       "      <td>218.900000</td>\n",
       "      <td>17718.600000</td>\n",
       "      <td>11.0</td>\n",
       "      <td>0.982055</td>\n",
       "      <td>5021.655556</td>\n",
       "      <td>70.863641</td>\n",
       "      <td>16.222222</td>\n",
       "      <td>4.027682</td>\n",
       "      <td>2.751240e+07</td>\n",
       "      <td>5245.226681</td>\n",
       "      <td>1310.000000</td>\n",
       "      <td>584888.888889</td>\n",
       "      <td>764.780288</td>\n",
       "    </tr>\n",
       "    <tr>\n",
       "      <td>1010</td>\n",
       "      <td>231.000000</td>\n",
       "      <td>16713.200000</td>\n",
       "      <td>0.0</td>\n",
       "      <td>0.518170</td>\n",
       "      <td>7636.000000</td>\n",
       "      <td>87.384209</td>\n",
       "      <td>0.000000</td>\n",
       "      <td>0.000000</td>\n",
       "      <td>5.579348e+06</td>\n",
       "      <td>2362.064288</td>\n",
       "      <td>910.000000</td>\n",
       "      <td>168000.000000</td>\n",
       "      <td>409.878031</td>\n",
       "    </tr>\n",
       "    <tr>\n",
       "      <td>1011</td>\n",
       "      <td>432.800000</td>\n",
       "      <td>18786.200000</td>\n",
       "      <td>11.0</td>\n",
       "      <td>1.941678</td>\n",
       "      <td>13951.066667</td>\n",
       "      <td>118.114634</td>\n",
       "      <td>17.333333</td>\n",
       "      <td>4.163332</td>\n",
       "      <td>2.709081e+07</td>\n",
       "      <td>5204.882895</td>\n",
       "      <td>1514.400000</td>\n",
       "      <td>365677.377778</td>\n",
       "      <td>604.712641</td>\n",
       "    </tr>\n",
       "    <tr>\n",
       "      <td>1012</td>\n",
       "      <td>251.600000</td>\n",
       "      <td>20004.900000</td>\n",
       "      <td>15.0</td>\n",
       "      <td>1.128757</td>\n",
       "      <td>14870.711111</td>\n",
       "      <td>121.945525</td>\n",
       "      <td>45.333333</td>\n",
       "      <td>6.733003</td>\n",
       "      <td>5.818203e+07</td>\n",
       "      <td>7627.714562</td>\n",
       "      <td>1810.000000</td>\n",
       "      <td>898222.222222</td>\n",
       "      <td>947.745864</td>\n",
       "    </tr>\n",
       "    <tr>\n",
       "      <td>1014</td>\n",
       "      <td>227.125000</td>\n",
       "      <td>23813.500000</td>\n",
       "      <td>44.0</td>\n",
       "      <td>0.815164</td>\n",
       "      <td>5388.125000</td>\n",
       "      <td>73.403849</td>\n",
       "      <td>50.285714</td>\n",
       "      <td>7.091242</td>\n",
       "      <td>2.108627e+07</td>\n",
       "      <td>4591.978565</td>\n",
       "      <td>2351.500000</td>\n",
       "      <td>640181.714286</td>\n",
       "      <td>800.113563</td>\n",
       "    </tr>\n",
       "    <tr>\n",
       "      <td>1015</td>\n",
       "      <td>423.111111</td>\n",
       "      <td>18495.444444</td>\n",
       "      <td>65.0</td>\n",
       "      <td>1.708389</td>\n",
       "      <td>27903.611111</td>\n",
       "      <td>167.043740</td>\n",
       "      <td>610.250000</td>\n",
       "      <td>24.703239</td>\n",
       "      <td>6.054517e+07</td>\n",
       "      <td>7781.077610</td>\n",
       "      <td>1677.222222</td>\n",
       "      <td>751283.194444</td>\n",
       "      <td>866.765940</td>\n",
       "    </tr>\n",
       "    <tr>\n",
       "      <td>1017</td>\n",
       "      <td>363.000000</td>\n",
       "      <td>16803.375000</td>\n",
       "      <td>0.0</td>\n",
       "      <td>1.302826</td>\n",
       "      <td>13142.000000</td>\n",
       "      <td>114.638562</td>\n",
       "      <td>0.000000</td>\n",
       "      <td>0.000000</td>\n",
       "      <td>2.222092e+07</td>\n",
       "      <td>4713.906749</td>\n",
       "      <td>1150.000000</td>\n",
       "      <td>194285.714286</td>\n",
       "      <td>440.778532</td>\n",
       "    </tr>\n",
       "  </tbody>\n",
       "</table>\n",
       "</div>"
      ],
      "text/plain": [
       "         mean_duration  mean_mb_used  mean_message  mean_minute_for_person  \\\n",
       "user_id                                                                      \n",
       "1001        422.000000  16211.500000           0.0                0.378645   \n",
       "1002        216.714286  16555.714286          10.0                0.680574   \n",
       "1005        550.416667   8296.833333          46.0                2.963212   \n",
       "1006        318.272727  14908.272727           0.0                1.570659   \n",
       "1007        486.555556  14605.000000          25.0                1.964558   \n",
       "1009        218.900000  17718.600000          11.0                0.982055   \n",
       "1010        231.000000  16713.200000           0.0                0.518170   \n",
       "1011        432.800000  18786.200000          11.0                1.941678   \n",
       "1012        251.600000  20004.900000          15.0                1.128757   \n",
       "1014        227.125000  23813.500000          44.0                0.815164   \n",
       "1015        423.111111  18495.444444          65.0                1.708389   \n",
       "1017        363.000000  16803.375000           0.0                1.302826   \n",
       "\n",
       "         dispersion_call  sigma_call  dispersion_message  sigma_message  \\\n",
       "user_id                                                                   \n",
       "1001          128.000000   11.313708            0.000000       0.000000   \n",
       "1002         2729.238095   52.242110           20.333333       4.509250   \n",
       "1005        26633.901515  163.198963          207.272727      14.396969   \n",
       "1006        11980.218182  109.454183            0.000000       0.000000   \n",
       "1007        17198.277778  131.142204           62.500000       7.905694   \n",
       "1009         5021.655556   70.863641           16.222222       4.027682   \n",
       "1010         7636.000000   87.384209            0.000000       0.000000   \n",
       "1011        13951.066667  118.114634           17.333333       4.163332   \n",
       "1012        14870.711111  121.945525           45.333333       6.733003   \n",
       "1014         5388.125000   73.403849           50.285714       7.091242   \n",
       "1015        27903.611111  167.043740          610.250000      24.703239   \n",
       "1017        13142.000000  114.638562            0.000000       0.000000   \n",
       "\n",
       "         dispersion_internet  sigma_internet   mean_money  dispersion_money  \\\n",
       "user_id                                                                       \n",
       "1001            9.622884e+06     3102.077449   850.000000     180000.000000   \n",
       "1002            1.020805e+07     3195.004106  1035.714286     144761.904762   \n",
       "1005            5.946991e+06     2438.645370   827.000000      50169.818182   \n",
       "1006            2.825719e+07     5315.748773   931.818182     187636.363636   \n",
       "1007            1.290945e+07     3592.972585   913.444444     153123.027778   \n",
       "1009            2.751240e+07     5245.226681  1310.000000     584888.888889   \n",
       "1010            5.579348e+06     2362.064288   910.000000     168000.000000   \n",
       "1011            2.709081e+07     5204.882895  1514.400000     365677.377778   \n",
       "1012            5.818203e+07     7627.714562  1810.000000     898222.222222   \n",
       "1014            2.108627e+07     4591.978565  2351.500000     640181.714286   \n",
       "1015            6.054517e+07     7781.077610  1677.222222     751283.194444   \n",
       "1017            2.222092e+07     4713.906749  1150.000000     194285.714286   \n",
       "\n",
       "         sigma_money  \n",
       "user_id               \n",
       "1001      424.264069  \n",
       "1002      380.475892  \n",
       "1005      223.986201  \n",
       "1006      433.170132  \n",
       "1007      391.309376  \n",
       "1009      764.780288  \n",
       "1010      409.878031  \n",
       "1011      604.712641  \n",
       "1012      947.745864  \n",
       "1014      800.113563  \n",
       "1015      866.765940  \n",
       "1017      440.778532  "
      ]
     },
     "execution_count": 76,
     "metadata": {},
     "output_type": "execute_result"
    }
   ],
   "source": [
    "mean_smart['mean_money']=group_all.query('tariff==\"smart\"').pivot_table(index='user_id',values='money',aggfunc=('mean')) \n",
    "# Считаю среднее по прибыли\n",
    "\n",
    "mean_smart['dispersion_money']=group_all.query('tariff==\"smart\"').pivot_table(index='user_id',values='money',aggfunc=(np.var))\n",
    "# Считаю дисперсию по прибыли\n",
    "\n",
    "mean_smart['sigma_money']=np.sqrt(mean_smart['dispersion_money']) \n",
    "# Считаю сигму по прибыли\n",
    "mean_smart.head(12)"
   ]
  },
  {
   "cell_type": "code",
   "execution_count": 77,
   "metadata": {},
   "outputs": [
    {
     "name": "stdout",
     "output_type": "stream",
     "text": [
      "<class 'pandas.core.frame.DataFrame'>\n",
      "Int64Index: 323 entries, 1001 to 1499\n",
      "Data columns (total 13 columns):\n",
      "mean_duration             323 non-null float64\n",
      "mean_mb_used              323 non-null float64\n",
      "mean_message              323 non-null float64\n",
      "mean_minute_for_person    323 non-null float64\n",
      "dispersion_call           323 non-null float64\n",
      "sigma_call                323 non-null float64\n",
      "dispersion_message        323 non-null float64\n",
      "sigma_message             323 non-null float64\n",
      "dispersion_internet       323 non-null float64\n",
      "sigma_internet            323 non-null float64\n",
      "mean_money                323 non-null float64\n",
      "dispersion_money          323 non-null float64\n",
      "sigma_money               323 non-null float64\n",
      "dtypes: float64(13)\n",
      "memory usage: 35.3 KB\n"
     ]
    }
   ],
   "source": [
    "mean_smart.info()"
   ]
  },
  {
   "cell_type": "code",
   "execution_count": 78,
   "metadata": {},
   "outputs": [
    {
     "data": {
      "text/html": [
       "<style  type=\"text/css\" >\n",
       "</style><table id=\"T_3ec056d6_7de5_11ec_a578_02420a397147\" ><caption>Статистики для числа сообщений в месяц</caption><thead>    <tr>        <th class=\"blank level0\" ></th>        <th class=\"col_heading level0 col0\" >msg_mean</th>        <th class=\"col_heading level0 col1\" >msg_var</th>        <th class=\"col_heading level0 col2\" >msg_std</th>    </tr>    <tr>        <th class=\"index_name level0\" >tariff</th>        <th class=\"blank\" ></th>        <th class=\"blank\" ></th>        <th class=\"blank\" ></th>    </tr></thead><tbody>\n",
       "                <tr>\n",
       "                        <th id=\"T_3ec056d6_7de5_11ec_a578_02420a397147level0_row0\" class=\"row_heading level0 row0\" >smart</th>\n",
       "                        <td id=\"T_3ec056d6_7de5_11ec_a578_02420a397147row0_col0\" class=\"data row0 col0\" >33.384</td>\n",
       "                        <td id=\"T_3ec056d6_7de5_11ec_a578_02420a397147row0_col1\" class=\"data row0 col1\" >796.813</td>\n",
       "                        <td id=\"T_3ec056d6_7de5_11ec_a578_02420a397147row0_col2\" class=\"data row0 col2\" >28.2279</td>\n",
       "            </tr>\n",
       "            <tr>\n",
       "                        <th id=\"T_3ec056d6_7de5_11ec_a578_02420a397147level0_row1\" class=\"row_heading level0 row1\" >ultra</th>\n",
       "                        <td id=\"T_3ec056d6_7de5_11ec_a578_02420a397147row1_col0\" class=\"data row1 col0\" >49.3635</td>\n",
       "                        <td id=\"T_3ec056d6_7de5_11ec_a578_02420a397147row1_col1\" class=\"data row1 col1\" >2285.27</td>\n",
       "                        <td id=\"T_3ec056d6_7de5_11ec_a578_02420a397147row1_col2\" class=\"data row1 col2\" >47.8045</td>\n",
       "            </tr>\n",
       "    </tbody></table>"
      ],
      "text/plain": [
       "<pandas.io.formats.style.Styler at 0x7f223942a090>"
      ]
     },
     "execution_count": 78,
     "metadata": {},
     "output_type": "execute_result"
    }
   ],
   "source": [
    "group_all.groupby('tariff')\\\n",
    "         .agg(msg_mean=('message_date','mean'), msg_var=('message_date', 'var'), msg_std=('message_date','std'))\\\n",
    "         .style.set_caption('Статистики для числа сообщений в месяц')\n",
    "\n",
    "# Аналогично и для других параметров можно сделать"
   ]
  },
  {
   "cell_type": "markdown",
   "metadata": {},
   "source": [
    "## Время графиков"
   ]
  },
  {
   "cell_type": "markdown",
   "metadata": {},
   "source": [
    "**Гистограмма распределия длительности звонков пользователей Ультра**"
   ]
  },
  {
   "cell_type": "code",
   "execution_count": 79,
   "metadata": {},
   "outputs": [
    {
     "data": {
      "text/plain": [
       "<matplotlib.axes._subplots.AxesSubplot at 0x7f22393a05d0>"
      ]
     },
     "execution_count": 79,
     "metadata": {},
     "output_type": "execute_result"
    },
    {
     "data": {
      "image/png": "[encoded data removed]",
      "text/plain": [
       "<Figure size 432x288 with 1 Axes>"
      ]
     },
     "metadata": {
      "needs_background": "light"
     },
     "output_type": "display_data"
    }
   ],
   "source": [
    "sns.distplot(ultra_person_calls['duration'],bins=30)"
   ]
  },
  {
   "cell_type": "markdown",
   "metadata": {},
   "source": [
    "По гистограмме можно сделать вывод, что больше всего пользователи тарифа Ультра разговаривают около 1 мин"
   ]
  },
  {
   "cell_type": "markdown",
   "metadata": {},
   "source": [
    "**Гистограмма распределия длительности звонков пользователей Смарт**"
   ]
  },
  {
   "cell_type": "code",
   "execution_count": 80,
   "metadata": {},
   "outputs": [
    {
     "data": {
      "text/plain": [
       "<matplotlib.axes._subplots.AxesSubplot at 0x7f223941b9d0>"
      ]
     },
     "execution_count": 80,
     "metadata": {},
     "output_type": "execute_result"
    },
    {
     "data": {
      "image/png": "[encoded data removed]",
      "text/plain": [
       "<Figure size 432x288 with 1 Axes>"
      ]
     },
     "metadata": {
      "needs_background": "light"
     },
     "output_type": "display_data"
    }
   ],
   "source": [
    "sns.distplot(smart_person_calls['duration'],bins=30)"
   ]
  },
  {
   "cell_type": "markdown",
   "metadata": {},
   "source": [
    "По гистограмме можно сделать вывод, что больше всего пользователи тарифа Смарт разговаривают около 100 мин"
   ]
  },
  {
   "cell_type": "markdown",
   "metadata": {},
   "source": [
    "**Гистограмма распределия количества отправленных смс пользователей Ультра**"
   ]
  },
  {
   "cell_type": "code",
   "execution_count": 81,
   "metadata": {},
   "outputs": [
    {
     "data": {
      "text/plain": [
       "<matplotlib.axes._subplots.AxesSubplot at 0x7f223942a950>"
      ]
     },
     "execution_count": 81,
     "metadata": {},
     "output_type": "execute_result"
    },
    {
     "data": {
      "image/png": "[encoded data removed]",
      "text/plain": [
       "<Figure size 432x288 with 1 Axes>"
      ]
     },
     "metadata": {
      "needs_background": "light"
     },
     "output_type": "display_data"
    }
   ],
   "source": [
    "sns.distplot(ultra_person_calls['message_date'],bins=30)"
   ]
  },
  {
   "cell_type": "markdown",
   "metadata": {},
   "source": [
    "По гистограмме можно сделать вывод, что больше всего пользователи тарифа Ультра отправляют около 10 смс"
   ]
  },
  {
   "cell_type": "markdown",
   "metadata": {},
   "source": [
    "**Гистограмма распределия количества отправленных смс пользователей Смарт**"
   ]
  },
  {
   "cell_type": "code",
   "execution_count": 82,
   "metadata": {},
   "outputs": [
    {
     "data": {
      "text/plain": [
       "<matplotlib.axes._subplots.AxesSubplot at 0x7f2239536310>"
      ]
     },
     "execution_count": 82,
     "metadata": {},
     "output_type": "execute_result"
    },
    {
     "data": {
      "image/png": "[encoded data removed]",
      "text/plain": [
       "<Figure size 432x288 with 1 Axes>"
      ]
     },
     "metadata": {
      "needs_background": "light"
     },
     "output_type": "display_data"
    }
   ],
   "source": [
    "sns.distplot(smart_person_calls['message_date'],bins=30)"
   ]
  },
  {
   "cell_type": "markdown",
   "metadata": {},
   "source": [
    "По гистограмме можно сделать вывод, что больше всего пользователи тарифа Смарт отправляют около 0-5 смс"
   ]
  },
  {
   "cell_type": "markdown",
   "metadata": {},
   "source": [
    "**Гистограмма распределия количества потраченного интернета пользователей Ультра**"
   ]
  },
  {
   "cell_type": "code",
   "execution_count": 83,
   "metadata": {},
   "outputs": [
    {
     "data": {
      "text/plain": [
       "<matplotlib.axes._subplots.AxesSubplot at 0x7f2239cdbfd0>"
      ]
     },
     "execution_count": 83,
     "metadata": {},
     "output_type": "execute_result"
    },
    {
     "data": {
      "image/png": "[encoded data removed]",
      "text/plain": [
       "<Figure size 432x288 with 1 Axes>"
      ]
     },
     "metadata": {
      "needs_background": "light"
     },
     "output_type": "display_data"
    }
   ],
   "source": [
    "sns.distplot(ultra_person_calls['mb_used'],bins=30)"
   ]
  },
  {
   "cell_type": "markdown",
   "metadata": {},
   "source": [
    "По гистограмме можно сделать вывод, что больше всего пользователи тарифа Ультра используют около 20 Гб."
   ]
  },
  {
   "cell_type": "markdown",
   "metadata": {},
   "source": [
    "**Гистограмма распределия количества потраченного интернета пользователей Смарт**"
   ]
  },
  {
   "cell_type": "code",
   "execution_count": 84,
   "metadata": {},
   "outputs": [
    {
     "data": {
      "text/plain": [
       "<matplotlib.axes._subplots.AxesSubplot at 0x7f22397cd0d0>"
      ]
     },
     "execution_count": 84,
     "metadata": {},
     "output_type": "execute_result"
    },
    {
     "data": {
      "image/png": "[encoded data removed]",
      "text/plain": [
       "<Figure size 432x288 with 1 Axes>"
      ]
     },
     "metadata": {
      "needs_background": "light"
     },
     "output_type": "display_data"
    }
   ],
   "source": [
    "sns.distplot(smart_person_calls['mb_used'],bins=30)"
   ]
  },
  {
   "cell_type": "markdown",
   "metadata": {},
   "source": [
    "По гистограмме можно сделать вывод, что больше всего пользователи тарифа Смарт используют около 25Гб"
   ]
  },
  {
   "cell_type": "markdown",
   "metadata": {},
   "source": [
    "**Общая гистограмма распределения по потраченному интернету и сообщениям для тарифа Ультра**"
   ]
  },
  {
   "cell_type": "code",
   "execution_count": 85,
   "metadata": {},
   "outputs": [
    {
     "data": {
      "image/png": "[encoded data removed]",
      "text/plain": [
       "<Figure size 432x432 with 3 Axes>"
      ]
     },
     "metadata": {
      "needs_background": "light"
     },
     "output_type": "display_data"
    }
   ],
   "source": [
    "sns.jointplot(x='message_date', y='mb_used', data=ultra_person_calls, kind='scatter');"
   ]
  },
  {
   "cell_type": "markdown",
   "metadata": {},
   "source": [
    "## Проверка гипотезы"
   ]
  },
  {
   "cell_type": "markdown",
   "metadata": {},
   "source": [
    "**средняя выручка пользователей тарифов «Ультра» и «Смарт» различаются**,\n",
    "начнем с неё"
   ]
  },
  {
   "cell_type": "markdown",
   "metadata": {},
   "source": [
    "Для проверки гипотез принимаем Нулевую гипотезу, что средняя выручка пользователей тарифов «Ультра» и «Смарт» не различается (равны). Проверка гипотезы альтернативной: среднее значение выручки Ультра меньше предполагаемого(значение Смарт)\n",
    "\n"
   ]
  },
  {
   "cell_type": "code",
   "execution_count": 86,
   "metadata": {},
   "outputs": [
    {
     "data": {
      "text/plain": [
       "2069.543147208122"
      ]
     },
     "execution_count": 86,
     "metadata": {},
     "output_type": "execute_result"
    }
   ],
   "source": [
    "ultra_all=group_all.query('tariff==\"ultra\"')\n",
    "smart_all=group_all.query('tariff==\"smart\"')\n",
    "ultra_all['money'].mean() # Среднее значение выручки пользователей Ультра\n"
   ]
  },
  {
   "cell_type": "code",
   "execution_count": 87,
   "metadata": {},
   "outputs": [],
   "source": [
    "disp_ultra=np.var(ultra_all['money'])"
   ]
  },
  {
   "cell_type": "code",
   "execution_count": 88,
   "metadata": {},
   "outputs": [
    {
     "name": "stdout",
     "output_type": "stream",
     "text": [
      "99% значений попадают с интервал:+- 1124.0 от среднего значения 2070.0\n"
     ]
    }
   ],
   "source": [
    "print('99% значений попадают с интервал:+-',np.ceil(3*np.sqrt(disp_ultra)),'от среднего значения',np.ceil(ultra_all['money'].mean()))  "
   ]
  },
  {
   "cell_type": "markdown",
   "metadata": {},
   "source": [
    "Считаю доверительный 95% интервал для Ультра"
   ]
  },
  {
   "cell_type": "code",
   "execution_count": 89,
   "metadata": {},
   "outputs": [
    {
     "data": {
      "text/plain": [
       "(2046.1159223086781, 2092.9703721075653)"
      ]
     },
     "execution_count": 89,
     "metadata": {},
     "output_type": "execute_result"
    }
   ],
   "source": [
    "st.t.interval(0.95, len(ultra_all['money'])-1, loc=np.mean(ultra_all['money']), scale=st.sem(ultra_all['money']))"
   ]
  },
  {
   "cell_type": "markdown",
   "metadata": {},
   "source": [
    "Так выводится, потому что Каждая плата по тарифу Ультра равна 1950 или 0. Другого не дано"
   ]
  },
  {
   "cell_type": "code",
   "execution_count": 90,
   "metadata": {},
   "outputs": [
    {
     "data": {
      "text/plain": [
       "1286.563930013459"
      ]
     },
     "execution_count": 90,
     "metadata": {},
     "output_type": "execute_result"
    }
   ],
   "source": [
    "smart_all['money'].mean()"
   ]
  },
  {
   "cell_type": "code",
   "execution_count": 91,
   "metadata": {},
   "outputs": [
    {
     "name": "stdout",
     "output_type": "stream",
     "text": [
      "99% значений попадают с интервал:+- 2450.0 от среднего значения 1287.0\n"
     ]
    }
   ],
   "source": [
    "disp_smart=np.var(smart_all['money'])\n",
    "print('99% значений попадают с интервал:+-',np.ceil(3*np.sqrt(disp_smart)),'от среднего значения',np.ceil(smart_all['money'].mean())) "
   ]
  },
  {
   "cell_type": "code",
   "execution_count": 92,
   "metadata": {},
   "outputs": [
    {
     "data": {
      "text/plain": [
       "(1252.648488862739, 1320.479371164179)"
      ]
     },
     "execution_count": 92,
     "metadata": {},
     "output_type": "execute_result"
    }
   ],
   "source": [
    "st.t.interval(0.95, len(smart_all['money'])-1, loc=np.mean(smart_all['money']), scale=st.sem(smart_all['money']))"
   ]
  },
  {
   "cell_type": "code",
   "execution_count": 93,
   "metadata": {},
   "outputs": [
    {
     "data": {
      "text/plain": [
       "666709.8034739556"
      ]
     },
     "execution_count": 93,
     "metadata": {},
     "output_type": "execute_result"
    }
   ],
   "source": [
    "smart_all['money'].var() #Дисперсия выручки Смарт"
   ]
  },
  {
   "cell_type": "code",
   "execution_count": 94,
   "metadata": {},
   "outputs": [
    {
     "data": {
      "text/plain": [
       "140382.41302463785"
      ]
     },
     "execution_count": 94,
     "metadata": {},
     "output_type": "execute_result"
    }
   ],
   "source": [
    "ultra_all['money'].var() #Дисперсия выручки Ультра"
   ]
  },
  {
   "cell_type": "markdown",
   "metadata": {},
   "source": [
    "Значения дисперсии сильно отличаются. Поэтому в функции st.ttest_ind буду использовать параметр equal_var=False"
   ]
  },
  {
   "cell_type": "code",
   "execution_count": 95,
   "metadata": {},
   "outputs": [],
   "source": [
    "result=st.ttest_ind(smart_all['money'],ultra_all['money'],equal_var=False) "
   ]
  },
  {
   "cell_type": "markdown",
   "metadata": {},
   "source": [
    "Проверяем гипотезу о равенстве двух средних генеральных совокупностей"
   ]
  },
  {
   "cell_type": "code",
   "execution_count": 96,
   "metadata": {},
   "outputs": [
    {
     "data": {
      "text/plain": [
       "8.40789217310225e-253"
      ]
     },
     "execution_count": 96,
     "metadata": {},
     "output_type": "execute_result"
    }
   ],
   "source": [
    "result.pvalue #выведите p-value из результата)"
   ]
  },
  {
   "cell_type": "code",
   "execution_count": 97,
   "metadata": {},
   "outputs": [
    {
     "name": "stdout",
     "output_type": "stream",
     "text": [
      "Отвергаем нулевую гипотезу\n"
     ]
    }
   ],
   "source": [
    "alpha = 0.5\n",
    "if (result.pvalue<alpha):\n",
    "    print('Отвергаем нулевую гипотезу')\n",
    "else:\n",
    "    print('Не получилость отвергнуть нулевую гипотезу')"
   ]
  },
  {
   "cell_type": "markdown",
   "metadata": {},
   "source": [
    "Для проверки гипотез принимаем Нулевую гипотезу, что средняя выручка пользователей тарифов «Ультра» и «Смарт» не различается (равны)\n",
    "\n",
    "Нулевая гипотеза отвергнута. Значения средней выручки тарифа Ультра и тарифа Смарт различаются. "
   ]
  },
  {
   "cell_type": "markdown",
   "metadata": {},
   "source": [
    "Проверка гипотезы: **средняя выручка пользователей из Москвы отличается от выручки пользователей из других регионов**. Нулевая гипотеза звучит так: средняя выручка пользователей из Москвы не отличается от выручки пользователей из других регионов."
   ]
  },
  {
   "cell_type": "code",
   "execution_count": 98,
   "metadata": {},
   "outputs": [
    {
     "data": {
      "text/plain": [
       "565782.1126881489"
      ]
     },
     "execution_count": 98,
     "metadata": {},
     "output_type": "execute_result"
    }
   ],
   "source": [
    "moscow_all=group_all.query('city==\"Москва\"')\n",
    "\n",
    "other_all=group_all.query('city!=\"Москва\"')\n",
    "\n",
    "alpha=0.05\n",
    "\n",
    "moscow_all['money'].var()"
   ]
  },
  {
   "cell_type": "code",
   "execution_count": 99,
   "metadata": {},
   "outputs": [
    {
     "data": {
      "text/plain": [
       "1544.504091653028"
      ]
     },
     "execution_count": 99,
     "metadata": {},
     "output_type": "execute_result"
    }
   ],
   "source": [
    "moscow_all['money'].mean()"
   ]
  },
  {
   "cell_type": "code",
   "execution_count": 100,
   "metadata": {},
   "outputs": [
    {
     "data": {
      "text/plain": [
       "652186.4755625494"
      ]
     },
     "execution_count": 100,
     "metadata": {},
     "output_type": "execute_result"
    }
   ],
   "source": [
    "other_all['money'].var()"
   ]
  },
  {
   "cell_type": "code",
   "execution_count": 101,
   "metadata": {},
   "outputs": [
    {
     "data": {
      "text/plain": [
       "1522.3046484825202"
      ]
     },
     "execution_count": 101,
     "metadata": {},
     "output_type": "execute_result"
    }
   ],
   "source": [
    "other_all['money'].mean()"
   ]
  },
  {
   "cell_type": "code",
   "execution_count": 102,
   "metadata": {},
   "outputs": [],
   "source": [
    "result=st.ttest_ind(moscow_all['money'],other_all['money'])"
   ]
  },
  {
   "cell_type": "code",
   "execution_count": 103,
   "metadata": {},
   "outputs": [
    {
     "data": {
      "text/plain": [
       "0.5357407978453328"
      ]
     },
     "execution_count": 103,
     "metadata": {},
     "output_type": "execute_result"
    }
   ],
   "source": [
    "result.pvalue"
   ]
  },
  {
   "cell_type": "code",
   "execution_count": 104,
   "metadata": {},
   "outputs": [
    {
     "name": "stdout",
     "output_type": "stream",
     "text": [
      "Гипотизу отвергнуть не удалось\n"
     ]
    }
   ],
   "source": [
    "if (result.pvalue<alpha):\n",
    "    print('Отвергаем гипотизу')\n",
    "else:\n",
    "    print('Гипотизу отвергнуть не удалось')"
   ]
  },
  {
   "cell_type": "markdown",
   "metadata": {},
   "source": [
    "Гипотезу отвернуть не удалось:). Средняя выручка в Москве отличается от средней выручки в регионах.\n",
    "\n",
    "**Общий вывод:** самый популярный тариф оказался Смарт. Но самый прибылный тариф- Ультра. Доверительный интервал для тарифа ультра прибыли сосатвляет 1950 руб(других платежей по тарифу ультра нет), а доверительный интервал для тарифа Смарт 642-720 руб."
   ]
  },
  {
   "cell_type": "markdown",
   "metadata": {},
   "source": [
    "**Моё личный вывод:**\n",
    "Немного запутался в проверке гипотез, но надеюсь что все правильно. Меня очень смутило то, что платежи по ультра только 1950"
   ]
  }
 ],
 "metadata": {
  "ExecuteTimeLog": [
   {
    "duration": 121,
    "start_time": "2021-12-08T10:11:31.709Z"
   },
   {
    "duration": 1041,
    "start_time": "2021-12-08T10:11:38.716Z"
   },
   {
    "duration": 2449,
    "start_time": "2021-12-08T10:11:49.452Z"
   },
   {
    "duration": 687,
    "start_time": "2021-12-08T10:12:10.356Z"
   },
   {
    "duration": 373,
    "start_time": "2021-12-08T10:12:24.291Z"
   },
   {
    "duration": 151,
    "start_time": "2021-12-08T10:12:34.707Z"
   },
   {
    "duration": 3578,
    "start_time": "2021-12-08T10:16:06.960Z"
   },
   {
    "duration": 814,
    "start_time": "2021-12-08T10:17:04.800Z"
   },
   {
    "duration": 1621,
    "start_time": "2021-12-08T10:17:14.775Z"
   },
   {
    "duration": 1610,
    "start_time": "2021-12-08T11:12:36.175Z"
   },
   {
    "duration": 149,
    "start_time": "2021-12-08T11:12:47.412Z"
   },
   {
    "duration": 9,
    "start_time": "2021-12-08T11:12:59.538Z"
   },
   {
    "duration": 3,
    "start_time": "2021-12-08T11:13:08.955Z"
   },
   {
    "duration": 153,
    "start_time": "2021-12-08T11:13:09.314Z"
   },
   {
    "duration": 8,
    "start_time": "2021-12-08T11:13:09.747Z"
   },
   {
    "duration": 138,
    "start_time": "2021-12-08T11:14:00.866Z"
   },
   {
    "duration": 9,
    "start_time": "2021-12-08T11:14:08.314Z"
   },
   {
    "duration": 88,
    "start_time": "2021-12-08T11:14:34.426Z"
   },
   {
    "duration": 11,
    "start_time": "2021-12-08T11:14:41.105Z"
   },
   {
    "duration": 20,
    "start_time": "2021-12-08T11:15:01.170Z"
   },
   {
    "duration": 8,
    "start_time": "2021-12-08T11:15:06.505Z"
   },
   {
    "duration": 49,
    "start_time": "2021-12-08T11:15:35.649Z"
   },
   {
    "duration": 11,
    "start_time": "2021-12-08T11:15:40.784Z"
   },
   {
    "duration": 21,
    "start_time": "2021-12-08T11:19:55.054Z"
   },
   {
    "duration": 17,
    "start_time": "2021-12-08T11:20:47.867Z"
   },
   {
    "duration": 15,
    "start_time": "2021-12-08T11:21:27.907Z"
   },
   {
    "duration": 6,
    "start_time": "2021-12-08T11:22:22.931Z"
   },
   {
    "duration": 15,
    "start_time": "2021-12-08T11:22:49.740Z"
   },
   {
    "duration": 11,
    "start_time": "2021-12-08T11:22:57.932Z"
   },
   {
    "duration": 349,
    "start_time": "2021-12-08T11:31:08.435Z"
   },
   {
    "duration": 27,
    "start_time": "2021-12-08T11:31:14.098Z"
   },
   {
    "duration": 17,
    "start_time": "2021-12-08T11:31:51.618Z"
   },
   {
    "duration": 4,
    "start_time": "2021-12-08T11:32:25.114Z"
   },
   {
    "duration": 9,
    "start_time": "2021-12-08T11:32:40.177Z"
   },
   {
    "duration": 10,
    "start_time": "2021-12-08T11:34:18.463Z"
   },
   {
    "duration": 9,
    "start_time": "2021-12-08T11:34:35.496Z"
   },
   {
    "duration": 9,
    "start_time": "2021-12-08T11:34:37.760Z"
   },
   {
    "duration": 11,
    "start_time": "2021-12-08T11:34:52.592Z"
   },
   {
    "duration": 5,
    "start_time": "2021-12-08T11:34:55.823Z"
   },
   {
    "duration": 385,
    "start_time": "2021-12-08T11:38:53.805Z"
   },
   {
    "duration": 22,
    "start_time": "2021-12-08T11:39:01.886Z"
   },
   {
    "duration": 5,
    "start_time": "2021-12-08T11:39:29.051Z"
   },
   {
    "duration": 5,
    "start_time": "2021-12-08T11:39:51.395Z"
   },
   {
    "duration": 5,
    "start_time": "2021-12-08T11:42:54.816Z"
   },
   {
    "duration": 9,
    "start_time": "2021-12-08T11:42:59.376Z"
   },
   {
    "duration": 5,
    "start_time": "2021-12-08T11:43:29.759Z"
   },
   {
    "duration": 442,
    "start_time": "2021-12-08T11:51:30.257Z"
   },
   {
    "duration": 28,
    "start_time": "2021-12-08T11:51:39.080Z"
   },
   {
    "duration": 22,
    "start_time": "2021-12-08T11:51:53.744Z"
   },
   {
    "duration": 26,
    "start_time": "2021-12-08T11:52:09.032Z"
   },
   {
    "duration": 13182,
    "start_time": "2021-12-08T11:54:34.541Z"
   },
   {
    "duration": 16,
    "start_time": "2021-12-08T11:55:16.838Z"
   },
   {
    "duration": 16,
    "start_time": "2021-12-08T11:55:34.296Z"
   },
   {
    "duration": 26,
    "start_time": "2021-12-08T11:55:38.524Z"
   },
   {
    "duration": 20,
    "start_time": "2021-12-08T11:57:01.779Z"
   },
   {
    "duration": 27,
    "start_time": "2021-12-08T11:57:36.115Z"
   },
   {
    "duration": 363,
    "start_time": "2021-12-08T11:58:56.937Z"
   },
   {
    "duration": 10,
    "start_time": "2021-12-08T11:59:24.522Z"
   },
   {
    "duration": 13,
    "start_time": "2021-12-08T11:59:38.736Z"
   },
   {
    "duration": 15,
    "start_time": "2021-12-08T11:59:44.976Z"
   },
   {
    "duration": 16,
    "start_time": "2021-12-08T12:01:05.240Z"
   },
   {
    "duration": 4,
    "start_time": "2021-12-08T12:02:49.431Z"
   },
   {
    "duration": 12,
    "start_time": "2021-12-08T12:03:06.959Z"
   },
   {
    "duration": 53,
    "start_time": "2021-12-08T12:03:22.200Z"
   },
   {
    "duration": 16,
    "start_time": "2021-12-08T12:03:42.310Z"
   },
   {
    "duration": 8879,
    "start_time": "2021-12-08T12:04:05.221Z"
   },
   {
    "duration": 1314,
    "start_time": "2021-12-08T12:04:12.788Z"
   },
   {
    "duration": 9,
    "start_time": "2021-12-08T12:05:14.781Z"
   },
   {
    "duration": 12,
    "start_time": "2021-12-08T12:05:17.564Z"
   },
   {
    "duration": 5,
    "start_time": "2021-12-08T12:57:52.077Z"
   },
   {
    "duration": 10709,
    "start_time": "2021-12-08T12:58:15.317Z"
   },
   {
    "duration": 343,
    "start_time": "2021-12-08T12:59:03.101Z"
   },
   {
    "duration": 11189,
    "start_time": "2021-12-08T12:59:12.196Z"
   },
   {
    "duration": 9647,
    "start_time": "2021-12-08T12:59:40.045Z"
   },
   {
    "duration": 677,
    "start_time": "2021-12-08T13:03:05.293Z"
   },
   {
    "duration": 185,
    "start_time": "2021-12-08T13:03:05.972Z"
   },
   {
    "duration": 16,
    "start_time": "2021-12-08T13:03:06.159Z"
   },
   {
    "duration": 162,
    "start_time": "2021-12-08T13:03:06.177Z"
   },
   {
    "duration": 10,
    "start_time": "2021-12-08T13:03:06.341Z"
   },
   {
    "duration": 125,
    "start_time": "2021-12-08T13:03:06.353Z"
   },
   {
    "duration": 8,
    "start_time": "2021-12-08T13:03:06.480Z"
   },
   {
    "duration": 23,
    "start_time": "2021-12-08T13:03:06.491Z"
   },
   {
    "duration": 11,
    "start_time": "2021-12-08T13:03:06.517Z"
   },
   {
    "duration": 61,
    "start_time": "2021-12-08T13:03:06.530Z"
   },
   {
    "duration": 12,
    "start_time": "2021-12-08T13:03:06.592Z"
   },
   {
    "duration": 11,
    "start_time": "2021-12-08T13:03:06.605Z"
   },
   {
    "duration": 38,
    "start_time": "2021-12-08T13:03:06.618Z"
   },
   {
    "duration": 19,
    "start_time": "2021-12-08T13:03:06.659Z"
   },
   {
    "duration": 41,
    "start_time": "2021-12-08T13:03:06.680Z"
   },
   {
    "duration": 6,
    "start_time": "2021-12-08T13:03:06.722Z"
   },
   {
    "duration": 9,
    "start_time": "2021-12-08T13:03:06.730Z"
   },
   {
    "duration": 20,
    "start_time": "2021-12-08T13:03:06.740Z"
   },
   {
    "duration": 6,
    "start_time": "2021-12-08T13:03:06.762Z"
   },
   {
    "duration": 41,
    "start_time": "2021-12-08T13:03:06.769Z"
   },
   {
    "duration": 48,
    "start_time": "2021-12-08T13:03:06.812Z"
   },
   {
    "duration": 17,
    "start_time": "2021-12-08T13:03:06.862Z"
   },
   {
    "duration": 50,
    "start_time": "2021-12-08T13:03:06.882Z"
   },
   {
    "duration": 20,
    "start_time": "2021-12-08T13:03:06.935Z"
   },
   {
    "duration": 61,
    "start_time": "2021-12-08T13:03:06.957Z"
   },
   {
    "duration": 12,
    "start_time": "2021-12-08T13:03:07.020Z"
   },
   {
    "duration": 16,
    "start_time": "2021-12-08T13:03:07.034Z"
   },
   {
    "duration": 14,
    "start_time": "2021-12-08T13:03:07.052Z"
   },
   {
    "duration": 50,
    "start_time": "2021-12-08T13:03:07.068Z"
   },
   {
    "duration": 13,
    "start_time": "2021-12-08T13:03:07.120Z"
   },
   {
    "duration": 31,
    "start_time": "2021-12-08T13:03:07.135Z"
   },
   {
    "duration": 11,
    "start_time": "2021-12-08T13:03:07.168Z"
   },
   {
    "duration": 10026,
    "start_time": "2021-12-08T13:03:07.181Z"
   },
   {
    "duration": 1288,
    "start_time": "2021-12-08T13:03:15.921Z"
   },
   {
    "duration": 1286,
    "start_time": "2021-12-08T13:03:15.924Z"
   },
   {
    "duration": 1285,
    "start_time": "2021-12-08T13:03:15.927Z"
   },
   {
    "duration": 10139,
    "start_time": "2021-12-08T13:04:53.356Z"
   },
   {
    "duration": 14,
    "start_time": "2021-12-08T13:05:11.009Z"
   },
   {
    "duration": 5,
    "start_time": "2021-12-08T13:05:26.882Z"
   },
   {
    "duration": 10,
    "start_time": "2021-12-08T13:05:28.929Z"
   },
   {
    "duration": 6,
    "start_time": "2021-12-08T13:05:31.290Z"
   },
   {
    "duration": 9040,
    "start_time": "2021-12-08T13:05:33.177Z"
   },
   {
    "duration": 7,
    "start_time": "2021-12-08T13:06:59.465Z"
   },
   {
    "duration": 54,
    "start_time": "2021-12-08T13:07:04.081Z"
   },
   {
    "duration": 12,
    "start_time": "2021-12-08T13:07:17.231Z"
   },
   {
    "duration": 51,
    "start_time": "2021-12-08T13:07:27.952Z"
   },
   {
    "duration": 12,
    "start_time": "2021-12-08T13:07:28.783Z"
   },
   {
    "duration": 337,
    "start_time": "2021-12-08T13:15:45.600Z"
   },
   {
    "duration": 9,
    "start_time": "2021-12-08T13:16:00.463Z"
   },
   {
    "duration": 13,
    "start_time": "2021-12-08T13:16:09.456Z"
   },
   {
    "duration": 10,
    "start_time": "2021-12-08T13:16:19.144Z"
   },
   {
    "duration": 7,
    "start_time": "2021-12-08T13:16:45.063Z"
   },
   {
    "duration": 10,
    "start_time": "2021-12-08T13:16:45.823Z"
   },
   {
    "duration": 8,
    "start_time": "2021-12-08T13:16:57.407Z"
   },
   {
    "duration": 20,
    "start_time": "2021-12-08T13:17:28.607Z"
   },
   {
    "duration": 19,
    "start_time": "2021-12-08T13:17:42.887Z"
   },
   {
    "duration": 9,
    "start_time": "2021-12-08T13:17:56.680Z"
   },
   {
    "duration": 9,
    "start_time": "2021-12-08T13:18:03.278Z"
   },
   {
    "duration": 9,
    "start_time": "2021-12-08T13:21:21.315Z"
   },
   {
    "duration": 20,
    "start_time": "2021-12-08T13:21:37.227Z"
   },
   {
    "duration": 9,
    "start_time": "2021-12-08T13:22:08.826Z"
   },
   {
    "duration": 10,
    "start_time": "2021-12-08T13:22:28.214Z"
   },
   {
    "duration": 307,
    "start_time": "2021-12-08T13:23:07.363Z"
   },
   {
    "duration": 889,
    "start_time": "2021-12-08T13:23:26.746Z"
   },
   {
    "duration": 280,
    "start_time": "2021-12-08T13:23:49.571Z"
   },
   {
    "duration": 284,
    "start_time": "2021-12-08T13:24:44.625Z"
   },
   {
    "duration": 889,
    "start_time": "2021-12-08T13:26:59.086Z"
   },
   {
    "duration": 724,
    "start_time": "2021-12-08T13:27:17.318Z"
   },
   {
    "duration": 429,
    "start_time": "2021-12-08T13:27:22.710Z"
   },
   {
    "duration": 12,
    "start_time": "2021-12-08T13:33:22.096Z"
   },
   {
    "duration": 8,
    "start_time": "2021-12-08T13:33:46.777Z"
   },
   {
    "duration": 152,
    "start_time": "2021-12-08T13:34:32.783Z"
   },
   {
    "duration": 264,
    "start_time": "2021-12-08T13:34:56.184Z"
   },
   {
    "duration": 7,
    "start_time": "2021-12-08T13:35:20.463Z"
   },
   {
    "duration": 13,
    "start_time": "2021-12-08T13:35:42.630Z"
   },
   {
    "duration": 427,
    "start_time": "2021-12-08T13:36:52.309Z"
   },
   {
    "duration": 629,
    "start_time": "2021-12-08T13:37:12.669Z"
   },
   {
    "duration": 1144,
    "start_time": "2021-12-08T13:37:17.326Z"
   },
   {
    "duration": 174,
    "start_time": "2021-12-08T13:37:18.472Z"
   },
   {
    "duration": 12,
    "start_time": "2021-12-08T13:37:18.648Z"
   },
   {
    "duration": 146,
    "start_time": "2021-12-08T13:37:18.662Z"
   },
   {
    "duration": 8,
    "start_time": "2021-12-08T13:37:18.810Z"
   },
   {
    "duration": 106,
    "start_time": "2021-12-08T13:37:18.820Z"
   },
   {
    "duration": 7,
    "start_time": "2021-12-08T13:37:18.928Z"
   },
   {
    "duration": 19,
    "start_time": "2021-12-08T13:37:18.937Z"
   },
   {
    "duration": 7,
    "start_time": "2021-12-08T13:37:18.959Z"
   },
   {
    "duration": 55,
    "start_time": "2021-12-08T13:37:18.968Z"
   },
   {
    "duration": 10,
    "start_time": "2021-12-08T13:37:19.025Z"
   },
   {
    "duration": 9,
    "start_time": "2021-12-08T13:37:19.037Z"
   },
   {
    "duration": 34,
    "start_time": "2021-12-08T13:37:19.047Z"
   },
   {
    "duration": 31,
    "start_time": "2021-12-08T13:37:19.083Z"
   },
   {
    "duration": 25,
    "start_time": "2021-12-08T13:37:19.115Z"
   },
   {
    "duration": 5,
    "start_time": "2021-12-08T13:37:19.142Z"
   },
   {
    "duration": 10,
    "start_time": "2021-12-08T13:37:19.148Z"
   },
   {
    "duration": 16,
    "start_time": "2021-12-08T13:37:19.160Z"
   },
   {
    "duration": 8,
    "start_time": "2021-12-08T13:37:19.177Z"
   },
   {
    "duration": 39,
    "start_time": "2021-12-08T13:37:19.187Z"
   },
   {
    "duration": 42,
    "start_time": "2021-12-08T13:37:19.227Z"
   },
   {
    "duration": 16,
    "start_time": "2021-12-08T13:37:19.271Z"
   },
   {
    "duration": 29,
    "start_time": "2021-12-08T13:37:19.307Z"
   },
   {
    "duration": 18,
    "start_time": "2021-12-08T13:37:19.338Z"
   },
   {
    "duration": 56,
    "start_time": "2021-12-08T13:37:19.358Z"
   },
   {
    "duration": 9,
    "start_time": "2021-12-08T13:37:19.416Z"
   },
   {
    "duration": 13,
    "start_time": "2021-12-08T13:37:19.427Z"
   },
   {
    "duration": 13,
    "start_time": "2021-12-08T13:37:19.442Z"
   },
   {
    "duration": 19,
    "start_time": "2021-12-08T13:37:19.456Z"
   },
   {
    "duration": 14,
    "start_time": "2021-12-08T13:37:19.476Z"
   },
   {
    "duration": 42,
    "start_time": "2021-12-08T13:37:19.491Z"
   },
   {
    "duration": 9,
    "start_time": "2021-12-08T13:37:19.535Z"
   },
   {
    "duration": 8,
    "start_time": "2021-12-08T13:37:19.546Z"
   },
   {
    "duration": 14,
    "start_time": "2021-12-08T13:37:19.555Z"
   },
   {
    "duration": 9,
    "start_time": "2021-12-08T13:37:19.571Z"
   },
   {
    "duration": 63,
    "start_time": "2021-12-08T13:37:19.582Z"
   },
   {
    "duration": 11,
    "start_time": "2021-12-08T13:37:19.647Z"
   },
   {
    "duration": 267,
    "start_time": "2021-12-08T13:37:19.660Z"
   },
   {
    "duration": 7,
    "start_time": "2021-12-08T13:37:19.929Z"
   },
   {
    "duration": 13,
    "start_time": "2021-12-08T13:37:19.938Z"
   },
   {
    "duration": 10,
    "start_time": "2021-12-08T13:37:19.952Z"
   },
   {
    "duration": 13,
    "start_time": "2021-12-08T13:37:19.964Z"
   },
   {
    "duration": 45,
    "start_time": "2021-12-08T13:37:19.979Z"
   },
   {
    "duration": 9,
    "start_time": "2021-12-08T13:37:20.025Z"
   },
   {
    "duration": 11,
    "start_time": "2021-12-08T13:37:20.036Z"
   },
   {
    "duration": 317,
    "start_time": "2021-12-08T13:37:20.049Z"
   },
   {
    "duration": 300,
    "start_time": "2021-12-08T13:37:20.368Z"
   },
   {
    "duration": 298,
    "start_time": "2021-12-08T13:37:20.670Z"
   },
   {
    "duration": 12,
    "start_time": "2021-12-08T13:37:20.970Z"
   },
   {
    "duration": 26,
    "start_time": "2021-12-08T13:37:20.984Z"
   },
   {
    "duration": 285,
    "start_time": "2021-12-08T13:37:21.012Z"
   },
   {
    "duration": 6,
    "start_time": "2021-12-08T13:37:21.306Z"
   },
   {
    "duration": 17,
    "start_time": "2021-12-08T13:37:21.314Z"
   },
   {
    "duration": 22,
    "start_time": "2021-12-08T13:37:21.333Z"
   },
   {
    "duration": 6,
    "start_time": "2021-12-08T13:38:15.268Z"
   },
   {
    "duration": 17,
    "start_time": "2021-12-08T13:38:39.619Z"
   },
   {
    "duration": 36,
    "start_time": "2021-12-08T13:39:37.011Z"
   },
   {
    "duration": 34,
    "start_time": "2021-12-08T13:41:00.259Z"
   },
   {
    "duration": 38,
    "start_time": "2021-12-08T13:41:06.018Z"
   },
   {
    "duration": 32,
    "start_time": "2021-12-08T13:41:33.114Z"
   },
   {
    "duration": 18,
    "start_time": "2021-12-08T18:05:10.825Z"
   },
   {
    "duration": 11,
    "start_time": "2021-12-08T18:05:51.217Z"
   },
   {
    "duration": 432,
    "start_time": "2021-12-08T18:06:32.544Z"
   },
   {
    "duration": 8,
    "start_time": "2021-12-08T18:06:38.248Z"
   },
   {
    "duration": 284,
    "start_time": "2021-12-08T18:07:31.135Z"
   },
   {
    "duration": 6,
    "start_time": "2021-12-08T18:08:11.765Z"
   },
   {
    "duration": 14,
    "start_time": "2021-12-08T18:09:11.093Z"
   },
   {
    "duration": 7,
    "start_time": "2021-12-08T18:13:22.969Z"
   },
   {
    "duration": 27,
    "start_time": "2021-12-08T18:17:30.501Z"
   },
   {
    "duration": 6,
    "start_time": "2021-12-08T18:19:10.517Z"
   },
   {
    "duration": 84,
    "start_time": "2021-12-08T18:20:39.043Z"
   },
   {
    "duration": 39,
    "start_time": "2021-12-08T18:22:05.074Z"
   },
   {
    "duration": 7,
    "start_time": "2021-12-08T18:22:37.473Z"
   },
   {
    "duration": 253,
    "start_time": "2021-12-08T18:31:05.811Z"
   },
   {
    "duration": 4,
    "start_time": "2021-12-08T18:31:47.858Z"
   },
   {
    "duration": 235,
    "start_time": "2021-12-08T18:32:23.461Z"
   },
   {
    "duration": 229,
    "start_time": "2021-12-08T18:33:58.800Z"
   },
   {
    "duration": 242,
    "start_time": "2021-12-08T18:34:33.231Z"
   },
   {
    "duration": 266,
    "start_time": "2021-12-08T18:35:28.893Z"
   },
   {
    "duration": 10,
    "start_time": "2021-12-08T18:39:29.444Z"
   },
   {
    "duration": 225,
    "start_time": "2021-12-08T18:43:24.954Z"
   },
   {
    "duration": 854,
    "start_time": "2021-12-08T18:45:16.541Z"
   },
   {
    "duration": 5,
    "start_time": "2021-12-08T18:50:12.427Z"
   },
   {
    "duration": 9,
    "start_time": "2021-12-08T18:50:38.010Z"
   },
   {
    "duration": 3,
    "start_time": "2021-12-08T18:50:49.801Z"
   },
   {
    "duration": 5,
    "start_time": "2021-12-08T18:51:00.864Z"
   },
   {
    "duration": 111,
    "start_time": "2021-12-08T18:51:15.431Z"
   },
   {
    "duration": 8,
    "start_time": "2021-12-08T18:51:34.113Z"
   },
   {
    "duration": 6,
    "start_time": "2021-12-08T18:52:04.561Z"
   },
   {
    "duration": 5,
    "start_time": "2021-12-08T18:58:22.896Z"
   },
   {
    "duration": 1200,
    "start_time": "2021-12-08T18:58:29.938Z"
   },
   {
    "duration": 210,
    "start_time": "2021-12-08T18:58:31.140Z"
   },
   {
    "duration": 12,
    "start_time": "2021-12-08T18:58:31.352Z"
   },
   {
    "duration": 196,
    "start_time": "2021-12-08T18:58:31.366Z"
   },
   {
    "duration": 9,
    "start_time": "2021-12-08T18:58:31.563Z"
   },
   {
    "duration": 20,
    "start_time": "2021-12-08T18:58:31.574Z"
   },
   {
    "duration": 104,
    "start_time": "2021-12-08T18:58:31.595Z"
   },
   {
    "duration": 7,
    "start_time": "2021-12-08T18:58:31.701Z"
   },
   {
    "duration": 20,
    "start_time": "2021-12-08T18:58:31.710Z"
   },
   {
    "duration": 12,
    "start_time": "2021-12-08T18:58:31.732Z"
   },
   {
    "duration": 82,
    "start_time": "2021-12-08T18:58:31.745Z"
   },
   {
    "duration": 12,
    "start_time": "2021-12-08T18:58:31.829Z"
   },
   {
    "duration": 8,
    "start_time": "2021-12-08T18:58:31.843Z"
   },
   {
    "duration": 37,
    "start_time": "2021-12-08T18:58:31.852Z"
   },
   {
    "duration": 33,
    "start_time": "2021-12-08T18:58:31.891Z"
   },
   {
    "duration": 34,
    "start_time": "2021-12-08T18:58:31.926Z"
   },
   {
    "duration": 6,
    "start_time": "2021-12-08T18:58:31.962Z"
   },
   {
    "duration": 8,
    "start_time": "2021-12-08T18:58:31.970Z"
   },
   {
    "duration": 29,
    "start_time": "2021-12-08T18:58:31.979Z"
   },
   {
    "duration": 8,
    "start_time": "2021-12-08T18:58:32.010Z"
   },
   {
    "duration": 23,
    "start_time": "2021-12-08T18:58:32.020Z"
   },
   {
    "duration": 42,
    "start_time": "2021-12-08T18:58:32.044Z"
   },
   {
    "duration": 15,
    "start_time": "2021-12-08T18:58:32.109Z"
   },
   {
    "duration": 29,
    "start_time": "2021-12-08T18:58:32.127Z"
   },
   {
    "duration": 17,
    "start_time": "2021-12-08T18:58:32.158Z"
   },
   {
    "duration": 61,
    "start_time": "2021-12-08T18:58:32.176Z"
   },
   {
    "duration": 10,
    "start_time": "2021-12-08T18:58:32.238Z"
   },
   {
    "duration": 13,
    "start_time": "2021-12-08T18:58:32.249Z"
   },
   {
    "duration": 43,
    "start_time": "2021-12-08T18:58:32.264Z"
   },
   {
    "duration": 16,
    "start_time": "2021-12-08T18:58:32.309Z"
   },
   {
    "duration": 4,
    "start_time": "2021-12-08T18:58:32.326Z"
   },
   {
    "duration": 34,
    "start_time": "2021-12-08T18:58:32.332Z"
   },
   {
    "duration": 9,
    "start_time": "2021-12-08T18:58:32.367Z"
   },
   {
    "duration": 38,
    "start_time": "2021-12-08T18:58:32.378Z"
   },
   {
    "duration": 37,
    "start_time": "2021-12-08T18:58:32.418Z"
   },
   {
    "duration": 20,
    "start_time": "2021-12-08T18:58:32.456Z"
   },
   {
    "duration": 54,
    "start_time": "2021-12-08T18:58:32.478Z"
   },
   {
    "duration": 12,
    "start_time": "2021-12-08T18:58:32.533Z"
   },
   {
    "duration": 253,
    "start_time": "2021-12-08T18:58:32.547Z"
   },
   {
    "duration": 7,
    "start_time": "2021-12-08T18:58:32.806Z"
   },
   {
    "duration": 12,
    "start_time": "2021-12-08T18:58:32.815Z"
   },
   {
    "duration": 9,
    "start_time": "2021-12-08T18:58:32.829Z"
   },
   {
    "duration": 9,
    "start_time": "2021-12-08T18:58:32.840Z"
   },
   {
    "duration": 20,
    "start_time": "2021-12-08T18:58:32.850Z"
   },
   {
    "duration": 39,
    "start_time": "2021-12-08T18:58:32.872Z"
   },
   {
    "duration": 13,
    "start_time": "2021-12-08T18:58:32.913Z"
   },
   {
    "duration": 314,
    "start_time": "2021-12-08T18:58:32.928Z"
   },
   {
    "duration": 304,
    "start_time": "2021-12-08T18:58:33.243Z"
   },
   {
    "duration": 308,
    "start_time": "2021-12-08T18:58:33.550Z"
   },
   {
    "duration": 12,
    "start_time": "2021-12-08T18:58:33.860Z"
   },
   {
    "duration": 11,
    "start_time": "2021-12-08T18:58:33.874Z"
   },
   {
    "duration": 286,
    "start_time": "2021-12-08T18:58:33.887Z"
   },
   {
    "duration": 6,
    "start_time": "2021-12-08T18:58:34.175Z"
   },
   {
    "duration": 28,
    "start_time": "2021-12-08T18:58:34.182Z"
   },
   {
    "duration": 19,
    "start_time": "2021-12-08T18:58:34.212Z"
   },
   {
    "duration": 10,
    "start_time": "2021-12-08T18:58:34.233Z"
   },
   {
    "duration": 95,
    "start_time": "2021-12-08T18:58:34.245Z"
   },
   {
    "duration": 37,
    "start_time": "2021-12-08T18:58:34.342Z"
   },
   {
    "duration": 6,
    "start_time": "2021-12-08T18:58:34.381Z"
   },
   {
    "duration": 13,
    "start_time": "2021-12-08T18:58:34.407Z"
   },
   {
    "duration": 9,
    "start_time": "2021-12-08T18:58:34.422Z"
   },
   {
    "duration": 281,
    "start_time": "2021-12-08T18:58:34.433Z"
   },
   {
    "duration": 5,
    "start_time": "2021-12-08T18:58:34.716Z"
   },
   {
    "duration": 16,
    "start_time": "2021-12-08T18:58:34.723Z"
   },
   {
    "duration": 20,
    "start_time": "2021-12-08T18:58:34.740Z"
   },
   {
    "duration": 9,
    "start_time": "2021-12-08T18:58:34.762Z"
   },
   {
    "duration": 38,
    "start_time": "2021-12-08T18:58:34.772Z"
   },
   {
    "duration": 33,
    "start_time": "2021-12-08T18:58:34.815Z"
   },
   {
    "duration": 8,
    "start_time": "2021-12-08T18:58:34.850Z"
   },
   {
    "duration": 359,
    "start_time": "2021-12-08T18:58:34.860Z"
   },
   {
    "duration": 333,
    "start_time": "2021-12-08T18:58:35.220Z"
   },
   {
    "duration": 317,
    "start_time": "2021-12-08T18:58:35.555Z"
   },
   {
    "duration": 248,
    "start_time": "2021-12-08T18:58:35.874Z"
   },
   {
    "duration": 227,
    "start_time": "2021-12-08T18:58:36.124Z"
   },
   {
    "duration": 230,
    "start_time": "2021-12-08T18:58:36.354Z"
   },
   {
    "duration": 842,
    "start_time": "2021-12-08T18:58:36.586Z"
   },
   {
    "duration": 9,
    "start_time": "2021-12-08T18:58:37.431Z"
   },
   {
    "duration": 13,
    "start_time": "2021-12-08T18:58:37.442Z"
   },
   {
    "duration": 10,
    "start_time": "2021-12-08T18:58:37.456Z"
   },
   {
    "duration": 3,
    "start_time": "2021-12-08T19:39:11.855Z"
   },
   {
    "duration": 6,
    "start_time": "2021-12-08T19:39:12.623Z"
   },
   {
    "duration": 6,
    "start_time": "2021-12-08T19:40:01.629Z"
   },
   {
    "duration": 3,
    "start_time": "2021-12-08T19:40:45.477Z"
   },
   {
    "duration": 7,
    "start_time": "2021-12-08T19:40:55.044Z"
   },
   {
    "duration": 6,
    "start_time": "2021-12-08T19:41:31.125Z"
   },
   {
    "duration": 6,
    "start_time": "2021-12-08T19:41:35.220Z"
   },
   {
    "duration": 7,
    "start_time": "2021-12-08T19:41:44.004Z"
   },
   {
    "duration": 3,
    "start_time": "2021-12-08T19:41:52.117Z"
   },
   {
    "duration": 4,
    "start_time": "2021-12-08T19:41:52.644Z"
   },
   {
    "duration": 9,
    "start_time": "2021-12-08T19:42:06.684Z"
   },
   {
    "duration": 4,
    "start_time": "2021-12-08T19:42:39.756Z"
   },
   {
    "duration": 6,
    "start_time": "2021-12-08T19:42:45.923Z"
   },
   {
    "duration": 5,
    "start_time": "2021-12-08T19:42:47.035Z"
   },
   {
    "duration": 5,
    "start_time": "2021-12-08T19:42:47.483Z"
   },
   {
    "duration": 6,
    "start_time": "2021-12-08T19:42:47.875Z"
   },
   {
    "duration": 4,
    "start_time": "2021-12-08T19:43:34.546Z"
   },
   {
    "duration": 6,
    "start_time": "2021-12-08T19:43:49.970Z"
   },
   {
    "duration": 5,
    "start_time": "2021-12-08T19:44:45.329Z"
   },
   {
    "duration": 4,
    "start_time": "2021-12-08T19:44:50.186Z"
   },
   {
    "duration": 8,
    "start_time": "2021-12-08T19:44:57.009Z"
   },
   {
    "duration": 7,
    "start_time": "2021-12-08T19:45:03.105Z"
   },
   {
    "duration": 7,
    "start_time": "2021-12-08T19:45:05.737Z"
   },
   {
    "duration": 13,
    "start_time": "2021-12-08T19:53:09.483Z"
   },
   {
    "duration": 1220,
    "start_time": "2021-12-08T19:53:18.465Z"
   },
   {
    "duration": 179,
    "start_time": "2021-12-08T19:53:19.687Z"
   },
   {
    "duration": 12,
    "start_time": "2021-12-08T19:53:19.868Z"
   },
   {
    "duration": 175,
    "start_time": "2021-12-08T19:53:19.881Z"
   },
   {
    "duration": 9,
    "start_time": "2021-12-08T19:53:20.058Z"
   },
   {
    "duration": 12,
    "start_time": "2021-12-08T19:53:20.069Z"
   },
   {
    "duration": 118,
    "start_time": "2021-12-08T19:53:20.083Z"
   },
   {
    "duration": 10,
    "start_time": "2021-12-08T19:53:20.204Z"
   },
   {
    "duration": 28,
    "start_time": "2021-12-08T19:53:20.217Z"
   },
   {
    "duration": 35,
    "start_time": "2021-12-08T19:53:20.247Z"
   },
   {
    "duration": 86,
    "start_time": "2021-12-08T19:53:20.284Z"
   },
   {
    "duration": 35,
    "start_time": "2021-12-08T19:53:20.372Z"
   },
   {
    "duration": 21,
    "start_time": "2021-12-08T19:53:20.410Z"
   },
   {
    "duration": 45,
    "start_time": "2021-12-08T19:53:20.433Z"
   },
   {
    "duration": 22,
    "start_time": "2021-12-08T19:53:20.480Z"
   },
   {
    "duration": 31,
    "start_time": "2021-12-08T19:53:20.504Z"
   },
   {
    "duration": 5,
    "start_time": "2021-12-08T19:53:20.537Z"
   },
   {
    "duration": 6,
    "start_time": "2021-12-08T19:53:20.544Z"
   },
   {
    "duration": 24,
    "start_time": "2021-12-08T19:53:20.552Z"
   },
   {
    "duration": 10,
    "start_time": "2021-12-08T19:53:20.578Z"
   },
   {
    "duration": 37,
    "start_time": "2021-12-08T19:53:20.590Z"
   },
   {
    "duration": 41,
    "start_time": "2021-12-08T19:53:20.629Z"
   },
   {
    "duration": 15,
    "start_time": "2021-12-08T19:53:20.676Z"
   },
   {
    "duration": 38,
    "start_time": "2021-12-08T19:53:20.706Z"
   },
   {
    "duration": 17,
    "start_time": "2021-12-08T19:53:20.745Z"
   },
   {
    "duration": 62,
    "start_time": "2021-12-08T19:53:20.764Z"
   },
   {
    "duration": 12,
    "start_time": "2021-12-08T19:53:20.828Z"
   },
   {
    "duration": 24,
    "start_time": "2021-12-08T19:53:20.842Z"
   },
   {
    "duration": 25,
    "start_time": "2021-12-08T19:53:20.868Z"
   },
   {
    "duration": 42,
    "start_time": "2021-12-08T19:53:20.894Z"
   },
   {
    "duration": 11,
    "start_time": "2021-12-08T19:53:20.938Z"
   },
   {
    "duration": 45,
    "start_time": "2021-12-08T19:53:20.951Z"
   },
   {
    "duration": 10,
    "start_time": "2021-12-08T19:53:20.998Z"
   },
   {
    "duration": 12,
    "start_time": "2021-12-08T19:53:21.011Z"
   },
   {
    "duration": 17,
    "start_time": "2021-12-08T19:53:21.025Z"
   },
   {
    "duration": 13,
    "start_time": "2021-12-08T19:53:21.044Z"
   },
   {
    "duration": 70,
    "start_time": "2021-12-08T19:53:21.059Z"
   },
   {
    "duration": 12,
    "start_time": "2021-12-08T19:53:21.131Z"
   },
   {
    "duration": 6,
    "start_time": "2021-12-08T19:53:21.145Z"
   },
   {
    "duration": 294,
    "start_time": "2021-12-08T19:53:21.153Z"
   },
   {
    "duration": 19,
    "start_time": "2021-12-08T19:53:21.449Z"
   },
   {
    "duration": 13,
    "start_time": "2021-12-08T19:53:21.471Z"
   },
   {
    "duration": 20,
    "start_time": "2021-12-08T19:53:21.487Z"
   },
   {
    "duration": 11,
    "start_time": "2021-12-08T19:53:21.510Z"
   },
   {
    "duration": 25,
    "start_time": "2021-12-08T19:53:21.523Z"
   },
   {
    "duration": 14,
    "start_time": "2021-12-08T19:53:21.551Z"
   },
   {
    "duration": 40,
    "start_time": "2021-12-08T19:53:21.567Z"
   },
   {
    "duration": 345,
    "start_time": "2021-12-08T19:53:21.609Z"
   },
   {
    "duration": 317,
    "start_time": "2021-12-08T19:53:21.956Z"
   },
   {
    "duration": 323,
    "start_time": "2021-12-08T19:53:22.275Z"
   },
   {
    "duration": 18,
    "start_time": "2021-12-08T19:53:22.600Z"
   },
   {
    "duration": 13,
    "start_time": "2021-12-08T19:53:22.620Z"
   },
   {
    "duration": 290,
    "start_time": "2021-12-08T19:53:22.635Z"
   },
   {
    "duration": 6,
    "start_time": "2021-12-08T19:53:22.927Z"
   },
   {
    "duration": 15,
    "start_time": "2021-12-08T19:53:22.934Z"
   },
   {
    "duration": 19,
    "start_time": "2021-12-08T19:53:22.951Z"
   },
   {
    "duration": 11,
    "start_time": "2021-12-08T19:53:22.972Z"
   },
   {
    "duration": 101,
    "start_time": "2021-12-08T19:53:22.985Z"
   },
   {
    "duration": 53,
    "start_time": "2021-12-08T19:53:23.088Z"
   },
   {
    "duration": 6,
    "start_time": "2021-12-08T19:53:23.143Z"
   },
   {
    "duration": 13,
    "start_time": "2021-12-08T19:53:23.151Z"
   },
   {
    "duration": 10,
    "start_time": "2021-12-08T19:53:23.166Z"
   },
   {
    "duration": 318,
    "start_time": "2021-12-08T19:53:23.177Z"
   },
   {
    "duration": 11,
    "start_time": "2021-12-08T19:53:23.497Z"
   },
   {
    "duration": 21,
    "start_time": "2021-12-08T19:53:23.510Z"
   },
   {
    "duration": 21,
    "start_time": "2021-12-08T19:53:23.533Z"
   },
   {
    "duration": 8,
    "start_time": "2021-12-08T19:53:23.556Z"
   },
   {
    "duration": 39,
    "start_time": "2021-12-08T19:53:23.569Z"
   },
   {
    "duration": 40,
    "start_time": "2021-12-08T19:53:23.611Z"
   },
   {
    "duration": 7,
    "start_time": "2021-12-08T19:53:23.653Z"
   },
   {
    "duration": 265,
    "start_time": "2021-12-08T19:53:23.662Z"
   },
   {
    "duration": 244,
    "start_time": "2021-12-08T19:53:23.929Z"
   },
   {
    "duration": 251,
    "start_time": "2021-12-08T19:53:24.175Z"
   },
   {
    "duration": 263,
    "start_time": "2021-12-08T19:53:24.428Z"
   },
   {
    "duration": 225,
    "start_time": "2021-12-08T19:53:24.693Z"
   },
   {
    "duration": 253,
    "start_time": "2021-12-08T19:53:24.921Z"
   },
   {
    "duration": 860,
    "start_time": "2021-12-08T19:53:25.175Z"
   },
   {
    "duration": 10,
    "start_time": "2021-12-08T19:53:26.037Z"
   },
   {
    "duration": 4,
    "start_time": "2021-12-08T19:53:26.049Z"
   },
   {
    "duration": 7,
    "start_time": "2021-12-08T19:53:26.055Z"
   },
   {
    "duration": 9,
    "start_time": "2021-12-08T19:53:26.064Z"
   },
   {
    "duration": 35,
    "start_time": "2021-12-08T19:53:26.075Z"
   },
   {
    "duration": 7,
    "start_time": "2021-12-08T19:53:26.112Z"
   },
   {
    "duration": 8,
    "start_time": "2021-12-08T19:53:26.121Z"
   },
   {
    "duration": 9,
    "start_time": "2021-12-08T19:53:26.131Z"
   },
   {
    "duration": 9,
    "start_time": "2021-12-08T19:53:26.141Z"
   },
   {
    "duration": 4,
    "start_time": "2021-12-08T20:05:15.592Z"
   },
   {
    "duration": 4,
    "start_time": "2021-12-08T20:05:32.472Z"
   },
   {
    "duration": 6,
    "start_time": "2021-12-08T20:07:05.559Z"
   },
   {
    "duration": 6,
    "start_time": "2021-12-08T20:07:34.471Z"
   },
   {
    "duration": 506,
    "start_time": "2021-12-08T20:08:11.030Z"
   },
   {
    "duration": 4,
    "start_time": "2021-12-08T20:08:24.591Z"
   },
   {
    "duration": 4,
    "start_time": "2021-12-08T20:09:57.667Z"
   },
   {
    "duration": 4,
    "start_time": "2021-12-08T20:10:04.852Z"
   },
   {
    "duration": 6,
    "start_time": "2021-12-08T20:10:13.180Z"
   },
   {
    "duration": 5,
    "start_time": "2021-12-08T20:11:01.668Z"
   },
   {
    "duration": 8,
    "start_time": "2021-12-08T20:11:07.435Z"
   },
   {
    "duration": 7,
    "start_time": "2021-12-08T20:11:13.835Z"
   },
   {
    "duration": 9,
    "start_time": "2021-12-08T20:11:22.514Z"
   },
   {
    "duration": 4,
    "start_time": "2021-12-08T20:11:29.323Z"
   },
   {
    "duration": 5,
    "start_time": "2021-12-08T20:11:35.171Z"
   },
   {
    "duration": 6,
    "start_time": "2021-12-08T20:11:41.106Z"
   },
   {
    "duration": 3,
    "start_time": "2021-12-08T20:11:46.570Z"
   },
   {
    "duration": 4,
    "start_time": "2021-12-08T20:11:52.858Z"
   },
   {
    "duration": 3,
    "start_time": "2021-12-08T20:11:57.970Z"
   },
   {
    "duration": 130,
    "start_time": "2021-12-08T20:12:08.139Z"
   },
   {
    "duration": 9,
    "start_time": "2021-12-09T18:24:29.823Z"
   },
   {
    "duration": 77,
    "start_time": "2021-12-09T18:24:48.079Z"
   },
   {
    "duration": 175,
    "start_time": "2021-12-09T18:24:56.043Z"
   },
   {
    "duration": 111,
    "start_time": "2021-12-09T19:28:04.454Z"
   },
   {
    "duration": 1505,
    "start_time": "2021-12-09T19:29:21.299Z"
   },
   {
    "duration": 242,
    "start_time": "2021-12-09T19:29:22.806Z"
   },
   {
    "duration": 27,
    "start_time": "2021-12-09T19:29:23.051Z"
   },
   {
    "duration": 200,
    "start_time": "2021-12-09T19:29:23.560Z"
   },
   {
    "duration": 19,
    "start_time": "2021-12-09T19:29:23.971Z"
   },
   {
    "duration": 6,
    "start_time": "2021-12-09T19:29:24.152Z"
   },
   {
    "duration": 139,
    "start_time": "2021-12-09T19:29:24.474Z"
   },
   {
    "duration": 14,
    "start_time": "2021-12-09T19:29:24.808Z"
   },
   {
    "duration": 26,
    "start_time": "2021-12-09T19:29:25.158Z"
   },
   {
    "duration": 12,
    "start_time": "2021-12-09T19:29:25.342Z"
   },
   {
    "duration": 68,
    "start_time": "2021-12-09T19:29:25.720Z"
   },
   {
    "duration": 16,
    "start_time": "2021-12-09T19:29:26.809Z"
   },
   {
    "duration": 8,
    "start_time": "2021-12-09T19:29:27.311Z"
   },
   {
    "duration": 50,
    "start_time": "2021-12-09T19:29:29.072Z"
   },
   {
    "duration": 27,
    "start_time": "2021-12-09T19:29:29.496Z"
   },
   {
    "duration": 40,
    "start_time": "2021-12-09T19:29:29.847Z"
   },
   {
    "duration": 7,
    "start_time": "2021-12-09T19:29:31.840Z"
   },
   {
    "duration": 9,
    "start_time": "2021-12-09T19:29:32.168Z"
   },
   {
    "duration": 7,
    "start_time": "2021-12-09T19:29:33.105Z"
   },
   {
    "duration": 5,
    "start_time": "2021-12-09T19:29:38.007Z"
   },
   {
    "duration": 6,
    "start_time": "2021-12-09T19:29:55.512Z"
   },
   {
    "duration": 17,
    "start_time": "2021-12-09T19:30:07.406Z"
   },
   {
    "duration": 21,
    "start_time": "2021-12-09T19:30:21.276Z"
   },
   {
    "duration": 436,
    "start_time": "2021-12-09T19:34:05.335Z"
   },
   {
    "duration": 28,
    "start_time": "2021-12-09T19:47:45.055Z"
   },
   {
    "duration": 4,
    "start_time": "2021-12-09T19:47:55.522Z"
   },
   {
    "duration": 246,
    "start_time": "2021-12-09T19:47:55.652Z"
   },
   {
    "duration": 13,
    "start_time": "2021-12-09T19:47:55.901Z"
   },
   {
    "duration": 221,
    "start_time": "2021-12-09T19:47:56.033Z"
   },
   {
    "duration": 19,
    "start_time": "2021-12-09T19:47:56.256Z"
   },
   {
    "duration": 9,
    "start_time": "2021-12-09T19:47:56.279Z"
   },
   {
    "duration": 131,
    "start_time": "2021-12-09T19:47:56.552Z"
   },
   {
    "duration": 12,
    "start_time": "2021-12-09T19:47:56.770Z"
   },
   {
    "duration": 20,
    "start_time": "2021-12-09T19:47:57.014Z"
   },
   {
    "duration": 13,
    "start_time": "2021-12-09T19:47:57.158Z"
   },
   {
    "duration": 45,
    "start_time": "2021-12-09T19:47:57.401Z"
   },
   {
    "duration": 16,
    "start_time": "2021-12-09T19:47:57.513Z"
   },
   {
    "duration": 8,
    "start_time": "2021-12-09T19:47:57.653Z"
   },
   {
    "duration": 46,
    "start_time": "2021-12-09T19:47:58.310Z"
   },
   {
    "duration": 24,
    "start_time": "2021-12-09T19:47:58.463Z"
   },
   {
    "duration": 32,
    "start_time": "2021-12-09T19:47:58.598Z"
   },
   {
    "duration": 7,
    "start_time": "2021-12-09T19:47:58.717Z"
   },
   {
    "duration": 6,
    "start_time": "2021-12-09T19:47:58.829Z"
   },
   {
    "duration": 7,
    "start_time": "2021-12-09T19:47:59.101Z"
   },
   {
    "duration": 6,
    "start_time": "2021-12-09T19:47:59.402Z"
   },
   {
    "duration": 6,
    "start_time": "2021-12-09T19:47:59.534Z"
   },
   {
    "duration": 39,
    "start_time": "2021-12-09T19:48:00.159Z"
   },
   {
    "duration": 78,
    "start_time": "2021-12-09T19:48:00.565Z"
   },
   {
    "duration": 22,
    "start_time": "2021-12-09T19:48:01.149Z"
   },
   {
    "duration": 42,
    "start_time": "2021-12-09T19:48:01.470Z"
   },
   {
    "duration": 30,
    "start_time": "2021-12-09T19:48:02.349Z"
   },
   {
    "duration": 68,
    "start_time": "2021-12-09T19:48:02.793Z"
   },
   {
    "duration": 20,
    "start_time": "2021-12-09T19:48:03.790Z"
   },
   {
    "duration": 23,
    "start_time": "2021-12-09T19:48:04.232Z"
   },
   {
    "duration": 20,
    "start_time": "2021-12-09T19:48:04.750Z"
   },
   {
    "duration": 23,
    "start_time": "2021-12-09T19:48:05.272Z"
   },
   {
    "duration": 30,
    "start_time": "2021-12-09T19:48:06.975Z"
   },
   {
    "duration": 451,
    "start_time": "2021-12-09T19:48:13.125Z"
   },
   {
    "duration": 7,
    "start_time": "2021-12-09T19:48:26.607Z"
   },
   {
    "duration": 43,
    "start_time": "2021-12-09T19:48:28.345Z"
   },
   {
    "duration": 15,
    "start_time": "2021-12-09T19:48:29.816Z"
   },
   {
    "duration": 8,
    "start_time": "2021-12-09T19:48:31.204Z"
   },
   {
    "duration": 16,
    "start_time": "2021-12-09T19:48:31.746Z"
   },
   {
    "duration": 8,
    "start_time": "2021-12-09T19:48:41.541Z"
   },
   {
    "duration": 6,
    "start_time": "2021-12-09T19:48:46.679Z"
   },
   {
    "duration": 44,
    "start_time": "2021-12-09T19:48:47.447Z"
   },
   {
    "duration": 33,
    "start_time": "2021-12-09T19:54:18.368Z"
   },
   {
    "duration": 19,
    "start_time": "2021-12-09T19:55:16.360Z"
   },
   {
    "duration": 65,
    "start_time": "2021-12-09T19:55:32.353Z"
   },
   {
    "duration": 56,
    "start_time": "2021-12-09T19:56:34.022Z"
   },
   {
    "duration": 1624,
    "start_time": "2021-12-09T20:02:25.843Z"
   },
   {
    "duration": 252,
    "start_time": "2021-12-09T20:02:27.472Z"
   },
   {
    "duration": 16,
    "start_time": "2021-12-09T20:02:27.727Z"
   },
   {
    "duration": 215,
    "start_time": "2021-12-09T20:02:27.747Z"
   },
   {
    "duration": 20,
    "start_time": "2021-12-09T20:02:27.967Z"
   },
   {
    "duration": 9,
    "start_time": "2021-12-09T20:02:27.989Z"
   },
   {
    "duration": 164,
    "start_time": "2021-12-09T20:02:28.000Z"
   },
   {
    "duration": 28,
    "start_time": "2021-12-09T20:02:28.169Z"
   },
   {
    "duration": 21,
    "start_time": "2021-12-09T20:02:28.201Z"
   },
   {
    "duration": 14,
    "start_time": "2021-12-09T20:02:28.225Z"
   },
   {
    "duration": 51,
    "start_time": "2021-12-09T20:02:28.242Z"
   },
   {
    "duration": 21,
    "start_time": "2021-12-09T20:02:28.296Z"
   },
   {
    "duration": 8,
    "start_time": "2021-12-09T20:02:28.319Z"
   },
   {
    "duration": 78,
    "start_time": "2021-12-09T20:02:28.329Z"
   },
   {
    "duration": 28,
    "start_time": "2021-12-09T20:02:28.410Z"
   },
   {
    "duration": 57,
    "start_time": "2021-12-09T20:02:28.440Z"
   },
   {
    "duration": 7,
    "start_time": "2021-12-09T20:02:28.499Z"
   },
   {
    "duration": 9,
    "start_time": "2021-12-09T20:02:28.509Z"
   },
   {
    "duration": 12,
    "start_time": "2021-12-09T20:02:28.520Z"
   },
   {
    "duration": 36,
    "start_time": "2021-12-09T20:02:28.534Z"
   },
   {
    "duration": 12,
    "start_time": "2021-12-09T20:02:28.574Z"
   },
   {
    "duration": 38,
    "start_time": "2021-12-09T20:02:28.589Z"
   },
   {
    "duration": 111,
    "start_time": "2021-12-09T20:02:28.635Z"
   },
   {
    "duration": 38,
    "start_time": "2021-12-09T20:02:28.750Z"
   },
   {
    "duration": 55,
    "start_time": "2021-12-09T20:02:28.791Z"
   },
   {
    "duration": 29,
    "start_time": "2021-12-09T20:02:28.868Z"
   },
   {
    "duration": 84,
    "start_time": "2021-12-09T20:02:28.900Z"
   },
   {
    "duration": 18,
    "start_time": "2021-12-09T20:02:28.987Z"
   },
   {
    "duration": 29,
    "start_time": "2021-12-09T20:02:29.008Z"
   },
   {
    "duration": 45,
    "start_time": "2021-12-09T20:02:29.040Z"
   },
   {
    "duration": 30,
    "start_time": "2021-12-09T20:02:29.088Z"
   },
   {
    "duration": 52,
    "start_time": "2021-12-09T20:02:29.120Z"
   },
   {
    "duration": 9,
    "start_time": "2021-12-09T20:02:29.177Z"
   },
   {
    "duration": 43,
    "start_time": "2021-12-09T20:02:29.189Z"
   },
   {
    "duration": 45,
    "start_time": "2021-12-09T20:02:29.235Z"
   },
   {
    "duration": 7,
    "start_time": "2021-12-09T20:02:29.284Z"
   },
   {
    "duration": 41,
    "start_time": "2021-12-09T20:02:29.293Z"
   },
   {
    "duration": 25,
    "start_time": "2021-12-09T20:02:29.337Z"
   },
   {
    "duration": 99,
    "start_time": "2021-12-09T20:02:29.365Z"
   },
   {
    "duration": 22,
    "start_time": "2021-12-09T20:02:29.467Z"
   },
   {
    "duration": 8,
    "start_time": "2021-12-09T20:02:29.492Z"
   },
   {
    "duration": 590,
    "start_time": "2021-12-09T20:02:29.502Z"
   },
   {
    "duration": 8,
    "start_time": "2021-12-09T20:02:30.094Z"
   },
   {
    "duration": 40,
    "start_time": "2021-12-09T20:02:30.104Z"
   },
   {
    "duration": 33,
    "start_time": "2021-12-09T20:02:30.147Z"
   },
   {
    "duration": 33,
    "start_time": "2021-12-09T20:02:30.184Z"
   },
   {
    "duration": 52,
    "start_time": "2021-12-09T20:02:30.219Z"
   },
   {
    "duration": 23,
    "start_time": "2021-12-09T20:02:30.274Z"
   },
   {
    "duration": 23,
    "start_time": "2021-12-09T20:02:30.299Z"
   },
   {
    "duration": 564,
    "start_time": "2021-12-09T20:02:30.324Z"
   },
   {
    "duration": 775,
    "start_time": "2021-12-09T20:02:30.892Z"
   },
   {
    "duration": 539,
    "start_time": "2021-12-09T20:02:31.673Z"
   },
   {
    "duration": 16,
    "start_time": "2021-12-09T20:02:32.214Z"
   },
   {
    "duration": 36,
    "start_time": "2021-12-09T20:02:32.233Z"
   },
   {
    "duration": 493,
    "start_time": "2021-12-09T20:02:32.271Z"
   },
   {
    "duration": 17,
    "start_time": "2021-12-09T20:02:32.767Z"
   },
   {
    "duration": 19,
    "start_time": "2021-12-09T20:02:32.787Z"
   },
   {
    "duration": 135,
    "start_time": "2021-12-09T20:02:32.809Z"
   },
   {
    "duration": 8,
    "start_time": "2021-12-09T20:02:32.946Z"
   },
   {
    "duration": 30,
    "start_time": "2021-12-09T20:02:32.968Z"
   },
   {
    "duration": 87,
    "start_time": "2021-12-09T20:02:33.000Z"
   },
   {
    "duration": 9,
    "start_time": "2021-12-09T20:02:33.090Z"
   },
   {
    "duration": 19,
    "start_time": "2021-12-09T20:02:33.101Z"
   },
   {
    "duration": 11,
    "start_time": "2021-12-09T20:02:33.123Z"
   },
   {
    "duration": 470,
    "start_time": "2021-12-09T20:02:33.169Z"
   },
   {
    "duration": 8,
    "start_time": "2021-12-09T20:02:33.641Z"
   },
   {
    "duration": 26,
    "start_time": "2021-12-09T20:02:33.668Z"
   },
   {
    "duration": 31,
    "start_time": "2021-12-09T20:02:33.704Z"
   },
   {
    "duration": 37,
    "start_time": "2021-12-09T20:02:33.738Z"
   },
   {
    "duration": 26,
    "start_time": "2021-12-09T20:02:33.786Z"
   },
   {
    "duration": 89,
    "start_time": "2021-12-09T20:02:33.815Z"
   },
   {
    "duration": 11,
    "start_time": "2021-12-09T20:02:33.906Z"
   },
   {
    "duration": 431,
    "start_time": "2021-12-09T20:02:33.919Z"
   },
   {
    "duration": 461,
    "start_time": "2021-12-09T20:02:34.352Z"
   },
   {
    "duration": 411,
    "start_time": "2021-12-09T20:02:34.816Z"
   },
   {
    "duration": 441,
    "start_time": "2021-12-09T20:02:35.230Z"
   },
   {
    "duration": 407,
    "start_time": "2021-12-09T20:02:35.675Z"
   },
   {
    "duration": 664,
    "start_time": "2021-12-09T20:02:36.086Z"
   },
   {
    "duration": 1713,
    "start_time": "2021-12-09T20:02:36.754Z"
   },
   {
    "duration": 19,
    "start_time": "2021-12-09T20:02:38.470Z"
   },
   {
    "duration": 10,
    "start_time": "2021-12-09T20:02:38.492Z"
   },
   {
    "duration": 29,
    "start_time": "2021-12-09T20:02:38.505Z"
   },
   {
    "duration": 48,
    "start_time": "2021-12-09T20:02:38.536Z"
   },
   {
    "duration": 12,
    "start_time": "2021-12-09T20:02:38.587Z"
   },
   {
    "duration": 29,
    "start_time": "2021-12-09T20:02:38.601Z"
   },
   {
    "duration": 35,
    "start_time": "2021-12-09T20:02:38.633Z"
   },
   {
    "duration": 16,
    "start_time": "2021-12-09T20:02:38.673Z"
   },
   {
    "duration": 26,
    "start_time": "2021-12-09T20:02:38.692Z"
   },
   {
    "duration": 27,
    "start_time": "2021-12-09T20:02:38.720Z"
   },
   {
    "duration": 25,
    "start_time": "2021-12-09T20:02:38.749Z"
   },
   {
    "duration": 21,
    "start_time": "2021-12-09T20:02:38.777Z"
   },
   {
    "duration": 27,
    "start_time": "2021-12-09T20:02:38.801Z"
   },
   {
    "duration": 36,
    "start_time": "2021-12-09T20:02:38.831Z"
   },
   {
    "duration": 21,
    "start_time": "2021-12-09T20:02:38.870Z"
   },
   {
    "duration": 10,
    "start_time": "2021-12-09T20:02:38.894Z"
   },
   {
    "duration": 20,
    "start_time": "2021-12-09T20:02:38.907Z"
   },
   {
    "duration": 29,
    "start_time": "2021-12-09T20:02:38.930Z"
   },
   {
    "duration": 29,
    "start_time": "2021-12-09T20:02:38.962Z"
   },
   {
    "duration": 579,
    "start_time": "2021-12-10T10:51:11.569Z"
   },
   {
    "duration": 458,
    "start_time": "2021-12-10T10:51:15.428Z"
   },
   {
    "duration": 1511,
    "start_time": "2021-12-10T10:51:17.894Z"
   },
   {
    "duration": 236,
    "start_time": "2021-12-10T10:51:19.408Z"
   },
   {
    "duration": 17,
    "start_time": "2021-12-10T10:51:19.647Z"
   },
   {
    "duration": 205,
    "start_time": "2021-12-10T10:51:19.667Z"
   },
   {
    "duration": 13,
    "start_time": "2021-12-10T10:51:19.874Z"
   },
   {
    "duration": 28,
    "start_time": "2021-12-10T10:51:19.889Z"
   },
   {
    "duration": 133,
    "start_time": "2021-12-10T10:51:19.920Z"
   },
   {
    "duration": 11,
    "start_time": "2021-12-10T10:51:20.057Z"
   },
   {
    "duration": 26,
    "start_time": "2021-12-10T10:51:20.071Z"
   },
   {
    "duration": 28,
    "start_time": "2021-12-10T10:51:20.100Z"
   },
   {
    "duration": 42,
    "start_time": "2021-12-10T10:51:20.130Z"
   },
   {
    "duration": 21,
    "start_time": "2021-12-10T10:51:20.175Z"
   },
   {
    "duration": 16,
    "start_time": "2021-12-10T10:51:20.199Z"
   },
   {
    "duration": 60,
    "start_time": "2021-12-10T10:51:20.218Z"
   },
   {
    "duration": 24,
    "start_time": "2021-12-10T10:51:20.281Z"
   },
   {
    "duration": 31,
    "start_time": "2021-12-10T10:51:20.307Z"
   },
   {
    "duration": 7,
    "start_time": "2021-12-10T10:51:20.340Z"
   },
   {
    "duration": 9,
    "start_time": "2021-12-10T10:51:20.349Z"
   },
   {
    "duration": 7,
    "start_time": "2021-12-10T10:51:20.361Z"
   },
   {
    "duration": 9,
    "start_time": "2021-12-10T10:51:20.370Z"
   },
   {
    "duration": 35,
    "start_time": "2021-12-10T10:51:20.382Z"
   },
   {
    "duration": 32,
    "start_time": "2021-12-10T10:51:20.420Z"
   },
   {
    "duration": 86,
    "start_time": "2021-12-10T10:51:20.460Z"
   },
   {
    "duration": 22,
    "start_time": "2021-12-10T10:51:20.551Z"
   },
   {
    "duration": 60,
    "start_time": "2021-12-10T10:51:20.575Z"
   },
   {
    "duration": 25,
    "start_time": "2021-12-10T10:51:20.638Z"
   },
   {
    "duration": 75,
    "start_time": "2021-12-10T10:51:20.666Z"
   },
   {
    "duration": 14,
    "start_time": "2021-12-10T10:51:20.744Z"
   },
   {
    "duration": 23,
    "start_time": "2021-12-10T10:51:20.760Z"
   },
   {
    "duration": 41,
    "start_time": "2021-12-10T10:51:20.786Z"
   },
   {
    "duration": 30,
    "start_time": "2021-12-10T10:51:20.829Z"
   },
   {
    "duration": 40,
    "start_time": "2021-12-10T10:51:20.862Z"
   },
   {
    "duration": 23,
    "start_time": "2021-12-10T10:51:20.905Z"
   },
   {
    "duration": 11,
    "start_time": "2021-12-10T10:51:20.930Z"
   },
   {
    "duration": 45,
    "start_time": "2021-12-10T10:51:20.943Z"
   },
   {
    "duration": 13,
    "start_time": "2021-12-10T10:51:20.990Z"
   },
   {
    "duration": 15,
    "start_time": "2021-12-10T10:51:21.005Z"
   },
   {
    "duration": 20,
    "start_time": "2021-12-10T10:51:21.022Z"
   },
   {
    "duration": 11,
    "start_time": "2021-12-10T10:51:21.045Z"
   },
   {
    "duration": 100,
    "start_time": "2021-12-10T10:51:21.058Z"
   },
   {
    "duration": 16,
    "start_time": "2021-12-10T10:51:21.160Z"
   },
   {
    "duration": 12,
    "start_time": "2021-12-10T10:51:21.178Z"
   },
   {
    "duration": 446,
    "start_time": "2021-12-10T10:51:21.193Z"
   },
   {
    "duration": 10,
    "start_time": "2021-12-10T10:51:21.641Z"
   },
   {
    "duration": 30,
    "start_time": "2021-12-10T10:51:21.654Z"
   },
   {
    "duration": 30,
    "start_time": "2021-12-10T10:51:21.687Z"
   },
   {
    "duration": 18,
    "start_time": "2021-12-10T10:51:21.719Z"
   },
   {
    "duration": 42,
    "start_time": "2021-12-10T10:51:21.739Z"
   },
   {
    "duration": 24,
    "start_time": "2021-12-10T10:51:21.784Z"
   },
   {
    "duration": 25,
    "start_time": "2021-12-10T10:51:21.810Z"
   },
   {
    "duration": 492,
    "start_time": "2021-12-10T10:51:21.837Z"
   },
   {
    "duration": 490,
    "start_time": "2021-12-10T10:51:22.332Z"
   },
   {
    "duration": 495,
    "start_time": "2021-12-10T10:51:22.824Z"
   },
   {
    "duration": 16,
    "start_time": "2021-12-10T10:51:23.322Z"
   },
   {
    "duration": 16,
    "start_time": "2021-12-10T10:51:23.341Z"
   },
   {
    "duration": 457,
    "start_time": "2021-12-10T10:51:23.360Z"
   },
   {
    "duration": 11,
    "start_time": "2021-12-10T10:51:23.819Z"
   },
   {
    "duration": 32,
    "start_time": "2021-12-10T10:51:23.833Z"
   },
   {
    "duration": 120,
    "start_time": "2021-12-10T10:51:23.869Z"
   },
   {
    "duration": 12,
    "start_time": "2021-12-10T10:51:23.992Z"
   },
   {
    "duration": 29,
    "start_time": "2021-12-10T10:51:24.007Z"
   },
   {
    "duration": 65,
    "start_time": "2021-12-10T10:51:24.038Z"
   },
   {
    "duration": 22,
    "start_time": "2021-12-10T10:51:24.106Z"
   },
   {
    "duration": 20,
    "start_time": "2021-12-10T10:51:24.130Z"
   },
   {
    "duration": 17,
    "start_time": "2021-12-10T10:51:24.152Z"
   },
   {
    "duration": 453,
    "start_time": "2021-12-10T10:51:24.171Z"
   },
   {
    "duration": 7,
    "start_time": "2021-12-10T10:51:24.626Z"
   },
   {
    "duration": 17,
    "start_time": "2021-12-10T10:51:24.642Z"
   },
   {
    "duration": 59,
    "start_time": "2021-12-10T10:51:24.662Z"
   },
   {
    "duration": 7,
    "start_time": "2021-12-10T10:51:24.724Z"
   },
   {
    "duration": 22,
    "start_time": "2021-12-10T10:51:24.734Z"
   },
   {
    "duration": 78,
    "start_time": "2021-12-10T10:51:24.758Z"
   },
   {
    "duration": 9,
    "start_time": "2021-12-10T10:51:24.839Z"
   },
   {
    "duration": 418,
    "start_time": "2021-12-10T10:51:24.851Z"
   },
   {
    "duration": 397,
    "start_time": "2021-12-10T10:51:25.271Z"
   },
   {
    "duration": 370,
    "start_time": "2021-12-10T10:51:25.671Z"
   },
   {
    "duration": 406,
    "start_time": "2021-12-10T10:51:26.044Z"
   },
   {
    "duration": 388,
    "start_time": "2021-12-10T10:51:26.453Z"
   },
   {
    "duration": 398,
    "start_time": "2021-12-10T10:51:26.843Z"
   },
   {
    "duration": 1275,
    "start_time": "2021-12-10T10:51:27.244Z"
   },
   {
    "duration": 11,
    "start_time": "2021-12-10T10:51:28.521Z"
   },
   {
    "duration": 4,
    "start_time": "2021-12-10T10:51:28.535Z"
   },
   {
    "duration": 7,
    "start_time": "2021-12-10T10:51:28.541Z"
   },
   {
    "duration": 12,
    "start_time": "2021-12-10T10:51:28.551Z"
   },
   {
    "duration": 5,
    "start_time": "2021-12-10T10:51:28.565Z"
   },
   {
    "duration": 51,
    "start_time": "2021-12-10T10:51:28.572Z"
   },
   {
    "duration": 9,
    "start_time": "2021-12-10T10:51:28.625Z"
   },
   {
    "duration": 6,
    "start_time": "2021-12-10T10:51:28.636Z"
   },
   {
    "duration": 7,
    "start_time": "2021-12-10T10:51:28.644Z"
   },
   {
    "duration": 5,
    "start_time": "2021-12-10T10:51:28.653Z"
   },
   {
    "duration": 7,
    "start_time": "2021-12-10T10:51:28.661Z"
   },
   {
    "duration": 4,
    "start_time": "2021-12-10T10:51:28.718Z"
   },
   {
    "duration": 15,
    "start_time": "2021-12-10T10:51:28.725Z"
   },
   {
    "duration": 9,
    "start_time": "2021-12-10T10:51:28.742Z"
   },
   {
    "duration": 8,
    "start_time": "2021-12-10T10:51:28.753Z"
   },
   {
    "duration": 8,
    "start_time": "2021-12-10T10:51:28.763Z"
   },
   {
    "duration": 47,
    "start_time": "2021-12-10T10:51:28.773Z"
   },
   {
    "duration": 7,
    "start_time": "2021-12-10T10:51:28.822Z"
   },
   {
    "duration": 6,
    "start_time": "2021-12-10T10:51:28.832Z"
   },
   {
    "duration": 6,
    "start_time": "2021-12-10T10:53:25.948Z"
   },
   {
    "duration": 1161,
    "start_time": "2022-01-03T11:40:45.200Z"
   },
   {
    "duration": 165,
    "start_time": "2022-01-03T11:40:46.362Z"
   },
   {
    "duration": 13,
    "start_time": "2022-01-03T11:40:46.529Z"
   },
   {
    "duration": 133,
    "start_time": "2022-01-03T11:40:46.543Z"
   },
   {
    "duration": 8,
    "start_time": "2022-01-03T11:40:46.678Z"
   },
   {
    "duration": 5,
    "start_time": "2022-01-03T11:40:46.688Z"
   },
   {
    "duration": 98,
    "start_time": "2022-01-03T11:40:46.695Z"
   },
   {
    "duration": 7,
    "start_time": "2022-01-03T11:40:46.795Z"
   },
   {
    "duration": 20,
    "start_time": "2022-01-03T11:40:46.804Z"
   },
   {
    "duration": 15,
    "start_time": "2022-01-03T11:40:46.827Z"
   },
   {
    "duration": 32,
    "start_time": "2022-01-03T11:40:46.843Z"
   },
   {
    "duration": 11,
    "start_time": "2022-01-03T11:40:46.877Z"
   },
   {
    "duration": 6,
    "start_time": "2022-01-03T11:40:46.889Z"
   },
   {
    "duration": 43,
    "start_time": "2022-01-03T11:40:46.896Z"
   },
   {
    "duration": 17,
    "start_time": "2022-01-03T11:40:46.941Z"
   },
   {
    "duration": 21,
    "start_time": "2022-01-03T11:40:46.960Z"
   },
   {
    "duration": 4,
    "start_time": "2022-01-03T11:40:46.983Z"
   },
   {
    "duration": 7,
    "start_time": "2022-01-03T11:40:46.989Z"
   },
   {
    "duration": 8,
    "start_time": "2022-01-03T11:40:46.998Z"
   },
   {
    "duration": 4,
    "start_time": "2022-01-03T11:40:47.007Z"
   },
   {
    "duration": 31,
    "start_time": "2022-01-03T11:40:47.012Z"
   },
   {
    "duration": 22,
    "start_time": "2022-01-03T11:40:47.045Z"
   },
   {
    "duration": 41,
    "start_time": "2022-01-03T11:40:47.068Z"
   },
   {
    "duration": 31,
    "start_time": "2022-01-03T11:40:47.110Z"
   },
   {
    "duration": 29,
    "start_time": "2022-01-03T11:40:47.143Z"
   },
   {
    "duration": 17,
    "start_time": "2022-01-03T11:40:47.174Z"
   },
   {
    "duration": 57,
    "start_time": "2022-01-03T11:40:47.195Z"
   },
   {
    "duration": 14,
    "start_time": "2022-01-03T11:40:47.255Z"
   },
   {
    "duration": 15,
    "start_time": "2022-01-03T11:40:47.271Z"
   },
   {
    "duration": 17,
    "start_time": "2022-01-03T11:40:47.287Z"
   },
   {
    "duration": 14,
    "start_time": "2022-01-03T11:40:47.305Z"
   },
   {
    "duration": 11,
    "start_time": "2022-01-03T11:40:47.341Z"
   },
   {
    "duration": 6,
    "start_time": "2022-01-03T11:40:47.354Z"
   },
   {
    "duration": 4,
    "start_time": "2022-01-03T11:40:47.362Z"
   },
   {
    "duration": 293,
    "start_time": "2022-01-03T11:40:47.368Z"
   },
   {
    "duration": 295,
    "start_time": "2022-01-03T11:40:47.368Z"
   },
   {
    "duration": 291,
    "start_time": "2022-01-03T11:40:47.373Z"
   },
   {
    "duration": 275,
    "start_time": "2022-01-03T11:40:47.390Z"
   },
   {
    "duration": 271,
    "start_time": "2022-01-03T11:40:47.395Z"
   },
   {
    "duration": 256,
    "start_time": "2022-01-03T11:40:47.411Z"
   },
   {
    "duration": 241,
    "start_time": "2022-01-03T11:40:47.427Z"
   },
   {
    "duration": 227,
    "start_time": "2022-01-03T11:40:47.443Z"
   },
   {
    "duration": 211,
    "start_time": "2022-01-03T11:40:47.460Z"
   },
   {
    "duration": 196,
    "start_time": "2022-01-03T11:40:47.476Z"
   },
   {
    "duration": 180,
    "start_time": "2022-01-03T11:40:47.493Z"
   },
   {
    "duration": 165,
    "start_time": "2022-01-03T11:40:47.509Z"
   },
   {
    "duration": 148,
    "start_time": "2022-01-03T11:40:47.527Z"
   },
   {
    "duration": 133,
    "start_time": "2022-01-03T11:40:47.543Z"
   },
   {
    "duration": 117,
    "start_time": "2022-01-03T11:40:47.560Z"
   },
   {
    "duration": 113,
    "start_time": "2022-01-03T11:40:47.565Z"
   },
   {
    "duration": 109,
    "start_time": "2022-01-03T11:40:47.570Z"
   },
   {
    "duration": 106,
    "start_time": "2022-01-03T11:40:47.574Z"
   },
   {
    "duration": 102,
    "start_time": "2022-01-03T11:40:47.579Z"
   },
   {
    "duration": 98,
    "start_time": "2022-01-03T11:40:47.584Z"
   },
   {
    "duration": 95,
    "start_time": "2022-01-03T11:40:47.588Z"
   },
   {
    "duration": 92,
    "start_time": "2022-01-03T11:40:47.592Z"
   },
   {
    "duration": 89,
    "start_time": "2022-01-03T11:40:47.596Z"
   },
   {
    "duration": 86,
    "start_time": "2022-01-03T11:40:47.600Z"
   },
   {
    "duration": 82,
    "start_time": "2022-01-03T11:40:47.605Z"
   },
   {
    "duration": 78,
    "start_time": "2022-01-03T11:40:47.610Z"
   },
   {
    "duration": 75,
    "start_time": "2022-01-03T11:40:47.615Z"
   },
   {
    "duration": 72,
    "start_time": "2022-01-03T11:40:47.619Z"
   },
   {
    "duration": 68,
    "start_time": "2022-01-03T11:40:47.623Z"
   },
   {
    "duration": 63,
    "start_time": "2022-01-03T11:40:47.629Z"
   },
   {
    "duration": 36,
    "start_time": "2022-01-03T11:40:47.657Z"
   },
   {
    "duration": 32,
    "start_time": "2022-01-03T11:40:47.662Z"
   },
   {
    "duration": 15,
    "start_time": "2022-01-03T11:40:47.680Z"
   },
   {
    "duration": -1,
    "start_time": "2022-01-03T11:40:47.697Z"
   },
   {
    "duration": -29,
    "start_time": "2022-01-03T11:40:47.726Z"
   },
   {
    "duration": -46,
    "start_time": "2022-01-03T11:40:47.744Z"
   },
   {
    "duration": -20,
    "start_time": "2022-01-03T11:40:47.762Z"
   },
   {
    "duration": -36,
    "start_time": "2022-01-03T11:40:47.780Z"
   },
   {
    "duration": -53,
    "start_time": "2022-01-03T11:40:47.798Z"
   },
   {
    "duration": -58,
    "start_time": "2022-01-03T11:40:47.803Z"
   },
   {
    "duration": -62,
    "start_time": "2022-01-03T11:40:47.808Z"
   },
   {
    "duration": -67,
    "start_time": "2022-01-03T11:40:47.814Z"
   },
   {
    "duration": -71,
    "start_time": "2022-01-03T11:40:47.819Z"
   },
   {
    "duration": -75,
    "start_time": "2022-01-03T11:40:47.824Z"
   },
   {
    "duration": -80,
    "start_time": "2022-01-03T11:40:47.830Z"
   },
   {
    "duration": -83,
    "start_time": "2022-01-03T11:40:47.834Z"
   },
   {
    "duration": -87,
    "start_time": "2022-01-03T11:40:47.839Z"
   },
   {
    "duration": -91,
    "start_time": "2022-01-03T11:40:47.844Z"
   },
   {
    "duration": -95,
    "start_time": "2022-01-03T11:40:47.849Z"
   },
   {
    "duration": -98,
    "start_time": "2022-01-03T11:40:47.853Z"
   },
   {
    "duration": -103,
    "start_time": "2022-01-03T11:40:47.859Z"
   },
   {
    "duration": -106,
    "start_time": "2022-01-03T11:40:47.863Z"
   },
   {
    "duration": -110,
    "start_time": "2022-01-03T11:40:47.868Z"
   },
   {
    "duration": -114,
    "start_time": "2022-01-03T11:40:47.873Z"
   },
   {
    "duration": -118,
    "start_time": "2022-01-03T11:40:47.878Z"
   },
   {
    "duration": -198,
    "start_time": "2022-01-03T11:40:47.959Z"
   },
   {
    "duration": -219,
    "start_time": "2022-01-03T11:40:47.981Z"
   },
   {
    "duration": -247,
    "start_time": "2022-01-03T11:40:48.010Z"
   },
   {
    "duration": -274,
    "start_time": "2022-01-03T11:40:48.038Z"
   },
   {
    "duration": -303,
    "start_time": "2022-01-03T11:40:48.068Z"
   },
   {
    "duration": -307,
    "start_time": "2022-01-03T11:40:48.073Z"
   },
   {
    "duration": -311,
    "start_time": "2022-01-03T11:40:48.078Z"
   },
   {
    "duration": -315,
    "start_time": "2022-01-03T11:40:48.083Z"
   },
   {
    "duration": -320,
    "start_time": "2022-01-03T11:40:48.089Z"
   },
   {
    "duration": -327,
    "start_time": "2022-01-03T11:40:48.096Z"
   },
   {
    "duration": -330,
    "start_time": "2022-01-03T11:40:48.101Z"
   },
   {
    "duration": 1140,
    "start_time": "2022-01-03T11:42:05.811Z"
   },
   {
    "duration": 155,
    "start_time": "2022-01-03T11:42:06.952Z"
   },
   {
    "duration": 11,
    "start_time": "2022-01-03T11:42:07.113Z"
   },
   {
    "duration": 136,
    "start_time": "2022-01-03T11:42:07.126Z"
   },
   {
    "duration": 8,
    "start_time": "2022-01-03T11:42:07.264Z"
   },
   {
    "duration": 7,
    "start_time": "2022-01-03T11:42:07.274Z"
   },
   {
    "duration": 92,
    "start_time": "2022-01-03T11:42:07.283Z"
   },
   {
    "duration": 7,
    "start_time": "2022-01-03T11:42:07.378Z"
   },
   {
    "duration": 25,
    "start_time": "2022-01-03T11:42:07.386Z"
   },
   {
    "duration": 7,
    "start_time": "2022-01-03T11:42:07.413Z"
   },
   {
    "duration": 35,
    "start_time": "2022-01-03T11:42:07.421Z"
   },
   {
    "duration": 9,
    "start_time": "2022-01-03T11:42:07.457Z"
   },
   {
    "duration": 7,
    "start_time": "2022-01-03T11:42:07.467Z"
   },
   {
    "duration": 29,
    "start_time": "2022-01-03T11:42:07.475Z"
   },
   {
    "duration": 16,
    "start_time": "2022-01-03T11:42:07.506Z"
   },
   {
    "duration": 34,
    "start_time": "2022-01-03T11:42:07.523Z"
   },
   {
    "duration": 4,
    "start_time": "2022-01-03T11:42:07.558Z"
   },
   {
    "duration": 5,
    "start_time": "2022-01-03T11:42:07.564Z"
   },
   {
    "duration": 7,
    "start_time": "2022-01-03T11:42:07.571Z"
   },
   {
    "duration": 3,
    "start_time": "2022-01-03T11:42:07.579Z"
   },
   {
    "duration": 12,
    "start_time": "2022-01-03T11:42:07.584Z"
   },
   {
    "duration": 23,
    "start_time": "2022-01-03T11:42:07.599Z"
   },
   {
    "duration": 55,
    "start_time": "2022-01-03T11:42:07.624Z"
   },
   {
    "duration": 15,
    "start_time": "2022-01-03T11:42:07.680Z"
   },
   {
    "duration": 27,
    "start_time": "2022-01-03T11:42:07.696Z"
   },
   {
    "duration": 28,
    "start_time": "2022-01-03T11:42:07.725Z"
   },
   {
    "duration": 35,
    "start_time": "2022-01-03T11:42:07.754Z"
   },
   {
    "duration": 9,
    "start_time": "2022-01-03T11:42:07.791Z"
   },
   {
    "duration": 41,
    "start_time": "2022-01-03T11:42:07.801Z"
   },
   {
    "duration": 9,
    "start_time": "2022-01-03T11:42:07.843Z"
   },
   {
    "duration": 13,
    "start_time": "2022-01-03T11:42:07.853Z"
   },
   {
    "duration": 10,
    "start_time": "2022-01-03T11:42:07.868Z"
   },
   {
    "duration": 5,
    "start_time": "2022-01-03T11:42:07.880Z"
   },
   {
    "duration": 6,
    "start_time": "2022-01-03T11:42:07.887Z"
   },
   {
    "duration": 281,
    "start_time": "2022-01-03T11:42:07.894Z"
   },
   {
    "duration": -529,
    "start_time": "2022-01-03T11:42:08.707Z"
   },
   {
    "duration": -544,
    "start_time": "2022-01-03T11:42:08.722Z"
   },
   {
    "duration": -549,
    "start_time": "2022-01-03T11:42:08.728Z"
   },
   {
    "duration": -564,
    "start_time": "2022-01-03T11:42:08.744Z"
   },
   {
    "duration": -578,
    "start_time": "2022-01-03T11:42:08.759Z"
   },
   {
    "duration": -593,
    "start_time": "2022-01-03T11:42:08.775Z"
   },
   {
    "duration": -607,
    "start_time": "2022-01-03T11:42:08.789Z"
   },
   {
    "duration": -624,
    "start_time": "2022-01-03T11:42:08.807Z"
   },
   {
    "duration": -638,
    "start_time": "2022-01-03T11:42:08.822Z"
   },
   {
    "duration": -652,
    "start_time": "2022-01-03T11:42:08.837Z"
   },
   {
    "duration": -657,
    "start_time": "2022-01-03T11:42:08.843Z"
   },
   {
    "duration": -672,
    "start_time": "2022-01-03T11:42:08.859Z"
   },
   {
    "duration": -685,
    "start_time": "2022-01-03T11:42:08.873Z"
   },
   {
    "duration": -690,
    "start_time": "2022-01-03T11:42:08.879Z"
   },
   {
    "duration": -693,
    "start_time": "2022-01-03T11:42:08.883Z"
   },
   {
    "duration": -697,
    "start_time": "2022-01-03T11:42:08.888Z"
   },
   {
    "duration": -699,
    "start_time": "2022-01-03T11:42:08.893Z"
   },
   {
    "duration": -703,
    "start_time": "2022-01-03T11:42:08.898Z"
   },
   {
    "duration": -708,
    "start_time": "2022-01-03T11:42:08.904Z"
   },
   {
    "duration": -713,
    "start_time": "2022-01-03T11:42:08.909Z"
   },
   {
    "duration": -716,
    "start_time": "2022-01-03T11:42:08.913Z"
   },
   {
    "duration": -720,
    "start_time": "2022-01-03T11:42:08.918Z"
   },
   {
    "duration": -723,
    "start_time": "2022-01-03T11:42:08.922Z"
   },
   {
    "duration": -726,
    "start_time": "2022-01-03T11:42:08.926Z"
   },
   {
    "duration": -730,
    "start_time": "2022-01-03T11:42:08.930Z"
   },
   {
    "duration": -732,
    "start_time": "2022-01-03T11:42:08.934Z"
   },
   {
    "duration": -735,
    "start_time": "2022-01-03T11:42:08.938Z"
   },
   {
    "duration": -740,
    "start_time": "2022-01-03T11:42:08.943Z"
   },
   {
    "duration": -743,
    "start_time": "2022-01-03T11:42:08.947Z"
   },
   {
    "duration": -746,
    "start_time": "2022-01-03T11:42:08.951Z"
   },
   {
    "duration": -749,
    "start_time": "2022-01-03T11:42:08.955Z"
   },
   {
    "duration": -753,
    "start_time": "2022-01-03T11:42:08.960Z"
   },
   {
    "duration": -756,
    "start_time": "2022-01-03T11:42:08.964Z"
   },
   {
    "duration": -760,
    "start_time": "2022-01-03T11:42:08.969Z"
   },
   {
    "duration": -777,
    "start_time": "2022-01-03T11:42:08.987Z"
   },
   {
    "duration": -781,
    "start_time": "2022-01-03T11:42:08.992Z"
   },
   {
    "duration": -784,
    "start_time": "2022-01-03T11:42:08.996Z"
   },
   {
    "duration": -788,
    "start_time": "2022-01-03T11:42:09.000Z"
   },
   {
    "duration": -791,
    "start_time": "2022-01-03T11:42:09.004Z"
   },
   {
    "duration": -796,
    "start_time": "2022-01-03T11:42:09.010Z"
   },
   {
    "duration": -774,
    "start_time": "2022-01-03T11:42:09.015Z"
   },
   {
    "duration": -778,
    "start_time": "2022-01-03T11:42:09.020Z"
   },
   {
    "duration": -783,
    "start_time": "2022-01-03T11:42:09.025Z"
   },
   {
    "duration": -786,
    "start_time": "2022-01-03T11:42:09.030Z"
   },
   {
    "duration": -789,
    "start_time": "2022-01-03T11:42:09.034Z"
   },
   {
    "duration": -794,
    "start_time": "2022-01-03T11:42:09.039Z"
   },
   {
    "duration": -797,
    "start_time": "2022-01-03T11:42:09.043Z"
   },
   {
    "duration": -801,
    "start_time": "2022-01-03T11:42:09.048Z"
   },
   {
    "duration": -804,
    "start_time": "2022-01-03T11:42:09.052Z"
   },
   {
    "duration": -809,
    "start_time": "2022-01-03T11:42:09.057Z"
   },
   {
    "duration": -812,
    "start_time": "2022-01-03T11:42:09.061Z"
   },
   {
    "duration": -817,
    "start_time": "2022-01-03T11:42:09.067Z"
   },
   {
    "duration": -819,
    "start_time": "2022-01-03T11:42:09.070Z"
   },
   {
    "duration": -824,
    "start_time": "2022-01-03T11:42:09.075Z"
   },
   {
    "duration": -827,
    "start_time": "2022-01-03T11:42:09.079Z"
   },
   {
    "duration": -831,
    "start_time": "2022-01-03T11:42:09.084Z"
   },
   {
    "duration": -849,
    "start_time": "2022-01-03T11:42:09.103Z"
   },
   {
    "duration": -855,
    "start_time": "2022-01-03T11:42:09.109Z"
   },
   {
    "duration": -858,
    "start_time": "2022-01-03T11:42:09.113Z"
   },
   {
    "duration": -861,
    "start_time": "2022-01-03T11:42:09.117Z"
   },
   {
    "duration": -864,
    "start_time": "2022-01-03T11:42:09.121Z"
   },
   {
    "duration": -933,
    "start_time": "2022-01-03T11:42:09.190Z"
   },
   {
    "duration": -950,
    "start_time": "2022-01-03T11:42:09.208Z"
   },
   {
    "duration": -966,
    "start_time": "2022-01-03T11:42:09.225Z"
   },
   {
    "duration": -982,
    "start_time": "2022-01-03T11:42:09.241Z"
   },
   {
    "duration": 1058,
    "start_time": "2022-01-03T11:42:38.680Z"
   },
   {
    "duration": 156,
    "start_time": "2022-01-03T11:42:39.740Z"
   },
   {
    "duration": 11,
    "start_time": "2022-01-03T11:42:39.899Z"
   },
   {
    "duration": 139,
    "start_time": "2022-01-03T11:42:39.912Z"
   },
   {
    "duration": 8,
    "start_time": "2022-01-03T11:42:40.052Z"
   },
   {
    "duration": 25,
    "start_time": "2022-01-03T11:42:40.062Z"
   },
   {
    "duration": 117,
    "start_time": "2022-01-03T11:42:40.088Z"
   },
   {
    "duration": 6,
    "start_time": "2022-01-03T11:42:40.208Z"
   },
   {
    "duration": 31,
    "start_time": "2022-01-03T11:42:40.216Z"
   },
   {
    "duration": 16,
    "start_time": "2022-01-03T11:42:40.248Z"
   },
   {
    "duration": 55,
    "start_time": "2022-01-03T11:42:40.266Z"
   },
   {
    "duration": 23,
    "start_time": "2022-01-03T11:42:40.322Z"
   },
   {
    "duration": 24,
    "start_time": "2022-01-03T11:42:40.346Z"
   },
   {
    "duration": 48,
    "start_time": "2022-01-03T11:42:40.371Z"
   },
   {
    "duration": 18,
    "start_time": "2022-01-03T11:42:40.421Z"
   },
   {
    "duration": 45,
    "start_time": "2022-01-03T11:42:40.441Z"
   },
   {
    "duration": 5,
    "start_time": "2022-01-03T11:42:40.488Z"
   },
   {
    "duration": 40,
    "start_time": "2022-01-03T11:42:40.495Z"
   },
   {
    "duration": 17,
    "start_time": "2022-01-03T11:42:40.537Z"
   },
   {
    "duration": 29,
    "start_time": "2022-01-03T11:42:40.555Z"
   },
   {
    "duration": 30,
    "start_time": "2022-01-03T11:42:40.586Z"
   },
   {
    "duration": 47,
    "start_time": "2022-01-03T11:42:40.617Z"
   },
   {
    "duration": 41,
    "start_time": "2022-01-03T11:42:40.668Z"
   },
   {
    "duration": 13,
    "start_time": "2022-01-03T11:42:40.712Z"
   },
   {
    "duration": 41,
    "start_time": "2022-01-03T11:42:40.727Z"
   },
   {
    "duration": 16,
    "start_time": "2022-01-03T11:42:40.769Z"
   },
   {
    "duration": 54,
    "start_time": "2022-01-03T11:42:40.786Z"
   },
   {
    "duration": 9,
    "start_time": "2022-01-03T11:42:40.842Z"
   },
   {
    "duration": 26,
    "start_time": "2022-01-03T11:42:40.852Z"
   },
   {
    "duration": 35,
    "start_time": "2022-01-03T11:42:40.879Z"
   },
   {
    "duration": 28,
    "start_time": "2022-01-03T11:42:40.916Z"
   },
   {
    "duration": 39,
    "start_time": "2022-01-03T11:42:40.945Z"
   },
   {
    "duration": 21,
    "start_time": "2022-01-03T11:42:40.985Z"
   },
   {
    "duration": 25,
    "start_time": "2022-01-03T11:42:41.008Z"
   },
   {
    "duration": 373,
    "start_time": "2022-01-03T11:42:41.034Z"
   },
   {
    "duration": 533,
    "start_time": "2022-01-03T11:42:40.877Z"
   },
   {
    "duration": 517,
    "start_time": "2022-01-03T11:42:40.894Z"
   },
   {
    "duration": 500,
    "start_time": "2022-01-03T11:42:40.912Z"
   },
   {
    "duration": 497,
    "start_time": "2022-01-03T11:42:40.916Z"
   },
   {
    "duration": 494,
    "start_time": "2022-01-03T11:42:40.920Z"
   },
   {
    "duration": 490,
    "start_time": "2022-01-03T11:42:40.925Z"
   },
   {
    "duration": 486,
    "start_time": "2022-01-03T11:42:40.930Z"
   },
   {
    "duration": 482,
    "start_time": "2022-01-03T11:42:40.935Z"
   },
   {
    "duration": 479,
    "start_time": "2022-01-03T11:42:40.939Z"
   },
   {
    "duration": 475,
    "start_time": "2022-01-03T11:42:40.944Z"
   },
   {
    "duration": 467,
    "start_time": "2022-01-03T11:42:40.953Z"
   },
   {
    "duration": 429,
    "start_time": "2022-01-03T11:42:40.992Z"
   },
   {
    "duration": 413,
    "start_time": "2022-01-03T11:42:41.009Z"
   },
   {
    "duration": 398,
    "start_time": "2022-01-03T11:42:41.025Z"
   },
   {
    "duration": 262,
    "start_time": "2022-01-03T11:42:41.162Z"
   },
   {
    "duration": 185,
    "start_time": "2022-01-03T11:42:41.240Z"
   },
   {
    "duration": 170,
    "start_time": "2022-01-03T11:42:41.256Z"
   },
   {
    "duration": 166,
    "start_time": "2022-01-03T11:42:41.261Z"
   },
   {
    "duration": 151,
    "start_time": "2022-01-03T11:42:41.277Z"
   },
   {
    "duration": 136,
    "start_time": "2022-01-03T11:42:41.293Z"
   },
   {
    "duration": 121,
    "start_time": "2022-01-03T11:42:41.309Z"
   },
   {
    "duration": 106,
    "start_time": "2022-01-03T11:42:41.325Z"
   },
   {
    "duration": 84,
    "start_time": "2022-01-03T11:42:41.348Z"
   },
   {
    "duration": 84,
    "start_time": "2022-01-03T11:42:41.356Z"
   },
   {
    "duration": 76,
    "start_time": "2022-01-03T11:42:41.365Z"
   },
   {
    "duration": 70,
    "start_time": "2022-01-03T11:42:41.372Z"
   },
   {
    "duration": 65,
    "start_time": "2022-01-03T11:42:41.378Z"
   },
   {
    "duration": 62,
    "start_time": "2022-01-03T11:42:41.384Z"
   },
   {
    "duration": 28,
    "start_time": "2022-01-03T11:42:41.419Z"
   },
   {
    "duration": -5,
    "start_time": "2022-01-03T11:42:41.453Z"
   },
   {
    "duration": -10,
    "start_time": "2022-01-03T11:42:41.459Z"
   },
   {
    "duration": -26,
    "start_time": "2022-01-03T11:42:41.476Z"
   },
   {
    "duration": -42,
    "start_time": "2022-01-03T11:42:41.493Z"
   },
   {
    "duration": -58,
    "start_time": "2022-01-03T11:42:41.510Z"
   },
   {
    "duration": -74,
    "start_time": "2022-01-03T11:42:41.526Z"
   },
   {
    "duration": -89,
    "start_time": "2022-01-03T11:42:41.543Z"
   },
   {
    "duration": -94,
    "start_time": "2022-01-03T11:42:41.548Z"
   },
   {
    "duration": -96,
    "start_time": "2022-01-03T11:42:41.552Z"
   },
   {
    "duration": -100,
    "start_time": "2022-01-03T11:42:41.557Z"
   },
   {
    "duration": -107,
    "start_time": "2022-01-03T11:42:41.564Z"
   },
   {
    "duration": -109,
    "start_time": "2022-01-03T11:42:41.568Z"
   },
   {
    "duration": -113,
    "start_time": "2022-01-03T11:42:41.573Z"
   },
   {
    "duration": -596,
    "start_time": "2022-01-03T11:42:42.057Z"
   },
   {
    "duration": -611,
    "start_time": "2022-01-03T11:42:42.073Z"
   },
   {
    "duration": -627,
    "start_time": "2022-01-03T11:42:42.089Z"
   },
   {
    "duration": -640,
    "start_time": "2022-01-03T11:42:42.104Z"
   },
   {
    "duration": -646,
    "start_time": "2022-01-03T11:42:42.110Z"
   },
   {
    "duration": -660,
    "start_time": "2022-01-03T11:42:42.126Z"
   },
   {
    "duration": -675,
    "start_time": "2022-01-03T11:42:42.142Z"
   },
   {
    "duration": -691,
    "start_time": "2022-01-03T11:42:42.159Z"
   },
   {
    "duration": -695,
    "start_time": "2022-01-03T11:42:42.164Z"
   },
   {
    "duration": -698,
    "start_time": "2022-01-03T11:42:42.168Z"
   },
   {
    "duration": -703,
    "start_time": "2022-01-03T11:42:42.173Z"
   },
   {
    "duration": -707,
    "start_time": "2022-01-03T11:42:42.179Z"
   },
   {
    "duration": -711,
    "start_time": "2022-01-03T11:42:42.184Z"
   },
   {
    "duration": -715,
    "start_time": "2022-01-03T11:42:42.188Z"
   },
   {
    "duration": -719,
    "start_time": "2022-01-03T11:42:42.193Z"
   },
   {
    "duration": -722,
    "start_time": "2022-01-03T11:42:42.197Z"
   },
   {
    "duration": -726,
    "start_time": "2022-01-03T11:42:42.202Z"
   },
   {
    "duration": -730,
    "start_time": "2022-01-03T11:42:42.207Z"
   },
   {
    "duration": -781,
    "start_time": "2022-01-03T11:42:42.259Z"
   },
   {
    "duration": -798,
    "start_time": "2022-01-03T11:42:42.276Z"
   },
   {
    "duration": -751,
    "start_time": "2022-01-03T11:42:42.291Z"
   },
   {
    "duration": -768,
    "start_time": "2022-01-03T11:42:42.309Z"
   },
   {
    "duration": -785,
    "start_time": "2022-01-03T11:42:42.327Z"
   },
   {
    "duration": 1042,
    "start_time": "2022-01-03T11:42:55.001Z"
   },
   {
    "duration": 153,
    "start_time": "2022-01-03T11:42:56.045Z"
   },
   {
    "duration": 10,
    "start_time": "2022-01-03T11:42:56.200Z"
   },
   {
    "duration": 125,
    "start_time": "2022-01-03T11:42:56.212Z"
   },
   {
    "duration": 9,
    "start_time": "2022-01-03T11:42:56.338Z"
   },
   {
    "duration": 12,
    "start_time": "2022-01-03T11:42:56.348Z"
   },
   {
    "duration": 106,
    "start_time": "2022-01-03T11:42:56.361Z"
   },
   {
    "duration": 6,
    "start_time": "2022-01-03T11:42:56.470Z"
   },
   {
    "duration": 21,
    "start_time": "2022-01-03T11:42:56.478Z"
   },
   {
    "duration": 19,
    "start_time": "2022-01-03T11:42:56.501Z"
   },
   {
    "duration": 50,
    "start_time": "2022-01-03T11:42:56.521Z"
   },
   {
    "duration": 13,
    "start_time": "2022-01-03T11:42:56.573Z"
   },
   {
    "duration": 17,
    "start_time": "2022-01-03T11:42:56.588Z"
   },
   {
    "duration": 35,
    "start_time": "2022-01-03T11:42:56.606Z"
   },
   {
    "duration": 16,
    "start_time": "2022-01-03T11:42:56.643Z"
   },
   {
    "duration": 23,
    "start_time": "2022-01-03T11:42:56.660Z"
   },
   {
    "duration": 7,
    "start_time": "2022-01-03T11:42:56.684Z"
   },
   {
    "duration": 19,
    "start_time": "2022-01-03T11:42:56.692Z"
   },
   {
    "duration": 18,
    "start_time": "2022-01-03T11:42:56.713Z"
   },
   {
    "duration": 18,
    "start_time": "2022-01-03T11:42:56.732Z"
   },
   {
    "duration": 17,
    "start_time": "2022-01-03T11:42:56.751Z"
   },
   {
    "duration": 40,
    "start_time": "2022-01-03T11:42:56.770Z"
   },
   {
    "duration": 44,
    "start_time": "2022-01-03T11:42:56.813Z"
   },
   {
    "duration": 14,
    "start_time": "2022-01-03T11:42:56.859Z"
   },
   {
    "duration": 38,
    "start_time": "2022-01-03T11:42:56.874Z"
   },
   {
    "duration": 15,
    "start_time": "2022-01-03T11:42:56.914Z"
   },
   {
    "duration": 33,
    "start_time": "2022-01-03T11:42:56.931Z"
   },
   {
    "duration": 9,
    "start_time": "2022-01-03T11:42:56.965Z"
   },
   {
    "duration": 16,
    "start_time": "2022-01-03T11:42:56.975Z"
   },
   {
    "duration": 15,
    "start_time": "2022-01-03T11:42:56.992Z"
   },
   {
    "duration": 23,
    "start_time": "2022-01-03T11:42:57.009Z"
   },
   {
    "duration": 23,
    "start_time": "2022-01-03T11:42:57.033Z"
   },
   {
    "duration": 6,
    "start_time": "2022-01-03T11:42:57.058Z"
   },
   {
    "duration": 18,
    "start_time": "2022-01-03T11:42:57.066Z"
   },
   {
    "duration": 37,
    "start_time": "2022-01-03T11:42:57.086Z"
   },
   {
    "duration": 4,
    "start_time": "2022-01-03T11:42:57.125Z"
   },
   {
    "duration": 22,
    "start_time": "2022-01-03T11:42:57.130Z"
   },
   {
    "duration": 26,
    "start_time": "2022-01-03T11:42:57.153Z"
   },
   {
    "duration": 17,
    "start_time": "2022-01-03T11:42:57.181Z"
   },
   {
    "duration": 16,
    "start_time": "2022-01-03T11:42:57.200Z"
   },
   {
    "duration": 67,
    "start_time": "2022-01-03T11:42:57.218Z"
   },
   {
    "duration": 11,
    "start_time": "2022-01-03T11:42:57.287Z"
   },
   {
    "duration": 10,
    "start_time": "2022-01-03T11:42:57.299Z"
   },
   {
    "duration": 231,
    "start_time": "2022-01-03T11:42:57.310Z"
   },
   {
    "duration": 6,
    "start_time": "2022-01-03T11:42:57.543Z"
   },
   {
    "duration": 20,
    "start_time": "2022-01-03T11:42:57.551Z"
   },
   {
    "duration": 23,
    "start_time": "2022-01-03T11:42:57.573Z"
   },
   {
    "duration": 11,
    "start_time": "2022-01-03T11:42:57.598Z"
   },
   {
    "duration": 41,
    "start_time": "2022-01-03T11:42:57.611Z"
   },
   {
    "duration": 18,
    "start_time": "2022-01-03T11:42:57.654Z"
   },
   {
    "duration": 14,
    "start_time": "2022-01-03T11:42:57.674Z"
   },
   {
    "duration": 267,
    "start_time": "2022-01-03T11:42:57.689Z"
   },
   {
    "duration": 277,
    "start_time": "2022-01-03T11:42:57.958Z"
   },
   {
    "duration": 269,
    "start_time": "2022-01-03T11:42:58.241Z"
   },
   {
    "duration": 10,
    "start_time": "2022-01-03T11:42:58.512Z"
   },
   {
    "duration": 21,
    "start_time": "2022-01-03T11:42:58.524Z"
   },
   {
    "duration": 249,
    "start_time": "2022-01-03T11:42:58.546Z"
   },
   {
    "duration": 6,
    "start_time": "2022-01-03T11:42:58.797Z"
   },
   {
    "duration": 12,
    "start_time": "2022-01-03T11:42:58.804Z"
   },
   {
    "duration": 87,
    "start_time": "2022-01-03T11:42:58.818Z"
   },
   {
    "duration": 6,
    "start_time": "2022-01-03T11:42:58.906Z"
   },
   {
    "duration": 16,
    "start_time": "2022-01-03T11:42:58.913Z"
   },
   {
    "duration": 30,
    "start_time": "2022-01-03T11:42:58.941Z"
   },
   {
    "duration": 5,
    "start_time": "2022-01-03T11:42:58.972Z"
   },
   {
    "duration": 14,
    "start_time": "2022-01-03T11:42:58.979Z"
   },
   {
    "duration": 8,
    "start_time": "2022-01-03T11:42:58.995Z"
   },
   {
    "duration": 241,
    "start_time": "2022-01-03T11:42:59.005Z"
   },
   {
    "duration": 6,
    "start_time": "2022-01-03T11:42:59.250Z"
   },
   {
    "duration": 14,
    "start_time": "2022-01-03T11:42:59.258Z"
   },
   {
    "duration": 19,
    "start_time": "2022-01-03T11:42:59.273Z"
   },
   {
    "duration": 5,
    "start_time": "2022-01-03T11:42:59.294Z"
   },
   {
    "duration": 16,
    "start_time": "2022-01-03T11:42:59.300Z"
   },
   {
    "duration": 48,
    "start_time": "2022-01-03T11:42:59.318Z"
   },
   {
    "duration": 8,
    "start_time": "2022-01-03T11:42:59.367Z"
   },
   {
    "duration": 216,
    "start_time": "2022-01-03T11:42:59.377Z"
   },
   {
    "duration": 201,
    "start_time": "2022-01-03T11:42:59.595Z"
   },
   {
    "duration": 192,
    "start_time": "2022-01-03T11:42:59.797Z"
   },
   {
    "duration": 265,
    "start_time": "2022-01-03T11:42:59.991Z"
   },
   {
    "duration": 220,
    "start_time": "2022-01-03T11:43:00.258Z"
   },
   {
    "duration": 204,
    "start_time": "2022-01-03T11:43:00.480Z"
   },
   {
    "duration": 811,
    "start_time": "2022-01-03T11:43:00.685Z"
   },
   {
    "duration": 7,
    "start_time": "2022-01-03T11:43:01.498Z"
   },
   {
    "duration": 10,
    "start_time": "2022-01-03T11:43:01.507Z"
   },
   {
    "duration": 17,
    "start_time": "2022-01-03T11:43:01.518Z"
   },
   {
    "duration": 22,
    "start_time": "2022-01-03T11:43:01.537Z"
   },
   {
    "duration": 3,
    "start_time": "2022-01-03T11:43:01.561Z"
   },
   {
    "duration": 15,
    "start_time": "2022-01-03T11:43:01.565Z"
   },
   {
    "duration": 16,
    "start_time": "2022-01-03T11:43:01.581Z"
   },
   {
    "duration": 16,
    "start_time": "2022-01-03T11:43:01.598Z"
   },
   {
    "duration": 11,
    "start_time": "2022-01-03T11:43:01.615Z"
   },
   {
    "duration": 16,
    "start_time": "2022-01-03T11:43:01.628Z"
   },
   {
    "duration": 20,
    "start_time": "2022-01-03T11:43:01.646Z"
   },
   {
    "duration": 15,
    "start_time": "2022-01-03T11:43:01.667Z"
   },
   {
    "duration": 26,
    "start_time": "2022-01-03T11:43:01.683Z"
   },
   {
    "duration": 13,
    "start_time": "2022-01-03T11:43:01.711Z"
   },
   {
    "duration": 12,
    "start_time": "2022-01-03T11:43:01.725Z"
   },
   {
    "duration": 20,
    "start_time": "2022-01-03T11:43:01.738Z"
   },
   {
    "duration": 15,
    "start_time": "2022-01-03T11:43:01.760Z"
   },
   {
    "duration": 14,
    "start_time": "2022-01-03T11:43:01.777Z"
   },
   {
    "duration": 21,
    "start_time": "2022-01-03T11:43:01.792Z"
   },
   {
    "duration": 1117,
    "start_time": "2022-01-03T11:43:45.325Z"
   },
   {
    "duration": 157,
    "start_time": "2022-01-03T11:43:46.443Z"
   },
   {
    "duration": 10,
    "start_time": "2022-01-03T11:43:46.602Z"
   },
   {
    "duration": 130,
    "start_time": "2022-01-03T11:43:46.613Z"
   },
   {
    "duration": 8,
    "start_time": "2022-01-03T11:43:46.745Z"
   },
   {
    "duration": 7,
    "start_time": "2022-01-03T11:43:46.754Z"
   },
   {
    "duration": 91,
    "start_time": "2022-01-03T11:43:46.762Z"
   },
   {
    "duration": 7,
    "start_time": "2022-01-03T11:43:46.855Z"
   },
   {
    "duration": 21,
    "start_time": "2022-01-03T11:43:46.864Z"
   },
   {
    "duration": 8,
    "start_time": "2022-01-03T11:43:46.887Z"
   },
   {
    "duration": 33,
    "start_time": "2022-01-03T11:43:46.897Z"
   },
   {
    "duration": 9,
    "start_time": "2022-01-03T11:43:46.932Z"
   },
   {
    "duration": 10,
    "start_time": "2022-01-03T11:43:46.942Z"
   },
   {
    "duration": 30,
    "start_time": "2022-01-03T11:43:46.953Z"
   },
   {
    "duration": 17,
    "start_time": "2022-01-03T11:43:46.984Z"
   },
   {
    "duration": 21,
    "start_time": "2022-01-03T11:43:47.002Z"
   },
   {
    "duration": 17,
    "start_time": "2022-01-03T11:43:47.024Z"
   },
   {
    "duration": 6,
    "start_time": "2022-01-03T11:43:47.043Z"
   },
   {
    "duration": 7,
    "start_time": "2022-01-03T11:43:47.050Z"
   },
   {
    "duration": 6,
    "start_time": "2022-01-03T11:43:47.058Z"
   },
   {
    "duration": 9,
    "start_time": "2022-01-03T11:43:47.065Z"
   },
   {
    "duration": 27,
    "start_time": "2022-01-03T11:43:47.075Z"
   },
   {
    "duration": 54,
    "start_time": "2022-01-03T11:43:47.106Z"
   },
   {
    "duration": 15,
    "start_time": "2022-01-03T11:43:47.162Z"
   },
   {
    "duration": 26,
    "start_time": "2022-01-03T11:43:47.178Z"
   },
   {
    "duration": 35,
    "start_time": "2022-01-03T11:43:47.206Z"
   },
   {
    "duration": 34,
    "start_time": "2022-01-03T11:43:47.242Z"
   },
   {
    "duration": 8,
    "start_time": "2022-01-03T11:43:47.278Z"
   },
   {
    "duration": 14,
    "start_time": "2022-01-03T11:43:47.287Z"
   },
   {
    "duration": 9,
    "start_time": "2022-01-03T11:43:47.303Z"
   },
   {
    "duration": 40,
    "start_time": "2022-01-03T11:43:47.313Z"
   },
   {
    "duration": 10,
    "start_time": "2022-01-03T11:43:47.355Z"
   },
   {
    "duration": 7,
    "start_time": "2022-01-03T11:43:47.366Z"
   },
   {
    "duration": 9,
    "start_time": "2022-01-03T11:43:47.374Z"
   },
   {
    "duration": 311,
    "start_time": "2022-01-03T11:43:47.384Z"
   },
   {
    "duration": 258,
    "start_time": "2022-01-03T11:43:47.441Z"
   },
   {
    "duration": 253,
    "start_time": "2022-01-03T11:43:47.446Z"
   },
   {
    "duration": 220,
    "start_time": "2022-01-03T11:43:47.480Z"
   },
   {
    "duration": 216,
    "start_time": "2022-01-03T11:43:47.485Z"
   },
   {
    "duration": 212,
    "start_time": "2022-01-03T11:43:47.490Z"
   },
   {
    "duration": 208,
    "start_time": "2022-01-03T11:43:47.495Z"
   },
   {
    "duration": 204,
    "start_time": "2022-01-03T11:43:47.500Z"
   },
   {
    "duration": 200,
    "start_time": "2022-01-03T11:43:47.504Z"
   },
   {
    "duration": 195,
    "start_time": "2022-01-03T11:43:47.510Z"
   },
   {
    "duration": 192,
    "start_time": "2022-01-03T11:43:47.514Z"
   },
   {
    "duration": 188,
    "start_time": "2022-01-03T11:43:47.519Z"
   },
   {
    "duration": 184,
    "start_time": "2022-01-03T11:43:47.524Z"
   },
   {
    "duration": 179,
    "start_time": "2022-01-03T11:43:47.529Z"
   },
   {
    "duration": 175,
    "start_time": "2022-01-03T11:43:47.534Z"
   },
   {
    "duration": 171,
    "start_time": "2022-01-03T11:43:47.539Z"
   },
   {
    "duration": 167,
    "start_time": "2022-01-03T11:43:47.544Z"
   },
   {
    "duration": 162,
    "start_time": "2022-01-03T11:43:47.549Z"
   },
   {
    "duration": 160,
    "start_time": "2022-01-03T11:43:47.553Z"
   },
   {
    "duration": 155,
    "start_time": "2022-01-03T11:43:47.559Z"
   },
   {
    "duration": 152,
    "start_time": "2022-01-03T11:43:47.563Z"
   },
   {
    "duration": 148,
    "start_time": "2022-01-03T11:43:47.568Z"
   },
   {
    "duration": 144,
    "start_time": "2022-01-03T11:43:47.573Z"
   },
   {
    "duration": 125,
    "start_time": "2022-01-03T11:43:47.592Z"
   },
   {
    "duration": 122,
    "start_time": "2022-01-03T11:43:47.596Z"
   },
   {
    "duration": 118,
    "start_time": "2022-01-03T11:43:47.601Z"
   },
   {
    "duration": 114,
    "start_time": "2022-01-03T11:43:47.606Z"
   },
   {
    "duration": 109,
    "start_time": "2022-01-03T11:43:47.612Z"
   },
   {
    "duration": 106,
    "start_time": "2022-01-03T11:43:47.616Z"
   },
   {
    "duration": 104,
    "start_time": "2022-01-03T11:43:47.621Z"
   },
   {
    "duration": 99,
    "start_time": "2022-01-03T11:43:47.626Z"
   },
   {
    "duration": 95,
    "start_time": "2022-01-03T11:43:47.631Z"
   },
   {
    "duration": 91,
    "start_time": "2022-01-03T11:43:47.636Z"
   },
   {
    "duration": 87,
    "start_time": "2022-01-03T11:43:47.641Z"
   },
   {
    "duration": 50,
    "start_time": "2022-01-03T11:43:47.679Z"
   },
   {
    "duration": 47,
    "start_time": "2022-01-03T11:43:47.683Z"
   },
   {
    "duration": 30,
    "start_time": "2022-01-03T11:43:47.701Z"
   },
   {
    "duration": 26,
    "start_time": "2022-01-03T11:43:47.706Z"
   },
   {
    "duration": 9,
    "start_time": "2022-01-03T11:43:47.724Z"
   },
   {
    "duration": -7,
    "start_time": "2022-01-03T11:43:47.741Z"
   },
   {
    "duration": -155,
    "start_time": "2022-01-03T11:43:47.890Z"
   },
   {
    "duration": -159,
    "start_time": "2022-01-03T11:43:47.895Z"
   },
   {
    "duration": -158,
    "start_time": "2022-01-03T11:43:47.899Z"
   },
   {
    "duration": -162,
    "start_time": "2022-01-03T11:43:47.904Z"
   },
   {
    "duration": -166,
    "start_time": "2022-01-03T11:43:47.909Z"
   },
   {
    "duration": -170,
    "start_time": "2022-01-03T11:43:47.914Z"
   },
   {
    "duration": -174,
    "start_time": "2022-01-03T11:43:47.919Z"
   },
   {
    "duration": -179,
    "start_time": "2022-01-03T11:43:47.924Z"
   },
   {
    "duration": -182,
    "start_time": "2022-01-03T11:43:47.928Z"
   },
   {
    "duration": -186,
    "start_time": "2022-01-03T11:43:47.933Z"
   },
   {
    "duration": -190,
    "start_time": "2022-01-03T11:43:47.938Z"
   },
   {
    "duration": -194,
    "start_time": "2022-01-03T11:43:47.943Z"
   },
   {
    "duration": -197,
    "start_time": "2022-01-03T11:43:47.947Z"
   },
   {
    "duration": -201,
    "start_time": "2022-01-03T11:43:47.952Z"
   },
   {
    "duration": -205,
    "start_time": "2022-01-03T11:43:47.957Z"
   },
   {
    "duration": -225,
    "start_time": "2022-01-03T11:43:47.978Z"
   },
   {
    "duration": -229,
    "start_time": "2022-01-03T11:43:47.983Z"
   },
   {
    "duration": -233,
    "start_time": "2022-01-03T11:43:47.988Z"
   },
   {
    "duration": -237,
    "start_time": "2022-01-03T11:43:47.993Z"
   },
   {
    "duration": -241,
    "start_time": "2022-01-03T11:43:47.998Z"
   },
   {
    "duration": -244,
    "start_time": "2022-01-03T11:43:48.002Z"
   },
   {
    "duration": -249,
    "start_time": "2022-01-03T11:43:48.008Z"
   },
   {
    "duration": -252,
    "start_time": "2022-01-03T11:43:48.012Z"
   },
   {
    "duration": -256,
    "start_time": "2022-01-03T11:43:48.017Z"
   },
   {
    "duration": -259,
    "start_time": "2022-01-03T11:43:48.021Z"
   },
   {
    "duration": -262,
    "start_time": "2022-01-03T11:43:48.025Z"
   },
   {
    "duration": 1124,
    "start_time": "2022-01-03T11:45:14.723Z"
   },
   {
    "duration": 156,
    "start_time": "2022-01-03T11:45:15.849Z"
   },
   {
    "duration": 11,
    "start_time": "2022-01-03T11:45:16.011Z"
   },
   {
    "duration": 131,
    "start_time": "2022-01-03T11:45:16.024Z"
   },
   {
    "duration": 8,
    "start_time": "2022-01-03T11:45:16.157Z"
   },
   {
    "duration": 6,
    "start_time": "2022-01-03T11:45:16.167Z"
   },
   {
    "duration": 99,
    "start_time": "2022-01-03T11:45:16.176Z"
   },
   {
    "duration": 7,
    "start_time": "2022-01-03T11:45:16.277Z"
   },
   {
    "duration": 21,
    "start_time": "2022-01-03T11:45:16.286Z"
   },
   {
    "duration": 7,
    "start_time": "2022-01-03T11:45:16.309Z"
   },
   {
    "duration": 32,
    "start_time": "2022-01-03T11:45:16.318Z"
   },
   {
    "duration": 10,
    "start_time": "2022-01-03T11:45:16.351Z"
   },
   {
    "duration": 6,
    "start_time": "2022-01-03T11:45:16.362Z"
   },
   {
    "duration": 34,
    "start_time": "2022-01-03T11:45:16.370Z"
   },
   {
    "duration": 16,
    "start_time": "2022-01-03T11:45:16.406Z"
   },
   {
    "duration": 23,
    "start_time": "2022-01-03T11:45:16.440Z"
   },
   {
    "duration": 4,
    "start_time": "2022-01-03T11:45:16.465Z"
   },
   {
    "duration": 7,
    "start_time": "2022-01-03T11:45:16.470Z"
   },
   {
    "duration": 9,
    "start_time": "2022-01-03T11:45:16.479Z"
   },
   {
    "duration": 4,
    "start_time": "2022-01-03T11:45:16.489Z"
   },
   {
    "duration": 10,
    "start_time": "2022-01-03T11:45:16.494Z"
   },
   {
    "duration": 36,
    "start_time": "2022-01-03T11:45:16.507Z"
   },
   {
    "duration": 38,
    "start_time": "2022-01-03T11:45:16.545Z"
   },
   {
    "duration": 14,
    "start_time": "2022-01-03T11:45:16.584Z"
   },
   {
    "duration": 44,
    "start_time": "2022-01-03T11:45:16.599Z"
   },
   {
    "duration": 16,
    "start_time": "2022-01-03T11:45:16.645Z"
   },
   {
    "duration": 32,
    "start_time": "2022-01-03T11:45:16.663Z"
   },
   {
    "duration": 8,
    "start_time": "2022-01-03T11:45:16.697Z"
   },
   {
    "duration": 36,
    "start_time": "2022-01-03T11:45:16.707Z"
   },
   {
    "duration": 10,
    "start_time": "2022-01-03T11:45:16.745Z"
   },
   {
    "duration": 13,
    "start_time": "2022-01-03T11:45:16.756Z"
   },
   {
    "duration": 10,
    "start_time": "2022-01-03T11:45:16.770Z"
   },
   {
    "duration": 16,
    "start_time": "2022-01-03T11:45:16.781Z"
   },
   {
    "duration": 3,
    "start_time": "2022-01-03T11:45:16.799Z"
   },
   {
    "duration": 47,
    "start_time": "2022-01-03T11:45:16.803Z"
   },
   {
    "duration": 3,
    "start_time": "2022-01-03T11:45:16.851Z"
   },
   {
    "duration": 28,
    "start_time": "2022-01-03T11:45:16.855Z"
   },
   {
    "duration": 5,
    "start_time": "2022-01-03T11:45:16.884Z"
   },
   {
    "duration": 10,
    "start_time": "2022-01-03T11:45:16.890Z"
   },
   {
    "duration": 7,
    "start_time": "2022-01-03T11:45:16.901Z"
   },
   {
    "duration": 252,
    "start_time": "2022-01-03T11:45:16.909Z"
   },
   {
    "duration": 10,
    "start_time": "2022-01-03T11:45:17.162Z"
   },
   {
    "duration": 9,
    "start_time": "2022-01-03T11:45:17.174Z"
   },
   {
    "duration": 231,
    "start_time": "2022-01-03T11:45:17.184Z"
   },
   {
    "duration": 8,
    "start_time": "2022-01-03T11:45:17.417Z"
   },
   {
    "duration": 23,
    "start_time": "2022-01-03T11:45:17.427Z"
   },
   {
    "duration": 8,
    "start_time": "2022-01-03T11:45:17.452Z"
   },
   {
    "duration": 419,
    "start_time": "2022-01-03T11:45:17.461Z"
   },
   {
    "duration": -633,
    "start_time": "2022-01-03T11:45:18.516Z"
   },
   {
    "duration": -637,
    "start_time": "2022-01-03T11:45:18.521Z"
   },
   {
    "duration": -642,
    "start_time": "2022-01-03T11:45:18.527Z"
   },
   {
    "duration": -645,
    "start_time": "2022-01-03T11:45:18.531Z"
   },
   {
    "duration": -648,
    "start_time": "2022-01-03T11:45:18.535Z"
   },
   {
    "duration": -653,
    "start_time": "2022-01-03T11:45:18.541Z"
   },
   {
    "duration": -656,
    "start_time": "2022-01-03T11:45:18.545Z"
   },
   {
    "duration": -659,
    "start_time": "2022-01-03T11:45:18.549Z"
   },
   {
    "duration": -663,
    "start_time": "2022-01-03T11:45:18.554Z"
   },
   {
    "duration": -667,
    "start_time": "2022-01-03T11:45:18.559Z"
   },
   {
    "duration": -671,
    "start_time": "2022-01-03T11:45:18.564Z"
   },
   {
    "duration": -674,
    "start_time": "2022-01-03T11:45:18.568Z"
   },
   {
    "duration": -678,
    "start_time": "2022-01-03T11:45:18.573Z"
   },
   {
    "duration": -682,
    "start_time": "2022-01-03T11:45:18.578Z"
   },
   {
    "duration": -685,
    "start_time": "2022-01-03T11:45:18.582Z"
   },
   {
    "duration": -690,
    "start_time": "2022-01-03T11:45:18.588Z"
   },
   {
    "duration": -694,
    "start_time": "2022-01-03T11:45:18.593Z"
   },
   {
    "duration": -698,
    "start_time": "2022-01-03T11:45:18.597Z"
   },
   {
    "duration": -701,
    "start_time": "2022-01-03T11:45:18.601Z"
   },
   {
    "duration": -705,
    "start_time": "2022-01-03T11:45:18.607Z"
   },
   {
    "duration": -723,
    "start_time": "2022-01-03T11:45:18.626Z"
   },
   {
    "duration": -727,
    "start_time": "2022-01-03T11:45:18.631Z"
   },
   {
    "duration": -731,
    "start_time": "2022-01-03T11:45:18.636Z"
   },
   {
    "duration": -737,
    "start_time": "2022-01-03T11:45:18.642Z"
   },
   {
    "duration": -740,
    "start_time": "2022-01-03T11:45:18.646Z"
   },
   {
    "duration": -744,
    "start_time": "2022-01-03T11:45:18.651Z"
   },
   {
    "duration": -747,
    "start_time": "2022-01-03T11:45:18.655Z"
   },
   {
    "duration": -751,
    "start_time": "2022-01-03T11:45:18.660Z"
   },
   {
    "duration": -755,
    "start_time": "2022-01-03T11:45:18.665Z"
   },
   {
    "duration": -758,
    "start_time": "2022-01-03T11:45:18.669Z"
   },
   {
    "duration": -786,
    "start_time": "2022-01-03T11:45:18.698Z"
   },
   {
    "duration": -789,
    "start_time": "2022-01-03T11:45:18.702Z"
   },
   {
    "duration": -794,
    "start_time": "2022-01-03T11:45:18.708Z"
   },
   {
    "duration": -797,
    "start_time": "2022-01-03T11:45:18.712Z"
   },
   {
    "duration": -800,
    "start_time": "2022-01-03T11:45:18.716Z"
   },
   {
    "duration": -803,
    "start_time": "2022-01-03T11:45:18.721Z"
   },
   {
    "duration": -817,
    "start_time": "2022-01-03T11:45:18.736Z"
   },
   {
    "duration": -821,
    "start_time": "2022-01-03T11:45:18.741Z"
   },
   {
    "duration": -824,
    "start_time": "2022-01-03T11:45:18.745Z"
   },
   {
    "duration": -809,
    "start_time": "2022-01-03T11:45:18.749Z"
   },
   {
    "duration": -813,
    "start_time": "2022-01-03T11:45:18.754Z"
   },
   {
    "duration": -816,
    "start_time": "2022-01-03T11:45:18.758Z"
   },
   {
    "duration": -820,
    "start_time": "2022-01-03T11:45:18.763Z"
   },
   {
    "duration": -823,
    "start_time": "2022-01-03T11:45:18.767Z"
   },
   {
    "duration": -827,
    "start_time": "2022-01-03T11:45:18.772Z"
   },
   {
    "duration": -839,
    "start_time": "2022-01-03T11:45:18.785Z"
   },
   {
    "duration": -844,
    "start_time": "2022-01-03T11:45:18.790Z"
   },
   {
    "duration": -858,
    "start_time": "2022-01-03T11:45:18.805Z"
   },
   {
    "duration": -866,
    "start_time": "2022-01-03T11:45:18.820Z"
   },
   {
    "duration": -881,
    "start_time": "2022-01-03T11:45:18.836Z"
   },
   {
    "duration": -894,
    "start_time": "2022-01-03T11:45:18.851Z"
   },
   {
    "duration": -898,
    "start_time": "2022-01-03T11:45:18.856Z"
   },
   {
    "duration": 9,
    "start_time": "2022-01-03T11:47:10.770Z"
   },
   {
    "duration": 188,
    "start_time": "2022-01-03T11:47:19.491Z"
   },
   {
    "duration": 19,
    "start_time": "2022-01-03T11:47:31.464Z"
   },
   {
    "duration": 10,
    "start_time": "2022-01-03T11:47:36.354Z"
   },
   {
    "duration": 10,
    "start_time": "2022-01-03T11:47:37.345Z"
   },
   {
    "duration": 3601,
    "start_time": "2022-01-03T11:48:09.330Z"
   },
   {
    "duration": 1120,
    "start_time": "2022-01-16T11:20:16.583Z"
   },
   {
    "duration": 168,
    "start_time": "2022-01-16T11:20:17.705Z"
   },
   {
    "duration": 10,
    "start_time": "2022-01-16T11:20:17.876Z"
   },
   {
    "duration": 159,
    "start_time": "2022-01-16T11:20:17.888Z"
   },
   {
    "duration": 12,
    "start_time": "2022-01-16T11:20:18.049Z"
   },
   {
    "duration": 5,
    "start_time": "2022-01-16T11:20:18.063Z"
   },
   {
    "duration": 101,
    "start_time": "2022-01-16T11:20:18.070Z"
   },
   {
    "duration": 7,
    "start_time": "2022-01-16T11:20:18.174Z"
   },
   {
    "duration": 22,
    "start_time": "2022-01-16T11:20:18.183Z"
   },
   {
    "duration": 14,
    "start_time": "2022-01-16T11:20:18.207Z"
   },
   {
    "duration": 32,
    "start_time": "2022-01-16T11:20:18.223Z"
   },
   {
    "duration": 10,
    "start_time": "2022-01-16T11:20:18.256Z"
   },
   {
    "duration": 8,
    "start_time": "2022-01-16T11:20:18.268Z"
   },
   {
    "duration": 33,
    "start_time": "2022-01-16T11:20:18.278Z"
   },
   {
    "duration": 18,
    "start_time": "2022-01-16T11:20:18.312Z"
   },
   {
    "duration": 39,
    "start_time": "2022-01-16T11:20:18.332Z"
   },
   {
    "duration": 5,
    "start_time": "2022-01-16T11:20:18.373Z"
   },
   {
    "duration": 7,
    "start_time": "2022-01-16T11:20:18.380Z"
   },
   {
    "duration": 10,
    "start_time": "2022-01-16T11:20:18.389Z"
   },
   {
    "duration": 4,
    "start_time": "2022-01-16T11:20:18.401Z"
   },
   {
    "duration": 11,
    "start_time": "2022-01-16T11:20:18.406Z"
   },
   {
    "duration": 27,
    "start_time": "2022-01-16T11:20:18.419Z"
   },
   {
    "duration": 48,
    "start_time": "2022-01-16T11:20:18.450Z"
   },
   {
    "duration": 16,
    "start_time": "2022-01-16T11:20:18.501Z"
   },
   {
    "duration": 49,
    "start_time": "2022-01-16T11:20:18.519Z"
   },
   {
    "duration": 18,
    "start_time": "2022-01-16T11:20:18.570Z"
   },
   {
    "duration": 36,
    "start_time": "2022-01-16T11:20:18.590Z"
   },
   {
    "duration": 9,
    "start_time": "2022-01-16T11:20:18.628Z"
   },
   {
    "duration": 14,
    "start_time": "2022-01-16T11:20:18.661Z"
   },
   {
    "duration": 10,
    "start_time": "2022-01-16T11:20:18.677Z"
   },
   {
    "duration": 16,
    "start_time": "2022-01-16T11:20:18.689Z"
   },
   {
    "duration": 11,
    "start_time": "2022-01-16T11:20:18.706Z"
   },
   {
    "duration": 43,
    "start_time": "2022-01-16T11:20:18.718Z"
   },
   {
    "duration": 3,
    "start_time": "2022-01-16T11:20:18.763Z"
   },
   {
    "duration": 22,
    "start_time": "2022-01-16T11:20:18.767Z"
   },
   {
    "duration": 3,
    "start_time": "2022-01-16T11:20:18.790Z"
   },
   {
    "duration": 30,
    "start_time": "2022-01-16T11:20:18.795Z"
   },
   {
    "duration": 5,
    "start_time": "2022-01-16T11:20:18.826Z"
   },
   {
    "duration": 29,
    "start_time": "2022-01-16T11:20:18.833Z"
   },
   {
    "duration": 5,
    "start_time": "2022-01-16T11:20:18.864Z"
   },
   {
    "duration": 270,
    "start_time": "2022-01-16T11:20:18.871Z"
   },
   {
    "duration": 11,
    "start_time": "2022-01-16T11:20:19.142Z"
   },
   {
    "duration": 7,
    "start_time": "2022-01-16T11:20:19.161Z"
   },
   {
    "duration": 270,
    "start_time": "2022-01-16T11:20:19.169Z"
   },
   {
    "duration": 20,
    "start_time": "2022-01-16T11:20:19.441Z"
   },
   {
    "duration": 15,
    "start_time": "2022-01-16T11:20:19.463Z"
   },
   {
    "duration": 9,
    "start_time": "2022-01-16T11:20:19.480Z"
   },
   {
    "duration": 14,
    "start_time": "2022-01-16T11:20:19.491Z"
   },
   {
    "duration": 19,
    "start_time": "2022-01-16T11:20:19.507Z"
   },
   {
    "duration": 9,
    "start_time": "2022-01-16T11:20:19.528Z"
   },
   {
    "duration": 10,
    "start_time": "2022-01-16T11:20:19.561Z"
   },
   {
    "duration": 3964,
    "start_time": "2022-01-16T11:20:19.573Z"
   },
   {
    "duration": 4106,
    "start_time": "2022-01-16T11:20:23.538Z"
   },
   {
    "duration": 4253,
    "start_time": "2022-01-16T11:20:27.646Z"
   },
   {
    "duration": 454,
    "start_time": "2022-01-16T11:20:31.902Z"
   },
   {
    "duration": 3864,
    "start_time": "2022-01-16T11:20:28.495Z"
   },
   {
    "duration": 3845,
    "start_time": "2022-01-16T11:20:28.515Z"
   },
   {
    "duration": 3828,
    "start_time": "2022-01-16T11:20:28.533Z"
   },
   {
    "duration": 3811,
    "start_time": "2022-01-16T11:20:28.551Z"
   },
   {
    "duration": 3785,
    "start_time": "2022-01-16T11:20:28.578Z"
   },
   {
    "duration": 3766,
    "start_time": "2022-01-16T11:20:28.598Z"
   },
   {
    "duration": 3737,
    "start_time": "2022-01-16T11:20:28.628Z"
   },
   {
    "duration": 3732,
    "start_time": "2022-01-16T11:20:28.634Z"
   },
   {
    "duration": 3706,
    "start_time": "2022-01-16T11:20:28.661Z"
   },
   {
    "duration": 3686,
    "start_time": "2022-01-16T11:20:28.682Z"
   },
   {
    "duration": 3668,
    "start_time": "2022-01-16T11:20:28.701Z"
   },
   {
    "duration": 3637,
    "start_time": "2022-01-16T11:20:28.733Z"
   },
   {
    "duration": 3619,
    "start_time": "2022-01-16T11:20:28.752Z"
   },
   {
    "duration": 3596,
    "start_time": "2022-01-16T11:20:28.776Z"
   },
   {
    "duration": 3588,
    "start_time": "2022-01-16T11:20:28.785Z"
   },
   {
    "duration": 3559,
    "start_time": "2022-01-16T11:20:28.815Z"
   },
   {
    "duration": 3540,
    "start_time": "2022-01-16T11:20:28.835Z"
   },
   {
    "duration": 3509,
    "start_time": "2022-01-16T11:20:28.867Z"
   },
   {
    "duration": 3505,
    "start_time": "2022-01-16T11:20:28.872Z"
   },
   {
    "duration": 3501,
    "start_time": "2022-01-16T11:20:28.877Z"
   },
   {
    "duration": 3497,
    "start_time": "2022-01-16T11:20:28.882Z"
   },
   {
    "duration": 3493,
    "start_time": "2022-01-16T11:20:28.887Z"
   },
   {
    "duration": 3490,
    "start_time": "2022-01-16T11:20:28.891Z"
   },
   {
    "duration": 3485,
    "start_time": "2022-01-16T11:20:28.897Z"
   },
   {
    "duration": 3480,
    "start_time": "2022-01-16T11:20:28.903Z"
   },
   {
    "duration": 3475,
    "start_time": "2022-01-16T11:20:28.909Z"
   },
   {
    "duration": 3472,
    "start_time": "2022-01-16T11:20:28.913Z"
   },
   {
    "duration": 3468,
    "start_time": "2022-01-16T11:20:28.919Z"
   },
   {
    "duration": 3467,
    "start_time": "2022-01-16T11:20:28.924Z"
   },
   {
    "duration": 3463,
    "start_time": "2022-01-16T11:20:28.929Z"
   },
   {
    "duration": 3460,
    "start_time": "2022-01-16T11:20:28.934Z"
   },
   {
    "duration": 3453,
    "start_time": "2022-01-16T11:20:28.942Z"
   },
   {
    "duration": 3450,
    "start_time": "2022-01-16T11:20:28.947Z"
   },
   {
    "duration": 3445,
    "start_time": "2022-01-16T11:20:28.953Z"
   },
   {
    "duration": 3440,
    "start_time": "2022-01-16T11:20:28.960Z"
   },
   {
    "duration": 3421,
    "start_time": "2022-01-16T11:20:28.980Z"
   },
   {
    "duration": 3416,
    "start_time": "2022-01-16T11:20:28.987Z"
   },
   {
    "duration": 3470,
    "start_time": "2022-01-16T11:20:28.991Z"
   },
   {
    "duration": 3466,
    "start_time": "2022-01-16T11:20:28.996Z"
   },
   {
    "duration": 3463,
    "start_time": "2022-01-16T11:20:29.001Z"
   },
   {
    "duration": 3460,
    "start_time": "2022-01-16T11:20:29.005Z"
   },
   {
    "duration": 3457,
    "start_time": "2022-01-16T11:20:29.010Z"
   },
   {
    "duration": 3453,
    "start_time": "2022-01-16T11:20:29.015Z"
   },
   {
    "duration": 3450,
    "start_time": "2022-01-16T11:20:29.019Z"
   },
   {
    "duration": 3448,
    "start_time": "2022-01-16T11:20:29.023Z"
   },
   {
    "duration": 251,
    "start_time": "2022-01-16T11:21:17.926Z"
   },
   {
    "duration": 32,
    "start_time": "2022-01-16T11:21:42.716Z"
   },
   {
    "duration": 67,
    "start_time": "2022-01-16T11:22:35.329Z"
   },
   {
    "duration": 4579,
    "start_time": "2022-01-17T09:35:41.523Z"
   },
   {
    "duration": 241,
    "start_time": "2022-01-17T09:35:46.104Z"
   },
   {
    "duration": 16,
    "start_time": "2022-01-17T09:35:46.348Z"
   },
   {
    "duration": 207,
    "start_time": "2022-01-17T09:35:46.367Z"
   },
   {
    "duration": 25,
    "start_time": "2022-01-17T09:35:46.577Z"
   },
   {
    "duration": 16,
    "start_time": "2022-01-17T09:35:46.604Z"
   },
   {
    "duration": 135,
    "start_time": "2022-01-17T09:35:46.623Z"
   },
   {
    "duration": 12,
    "start_time": "2022-01-17T09:35:46.760Z"
   },
   {
    "duration": 38,
    "start_time": "2022-01-17T09:35:46.776Z"
   },
   {
    "duration": 18,
    "start_time": "2022-01-17T09:35:46.817Z"
   },
   {
    "duration": 43,
    "start_time": "2022-01-17T09:35:46.838Z"
   },
   {
    "duration": 19,
    "start_time": "2022-01-17T09:35:46.883Z"
   },
   {
    "duration": 16,
    "start_time": "2022-01-17T09:35:46.904Z"
   },
   {
    "duration": 43,
    "start_time": "2022-01-17T09:35:46.923Z"
   },
   {
    "duration": 37,
    "start_time": "2022-01-17T09:35:46.968Z"
   },
   {
    "duration": 35,
    "start_time": "2022-01-17T09:35:47.008Z"
   },
   {
    "duration": 8,
    "start_time": "2022-01-17T09:35:47.046Z"
   },
   {
    "duration": 9,
    "start_time": "2022-01-17T09:35:47.057Z"
   },
   {
    "duration": 7,
    "start_time": "2022-01-17T09:35:47.101Z"
   },
   {
    "duration": 6,
    "start_time": "2022-01-17T09:35:47.110Z"
   },
   {
    "duration": 8,
    "start_time": "2022-01-17T09:35:47.118Z"
   },
   {
    "duration": 31,
    "start_time": "2022-01-17T09:35:47.129Z"
   },
   {
    "duration": 60,
    "start_time": "2022-01-17T09:35:47.199Z"
   },
   {
    "duration": 43,
    "start_time": "2022-01-17T09:35:47.262Z"
   },
   {
    "duration": 45,
    "start_time": "2022-01-17T09:35:47.308Z"
   },
   {
    "duration": 51,
    "start_time": "2022-01-17T09:35:47.356Z"
   },
   {
    "duration": 53,
    "start_time": "2022-01-17T09:35:47.416Z"
   },
   {
    "duration": 40,
    "start_time": "2022-01-17T09:35:47.474Z"
   },
   {
    "duration": 22,
    "start_time": "2022-01-17T09:35:47.516Z"
   },
   {
    "duration": 16,
    "start_time": "2022-01-17T09:35:47.540Z"
   },
   {
    "duration": 60,
    "start_time": "2022-01-17T09:35:47.558Z"
   },
   {
    "duration": 20,
    "start_time": "2022-01-17T09:35:47.621Z"
   },
   {
    "duration": 65,
    "start_time": "2022-01-17T09:35:47.644Z"
   },
   {
    "duration": 6,
    "start_time": "2022-01-17T09:35:47.712Z"
   },
   {
    "duration": 32,
    "start_time": "2022-01-17T09:35:47.721Z"
   },
   {
    "duration": 46,
    "start_time": "2022-01-17T09:35:47.756Z"
   },
   {
    "duration": 36,
    "start_time": "2022-01-17T09:35:47.805Z"
   },
   {
    "duration": 9,
    "start_time": "2022-01-17T09:35:47.844Z"
   },
   {
    "duration": 46,
    "start_time": "2022-01-17T09:35:47.856Z"
   },
   {
    "duration": 10,
    "start_time": "2022-01-17T09:35:47.905Z"
   },
   {
    "duration": 491,
    "start_time": "2022-01-17T09:35:47.918Z"
   },
   {
    "duration": 16,
    "start_time": "2022-01-17T09:35:48.412Z"
   },
   {
    "duration": 12,
    "start_time": "2022-01-17T09:35:48.430Z"
   },
   {
    "duration": 464,
    "start_time": "2022-01-17T09:35:48.444Z"
   },
   {
    "duration": 10,
    "start_time": "2022-01-17T09:35:48.910Z"
   },
   {
    "duration": 20,
    "start_time": "2022-01-17T09:35:48.922Z"
   },
   {
    "duration": 15,
    "start_time": "2022-01-17T09:35:48.945Z"
   },
   {
    "duration": 15,
    "start_time": "2022-01-17T09:35:49.000Z"
   },
   {
    "duration": 35,
    "start_time": "2022-01-17T09:35:49.018Z"
   },
   {
    "duration": 16,
    "start_time": "2022-01-17T09:35:49.055Z"
   },
   {
    "duration": 14,
    "start_time": "2022-01-17T09:35:49.101Z"
   },
   {
    "duration": 6688,
    "start_time": "2022-01-17T09:35:49.118Z"
   },
   {
    "duration": 7071,
    "start_time": "2022-01-17T09:35:55.809Z"
   },
   {
    "duration": 6908,
    "start_time": "2022-01-17T09:36:02.882Z"
   },
   {
    "duration": 3668,
    "start_time": "2022-01-17T09:36:09.801Z"
   },
   {
    "duration": 177,
    "start_time": "2022-01-17T09:36:13.296Z"
   },
   {
    "duration": 174,
    "start_time": "2022-01-17T09:36:13.300Z"
   },
   {
    "duration": 173,
    "start_time": "2022-01-17T09:36:13.303Z"
   },
   {
    "duration": 171,
    "start_time": "2022-01-17T09:36:13.306Z"
   },
   {
    "duration": 170,
    "start_time": "2022-01-17T09:36:13.309Z"
   },
   {
    "duration": 168,
    "start_time": "2022-01-17T09:36:13.312Z"
   },
   {
    "duration": 166,
    "start_time": "2022-01-17T09:36:13.315Z"
   },
   {
    "duration": 165,
    "start_time": "2022-01-17T09:36:13.318Z"
   },
   {
    "duration": 163,
    "start_time": "2022-01-17T09:36:13.321Z"
   },
   {
    "duration": 161,
    "start_time": "2022-01-17T09:36:13.324Z"
   },
   {
    "duration": 154,
    "start_time": "2022-01-17T09:36:13.333Z"
   },
   {
    "duration": 151,
    "start_time": "2022-01-17T09:36:13.337Z"
   },
   {
    "duration": 150,
    "start_time": "2022-01-17T09:36:13.340Z"
   },
   {
    "duration": 149,
    "start_time": "2022-01-17T09:36:13.343Z"
   },
   {
    "duration": 148,
    "start_time": "2022-01-17T09:36:13.346Z"
   },
   {
    "duration": 145,
    "start_time": "2022-01-17T09:36:13.350Z"
   },
   {
    "duration": 143,
    "start_time": "2022-01-17T09:36:13.353Z"
   },
   {
    "duration": 143,
    "start_time": "2022-01-17T09:36:13.355Z"
   },
   {
    "duration": 141,
    "start_time": "2022-01-17T09:36:13.358Z"
   },
   {
    "duration": 139,
    "start_time": "2022-01-17T09:36:13.361Z"
   },
   {
    "duration": 136,
    "start_time": "2022-01-17T09:36:13.365Z"
   },
   {
    "duration": 129,
    "start_time": "2022-01-17T09:36:13.374Z"
   },
   {
    "duration": 127,
    "start_time": "2022-01-17T09:36:13.377Z"
   },
   {
    "duration": 126,
    "start_time": "2022-01-17T09:36:13.379Z"
   },
   {
    "duration": 124,
    "start_time": "2022-01-17T09:36:13.383Z"
   },
   {
    "duration": 123,
    "start_time": "2022-01-17T09:36:13.386Z"
   },
   {
    "duration": 122,
    "start_time": "2022-01-17T09:36:13.388Z"
   },
   {
    "duration": 121,
    "start_time": "2022-01-17T09:36:13.391Z"
   },
   {
    "duration": 106,
    "start_time": "2022-01-17T09:36:13.408Z"
   },
   {
    "duration": 69,
    "start_time": "2022-01-17T09:36:13.446Z"
   },
   {
    "duration": 67,
    "start_time": "2022-01-17T09:36:13.449Z"
   },
   {
    "duration": 65,
    "start_time": "2022-01-17T09:36:13.452Z"
   },
   {
    "duration": 65,
    "start_time": "2022-01-17T09:36:13.454Z"
   },
   {
    "duration": 64,
    "start_time": "2022-01-17T09:36:13.456Z"
   },
   {
    "duration": 4,
    "start_time": "2022-01-17T09:36:13.517Z"
   },
   {
    "duration": 3,
    "start_time": "2022-01-17T09:36:13.520Z"
   },
   {
    "duration": 1,
    "start_time": "2022-01-17T09:36:13.523Z"
   },
   {
    "duration": 1,
    "start_time": "2022-01-17T09:36:13.525Z"
   },
   {
    "duration": 0,
    "start_time": "2022-01-17T09:36:13.527Z"
   },
   {
    "duration": -1,
    "start_time": "2022-01-17T09:36:13.529Z"
   },
   {
    "duration": -8,
    "start_time": "2022-01-17T09:36:13.537Z"
   },
   {
    "duration": -8,
    "start_time": "2022-01-17T09:36:13.539Z"
   },
   {
    "duration": -9,
    "start_time": "2022-01-17T09:36:13.541Z"
   },
   {
    "duration": -10,
    "start_time": "2022-01-17T09:36:13.543Z"
   },
   {
    "duration": -12,
    "start_time": "2022-01-17T09:36:13.546Z"
   },
   {
    "duration": 345,
    "start_time": "2022-01-17T09:39:45.771Z"
   },
   {
    "duration": 654,
    "start_time": "2022-01-17T09:40:02.067Z"
   },
   {
    "duration": 525,
    "start_time": "2022-01-17T09:40:09.410Z"
   },
   {
    "duration": 500,
    "start_time": "2022-01-17T09:40:17.208Z"
   },
   {
    "duration": 6,
    "start_time": "2022-01-17T09:47:23.853Z"
   },
   {
    "duration": 190,
    "start_time": "2022-01-17T09:47:23.862Z"
   },
   {
    "duration": 9,
    "start_time": "2022-01-17T09:47:24.072Z"
   },
   {
    "duration": 157,
    "start_time": "2022-01-17T09:47:24.083Z"
   },
   {
    "duration": 8,
    "start_time": "2022-01-17T09:47:24.241Z"
   },
   {
    "duration": 18,
    "start_time": "2022-01-17T09:47:24.251Z"
   },
   {
    "duration": 107,
    "start_time": "2022-01-17T09:47:24.271Z"
   },
   {
    "duration": 7,
    "start_time": "2022-01-17T09:47:24.380Z"
   },
   {
    "duration": 29,
    "start_time": "2022-01-17T09:47:24.389Z"
   },
   {
    "duration": 13,
    "start_time": "2022-01-17T09:47:24.420Z"
   },
   {
    "duration": 39,
    "start_time": "2022-01-17T09:47:24.435Z"
   },
   {
    "duration": 15,
    "start_time": "2022-01-17T09:47:24.476Z"
   },
   {
    "duration": 17,
    "start_time": "2022-01-17T09:47:24.492Z"
   },
   {
    "duration": 44,
    "start_time": "2022-01-17T09:47:24.511Z"
   },
   {
    "duration": 16,
    "start_time": "2022-01-17T09:47:24.557Z"
   },
   {
    "duration": 20,
    "start_time": "2022-01-17T09:47:24.575Z"
   },
   {
    "duration": 5,
    "start_time": "2022-01-17T09:47:24.596Z"
   },
   {
    "duration": 9,
    "start_time": "2022-01-17T09:47:24.602Z"
   },
   {
    "duration": 5,
    "start_time": "2022-01-17T09:47:24.613Z"
   },
   {
    "duration": 4,
    "start_time": "2022-01-17T09:47:24.620Z"
   },
   {
    "duration": 9,
    "start_time": "2022-01-17T09:47:24.625Z"
   },
   {
    "duration": 42,
    "start_time": "2022-01-17T09:47:24.635Z"
   },
   {
    "duration": 42,
    "start_time": "2022-01-17T09:47:24.678Z"
   },
   {
    "duration": 14,
    "start_time": "2022-01-17T09:47:24.722Z"
   },
   {
    "duration": 40,
    "start_time": "2022-01-17T09:47:24.737Z"
   },
   {
    "duration": 16,
    "start_time": "2022-01-17T09:47:24.779Z"
   },
   {
    "duration": 29,
    "start_time": "2022-01-17T09:47:24.799Z"
   },
   {
    "duration": 10,
    "start_time": "2022-01-17T09:47:24.830Z"
   },
   {
    "duration": 32,
    "start_time": "2022-01-17T09:47:24.842Z"
   },
   {
    "duration": 11,
    "start_time": "2022-01-17T09:47:24.876Z"
   },
   {
    "duration": 14,
    "start_time": "2022-01-17T09:47:24.888Z"
   },
   {
    "duration": 12,
    "start_time": "2022-01-17T09:47:24.904Z"
   },
   {
    "duration": 16,
    "start_time": "2022-01-17T09:47:24.917Z"
   },
   {
    "duration": 38,
    "start_time": "2022-01-17T09:47:24.935Z"
   },
   {
    "duration": 18,
    "start_time": "2022-01-17T09:47:24.975Z"
   },
   {
    "duration": 3,
    "start_time": "2022-01-17T09:47:24.995Z"
   },
   {
    "duration": 22,
    "start_time": "2022-01-17T09:47:24.999Z"
   },
   {
    "duration": 4,
    "start_time": "2022-01-17T09:47:25.023Z"
   },
   {
    "duration": 12,
    "start_time": "2022-01-17T09:47:25.029Z"
   },
   {
    "duration": 29,
    "start_time": "2022-01-17T09:47:25.043Z"
   },
   {
    "duration": 273,
    "start_time": "2022-01-17T09:47:25.073Z"
   },
   {
    "duration": 9,
    "start_time": "2022-01-17T09:47:25.348Z"
   },
   {
    "duration": 19,
    "start_time": "2022-01-17T09:47:25.359Z"
   },
   {
    "duration": 226,
    "start_time": "2022-01-17T09:47:25.379Z"
   },
   {
    "duration": 6,
    "start_time": "2022-01-17T09:47:25.606Z"
   },
   {
    "duration": 15,
    "start_time": "2022-01-17T09:47:25.614Z"
   },
   {
    "duration": 8,
    "start_time": "2022-01-17T09:47:25.630Z"
   },
   {
    "duration": 32,
    "start_time": "2022-01-17T09:47:25.640Z"
   },
   {
    "duration": 21,
    "start_time": "2022-01-17T09:47:25.673Z"
   },
   {
    "duration": 9,
    "start_time": "2022-01-17T09:47:25.695Z"
   },
   {
    "duration": 13,
    "start_time": "2022-01-17T09:47:25.706Z"
   },
   {
    "duration": 6434,
    "start_time": "2022-01-17T09:47:25.720Z"
   },
   {
    "duration": 318,
    "start_time": "2022-01-17T09:47:32.157Z"
   },
   {
    "duration": 3797,
    "start_time": "2022-01-17T09:47:32.477Z"
   },
   {
    "duration": 3824,
    "start_time": "2022-01-17T09:47:36.275Z"
   },
   {
    "duration": 234,
    "start_time": "2022-01-17T09:47:40.101Z"
   },
   {
    "duration": 114,
    "start_time": "2022-01-17T09:47:40.224Z"
   },
   {
    "duration": 105,
    "start_time": "2022-01-17T09:47:40.234Z"
   },
   {
    "duration": 104,
    "start_time": "2022-01-17T09:47:40.237Z"
   },
   {
    "duration": 96,
    "start_time": "2022-01-17T09:47:40.246Z"
   },
   {
    "duration": 95,
    "start_time": "2022-01-17T09:47:40.248Z"
   },
   {
    "duration": 94,
    "start_time": "2022-01-17T09:47:40.251Z"
   },
   {
    "duration": 93,
    "start_time": "2022-01-17T09:47:40.253Z"
   },
   {
    "duration": 91,
    "start_time": "2022-01-17T09:47:40.257Z"
   },
   {
    "duration": 83,
    "start_time": "2022-01-17T09:47:40.266Z"
   },
   {
    "duration": 81,
    "start_time": "2022-01-17T09:47:40.269Z"
   },
   {
    "duration": 81,
    "start_time": "2022-01-17T09:47:40.271Z"
   },
   {
    "duration": 78,
    "start_time": "2022-01-17T09:47:40.275Z"
   },
   {
    "duration": 72,
    "start_time": "2022-01-17T09:47:40.283Z"
   },
   {
    "duration": 69,
    "start_time": "2022-01-17T09:47:40.287Z"
   },
   {
    "duration": 66,
    "start_time": "2022-01-17T09:47:40.291Z"
   },
   {
    "duration": 59,
    "start_time": "2022-01-17T09:47:40.300Z"
   },
   {
    "duration": 57,
    "start_time": "2022-01-17T09:47:40.303Z"
   },
   {
    "duration": 57,
    "start_time": "2022-01-17T09:47:40.305Z"
   },
   {
    "duration": 49,
    "start_time": "2022-01-17T09:47:40.314Z"
   },
   {
    "duration": 48,
    "start_time": "2022-01-17T09:47:40.317Z"
   },
   {
    "duration": 46,
    "start_time": "2022-01-17T09:47:40.320Z"
   },
   {
    "duration": 45,
    "start_time": "2022-01-17T09:47:40.322Z"
   },
   {
    "duration": 38,
    "start_time": "2022-01-17T09:47:40.331Z"
   },
   {
    "duration": 36,
    "start_time": "2022-01-17T09:47:40.334Z"
   },
   {
    "duration": 34,
    "start_time": "2022-01-17T09:47:40.337Z"
   },
   {
    "duration": 32,
    "start_time": "2022-01-17T09:47:40.341Z"
   },
   {
    "duration": 25,
    "start_time": "2022-01-17T09:47:40.349Z"
   },
   {
    "duration": 23,
    "start_time": "2022-01-17T09:47:40.352Z"
   },
   {
    "duration": 23,
    "start_time": "2022-01-17T09:47:40.354Z"
   },
   {
    "duration": 20,
    "start_time": "2022-01-17T09:47:40.358Z"
   },
   {
    "duration": 13,
    "start_time": "2022-01-17T09:47:40.366Z"
   },
   {
    "duration": 12,
    "start_time": "2022-01-17T09:47:40.369Z"
   },
   {
    "duration": 11,
    "start_time": "2022-01-17T09:47:40.371Z"
   },
   {
    "duration": 8,
    "start_time": "2022-01-17T09:47:40.375Z"
   },
   {
    "duration": 1,
    "start_time": "2022-01-17T09:47:40.384Z"
   },
   {
    "duration": -2,
    "start_time": "2022-01-17T09:47:40.388Z"
   },
   {
    "duration": -4,
    "start_time": "2022-01-17T09:47:40.391Z"
   },
   {
    "duration": -11,
    "start_time": "2022-01-17T09:47:40.400Z"
   },
   {
    "duration": -12,
    "start_time": "2022-01-17T09:47:40.402Z"
   },
   {
    "duration": -14,
    "start_time": "2022-01-17T09:47:40.405Z"
   },
   {
    "duration": -16,
    "start_time": "2022-01-17T09:47:40.409Z"
   },
   {
    "duration": -24,
    "start_time": "2022-01-17T09:47:40.418Z"
   },
   {
    "duration": -25,
    "start_time": "2022-01-17T09:47:40.420Z"
   },
   {
    "duration": -27,
    "start_time": "2022-01-17T09:47:40.424Z"
   },
   {
    "duration": -35,
    "start_time": "2022-01-17T09:47:40.433Z"
   },
   {
    "duration": 3,
    "start_time": "2022-01-17T09:47:52.665Z"
   },
   {
    "duration": 225,
    "start_time": "2022-01-17T09:47:52.670Z"
   },
   {
    "duration": 9,
    "start_time": "2022-01-17T09:47:52.897Z"
   },
   {
    "duration": 145,
    "start_time": "2022-01-17T09:47:52.907Z"
   },
   {
    "duration": 9,
    "start_time": "2022-01-17T09:47:53.054Z"
   },
   {
    "duration": 7,
    "start_time": "2022-01-17T09:47:53.071Z"
   },
   {
    "duration": 98,
    "start_time": "2022-01-17T09:47:53.080Z"
   },
   {
    "duration": 7,
    "start_time": "2022-01-17T09:47:53.181Z"
   },
   {
    "duration": 25,
    "start_time": "2022-01-17T09:47:53.190Z"
   },
   {
    "duration": 27,
    "start_time": "2022-01-17T09:47:53.217Z"
   },
   {
    "duration": 38,
    "start_time": "2022-01-17T09:47:53.245Z"
   },
   {
    "duration": 8,
    "start_time": "2022-01-17T09:47:53.285Z"
   },
   {
    "duration": 5,
    "start_time": "2022-01-17T09:47:53.295Z"
   },
   {
    "duration": 23,
    "start_time": "2022-01-17T09:47:53.302Z"
   },
   {
    "duration": 15,
    "start_time": "2022-01-17T09:47:53.326Z"
   },
   {
    "duration": 34,
    "start_time": "2022-01-17T09:47:53.342Z"
   },
   {
    "duration": 4,
    "start_time": "2022-01-17T09:47:53.377Z"
   },
   {
    "duration": 4,
    "start_time": "2022-01-17T09:47:53.383Z"
   },
   {
    "duration": 5,
    "start_time": "2022-01-17T09:47:53.389Z"
   },
   {
    "duration": 5,
    "start_time": "2022-01-17T09:47:53.395Z"
   },
   {
    "duration": 9,
    "start_time": "2022-01-17T09:47:53.401Z"
   },
   {
    "duration": 25,
    "start_time": "2022-01-17T09:47:53.411Z"
   },
   {
    "duration": 54,
    "start_time": "2022-01-17T09:47:53.440Z"
   },
   {
    "duration": 14,
    "start_time": "2022-01-17T09:47:53.496Z"
   },
   {
    "duration": 23,
    "start_time": "2022-01-17T09:47:53.511Z"
   },
   {
    "duration": 16,
    "start_time": "2022-01-17T09:47:53.535Z"
   },
   {
    "duration": 44,
    "start_time": "2022-01-17T09:47:53.553Z"
   },
   {
    "duration": 9,
    "start_time": "2022-01-17T09:47:53.598Z"
   },
   {
    "duration": 13,
    "start_time": "2022-01-17T09:47:53.609Z"
   },
   {
    "duration": 8,
    "start_time": "2022-01-17T09:47:53.624Z"
   },
   {
    "duration": 39,
    "start_time": "2022-01-17T09:47:53.634Z"
   },
   {
    "duration": 11,
    "start_time": "2022-01-17T09:47:53.675Z"
   },
   {
    "duration": 15,
    "start_time": "2022-01-17T09:47:53.687Z"
   },
   {
    "duration": 3,
    "start_time": "2022-01-17T09:47:53.703Z"
   },
   {
    "duration": 18,
    "start_time": "2022-01-17T09:47:53.708Z"
   },
   {
    "duration": 3,
    "start_time": "2022-01-17T09:47:53.728Z"
   },
   {
    "duration": 52,
    "start_time": "2022-01-17T09:47:53.733Z"
   },
   {
    "duration": 5,
    "start_time": "2022-01-17T09:47:53.787Z"
   },
   {
    "duration": 9,
    "start_time": "2022-01-17T09:47:53.794Z"
   },
   {
    "duration": 5,
    "start_time": "2022-01-17T09:47:53.804Z"
   },
   {
    "duration": 254,
    "start_time": "2022-01-17T09:47:53.811Z"
   },
   {
    "duration": 12,
    "start_time": "2022-01-17T09:47:54.067Z"
   },
   {
    "duration": 9,
    "start_time": "2022-01-17T09:47:54.081Z"
   },
   {
    "duration": 244,
    "start_time": "2022-01-17T09:47:54.091Z"
   },
   {
    "duration": 8,
    "start_time": "2022-01-17T09:47:54.336Z"
   },
   {
    "duration": 9,
    "start_time": "2022-01-17T09:47:54.346Z"
   },
   {
    "duration": 8,
    "start_time": "2022-01-17T09:47:54.372Z"
   },
   {
    "duration": 8,
    "start_time": "2022-01-17T09:47:54.382Z"
   },
   {
    "duration": 18,
    "start_time": "2022-01-17T09:47:54.392Z"
   },
   {
    "duration": 9,
    "start_time": "2022-01-17T09:47:54.412Z"
   },
   {
    "duration": 10,
    "start_time": "2022-01-17T09:47:54.422Z"
   },
   {
    "duration": 3940,
    "start_time": "2022-01-17T09:47:54.433Z"
   },
   {
    "duration": 286,
    "start_time": "2022-01-17T09:47:58.374Z"
   },
   {
    "duration": 3970,
    "start_time": "2022-01-17T09:47:58.661Z"
   },
   {
    "duration": 3869,
    "start_time": "2022-01-17T09:48:02.633Z"
   },
   {
    "duration": 251,
    "start_time": "2022-01-17T09:48:06.503Z"
   },
   {
    "duration": 109,
    "start_time": "2022-01-17T09:48:06.648Z"
   },
   {
    "duration": 108,
    "start_time": "2022-01-17T09:48:06.651Z"
   },
   {
    "duration": 102,
    "start_time": "2022-01-17T09:48:06.659Z"
   },
   {
    "duration": 99,
    "start_time": "2022-01-17T09:48:06.663Z"
   },
   {
    "duration": 98,
    "start_time": "2022-01-17T09:48:06.665Z"
   },
   {
    "duration": 96,
    "start_time": "2022-01-17T09:48:06.669Z"
   },
   {
    "duration": 90,
    "start_time": "2022-01-17T09:48:06.676Z"
   },
   {
    "duration": 88,
    "start_time": "2022-01-17T09:48:06.680Z"
   },
   {
    "duration": 86,
    "start_time": "2022-01-17T09:48:06.683Z"
   },
   {
    "duration": 84,
    "start_time": "2022-01-17T09:48:06.686Z"
   },
   {
    "duration": 77,
    "start_time": "2022-01-17T09:48:06.695Z"
   },
   {
    "duration": 75,
    "start_time": "2022-01-17T09:48:06.698Z"
   },
   {
    "duration": 71,
    "start_time": "2022-01-17T09:48:06.703Z"
   },
   {
    "duration": 66,
    "start_time": "2022-01-17T09:48:06.710Z"
   },
   {
    "duration": 63,
    "start_time": "2022-01-17T09:48:06.714Z"
   },
   {
    "duration": 62,
    "start_time": "2022-01-17T09:48:06.717Z"
   },
   {
    "duration": 60,
    "start_time": "2022-01-17T09:48:06.720Z"
   },
   {
    "duration": 54,
    "start_time": "2022-01-17T09:48:06.728Z"
   },
   {
    "duration": 51,
    "start_time": "2022-01-17T09:48:06.732Z"
   },
   {
    "duration": 50,
    "start_time": "2022-01-17T09:48:06.734Z"
   },
   {
    "duration": 44,
    "start_time": "2022-01-17T09:48:06.742Z"
   },
   {
    "duration": 42,
    "start_time": "2022-01-17T09:48:06.745Z"
   },
   {
    "duration": 39,
    "start_time": "2022-01-17T09:48:06.749Z"
   },
   {
    "duration": 39,
    "start_time": "2022-01-17T09:48:06.751Z"
   },
   {
    "duration": 33,
    "start_time": "2022-01-17T09:48:06.758Z"
   },
   {
    "duration": 31,
    "start_time": "2022-01-17T09:48:06.761Z"
   },
   {
    "duration": 30,
    "start_time": "2022-01-17T09:48:06.763Z"
   },
   {
    "duration": 28,
    "start_time": "2022-01-17T09:48:06.766Z"
   },
   {
    "duration": 26,
    "start_time": "2022-01-17T09:48:06.769Z"
   },
   {
    "duration": 20,
    "start_time": "2022-01-17T09:48:06.776Z"
   },
   {
    "duration": 18,
    "start_time": "2022-01-17T09:48:06.779Z"
   },
   {
    "duration": 17,
    "start_time": "2022-01-17T09:48:06.781Z"
   },
   {
    "duration": 17,
    "start_time": "2022-01-17T09:48:06.783Z"
   },
   {
    "duration": 15,
    "start_time": "2022-01-17T09:48:06.786Z"
   },
   {
    "duration": 9,
    "start_time": "2022-01-17T09:48:06.793Z"
   },
   {
    "duration": 8,
    "start_time": "2022-01-17T09:48:06.796Z"
   },
   {
    "duration": 7,
    "start_time": "2022-01-17T09:48:06.798Z"
   },
   {
    "duration": 6,
    "start_time": "2022-01-17T09:48:06.800Z"
   },
   {
    "duration": 0,
    "start_time": "2022-01-17T09:48:06.808Z"
   },
   {
    "duration": -1,
    "start_time": "2022-01-17T09:48:06.810Z"
   },
   {
    "duration": -3,
    "start_time": "2022-01-17T09:48:06.813Z"
   },
   {
    "duration": -5,
    "start_time": "2022-01-17T09:48:06.817Z"
   },
   {
    "duration": 51,
    "start_time": "2022-01-17T09:48:06.820Z"
   },
   {
    "duration": 44,
    "start_time": "2022-01-17T09:48:06.829Z"
   },
   {
    "duration": 43,
    "start_time": "2022-01-17T09:48:06.831Z"
   },
   {
    "duration": 278,
    "start_time": "2022-01-17T09:48:48.695Z"
   },
   {
    "duration": 268,
    "start_time": "2022-01-17T09:48:56.922Z"
   },
   {
    "duration": 1354,
    "start_time": "2022-01-19T12:41:16.840Z"
   },
   {
    "duration": 1433,
    "start_time": "2022-01-19T12:41:24.170Z"
   },
   {
    "duration": 219,
    "start_time": "2022-01-19T12:41:25.605Z"
   },
   {
    "duration": 20,
    "start_time": "2022-01-19T12:41:25.827Z"
   },
   {
    "duration": 191,
    "start_time": "2022-01-19T12:41:25.850Z"
   },
   {
    "duration": 13,
    "start_time": "2022-01-19T12:41:26.044Z"
   },
   {
    "duration": 8,
    "start_time": "2022-01-19T12:41:26.059Z"
   },
   {
    "duration": 148,
    "start_time": "2022-01-19T12:41:26.069Z"
   },
   {
    "duration": 18,
    "start_time": "2022-01-19T12:41:26.220Z"
   },
   {
    "duration": 23,
    "start_time": "2022-01-19T12:41:26.240Z"
   },
   {
    "duration": 14,
    "start_time": "2022-01-19T12:41:26.265Z"
   },
   {
    "duration": 43,
    "start_time": "2022-01-19T12:41:26.281Z"
   },
   {
    "duration": 15,
    "start_time": "2022-01-19T12:41:26.326Z"
   },
   {
    "duration": 10,
    "start_time": "2022-01-19T12:41:26.344Z"
   },
   {
    "duration": 53,
    "start_time": "2022-01-19T12:41:26.357Z"
   },
   {
    "duration": 39,
    "start_time": "2022-01-19T12:41:26.413Z"
   },
   {
    "duration": 34,
    "start_time": "2022-01-19T12:41:26.455Z"
   },
   {
    "duration": 7,
    "start_time": "2022-01-19T12:41:26.492Z"
   },
   {
    "duration": 7,
    "start_time": "2022-01-19T12:41:26.533Z"
   },
   {
    "duration": 13,
    "start_time": "2022-01-19T12:41:26.542Z"
   },
   {
    "duration": 5,
    "start_time": "2022-01-19T12:41:26.558Z"
   },
   {
    "duration": 13,
    "start_time": "2022-01-19T12:41:26.565Z"
   },
   {
    "duration": 54,
    "start_time": "2022-01-19T12:41:26.580Z"
   },
   {
    "duration": 56,
    "start_time": "2022-01-19T12:41:26.641Z"
   },
   {
    "duration": 42,
    "start_time": "2022-01-19T12:41:26.700Z"
   },
   {
    "duration": 41,
    "start_time": "2022-01-19T12:41:26.744Z"
   },
   {
    "duration": 45,
    "start_time": "2022-01-19T12:41:26.787Z"
   },
   {
    "duration": 50,
    "start_time": "2022-01-19T12:41:26.834Z"
   },
   {
    "duration": 13,
    "start_time": "2022-01-19T12:41:26.886Z"
   },
   {
    "duration": 43,
    "start_time": "2022-01-19T12:41:26.901Z"
   },
   {
    "duration": 14,
    "start_time": "2022-01-19T12:41:26.946Z"
   },
   {
    "duration": 22,
    "start_time": "2022-01-19T12:41:26.963Z"
   },
   {
    "duration": 48,
    "start_time": "2022-01-19T12:41:26.987Z"
   },
   {
    "duration": 26,
    "start_time": "2022-01-19T12:41:27.038Z"
   },
   {
    "duration": 4,
    "start_time": "2022-01-19T12:41:27.066Z"
   },
   {
    "duration": 61,
    "start_time": "2022-01-19T12:41:27.073Z"
   },
   {
    "duration": 5,
    "start_time": "2022-01-19T12:41:27.136Z"
   },
   {
    "duration": 33,
    "start_time": "2022-01-19T12:41:27.142Z"
   },
   {
    "duration": 7,
    "start_time": "2022-01-19T12:41:27.178Z"
   },
   {
    "duration": 47,
    "start_time": "2022-01-19T12:41:27.187Z"
   },
   {
    "duration": 7,
    "start_time": "2022-01-19T12:41:27.236Z"
   },
   {
    "duration": 530,
    "start_time": "2022-01-19T12:41:27.245Z"
   },
   {
    "duration": 15,
    "start_time": "2022-01-19T12:41:27.778Z"
   },
   {
    "duration": 15,
    "start_time": "2022-01-19T12:41:27.795Z"
   },
   {
    "duration": 413,
    "start_time": "2022-01-19T12:41:27.833Z"
   },
   {
    "duration": 10,
    "start_time": "2022-01-19T12:41:28.250Z"
   },
   {
    "duration": 29,
    "start_time": "2022-01-19T12:41:28.262Z"
   },
   {
    "duration": 41,
    "start_time": "2022-01-19T12:41:28.294Z"
   },
   {
    "duration": 15,
    "start_time": "2022-01-19T12:41:28.338Z"
   },
   {
    "duration": 47,
    "start_time": "2022-01-19T12:41:28.356Z"
   },
   {
    "duration": 27,
    "start_time": "2022-01-19T12:41:28.406Z"
   },
   {
    "duration": 16,
    "start_time": "2022-01-19T12:41:28.435Z"
   },
   {
    "duration": 7081,
    "start_time": "2022-01-19T12:41:28.453Z"
   },
   {
    "duration": 497,
    "start_time": "2022-01-19T12:41:35.537Z"
   },
   {
    "duration": 6562,
    "start_time": "2022-01-19T12:41:36.036Z"
   },
   {
    "duration": 6869,
    "start_time": "2022-01-19T12:41:42.601Z"
   },
   {
    "duration": 453,
    "start_time": "2022-01-19T12:41:49.472Z"
   },
   {
    "duration": 1395,
    "start_time": "2022-01-19T12:41:48.535Z"
   },
   {
    "duration": 1392,
    "start_time": "2022-01-19T12:41:48.540Z"
   },
   {
    "duration": 1388,
    "start_time": "2022-01-19T12:41:48.545Z"
   },
   {
    "duration": 1384,
    "start_time": "2022-01-19T12:41:48.551Z"
   },
   {
    "duration": 1380,
    "start_time": "2022-01-19T12:41:48.556Z"
   },
   {
    "duration": 1375,
    "start_time": "2022-01-19T12:41:48.562Z"
   },
   {
    "duration": 1373,
    "start_time": "2022-01-19T12:41:48.566Z"
   },
   {
    "duration": 1369,
    "start_time": "2022-01-19T12:41:48.571Z"
   },
   {
    "duration": 1364,
    "start_time": "2022-01-19T12:41:48.577Z"
   },
   {
    "duration": 1361,
    "start_time": "2022-01-19T12:41:48.582Z"
   },
   {
    "duration": 1358,
    "start_time": "2022-01-19T12:41:48.586Z"
   },
   {
    "duration": 1354,
    "start_time": "2022-01-19T12:41:48.591Z"
   },
   {
    "duration": 1339,
    "start_time": "2022-01-19T12:41:48.607Z"
   },
   {
    "duration": 1334,
    "start_time": "2022-01-19T12:41:48.614Z"
   },
   {
    "duration": 1329,
    "start_time": "2022-01-19T12:41:48.620Z"
   },
   {
    "duration": 1324,
    "start_time": "2022-01-19T12:41:48.626Z"
   },
   {
    "duration": 1320,
    "start_time": "2022-01-19T12:41:48.631Z"
   },
   {
    "duration": 1315,
    "start_time": "2022-01-19T12:41:48.637Z"
   },
   {
    "duration": 1312,
    "start_time": "2022-01-19T12:41:48.642Z"
   },
   {
    "duration": 1307,
    "start_time": "2022-01-19T12:41:48.648Z"
   },
   {
    "duration": 1304,
    "start_time": "2022-01-19T12:41:48.652Z"
   },
   {
    "duration": 1300,
    "start_time": "2022-01-19T12:41:48.658Z"
   },
   {
    "duration": 1296,
    "start_time": "2022-01-19T12:41:48.663Z"
   },
   {
    "duration": 1292,
    "start_time": "2022-01-19T12:41:48.668Z"
   },
   {
    "duration": 1288,
    "start_time": "2022-01-19T12:41:48.673Z"
   },
   {
    "duration": 1284,
    "start_time": "2022-01-19T12:41:48.678Z"
   },
   {
    "duration": 1270,
    "start_time": "2022-01-19T12:41:48.694Z"
   },
   {
    "duration": 1265,
    "start_time": "2022-01-19T12:41:48.700Z"
   },
   {
    "duration": 1261,
    "start_time": "2022-01-19T12:41:48.705Z"
   },
   {
    "duration": 1256,
    "start_time": "2022-01-19T12:41:48.711Z"
   },
   {
    "duration": 1253,
    "start_time": "2022-01-19T12:41:48.716Z"
   },
   {
    "duration": 1249,
    "start_time": "2022-01-19T12:41:48.721Z"
   },
   {
    "duration": 1245,
    "start_time": "2022-01-19T12:41:48.726Z"
   },
   {
    "duration": 1301,
    "start_time": "2022-01-19T12:41:48.731Z"
   },
   {
    "duration": 1283,
    "start_time": "2022-01-19T12:41:48.751Z"
   },
   {
    "duration": 1280,
    "start_time": "2022-01-19T12:41:48.756Z"
   },
   {
    "duration": 1276,
    "start_time": "2022-01-19T12:41:48.761Z"
   },
   {
    "duration": 1263,
    "start_time": "2022-01-19T12:41:48.776Z"
   },
   {
    "duration": 1260,
    "start_time": "2022-01-19T12:41:48.781Z"
   },
   {
    "duration": 1237,
    "start_time": "2022-01-19T12:41:48.805Z"
   },
   {
    "duration": 1234,
    "start_time": "2022-01-19T12:41:48.810Z"
   },
   {
    "duration": 1230,
    "start_time": "2022-01-19T12:41:48.816Z"
   },
   {
    "duration": 1227,
    "start_time": "2022-01-19T12:41:48.820Z"
   },
   {
    "duration": 1220,
    "start_time": "2022-01-19T12:41:48.829Z"
   },
   {
    "duration": 1214,
    "start_time": "2022-01-19T12:41:48.836Z"
   },
   {
    "duration": 18,
    "start_time": "2022-01-19T12:45:08.653Z"
   },
   {
    "duration": 15,
    "start_time": "2022-01-19T12:45:15.541Z"
   },
   {
    "duration": 3191,
    "start_time": "2022-01-19T12:45:16.296Z"
   },
   {
    "duration": 11,
    "start_time": "2022-01-19T12:45:19.490Z"
   },
   {
    "duration": 40,
    "start_time": "2022-01-19T12:45:19.504Z"
   },
   {
    "duration": 295,
    "start_time": "2022-01-19T12:45:19.548Z"
   },
   {
    "duration": 319,
    "start_time": "2022-01-19T12:45:20.508Z"
   },
   {
    "duration": 1407,
    "start_time": "2022-01-19T12:45:19.423Z"
   },
   {
    "duration": 387,
    "start_time": "2022-01-19T12:45:21.122Z"
   },
   {
    "duration": 1386,
    "start_time": "2022-01-19T12:45:20.126Z"
   },
   {
    "duration": 1341,
    "start_time": "2022-01-19T12:45:20.172Z"
   },
   {
    "duration": 336,
    "start_time": "2022-01-19T12:45:21.931Z"
   },
   {
    "duration": 1396,
    "start_time": "2022-01-19T12:45:20.874Z"
   },
   {
    "duration": 45,
    "start_time": "2022-01-19T12:45:33.210Z"
   },
   {
    "duration": 340,
    "start_time": "2022-01-19T12:45:37.308Z"
   },
   {
    "duration": 335,
    "start_time": "2022-01-19T12:45:51.309Z"
   },
   {
    "duration": 32,
    "start_time": "2022-01-19T12:46:00.075Z"
   },
   {
    "duration": 9,
    "start_time": "2022-01-19T12:46:01.438Z"
   },
   {
    "duration": 321,
    "start_time": "2022-01-19T12:46:01.829Z"
   },
   {
    "duration": 45,
    "start_time": "2022-01-19T12:46:02.189Z"
   },
   {
    "duration": 294,
    "start_time": "2022-01-19T12:46:08.664Z"
   },
   {
    "duration": 26,
    "start_time": "2022-01-19T12:46:17.340Z"
   },
   {
    "duration": 50,
    "start_time": "2022-01-19T12:46:18.953Z"
   },
   {
    "duration": 10,
    "start_time": "2022-01-19T12:46:19.869Z"
   },
   {
    "duration": 317,
    "start_time": "2022-01-19T12:46:20.370Z"
   },
   {
    "duration": 18,
    "start_time": "2022-01-19T12:46:26.576Z"
   },
   {
    "duration": 15,
    "start_time": "2022-01-19T12:46:29.941Z"
   },
   {
    "duration": 6517,
    "start_time": "2022-01-19T12:46:30.868Z"
   },
   {
    "duration": 8,
    "start_time": "2022-01-19T12:46:37.388Z"
   },
   {
    "duration": 35,
    "start_time": "2022-01-19T12:46:37.399Z"
   },
   {
    "duration": 338,
    "start_time": "2022-01-19T12:46:41.900Z"
   },
   {
    "duration": 30,
    "start_time": "2022-01-19T12:46:47.471Z"
   },
   {
    "duration": 426,
    "start_time": "2022-01-24T09:10:19.003Z"
   },
   {
    "duration": 1139,
    "start_time": "2022-01-24T09:10:29.548Z"
   },
   {
    "duration": 163,
    "start_time": "2022-01-24T09:10:30.689Z"
   },
   {
    "duration": 10,
    "start_time": "2022-01-24T09:10:30.854Z"
   },
   {
    "duration": 134,
    "start_time": "2022-01-24T09:10:30.866Z"
   },
   {
    "duration": 13,
    "start_time": "2022-01-24T09:10:31.002Z"
   },
   {
    "duration": 19,
    "start_time": "2022-01-24T09:10:31.017Z"
   },
   {
    "duration": 114,
    "start_time": "2022-01-24T09:10:31.038Z"
   },
   {
    "duration": 7,
    "start_time": "2022-01-24T09:10:31.155Z"
   },
   {
    "duration": 25,
    "start_time": "2022-01-24T09:10:31.164Z"
   },
   {
    "duration": 14,
    "start_time": "2022-01-24T09:10:31.191Z"
   },
   {
    "duration": 41,
    "start_time": "2022-01-24T09:10:31.206Z"
   },
   {
    "duration": 14,
    "start_time": "2022-01-24T09:10:31.249Z"
   },
   {
    "duration": 10,
    "start_time": "2022-01-24T09:10:31.265Z"
   },
   {
    "duration": 53,
    "start_time": "2022-01-24T09:10:31.276Z"
   },
   {
    "duration": 18,
    "start_time": "2022-01-24T09:10:31.331Z"
   },
   {
    "duration": 23,
    "start_time": "2022-01-24T09:10:31.351Z"
   },
   {
    "duration": 5,
    "start_time": "2022-01-24T09:10:31.376Z"
   },
   {
    "duration": 15,
    "start_time": "2022-01-24T09:10:31.382Z"
   },
   {
    "duration": 15,
    "start_time": "2022-01-24T09:10:31.399Z"
   },
   {
    "duration": 11,
    "start_time": "2022-01-24T09:10:31.416Z"
   },
   {
    "duration": 9,
    "start_time": "2022-01-24T09:10:31.429Z"
   },
   {
    "duration": 27,
    "start_time": "2022-01-24T09:10:31.440Z"
   },
   {
    "duration": 61,
    "start_time": "2022-01-24T09:10:31.471Z"
   },
   {
    "duration": 16,
    "start_time": "2022-01-24T09:10:31.535Z"
   },
   {
    "duration": 31,
    "start_time": "2022-01-24T09:10:31.552Z"
   },
   {
    "duration": 35,
    "start_time": "2022-01-24T09:10:31.584Z"
   },
   {
    "duration": 38,
    "start_time": "2022-01-24T09:10:31.621Z"
   },
   {
    "duration": 10,
    "start_time": "2022-01-24T09:10:31.661Z"
   },
   {
    "duration": 40,
    "start_time": "2022-01-24T09:10:31.673Z"
   },
   {
    "duration": 10,
    "start_time": "2022-01-24T09:10:31.714Z"
   },
   {
    "duration": 15,
    "start_time": "2022-01-24T09:10:31.726Z"
   },
   {
    "duration": 14,
    "start_time": "2022-01-24T09:10:31.743Z"
   },
   {
    "duration": 17,
    "start_time": "2022-01-24T09:10:31.758Z"
   },
   {
    "duration": 3,
    "start_time": "2022-01-24T09:10:31.776Z"
   },
   {
    "duration": 49,
    "start_time": "2022-01-24T09:10:31.781Z"
   },
   {
    "duration": 4,
    "start_time": "2022-01-24T09:10:31.831Z"
   },
   {
    "duration": 31,
    "start_time": "2022-01-24T09:10:31.836Z"
   },
   {
    "duration": 5,
    "start_time": "2022-01-24T09:10:31.869Z"
   },
   {
    "duration": 17,
    "start_time": "2022-01-24T09:10:31.875Z"
   },
   {
    "duration": 21,
    "start_time": "2022-01-24T09:10:31.893Z"
   },
   {
    "duration": 292,
    "start_time": "2022-01-24T09:10:31.917Z"
   },
   {
    "duration": 12,
    "start_time": "2022-01-24T09:10:32.211Z"
   },
   {
    "duration": 10,
    "start_time": "2022-01-24T09:10:32.224Z"
   },
   {
    "duration": 277,
    "start_time": "2022-01-24T09:10:32.235Z"
   },
   {
    "duration": 7,
    "start_time": "2022-01-24T09:10:32.513Z"
   },
   {
    "duration": 18,
    "start_time": "2022-01-24T09:10:32.521Z"
   },
   {
    "duration": 8,
    "start_time": "2022-01-24T09:10:32.540Z"
   },
   {
    "duration": 20,
    "start_time": "2022-01-24T09:10:32.550Z"
   },
   {
    "duration": 32,
    "start_time": "2022-01-24T09:10:32.571Z"
   },
   {
    "duration": 15,
    "start_time": "2022-01-24T09:10:32.604Z"
   },
   {
    "duration": 17,
    "start_time": "2022-01-24T09:10:32.621Z"
   },
   {
    "duration": 4178,
    "start_time": "2022-01-24T09:10:32.639Z"
   },
   {
    "duration": 314,
    "start_time": "2022-01-24T09:10:36.819Z"
   },
   {
    "duration": 4296,
    "start_time": "2022-01-24T09:10:37.135Z"
   },
   {
    "duration": 483,
    "start_time": "2022-01-24T09:10:41.433Z"
   },
   {
    "duration": 4662,
    "start_time": "2022-01-24T09:10:41.918Z"
   },
   {
    "duration": 11,
    "start_time": "2022-01-24T09:10:46.582Z"
   },
   {
    "duration": 20,
    "start_time": "2022-01-24T09:10:46.594Z"
   },
   {
    "duration": 1802,
    "start_time": "2022-01-24T09:10:46.616Z"
   },
   {
    "duration": 7,
    "start_time": "2022-01-24T09:10:48.420Z"
   },
   {
    "duration": 15,
    "start_time": "2022-01-24T09:10:48.428Z"
   },
   {
    "duration": 18,
    "start_time": "2022-01-24T09:10:48.445Z"
   },
   {
    "duration": 5,
    "start_time": "2022-01-24T09:10:48.464Z"
   },
   {
    "duration": 13,
    "start_time": "2022-01-24T09:10:48.471Z"
   },
   {
    "duration": 58,
    "start_time": "2022-01-24T09:10:48.485Z"
   },
   {
    "duration": 6,
    "start_time": "2022-01-24T09:10:48.544Z"
   },
   {
    "duration": 13,
    "start_time": "2022-01-24T09:10:48.551Z"
   },
   {
    "duration": 10,
    "start_time": "2022-01-24T09:10:48.569Z"
   },
   {
    "duration": 3966,
    "start_time": "2022-01-24T09:10:48.581Z"
   },
   {
    "duration": 5,
    "start_time": "2022-01-24T09:10:52.549Z"
   },
   {
    "duration": 13,
    "start_time": "2022-01-24T09:10:52.556Z"
   },
   {
    "duration": 21,
    "start_time": "2022-01-24T09:10:52.571Z"
   },
   {
    "duration": 21,
    "start_time": "2022-01-24T09:10:52.593Z"
   },
   {
    "duration": 314,
    "start_time": "2022-01-24T09:10:52.615Z"
   },
   {
    "duration": -625,
    "start_time": "2022-01-24T09:10:53.556Z"
   },
   {
    "duration": -631,
    "start_time": "2022-01-24T09:10:53.564Z"
   },
   {
    "duration": -637,
    "start_time": "2022-01-24T09:10:53.570Z"
   },
   {
    "duration": -643,
    "start_time": "2022-01-24T09:10:53.577Z"
   },
   {
    "duration": -691,
    "start_time": "2022-01-24T09:10:53.626Z"
   },
   {
    "duration": -701,
    "start_time": "2022-01-24T09:10:53.637Z"
   },
   {
    "duration": -710,
    "start_time": "2022-01-24T09:10:53.647Z"
   },
   {
    "duration": -720,
    "start_time": "2022-01-24T09:10:53.658Z"
   },
   {
    "duration": -726,
    "start_time": "2022-01-24T09:10:53.665Z"
   },
   {
    "duration": -733,
    "start_time": "2022-01-24T09:10:53.673Z"
   },
   {
    "duration": -739,
    "start_time": "2022-01-24T09:10:53.680Z"
   },
   {
    "duration": -746,
    "start_time": "2022-01-24T09:10:53.688Z"
   },
   {
    "duration": -752,
    "start_time": "2022-01-24T09:10:53.696Z"
   },
   {
    "duration": -1417,
    "start_time": "2022-01-24T09:10:54.362Z"
   },
   {
    "duration": -1424,
    "start_time": "2022-01-24T09:10:54.369Z"
   },
   {
    "duration": -1430,
    "start_time": "2022-01-24T09:10:54.376Z"
   },
   {
    "duration": -1436,
    "start_time": "2022-01-24T09:10:54.383Z"
   },
   {
    "duration": -1443,
    "start_time": "2022-01-24T09:10:54.391Z"
   },
   {
    "duration": -1449,
    "start_time": "2022-01-24T09:10:54.398Z"
   },
   {
    "duration": -1457,
    "start_time": "2022-01-24T09:10:54.407Z"
   },
   {
    "duration": -1463,
    "start_time": "2022-01-24T09:10:54.414Z"
   },
   {
    "duration": -1470,
    "start_time": "2022-01-24T09:10:54.422Z"
   },
   {
    "duration": -1476,
    "start_time": "2022-01-24T09:10:54.429Z"
   },
   {
    "duration": -1483,
    "start_time": "2022-01-24T09:10:54.437Z"
   },
   {
    "duration": -1488,
    "start_time": "2022-01-24T09:10:54.443Z"
   },
   {
    "duration": -1495,
    "start_time": "2022-01-24T09:10:54.451Z"
   },
   {
    "duration": -1517,
    "start_time": "2022-01-24T09:10:54.474Z"
   },
   {
    "duration": -1524,
    "start_time": "2022-01-24T09:10:54.482Z"
   },
   {
    "duration": 321,
    "start_time": "2022-01-24T09:11:52.617Z"
   },
   {
    "duration": 461,
    "start_time": "2022-01-25T06:17:40.036Z"
   },
   {
    "duration": 1616,
    "start_time": "2022-01-25T06:17:48.560Z"
   },
   {
    "duration": 328,
    "start_time": "2022-01-25T06:17:50.179Z"
   },
   {
    "duration": 19,
    "start_time": "2022-01-25T06:17:50.511Z"
   },
   {
    "duration": 206,
    "start_time": "2022-01-25T06:17:50.533Z"
   },
   {
    "duration": 12,
    "start_time": "2022-01-25T06:17:50.742Z"
   },
   {
    "duration": 17,
    "start_time": "2022-01-25T06:17:50.756Z"
   },
   {
    "duration": 146,
    "start_time": "2022-01-25T06:17:50.776Z"
   },
   {
    "duration": 11,
    "start_time": "2022-01-25T06:17:50.924Z"
   },
   {
    "duration": 21,
    "start_time": "2022-01-25T06:17:50.939Z"
   },
   {
    "duration": 17,
    "start_time": "2022-01-25T06:17:50.963Z"
   },
   {
    "duration": 32,
    "start_time": "2022-01-25T06:17:50.982Z"
   },
   {
    "duration": 16,
    "start_time": "2022-01-25T06:17:51.017Z"
   },
   {
    "duration": 9,
    "start_time": "2022-01-25T06:17:51.036Z"
   },
   {
    "duration": 43,
    "start_time": "2022-01-25T06:17:51.070Z"
   },
   {
    "duration": 25,
    "start_time": "2022-01-25T06:17:51.116Z"
   },
   {
    "duration": 57,
    "start_time": "2022-01-25T06:17:51.143Z"
   },
   {
    "duration": 7,
    "start_time": "2022-01-25T06:17:51.202Z"
   },
   {
    "duration": 8,
    "start_time": "2022-01-25T06:17:51.211Z"
   },
   {
    "duration": 7,
    "start_time": "2022-01-25T06:17:51.221Z"
   },
   {
    "duration": 40,
    "start_time": "2022-01-25T06:17:51.230Z"
   },
   {
    "duration": 8,
    "start_time": "2022-01-25T06:17:51.272Z"
   },
   {
    "duration": 32,
    "start_time": "2022-01-25T06:17:51.282Z"
   },
   {
    "duration": 80,
    "start_time": "2022-01-25T06:17:51.316Z"
   },
   {
    "duration": 21,
    "start_time": "2022-01-25T06:17:51.398Z"
   },
   {
    "duration": 58,
    "start_time": "2022-01-25T06:17:51.421Z"
   },
   {
    "duration": 24,
    "start_time": "2022-01-25T06:17:51.481Z"
   },
   {
    "duration": 73,
    "start_time": "2022-01-25T06:17:51.512Z"
   },
   {
    "duration": 15,
    "start_time": "2022-01-25T06:17:51.589Z"
   },
   {
    "duration": 23,
    "start_time": "2022-01-25T06:17:51.606Z"
   },
   {
    "duration": 43,
    "start_time": "2022-01-25T06:17:51.631Z"
   },
   {
    "duration": 24,
    "start_time": "2022-01-25T06:17:51.677Z"
   },
   {
    "duration": 18,
    "start_time": "2022-01-25T06:17:51.703Z"
   },
   {
    "duration": 58,
    "start_time": "2022-01-25T06:17:51.723Z"
   },
   {
    "duration": 6,
    "start_time": "2022-01-25T06:17:51.783Z"
   },
   {
    "duration": 27,
    "start_time": "2022-01-25T06:17:51.791Z"
   },
   {
    "duration": 5,
    "start_time": "2022-01-25T06:17:51.820Z"
   },
   {
    "duration": 72,
    "start_time": "2022-01-25T06:17:51.827Z"
   },
   {
    "duration": 7,
    "start_time": "2022-01-25T06:17:51.901Z"
   },
   {
    "duration": 14,
    "start_time": "2022-01-25T06:17:51.911Z"
   },
   {
    "duration": 41,
    "start_time": "2022-01-25T06:17:51.928Z"
   },
   {
    "duration": 548,
    "start_time": "2022-01-25T06:17:51.972Z"
   },
   {
    "duration": 16,
    "start_time": "2022-01-25T06:17:52.522Z"
   },
   {
    "duration": 30,
    "start_time": "2022-01-25T06:17:52.540Z"
   },
   {
    "duration": 430,
    "start_time": "2022-01-25T06:17:52.573Z"
   },
   {
    "duration": 9,
    "start_time": "2022-01-25T06:17:53.006Z"
   },
   {
    "duration": 53,
    "start_time": "2022-01-25T06:17:53.018Z"
   },
   {
    "duration": 13,
    "start_time": "2022-01-25T06:17:53.074Z"
   },
   {
    "duration": 16,
    "start_time": "2022-01-25T06:17:53.090Z"
   },
   {
    "duration": 29,
    "start_time": "2022-01-25T06:17:53.109Z"
   },
   {
    "duration": 41,
    "start_time": "2022-01-25T06:17:53.140Z"
   },
   {
    "duration": 15,
    "start_time": "2022-01-25T06:17:53.184Z"
   },
   {
    "duration": 6842,
    "start_time": "2022-01-25T06:17:53.201Z"
   },
   {
    "duration": 511,
    "start_time": "2022-01-25T06:18:00.046Z"
   },
   {
    "duration": 630,
    "start_time": "2022-01-25T06:18:00.559Z"
   },
   {
    "duration": 538,
    "start_time": "2022-01-25T06:18:01.191Z"
   },
   {
    "duration": 19,
    "start_time": "2022-01-25T06:18:01.731Z"
   },
   {
    "duration": 42,
    "start_time": "2022-01-25T06:18:01.752Z"
   },
   {
    "duration": 2875,
    "start_time": "2022-01-25T06:18:01.797Z"
   },
   {
    "duration": 8,
    "start_time": "2022-01-25T06:18:04.675Z"
   },
   {
    "duration": 25,
    "start_time": "2022-01-25T06:18:04.686Z"
   },
   {
    "duration": 56,
    "start_time": "2022-01-25T06:18:04.713Z"
   },
   {
    "duration": 8,
    "start_time": "2022-01-25T06:18:04.771Z"
   },
   {
    "duration": 22,
    "start_time": "2022-01-25T06:18:04.782Z"
   },
   {
    "duration": 77,
    "start_time": "2022-01-25T06:18:04.806Z"
   },
   {
    "duration": 10,
    "start_time": "2022-01-25T06:18:04.886Z"
   },
   {
    "duration": 18,
    "start_time": "2022-01-25T06:18:04.898Z"
   },
   {
    "duration": 14,
    "start_time": "2022-01-25T06:18:04.918Z"
   },
   {
    "duration": 6340,
    "start_time": "2022-01-25T06:18:04.934Z"
   },
   {
    "duration": 9,
    "start_time": "2022-01-25T06:18:11.277Z"
   },
   {
    "duration": 19,
    "start_time": "2022-01-25T06:18:11.289Z"
   },
   {
    "duration": 59,
    "start_time": "2022-01-25T06:18:11.310Z"
   },
   {
    "duration": 8,
    "start_time": "2022-01-25T06:18:11.372Z"
   },
   {
    "duration": 538,
    "start_time": "2022-01-25T06:18:11.383Z"
   },
   {
    "duration": 107,
    "start_time": "2022-01-25T06:18:11.818Z"
   },
   {
    "duration": 99,
    "start_time": "2022-01-25T06:18:11.828Z"
   },
   {
    "duration": 87,
    "start_time": "2022-01-25T06:18:11.842Z"
   },
   {
    "duration": 79,
    "start_time": "2022-01-25T06:18:11.852Z"
   },
   {
    "duration": 73,
    "start_time": "2022-01-25T06:18:11.863Z"
   },
   {
    "duration": 63,
    "start_time": "2022-01-25T06:18:11.875Z"
   },
   {
    "duration": 53,
    "start_time": "2022-01-25T06:18:11.886Z"
   },
   {
    "duration": 42,
    "start_time": "2022-01-25T06:18:11.899Z"
   },
   {
    "duration": 34,
    "start_time": "2022-01-25T06:18:11.909Z"
   },
   {
    "duration": 23,
    "start_time": "2022-01-25T06:18:11.921Z"
   },
   {
    "duration": 15,
    "start_time": "2022-01-25T06:18:11.930Z"
   },
   {
    "duration": 2,
    "start_time": "2022-01-25T06:18:11.945Z"
   },
   {
    "duration": -7,
    "start_time": "2022-01-25T06:18:11.955Z"
   },
   {
    "duration": -23,
    "start_time": "2022-01-25T06:18:11.973Z"
   },
   {
    "duration": -29,
    "start_time": "2022-01-25T06:18:11.980Z"
   },
   {
    "duration": -35,
    "start_time": "2022-01-25T06:18:11.987Z"
   },
   {
    "duration": -40,
    "start_time": "2022-01-25T06:18:11.994Z"
   },
   {
    "duration": -46,
    "start_time": "2022-01-25T06:18:12.002Z"
   },
   {
    "duration": -51,
    "start_time": "2022-01-25T06:18:12.009Z"
   },
   {
    "duration": -57,
    "start_time": "2022-01-25T06:18:12.016Z"
   },
   {
    "duration": -63,
    "start_time": "2022-01-25T06:18:12.023Z"
   },
   {
    "duration": -61,
    "start_time": "2022-01-25T06:18:12.030Z"
   },
   {
    "duration": -66,
    "start_time": "2022-01-25T06:18:12.036Z"
   },
   {
    "duration": -72,
    "start_time": "2022-01-25T06:18:12.044Z"
   },
   {
    "duration": -77,
    "start_time": "2022-01-25T06:18:12.051Z"
   },
   {
    "duration": -83,
    "start_time": "2022-01-25T06:18:12.059Z"
   },
   {
    "duration": -88,
    "start_time": "2022-01-25T06:18:12.065Z"
   },
   {
    "duration": -94,
    "start_time": "2022-01-25T06:18:12.073Z"
   },
   {
    "duration": 445,
    "start_time": "2022-01-25T06:23:10.259Z"
   },
   {
    "duration": 436,
    "start_time": "2022-01-25T06:25:24.879Z"
   },
   {
    "duration": 395,
    "start_time": "2022-01-25T06:26:46.519Z"
   },
   {
    "duration": 24,
    "start_time": "2022-01-25T06:27:27.519Z"
   },
   {
    "duration": 483,
    "start_time": "2022-01-25T06:27:30.263Z"
   },
   {
    "duration": 54,
    "start_time": "2022-01-25T06:27:40.258Z"
   },
   {
    "duration": 12,
    "start_time": "2022-01-25T06:27:43.378Z"
   },
   {
    "duration": 368,
    "start_time": "2022-01-25T06:27:56.418Z"
   },
   {
    "duration": 375,
    "start_time": "2022-01-25T06:27:59.678Z"
   },
   {
    "duration": 534,
    "start_time": "2022-01-25T06:28:01.031Z"
   },
   {
    "duration": 483,
    "start_time": "2022-01-25T06:28:03.990Z"
   },
   {
    "duration": 360,
    "start_time": "2022-01-25T06:28:04.582Z"
   },
   {
    "duration": 374,
    "start_time": "2022-01-25T06:28:06.738Z"
   },
   {
    "duration": 1294,
    "start_time": "2022-01-25T06:28:07.678Z"
   },
   {
    "duration": 14,
    "start_time": "2022-01-25T06:28:08.998Z"
   },
   {
    "duration": 4,
    "start_time": "2022-01-25T06:28:09.539Z"
   },
   {
    "duration": 6,
    "start_time": "2022-01-25T06:28:09.792Z"
   },
   {
    "duration": 8,
    "start_time": "2022-01-25T06:28:10.270Z"
   },
   {
    "duration": 6,
    "start_time": "2022-01-25T06:28:11.590Z"
   },
   {
    "duration": 7,
    "start_time": "2022-01-25T06:28:11.750Z"
   },
   {
    "duration": 9,
    "start_time": "2022-01-25T06:28:11.942Z"
   },
   {
    "duration": 6,
    "start_time": "2022-01-25T06:28:12.150Z"
   },
   {
    "duration": 6,
    "start_time": "2022-01-25T06:28:12.302Z"
   },
   {
    "duration": 5,
    "start_time": "2022-01-25T06:28:12.671Z"
   },
   {
    "duration": 5,
    "start_time": "2022-01-25T06:28:13.382Z"
   },
   {
    "duration": 5,
    "start_time": "2022-01-25T06:28:13.538Z"
   },
   {
    "duration": 17,
    "start_time": "2022-01-25T06:28:14.450Z"
   },
   {
    "duration": 6,
    "start_time": "2022-01-25T06:28:19.670Z"
   },
   {
    "duration": 7,
    "start_time": "2022-01-25T06:28:20.202Z"
   },
   {
    "duration": 6,
    "start_time": "2022-01-25T06:28:20.383Z"
   },
   {
    "duration": 5,
    "start_time": "2022-01-25T06:28:20.562Z"
   },
   {
    "duration": 6,
    "start_time": "2022-01-25T06:28:20.750Z"
   },
   {
    "duration": 6,
    "start_time": "2022-01-25T06:28:20.998Z"
   },
   {
    "duration": 2368,
    "start_time": "2022-01-25T12:10:42.846Z"
   },
   {
    "duration": 241,
    "start_time": "2022-01-25T12:10:45.217Z"
   },
   {
    "duration": 18,
    "start_time": "2022-01-25T12:10:45.465Z"
   },
   {
    "duration": 182,
    "start_time": "2022-01-25T12:10:45.486Z"
   },
   {
    "duration": 12,
    "start_time": "2022-01-25T12:10:45.671Z"
   },
   {
    "duration": 10,
    "start_time": "2022-01-25T12:10:45.686Z"
   },
   {
    "duration": 143,
    "start_time": "2022-01-25T12:10:45.699Z"
   },
   {
    "duration": 18,
    "start_time": "2022-01-25T12:10:45.846Z"
   },
   {
    "duration": 26,
    "start_time": "2022-01-25T12:10:45.867Z"
   },
   {
    "duration": 13,
    "start_time": "2022-01-25T12:10:45.895Z"
   },
   {
    "duration": 40,
    "start_time": "2022-01-25T12:10:45.910Z"
   },
   {
    "duration": 17,
    "start_time": "2022-01-25T12:10:45.953Z"
   },
   {
    "duration": 10,
    "start_time": "2022-01-25T12:10:45.973Z"
   },
   {
    "duration": 46,
    "start_time": "2022-01-25T12:10:45.985Z"
   },
   {
    "duration": 27,
    "start_time": "2022-01-25T12:10:46.064Z"
   },
   {
    "duration": 31,
    "start_time": "2022-01-25T12:10:46.093Z"
   },
   {
    "duration": 7,
    "start_time": "2022-01-25T12:10:46.126Z"
   },
   {
    "duration": 32,
    "start_time": "2022-01-25T12:10:46.135Z"
   },
   {
    "duration": 10,
    "start_time": "2022-01-25T12:10:46.169Z"
   },
   {
    "duration": 10,
    "start_time": "2022-01-25T12:10:46.181Z"
   },
   {
    "duration": 16,
    "start_time": "2022-01-25T12:10:46.193Z"
   },
   {
    "duration": 53,
    "start_time": "2022-01-25T12:10:46.211Z"
   },
   {
    "duration": 58,
    "start_time": "2022-01-25T12:10:46.271Z"
   },
   {
    "duration": 38,
    "start_time": "2022-01-25T12:10:46.333Z"
   },
   {
    "duration": 43,
    "start_time": "2022-01-25T12:10:46.374Z"
   },
   {
    "duration": 51,
    "start_time": "2022-01-25T12:10:46.419Z"
   },
   {
    "duration": 71,
    "start_time": "2022-01-25T12:10:46.473Z"
   },
   {
    "duration": 30,
    "start_time": "2022-01-25T12:10:46.547Z"
   },
   {
    "duration": 24,
    "start_time": "2022-01-25T12:10:46.579Z"
   },
   {
    "duration": 17,
    "start_time": "2022-01-25T12:10:46.606Z"
   },
   {
    "duration": 59,
    "start_time": "2022-01-25T12:10:46.625Z"
   },
   {
    "duration": 25,
    "start_time": "2022-01-25T12:10:46.686Z"
   },
   {
    "duration": 55,
    "start_time": "2022-01-25T12:10:46.713Z"
   },
   {
    "duration": 5,
    "start_time": "2022-01-25T12:10:46.770Z"
   },
   {
    "duration": 39,
    "start_time": "2022-01-25T12:10:46.777Z"
   },
   {
    "duration": 6,
    "start_time": "2022-01-25T12:10:46.819Z"
   },
   {
    "duration": 64,
    "start_time": "2022-01-25T12:10:46.828Z"
   },
   {
    "duration": 8,
    "start_time": "2022-01-25T12:10:46.894Z"
   },
   {
    "duration": 20,
    "start_time": "2022-01-25T12:10:46.904Z"
   },
   {
    "duration": 47,
    "start_time": "2022-01-25T12:10:46.926Z"
   },
   {
    "duration": 519,
    "start_time": "2022-01-25T12:10:46.976Z"
   },
   {
    "duration": 17,
    "start_time": "2022-01-25T12:10:47.498Z"
   },
   {
    "duration": 18,
    "start_time": "2022-01-25T12:10:47.518Z"
   },
   {
    "duration": 450,
    "start_time": "2022-01-25T12:10:47.539Z"
   },
   {
    "duration": 293,
    "start_time": "2022-01-25T12:10:47.991Z"
   },
   {
    "duration": -222,
    "start_time": "2022-01-25T12:10:48.510Z"
   },
   {
    "duration": -230,
    "start_time": "2022-01-25T12:10:48.520Z"
   },
   {
    "duration": -232,
    "start_time": "2022-01-25T12:10:48.524Z"
   },
   {
    "duration": -294,
    "start_time": "2022-01-25T12:10:48.587Z"
   },
   {
    "duration": -296,
    "start_time": "2022-01-25T12:10:48.591Z"
   },
   {
    "duration": -299,
    "start_time": "2022-01-25T12:10:48.595Z"
   },
   {
    "duration": -308,
    "start_time": "2022-01-25T12:10:48.605Z"
   },
   {
    "duration": -310,
    "start_time": "2022-01-25T12:10:48.609Z"
   },
   {
    "duration": -313,
    "start_time": "2022-01-25T12:10:48.613Z"
   },
   {
    "duration": -321,
    "start_time": "2022-01-25T12:10:48.623Z"
   },
   {
    "duration": -324,
    "start_time": "2022-01-25T12:10:48.627Z"
   },
   {
    "duration": -334,
    "start_time": "2022-01-25T12:10:48.638Z"
   },
   {
    "duration": -335,
    "start_time": "2022-01-25T12:10:48.641Z"
   },
   {
    "duration": -340,
    "start_time": "2022-01-25T12:10:48.647Z"
   },
   {
    "duration": -348,
    "start_time": "2022-01-25T12:10:48.657Z"
   },
   {
    "duration": -351,
    "start_time": "2022-01-25T12:10:48.662Z"
   },
   {
    "duration": -359,
    "start_time": "2022-01-25T12:10:48.672Z"
   },
   {
    "duration": -362,
    "start_time": "2022-01-25T12:10:48.676Z"
   },
   {
    "duration": -364,
    "start_time": "2022-01-25T12:10:48.680Z"
   },
   {
    "duration": -373,
    "start_time": "2022-01-25T12:10:48.690Z"
   },
   {
    "duration": -482,
    "start_time": "2022-01-25T12:10:48.801Z"
   },
   {
    "duration": -485,
    "start_time": "2022-01-25T12:10:48.805Z"
   },
   {
    "duration": -486,
    "start_time": "2022-01-25T12:10:48.808Z"
   },
   {
    "duration": -488,
    "start_time": "2022-01-25T12:10:48.812Z"
   },
   {
    "duration": -456,
    "start_time": "2022-01-25T12:10:48.820Z"
   },
   {
    "duration": -458,
    "start_time": "2022-01-25T12:10:48.824Z"
   },
   {
    "duration": -460,
    "start_time": "2022-01-25T12:10:48.827Z"
   },
   {
    "duration": -468,
    "start_time": "2022-01-25T12:10:48.837Z"
   },
   {
    "duration": -471,
    "start_time": "2022-01-25T12:10:48.841Z"
   },
   {
    "duration": -475,
    "start_time": "2022-01-25T12:10:48.847Z"
   },
   {
    "duration": -485,
    "start_time": "2022-01-25T12:10:48.858Z"
   },
   {
    "duration": -488,
    "start_time": "2022-01-25T12:10:48.863Z"
   },
   {
    "duration": -495,
    "start_time": "2022-01-25T12:10:48.871Z"
   },
   {
    "duration": -497,
    "start_time": "2022-01-25T12:10:48.876Z"
   },
   {
    "duration": -499,
    "start_time": "2022-01-25T12:10:48.880Z"
   },
   {
    "duration": -507,
    "start_time": "2022-01-25T12:10:48.890Z"
   },
   {
    "duration": -509,
    "start_time": "2022-01-25T12:10:48.894Z"
   },
   {
    "duration": -791,
    "start_time": "2022-01-25T12:10:49.178Z"
   },
   {
    "duration": -799,
    "start_time": "2022-01-25T12:10:49.188Z"
   },
   {
    "duration": -801,
    "start_time": "2022-01-25T12:10:49.192Z"
   },
   {
    "duration": -803,
    "start_time": "2022-01-25T12:10:49.196Z"
   },
   {
    "duration": -811,
    "start_time": "2022-01-25T12:10:49.206Z"
   },
   {
    "duration": -813,
    "start_time": "2022-01-25T12:10:49.210Z"
   },
   {
    "duration": -822,
    "start_time": "2022-01-25T12:10:49.221Z"
   },
   {
    "duration": -824,
    "start_time": "2022-01-25T12:10:49.225Z"
   },
   {
    "duration": -767,
    "start_time": "2022-01-25T12:10:49.230Z"
   },
   {
    "duration": -772,
    "start_time": "2022-01-25T12:10:49.238Z"
   },
   {
    "duration": -773,
    "start_time": "2022-01-25T12:10:49.241Z"
   },
   {
    "duration": -774,
    "start_time": "2022-01-25T12:10:49.245Z"
   },
   {
    "duration": -781,
    "start_time": "2022-01-25T12:10:49.254Z"
   },
   {
    "duration": -782,
    "start_time": "2022-01-25T12:10:49.257Z"
   },
   {
    "duration": -782,
    "start_time": "2022-01-25T12:10:49.260Z"
   },
   {
    "duration": -789,
    "start_time": "2022-01-25T12:10:49.269Z"
   },
   {
    "duration": -791,
    "start_time": "2022-01-25T12:10:49.273Z"
   },
   {
    "duration": -791,
    "start_time": "2022-01-25T12:10:49.276Z"
   },
   {
    "duration": -794,
    "start_time": "2022-01-25T12:10:49.280Z"
   },
   {
    "duration": -799,
    "start_time": "2022-01-25T12:10:49.288Z"
   },
   {
    "duration": -800,
    "start_time": "2022-01-25T12:10:49.291Z"
   },
   {
    "duration": 708,
    "start_time": "2022-01-25T12:11:03.420Z"
   },
   {
    "duration": 802,
    "start_time": "2022-01-25T12:11:16.433Z"
   },
   {
    "duration": 554,
    "start_time": "2022-01-25T12:13:54.670Z"
   },
   {
    "duration": 11,
    "start_time": "2022-01-25T12:13:55.228Z"
   },
   {
    "duration": 46,
    "start_time": "2022-01-25T12:13:55.243Z"
   },
   {
    "duration": 15,
    "start_time": "2022-01-25T12:13:55.293Z"
   },
   {
    "duration": 12,
    "start_time": "2022-01-25T12:13:55.311Z"
   },
   {
    "duration": 62,
    "start_time": "2022-01-25T12:13:55.326Z"
   },
   {
    "duration": 15,
    "start_time": "2022-01-25T12:13:55.390Z"
   },
   {
    "duration": 16,
    "start_time": "2022-01-25T12:13:55.408Z"
   },
   {
    "duration": 7362,
    "start_time": "2022-01-25T12:13:55.465Z"
   },
   {
    "duration": 486,
    "start_time": "2022-01-25T12:14:02.830Z"
   },
   {
    "duration": 490,
    "start_time": "2022-01-25T12:14:03.319Z"
   },
   {
    "duration": 600,
    "start_time": "2022-01-25T12:14:03.812Z"
   },
   {
    "duration": 16,
    "start_time": "2022-01-25T12:14:04.415Z"
   },
   {
    "duration": 33,
    "start_time": "2022-01-25T12:14:04.433Z"
   },
   {
    "duration": 397,
    "start_time": "2022-01-25T12:14:04.468Z"
   },
   {
    "duration": 9,
    "start_time": "2022-01-25T12:14:04.868Z"
   },
   {
    "duration": 21,
    "start_time": "2022-01-25T12:14:04.880Z"
   },
   {
    "duration": 29,
    "start_time": "2022-01-25T12:14:04.904Z"
   },
   {
    "duration": 32,
    "start_time": "2022-01-25T12:14:04.936Z"
   },
   {
    "duration": 25,
    "start_time": "2022-01-25T12:14:04.970Z"
   },
   {
    "duration": 71,
    "start_time": "2022-01-25T12:14:04.997Z"
   },
   {
    "duration": 10,
    "start_time": "2022-01-25T12:14:05.071Z"
   },
   {
    "duration": 27,
    "start_time": "2022-01-25T12:14:05.083Z"
   },
   {
    "duration": 16,
    "start_time": "2022-01-25T12:14:05.113Z"
   },
   {
    "duration": 409,
    "start_time": "2022-01-25T12:14:05.132Z"
   },
   {
    "duration": 8,
    "start_time": "2022-01-25T12:14:05.544Z"
   },
   {
    "duration": 21,
    "start_time": "2022-01-25T12:14:05.569Z"
   },
   {
    "duration": 30,
    "start_time": "2022-01-25T12:14:05.593Z"
   },
   {
    "duration": 8,
    "start_time": "2022-01-25T12:14:05.625Z"
   },
   {
    "duration": 22,
    "start_time": "2022-01-25T12:14:05.663Z"
   },
   {
    "duration": 202,
    "start_time": "2022-01-25T12:14:05.688Z"
   },
   {
    "duration": 9,
    "start_time": "2022-01-25T12:14:05.892Z"
   },
   {
    "duration": 375,
    "start_time": "2022-01-25T12:14:05.903Z"
   },
   {
    "duration": 378,
    "start_time": "2022-01-25T12:14:06.280Z"
   },
   {
    "duration": 382,
    "start_time": "2022-01-25T12:14:06.661Z"
   },
   {
    "duration": 398,
    "start_time": "2022-01-25T12:14:07.045Z"
   },
   {
    "duration": 375,
    "start_time": "2022-01-25T12:14:07.446Z"
   },
   {
    "duration": 374,
    "start_time": "2022-01-25T12:14:07.825Z"
   },
   {
    "duration": 1258,
    "start_time": "2022-01-25T12:14:08.202Z"
   },
   {
    "duration": 14,
    "start_time": "2022-01-25T12:14:09.465Z"
   },
   {
    "duration": 19,
    "start_time": "2022-01-25T12:14:09.481Z"
   },
   {
    "duration": 10,
    "start_time": "2022-01-25T12:14:09.503Z"
   },
   {
    "duration": 10,
    "start_time": "2022-01-25T12:14:09.515Z"
   },
   {
    "duration": 12,
    "start_time": "2022-01-25T12:14:09.527Z"
   },
   {
    "duration": 27,
    "start_time": "2022-01-25T12:14:09.541Z"
   },
   {
    "duration": 10,
    "start_time": "2022-01-25T12:14:09.570Z"
   },
   {
    "duration": 7,
    "start_time": "2022-01-25T12:14:09.583Z"
   },
   {
    "duration": 7,
    "start_time": "2022-01-25T12:14:09.593Z"
   },
   {
    "duration": 6,
    "start_time": "2022-01-25T12:14:09.603Z"
   },
   {
    "duration": 6,
    "start_time": "2022-01-25T12:14:09.666Z"
   },
   {
    "duration": 8,
    "start_time": "2022-01-25T12:14:09.674Z"
   },
   {
    "duration": 14,
    "start_time": "2022-01-25T12:14:09.685Z"
   },
   {
    "duration": 6,
    "start_time": "2022-01-25T12:14:09.701Z"
   },
   {
    "duration": 7,
    "start_time": "2022-01-25T12:14:09.710Z"
   },
   {
    "duration": 8,
    "start_time": "2022-01-25T12:14:09.766Z"
   },
   {
    "duration": 9,
    "start_time": "2022-01-25T12:14:09.776Z"
   },
   {
    "duration": 14,
    "start_time": "2022-01-25T12:14:09.788Z"
   },
   {
    "duration": 10,
    "start_time": "2022-01-25T12:14:09.805Z"
   },
   {
    "duration": 23,
    "start_time": "2022-01-25T12:16:51.572Z"
   },
   {
    "duration": 28,
    "start_time": "2022-01-25T12:18:15.943Z"
   },
   {
    "duration": 29457,
    "start_time": "2022-01-25T12:18:51.145Z"
   },
   {
    "duration": 102,
    "start_time": "2022-01-25T12:19:35.122Z"
   },
   {
    "duration": 6,
    "start_time": "2022-01-25T12:20:56.630Z"
   },
   {
    "duration": 5,
    "start_time": "2022-01-25T12:24:02.497Z"
   },
   {
    "duration": 291,
    "start_time": "2022-01-25T12:24:02.505Z"
   },
   {
    "duration": 12,
    "start_time": "2022-01-25T12:24:02.800Z"
   },
   {
    "duration": 218,
    "start_time": "2022-01-25T12:24:02.815Z"
   },
   {
    "duration": 29,
    "start_time": "2022-01-25T12:24:03.036Z"
   },
   {
    "duration": 7,
    "start_time": "2022-01-25T12:24:03.067Z"
   },
   {
    "duration": 148,
    "start_time": "2022-01-25T12:24:03.077Z"
   },
   {
    "duration": 11,
    "start_time": "2022-01-25T12:24:03.229Z"
   },
   {
    "duration": 42,
    "start_time": "2022-01-25T12:24:03.243Z"
   },
   {
    "duration": 16,
    "start_time": "2022-01-25T12:24:03.287Z"
   },
   {
    "duration": 37,
    "start_time": "2022-01-25T12:24:03.305Z"
   },
   {
    "duration": 16,
    "start_time": "2022-01-25T12:24:03.345Z"
   },
   {
    "duration": 8,
    "start_time": "2022-01-25T12:24:03.363Z"
   },
   {
    "duration": 38,
    "start_time": "2022-01-25T12:24:03.373Z"
   },
   {
    "duration": 24,
    "start_time": "2022-01-25T12:24:03.414Z"
   },
   {
    "duration": 48,
    "start_time": "2022-01-25T12:24:03.441Z"
   },
   {
    "duration": 7,
    "start_time": "2022-01-25T12:24:03.492Z"
   },
   {
    "duration": 11,
    "start_time": "2022-01-25T12:24:03.501Z"
   },
   {
    "duration": 9,
    "start_time": "2022-01-25T12:24:03.514Z"
   },
   {
    "duration": 13,
    "start_time": "2022-01-25T12:24:03.525Z"
   },
   {
    "duration": 5,
    "start_time": "2022-01-25T12:24:03.565Z"
   },
   {
    "duration": 32,
    "start_time": "2022-01-25T12:24:03.573Z"
   },
   {
    "duration": 87,
    "start_time": "2022-01-25T12:24:03.613Z"
   },
   {
    "duration": 21,
    "start_time": "2022-01-25T12:24:03.706Z"
   },
   {
    "duration": 70,
    "start_time": "2022-01-25T12:24:03.729Z"
   },
   {
    "duration": 24,
    "start_time": "2022-01-25T12:24:03.801Z"
   },
   {
    "duration": 70,
    "start_time": "2022-01-25T12:24:03.827Z"
   },
   {
    "duration": 14,
    "start_time": "2022-01-25T12:24:03.900Z"
   },
   {
    "duration": 24,
    "start_time": "2022-01-25T12:24:03.916Z"
   },
   {
    "duration": 17,
    "start_time": "2022-01-25T12:24:03.966Z"
   },
   {
    "duration": 24,
    "start_time": "2022-01-25T12:24:03.986Z"
   },
   {
    "duration": 54,
    "start_time": "2022-01-25T12:24:04.013Z"
   },
   {
    "duration": 40,
    "start_time": "2022-01-25T12:24:04.069Z"
   },
   {
    "duration": 6,
    "start_time": "2022-01-25T12:24:04.112Z"
   },
   {
    "duration": 60,
    "start_time": "2022-01-25T12:24:04.121Z"
   },
   {
    "duration": 6,
    "start_time": "2022-01-25T12:24:04.184Z"
   },
   {
    "duration": 48,
    "start_time": "2022-01-25T12:24:04.193Z"
   },
   {
    "duration": 24,
    "start_time": "2022-01-25T12:24:04.243Z"
   },
   {
    "duration": 16,
    "start_time": "2022-01-25T12:24:04.270Z"
   },
   {
    "duration": 8,
    "start_time": "2022-01-25T12:24:04.288Z"
   },
   {
    "duration": 523,
    "start_time": "2022-01-25T12:24:04.298Z"
   },
   {
    "duration": 15,
    "start_time": "2022-01-25T12:24:04.824Z"
   },
   {
    "duration": 30,
    "start_time": "2022-01-25T12:24:04.841Z"
   },
   {
    "duration": 557,
    "start_time": "2022-01-25T12:24:04.874Z"
   },
   {
    "duration": 793,
    "start_time": "2022-01-25T12:24:05.433Z"
   },
   {
    "duration": 403,
    "start_time": "2022-01-25T12:24:06.229Z"
   },
   {
    "duration": 9,
    "start_time": "2022-01-25T12:24:06.634Z"
   },
   {
    "duration": 44,
    "start_time": "2022-01-25T12:24:06.645Z"
   },
   {
    "duration": 20,
    "start_time": "2022-01-25T12:24:06.691Z"
   },
   {
    "duration": 14,
    "start_time": "2022-01-25T12:24:06.713Z"
   },
   {
    "duration": 54,
    "start_time": "2022-01-25T12:24:06.729Z"
   },
   {
    "duration": 15,
    "start_time": "2022-01-25T12:24:06.785Z"
   },
   {
    "duration": 18,
    "start_time": "2022-01-25T12:24:06.802Z"
   },
   {
    "duration": 6832,
    "start_time": "2022-01-25T12:24:06.822Z"
   },
   {
    "duration": 497,
    "start_time": "2022-01-25T12:24:13.657Z"
   },
   {
    "duration": 499,
    "start_time": "2022-01-25T12:24:14.165Z"
   },
   {
    "duration": 536,
    "start_time": "2022-01-25T12:24:14.667Z"
   },
   {
    "duration": 24,
    "start_time": "2022-01-25T12:24:15.206Z"
   },
   {
    "duration": 41,
    "start_time": "2022-01-25T12:24:15.234Z"
   },
   {
    "duration": 593,
    "start_time": "2022-01-25T12:24:15.278Z"
   },
   {
    "duration": 9,
    "start_time": "2022-01-25T12:24:15.873Z"
   },
   {
    "duration": 22,
    "start_time": "2022-01-25T12:24:15.885Z"
   },
   {
    "duration": 55,
    "start_time": "2022-01-25T12:24:15.909Z"
   },
   {
    "duration": 9,
    "start_time": "2022-01-25T12:24:15.967Z"
   },
   {
    "duration": 21,
    "start_time": "2022-01-25T12:24:15.978Z"
   },
   {
    "duration": 78,
    "start_time": "2022-01-25T12:24:16.002Z"
   },
   {
    "duration": 9,
    "start_time": "2022-01-25T12:24:16.083Z"
   },
   {
    "duration": 17,
    "start_time": "2022-01-25T12:24:16.102Z"
   },
   {
    "duration": 42,
    "start_time": "2022-01-25T12:24:16.122Z"
   },
   {
    "duration": 431,
    "start_time": "2022-01-25T12:24:16.167Z"
   },
   {
    "duration": 9,
    "start_time": "2022-01-25T12:24:16.600Z"
   },
   {
    "duration": 23,
    "start_time": "2022-01-25T12:24:16.612Z"
   },
   {
    "duration": 55,
    "start_time": "2022-01-25T12:24:16.637Z"
   },
   {
    "duration": 8,
    "start_time": "2022-01-25T12:24:16.695Z"
   },
   {
    "duration": 25,
    "start_time": "2022-01-25T12:24:16.705Z"
   },
   {
    "duration": 72,
    "start_time": "2022-01-25T12:24:16.732Z"
   },
   {
    "duration": 10,
    "start_time": "2022-01-25T12:24:16.808Z"
   },
   {
    "duration": 51,
    "start_time": "2022-01-25T12:24:16.821Z"
   },
   {
    "duration": 437,
    "start_time": "2022-01-25T12:24:16.875Z"
   },
   {
    "duration": 410,
    "start_time": "2022-01-25T12:24:17.315Z"
   },
   {
    "duration": 372,
    "start_time": "2022-01-25T12:24:17.727Z"
   },
   {
    "duration": 437,
    "start_time": "2022-01-25T12:24:18.102Z"
   },
   {
    "duration": 395,
    "start_time": "2022-01-25T12:24:18.541Z"
   },
   {
    "duration": 401,
    "start_time": "2022-01-25T12:24:18.939Z"
   },
   {
    "duration": 1346,
    "start_time": "2022-01-25T12:24:19.344Z"
   },
   {
    "duration": 16,
    "start_time": "2022-01-25T12:24:20.693Z"
   },
   {
    "duration": 5,
    "start_time": "2022-01-25T12:24:20.712Z"
   },
   {
    "duration": 46,
    "start_time": "2022-01-25T12:24:20.720Z"
   },
   {
    "duration": 11,
    "start_time": "2022-01-25T12:24:20.769Z"
   },
   {
    "duration": 7,
    "start_time": "2022-01-25T12:24:20.783Z"
   },
   {
    "duration": 10,
    "start_time": "2022-01-25T12:24:20.793Z"
   },
   {
    "duration": 10,
    "start_time": "2022-01-25T12:24:20.806Z"
   },
   {
    "duration": 53,
    "start_time": "2022-01-25T12:24:20.818Z"
   },
   {
    "duration": 10,
    "start_time": "2022-01-25T12:24:20.874Z"
   },
   {
    "duration": 6,
    "start_time": "2022-01-25T12:24:20.887Z"
   },
   {
    "duration": 12,
    "start_time": "2022-01-25T12:24:20.896Z"
   },
   {
    "duration": 10,
    "start_time": "2022-01-25T12:24:20.910Z"
   },
   {
    "duration": 50,
    "start_time": "2022-01-25T12:24:20.922Z"
   },
   {
    "duration": 6,
    "start_time": "2022-01-25T12:24:20.974Z"
   },
   {
    "duration": 12,
    "start_time": "2022-01-25T12:24:20.982Z"
   },
   {
    "duration": 9,
    "start_time": "2022-01-25T12:24:20.996Z"
   },
   {
    "duration": 12,
    "start_time": "2022-01-25T12:24:21.007Z"
   },
   {
    "duration": 22,
    "start_time": "2022-01-25T12:24:21.021Z"
   },
   {
    "duration": 4,
    "start_time": "2022-01-25T12:24:21.066Z"
   },
   {
    "duration": 5,
    "start_time": "2022-01-25T13:44:55.291Z"
   },
   {
    "duration": 245,
    "start_time": "2022-01-25T13:45:48.702Z"
   },
   {
    "duration": 1118,
    "start_time": "2022-01-25T13:46:38.521Z"
   },
   {
    "duration": 165,
    "start_time": "2022-01-25T13:46:39.641Z"
   },
   {
    "duration": 11,
    "start_time": "2022-01-25T13:46:39.808Z"
   },
   {
    "duration": 142,
    "start_time": "2022-01-25T13:46:39.821Z"
   },
   {
    "duration": 9,
    "start_time": "2022-01-25T13:46:39.965Z"
   },
   {
    "duration": 9,
    "start_time": "2022-01-25T13:46:39.975Z"
   },
   {
    "duration": 103,
    "start_time": "2022-01-25T13:46:39.986Z"
   },
   {
    "duration": 9,
    "start_time": "2022-01-25T13:46:40.091Z"
   },
   {
    "duration": 23,
    "start_time": "2022-01-25T13:46:40.103Z"
   },
   {
    "duration": 10,
    "start_time": "2022-01-25T13:46:40.129Z"
   },
   {
    "duration": 35,
    "start_time": "2022-01-25T13:46:40.140Z"
   },
   {
    "duration": 10,
    "start_time": "2022-01-25T13:46:40.176Z"
   },
   {
    "duration": 11,
    "start_time": "2022-01-25T13:46:40.188Z"
   },
   {
    "duration": 36,
    "start_time": "2022-01-25T13:46:40.200Z"
   },
   {
    "duration": 20,
    "start_time": "2022-01-25T13:46:40.238Z"
   },
   {
    "duration": 39,
    "start_time": "2022-01-25T13:46:40.259Z"
   },
   {
    "duration": 5,
    "start_time": "2022-01-25T13:46:40.300Z"
   },
   {
    "duration": 7,
    "start_time": "2022-01-25T13:46:40.307Z"
   },
   {
    "duration": 8,
    "start_time": "2022-01-25T13:46:40.316Z"
   },
   {
    "duration": 4,
    "start_time": "2022-01-25T13:46:40.325Z"
   },
   {
    "duration": 7,
    "start_time": "2022-01-25T13:46:40.331Z"
   },
   {
    "duration": 23,
    "start_time": "2022-01-25T13:46:40.340Z"
   },
   {
    "duration": 67,
    "start_time": "2022-01-25T13:46:40.364Z"
   },
   {
    "duration": 16,
    "start_time": "2022-01-25T13:46:40.433Z"
   },
   {
    "duration": 49,
    "start_time": "2022-01-25T13:46:40.450Z"
   },
   {
    "duration": 19,
    "start_time": "2022-01-25T13:46:40.501Z"
   },
   {
    "duration": 38,
    "start_time": "2022-01-25T13:46:40.526Z"
   },
   {
    "duration": 35,
    "start_time": "2022-01-25T13:46:40.568Z"
   },
   {
    "duration": 14,
    "start_time": "2022-01-25T13:46:40.605Z"
   },
   {
    "duration": 10,
    "start_time": "2022-01-25T13:46:40.621Z"
   },
   {
    "duration": 15,
    "start_time": "2022-01-25T13:46:40.632Z"
   },
   {
    "duration": 11,
    "start_time": "2022-01-25T13:46:40.649Z"
   },
   {
    "duration": 50,
    "start_time": "2022-01-25T13:46:40.661Z"
   },
   {
    "duration": 7,
    "start_time": "2022-01-25T13:46:40.713Z"
   },
   {
    "duration": 20,
    "start_time": "2022-01-25T13:46:40.721Z"
   },
   {
    "duration": 3,
    "start_time": "2022-01-25T13:46:40.743Z"
   },
   {
    "duration": 24,
    "start_time": "2022-01-25T13:46:40.748Z"
   },
   {
    "duration": 28,
    "start_time": "2022-01-25T13:46:40.774Z"
   },
   {
    "duration": 10,
    "start_time": "2022-01-25T13:46:40.803Z"
   },
   {
    "duration": 6,
    "start_time": "2022-01-25T13:46:40.814Z"
   },
   {
    "duration": 301,
    "start_time": "2022-01-25T13:46:40.822Z"
   },
   {
    "duration": 11,
    "start_time": "2022-01-25T13:46:41.125Z"
   },
   {
    "duration": 13,
    "start_time": "2022-01-25T13:46:41.137Z"
   },
   {
    "duration": 300,
    "start_time": "2022-01-25T13:46:41.152Z"
   },
   {
    "duration": 605,
    "start_time": "2022-01-25T13:46:41.454Z"
   },
   {
    "duration": 283,
    "start_time": "2022-01-25T13:46:42.061Z"
   },
   {
    "duration": 6,
    "start_time": "2022-01-25T13:46:42.346Z"
   },
   {
    "duration": 21,
    "start_time": "2022-01-25T13:46:42.353Z"
   },
   {
    "duration": 24,
    "start_time": "2022-01-25T13:46:42.375Z"
   },
   {
    "duration": 11,
    "start_time": "2022-01-25T13:46:42.401Z"
   },
   {
    "duration": 23,
    "start_time": "2022-01-25T13:46:42.413Z"
   },
   {
    "duration": 10,
    "start_time": "2022-01-25T13:46:42.438Z"
   },
   {
    "duration": 11,
    "start_time": "2022-01-25T13:46:42.450Z"
   },
   {
    "duration": 4688,
    "start_time": "2022-01-25T13:46:42.462Z"
   },
   {
    "duration": 408,
    "start_time": "2022-01-25T13:46:47.151Z"
   },
   {
    "duration": 348,
    "start_time": "2022-01-25T13:46:47.560Z"
   },
   {
    "duration": 348,
    "start_time": "2022-01-25T13:46:47.910Z"
   },
   {
    "duration": 11,
    "start_time": "2022-01-25T13:46:48.260Z"
   },
   {
    "duration": 28,
    "start_time": "2022-01-25T13:46:48.272Z"
   },
   {
    "duration": 284,
    "start_time": "2022-01-25T13:46:48.302Z"
   },
   {
    "duration": 12,
    "start_time": "2022-01-25T13:46:48.588Z"
   },
   {
    "duration": 29,
    "start_time": "2022-01-25T13:46:48.602Z"
   },
   {
    "duration": 20,
    "start_time": "2022-01-25T13:46:48.632Z"
   },
   {
    "duration": 10,
    "start_time": "2022-01-25T13:46:48.654Z"
   },
   {
    "duration": 28,
    "start_time": "2022-01-25T13:46:48.666Z"
   },
   {
    "duration": 42,
    "start_time": "2022-01-25T13:46:48.696Z"
   },
   {
    "duration": 7,
    "start_time": "2022-01-25T13:46:48.740Z"
   },
   {
    "duration": 27,
    "start_time": "2022-01-25T13:46:48.749Z"
   },
   {
    "duration": 26,
    "start_time": "2022-01-25T13:46:48.777Z"
   },
   {
    "duration": 270,
    "start_time": "2022-01-25T13:46:48.805Z"
   },
   {
    "duration": 7,
    "start_time": "2022-01-25T13:46:49.077Z"
   },
   {
    "duration": 20,
    "start_time": "2022-01-25T13:46:49.086Z"
   },
   {
    "duration": 22,
    "start_time": "2022-01-25T13:46:49.108Z"
   },
   {
    "duration": 6,
    "start_time": "2022-01-25T13:46:49.132Z"
   },
   {
    "duration": 25,
    "start_time": "2022-01-25T13:46:49.139Z"
   },
   {
    "duration": 48,
    "start_time": "2022-01-25T13:46:49.165Z"
   },
   {
    "duration": 7,
    "start_time": "2022-01-25T13:46:49.214Z"
   },
   {
    "duration": 325,
    "start_time": "2022-01-25T13:46:49.222Z"
   },
   {
    "duration": 365,
    "start_time": "2022-01-25T13:46:49.549Z"
   },
   {
    "duration": 261,
    "start_time": "2022-01-25T13:46:49.916Z"
   },
   {
    "duration": 256,
    "start_time": "2022-01-25T13:46:50.183Z"
   },
   {
    "duration": 266,
    "start_time": "2022-01-25T13:46:50.441Z"
   },
   {
    "duration": 262,
    "start_time": "2022-01-25T13:46:50.710Z"
   },
   {
    "duration": 253,
    "start_time": "2022-01-25T13:46:50.974Z"
   },
   {
    "duration": 984,
    "start_time": "2022-01-25T13:46:51.229Z"
   },
   {
    "duration": 10,
    "start_time": "2022-01-25T13:46:52.215Z"
   },
   {
    "duration": 8,
    "start_time": "2022-01-25T13:46:52.227Z"
   },
   {
    "duration": 13,
    "start_time": "2022-01-25T13:46:52.236Z"
   },
   {
    "duration": 13,
    "start_time": "2022-01-25T13:46:52.250Z"
   },
   {
    "duration": 9,
    "start_time": "2022-01-25T13:46:52.264Z"
   },
   {
    "duration": 10,
    "start_time": "2022-01-25T13:46:52.277Z"
   },
   {
    "duration": 13,
    "start_time": "2022-01-25T13:46:52.289Z"
   },
   {
    "duration": 6,
    "start_time": "2022-01-25T13:46:52.303Z"
   },
   {
    "duration": 6,
    "start_time": "2022-01-25T13:46:52.310Z"
   },
   {
    "duration": 14,
    "start_time": "2022-01-25T13:46:52.317Z"
   },
   {
    "duration": 12,
    "start_time": "2022-01-25T13:46:52.332Z"
   },
   {
    "duration": 10,
    "start_time": "2022-01-25T13:46:52.346Z"
   },
   {
    "duration": 25,
    "start_time": "2022-01-25T13:46:52.358Z"
   },
   {
    "duration": 7,
    "start_time": "2022-01-25T13:46:52.385Z"
   },
   {
    "duration": 13,
    "start_time": "2022-01-25T13:46:52.393Z"
   },
   {
    "duration": 7,
    "start_time": "2022-01-25T13:46:52.407Z"
   },
   {
    "duration": 13,
    "start_time": "2022-01-25T13:46:52.416Z"
   },
   {
    "duration": 19,
    "start_time": "2022-01-25T13:46:52.431Z"
   },
   {
    "duration": 11,
    "start_time": "2022-01-25T13:46:52.451Z"
   },
   {
    "duration": 1318,
    "start_time": "2022-11-23T16:16:04.605Z"
   },
   {
    "duration": 529,
    "start_time": "2022-11-23T16:16:06.452Z"
   },
   {
    "duration": 13,
    "start_time": "2022-11-23T16:16:07.584Z"
   },
   {
    "duration": 427,
    "start_time": "2022-11-23T16:16:11.014Z"
   },
   {
    "duration": 9,
    "start_time": "2022-11-23T16:16:12.891Z"
   },
   {
    "duration": 5,
    "start_time": "2022-11-23T16:16:14.806Z"
   },
   {
    "duration": 160,
    "start_time": "2022-11-23T16:16:17.649Z"
   }
  ],
  "kernelspec": {
   "display_name": "Python 3 (ipykernel)",
   "language": "python",
   "name": "python3"
  },
  "language_info": {
   "codemirror_mode": {
    "name": "ipython",
    "version": 3
   },
   "file_extension": ".py",
   "mimetype": "text/x-python",
   "name": "python",
   "nbconvert_exporter": "python",
   "pygments_lexer": "ipython3",
   "version": "3.9.5"
  },
  "toc": {
   "base_numbering": 1,
   "nav_menu": {},
   "number_sections": true,
   "sideBar": true,
   "skip_h1_title": true,
   "title_cell": "Table of Contents",
   "title_sidebar": "Contents",
   "toc_cell": false,
   "toc_position": {},
   "toc_section_display": true,
   "toc_window_display": false
  }
 },
 "nbformat": 4,
 "nbformat_minor": 2
}
